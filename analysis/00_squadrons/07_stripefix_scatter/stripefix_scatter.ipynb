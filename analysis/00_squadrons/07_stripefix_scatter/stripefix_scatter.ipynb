{
 "metadata": {
  "name": "",
  "signature": "sha256:fff5b03a4ab05f483286b72a28b17c8e2c9e9d5fa922f2463a6dc921f79d883c"
 },
 "nbformat": 3,
 "nbformat_minor": 0,
 "worksheets": [
  {
   "cells": [
    {
     "cell_type": "code",
     "collapsed": false,
     "input": [
      "import neo\n",
      "import quantities as pq\n",
      "import flylib\n",
      "import db_access as dba"
     ],
     "language": "python",
     "metadata": {},
     "outputs": [
      {
       "output_type": "stream",
       "stream": "stdout",
       "text": [
        "['static_test_roll_90.mat', 'static_test_roll_270.mat', 'static_test_yaw_90.mat', 'static_test_yaw_270.mat']\n"
       ]
      }
     ],
     "prompt_number": 1
    },
    {
     "cell_type": "code",
     "collapsed": false,
     "input": [
      "starfield1_group = [151,153,154,155,156,157,158,159,160,161,162,163,165,166,167,168,169]"
     ],
     "language": "python",
     "metadata": {},
     "outputs": [],
     "prompt_number": 2
    },
    {
     "cell_type": "code",
     "collapsed": false,
     "input": [
      "fly_db = dba.get_db()\n",
      "swarm = flylib.Squadron(fly_db,starfield1_group)"
     ],
     "language": "python",
     "metadata": {},
     "outputs": [],
     "prompt_number": 3
    },
    {
     "cell_type": "code",
     "collapsed": false,
     "input": [
      "keylist = ['b1', 'b2', 'b3', 'i1', 'i2', 'iii1', 'iii234','hg1', 'hg234' ]"
     ],
     "language": "python",
     "metadata": {},
     "outputs": [],
     "prompt_number": 4
    },
    {
     "cell_type": "code",
     "collapsed": false,
     "input": [
      "import cPickle\n",
      "idx = squeeze(argwhere(array(starfield1_group) == 156))\n",
      "fly = swarm.flies[idx]\n",
      "exp_key = 'img_starfield_t2_rep1'\n",
      "expmnt = fly.experiments[exp_key]\n",
      "img_star = fly.experiments[exp_key]\n",
      "f = open(img_star.fly_path + exp_key + '_roi.cpkl')\n",
      "roi_data = cPickle.load(f)\n",
      "f.close()"
     ],
     "language": "python",
     "metadata": {},
     "outputs": [],
     "prompt_number": 5
    },
    {
     "cell_type": "code",
     "collapsed": false,
     "input": [
      "xpos = np.array(expmnt.exp_record['tiff_data']['axon_framebase']['Xpos'][-5000:])*2*pi/10\n",
      "lwing_angles = np.array(expmnt.exp_record['tiff_data']['axon_framebase']['Ph0'][-5000:])/5\n",
      "rwing_angles = np.array(expmnt.exp_record['tiff_data']['axon_framebase']['Ph1'][-5000:])/5\n",
      "lmr_angles = np.array(expmnt.exp_record['tiff_data']['axon_framebase']['Ph2'][-5000:])/5\n",
      "imgs = np.array(expmnt.exp_record['tiff_data']['images'][-5000:,:,:])\n",
      "from scipy import ndimage\n",
      "imgs = ndimage.interpolation.rotate(imgs, -90, axes=(1, 2), reshape=True)"
     ],
     "language": "python",
     "metadata": {},
     "outputs": [],
     "prompt_number": 6
    },
    {
     "cell_type": "code",
     "collapsed": false,
     "input": [
      "plot(roi_data['b1'][-5000:])"
     ],
     "language": "python",
     "metadata": {},
     "outputs": [
      {
       "metadata": {},
       "output_type": "pyout",
       "prompt_number": 7,
       "text": [
        "[<matplotlib.lines.Line2D at 0x8308790>]"
       ]
      }
     ],
     "prompt_number": 7
    },
    {
     "cell_type": "code",
     "collapsed": false,
     "input": [
      "plot(roi_data['i1'][-5000:])"
     ],
     "language": "python",
     "metadata": {},
     "outputs": [
      {
       "metadata": {},
       "output_type": "pyout",
       "prompt_number": 8,
       "text": [
        "[<matplotlib.lines.Line2D at 0x8323690>]"
       ]
      }
     ],
     "prompt_number": 8
    },
    {
     "cell_type": "code",
     "collapsed": false,
     "input": [
      "figure();plot(roi_data['b1'][-5000:],rwing_angles,'o')"
     ],
     "language": "python",
     "metadata": {},
     "outputs": [
      {
       "metadata": {},
       "output_type": "pyout",
       "prompt_number": 37,
       "text": [
        "[<matplotlib.lines.Line2D at 0xcfde390>]"
       ]
      }
     ],
     "prompt_number": 37
    },
    {
     "cell_type": "code",
     "collapsed": false,
     "input": [
      "figure();plot(roi_data['i1'][-5000:],rwing_angles,'o',alpha = 0.2)"
     ],
     "language": "python",
     "metadata": {},
     "outputs": [
      {
       "metadata": {},
       "output_type": "pyout",
       "prompt_number": 12,
       "text": [
        "[<matplotlib.lines.Line2D at 0x8fe1b90>]"
       ]
      }
     ],
     "prompt_number": 12
    },
    {
     "cell_type": "code",
     "collapsed": false,
     "input": [
      "from matplotlib.colors import LogNorm\n",
      "for fnum,idx in enumerate(starfield1_group):\n",
      "    import cPickle\n",
      "    fly = swarm.flies[fnum]\n",
      "    exp_key = 'img_starfield_t2_rep1'\n",
      "    expmnt = fly.experiments[exp_key]\n",
      "    img_star = fly.experiments[exp_key]\n",
      "    f = open(img_star.fly_path + exp_key + '_roi.cpkl')\n",
      "    roi_data = cPickle.load(f)\n",
      "    f.close()\n",
      "\n",
      "    xpos = np.array(expmnt.exp_record['tiff_data']['axon_framebase']['Xpos'][-5000:])*2*pi/10\n",
      "    lwing_angles = np.array(expmnt.exp_record['tiff_data']['axon_framebase']['Ph0'][-5000:])/5\n",
      "    rwing_angles = np.array(expmnt.exp_record['tiff_data']['axon_framebase']['Ph1'][-5000:])/5\n",
      "    lmr_angles = np.array(expmnt.exp_record['tiff_data']['axon_framebase']['Ph2'][-5000:])/5\n",
      "    figure()\n",
      "    ax1 = subplot(3,3,1)\n",
      "    for i,key in enumerate(keylist):\n",
      "        subplot(3,3,1+i)\n",
      "        sig = roi_data[key][-5000:]\n",
      "        sig /= mean(sig)\n",
      "        h = hist2d(sig,rad2deg(rwing_angles),bins = (linspace(0,3,100),linspace(20,70,100)),cmap = cm.hot,norm = LogNorm())\n",
      "        #h = hist2d(sig,gradient(rad2deg(rwing_angles)),bins = (linspace(0,2,100),linspace(-3,3,100)),cmap = cm.afmhot)\n",
      "        gca().set_title(key)\n",
      "    suptitle('fly%s'%(idx))\n",
      "    savefig('fly%s'%(idx))\n",
      "    close()"
     ],
     "language": "python",
     "metadata": {},
     "outputs": [],
     "prompt_number": 15
    },
    {
     "cell_type": "code",
     "collapsed": false,
     "input": [
      "#yse montage *.png -geometry 512X212 -tile 1X3 montage.pdf to create summary"
     ],
     "language": "python",
     "metadata": {},
     "outputs": [
      {
       "metadata": {},
       "output_type": "pyout",
       "prompt_number": 44,
       "text": [
        "[<matplotlib.lines.Line2D at 0xc6a27d0>]"
       ]
      }
     ],
     "prompt_number": 44
    },
    {
     "cell_type": "code",
     "collapsed": false,
     "input": [
      " h = hist2d(sig,gradient(rad2deg(rwing_angles)),bins= 100,cmap = cm.afmhot)"
     ],
     "language": "python",
     "metadata": {},
     "outputs": [],
     "prompt_number": 72
    },
    {
     "cell_type": "code",
     "collapsed": false,
     "input": [
      "close('all')"
     ],
     "language": "python",
     "metadata": {},
     "outputs": [],
     "prompt_number": 11
    },
    {
     "cell_type": "code",
     "collapsed": false,
     "input": [],
     "language": "python",
     "metadata": {},
     "outputs": []
    }
   ],
   "metadata": {}
  }
 ]
}