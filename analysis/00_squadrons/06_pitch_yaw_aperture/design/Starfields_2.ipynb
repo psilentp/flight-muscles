{
 "metadata": {
  "name": "",
  "signature": "sha256:335935445c576c218bb4215956b05809abca328fdda5c8a5b4cf5c647d14a475"
 },
 "nbformat": 3,
 "nbformat_minor": 0,
 "worksheets": [
  {
   "cells": [
    {
     "cell_type": "code",
     "collapsed": false,
     "input": [
      "import arenaclouds as acld"
     ],
     "language": "python",
     "metadata": {},
     "outputs": [],
     "prompt_number": 1
    },
    {
     "cell_type": "code",
     "collapsed": false,
     "input": [
      "reload(acld)"
     ],
     "language": "python",
     "metadata": {},
     "outputs": [
      {
       "metadata": {},
       "output_type": "pyout",
       "prompt_number": 4,
       "text": [
        "<module 'arenaclouds' from '/media/FlyDataB/flight-muscles/src/arenaclouds.py'>"
       ]
      }
     ],
     "prompt_number": 4
    },
    {
     "cell_type": "code",
     "collapsed": false,
     "input": [
      "from scipy import io\n",
      "frame_rate = 60.0 \n",
      "acld.display_shape = (96,32)\n",
      "deg_per_pix = 360/display_shape[0]\n",
      "translation_velocity = 0.3 #2.25*frame_rate\n",
      "#equator_pole = deg2rad(90)\n",
      "forward_trans_pole = deg2rad(90)\n",
      "backward_trans_pole = deg2rad(270)\n",
      "upward_trans_pole = deg2rad(90)\n",
      "downward_trans_pole = deg2rad(270)\n",
      "bit_depth = 3\n",
      "epoch_duration = 2.25\n",
      "angular_velocity = (2*np.pi)/epoch_duration\n",
      "\n",
      "##################roll\n",
      "roll_imgs_90 = acld.make_spin_pattern_equator(forward_trans_pole,\n",
      "                                angular_velocity,\n",
      "                                frame_rate,\n",
      "                                max_sensory_radius = 3.0,\n",
      "                                star_density = 8)\n",
      "roll_imgs_90 = acld.adjust_depth(imgs_90)\n",
      "acld.play_pattern(roll_imgs_90)\n",
      "\n",
      "#################roll\n",
      "roll_imgs_270 = acld.make_spin_pattern_equator(backward_trans_pole,\n",
      "                                angular_velocity,\n",
      "                                frame_rate,\n",
      "                                max_sensory_radius = 3.0,\n",
      "                                star_density = 8)\n",
      "roll_imgs_270 = acld.adjust_depth(roll_imgs_270)\n",
      "acld.play_pattern(roll_imgs_270)\n",
      "\n",
      "##################yaw\n",
      "yaw_imgs_90 = acld.make_spin_pattern_coromeridian(pi/2,\n",
      "                                angular_velocity,\n",
      "                                frame_rate,\n",
      "                                max_sensory_radius = 3.0,\n",
      "                                star_density = 8)\n",
      "yaw_imgs_90 = acld.adjust_depth(yaw_imgs_90)\n",
      "acld.play_pattern(yaw_imgs_90)\n",
      "\n",
      "##################yaw\n",
      "yaw_imgs_270 = acld.make_spin_pattern_coromeridian(3*(pi/2),\n",
      "                                angular_velocity,\n",
      "                                frame_rate,\n",
      "                                max_sensory_radius = 3.0,\n",
      "                                star_density = 8)\n",
      "yaw_imgs_270 = acld.adjust_depth(yaw_imgs_270)\n",
      "acld.play_pattern(yaw_imgs_270)\n",
      "\n",
      "static_test_roll_90 = np.zeros(hstack([shape(roll_imgs_90),137]))\n",
      "static_test_roll_270 = np.zeros(hstack([shape(roll_imgs_270),137]))\n",
      "\n",
      "static_test_roll_90[:,:,:,0] = roll_imgs_90[:,:,0,np.newaxis]\n",
      "static_test_roll_90[:,:,:,1:] = transpose(roll_imgs_90[:,:,:,np.newaxis],axes = (0,1,3,2))\n",
      "\n",
      "static_test_roll_270[:,:,:,0] = roll_imgs_270[:,:,0,np.newaxis]\n",
      "static_test_roll_270[:,:,:,1:] = transpose(roll_imgs_270[:,:,:,np.newaxis],axes = (0,1,3,2))\n",
      "\n",
      "io.savemat('static_test_roll_90',{'imgs':static_test_roll_90})\n",
      "io.savemat('static_test_roll_270',{'imgs':static_test_roll_270})\n",
      "\n",
      "\n",
      "static_test_yaw_90 = np.zeros(hstack([shape(yaw_imgs_90),137]))\n",
      "static_test_yaw_270 = np.zeros(hstack([shape(yaw_imgs_90),137]))\n",
      "\n",
      "static_test_yaw_90[:,:,:,0] = yaw_imgs_90[:,:,0,np.newaxis]\n",
      "static_test_yaw_90[:,:,:,1:] = transpose(yaw_imgs_90[:,:,:,np.newaxis],axes = (0,1,3,2))\n",
      "\n",
      "static_test_yaw_270[:,:,:,0] = yaw_imgs_270[:,:,0,np.newaxis]\n",
      "static_test_yaw_270[:,:,:,1:] = transpose(yaw_imgs_270[:,:,:,np.newaxis],axes = (0,1,3,2))\n",
      "\n",
      "io.savemat('static_test_yaw_90',{'imgs':static_test_yaw_90})\n",
      "io.savemat('static_test_yaw_270',{'imgs':static_test_yaw_270})"
     ],
     "language": "python",
     "metadata": {},
     "outputs": [],
     "prompt_number": 13
    },
    {
     "cell_type": "code",
     "collapsed": false,
     "input": [],
     "language": "python",
     "metadata": {},
     "outputs": [],
     "prompt_number": 13
    },
    {
     "cell_type": "code",
     "collapsed": false,
     "input": [],
     "language": "python",
     "metadata": {},
     "outputs": [],
     "prompt_number": 13
    },
    {
     "cell_type": "code",
     "collapsed": false,
     "input": [],
     "language": "python",
     "metadata": {},
     "outputs": [],
     "prompt_number": 13
    },
    {
     "cell_type": "code",
     "collapsed": false,
     "input": [],
     "language": "python",
     "metadata": {},
     "outputs": [],
     "prompt_number": 13
    },
    {
     "cell_type": "code",
     "collapsed": false,
     "input": [],
     "language": "python",
     "metadata": {},
     "outputs": [],
     "prompt_number": 7
    },
    {
     "cell_type": "code",
     "collapsed": false,
     "input": [],
     "language": "python",
     "metadata": {},
     "outputs": [],
     "prompt_number": 13
    },
    {
     "cell_type": "code",
     "collapsed": false,
     "input": [],
     "language": "python",
     "metadata": {},
     "outputs": [],
     "prompt_number": 13
    },
    {
     "cell_type": "code",
     "collapsed": false,
     "input": [],
     "language": "python",
     "metadata": {},
     "outputs": [],
     "prompt_number": 13
    },
    {
     "cell_type": "code",
     "collapsed": false,
     "input": [],
     "language": "python",
     "metadata": {},
     "outputs": [],
     "prompt_number": 13
    },
    {
     "cell_type": "code",
     "collapsed": false,
     "input": [],
     "language": "python",
     "metadata": {},
     "outputs": [],
     "prompt_number": 13
    },
    {
     "cell_type": "code",
     "collapsed": false,
     "input": [],
     "language": "python",
     "metadata": {},
     "outputs": [],
     "prompt_number": 13
    },
    {
     "cell_type": "code",
     "collapsed": false,
     "input": [],
     "language": "python",
     "metadata": {},
     "outputs": [],
     "prompt_number": 13
    },
    {
     "cell_type": "code",
     "collapsed": false,
     "input": [],
     "language": "python",
     "metadata": {},
     "outputs": [],
     "prompt_number": 13
    },
    {
     "cell_type": "code",
     "collapsed": false,
     "input": [],
     "language": "python",
     "metadata": {},
     "outputs": [],
     "prompt_number": 13
    },
    {
     "cell_type": "code",
     "collapsed": false,
     "input": [],
     "language": "python",
     "metadata": {},
     "outputs": [],
     "prompt_number": 13
    },
    {
     "cell_type": "code",
     "collapsed": false,
     "input": [],
     "language": "python",
     "metadata": {},
     "outputs": [],
     "prompt_number": 13
    },
    {
     "cell_type": "code",
     "collapsed": false,
     "input": [],
     "language": "python",
     "metadata": {},
     "outputs": [],
     "prompt_number": 13
    },
    {
     "cell_type": "code",
     "collapsed": false,
     "input": [],
     "language": "python",
     "metadata": {},
     "outputs": [],
     "prompt_number": 13
    },
    {
     "cell_type": "code",
     "collapsed": false,
     "input": [],
     "language": "python",
     "metadata": {},
     "outputs": [],
     "prompt_number": 13
    },
    {
     "cell_type": "code",
     "collapsed": false,
     "input": [],
     "language": "python",
     "metadata": {},
     "outputs": [],
     "prompt_number": 13
    },
    {
     "cell_type": "code",
     "collapsed": false,
     "input": [],
     "language": "python",
     "metadata": {},
     "outputs": [],
     "prompt_number": 13
    },
    {
     "cell_type": "code",
     "collapsed": false,
     "input": [],
     "language": "python",
     "metadata": {},
     "outputs": [],
     "prompt_number": 13
    },
    {
     "cell_type": "code",
     "collapsed": false,
     "input": [],
     "language": "python",
     "metadata": {},
     "outputs": [],
     "prompt_number": 13
    },
    {
     "cell_type": "code",
     "collapsed": false,
     "input": [],
     "language": "python",
     "metadata": {},
     "outputs": [],
     "prompt_number": 13
    },
    {
     "cell_type": "code",
     "collapsed": false,
     "input": [],
     "language": "python",
     "metadata": {},
     "outputs": [],
     "prompt_number": 13
    },
    {
     "cell_type": "code",
     "collapsed": false,
     "input": [],
     "language": "python",
     "metadata": {},
     "outputs": [],
     "prompt_number": 13
    },
    {
     "cell_type": "code",
     "collapsed": false,
     "input": [],
     "language": "python",
     "metadata": {},
     "outputs": [],
     "prompt_number": 13
    },
    {
     "cell_type": "code",
     "collapsed": false,
     "input": [],
     "language": "python",
     "metadata": {},
     "outputs": [],
     "prompt_number": 13
    },
    {
     "cell_type": "code",
     "collapsed": false,
     "input": [],
     "language": "python",
     "metadata": {},
     "outputs": [],
     "prompt_number": 13
    },
    {
     "cell_type": "code",
     "collapsed": false,
     "input": [],
     "language": "python",
     "metadata": {},
     "outputs": [],
     "prompt_number": 13
    },
    {
     "cell_type": "code",
     "collapsed": false,
     "input": [],
     "language": "python",
     "metadata": {},
     "outputs": [],
     "prompt_number": 13
    },
    {
     "cell_type": "code",
     "collapsed": false,
     "input": [],
     "language": "python",
     "metadata": {},
     "outputs": [],
     "prompt_number": 13
    },
    {
     "cell_type": "code",
     "collapsed": false,
     "input": [],
     "language": "python",
     "metadata": {},
     "outputs": [],
     "prompt_number": 13
    },
    {
     "cell_type": "code",
     "collapsed": false,
     "input": [],
     "language": "python",
     "metadata": {},
     "outputs": [],
     "prompt_number": 13
    },
    {
     "cell_type": "code",
     "collapsed": false,
     "input": [],
     "language": "python",
     "metadata": {},
     "outputs": []
    }
   ],
   "metadata": {}
  }
 ]
}