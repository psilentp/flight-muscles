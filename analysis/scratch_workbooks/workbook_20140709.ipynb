{
 "metadata": {
  "name": "",
  "signature": "sha256:b87e176fd085c2d851a055132c0b2941d64de39eaf364a05cdb648168dc7b8cd"
 },
 "nbformat": 3,
 "nbformat_minor": 0,
 "worksheets": [
  {
   "cells": [
    {
     "cell_type": "code",
     "collapsed": false,
     "input": [
      "###notebook performs PCA on closed loop stripe fixation\n",
      "import neo\n",
      "import quantities as pq\n",
      "import flylib\n",
      "import db_access as dba\n",
      "reload(dba)"
     ],
     "language": "python",
     "metadata": {},
     "outputs": [
      {
       "metadata": {},
       "output_type": "pyout",
       "prompt_number": 1,
       "text": [
        "<module 'db_access' from 'db_access.pyc'>"
       ]
      }
     ],
     "prompt_number": 1
    },
    {
     "cell_type": "code",
     "collapsed": false,
     "input": [
      "starfield1_group = [151,153,154,155,156,157,158,159,160,161,162,163,165,166,167,168,169]"
     ],
     "language": "python",
     "metadata": {},
     "outputs": [],
     "prompt_number": 2
    },
    {
     "cell_type": "code",
     "collapsed": false,
     "input": [
      "fly_db = dba.get_db()\n",
      "swarm = flylib.Squadron(fly_db,starfield1_group)"
     ],
     "language": "python",
     "metadata": {},
     "outputs": [],
     "prompt_number": 3
    },
    {
     "cell_type": "code",
     "collapsed": false,
     "input": [
      "figure()\n",
      "###PCA analysis\n",
      "musc_vectors = list()\n",
      "xpos_list = list()\n",
      "lwing_list = list()\n",
      "rwing_list = list()\n",
      "lmr_list = list()\n",
      "keylist = ['b1', 'b2', 'b3', 'i1', 'i2', 'iii1', 'iii234','hg1', 'hg234' ]\n",
      "import cPickle\n",
      "for fly in swarm.flies:\n",
      "    for exp_key in ['img_starfield_t2_rep1','img_starfields2_t2_rep1','img_starfield2_t2_rep2']:\n",
      "        try:\n",
      "            img_star = fly.experiments[exp_key]\n",
      "            f = open(img_star.fly_path + exp_key + '_roi.cpkl')\n",
      "            roi_data = cPickle.load(f)\n",
      "            f.close()\n",
      "            #extract the fixation epoch at the end of the experiment\n",
      "            xpos_list.append(np.array(img_star.exp_record['tiff_data']['axon_framebase']['Xpos'][-5000:])*2*pi/10)\n",
      "            lwing_list.append(np.array(img_star.exp_record['tiff_data']['axon_framebase']['Ph0'][-5000:]))\n",
      "            rwing_list.append(np.array(img_star.exp_record['tiff_data']['axon_framebase']['Ph1'][-5000:]))\n",
      "            lmr_list.append(np.array(img_star.exp_record['tiff_data']['axon_framebase']['Ph2'][-5000:]))\n",
      "            musc_vector = vstack(roi_data[key][-5000:] for key in keylist)\n",
      "            #normalize\n",
      "            musc_vector /= mean(musc_vector,axis =1)[:,newaxis]\n",
      "            #center\n",
      "            musc_vector = np.array((musc_vector- mean(musc_vector,axis =1)[:,newaxis]))\n",
      "            for idx in range(shape(musc_vector)[0]):\n",
      "                sig = musc_vector[idx,:]\n",
      "                musc_vector[idx,:] = flylib.butter_lowpass_filter(sig,30,1/70.0,order = 1)\n",
      "            musc_vectors.append(musc_vector)\n",
      "        except KeyError:\n",
      "            pass\n",
      "##find the 'global' PCs\n",
      "musc_vector = hstack(musc_vectors)\n",
      "N,M = shape(musc_vector)\n",
      "COV_MTRX = dot(musc_vector,musc_vector.T)*(1/float(M))\n",
      "EG_VAL,EG_VECT = eig(COV_MTRX)\n",
      "PC1 = EG_VECT[:,0]\n",
      "PC2 = EG_VECT[:,1]\n",
      "PC3 = EG_VECT[:,2]\n",
      "\n",
      "pclist = {'pc1':[],'pc2':[],'pc3':[]}\n",
      "##find the PCs for the individual trials\n",
      "for musc_vector in musc_vectors:\n",
      "    N,M = shape(musc_vector)\n",
      "    cov_mtrx = dot(musc_vector,musc_vector.T)*(1/float(M))\n",
      "    eg_val,eg_vect = eig(cov_mtrx)\n",
      "    pc1 = eg_vect[:,0]\n",
      "    if dot(pc1,PC1)<0:\n",
      "        pc1 *= -1\n",
      "    pc2 = eg_vect[:,1]\n",
      "    if dot(pc2,PC2)<0:\n",
      "        pc2 *= -1\n",
      "    pc3 = eg_vect[:,2]\n",
      "    if dot(pc3,PC3)<0:\n",
      "        pc3 *= -1\n",
      "    pclist['pc1'].append(pc1)\n",
      "    pclist['pc2'].append(pc2)\n",
      "    pclist['pc3'].append(pc3)\n",
      "    \n",
      "##plot the results\n",
      "##set up the axis\n",
      "import matplotlib.gridspec as gridspec\n",
      "gs = gridspec.GridSpec(5,6)\n",
      "ax_pc1 = subplot(gs[2,0])\n",
      "ax_pc2 = subplot(gs[3,0],sharex = ax_pc1)\n",
      "ax_pc3 = subplot(gs[4,0],sharex = ax_pc1)\n",
      "\n",
      "ax_proj1 = subplot(gs[2,1:])\n",
      "ax_proj2 = subplot(gs[3,1:],sharey = ax_proj1,sharex = ax_proj1)\n",
      "ax_proj3 = subplot(gs[4,1:],sharey = ax_proj1,sharex = ax_proj1)\n",
      "ax_stim = subplot(gs[0,1:],sharex = ax_proj1)\n",
      "ax_wing = subplot(gs[1,1:],sharex = ax_proj1)\n",
      "##plot the first pc\n",
      "for ax,PC,key in zip([ax_pc1,ax_pc2,ax_pc3],[PC1,PC2,PC3],['pc1','pc2','pc3']):\n",
      "    axes(ax)\n",
      "    for pc in pclist[key]:\n",
      "        plot(pc,range(9),color = 'k',alpha = 0.5)\n",
      "    plot(PC,range(9),color = 'b',lw =2 , alpha = 0.5)\n",
      "    gca().set_yticklabels(keylist)\n",
      "#plot the projections\n",
      "flyn = 4\n",
      "for ax,PC in zip([ax_proj1,ax_proj2,ax_proj3],[PC1,PC2,PC3]):\n",
      "    axes(ax)\n",
      "    times = linspace(0,5000/70.0,5000)\n",
      "    plot(times,dot(PC.T,musc_vectors[flyn]),color = 'k')\n",
      "axes(ax_stim)\n",
      "plot(times,rad2deg(xpos_list[flyn]),color = 'k')\n",
      "ax_stim.set_ybound(0,360)\n",
      "axes(ax_wing)\n",
      "plot(times,rad2deg(rwing_list[flyn]/5.0),color = 'k')\n",
      "ax_wing.set_ybound(0,180)\n",
      "ax_pc1.set_xbound(-1,1)"
     ],
     "language": "python",
     "metadata": {},
     "outputs": [],
     "prompt_number": 26
    },
    {
     "cell_type": "code",
     "collapsed": false,
     "input": [
      "proj = dot(EG_VECT[:3,:],musc_vectors[flyn])"
     ],
     "language": "python",
     "metadata": {},
     "outputs": [],
     "prompt_number": 16
    },
    {
     "cell_type": "code",
     "collapsed": false,
     "input": [
      "percent_var = 100*EG_VAL/sum(EG_VAL)"
     ],
     "language": "python",
     "metadata": {},
     "outputs": [],
     "prompt_number": 24
    },
    {
     "cell_type": "code",
     "collapsed": false,
     "input": [
      "print percent_var"
     ],
     "language": "python",
     "metadata": {},
     "outputs": [
      {
       "output_type": "stream",
       "stream": "stdout",
       "text": [
        "[ 68.27628291  10.01157597   8.38944204   5.80668027   2.43197109\n",
        "   1.8709945    1.6246117    0.85208895   0.73635258]\n"
       ]
      }
     ],
     "prompt_number": 25
    },
    {
     "cell_type": "code",
     "collapsed": false,
     "input": [
      "fly_db.close()"
     ],
     "language": "python",
     "metadata": {},
     "outputs": [
      {
       "output_type": "stream",
       "stream": "stdout",
       "text": [
        "<Closed HDF5 file>\n",
        "<Closed HDF5 file>\n",
        "<Closed HDF5 file>\n",
        "<Closed HDF5 file>\n",
        "<Closed HDF5 file>\n",
        "<Closed HDF5 file>\n",
        "<Closed HDF5 file>\n",
        "<Closed HDF5 file>\n",
        "<Closed HDF5 file>\n",
        "<Closed HDF5 file>\n",
        "<Closed HDF5 file>\n",
        "<Closed HDF5 file>\n",
        "<Closed HDF5 file>\n",
        "<Closed HDF5 file>\n",
        "<Closed HDF5 file>\n",
        "<Closed HDF5 file>\n",
        "<Closed HDF5 file>\n",
        "<Closed HDF5 file>\n",
        "<Closed HDF5 file>\n",
        "<Closed HDF5 file>\n",
        "<Closed HDF5 file>\n",
        "<Closed HDF5 file>\n",
        "<Closed HDF5 file>\n",
        "<Closed HDF5 file>\n",
        "<Closed HDF5 file>\n",
        "<Closed HDF5 file>\n",
        "<Closed HDF5 file>\n",
        "<Closed HDF5 file>\n",
        "<Closed HDF5 file>\n",
        "<Closed HDF5 file>\n",
        "<Closed HDF5 file>\n",
        "<Closed HDF5 file>\n",
        "<Closed HDF5 file>\n",
        "<Closed HDF5 file>\n",
        "<Closed HDF5 file>\n",
        "<Closed HDF5 file>\n",
        "<Closed HDF5 file>\n",
        "<Closed HDF5 file>\n",
        "<Closed HDF5 file>\n",
        "<Closed HDF5 file>\n",
        "<Closed HDF5 file>\n",
        "<Closed HDF5 file>\n"
       ]
      }
     ],
     "prompt_number": 28
    },
    {
     "cell_type": "code",
     "collapsed": false,
     "input": [],
     "language": "python",
     "metadata": {},
     "outputs": []
    },
    {
     "cell_type": "code",
     "collapsed": false,
     "input": [],
     "language": "python",
     "metadata": {},
     "outputs": []
    },
    {
     "cell_type": "code",
     "collapsed": false,
     "input": [],
     "language": "python",
     "metadata": {},
     "outputs": []
    },
    {
     "cell_type": "code",
     "collapsed": false,
     "input": [],
     "language": "python",
     "metadata": {},
     "outputs": []
    },
    {
     "cell_type": "code",
     "collapsed": false,
     "input": [],
     "language": "python",
     "metadata": {},
     "outputs": []
    },
    {
     "cell_type": "code",
     "collapsed": false,
     "input": [],
     "language": "python",
     "metadata": {},
     "outputs": []
    },
    {
     "cell_type": "code",
     "collapsed": false,
     "input": [],
     "language": "python",
     "metadata": {},
     "outputs": []
    },
    {
     "cell_type": "code",
     "collapsed": false,
     "input": [],
     "language": "python",
     "metadata": {},
     "outputs": []
    },
    {
     "cell_type": "code",
     "collapsed": false,
     "input": [],
     "language": "python",
     "metadata": {},
     "outputs": []
    },
    {
     "cell_type": "code",
     "collapsed": false,
     "input": [],
     "language": "python",
     "metadata": {},
     "outputs": []
    },
    {
     "cell_type": "code",
     "collapsed": false,
     "input": [],
     "language": "python",
     "metadata": {},
     "outputs": []
    },
    {
     "cell_type": "code",
     "collapsed": false,
     "input": [],
     "language": "python",
     "metadata": {},
     "outputs": []
    },
    {
     "cell_type": "code",
     "collapsed": false,
     "input": [],
     "language": "python",
     "metadata": {},
     "outputs": []
    },
    {
     "cell_type": "code",
     "collapsed": false,
     "input": [],
     "language": "python",
     "metadata": {},
     "outputs": []
    },
    {
     "cell_type": "code",
     "collapsed": false,
     "input": [],
     "language": "python",
     "metadata": {},
     "outputs": []
    },
    {
     "cell_type": "code",
     "collapsed": false,
     "input": [],
     "language": "python",
     "metadata": {},
     "outputs": []
    },
    {
     "cell_type": "code",
     "collapsed": false,
     "input": [],
     "language": "python",
     "metadata": {},
     "outputs": []
    },
    {
     "cell_type": "code",
     "collapsed": false,
     "input": [],
     "language": "python",
     "metadata": {},
     "outputs": []
    },
    {
     "cell_type": "code",
     "collapsed": false,
     "input": [],
     "language": "python",
     "metadata": {},
     "outputs": []
    },
    {
     "cell_type": "code",
     "collapsed": false,
     "input": [],
     "language": "python",
     "metadata": {},
     "outputs": []
    },
    {
     "cell_type": "code",
     "collapsed": false,
     "input": [],
     "language": "python",
     "metadata": {},
     "outputs": []
    },
    {
     "cell_type": "code",
     "collapsed": false,
     "input": [],
     "language": "python",
     "metadata": {},
     "outputs": []
    },
    {
     "cell_type": "code",
     "collapsed": false,
     "input": [],
     "language": "python",
     "metadata": {},
     "outputs": []
    },
    {
     "cell_type": "code",
     "collapsed": false,
     "input": [],
     "language": "python",
     "metadata": {},
     "outputs": []
    },
    {
     "cell_type": "code",
     "collapsed": false,
     "input": [],
     "language": "python",
     "metadata": {},
     "outputs": []
    },
    {
     "cell_type": "code",
     "collapsed": false,
     "input": [],
     "language": "python",
     "metadata": {},
     "outputs": []
    },
    {
     "cell_type": "code",
     "collapsed": false,
     "input": [],
     "language": "python",
     "metadata": {},
     "outputs": []
    },
    {
     "cell_type": "code",
     "collapsed": false,
     "input": [],
     "language": "python",
     "metadata": {},
     "outputs": []
    },
    {
     "cell_type": "code",
     "collapsed": false,
     "input": [],
     "language": "python",
     "metadata": {},
     "outputs": []
    },
    {
     "cell_type": "code",
     "collapsed": false,
     "input": [],
     "language": "python",
     "metadata": {},
     "outputs": []
    },
    {
     "cell_type": "code",
     "collapsed": false,
     "input": [],
     "language": "python",
     "metadata": {},
     "outputs": [],
     "prompt_number": 28
    },
    {
     "cell_type": "code",
     "collapsed": false,
     "input": [],
     "language": "python",
     "metadata": {},
     "outputs": [],
     "prompt_number": 3
    },
    {
     "cell_type": "code",
     "collapsed": false,
     "input": [],
     "language": "python",
     "metadata": {},
     "outputs": [],
     "prompt_number": 40
    },
    {
     "cell_type": "code",
     "collapsed": false,
     "input": [],
     "language": "python",
     "metadata": {},
     "outputs": [],
     "prompt_number": 41
    },
    {
     "cell_type": "code",
     "collapsed": false,
     "input": [],
     "language": "python",
     "metadata": {},
     "outputs": [],
     "prompt_number": 42
    },
    {
     "cell_type": "code",
     "collapsed": false,
     "input": [],
     "language": "python",
     "metadata": {},
     "outputs": [],
     "prompt_number": 43
    },
    {
     "cell_type": "code",
     "collapsed": false,
     "input": [],
     "language": "python",
     "metadata": {},
     "outputs": [],
     "prompt_number": 44
    },
    {
     "cell_type": "code",
     "collapsed": false,
     "input": [],
     "language": "python",
     "metadata": {},
     "outputs": [],
     "prompt_number": 45
    },
    {
     "cell_type": "code",
     "collapsed": false,
     "input": [],
     "language": "python",
     "metadata": {},
     "outputs": [],
     "prompt_number": 46
    },
    {
     "cell_type": "code",
     "collapsed": false,
     "input": [],
     "language": "python",
     "metadata": {},
     "outputs": [],
     "prompt_number": 47
    },
    {
     "cell_type": "code",
     "collapsed": false,
     "input": [],
     "language": "python",
     "metadata": {},
     "outputs": [],
     "prompt_number": 49
    },
    {
     "cell_type": "code",
     "collapsed": false,
     "input": [],
     "language": "python",
     "metadata": {},
     "outputs": [],
     "prompt_number": 50
    },
    {
     "cell_type": "code",
     "collapsed": false,
     "input": [],
     "language": "python",
     "metadata": {},
     "outputs": []
    },
    {
     "cell_type": "code",
     "collapsed": false,
     "input": [],
     "language": "python",
     "metadata": {},
     "outputs": []
    },
    {
     "cell_type": "code",
     "collapsed": false,
     "input": [],
     "language": "python",
     "metadata": {},
     "outputs": []
    }
   ],
   "metadata": {}
  }
 ]
}