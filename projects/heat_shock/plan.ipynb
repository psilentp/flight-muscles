{
 "cells": [
  {
   "cell_type": "code",
   "execution_count": 1,
   "metadata": {
    "collapsed": false
   },
   "outputs": [],
   "source": [
    "import hs_genotypes as hs"
   ]
  },
  {
   "cell_type": "markdown",
   "metadata": {},
   "source": [
    "### Aim 0: Identify constructs for protocol development\n",
    "In order to test heat gradients it would be usefull to first identify lines that provide a convenient mechanism for monitoring heat-shock induction. This aim would also seek to determine the how developmental timing interacts with flippase expression. (I realize that much of this might be predicted from the literature)\n",
    "\n",
    "* Is there a protocol that we can use to induce flippase expression post-mitotically? \n",
    "* What is the necessary HS duration and temperature?\n",
    "* Are the pulse parameters different for developmental pulses - can we HS a single embryo?\n",
    "* What are the effects of these protocols on flight behavior?\n",
    "* if we try to pulse during development when is the appropriate time to maintain lateralization of clones? "
   ]
  },
  {
   "cell_type": "markdown",
   "metadata": {},
   "source": [
    "____\n",
    "This is probably the simplest way to start -- Flip out a STOP from ubiquitin-driven Stinger. Nice because it only requires a single cross.\n",
    "\n",
    "from Evans et al. Nature Methods 6, 603 - 605 (2009) "
   ]
  },
  {
   "cell_type": "code",
   "execution_count": 2,
   "metadata": {
    "collapsed": false
   },
   "outputs": [
    {
     "data": {
      "text/html": [
       "<table>\n",
       "                    <tr>\n",
       "                        <td>HCS</td>\n",
       "                        <td>P{Ubi-p63E(FRT.STOP)Stinger}9F6</td>\n",
       "                        <td>+</td>\n",
       "                    </tr>\n",
       "                    <tr>\n",
       "                        <td>HCS</td>\n",
       "                        <td>P{y[+t7.7] w[+mC]=hs-FLPD5.fco}attP40</td>\n",
       "                        <td>+</td>\n",
       "                    </tr> \n",
       "            </table>"
      ],
      "text/plain": [
       "<IPython.core.display.HTML object>"
      ]
     },
     "execution_count": 2,
     "metadata": {},
     "output_type": "execute_result"
    }
   ],
   "source": [
    "hs.strains['objective 0: HS flipout of stop Stinger']"
   ]
  },
  {
   "cell_type": "markdown",
   "metadata": {},
   "source": [
    "____\n",
    "This would test out an approach where we flip out a stop 5' of an effector. For instance, UAS>stop>GFP in flies with Gal4 expression driven ubiquitously using tubP. We don't have a UAS>stop>CsChrimson but my guess is that it won't be long before someone makes it."
   ]
  },
  {
   "cell_type": "code",
   "execution_count": 3,
   "metadata": {
    "collapsed": false
   },
   "outputs": [
    {
     "data": {
      "text/html": [
       "<table>\n",
       "                    <tr>\n",
       "                        <td>HCS</td>\n",
       "                        <td>P{y[+t7.7] w[+mC]=hs-FLPD5.fco}attP40</td>\n",
       "                        <td>P{w[+mC]=UAS(FRT.stop)mCD8-GFP.H}14, P{w[+mC]=UAS(FRT.stop)mCD8-GFP.H}21B</td>\n",
       "                    </tr>\n",
       "                    <tr>\n",
       "                        <td>HCS</td>\n",
       "                        <td>+</td>\n",
       "                        <td>P{w[+mC]=tubP-GAL4}LL7</td>\n",
       "                    </tr> \n",
       "            </table>"
      ],
      "text/plain": [
       "<IPython.core.display.HTML object>"
      ]
     },
     "execution_count": 3,
     "metadata": {},
     "output_type": "execute_result"
    }
   ],
   "source": [
    "hs.strains['objective 0: HS flipout of UAS >stop> GFP']"
   ]
  },
  {
   "cell_type": "markdown",
   "metadata": {},
   "source": [
    "### Aim 1: Test gal-80 flipout, and stop flipout gal-80 strains\n",
    "In order for this technique to be practical we would need a convenient way of integrating the system with gal-4 or split-gal4 drivers. This means we would need to either flip-out gal80 to dis-inhibit expression, or flip-out >stop>gal80 to induce supression. It would be most convienent if the inducible gal-80 parts of the system were controlled by strong, ubiquitous drivers so that they could interact with any gal-4 expression pattern, but one could imagine a more restricted version of the system that only works in neurons, muscles ect... The purpose of this aim would be to test the dis-inhibitory or induced inhibitory approaches against each other. Also this would worth trying different gal-80 drivers, presently I have only found strains with tubP-Gal80 or tubP>stop>Gal80.\n",
    "\n",
    "* Is it better to flip-out gal80 or stop-gal80? My guess is that flipping out stop-Gal80, becuase in the absence of HS the 'parental' effector would be retained.\n",
    "* Are there other promotors that could be used to drive gal80?"
   ]
  },
  {
   "cell_type": "markdown",
   "metadata": {},
   "source": [
    "___\n",
    "This strain would be used to flip out a stop from tubP>stop>Gal80, here HS would suppress expression. GFP is also driven with tubP. The question is can non-HS flies even survive with GFP expressed in every cell? Maybe it would be better to try this approach in a line with a more restricted GAL-4 driver than tubP?"
   ]
  },
  {
   "cell_type": "code",
   "execution_count": 4,
   "metadata": {
    "collapsed": false
   },
   "outputs": [
    {
     "data": {
      "text/html": [
       "<table>\n",
       "                    <tr>\n",
       "                        <td>HCS</td>\n",
       "                        <td>P{y[+t7.7] w[+mC]=hs-FLPD5.fco}attP40</td>\n",
       "                        <td>P{10XUAS-IVS-Syn21-GFP-p10}attP2</td>\n",
       "                    </tr>\n",
       "                    <tr>\n",
       "                        <td>HCS</td>\n",
       "                        <td>P{w[+mC]=tubP(FRT.stop)GAL80}</td>\n",
       "                        <td>P{w[+mC]=tubP-GAL4}LL7</td>\n",
       "                    </tr> \n",
       "            </table>"
      ],
      "text/plain": [
       "<IPython.core.display.HTML object>"
      ]
     },
     "execution_count": 4,
     "metadata": {},
     "output_type": "execute_result"
    }
   ],
   "source": [
    "hs.strains['objective 0: HS flipout of tubP >stop> Gal80']"
   ]
  },
  {
   "cell_type": "markdown",
   "metadata": {},
   "source": [
    "___\n",
    "Converse of flipout tubP>stop>Gal80 above - now HS induces expresion."
   ]
  },
  {
   "cell_type": "code",
   "execution_count": 5,
   "metadata": {
    "collapsed": false
   },
   "outputs": [
    {
     "data": {
      "text/html": [
       "<table>\n",
       "                    <tr>\n",
       "                        <td>HCS</td>\n",
       "                        <td>P{y[+t7.7] w[+mC]=hs-FLPD5.fco}attP40</td>\n",
       "                        <td>P{w[+mC]=alphaTub84B(FRT.GAL80)}</td>\n",
       "                    </tr>\n",
       "                    <tr>\n",
       "                        <td>HCS</td>\n",
       "                        <td>P{w[+mC]=tubP-GAL4}LL7</td>\n",
       "                        <td>P{10XUAS-IVS-Syn21-GFP-p10}attP2</td>\n",
       "                    </tr> \n",
       "            </table>"
      ],
      "text/plain": [
       "<IPython.core.display.HTML object>"
      ]
     },
     "execution_count": 5,
     "metadata": {},
     "output_type": "execute_result"
    }
   ],
   "source": [
    "hs.strains['objective 0: HS flipout of alphaTub Gal80']"
   ]
  },
  {
   "cell_type": "markdown",
   "metadata": {},
   "source": [
    "### Reagent strains for spatial heat shock expression experiments\n",
    "\n",
    "Flipout a stop from ubi-p63 driven Stinger. These lines were developed as part of g-Trace system. Evans et al. Nature Methods 6, 603 - 605 (2009) \n",
    "\n",
    "* 32249 P{Ubi-p63E(FRT.STOP)Stinger}5F1, w*\n",
    "* 32250 w*; P{Ubi-p63E(FRT.STOP)Stinger}9F6\n",
    "* 32251 w*; P{Ubi-p63E(FRT.STOP)Stinger}15F2\n",
    "\n",
    "Ubiquitous expression of FRT flanked GAL80 on Chromosome 2 and 3, heat shock should permit expression in clones by removing GAL80 expression\n",
    "\n",
    "* 38880 w[*]; P{w[+mC]=alphaTub84B(FRT.GAL80)}2/CyO; TM2/TM6B, Tb[1]\n",
    "* 38881 w[*]; Bl[1]/CyO; P{w[+mC]=alphaTub84B(FRT.GAL80)}3\n",
    "\n",
    "** I'm not sure if these are flipout or just flip GAL80\n",
    "\n",
    "Ubiquitous expression of FRT stop GAL80, heat shock should suppress expression by removing FRT-stop from clones\n",
    "\n",
    "* 38878 w[*]; P{w[+mC]=tubP(FRT.stop)GAL80}2; MKRS/TM6B, Tb[1]\n",
    "* 39213 w[*]; wg[Sp-1]/CyO; P{w[+mC]=tubP(FRT.stop)GAL80}3\n",
    "\n",
    "** I believe these flies are tubP>stop>GAL80\n",
    "\n",
    "Test heat shock concept by HS removal of FRT.stop from UAS-GFP\n",
    "\n",
    "* 55810 w[1118]; P{y[+t7.7] w[+mC]=10XUAS(FRT.stop)GFP.Myr}su(Hw)attP5\n",
    "* 55811 w[1118]; P{y[+t7.7] w[+mC]=10XUAS(FRT.stop)GFP.Myr}su(Hw)attP1\n",
    "* 30125 y[1] w[1118]; P{w[+mC]=UAS(FRT.stop)mCD8-GFP.H}11/CyO;+\n",
    "* 30032 y[1] w[1118]; Pin[1]/CyO; P{w[+mC]=UAS(FRT.stop)mCD8-GFP.H}14, P{w[+mC]=UAS(FRT.stop)mCD8-GFP.H}21B / TM6B Tb\n",
    "\n",
    "Heat shock flippase aspartic acid at residue 5, fly codon optimized chromosome I and II.\n",
    "\n",
    "* 55818 w[1118] P{y[+t7.7] w[+mC]=hs-FLPD5.fco}attP3\n",
    "* 56749 w[1118]; P{y[+t7.7] w[+mC]=hs-FLPD5.fco}attP40\n",
    "\n",
    "Expresses Gal4 ubiquitously - for testing.\n",
    "\n",
    "* 5138 y[1] w[*]; P{w[+mC]=tubP-GAL4"
   ]
  },
  {
   "cell_type": "code",
   "execution_count": null,
   "metadata": {
    "collapsed": true
   },
   "outputs": [],
   "source": []
  },
  {
   "cell_type": "code",
   "execution_count": null,
   "metadata": {
    "collapsed": true
   },
   "outputs": [],
   "source": []
  }
 ],
 "metadata": {
  "kernelspec": {
   "display_name": "Python 2",
   "language": "python",
   "name": "python2"
  },
  "language_info": {
   "codemirror_mode": {
    "name": "ipython",
    "version": 2
   },
   "file_extension": ".py",
   "mimetype": "text/x-python",
   "name": "python",
   "nbconvert_exporter": "python",
   "pygments_lexer": "ipython2",
   "version": "2.7.11"
  }
 },
 "nbformat": 4,
 "nbformat_minor": 0
}
