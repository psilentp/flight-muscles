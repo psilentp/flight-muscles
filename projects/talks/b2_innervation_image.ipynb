{
 "cells": [
  {
   "cell_type": "code",
   "execution_count": 1,
   "metadata": {
    "collapsed": false
   },
   "outputs": [
    {
     "name": "stdout",
     "output_type": "stream",
     "text": [
      "Populating the interactive namespace from numpy and matplotlib\n"
     ]
    }
   ],
   "source": [
    "%pylab inline\n",
    "%config InlineBackend.figure_format = 'svg'\n",
    "import pylab as plb\n",
    "plb.rcParams['pdf.fonttype'] = 42"
   ]
  },
  {
   "cell_type": "code",
   "execution_count": 2,
   "metadata": {
    "collapsed": true
   },
   "outputs": [],
   "source": [
    "import flylib\n",
    "confocal_list = [591,592,593,594]\n",
    "confocal_swarm = flylib.NetSquadron(confocal_list)"
   ]
  },
  {
   "cell_type": "code",
   "execution_count": 235,
   "metadata": {
    "collapsed": false
   },
   "outputs": [],
   "source": [
    "fly = confocal_swarm.flies[1]\n",
    "fly.open_fly_record()\n",
    "imgs = fly.fly_record['experiments'].values()[0]['tiff_data']['images']\n",
    "x_res = imgs.attrs['x_res']"
   ]
  },
  {
   "cell_type": "code",
   "execution_count": 207,
   "metadata": {
    "collapsed": false
   },
   "outputs": [],
   "source": [
    "yrng = (200,600)\n",
    "xrng = (200,600)\n",
    "gfp_img = np.max(imgs[20:50,1,xrng[0]:xrng[1],yrng[0]:yrng[1]],axis = 0)\n",
    "muscle_img = np.max(imgs[20:50,0,xrng[0]:xrng[1],yrng[0]:yrng[1]],axis = 0)\n"
   ]
  },
  {
   "cell_type": "code",
   "execution_count": 264,
   "metadata": {
    "collapsed": true
   },
   "outputs": [],
   "source": [
    "def kill_spines(top = True,bottom =True, left = True,right=True):\n",
    "    if top:\n",
    "        plb.gca().spines['top'].set_visible(False)\n",
    "        #[x.set_visible(False) for x in plb.gca().get_xticklabels()]\n",
    "        [x.set_visible(False) for x in plb.gca().get_xticklines()[1::2]]\n",
    "    if right:\n",
    "        plb.gca().spines['right'].set_visible(False)\n",
    "        #[y.set_visible(False) for y in plb.gca().get_yticklabels()]\n",
    "        [y.set_visible(False) for y in plb.gca().get_yticklines()[1::2]]\n",
    "    if left:\n",
    "        plb.gca().spines['left'].set_visible(False)\n",
    "        [y.set_visible(False) for y in plb.gca().get_yticklabels()]\n",
    "        [y.set_visible(False) for y in plb.gca().get_yticklines()[::2]]\n",
    "    if bottom:\n",
    "        plb.gca().spines['bottom'].set_visible(False)\n",
    "        [x.set_visible(False) for x in plb.gca().get_xticklabels()]\n",
    "        [x.set_visible(False) for x in plb.gca().get_xticklines()[::2]]\n",
    "        "
   ]
  },
  {
   "cell_type": "code",
   "execution_count": 1,
   "metadata": {
    "collapsed": false
   },
   "outputs": [
    {
     "ename": "NameError",
     "evalue": "name 'figure' is not defined",
     "output_type": "error",
     "traceback": [
      "\u001b[1;31m---------------------------------------------------------------------------\u001b[0m",
      "\u001b[1;31mNameError\u001b[0m                                 Traceback (most recent call last)",
      "\u001b[1;32m<ipython-input-1-db5f490335db>\u001b[0m in \u001b[0;36m<module>\u001b[1;34m()\u001b[0m\n\u001b[1;32m----> 1\u001b[1;33m \u001b[0mfig\u001b[0m \u001b[1;33m=\u001b[0m \u001b[0mfigure\u001b[0m\u001b[1;33m(\u001b[0m\u001b[0mfigsize\u001b[0m \u001b[1;33m=\u001b[0m \u001b[1;33m(\u001b[0m\u001b[1;36m10\u001b[0m\u001b[1;33m,\u001b[0m\u001b[1;36m10\u001b[0m\u001b[1;33m)\u001b[0m\u001b[1;33m)\u001b[0m\u001b[1;33m\u001b[0m\u001b[0m\n\u001b[0m\u001b[0;32m      2\u001b[0m \u001b[1;32mdef\u001b[0m \u001b[0mapply_gain\u001b[0m\u001b[1;33m(\u001b[0m\u001b[0mimg\u001b[0m\u001b[1;33m,\u001b[0m\u001b[0mgain\u001b[0m \u001b[1;33m=\u001b[0m \u001b[1;36m1.5\u001b[0m\u001b[1;33m,\u001b[0m\u001b[0mgamma\u001b[0m \u001b[1;33m=\u001b[0m \u001b[1;36m1.2\u001b[0m\u001b[1;33m)\u001b[0m\u001b[1;33m:\u001b[0m\u001b[1;33m\u001b[0m\u001b[0m\n\u001b[0;32m      3\u001b[0m     \u001b[0mimg\u001b[0m \u001b[1;33m=\u001b[0m \u001b[0mimg\u001b[0m\u001b[1;33m**\u001b[0m\u001b[0mgamma\u001b[0m\u001b[1;33m\u001b[0m\u001b[0m\n\u001b[0;32m      4\u001b[0m     \u001b[0mimg\u001b[0m \u001b[1;33m=\u001b[0m \u001b[1;33m(\u001b[0m\u001b[1;33m(\u001b[0m\u001b[1;36m255\u001b[0m\u001b[1;33m*\u001b[0m\u001b[1;33m(\u001b[0m\u001b[0mimg\u001b[0m\u001b[1;33m/\u001b[0m\u001b[0mnp\u001b[0m\u001b[1;33m.\u001b[0m\u001b[0mmax\u001b[0m\u001b[1;33m(\u001b[0m\u001b[0mimg\u001b[0m\u001b[1;33m)\u001b[0m\u001b[1;33m)\u001b[0m\u001b[1;33m)\u001b[0m\u001b[1;33m*\u001b[0m\u001b[0mgain\u001b[0m\u001b[1;33m)\u001b[0m\u001b[1;33m\u001b[0m\u001b[0m\n\u001b[0;32m      5\u001b[0m     \u001b[0mimg\u001b[0m\u001b[1;33m[\u001b[0m\u001b[0mimg\u001b[0m\u001b[1;33m>\u001b[0m\u001b[1;36m255\u001b[0m\u001b[1;33m]\u001b[0m \u001b[1;33m=\u001b[0m \u001b[1;36m255\u001b[0m\u001b[1;33m\u001b[0m\u001b[0m\n",
      "\u001b[1;31mNameError\u001b[0m: name 'figure' is not defined"
     ]
    }
   ],
   "source": [
    "fig = figure(figsize = (10,10))\n",
    "def apply_gain(img,gain = 1.5,gamma = 1.2):\n",
    "    img = img**gamma\n",
    "    img = ((255*(img/np.max(img)))*gain)\n",
    "    img[img>255] = 255\n",
    "    img[img<0] = 0\n",
    "    img = img.astype(uint8)\n",
    "    return img\n",
    "\n",
    "scale_length = 50\n",
    "scale_pxls = float(scale_length) /x_res\n",
    "\n",
    "gimg = apply_gain(gfp_img,gain = 1.2,gamma= 1.2)\n",
    "gimg2 = apply_gain(gfp_img,gain = 0.5,gamma= 1.2)\n",
    "mimg = apply_gain(muscle_img,gain = 2.2,gamma= 1.1)\n",
    "mimg2 = apply_gain(muscle_img,gain =0.3,gamma= 1.1)\n",
    "from scipy import ndimage\n",
    "import scipy\n",
    "ch1 = mimg\n",
    "ch2 = gimg.astype(float)+mimg2.astype(float);ch2[ch2>255] = 255;ch2[ch2<0] = 0;ch2 = ch2.astype(uint8)\n",
    "ch3 = gimg2\n",
    "\n",
    "img = np.dstack([ch1,ch2,ch3])\n",
    "#img = ndimage.zoom(img,(6,6,1))\n",
    "#normimg_gfp = ((255*(gimg/np.max(gimg).astype(float)))*1.0).astype(uint8)\n",
    "#cmg = colorized_image(normimg,color_map = cm.Reds,alpha = 1.0)\n",
    "#img = scipy.misc.imresize(img,500,interp = 'bicubic')\n",
    "#imshow(np.dstack([mimg,gimg,gimg2]),\n",
    "#       interpolation='bicubic')\n",
    "#imsave('img.jpg',img)\n",
    "imshow(img)\n",
    "b,r,clrs = shape(img)\n",
    "plot([r-20,r-20-scale_pxls],[b-20,b-20],lw = 5,color= 'w')\n",
    "gca().set_xbound(0,r)\n",
    "gca().set_ybound(0,b)\n",
    "kill_spines()\n",
    "savefig('b2_innervation.pdf')"
   ]
  },
  {
   "cell_type": "code",
   "execution_count": null,
   "metadata": {
    "collapsed": true
   },
   "outputs": [],
   "source": []
  }
 ],
 "metadata": {
  "kernelspec": {
   "display_name": "Python 2",
   "language": "python",
   "name": "python2"
  },
  "language_info": {
   "codemirror_mode": {
    "name": "ipython",
    "version": 2
   },
   "file_extension": ".py",
   "mimetype": "text/x-python",
   "name": "python",
   "nbconvert_exporter": "python",
   "pygments_lexer": "ipython2",
   "version": "2.7.9"
  }
 },
 "nbformat": 4,
 "nbformat_minor": 0
}
