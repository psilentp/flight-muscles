{
 "cells": [
  {
   "cell_type": "code",
   "execution_count": 1,
   "metadata": {
    "collapsed": true
   },
   "outputs": [],
   "source": [
    "%matplotlib inline\n",
    "%config InlineBackend.figure_format = 'png' #svg\n",
    "import pylab as plb # this notebook is for plotting\n",
    "import numpy as np\n",
    "import scipy as sp\n",
    "import flylib as flb\n",
    "import group_data as gd\n",
    "plb.rcParams['pdf.fonttype'] = 42 #allows text in saved .pdf files to be edited in illustrator\n",
    "plb.rcParams['font.size'] = 7 #\n",
    "plb.rcParams['font.stretch'] =  0\n",
    "plb.rcParams['image.interpolation'] = 'Nearest'\n",
    "plb.rcParams['image.cmap'] = 'BrBG'\n",
    "import warnings\n",
    "warnings.filterwarnings('ignore')"
   ]
  },
  {
   "cell_type": "code",
   "execution_count": 2,
   "metadata": {
    "collapsed": false
   },
   "outputs": [
    {
     "name": "stdout",
     "output_type": "stream",
     "text": [
      "YR 140466298710568\n",
      "YL 140466254869120\n",
      "DES 140466302408696\n",
      "ASC 140466243316824\n",
      "BCK 140466236482176\n",
      "FOR 140466229730392\n",
      "YR_summary 140466222921720\n",
      "cbars 140466216193392\n",
      "YL_summary 140466214053040\n",
      "DES_summary 140466207220352\n",
      "ASC_summary 140466200035408\n",
      "BCK_summary 140466193652264\n",
      "FOR_summary 140466186411376\n",
      "avlines 140466179700168\n"
     ]
    },
    {
     "data": {
      "image/png": "[encoded data removed]",
      "text/plain": [
       "<matplotlib.figure.Figure at 0x7fc104ec7310>"
      ]
     },
     "metadata": {},
     "output_type": "display_data"
    }
   ],
   "source": [
    "import figurefirst as fifi\n",
    "reload(fifi)\n",
    "layout = fifi.FigureLayout('figure4_layout.svg')\n",
    "layout.make_mplfigures()"
   ]
  },
  {
   "cell_type": "code",
   "execution_count": 10,
   "metadata": {
    "collapsed": false
   },
   "outputs": [
    {
     "data": {
      "text/plain": [
       "{'axis': <matplotlib.axes._axes.Axes at 0x7fb1b3bd72d0>,\n",
       " 'data': {'aspect_ratio': 0.54070986529250298}}"
      ]
     },
     "execution_count": 10,
     "metadata": {},
     "output_type": "execute_result"
    }
   ],
   "source": [
    "layout.axes_groups['YR'+'_summary']['Ph1']"
   ]
  },
  {
   "cell_type": "code",
   "execution_count": 11,
   "metadata": {
    "collapsed": false
   },
   "outputs": [
    {
     "data": {
      "text/plain": [
       "{'axis': <matplotlib.axes._axes.Axes at 0x7fb1b3bd72d0>,\n",
       " 'data': {'aspect_ratio': 0.54070986529250298}}"
      ]
     },
     "execution_count": 11,
     "metadata": {},
     "output_type": "execute_result"
    }
   ],
   "source": [
    "layout.axes_groups['YR']['Ph1']"
   ]
  },
  {
   "cell_type": "code",
   "execution_count": 3,
   "metadata": {
    "collapsed": false
   },
   "outputs": [
    {
     "data": {
      "text/plain": [
       "140466222380112"
      ]
     },
     "execution_count": 3,
     "metadata": {},
     "output_type": "execute_result"
    }
   ],
   "source": [
    "id(layout.axes_groups['YR'+'_summary']['Ph1']['axis'])"
   ]
  },
  {
   "cell_type": "code",
   "execution_count": 4,
   "metadata": {
    "collapsed": false
   },
   "outputs": [
    {
     "data": {
      "text/plain": [
       "140466260793936"
      ]
     },
     "execution_count": 4,
     "metadata": {},
     "output_type": "execute_result"
    }
   ],
   "source": [
    "id(layout.axes_groups['YR']['Ph1']['axis'])"
   ]
  },
  {
   "cell_type": "code",
   "execution_count": 26,
   "metadata": {
    "collapsed": false
   },
   "outputs": [
    {
     "name": "stdout",
     "output_type": "stream",
     "text": [
      "YR\n",
      "\tPh2\n",
      "\tPh1\n",
      "\tsac\n",
      "\tb1\n",
      "\tb2\n",
      "\tb3\n",
      "\ti1\n",
      "\ti2\n",
      "\tiii1\n",
      "\tiii3\n",
      "\thg1\n",
      "\thg2\n",
      "\thg3\n",
      "\thg4\n",
      "YL\n",
      "\tPh2\n",
      "\tPh1\n",
      "\tsac\n",
      "\tb1\n",
      "\tb2\n",
      "\tb3\n",
      "\ti1\n",
      "\ti2\n",
      "\tiii1\n",
      "\tiii3\n",
      "\thg1\n",
      "\thg2\n",
      "\thg3\n",
      "\thg4\n",
      "DES\n",
      "\tPh2\n",
      "\tPh1\n",
      "\tsac\n",
      "\tb1\n",
      "\tb2\n",
      "\tb3\n",
      "\ti1\n",
      "\ti2\n",
      "\tiii1\n",
      "\tiii3\n",
      "\thg1\n",
      "\thg2\n",
      "\thg3\n",
      "\thg4\n",
      "ASC\n",
      "\tPh2\n",
      "\tPh1\n",
      "\tsac\n",
      "\tb1\n",
      "\tb2\n",
      "\tb3\n",
      "\ti1\n",
      "\ti2\n",
      "\tiii1\n",
      "\tiii3\n",
      "\thg1\n",
      "\thg2\n",
      "\thg3\n",
      "\thg4\n",
      "BCK\n",
      "\tPh2\n",
      "\tPh1\n",
      "\tsac\n",
      "\tb1\n",
      "\tb2\n",
      "\tb3\n",
      "\ti1\n",
      "\ti2\n",
      "\tiii1\n",
      "\tiii3\n",
      "\thg1\n",
      "\thg2\n",
      "\thg3\n",
      "\thg4\n",
      "FOR\n",
      "\tPh2\n",
      "\tPh1\n",
      "\tsac\n",
      "\tb1\n",
      "\tb2\n",
      "\tb3\n",
      "\ti1\n",
      "\ti2\n",
      "\tiii1\n",
      "\tiii3\n",
      "\thg1\n",
      "\thg2\n",
      "\thg3\n",
      "\thg4\n",
      "YR_summary\n",
      "\tPh2\n",
      "\tPh1\n",
      "\tsac\n",
      "\tb1\n",
      "\tb2\n",
      "\tb3\n",
      "\ti1\n",
      "\ti2\n",
      "\tiii1\n",
      "\tiii3\n",
      "\thg1\n",
      "\thg2\n",
      "\thg3\n",
      "\thg4\n",
      "cbars\n",
      "\tPh2\n",
      "\tPh1\n",
      "\tsac\n",
      "\tsigma\n",
      "YL_summary\n",
      "\tPh2\n",
      "\tPh1\n",
      "\tsac\n",
      "\tb1\n",
      "\tb2\n",
      "\tb3\n",
      "\ti1\n",
      "\ti2\n",
      "\tiii1\n",
      "\tiii3\n",
      "\thg1\n",
      "\thg2\n",
      "\thg3\n",
      "\thg4\n",
      "DES_summary\n",
      "\tPh2\n",
      "\tPh1\n",
      "\tsac\n",
      "\tb1\n",
      "\tb2\n",
      "\tb3\n",
      "\ti1\n",
      "\ti2\n",
      "\tiii1\n",
      "\tiii3\n",
      "\thg1\n",
      "\thg2\n",
      "\thg3\n",
      "\thg4\n",
      "ASC_summary\n",
      "\tPh2\n",
      "\tPh1\n",
      "\tsac\n",
      "\tb1\n",
      "\tb2\n",
      "\tb3\n",
      "\ti1\n",
      "\ti2\n",
      "\tiii1\n",
      "\tiii3\n",
      "\thg1\n",
      "\thg2\n",
      "\thg3\n",
      "\thg4\n",
      "BCK_summary\n",
      "\tPh2\n",
      "\tPh1\n",
      "\tsac\n",
      "\tb1\n",
      "\tb2\n",
      "\tb3\n",
      "\ti1\n",
      "\ti2\n",
      "\tiii1\n",
      "\tiii3\n",
      "\thg1\n",
      "\thg2\n",
      "\thg3\n",
      "\thg4\n",
      "FOR_summary\n",
      "\tPh2\n",
      "\tPh1\n",
      "\tsac\n",
      "\tb1\n",
      "\tb2\n",
      "\tb3\n",
      "\ti1\n",
      "\ti2\n",
      "\tiii1\n",
      "\tiii3\n",
      "\thg1\n",
      "\thg2\n",
      "\thg3\n",
      "\thg4\n",
      "avlines\n",
      "\tlmr\n",
      "\trwing\n",
      "\tsac\n",
      "\tb1\n",
      "\tb2\n",
      "\tb3\n",
      "\ti1\n",
      "\ti2\n",
      "\tiii1\n",
      "\tiii3\n",
      "\thg1\n",
      "\thg2\n",
      "\thg3\n",
      "\thg4\n"
     ]
    }
   ],
   "source": [
    "XMLNS = \"http://flyranch.github.io/figurefirst/\"\n",
    "for el in layout.layout.getElementsByTagNameNS(XMLNS,'group'):\n",
    "    print el.getAttribute('figurefirst:name')\n",
    "    for sel in el.parentNode.getElementsByTagNameNS(XMLNS,'axis'):\n",
    "        print '\\t' + sel.getAttribute('figurefirst:name')"
   ]
  },
  {
   "cell_type": "code",
   "execution_count": null,
   "metadata": {
    "collapsed": true
   },
   "outputs": [],
   "source": []
  }
 ],
 "metadata": {
  "kernelspec": {
   "display_name": "Python 2",
   "language": "python",
   "name": "python2"
  },
  "language_info": {
   "codemirror_mode": {
    "name": "ipython",
    "version": 2
   },
   "file_extension": ".py",
   "mimetype": "text/x-python",
   "name": "python",
   "nbconvert_exporter": "python",
   "pygments_lexer": "ipython2",
   "version": "2.7.11"
  }
 },
 "nbformat": 4,
 "nbformat_minor": 0
}
