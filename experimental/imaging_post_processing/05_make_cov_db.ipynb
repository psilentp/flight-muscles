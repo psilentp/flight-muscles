{
 "cells": [
  {
   "cell_type": "code",
   "execution_count": 3,
   "metadata": {
    "collapsed": true
   },
   "outputs": [],
   "source": [
    "import group_data as gd\n",
    "import flylib\n",
    "import numpy as np"
   ]
  },
  {
   "cell_type": "code",
   "execution_count": 4,
   "metadata": {
    "collapsed": false
   },
   "outputs": [
    {
     "name": "stdout",
     "output_type": "stream",
     "text": [
      "Populating the interactive namespace from numpy and matplotlib\n"
     ]
    }
   ],
   "source": [
    "%pylab inline\n",
    "%config InlineBackend.figure_format = 'svg'\n",
    "import pylab as plb\n",
    "plb.rcParams['pdf.fonttype'] = 42"
   ]
  },
  {
   "cell_type": "markdown",
   "metadata": {},
   "source": [
    "### Calculate the cross covariance data for each signal type and add it to the trial_db"
   ]
  },
  {
   "cell_type": "code",
   "execution_count": 6,
   "metadata": {
    "collapsed": false
   },
   "outputs": [
    {
     "name": "stdout",
     "output_type": "stream",
     "text": [
      "[0, 1, 2, 3, 4, 5, 6, 7, 8, 9, 10, 11, 12, 13, 14, 15, 16, 17, 18, 19, 20, 21, 22, 23, 24, 25, 26, 27, 28, 29, 30, 31]\n"
     ]
    }
   ],
   "source": [
    "#fit to each fly in serial (block) but break up the data to run in parallel within a fly.\n",
    "from IPython.parallel import Client\n",
    "clients = Client() \n",
    "clients.block = True\n",
    "print clients.ids\n",
    "v = clients[:]"
   ]
  },
  {
   "cell_type": "code",
   "execution_count": null,
   "metadata": {
    "collapsed": true
   },
   "outputs": [],
   "source": [
    "#amplitude\n",
    "import h5py\n",
    "import numpy as np\n",
    "trial_db = h5py.File('trial_db.hdf5','a')\n",
    "\n",
    "muscle_list =  ['b1','b2','b3',\n",
    "                'i1','i2',\n",
    "                'iii1','iii3','iii24',\n",
    "                'hg1','hg2','hg3','hg4',\n",
    "                'tpd','tpv','ttm','pr']\n",
    "from scipy.signal import correlate\n",
    "from scipy.signal import detrend\n",
    "corr_dict = dict()\n",
    "\n",
    "for mname in muscle_list:\n",
    "    sarray1 = np.array(trial_db[mname])\n",
    "    sarray2 = np.array(trial_db['Ph1'])\n",
    "    xdata = [detrend(a1[np.isfinite(a1)]) for a1 in sarray1]\n",
    "    ydata = [detrend(a1[np.isfinite(a1)]) for a1 in sarray2]\n",
    "    corrlist = v.map(correlate,xdata,ydata,['same']*len(xdata))\n",
    "    corrmtrx = np.empty((len(corrlist),1149))\n",
    "    corrmtrx[:] = np.nan\n",
    "    for i,cd in enumerate(corrlist):\n",
    "        if np.shape(cd)[0] > 1147:\n",
    "            corrmtrx[i,:1147] = cd[:1147]\n",
    "        else:\n",
    "            pass\n",
    "    corr_dict[mname] = corrmtrx\n",
    "for key in corr_dict:\n",
    "    trial_db.create_dataset('xcov_amp' + key,data = np.array(corr_dict[key]),  compression=\"gzip\",compression_opts=5)\n",
    "trial_db.flush()"
   ]
  },
  {
   "cell_type": "code",
   "execution_count": null,
   "metadata": {
    "collapsed": true
   },
   "outputs": [],
   "source": [
    "#frequency\n",
    "import h5py\n",
    "import numpy as np\n",
    "trial_db = h5py.File('trial_db.hdf5','a')\n",
    "\n",
    "muscle_list =  ['b1','b2','b3',\n",
    "                'i1','i2',\n",
    "                'iii1','iii3','iii24',\n",
    "                'hg1','hg2','hg3','hg4',\n",
    "                'tpd','tpv','ttm','pr']\n",
    "from scipy.signal import correlate\n",
    "from scipy.signal import detrend\n",
    "corr_dict = dict()\n",
    "\n",
    "def wrapped_correlate(xdata,ydata,mode):\n",
    "    from scipy.signal import correlate\n",
    "    import numpy as np\n",
    "    if np.squeeze(np.shape(xdata)) == np.squeeze(np.shape(ydata)):\n",
    "        return correlate(xdata,ydata,mode)\n",
    "    else:\n",
    "        return np.nan\n",
    "     \n",
    "for mname in muscle_list:\n",
    "    sarray1 = np.array(trial_db[mname])\n",
    "    sarray2 = np.array(trial_db['wb_frequency'])\n",
    "    xdata = [detrend(a1[np.isfinite(a1)]) for a1 in sarray1]\n",
    "    ydata = [detrend(a1[np.isfinite(a1)]) for a1 in sarray2]\n",
    "    corrlist = v.map(wrapped_correlate,xdata,ydata,['same']*len(xdata))\n",
    "    corrmtrx = np.empty((len(corrlist),1149))\n",
    "    corrmtrx[:] = np.nan\n",
    "    for i,cd in enumerate(corrlist):\n",
    "        if np.squeeze(np.shape(cd)) > 1147:\n",
    "            corrmtrx[i,:1147] = cd[:1147]\n",
    "        else:\n",
    "            pass\n",
    "    corr_dict[mname] = corrmtrx\n",
    "for key in corr_dict:\n",
    "    trial_db.create_dataset('xcov_freq' + key,data = np.array(corr_dict[key]),  compression=\"gzip\",compression_opts=5)\n",
    "trial_db.flush()"
   ]
  },
  {
   "cell_type": "markdown",
   "metadata": {
    "collapsed": true
   },
   "source": [
    "### summarize xcov data accross flies - just stripe fixation for now."
   ]
  },
  {
   "cell_type": "code",
   "execution_count": 5,
   "metadata": {
    "collapsed": false
   },
   "outputs": [
    {
     "name": "stderr",
     "output_type": "stream",
     "text": [
      "/home/psilentp/anaconda/lib/python2.7/site-packages/IPython/kernel/__main__.py:15: RuntimeWarning: invalid value encountered in greater\n"
     ]
    }
   ],
   "source": [
    "import h5py\n",
    "trial_db = h5py.File('trial_db.hdf5','r')\n",
    "xi = np.linspace(0,23,1150)\n",
    "tlag = xi-xi[1150/2.0]\n",
    "tlag = tlag[:1149]\n",
    "muscle_list =  ['b1','b2','b3',\n",
    "                'i1','i2',\n",
    "                'iii1','iii3','iii24',\n",
    "                'hg1','hg2','hg3','hg4',\n",
    "                'tpd','tpv','ttm','pr']\n",
    "swarm_names = np.array(trial_db['swarm_names'])\n",
    "fly_numbers = np.array(trial_db['fly_numbers'])\n",
    "wb_frequency = np.array(trial_db['wb_frequency'])\n",
    "trial_names = np.array(trial_db['trial_names'])\n",
    "wb_selection = np.sum(wb_frequency >50,axis = 1)>1000\n",
    "swarm_set = [sw for sw in set(swarm_names) if not('pr' in sw)]\n",
    "fly_set = set(fly_numbers)"
   ]
  },
  {
   "cell_type": "code",
   "execution_count": 6,
   "metadata": {
    "collapsed": false
   },
   "outputs": [
    {
     "name": "stderr",
     "output_type": "stream",
     "text": [
      "/home/psilentp/anaconda/lib/python2.7/site-packages/IPython/kernel/__main__.py:5: RuntimeWarning: invalid value encountered in greater\n",
      "/home/psilentp/anaconda/lib/python2.7/site-packages/numpy/lib/nanfunctions.py:662: RuntimeWarning: All-NaN slice encountered\n",
      "  warnings.warn(\"All-NaN slice encountered\", RuntimeWarning)\n"
     ]
    },
    {
     "name": "stdout",
     "output_type": "stream",
     "text": [
      "GMR22H05_GFP\n",
      "GMR31E10\n",
      "GMR75B06_GFP\n",
      "GMR22H05\n",
      "GMR29E05_GFP\n",
      "GMR39E01\n",
      "GMR31E10_GFP\n",
      "GMR10A12\n",
      "GMR74F03_GFP\n",
      "GMR39E01_GFP\n",
      "GMR75B06\n",
      "GMR74F03\n",
      "GMR29E05\n",
      "GMR10A12_GFP\n"
     ]
    }
   ],
   "source": [
    "#calculate the median xcov functions between stroke amplitude and muscle activity\n",
    "#load into a dictionary keyed by group and then muscle\n",
    "cov_dict = dict()\n",
    "trial_selection = (trial_names == 'stripe_fix')\n",
    "wb_selection = np.sum(wb_frequency >50)>1000\n",
    "wb_selection &= trial_selection\n",
    "for swarm in swarm_set:\n",
    "    print swarm\n",
    "    swarm_selection = (swarm == swarm_names) & wb_selection\n",
    "    cov_dict[swarm] = dict()\n",
    "    for mname in muscle_list:\n",
    "        cov_dict[swarm][mname] = list()\n",
    "        for flynum in fly_set:\n",
    "            selection  = (flynum == fly_numbers) & swarm_selection\n",
    "            if sum(selection) > 2:\n",
    "                trace = nanmedian(np.array(trial_db['xcov_amp%s'%(mname)])[selection,:],axis = 0)\n",
    "                #trace = nanmedian(np.array(trial_db['xcov_amp_ms%s'%(mname)])[selection,:],axis = 0)\n",
    "                cov_dict[swarm][mname].append(trace)                \n",
    "#xcov_amp_ms"
   ]
  },
  {
   "cell_type": "code",
   "execution_count": 8,
   "metadata": {
    "collapsed": false
   },
   "outputs": [],
   "source": [
    "import h5py\n",
    "import os\n",
    "#os.listdir('./')\n",
    "os.remove('cov_db_amp_sf.hdf5')\n",
    "cov_db = h5py.File('cov_db_amp_sf.hdf5','a')\n",
    "for key in swarm_set:\n",
    "    cov_db.create_group(key)\n",
    "    for key2 in cov_dict[key].keys():\n",
    "        cov_db[key].create_dataset(key2,data = np.array(cov_dict[key][key2]),  compression=\"gzip\",compression_opts=5)\n",
    "cov_db.flush()"
   ]
  },
  {
   "cell_type": "code",
   "execution_count": 1,
   "metadata": {
    "collapsed": false
   },
   "outputs": [
    {
     "ename": "NameError",
     "evalue": "name 'trial_names' is not defined",
     "output_type": "error",
     "traceback": [
      "\u001b[1;31m---------------------------------------------------------------------------\u001b[0m",
      "\u001b[1;31mNameError\u001b[0m                                 Traceback (most recent call last)",
      "\u001b[1;32m<ipython-input-1-982da8b26b4c>\u001b[0m in \u001b[0;36m<module>\u001b[1;34m()\u001b[0m\n\u001b[0;32m      2\u001b[0m \u001b[1;31m#load into a dictionary keyed by group and then muscle\u001b[0m\u001b[1;33m\u001b[0m\u001b[1;33m\u001b[0m\u001b[0m\n\u001b[0;32m      3\u001b[0m \u001b[0mcov_dict_freq\u001b[0m \u001b[1;33m=\u001b[0m \u001b[0mdict\u001b[0m\u001b[1;33m(\u001b[0m\u001b[1;33m)\u001b[0m\u001b[1;33m\u001b[0m\u001b[0m\n\u001b[1;32m----> 4\u001b[1;33m \u001b[0mtrial_selection\u001b[0m \u001b[1;33m=\u001b[0m \u001b[1;33m(\u001b[0m\u001b[0mtrial_names\u001b[0m \u001b[1;33m==\u001b[0m \u001b[1;34m'stripe_fix'\u001b[0m\u001b[1;33m)\u001b[0m\u001b[1;33m\u001b[0m\u001b[0m\n\u001b[0m\u001b[0;32m      5\u001b[0m \u001b[0mwb_selection\u001b[0m \u001b[1;33m=\u001b[0m \u001b[0mnp\u001b[0m\u001b[1;33m.\u001b[0m\u001b[0msum\u001b[0m\u001b[1;33m(\u001b[0m\u001b[0mwb_frequency\u001b[0m \u001b[1;33m>\u001b[0m\u001b[1;36m50\u001b[0m\u001b[1;33m)\u001b[0m\u001b[1;33m>\u001b[0m\u001b[1;36m1000\u001b[0m\u001b[1;33m\u001b[0m\u001b[0m\n\u001b[0;32m      6\u001b[0m \u001b[0mwb_selection\u001b[0m \u001b[1;33m&=\u001b[0m \u001b[0mtrial_selection\u001b[0m\u001b[1;33m\u001b[0m\u001b[0m\n",
      "\u001b[1;31mNameError\u001b[0m: name 'trial_names' is not defined"
     ]
    }
   ],
   "source": [
    "#calculate the median xcov functions between stroke frequency and muscle activity\n",
    "#load into a dictionary keyed by group and then muscle\n",
    "cov_dict_freq = dict()\n",
    "trial_selection = (trial_names == 'stripe_fix')\n",
    "wb_selection = np.sum(wb_frequency >50)>1000\n",
    "wb_selection &= trial_selection\n",
    "for swarm in swarm_set:\n",
    "    print swarm\n",
    "    swarm_selection = (swarm == swarm_names) & wb_selection\n",
    "    cov_dict_freq[swarm] = dict()\n",
    "    for mname in muscle_list:\n",
    "        cov_dict_freq[swarm][mname] = list()\n",
    "        for flynum in fly_set:\n",
    "            selection  = (flynum == fly_numbers) & swarm_selection\n",
    "            if sum(selection) > 2:\n",
    "                trace = nanmedian(np.array(trial_db['xcov_freq%s'%(mname)])[selection,:],axis = 0)\n",
    "                cov_dict_freq[swarm][mname].append(trace)"
   ]
  },
  {
   "cell_type": "code",
   "execution_count": 6,
   "metadata": {
    "collapsed": true
   },
   "outputs": [],
   "source": [
    "import h5py\n",
    "import os\n",
    "#os.listdir('./')\n",
    "#os.remove('cov_db_freq_sf.hdf5')\n",
    "cov_db_freq = h5py.File('cov_db_freq_sf.hdf5','a')\n",
    "for key in swarm_set:\n",
    "    cov_db_freq.create_group(key)\n",
    "    for key2 in cov_dict_freq[key].keys():\n",
    "        cov_db_freq[key].create_dataset(key2,data = np.array(cov_dict_freq[key][key2]),  compression=\"gzip\",compression_opts=5)\n",
    "cov_db_freq.flush()"
   ]
  },
  {
   "cell_type": "code",
   "execution_count": null,
   "metadata": {
    "collapsed": true
   },
   "outputs": [],
   "source": []
  }
 ],
 "metadata": {
  "kernelspec": {
   "display_name": "Python 2",
   "language": "python",
   "name": "python2"
  },
  "language_info": {
   "codemirror_mode": {
    "name": "ipython",
    "version": 2
   },
   "file_extension": ".py",
   "mimetype": "text/x-python",
   "name": "python",
   "nbconvert_exporter": "python",
   "pygments_lexer": "ipython2",
   "version": "2.7.9"
  }
 },
 "nbformat": 4,
 "nbformat_minor": 0
}
