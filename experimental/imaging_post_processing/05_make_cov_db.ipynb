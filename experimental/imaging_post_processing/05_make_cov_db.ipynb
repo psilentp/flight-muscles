{
 "cells": [
  {
   "cell_type": "code",
   "execution_count": 12,
   "metadata": {
    "collapsed": true
   },
   "outputs": [],
   "source": [
    "import group_data as gd\n",
    "import flylib\n",
    "import numpy as np"
   ]
  },
  {
   "cell_type": "code",
   "execution_count": 13,
   "metadata": {
    "collapsed": false
   },
   "outputs": [
    {
     "name": "stdout",
     "output_type": "stream",
     "text": [
      "Populating the interactive namespace from numpy and matplotlib\n"
     ]
    },
    {
     "name": "stderr",
     "output_type": "stream",
     "text": [
      "WARNING: pylab import has clobbered these variables: ['trace']\n",
      "`%matplotlib` prevents importing * from pylab and numpy\n"
     ]
    }
   ],
   "source": [
    "%pylab inline\n",
    "%config InlineBackend.figure_format = 'svg'\n",
    "import pylab as plb\n",
    "plb.rcParams['pdf.fonttype'] = 42"
   ]
  },
  {
   "cell_type": "code",
   "execution_count": 14,
   "metadata": {
    "collapsed": true
   },
   "outputs": [],
   "source": [
    "### summarize xcov data accross flies - just stripe fixation for now."
   ]
  },
  {
   "cell_type": "code",
   "execution_count": 15,
   "metadata": {
    "collapsed": false
   },
   "outputs": [
    {
     "name": "stderr",
     "output_type": "stream",
     "text": [
      "/home/psilentp/anaconda/lib/python2.7/site-packages/IPython/kernel/__main__.py:15: RuntimeWarning: invalid value encountered in greater\n"
     ]
    }
   ],
   "source": [
    "import h5py\n",
    "trial_db = h5py.File('trial_db.hdf5','r')\n",
    "xi = np.linspace(0,23,1150)\n",
    "tlag = xi-xi[1150/2.0]\n",
    "tlag = tlag[:1149]\n",
    "muscle_list =  ['b1','b2','b3',\n",
    "                'i1','i2',\n",
    "                'iii1','iii3','iii24',\n",
    "                'hg1','hg2','hg3','hg4',\n",
    "                'tpd','tpv','ttm','pr']\n",
    "swarm_names = np.array(trial_db['swarm_names'])\n",
    "fly_numbers = np.array(trial_db['fly_numbers'])\n",
    "wb_frequency = np.array(trial_db['wb_frequency'])\n",
    "trial_names = np.array(trial_db['trial_names'])\n",
    "wb_selection = np.sum(wb_frequency >50,axis = 1)>1000\n",
    "swarm_set = [sw for sw in set(swarm_names) if not('pr' in sw)]\n",
    "fly_set = set(fly_numbers)"
   ]
  },
  {
   "cell_type": "code",
   "execution_count": 16,
   "metadata": {
    "collapsed": false
   },
   "outputs": [
    {
     "name": "stdout",
     "output_type": "stream",
     "text": [
      "GMR22H05_GFP\n",
      "GMR31E10\n",
      "GMR75B06_GFP\n",
      "GMR22H05\n",
      "GMR29E05_GFP\n",
      "GMR39E01\n",
      "GMR31E10_GFP\n",
      "GMR10A12\n",
      "GMR74F03_GFP\n",
      "GMR39E01_GFP\n",
      "GMR75B06\n",
      "GMR74F03\n",
      "GMR29E05\n",
      "GMR10A12_GFP\n"
     ]
    },
    {
     "name": "stderr",
     "output_type": "stream",
     "text": [
      "/home/psilentp/anaconda/lib/python2.7/site-packages/IPython/kernel/__main__.py:5: RuntimeWarning: invalid value encountered in greater\n"
     ]
    }
   ],
   "source": [
    "#calculate the median xcov functions and\n",
    "#load into a dictionary keyed by group and then muscle\n",
    "cov_dict = dict()\n",
    "trial_selection = (trial_names == 'stripe_fix')\n",
    "wb_selection = np.sum(wb_frequency >50)>1000\n",
    "wb_selection &= trial_selection\n",
    "for swarm in swarm_set:\n",
    "    print swarm\n",
    "    swarm_selection = (swarm == swarm_names) & wb_selection\n",
    "    cov_dict[swarm] = dict()\n",
    "    for mname in muscle_list:\n",
    "        cov_dict[swarm][mname] = list()\n",
    "        for flynum in fly_set:\n",
    "            selection  = (flynum == fly_numbers) & swarm_selection\n",
    "            if sum(selection) > 2:\n",
    "                trace = nanmedian(np.array(trial_db['xcov_amp%s'%(mname)])[selection,:],axis = 0)\n",
    "                cov_dict[swarm][mname].append(trace)               "
   ]
  },
  {
   "cell_type": "code",
   "execution_count": 17,
   "metadata": {
    "collapsed": false
   },
   "outputs": [],
   "source": [
    "import h5py\n",
    "import os\n",
    "#os.listdir('./')\n",
    "os.remove('cov_db_sf.hdf5')\n",
    "cov_db = h5py.File('cov_db_sf.hdf5','a')\n",
    "for key in swarm_set:\n",
    "    cov_db.create_group(key)\n",
    "    for key2 in cov_dict[key].keys():\n",
    "        cov_db[key].create_dataset(key2,data = np.array(cov_dict[key][key2]),  compression=\"gzip\",compression_opts=5)\n",
    "cov_db.flush()"
   ]
  },
  {
   "cell_type": "code",
   "execution_count": 18,
   "metadata": {
    "collapsed": false
   },
   "outputs": [
    {
     "data": {
      "text/plain": [
       "['GMR22H05_GFP',\n",
       " 'GMR31E10',\n",
       " 'GMR75B06_GFP',\n",
       " 'GMR22H05',\n",
       " 'GMR29E05_GFP',\n",
       " 'GMR39E01',\n",
       " 'GMR31E10_GFP',\n",
       " 'GMR10A12',\n",
       " 'GMR74F03_GFP',\n",
       " 'GMR39E01_GFP',\n",
       " 'GMR75B06',\n",
       " 'GMR74F03',\n",
       " 'GMR29E05',\n",
       " 'GMR10A12_GFP']"
      ]
     },
     "execution_count": 18,
     "metadata": {},
     "output_type": "execute_result"
    }
   ],
   "source": [
    "swarm_set"
   ]
  },
  {
   "cell_type": "code",
   "execution_count": null,
   "metadata": {
    "collapsed": true
   },
   "outputs": [],
   "source": []
  }
 ],
 "metadata": {
  "kernelspec": {
   "display_name": "Python 2",
   "language": "python",
   "name": "python2"
  },
  "language_info": {
   "codemirror_mode": {
    "name": "ipython",
    "version": 2
   },
   "file_extension": ".py",
   "mimetype": "text/x-python",
   "name": "python",
   "nbconvert_exporter": "python",
   "pygments_lexer": "ipython2",
   "version": "2.7.9"
  }
 },
 "nbformat": 4,
 "nbformat_minor": 0
}
