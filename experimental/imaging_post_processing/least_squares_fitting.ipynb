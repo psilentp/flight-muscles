{
 "cells": [
  {
   "cell_type": "code",
   "execution_count": 1,
   "metadata": {
    "collapsed": true
   },
   "outputs": [],
   "source": [
    "import group_data as gd"
   ]
  },
  {
   "cell_type": "code",
   "execution_count": 2,
   "metadata": {
    "collapsed": true
   },
   "outputs": [],
   "source": [
    "def parse_GMR_genotype(genotype):\n",
    "    \"\"\"get the GMR and UAS keys in a given genotype\"\"\"\n",
    "    print genotype\n",
    "    gcamp_idx =  genotype.find('GCaMP6f')\n",
    "    GFP_idx = genotype.find('GFP')\n",
    "    gmr_idx = genotype.find('GMR')\n",
    "    gmr_str = genotype[gmr_idx+3:gmr_idx+8]\n",
    "    if gcamp_idx > 0:\n",
    "        return {'uas':'GCaMP6f','gal4':gmr_str}"
   ]
  },
  {
   "cell_type": "code",
   "execution_count": 8,
   "metadata": {
    "collapsed": true
   },
   "outputs": [],
   "source": [
    "def get_line_database(line_name):\n",
    "    #print line_name\n",
    "    import cPickle\n",
    "    f = open('../mn_expression_matrix_plot/line_database.cpkl','rb')\n",
    "    line_database = cPickle.load(f)\n",
    "    f.close()\n",
    "    return line_database\n",
    "\n",
    "def get_muscle_list(line_name):\n",
    "    line_database = get_line_database(line_name)\n",
    "    muscle_names = list()\n",
    "    for key in line_database[line_name].keys():\n",
    "        if line_database[line_name][key] > 0:\n",
    "            muscle_names.append(key)\n",
    "    muscle_names = sorted(muscle_names)\n",
    "    #muscle_names = sorted(get_muscle_list(line_name))\n",
    "    return muscle_names"
   ]
  },
  {
   "cell_type": "code",
   "execution_count": 4,
   "metadata": {
    "collapsed": true
   },
   "outputs": [],
   "source": [
    "fly = gd.swarms['GMR22H05'].flies[0]"
   ]
  },
  {
   "cell_type": "code",
   "execution_count": null,
   "metadata": {
    "collapsed": true
   },
   "outputs": [],
   "source": [
    "def get_update_list(file_name ='nnls_fits_no_bk_dF_F.cpkl', \n",
    "                     swarms = gd.swarms,\n",
    "                     replace = False):\n",
    "    \"\"\" if replace is False this will scan the database to \n",
    "    create a 'pathlist' containing just flies that don't have \n",
    "    a file with file_name, otherwise all the flies in swarms will be used\"\"\"\n",
    "    import os\n",
    "    update_flylist = list()\n",
    "    for swarm_name,swarm in swarms.items():\n",
    "        #print swarm_name\n",
    "        for fly in swarm.flies:\n",
    "            try:\n",
    "                if not(replace):\n",
    "                    if os.path.exists(fly.fly_path + 'nnls_fits_no_bk_dF_F.cpkl'):\n",
    "                        pass\n",
    "                        #print str(fly.fly_num) + ' exists'\n",
    "                    else:\n",
    "                        update_flylist.append((fly.fly_path,'GMR22H05'))\n",
    "                else:\n",
    "                    update_flylist.append(fly)\n",
    "            except Exception as er:\n",
    "                print er\n",
    "    return update_flylist"
   ]
  },
  {
   "cell_type": "code",
   "execution_count": null,
   "metadata": {
    "collapsed": true
   },
   "outputs": [],
   "source": [
    "flypaths = get_update_paths(swarms = gd.swarms)\n",
    "#fly_paths.append((fly.fly_path,key.split('_')[0]))"
   ]
  },
  {
   "cell_type": "code",
   "execution_count": null,
   "metadata": {
    "collapsed": true
   },
   "outputs": [],
   "source": [
    "#fit to each fly in serial (block) but break up the data to run in parallel within a fly.\n",
    "from IPython.parallel import Client\n",
    "clients = Client() \n",
    "clients.block = True\n",
    "print clients.ids\n",
    "v = clients[:]"
   ]
  },
  {
   "cell_type": "code",
   "execution_count": null,
   "metadata": {
    "collapsed": true
   },
   "outputs": [],
   "source": [
    "def fit_to_model(imchunk,model, mode = 'pinv',fit_pix_mask = None,baseline = None):\n",
    "    import numpy as np\n",
    "    im_array = (imchunk-baseline)/baseline\n",
    "    imshape = np.shape(im_array[0])\n",
    "    im_array = im_array.reshape((-1,imshape[0]*imshape[1]))\n",
    "    if mode == 'nnls':\n",
    "        fits = np.empty((np.shape(model)[0],np.shape(im_array)[0]))\n",
    "        for i,im2 in enumerate(im_array):\n",
    "            im = im2.copy()\n",
    "            im[~np.isfinite(im)] = 0\n",
    "            from scipy.optimize import nnls\n",
    "            if not(fit_pix_mask is None):\n",
    "                fits[:,i] = nnls(model[:,fit_pix_mask].T,im[fit_pix_mask])[0]\n",
    "            else:\n",
    "                fits[:,i] = nnls(model.T,im)[0]\n",
    "    else:\n",
    "        im = im_array\n",
    "        print np.shape(im_array)\n",
    "        from numpy.linalg import pinv\n",
    "        if not(fit_pix_mask is None):\n",
    "            fits = np.dot(pinv(model[:,fit_pix_mask]).T,im[:,fit_pix_mask].T)\n",
    "        else:\n",
    "            fits = np.dot(pinv(model).T,im)\n",
    "    return fits\n",
    "\n",
    "#extract the data give the fly_path and 'line_name'\n",
    "def extract_signals(fly):\n",
    "    import muscle_model as mm\n",
    "    import numpy as np\n",
    "    import h5py\n",
    "    confocal_model = mm.GeometricModel(filepath = 'model_data.cpkl')\n",
    "    confocal_view = mm.ModelViewMPL(confocal_model)\n",
    "    fly_path = fly.fly_path\n",
    "    line_name = parse_GMR_genotype(fly.get_genotype())['gal4']\n",
    "    #first create the model for the fly\n",
    "    #get the list of muscles for a given line\n",
    "    muscles = get_muscle_list(line_name)\n",
    "    muscles = [m for m in muscles if not('DVM' in m) and not('DLM' in m) and not('ps' in m)]\n",
    "    #get a reference to the image data\n",
    "    fly_record = h5py.File(fly_path + 'fly_record.hdf5','r')\n",
    "    exp_record = fly_record['experiments'].values()[0]\n",
    "    imgs = exp_record['tiff_data']['images']\n",
    "    #construct the model for a fly\n",
    "    import os\n",
    "    import cPickle\n",
    "    pkname = fly_path + '/basis_fits.cpkl'\n",
    "    fly_frame = mm.Frame();fly_frame.load(pkname)    \n",
    "    #get the mask of all the muscles for fit\n",
    "    masks = confocal_model.get_masks(fly_frame,np.shape(imgs[0]))\n",
    "    #create the model using only the muscles that express in a given line\n",
    "    model = np.vstack([masks[mask_key].T.ravel().astype(float) for mask_key in muscles])\n",
    "    fit_pix_mask = np.sum(model,axis=0) > 0\n",
    "    #add a background term\n",
    "    ####model = np.vstack([model,np.ones_like(masks[mask_key].ravel())])\n",
    "    #plb.imshow(np.sum(model,axis = 0).reshape(np.shape(imgs[0])),cmap = plb.cm.gray)\n",
    "    ##subtract baseline epoch from each image\n",
    "    f = open(fly_path + 'epoch_data.cpkl')\n",
    "    import cPickle\n",
    "    baseline_range = cPickle.load(f)['baseline_F']\n",
    "    f.close()\n",
    "    baseln = np.mean(imgs[baseline_range],axis = 0)\n",
    "    \n",
    "    chnk_sz = 2000\n",
    "    num_samps = np.shape(imgs)[0]\n",
    "    chunks = [slice(x,x+chnk_sz if x+chnk_sz < num_samps else num_samps) for x in range(0,num_samps,chnk_sz)]\n",
    "    \n",
    "    img_chunks = [np.array(imgs[chunk]) for chunk in chunks]\n",
    "    models = [model for chunk in chunks]\n",
    "    modes = ['nnls' for chunk in chunks]\n",
    "    fit_pix_masks = [fit_pix_mask for chunk in chunks]\n",
    "    baselines = [baseln for chunk in chunks]\n",
    "    \n",
    "    fits = v.map(fit_to_model,img_chunks,models,modes,fit_pix_masks,baselines)\n",
    "    #fit = fit_to_model(imchunk,model,mode = 'nnls',fit_pix_mask = fit_pix_mask)\n",
    "    return fits,muscles"
   ]
  },
  {
   "cell_type": "code",
   "execution_count": null,
   "metadata": {
    "collapsed": true
   },
   "outputs": [],
   "source": [
    "import numpy as np\n",
    "for flypath in flypaths:\n",
    "    print flypath\n",
    "    try:\n",
    "        fits,muscles = extract_signals(*flypath)\n",
    "        f = open(flypath[0]+'nnls_fits_no_bk_dF_F.cpkl','wb')\n",
    "        import cPickle as cpkl\n",
    "        cpkl.dump({'fits':np.hstack(fits),'muscles':muscles},f)\n",
    "        f.close()\n",
    "    except IOError as err:\n",
    "        print flypath\n",
    "        print err"
   ]
  }
 ],
 "metadata": {
  "kernelspec": {
   "display_name": "Python 2",
   "language": "python",
   "name": "python2"
  },
  "language_info": {
   "codemirror_mode": {
    "name": "ipython",
    "version": 2
   },
   "file_extension": ".py",
   "mimetype": "text/x-python",
   "name": "python",
   "nbconvert_exporter": "python",
   "pygments_lexer": "ipython2",
   "version": "2.7.9"
  }
 },
 "nbformat": 4,
 "nbformat_minor": 0
}
