{
 "cells": [
  {
   "cell_type": "code",
   "execution_count": 2,
   "metadata": {
    "collapsed": true
   },
   "outputs": [],
   "source": [
    "import group_data as gd\n",
    "import flylib\n",
    "import numpy as np"
   ]
  },
  {
   "cell_type": "code",
   "execution_count": 3,
   "metadata": {
    "collapsed": false
   },
   "outputs": [
    {
     "name": "stdout",
     "output_type": "stream",
     "text": [
      "Populating the interactive namespace from numpy and matplotlib\n"
     ]
    }
   ],
   "source": [
    "%pylab inline\n",
    "%config InlineBackend.figure_format = 'svg'\n",
    "import pylab as plb\n",
    "plb.rcParams['pdf.fonttype'] = 42"
   ]
  },
  {
   "cell_type": "code",
   "execution_count": 4,
   "metadata": {
    "collapsed": true
   },
   "outputs": [],
   "source": [
    "### summarize xcov data accross flies - just stripe fixation for now."
   ]
  },
  {
   "cell_type": "code",
   "execution_count": 9,
   "metadata": {
    "collapsed": false
   },
   "outputs": [
    {
     "name": "stderr",
     "output_type": "stream",
     "text": [
      "/home/psilentp/anaconda/lib/python2.7/site-packages/IPython/kernel/__main__.py:15: RuntimeWarning: invalid value encountered in greater\n"
     ]
    }
   ],
   "source": [
    "import h5py\n",
    "trial_db = h5py.File('trial_db.hdf5','r')\n",
    "xi = np.linspace(0,23,1150)\n",
    "tlag = xi-xi[1150/2.0]\n",
    "tlag = tlag[:1149]\n",
    "muscle_list =  ['b1','b2','b3',\n",
    "                'i1','i2',\n",
    "                'iii1','iii3','iii24',\n",
    "                'hg1','hg2','hg3','hg4',\n",
    "                'tpd','tpv','ttm','pr']\n",
    "swarm_names = np.array(trial_db['swarm_names'])\n",
    "fly_numbers = np.array(trial_db['fly_numbers'])\n",
    "wb_frequency = np.array(trial_db['wb_frequency'])\n",
    "trial_names = np.array(trial_db['trial_names'])\n",
    "wb_selection = np.sum(wb_frequency >50,axis = 1)>1000\n",
    "swarm_set = [sw for sw in set(swarm_names) if not('pr' in sw)]\n",
    "fly_set = set(fly_numbers)"
   ]
  },
  {
   "cell_type": "code",
   "execution_count": 11,
   "metadata": {
    "collapsed": false
   },
   "outputs": [
    {
     "name": "stderr",
     "output_type": "stream",
     "text": [
      "/home/psilentp/anaconda/lib/python2.7/site-packages/IPython/kernel/__main__.py:5: RuntimeWarning: invalid value encountered in greater\n",
      "/home/psilentp/anaconda/lib/python2.7/site-packages/numpy/lib/nanfunctions.py:662: RuntimeWarning: All-NaN slice encountered\n",
      "  warnings.warn(\"All-NaN slice encountered\", RuntimeWarning)\n"
     ]
    },
    {
     "name": "stdout",
     "output_type": "stream",
     "text": [
      "GMR22H05_GFP\n",
      "GMR31E10\n",
      "GMR75B06_GFP\n",
      "GMR22H05\n",
      "GMR29E05_GFP\n",
      "GMR39E01\n",
      "GMR31E10_GFP\n",
      "GMR10A12\n",
      "GMR74F03_GFP\n",
      "GMR75B06\n",
      "GMR74F03\n",
      "GMR29E05\n",
      "GMR10A12_GFP\n"
     ]
    }
   ],
   "source": [
    "#calculate the median xcov functions and\n",
    "#load into a dictionary keyed by group and then muscle\n",
    "cov_dict = dict()\n",
    "trial_selection = (trial_names == 'stripe_fix')\n",
    "wb_selection = np.sum(wb_frequency >50)>1000\n",
    "wb_selection &= trial_selection\n",
    "for swarm in swarm_set:\n",
    "    print swarm\n",
    "    swarm_selection = (swarm == swarm_names) & wb_selection\n",
    "    cov_dict[swarm] = dict()\n",
    "    for mname in muscle_list:\n",
    "        cov_dict[swarm][mname] = list()\n",
    "        for flynum in fly_set:\n",
    "            selection  = (flynum == fly_numbers) & swarm_selection\n",
    "            if sum(selection) > 2:\n",
    "                trace = nanmedian(np.array(trial_db['xcov_%s'%(mname)])[selection,:],axis = 0)\n",
    "                cov_dict[swarm][mname].append(trace)               "
   ]
  },
  {
   "cell_type": "code",
   "execution_count": 1,
   "metadata": {
    "collapsed": false
   },
   "outputs": [
    {
     "ename": "NameError",
     "evalue": "name 'start_dict' is not defined",
     "output_type": "error",
     "traceback": [
      "\u001b[1;31m---------------------------------------------------------------------------\u001b[0m",
      "\u001b[1;31mNameError\u001b[0m                                 Traceback (most recent call last)",
      "\u001b[1;32m<ipython-input-1-21b917c76792>\u001b[0m in \u001b[0;36m<module>\u001b[1;34m()\u001b[0m\n\u001b[0;32m      4\u001b[0m \u001b[1;31m#os.remove('cov_db.hdf5')\u001b[0m\u001b[1;33m\u001b[0m\u001b[1;33m\u001b[0m\u001b[0m\n\u001b[0;32m      5\u001b[0m \u001b[0mstart_db\u001b[0m \u001b[1;33m=\u001b[0m \u001b[0mh5py\u001b[0m\u001b[1;33m.\u001b[0m\u001b[0mFile\u001b[0m\u001b[1;33m(\u001b[0m\u001b[1;34m'start_db.hdf5'\u001b[0m\u001b[1;33m,\u001b[0m\u001b[1;34m'a'\u001b[0m\u001b[1;33m)\u001b[0m\u001b[1;33m\u001b[0m\u001b[0m\n\u001b[1;32m----> 6\u001b[1;33m \u001b[1;32mfor\u001b[0m \u001b[0mkey\u001b[0m \u001b[1;32min\u001b[0m \u001b[0mstart_dict\u001b[0m\u001b[1;33m:\u001b[0m\u001b[1;33m\u001b[0m\u001b[0m\n\u001b[0m\u001b[0;32m      7\u001b[0m     \u001b[0mstart_db\u001b[0m\u001b[1;33m.\u001b[0m\u001b[0mcreate_group\u001b[0m\u001b[1;33m(\u001b[0m\u001b[0mkey\u001b[0m\u001b[1;33m)\u001b[0m\u001b[1;33m\u001b[0m\u001b[0m\n\u001b[0;32m      8\u001b[0m     \u001b[1;32mfor\u001b[0m \u001b[0mkey2\u001b[0m \u001b[1;32min\u001b[0m \u001b[0mstart_dict\u001b[0m\u001b[1;33m[\u001b[0m\u001b[0mkey\u001b[0m\u001b[1;33m]\u001b[0m\u001b[1;33m.\u001b[0m\u001b[0mkeys\u001b[0m\u001b[1;33m(\u001b[0m\u001b[1;33m)\u001b[0m\u001b[1;33m:\u001b[0m\u001b[1;33m\u001b[0m\u001b[0m\n",
      "\u001b[1;31mNameError\u001b[0m: name 'start_dict' is not defined"
     ]
    }
   ],
   "source": [
    "import h5py\n",
    "import os\n",
    "#os.listdir('./')\n",
    "#os.remove('cov_db.hdf5')\n",
    "cov_db = h5py.File('cov_db_sf.hdf5','a')\n",
    "for key in start_dict:\n",
    "    cov_db.create_group(key)\n",
    "    for key2 in cov_dict[key].keys():\n",
    "        cov_db[key].create_dataset(key2,data = np.array(cov_dict[key][key2]),  compression=\"gzip\",compression_opts=5)\n",
    "cov_db.flush()"
   ]
  },
  {
   "cell_type": "code",
   "execution_count": null,
   "metadata": {
    "collapsed": true
   },
   "outputs": [],
   "source": []
  }
 ],
 "metadata": {
  "kernelspec": {
   "display_name": "Python 2",
   "language": "python",
   "name": "python2"
  },
  "language_info": {
   "codemirror_mode": {
    "name": "ipython",
    "version": 2
   },
   "file_extension": ".py",
   "mimetype": "text/x-python",
   "name": "python",
   "nbconvert_exporter": "python",
   "pygments_lexer": "ipython2",
   "version": "2.7.9"
  }
 },
 "nbformat": 4,
 "nbformat_minor": 0
}
