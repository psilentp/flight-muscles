{
 "metadata": {
  "name": "",
  "signature": "sha256:a60a2aa892069c277917761e704a0184eb42791c2ac148cc94eaa2b7f48cb5cd"
 },
 "nbformat": 3,
 "nbformat_minor": 0,
 "worksheets": [
  {
   "cells": [
    {
     "cell_type": "code",
     "collapsed": false,
     "input": [
      "import neo\n",
      "import quantities as pq\n",
      "import h5py\n",
      "import flylib\n",
      "reload(flylib)\n",
      "import db_access as dba"
     ],
     "language": "python",
     "metadata": {},
     "outputs": [],
     "prompt_number": 1
    },
    {
     "cell_type": "code",
     "collapsed": false,
     "input": [
      "ephys_group = [111,112,114,115,116,117,118,122,123,124,125]"
     ],
     "language": "python",
     "metadata": {},
     "outputs": [],
     "prompt_number": 2
    },
    {
     "cell_type": "code",
     "collapsed": false,
     "input": [
      "#initilizer = dba.InitDB()\n",
      "#for fnum in ephys_group:\n",
      "#    print fnum\n",
      "#    initilizer[fnum]\n",
      "#initilizer.fly_db.close()"
     ],
     "language": "python",
     "metadata": {},
     "outputs": [],
     "prompt_number": 3
    },
    {
     "cell_type": "code",
     "collapsed": false,
     "input": [],
     "language": "python",
     "metadata": {},
     "outputs": [],
     "prompt_number": 3
    },
    {
     "cell_type": "code",
     "collapsed": false,
     "input": [
      "#fly_db.close()\n",
      "reload(dba)\n",
      "fly_db = dba.get_db()\n",
      "swarm = flylib.Squadron(fly_db,ephys_group)\n",
      "for fly in swarm.flies:\n",
      "    lrb = fly.experiments['lr_blob_expansion']\n",
      "    print 'importing data for fly%s'%fly.fly_num\n",
      "    lrb.import_axon_data()\n",
      "    lrb.import_sequence_data()\n",
      "    print 'syncing data'\n",
      "    try:\n",
      "        lrb.sync_sequences()\n",
      "    except RuntimeError:\n",
      "        print str(fly.fly_num) + ' failed to sync'\n",
      "    print lrb.sequences.keys()\n",
      "    for seq_key in lrb.sequences.keys():\n",
      "        seq = lrb.sequences[seq_key]\n",
      "        print 'initializing seq %s'%(seq.seq_num)\n",
      "        try:\n",
      "            seq.calc_kine_phases(fband = (180,350))\n",
      "            seq.calc_wb_mtrx()\n",
      "            seq.calc_stim_frame(x_thresh = 2.5)\n",
      "            fly_db.flush()\n",
      "        except RuntimeError:\n",
      "            print 'error syncing'"
     ],
     "language": "python",
     "metadata": {},
     "outputs": [
      {
       "output_type": "stream",
       "stream": "stdout",
       "text": [
        "111\n",
        "112"
       ]
      },
      {
       "output_type": "stream",
       "stream": "stdout",
       "text": [
        "\n",
        "114"
       ]
      },
      {
       "output_type": "stream",
       "stream": "stdout",
       "text": [
        "\n",
        "115\n",
        "116"
       ]
      },
      {
       "output_type": "stream",
       "stream": "stdout",
       "text": [
        "\n",
        "117\n",
        "118"
       ]
      },
      {
       "output_type": "stream",
       "stream": "stdout",
       "text": [
        "\n",
        "122\n",
        "123\n",
        "124"
       ]
      },
      {
       "output_type": "stream",
       "stream": "stdout",
       "text": [
        "\n",
        "125\n",
        "130"
       ]
      },
      {
       "output_type": "stream",
       "stream": "stdout",
       "text": [
        "\n",
        "151"
       ]
      },
      {
       "output_type": "stream",
       "stream": "stdout",
       "text": [
        "\n",
        "153"
       ]
      },
      {
       "output_type": "stream",
       "stream": "stdout",
       "text": [
        "\n",
        "154\n",
        "155"
       ]
      },
      {
       "output_type": "stream",
       "stream": "stdout",
       "text": [
        "\n",
        "156"
       ]
      },
      {
       "output_type": "stream",
       "stream": "stdout",
       "text": [
        "\n",
        "157"
       ]
      },
      {
       "output_type": "stream",
       "stream": "stdout",
       "text": [
        "\n",
        "158"
       ]
      },
      {
       "output_type": "stream",
       "stream": "stdout",
       "text": [
        "\n",
        "159"
       ]
      },
      {
       "output_type": "stream",
       "stream": "stdout",
       "text": [
        "\n",
        "160"
       ]
      },
      {
       "output_type": "stream",
       "stream": "stdout",
       "text": [
        "\n",
        "161"
       ]
      },
      {
       "output_type": "stream",
       "stream": "stdout",
       "text": [
        "\n",
        "162"
       ]
      },
      {
       "output_type": "stream",
       "stream": "stdout",
       "text": [
        "\n",
        "163"
       ]
      },
      {
       "output_type": "stream",
       "stream": "stdout",
       "text": [
        "\n",
        "164"
       ]
      },
      {
       "output_type": "stream",
       "stream": "stdout",
       "text": [
        "\n",
        "165"
       ]
      },
      {
       "output_type": "stream",
       "stream": "stdout",
       "text": [
        "\n",
        "166"
       ]
      },
      {
       "output_type": "stream",
       "stream": "stdout",
       "text": [
        "\n",
        "167"
       ]
      },
      {
       "output_type": "stream",
       "stream": "stdout",
       "text": [
        "\n",
        "168"
       ]
      },
      {
       "output_type": "stream",
       "stream": "stdout",
       "text": [
        "\n",
        "169"
       ]
      },
      {
       "output_type": "stream",
       "stream": "stdout",
       "text": [
        "\n",
        "170"
       ]
      },
      {
       "output_type": "stream",
       "stream": "stdout",
       "text": [
        "\n",
        "171\n",
        "172\n",
        "173"
       ]
      },
      {
       "output_type": "stream",
       "stream": "stdout",
       "text": [
        "\n",
        "174\n",
        "175\n",
        "176"
       ]
      },
      {
       "output_type": "stream",
       "stream": "stdout",
       "text": [
        "\n",
        "177"
       ]
      },
      {
       "output_type": "stream",
       "stream": "stdout",
       "text": [
        "\n",
        "178"
       ]
      },
      {
       "output_type": "stream",
       "stream": "stdout",
       "text": [
        "\n",
        "179"
       ]
      },
      {
       "output_type": "stream",
       "stream": "stdout",
       "text": [
        "\n",
        "180"
       ]
      },
      {
       "output_type": "stream",
       "stream": "stdout",
       "text": [
        "\n",
        "181"
       ]
      },
      {
       "output_type": "stream",
       "stream": "stdout",
       "text": [
        "\n",
        "importing data for fly111"
       ]
      },
      {
       "output_type": "stream",
       "stream": "stdout",
       "text": [
        "\n",
        "syncing data"
       ]
      },
      {
       "output_type": "stream",
       "stream": "stderr",
       "text": [
        "flylib.py:252: UserWarning: problem extracting idxs from camera_sync_signal for epoch 2 using even spaced idx's over the camera epoch instead\n",
        "  warnings.warn(\"problem extracting idxs from camera_sync_signal for epoch %s using even spaced idx's over the camera epoch instead\"%(snum))\n",
        "flylib.py:252: UserWarning: problem extracting idxs from camera_sync_signal for epoch 5 using even spaced idx's over the camera epoch instead\n",
        "  warnings.warn(\"problem extracting idxs from camera_sync_signal for epoch %s using even spaced idx's over the camera epoch instead\"%(snum))\n"
       ]
      },
      {
       "output_type": "stream",
       "stream": "stdout",
       "text": [
        "\n",
        "[1, 2, 3, 4, 5, 6]"
       ]
      },
      {
       "output_type": "stream",
       "stream": "stdout",
       "text": [
        "\n",
        "initializing seq 1\n",
        "initializing seq 2"
       ]
      },
      {
       "output_type": "stream",
       "stream": "stdout",
       "text": [
        "\n",
        "initializing seq 3"
       ]
      },
      {
       "output_type": "stream",
       "stream": "stdout",
       "text": [
        "\n",
        "initializing seq 4"
       ]
      },
      {
       "output_type": "stream",
       "stream": "stdout",
       "text": [
        "\n",
        "initializing seq 5"
       ]
      },
      {
       "output_type": "stream",
       "stream": "stdout",
       "text": [
        "\n",
        "initializing seq 6"
       ]
      },
      {
       "output_type": "stream",
       "stream": "stdout",
       "text": [
        "\n",
        "importing data for fly112"
       ]
      },
      {
       "output_type": "stream",
       "stream": "stdout",
       "text": [
        "\n",
        "syncing data"
       ]
      },
      {
       "output_type": "stream",
       "stream": "stdout",
       "text": [
        "\n",
        "[7, 8, 9, 10, 11, 12]"
       ]
      },
      {
       "output_type": "stream",
       "stream": "stdout",
       "text": [
        "\n",
        "initializing seq 7\n",
        "initializing seq 8"
       ]
      },
      {
       "output_type": "stream",
       "stream": "stdout",
       "text": [
        "\n",
        "initializing seq 9"
       ]
      },
      {
       "output_type": "stream",
       "stream": "stdout",
       "text": [
        "\n",
        "initializing seq 10"
       ]
      },
      {
       "output_type": "stream",
       "stream": "stdout",
       "text": [
        "\n",
        "initializing seq 11"
       ]
      },
      {
       "output_type": "stream",
       "stream": "stdout",
       "text": [
        "\n",
        "initializing seq 12"
       ]
      },
      {
       "output_type": "stream",
       "stream": "stdout",
       "text": [
        "\n",
        "importing data for fly114"
       ]
      },
      {
       "output_type": "stream",
       "stream": "stdout",
       "text": [
        "\n",
        "syncing data"
       ]
      },
      {
       "output_type": "stream",
       "stream": "stderr",
       "text": [
        "flylib.py:252: UserWarning: problem extracting idxs from camera_sync_signal for epoch 12 using even spaced idx's over the camera epoch instead\n",
        "  warnings.warn(\"problem extracting idxs from camera_sync_signal for epoch %s using even spaced idx's over the camera epoch instead\"%(snum))\n",
        "flylib.py:252: UserWarning: problem extracting idxs from camera_sync_signal for epoch 13 using even spaced idx's over the camera epoch instead\n",
        "  warnings.warn(\"problem extracting idxs from camera_sync_signal for epoch %s using even spaced idx's over the camera epoch instead\"%(snum))\n"
       ]
      },
      {
       "output_type": "stream",
       "stream": "stderr",
       "text": [
        "flylib.py:248: UserWarning: problem extracting idxs from camera_sync_signal for sequence 14 using even spaced idx's over the camera epoch instead\n",
        "  warnings.warn(\"problem extracting idxs from camera_sync_signal for sequence %s using even spaced idx's over the camera epoch instead\"%(snum))\n",
        "flylib.py:248: UserWarning: problem extracting idxs from camera_sync_signal for sequence 15 using even spaced idx's over the camera epoch instead\n",
        "  warnings.warn(\"problem extracting idxs from camera_sync_signal for sequence %s using even spaced idx's over the camera epoch instead\"%(snum))\n"
       ]
      },
      {
       "output_type": "stream",
       "stream": "stdout",
       "text": [
        "\n",
        "[13, 14, 15, 16, 17, 18]"
       ]
      },
      {
       "output_type": "stream",
       "stream": "stdout",
       "text": [
        "\n",
        "initializing seq 13\n",
        "initializing seq 14"
       ]
      },
      {
       "output_type": "stream",
       "stream": "stdout",
       "text": [
        "\n",
        "initializing seq 15"
       ]
      },
      {
       "output_type": "stream",
       "stream": "stdout",
       "text": [
        "\n",
        "initializing seq 16"
       ]
      },
      {
       "output_type": "stream",
       "stream": "stdout",
       "text": [
        "\n",
        "initializing seq 17"
       ]
      },
      {
       "output_type": "stream",
       "stream": "stdout",
       "text": [
        "\n",
        "initializing seq 18"
       ]
      },
      {
       "output_type": "stream",
       "stream": "stdout",
       "text": [
        "\n",
        "importing data for fly115"
       ]
      },
      {
       "output_type": "stream",
       "stream": "stdout",
       "text": [
        "\n",
        "syncing data"
       ]
      },
      {
       "output_type": "stream",
       "stream": "stderr",
       "text": [
        "flylib.py:248: UserWarning: problem extracting idxs from camera_sync_signal for sequence 17 using even spaced idx's over the camera epoch instead\n",
        "  warnings.warn(\"problem extracting idxs from camera_sync_signal for sequence %s using even spaced idx's over the camera epoch instead\"%(snum))\n",
        "flylib.py:252: UserWarning: problem extracting idxs from camera_sync_signal for epoch 1 using even spaced idx's over the camera epoch instead\n",
        "  warnings.warn(\"problem extracting idxs from camera_sync_signal for epoch %s using even spaced idx's over the camera epoch instead\"%(snum))\n"
       ]
      },
      {
       "output_type": "stream",
       "stream": "stdout",
       "text": [
        "\n",
        "[1, 2, 3, 4, 5, 6]"
       ]
      },
      {
       "output_type": "stream",
       "stream": "stdout",
       "text": [
        "\n",
        "initializing seq 1\n",
        "initializing seq 2"
       ]
      },
      {
       "output_type": "stream",
       "stream": "stdout",
       "text": [
        "\n",
        "initializing seq 3"
       ]
      },
      {
       "output_type": "stream",
       "stream": "stdout",
       "text": [
        "\n",
        "initializing seq 4"
       ]
      },
      {
       "output_type": "stream",
       "stream": "stdout",
       "text": [
        "\n",
        "initializing seq 5"
       ]
      },
      {
       "output_type": "stream",
       "stream": "stdout",
       "text": [
        "\n",
        "initializing seq 6"
       ]
      },
      {
       "output_type": "stream",
       "stream": "stdout",
       "text": [
        "\n",
        "importing data for fly116"
       ]
      },
      {
       "output_type": "stream",
       "stream": "stdout",
       "text": [
        "\n",
        "syncing data"
       ]
      },
      {
       "output_type": "stream",
       "stream": "stdout",
       "text": [
        "\n",
        "[1, 2, 3, 4, 5, 6]"
       ]
      },
      {
       "output_type": "stream",
       "stream": "stdout",
       "text": [
        "\n",
        "initializing seq 1\n",
        "initializing seq 2"
       ]
      },
      {
       "output_type": "stream",
       "stream": "stdout",
       "text": [
        "\n",
        "initializing seq 3"
       ]
      },
      {
       "output_type": "stream",
       "stream": "stdout",
       "text": [
        "\n",
        "initializing seq 4"
       ]
      },
      {
       "output_type": "stream",
       "stream": "stdout",
       "text": [
        "\n",
        "initializing seq 5"
       ]
      },
      {
       "output_type": "stream",
       "stream": "stdout",
       "text": [
        "\n",
        "initializing seq 6"
       ]
      },
      {
       "output_type": "stream",
       "stream": "stdout",
       "text": [
        "\n",
        "importing data for fly117"
       ]
      },
      {
       "output_type": "stream",
       "stream": "stdout",
       "text": [
        "\n",
        "syncing data"
       ]
      },
      {
       "output_type": "stream",
       "stream": "stderr",
       "text": [
        "flylib.py:252: UserWarning: problem extracting idxs from camera_sync_signal for epoch 4 using even spaced idx's over the camera epoch instead\n",
        "  warnings.warn(\"problem extracting idxs from camera_sync_signal for epoch %s using even spaced idx's over the camera epoch instead\"%(snum))\n",
        "flylib.py:248: UserWarning: problem extracting idxs from camera_sync_signal for sequence 12 using even spaced idx's over the camera epoch instead\n",
        "  warnings.warn(\"problem extracting idxs from camera_sync_signal for sequence %s using even spaced idx's over the camera epoch instead\"%(snum))\n"
       ]
      },
      {
       "output_type": "stream",
       "stream": "stdout",
       "text": [
        "\n",
        "[7, 8, 9, 10, 11, 12]"
       ]
      },
      {
       "output_type": "stream",
       "stream": "stdout",
       "text": [
        "\n",
        "initializing seq 7\n",
        "initializing seq 8"
       ]
      },
      {
       "output_type": "stream",
       "stream": "stdout",
       "text": [
        "\n",
        "initializing seq 9"
       ]
      },
      {
       "output_type": "stream",
       "stream": "stdout",
       "text": [
        "\n",
        "initializing seq 10"
       ]
      },
      {
       "output_type": "stream",
       "stream": "stdout",
       "text": [
        "\n",
        "initializing seq 11"
       ]
      },
      {
       "output_type": "stream",
       "stream": "stdout",
       "text": [
        "\n",
        "initializing seq 12"
       ]
      },
      {
       "output_type": "stream",
       "stream": "stdout",
       "text": [
        "\n",
        "importing data for fly118"
       ]
      },
      {
       "output_type": "stream",
       "stream": "stdout",
       "text": [
        "\n",
        "syncing data"
       ]
      },
      {
       "output_type": "stream",
       "stream": "stdout",
       "text": [
        "\n",
        "[16, 17, 13, 14, 15]"
       ]
      },
      {
       "output_type": "stream",
       "stream": "stdout",
       "text": [
        "\n",
        "initializing seq 16\n",
        "initializing seq 17"
       ]
      },
      {
       "output_type": "stream",
       "stream": "stdout",
       "text": [
        "\n",
        "initializing seq 13"
       ]
      },
      {
       "output_type": "stream",
       "stream": "stdout",
       "text": [
        "\n",
        "initializing seq 14"
       ]
      },
      {
       "output_type": "stream",
       "stream": "stdout",
       "text": [
        "\n",
        "initializing seq 15"
       ]
      },
      {
       "output_type": "stream",
       "stream": "stdout",
       "text": [
        "\n",
        "importing data for fly122"
       ]
      },
      {
       "output_type": "stream",
       "stream": "stdout",
       "text": [
        "\n",
        "syncing data"
       ]
      },
      {
       "output_type": "stream",
       "stream": "stderr",
       "text": [
        "flylib.py:252: UserWarning: problem extracting idxs from camera_sync_signal for epoch 15 using even spaced idx's over the camera epoch instead\n",
        "  warnings.warn(\"problem extracting idxs from camera_sync_signal for epoch %s using even spaced idx's over the camera epoch instead\"%(snum))\n",
        "flylib.py:248: UserWarning: problem extracting idxs from camera_sync_signal for sequence 3 using even spaced idx's over the camera epoch instead\n",
        "  warnings.warn(\"problem extracting idxs from camera_sync_signal for sequence %s using even spaced idx's over the camera epoch instead\"%(snum))\n"
       ]
      },
      {
       "output_type": "stream",
       "stream": "stdout",
       "text": [
        "\n",
        "[1, 2, 3, 4, 5, 6]"
       ]
      },
      {
       "output_type": "stream",
       "stream": "stdout",
       "text": [
        "\n",
        "initializing seq 1\n",
        "initializing seq 2"
       ]
      },
      {
       "output_type": "stream",
       "stream": "stdout",
       "text": [
        "\n",
        "initializing seq 3"
       ]
      },
      {
       "output_type": "stream",
       "stream": "stdout",
       "text": [
        "\n",
        "initializing seq 4"
       ]
      },
      {
       "output_type": "stream",
       "stream": "stdout",
       "text": [
        "\n",
        "initializing seq 5"
       ]
      },
      {
       "output_type": "stream",
       "stream": "stdout",
       "text": [
        "\n",
        "initializing seq 6"
       ]
      },
      {
       "output_type": "stream",
       "stream": "stdout",
       "text": [
        "\n",
        "importing data for fly123"
       ]
      },
      {
       "output_type": "stream",
       "stream": "stdout",
       "text": [
        "\n",
        "syncing data"
       ]
      },
      {
       "output_type": "stream",
       "stream": "stderr",
       "text": [
        "flylib.py:248: UserWarning: problem extracting idxs from camera_sync_signal for sequence 6 using even spaced idx's over the camera epoch instead\n",
        "  warnings.warn(\"problem extracting idxs from camera_sync_signal for sequence %s using even spaced idx's over the camera epoch instead\"%(snum))\n",
        "flylib.py:248: UserWarning: problem extracting idxs from camera_sync_signal for sequence 8 using even spaced idx's over the camera epoch instead\n",
        "  warnings.warn(\"problem extracting idxs from camera_sync_signal for sequence %s using even spaced idx's over the camera epoch instead\"%(snum))\n"
       ]
      },
      {
       "output_type": "stream",
       "stream": "stdout",
       "text": [
        "\n",
        "[8, 9, 10, 11, 7]"
       ]
      },
      {
       "output_type": "stream",
       "stream": "stdout",
       "text": [
        "\n",
        "initializing seq 8\n",
        "initializing seq 9"
       ]
      },
      {
       "output_type": "stream",
       "stream": "stdout",
       "text": [
        "\n",
        "initializing seq 10"
       ]
      },
      {
       "output_type": "stream",
       "stream": "stdout",
       "text": [
        "\n",
        "initializing seq 11"
       ]
      },
      {
       "output_type": "stream",
       "stream": "stdout",
       "text": [
        "\n",
        "initializing seq 7"
       ]
      },
      {
       "output_type": "stream",
       "stream": "stdout",
       "text": [
        "\n",
        "importing data for fly124"
       ]
      },
      {
       "output_type": "stream",
       "stream": "stdout",
       "text": [
        "\n",
        "syncing data"
       ]
      },
      {
       "output_type": "stream",
       "stream": "stdout",
       "text": [
        "\n",
        "[2, 3, 4, 5, 6]"
       ]
      },
      {
       "output_type": "stream",
       "stream": "stdout",
       "text": [
        "\n",
        "initializing seq 2\n",
        "initializing seq 3"
       ]
      },
      {
       "output_type": "stream",
       "stream": "stdout",
       "text": [
        "\n",
        "initializing seq 4"
       ]
      },
      {
       "output_type": "stream",
       "stream": "stdout",
       "text": [
        "\n",
        "initializing seq 5"
       ]
      },
      {
       "output_type": "stream",
       "stream": "stdout",
       "text": [
        "\n",
        "initializing seq 6"
       ]
      },
      {
       "output_type": "stream",
       "stream": "stdout",
       "text": [
        "\n",
        "importing data for fly125"
       ]
      },
      {
       "output_type": "stream",
       "stream": "stdout",
       "text": [
        "\n",
        "syncing data"
       ]
      },
      {
       "output_type": "stream",
       "stream": "stdout",
       "text": [
        "\n",
        "[7, 8, 9, 10, 11, 12]"
       ]
      },
      {
       "output_type": "stream",
       "stream": "stdout",
       "text": [
        "\n",
        "initializing seq 7\n",
        "initializing seq 8"
       ]
      },
      {
       "output_type": "stream",
       "stream": "stdout",
       "text": [
        "\n",
        "initializing seq 9"
       ]
      },
      {
       "output_type": "stream",
       "stream": "stdout",
       "text": [
        "\n",
        "initializing seq 10"
       ]
      },
      {
       "output_type": "stream",
       "stream": "stdout",
       "text": [
        "\n",
        "initializing seq 11"
       ]
      },
      {
       "output_type": "stream",
       "stream": "stdout",
       "text": [
        "\n",
        "initializing seq 12"
       ]
      },
      {
       "output_type": "stream",
       "stream": "stdout",
       "text": [
        "\n"
       ]
      },
      {
       "output_type": "stream",
       "stream": "stderr",
       "text": [
        "flylib.py:252: UserWarning: problem extracting idxs from camera_sync_signal for epoch 9 using even spaced idx's over the camera epoch instead\n",
        "  warnings.warn(\"problem extracting idxs from camera_sync_signal for epoch %s using even spaced idx's over the camera epoch instead\"%(snum))\n"
       ]
      }
     ],
     "prompt_number": 4
    },
    {
     "cell_type": "code",
     "collapsed": false,
     "input": [
      "[x.fly_num for x in swarm.flies]"
     ],
     "language": "python",
     "metadata": {},
     "outputs": [
      {
       "metadata": {},
       "output_type": "pyout",
       "prompt_number": 6,
       "text": [
        "[125, 125, 125, 125, 125, 125, 125, 125, 125, 125, 125]"
       ]
      }
     ],
     "prompt_number": 6
    },
    {
     "cell_type": "code",
     "collapsed": false,
     "input": [
      "swarm.fly_numbers"
     ],
     "language": "python",
     "metadata": {},
     "outputs": [
      {
       "metadata": {},
       "output_type": "pyout",
       "prompt_number": 7,
       "text": [
        "[111, 112, 114, 115, 116, 117, 118, 122, 123, 124, 125]"
       ]
      }
     ],
     "prompt_number": 7
    },
    {
     "cell_type": "code",
     "collapsed": false,
     "input": [
      "global_wbmtrx = list()\n",
      "for fly in swarm.flies:\n",
      "    lrb = fly.experiments['lr_blob_expansion']\n",
      "    for seq_key in lrb.sequences.keys():\n",
      "        seq = lrb.sequences[seq_key]\n",
      "        global_wbmtrx.append(seq.seq_record['wb_mtrx'])"
     ],
     "language": "python",
     "metadata": {},
     "outputs": [],
     "prompt_number": 4
    },
    {
     "cell_type": "code",
     "collapsed": false,
     "input": [
      "phi_L = [np.array(mtrx['phi_L']) for mtrx in global_wbmtrx]\n",
      "phi_R = [np.array(mtrx['phi_R']) for mtrx in global_wbmtrx]\n",
      "theta_L = [np.array(mtrx['theta_L']) for mtrx in global_wbmtrx]\n",
      "theta_R = [np.array(mtrx['theta_R']) for mtrx in global_wbmtrx]\n",
      "eta_L = [np.array(mtrx['eta_L']) for mtrx in global_wbmtrx]\n",
      "eta_R = [np.array(mtrx['eta_R']) for mtrx in global_wbmtrx]\n",
      "amL = [np.array(mtrx['AMsysCh1']) for mtrx in global_wbmtrx]"
     ],
     "language": "python",
     "metadata": {},
     "outputs": [],
     "prompt_number": 5
    },
    {
     "cell_type": "code",
     "collapsed": false,
     "input": [
      "figure()\n",
      "imgplt = imshow(vstack(eta_L),aspect = 'auto',clim = (-1,1))"
     ],
     "language": "python",
     "metadata": {},
     "outputs": [],
     "prompt_number": 6
    },
    {
     "cell_type": "code",
     "collapsed": false,
     "input": [
      "figure()\n",
      "imgplt = imshow(vstack(theta_L),aspect = 'auto',clim = (-1,1))"
     ],
     "language": "python",
     "metadata": {},
     "outputs": [],
     "prompt_number": 8
    },
    {
     "cell_type": "code",
     "collapsed": false,
     "input": [
      "figure()\n",
      "imgplt = imshow(vstack(phi_L),aspect = 'auto',clim = (-1,1))"
     ],
     "language": "python",
     "metadata": {},
     "outputs": [],
     "prompt_number": 9
    },
    {
     "cell_type": "code",
     "collapsed": false,
     "input": [
      "figure()\n",
      "imgplt = imshow(vstack(amL),aspect = 'auto',clim = (-10,10))"
     ],
     "language": "python",
     "metadata": {},
     "outputs": [],
     "prompt_number": 10
    },
    {
     "cell_type": "code",
     "collapsed": false,
     "input": [
      "idx = isnan(vstack(theta_L).flatten())\n",
      "ll = hist(vstack(theta_L).flatten()[~idx],bins = linspace(-10,10,100))"
     ],
     "language": "python",
     "metadata": {},
     "outputs": [],
     "prompt_number": 27
    },
    {
     "cell_type": "code",
     "collapsed": false,
     "input": [],
     "language": "python",
     "metadata": {},
     "outputs": []
    },
    {
     "cell_type": "code",
     "collapsed": false,
     "input": [
      "ll = plot(vstack(theta_L).T,alpha = 0.01,color = 'k')\n",
      "gca().set_ybound(-1,1)"
     ],
     "language": "python",
     "metadata": {},
     "outputs": [],
     "prompt_number": 28
    },
    {
     "cell_type": "code",
     "collapsed": false,
     "input": [
      "fly_db = dba.init_db()"
     ],
     "language": "python",
     "metadata": {},
     "outputs": [],
     "prompt_number": 3
    },
    {
     "cell_type": "code",
     "collapsed": false,
     "input": [],
     "language": "python",
     "metadata": {},
     "outputs": []
    }
   ],
   "metadata": {}
  }
 ]
}