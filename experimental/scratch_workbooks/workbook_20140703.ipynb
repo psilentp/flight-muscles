{
 "metadata": {
  "name": "",
  "signature": "sha256:449b2150477b9ffc0730cd0e7b1313d3c038839e7f3690f746d8b45b371e388a"
 },
 "nbformat": 3,
 "nbformat_minor": 0,
 "worksheets": [
  {
   "cells": [
    {
     "cell_type": "code",
     "collapsed": false,
     "input": [
      "###notebook imports and sync's axon and imaging data from second set of starfield expmnts starfield2\n",
      "import neo\n",
      "import quantities as pq\n",
      "import flylib\n",
      "import db_access as dba\n",
      "reload(dba)"
     ],
     "language": "python",
     "metadata": {},
     "outputs": [
      {
       "metadata": {},
       "output_type": "pyout",
       "prompt_number": 1,
       "text": [
        "<module 'db_access' from 'db_access.pyc'>"
       ]
      }
     ],
     "prompt_number": 1
    },
    {
     "cell_type": "code",
     "collapsed": false,
     "input": [
      "#starfield1_group = [151,153,154,155,156,157,158,159,160,161,162,163,165,166,167,168,169]\n",
      "#starfield1_group = [165,166,167,168,169]\n",
      "starfield2_group = [176,177,178,179,180,181]\n",
      "#starfield2_group = [176]"
     ],
     "language": "python",
     "metadata": {},
     "outputs": [],
     "prompt_number": 2
    },
    {
     "cell_type": "code",
     "collapsed": false,
     "input": [
      "#fly_db = dba.get_db()\n",
      "#swarm = flylib.Squadron(fly_db,starfield2_group)"
     ],
     "language": "python",
     "metadata": {},
     "outputs": [],
     "prompt_number": 3
    },
    {
     "cell_type": "code",
     "collapsed": false,
     "input": [
      "#fly_db.close()"
     ],
     "language": "python",
     "metadata": {},
     "outputs": [],
     "prompt_number": 3
    },
    {
     "cell_type": "code",
     "collapsed": false,
     "input": [
      "#initializer = dba.InitDB()\n",
      "#[initializer[fn] for fn in starfield2_group]\n",
      "#initializer.fly_db.flush()\n",
      "#initializer.fly_db.close()"
     ],
     "language": "python",
     "metadata": {},
     "outputs": [],
     "prompt_number": 4
    },
    {
     "cell_type": "code",
     "collapsed": false,
     "input": [
      "reload(dba)\n",
      "fly_db = dba.get_db()\n",
      "swarm = flylib.Squadron(fly_db,starfield2_group)\n",
      "for fly in swarm.flies:\n",
      "    img_star_t1 = fly.experiments['img_starfields2_t2_rep1']\n",
      "    print 'importing trial1 data for fly%s'%fly.fly_num\n",
      "    img_star_t1.import_axon_data()\n",
      "    img_star_t1.import_tiff_data()\n",
      "    print 'syncing trial1 data'\n",
      "    img_star_t1.sync_sequences()\n",
      "    fly_db.flush()\n",
      "    img_star_t2 = fly.experiments['img_starfields2_t2_rep2']\n",
      "    print 'importing trial2 data for fly%s'%fly.fly_num\n",
      "    img_star_t2.import_axon_data()\n",
      "    img_star_t2.import_tiff_data()\n",
      "    print 'syncing trial2 data'\n",
      "    img_star_t2.sync_sequences()\n",
      "    fly_db.flush()"
     ],
     "language": "python",
     "metadata": {},
     "outputs": []
    },
    {
     "cell_type": "code",
     "collapsed": false,
     "input": [
      "#fly_db.close()"
     ],
     "language": "python",
     "metadata": {},
     "outputs": [],
     "prompt_number": 5
    },
    {
     "cell_type": "code",
     "collapsed": false,
     "input": [
      "#imgs = array(swarm.flies[3].fly_record['experiments'][u'img_starfield_t2_rep1']['tiff_data']['images'])"
     ],
     "language": "python",
     "metadata": {},
     "outputs": [],
     "prompt_number": 6
    },
    {
     "cell_type": "code",
     "collapsed": false,
     "input": [
      "fly_db = dba.get_db()\n",
      "swarm = flylib.Squadron(fly_db,starfield1_group)"
     ],
     "language": "python",
     "metadata": {},
     "outputs": [],
     "prompt_number": 7
    },
    {
     "cell_type": "code",
     "collapsed": false,
     "input": [
      "fly = swarm.flies[4]\n",
      "exmnt = fly.experiments['img_starfield_t2_rep1']\n",
      "plot(exmnt.exp_record['tiff_data']['axon_framebase']['Xpos'][-5000:])"
     ],
     "language": "python",
     "metadata": {},
     "outputs": [
      {
       "metadata": {},
       "output_type": "pyout",
       "prompt_number": 17,
       "text": [
        "[<matplotlib.lines.Line2D at 0x111e06b90>]"
       ]
      }
     ],
     "prompt_number": 17
    },
    {
     "cell_type": "code",
     "collapsed": false,
     "input": [
      "img_star = fly.experiments['img_starfields2_t2_rep1']\n",
      "f = open(img_star.fly_path + 'img_starfields2_t2_rep1_roi.cpkl')\n",
      "import cPickle\n",
      "roi_data = cPickle.load(f)"
     ],
     "language": "python",
     "metadata": {},
     "outputs": [],
     "prompt_number": 10
    },
    {
     "cell_type": "code",
     "collapsed": false,
     "input": [
      "###PCA analysis\n",
      "musc_vectors = list()\n",
      "xpos_list = list()\n",
      "lwing_list = list()\n",
      "rwing_list = list()\n",
      "lmr_list = list()\n",
      "keylist = ['b1', 'b2', 'b3', 'i1', 'i2', 'iii1', 'iii234','hg1', 'hg234' ]\n",
      "import cPickle\n",
      "for fly in swarm.flies:\n",
      "    for exp_key in ['img_starfield_t2_rep1','img_starfields2_t2_rep1','img_starfield2_t2_rep2']:\n",
      "        try:\n",
      "            img_star = fly.experiments[exp_key]\n",
      "            f = open(img_star.fly_path + exp_key + '_roi.cpkl')\n",
      "            roi_data = cPickle.load(f)\n",
      "            f.close()\n",
      "            #figure()\n",
      "            #subplot(1,1,1,polar = True)\n",
      "            xpos_list.append(np.array(img_star.exp_record['tiff_data']['axon_framebase']['Xpos'][-5000:])*2*pi/10)\n",
      "            lwing_list.append(np.array(img_star.exp_record['tiff_data']['axon_framebase']['Ph0'][-5000:]))\n",
      "            rwing_list.append(np.array(img_star.exp_record['tiff_data']['axon_framebase']['Ph1'][-5000:]))\n",
      "            lmr_list.append(np.array(img_star.exp_record['tiff_data']['axon_framebase']['Ph2'][-5000:]))\n",
      "            musc_vector = vstack(roi_data[key][-5000:] for key in keylist)\n",
      "            musc_vector /= mean(musc_vector,axis =1)[:,newaxis]\n",
      "            musc_vector = np.array((musc_vector- mean(musc_vector,axis =1)[:,newaxis]))\n",
      "            for idx in range(shape(musc_vector)[0]):\n",
      "                sig = musc_vector[idx,:]\n",
      "                musc_vector[idx,:] = flylib.butter_lowpass_filter(sig,20,1/70.0,order = 1)\n",
      "            musc_vectors.append(musc_vector)\n",
      "        except KeyError:\n",
      "            pass\n",
      "##find the 'global' PCs\n",
      "musc_vector = hstack(musc_vectors)\n",
      "M,N = shape(musc_vector)\n",
      "COV_MTRX = dot(musc_vector,musc_vector.T)*(1/float(N))\n",
      "EG_VAL,EG_VECT = eig(COV_MTRX.T)\n",
      "PC1 = EG_VECT[:,0]\n",
      "PC2 = EG_VECT[:,1]\n",
      "PC3 = EG_VECT[:,2]\n",
      "\n",
      "pclist = {'pc1':[],'pc2':[],'pc3':[]}\n",
      "for musc_vector in musc_vectors:\n",
      "    M,N = shape(musc_vector)\n",
      "    cov_mtrx = dot(musc_vector,musc_vector.T)*(1/float(N))\n",
      "    eg_val,eg_vect = eig(cov_mtrx.T)\n",
      "    pc1 = eg_vect[:,0]\n",
      "    if dot(pc1,PC1)<0:\n",
      "        pc1 *= -1\n",
      "    pc2 = eg_vect[:,1]\n",
      "    if dot(pc2,PC2)<0:\n",
      "        pc2 *= -1\n",
      "    pc3 = eg_vect[:,2]\n",
      "    if dot(pc3,PC3)<0:\n",
      "        pc3 *= -1\n",
      "    pclist['pc1'].append(pc1)\n",
      "    pclist['pc2'].append(pc2)\n",
      "    pclist['pc3'].append(pc3)\n",
      "    \n",
      "##plot the results\n",
      "##set up the axis\n",
      "import matplotlib.gridspec as gridspec\n",
      "gs = gridspec.GridSpec(5,6)\n",
      "ax_pc1 = subplot(gs[2,0])\n",
      "ax_pc2 = subplot(gs[3,0],sharex = ax_pc1)\n",
      "ax_pc3 = subplot(gs[4,0],sharex = ax_pc1)\n",
      "\n",
      "ax_proj1 = subplot(gs[2,1:])\n",
      "ax_proj2 = subplot(gs[3,1:],sharey = ax_proj1,sharex = ax_proj1)\n",
      "ax_proj3 = subplot(gs[4,1:],sharey = ax_proj1,sharex = ax_proj1)\n",
      "ax_stim = subplot(gs[0,1:],sharex = ax_proj1)\n",
      "ax_wing = subplot(gs[1,1:],sharex = ax_proj1)\n",
      "##plot the first pc\n",
      "for ax,PC,key in zip([ax_pc1,ax_pc2,ax_pc3],[PC1,PC2,PC3],['pc1','pc2','pc3']):\n",
      "    axes(ax)\n",
      "    for pc in pclist[key]:\n",
      "        plot(pc,range(9),color = 'k',alpha = 0.5)\n",
      "    plot(PC,range(9),color = 'b',lw =2 , alpha = 0.5)\n",
      "    gca().set_yticklabels(keylist)\n",
      "#plot the projections\n",
      "flyn = 4\n",
      "for ax,PC in zip([ax_proj1,ax_proj2,ax_proj3],[PC1,PC2,PC3]):\n",
      "    axes(ax)\n",
      "    times = linspace(0,5000/70.0,5000)\n",
      "    plot(times,dot(PC,musc_vectors[flyn]),color = 'k')\n",
      "axes(ax_stim)\n",
      "plot(times,rad2deg(xpos_list[flyn]),color = 'k')\n",
      "ax_stim.set_ybound(0,360)\n",
      "axes(ax_wing)\n",
      "plot(times,rad2deg(rwing_list[flyn]/5.0),color = 'k')\n",
      "ax_wing.set_ybound(0,180)"
     ],
     "language": "python",
     "metadata": {},
     "outputs": [
      {
       "ename": "NameError",
       "evalue": "name 'swarm' is not defined",
       "output_type": "pyerr",
       "traceback": [
        "\u001b[0;31m---------------------------------------------------------------------------\u001b[0m\n\u001b[0;31mNameError\u001b[0m                                 Traceback (most recent call last)",
        "\u001b[0;32m<ipython-input-1-8b36bab0a67d>\u001b[0m in \u001b[0;36m<module>\u001b[0;34m()\u001b[0m\n\u001b[1;32m      7\u001b[0m \u001b[0mkeylist\u001b[0m \u001b[0;34m=\u001b[0m \u001b[0;34m[\u001b[0m\u001b[0;34m'b1'\u001b[0m\u001b[0;34m,\u001b[0m \u001b[0;34m'b2'\u001b[0m\u001b[0;34m,\u001b[0m \u001b[0;34m'b3'\u001b[0m\u001b[0;34m,\u001b[0m \u001b[0;34m'i1'\u001b[0m\u001b[0;34m,\u001b[0m \u001b[0;34m'i2'\u001b[0m\u001b[0;34m,\u001b[0m \u001b[0;34m'iii1'\u001b[0m\u001b[0;34m,\u001b[0m \u001b[0;34m'iii234'\u001b[0m\u001b[0;34m,\u001b[0m\u001b[0;34m'hg1'\u001b[0m\u001b[0;34m,\u001b[0m \u001b[0;34m'hg234'\u001b[0m \u001b[0;34m]\u001b[0m\u001b[0;34m\u001b[0m\u001b[0m\n\u001b[1;32m      8\u001b[0m \u001b[0;32mimport\u001b[0m \u001b[0mcPickle\u001b[0m\u001b[0;34m\u001b[0m\u001b[0m\n\u001b[0;32m----> 9\u001b[0;31m \u001b[0;32mfor\u001b[0m \u001b[0mfly\u001b[0m \u001b[0;32min\u001b[0m \u001b[0mswarm\u001b[0m\u001b[0;34m.\u001b[0m\u001b[0mflies\u001b[0m\u001b[0;34m:\u001b[0m\u001b[0;34m\u001b[0m\u001b[0m\n\u001b[0m\u001b[1;32m     10\u001b[0m     \u001b[0;32mfor\u001b[0m \u001b[0mexp_key\u001b[0m \u001b[0;32min\u001b[0m \u001b[0;34m[\u001b[0m\u001b[0;34m'img_starfield_t2_rep1'\u001b[0m\u001b[0;34m,\u001b[0m\u001b[0;34m'img_starfields2_t2_rep1'\u001b[0m\u001b[0;34m,\u001b[0m\u001b[0;34m'img_starfield2_t2_rep2'\u001b[0m\u001b[0;34m]\u001b[0m\u001b[0;34m:\u001b[0m\u001b[0;34m\u001b[0m\u001b[0m\n\u001b[1;32m     11\u001b[0m         \u001b[0;32mtry\u001b[0m\u001b[0;34m:\u001b[0m\u001b[0;34m\u001b[0m\u001b[0m\n",
        "\u001b[0;31mNameError\u001b[0m: name 'swarm' is not defined"
       ]
      }
     ],
     "prompt_number": 1
    },
    {
     "cell_type": "code",
     "collapsed": false,
     "input": [
      "import matplotlib.gridspec as gridspec\n",
      "gs = gridspec.GridSpec(4,6)\n",
      "ax_pc1 = subplot(gs[1,0])\n",
      "ax_pc2 = subplot(gs[2,0],sharex = ax_pc1)\n",
      "ax_pc3 = subplot(gs[3,0],sharex = ax_pc1)\n",
      "\n",
      "ax_proj1 = subplot(gs[1,1:])\n",
      "ax_proj2 = subplot(gs[2,1:],sharey = ax_proj1,sharex = ax_proj1)\n",
      "ax_proj3 = subplot(gs[3,1:],sharey = ax_proj1,sharex = ax_proj1)\n",
      "ax_stim = subplot(gs[0,1:],sharex = ax_proj1)\n",
      "for ax,PC in zip([ax_proj1,ax_proj2,ax_proj3],[PC1,PC2,PC3]):\n",
      "    axes(ax)\n",
      "    plot(dot(PC,musc_vectors[flyn]))"
     ],
     "language": "python",
     "metadata": {},
     "outputs": [],
     "prompt_number": 57
    },
    {
     "cell_type": "code",
     "collapsed": false,
     "input": [
      "plot(times,xpos_list[flyn])"
     ],
     "language": "python",
     "metadata": {},
     "outputs": [
      {
       "metadata": {},
       "output_type": "pyout",
       "prompt_number": 77,
       "text": [
        "[<matplotlib.lines.Line2D at 0x1288de450>]"
       ]
      }
     ],
     "prompt_number": 77
    },
    {
     "cell_type": "code",
     "collapsed": false,
     "input": [
      "sum(diag(COV_MTRX))"
     ],
     "language": "python",
     "metadata": {},
     "outputs": [
      {
       "metadata": {},
       "output_type": "pyout",
       "prompt_number": 119,
       "text": [
        "0.16644159854939747"
       ]
      }
     ],
     "prompt_number": 119
    },
    {
     "cell_type": "code",
     "collapsed": false,
     "input": [
      "pvar = EG_VAL/sum(EG_VAL)"
     ],
     "language": "python",
     "metadata": {},
     "outputs": [],
     "prompt_number": 120
    },
    {
     "cell_type": "code",
     "collapsed": false,
     "input": [
      "print pvar"
     ],
     "language": "python",
     "metadata": {},
     "outputs": [
      {
       "output_type": "stream",
       "stream": "stdout",
       "text": [
        "[ 0.68276283  0.10011576  0.08389442  0.0580668   0.02431971  0.01870995\n",
        "  0.01624612  0.00852089  0.00736353]\n"
       ]
      }
     ],
     "prompt_number": 121
    },
    {
     "cell_type": "code",
     "collapsed": false,
     "input": [
      "### plot open loop data\n",
      "rcParams['svg.fonttype'] = 'none'\n",
      "rcParams['font.serif'] = ['Times New Roman']\n",
      "rcParams['font.sans-serif'] = ['Arial']\n",
      "rcParams['font.family'] = 'sans-serif'\n",
      "matplotlib.rc('pdf', fonttype=42)\n",
      "\n",
      "fig = figure()\n",
      "gcf().set_tight_layout(True)\n",
      "from mpl_toolkits.axes_grid1 import Grid\n",
      "grid = Grid(fig, rect=111, nrows_ncols=(3,12),\n",
      "            axes_pad=0.25, label_mode='L')\n",
      "\n",
      "muscle = 'i1'\n",
      "spmap = {'spin_equator_000.mat':1,\n",
      "       'spin_equator_030.mat':2,\n",
      "       'spin_equator_060.mat':3,\n",
      "       'spin_equator_090.mat':4,\n",
      "       'spin_equator_120.mat':5,\n",
      "       'spin_equator_150.mat':6,\n",
      "       'spin_equator_180.mat':7,\n",
      "       'spin_equator_210.mat':8,\n",
      "       'spin_equator_240.mat':9,\n",
      "       'spin_equator_270.mat':10,\n",
      "       'spin_equator_300.mat':11,\n",
      "       'spin_equator_330.mat':12}\n",
      "\n",
      "stim_dict = {'spin_equator_000.mat':[],\n",
      "       'spin_equator_030.mat':[],\n",
      "       'spin_equator_060.mat':[],\n",
      "       'spin_equator_090.mat':[],\n",
      "       'spin_equator_120.mat':[],\n",
      "       'spin_equator_150.mat':[],\n",
      "       'spin_equator_180.mat':[],\n",
      "       'spin_equator_210.mat':[],\n",
      "       'spin_equator_240.mat':[],\n",
      "       'spin_equator_270.mat':[],\n",
      "       'spin_equator_300.mat':[],\n",
      "       'spin_equator_330.mat':[]}\n",
      "\n",
      "mu_dict = {'spin_equator_000.mat':[],\n",
      "       'spin_equator_030.mat':[],\n",
      "       'spin_equator_060.mat':[],\n",
      "       'spin_equator_090.mat':[],\n",
      "       'spin_equator_120.mat':[],\n",
      "       'spin_equator_150.mat':[],\n",
      "       'spin_equator_180.mat':[],\n",
      "       'spin_equator_210.mat':[],\n",
      "       'spin_equator_240.mat':[],\n",
      "       'spin_equator_270.mat':[],\n",
      "       'spin_equator_300.mat':[],\n",
      "       'spin_equator_330.mat':[]}\n",
      "\n",
      "wing_dict = {'spin_equator_000.mat':[],\n",
      "       'spin_equator_030.mat':[],\n",
      "       'spin_equator_060.mat':[],\n",
      "       'spin_equator_090.mat':[],\n",
      "       'spin_equator_120.mat':[],\n",
      "       'spin_equator_150.mat':[],\n",
      "       'spin_equator_180.mat':[],\n",
      "       'spin_equator_210.mat':[],\n",
      "       'spin_equator_240.mat':[],\n",
      "       'spin_equator_270.mat':[],\n",
      "       'spin_equator_300.mat':[],\n",
      "       'spin_equator_330.mat':[]}\n",
      "\n",
      "import cPickle\n",
      "for fly in swarm.flies:\n",
      "    for exp_key in ['img_starfields2_t2_rep1','img_starfields2_t2_rep2']:\n",
      "        img_star = fly.experiments[exp_key]\n",
      "        f = open(img_star.fly_path + exp_key + '_roi.cpkl')\n",
      "        roi_data = cPickle.load(f)\n",
      "        f.close()\n",
      "        \n",
      "        for seq_key in img_star.sequences.keys():\n",
      "            seq = img_star.sequences[seq_key]\n",
      "            try:\n",
      "                sp_num = spmap[seq.seq_pattern_name]\n",
      "                #subplot(1,12,sp_num)\n",
      "                ep = np.array(seq.seq_record['epoch_framebase'])\n",
      "                ep = concatenate((range(ep[0]-200,ep[0]),ep),axis = 1)\n",
      "                \n",
      "                stim_signal = array(img_star.exp_record['tiff_data']['axon_framebase']['Xpos'])[ep]\n",
      "                wing_signal = array(img_star.exp_record['tiff_data']['axon_framebase']['Ph1'])[ep]\n",
      "                mu_signal = roi_data[muscle][ep]\n",
      "                #plot(signal,color = 'k',alpha = 0.2)\n",
      "                #plot(roi_data['i1'][ep],color = 'k',alpha = 0.2)\n",
      "                mu_dict[seq.seq_pattern_name].append(mu_signal)\n",
      "                wing_dict[seq.seq_pattern_name].append(wing_signal)\n",
      "                stim_dict[seq.seq_pattern_name].append(stim_signal)\n",
      "                #gca().set_ybound(-0.5,2.5)\n",
      "            except KeyError:\n",
      "                pass\n",
      "\n",
      "times = array(img_star.exp_record['tiff_data']['axon_framebase']['times'])[ep]\n",
      "times -= times[0]\n",
      "#stack the lists\n",
      "for key in sorted(spmap.keys()):\n",
      "    mu_dict[key] = vstack([x[:247+200] for x in mu_dict[key]])\n",
      "    stim_dict[key] = vstack([x[:247+200] for x in stim_dict[key]])\n",
      "    wing_dict[key] = vstack([x[:247+200] for x in wing_dict[key]])\n",
      "    \n",
      "key = sorted(spmap.keys())[0]\n",
      "\n",
      "grid[0].plot(times[:247+200],mean(stim_dict[key],axis = 0),color = 'k')\n",
      "grid[12].plot(times[:247+200],rad2deg(mean(wing_dict[key],axis = 0)/5.0),color = 'k')\n",
      "grid[24].plot(times[:247+200],mean(mu_dict[key],axis = 0),color = 'k')\n",
      "\n",
      "for key in sorted(spmap.keys())[1:]:\n",
      "    print key\n",
      "    spnum = spmap[key]-1\n",
      "    grid[spnum].plot(times[:247+200],mean(stim_dict[key],axis = 0),color = 'k')\n",
      "    grid[spnum+12].plot(times[:247+200],rad2deg(mean(wing_dict[key],axis = 0)/5.0),color ='k')\n",
      "    grid[spnum+24].plot(times[:247+200],mean(mu_dict[key],axis = 0),color = 'k')\n",
      "suptitle(muscle)\n",
      "\n",
      "grid[0].set_ylabel('Xpos')\n",
      "grid[12].set_ylabel('R (deg)')\n",
      "grid[24].set_ylabel(r'i1 $\\Delta F/ \\barF$')"
     ],
     "language": "python",
     "metadata": {},
     "outputs": [
      {
       "ename": "KeyError",
       "evalue": "'img_starfields2_t2_rep1'",
       "output_type": "pyerr",
       "traceback": [
        "\u001b[0;31m---------------------------------------------------------------------------\u001b[0m\n\u001b[0;31mKeyError\u001b[0m                                  Traceback (most recent call last)",
        "\u001b[0;32m<ipython-input-81-6dda920e8e8d>\u001b[0m in \u001b[0;36m<module>\u001b[0;34m()\u001b[0m\n\u001b[1;32m     68\u001b[0m \u001b[0;32mfor\u001b[0m \u001b[0mfly\u001b[0m \u001b[0;32min\u001b[0m \u001b[0mswarm\u001b[0m\u001b[0;34m.\u001b[0m\u001b[0mflies\u001b[0m\u001b[0;34m:\u001b[0m\u001b[0;34m\u001b[0m\u001b[0m\n\u001b[1;32m     69\u001b[0m     \u001b[0;32mfor\u001b[0m \u001b[0mexp_key\u001b[0m \u001b[0;32min\u001b[0m \u001b[0;34m[\u001b[0m\u001b[0;34m'img_starfields2_t2_rep1'\u001b[0m\u001b[0;34m,\u001b[0m\u001b[0;34m'img_starfields2_t2_rep2'\u001b[0m\u001b[0;34m]\u001b[0m\u001b[0;34m:\u001b[0m\u001b[0;34m\u001b[0m\u001b[0m\n\u001b[0;32m---> 70\u001b[0;31m         \u001b[0mimg_star\u001b[0m \u001b[0;34m=\u001b[0m \u001b[0mfly\u001b[0m\u001b[0;34m.\u001b[0m\u001b[0mexperiments\u001b[0m\u001b[0;34m[\u001b[0m\u001b[0mexp_key\u001b[0m\u001b[0;34m]\u001b[0m\u001b[0;34m\u001b[0m\u001b[0m\n\u001b[0m\u001b[1;32m     71\u001b[0m         \u001b[0mf\u001b[0m \u001b[0;34m=\u001b[0m \u001b[0mopen\u001b[0m\u001b[0;34m(\u001b[0m\u001b[0mimg_star\u001b[0m\u001b[0;34m.\u001b[0m\u001b[0mfly_path\u001b[0m \u001b[0;34m+\u001b[0m \u001b[0mexp_key\u001b[0m \u001b[0;34m+\u001b[0m \u001b[0;34m'_roi.cpkl'\u001b[0m\u001b[0;34m)\u001b[0m\u001b[0;34m\u001b[0m\u001b[0m\n\u001b[1;32m     72\u001b[0m         \u001b[0mroi_data\u001b[0m \u001b[0;34m=\u001b[0m \u001b[0mcPickle\u001b[0m\u001b[0;34m.\u001b[0m\u001b[0mload\u001b[0m\u001b[0;34m(\u001b[0m\u001b[0mf\u001b[0m\u001b[0;34m)\u001b[0m\u001b[0;34m\u001b[0m\u001b[0m\n",
        "\u001b[0;31mKeyError\u001b[0m: 'img_starfields2_t2_rep1'"
       ]
      }
     ],
     "prompt_number": 81
    },
    {
     "cell_type": "code",
     "collapsed": false,
     "input": [
      "muscle = 'i1'\n",
      "spmap = {'spin_equator_000.mat':1,\n",
      "       'spin_equator_030.mat':2,\n",
      "       'spin_equator_060.mat':3,\n",
      "       'spin_equator_090.mat':4,\n",
      "       'spin_equator_120.mat':5,\n",
      "       'spin_equator_150.mat':6,\n",
      "       'spin_equator_180.mat':7,\n",
      "       'spin_equator_210.mat':8,\n",
      "       'spin_equator_240.mat':9,\n",
      "       'spin_equator_270.mat':10,\n",
      "       'spin_equator_300.mat':11,\n",
      "       'spin_equator_330.mat':12}\n",
      "\n",
      "stim_dict = {'spin_equator_000.mat':[],\n",
      "       'spin_equator_030.mat':[],\n",
      "       'spin_equator_060.mat':[],\n",
      "       'spin_equator_090.mat':[],\n",
      "       'spin_equator_120.mat':[],\n",
      "       'spin_equator_150.mat':[],\n",
      "       'spin_equator_180.mat':[],\n",
      "       'spin_equator_210.mat':[],\n",
      "       'spin_equator_240.mat':[],\n",
      "       'spin_equator_270.mat':[],\n",
      "       'spin_equator_300.mat':[],\n",
      "       'spin_equator_330.mat':[]}\n",
      "\n",
      "mu_dict = {'spin_equator_000.mat':[],\n",
      "       'spin_equator_030.mat':[],\n",
      "       'spin_equator_060.mat':[],\n",
      "       'spin_equator_090.mat':[],\n",
      "       'spin_equator_120.mat':[],\n",
      "       'spin_equator_150.mat':[],\n",
      "       'spin_equator_180.mat':[],\n",
      "       'spin_equator_210.mat':[],\n",
      "       'spin_equator_240.mat':[],\n",
      "       'spin_equator_270.mat':[],\n",
      "       'spin_equator_300.mat':[],\n",
      "       'spin_equator_330.mat':[]}\n",
      "\n",
      "wing_dict = {'spin_equator_000.mat':[],\n",
      "       'spin_equator_030.mat':[],\n",
      "       'spin_equator_060.mat':[],\n",
      "       'spin_equator_090.mat':[],\n",
      "       'spin_equator_120.mat':[],\n",
      "       'spin_equator_150.mat':[],\n",
      "       'spin_equator_180.mat':[],\n",
      "       'spin_equator_210.mat':[],\n",
      "       'spin_equator_240.mat':[],\n",
      "       'spin_equator_270.mat':[],\n",
      "       'spin_equator_300.mat':[],\n",
      "       'spin_equator_330.mat':[]}\n",
      "\n",
      "#get closed loop data\n",
      "import cPickle\n",
      "for fly in swarm.flies:\n",
      "    for exp_key in ['img_starfields2_t2_rep1','img_starfields2_t2_rep2']:\n",
      "        img_star = fly.experiments[exp_key]\n",
      "        f = open(img_star.fly_path + exp_key + '_roi.cpkl')\n",
      "        roi_data = cPickle.load(f)\n",
      "        f.close()\n",
      "        \n",
      "        for seq_key in img_star.sequences.keys():\n",
      "            seq = img_star.sequences[seq_key]\n",
      "            try:\n",
      "                sp_num = spmap[seq.seq_pattern_name]\n",
      "                \n",
      "                ep = np.array(seq.seq_record['epoch_framebase'])\n",
      "                ep = range(ep[0]-300,ep[0])\n",
      "                #ep = concatenate((range(ep[0]-200,ep[0]),ep),axis = 1)\n",
      "                \n",
      "                stim_signal = array(img_star.exp_record['tiff_data']['axon_framebase']['Xpos'])[ep]\n",
      "                wing_signal = array(img_star.exp_record['tiff_data']['axon_framebase']['Ph1'])[ep]\n",
      "                mu_signal = roi_data[muscle][ep]\n",
      "                #plot(signal,color = 'k',alpha = 0.2)\n",
      "                #plot(roi_data['i1'][ep],color = 'k',alpha = 0.2)\n",
      "                mu_dict[seq.seq_pattern_name].append(mu_signal)\n",
      "                wing_dict[seq.seq_pattern_name].append(wing_signal)\n",
      "                stim_dict[seq.seq_pattern_name].append(stim_signal)\n",
      "                #gca().set_ybound(-0.5,2.5)\n",
      "            except KeyError:\n",
      "                pass"
     ],
     "language": "python",
     "metadata": {},
     "outputs": [],
     "prompt_number": 6
    },
    {
     "cell_type": "code",
     "collapsed": false,
     "input": [
      "for x in range(36):\n",
      "    subplot(1,36,x+1)\n",
      "    hist(np.array(stim_dict['spin_equator_000.mat'][x]).T)"
     ],
     "language": "python",
     "metadata": {},
     "outputs": [],
     "prompt_number": 41
    },
    {
     "cell_type": "code",
     "collapsed": false,
     "input": [
      "shape(stim_dict['spin_equator_000.mat'])"
     ],
     "language": "python",
     "metadata": {},
     "outputs": [
      {
       "metadata": {},
       "output_type": "pyout",
       "prompt_number": 39,
       "text": [
        "(36, 300)"
       ]
      }
     ],
     "prompt_number": 39
    },
    {
     "cell_type": "code",
     "collapsed": false,
     "input": [],
     "language": "python",
     "metadata": {},
     "outputs": [
      {
       "output_type": "stream",
       "stream": "stdout",
       "text": [
        "[ 1.  1.  1.  1.  1.  1.  1.  1.  1.]\n"
       ]
      }
     ],
     "prompt_number": 79
    },
    {
     "cell_type": "code",
     "collapsed": false,
     "input": [
      "from scipy import signal\n",
      "plot(sig)\n",
      "plot(flylib.butter_lowpass_filter(sig,20,1/70.0,order = 1))"
     ],
     "language": "python",
     "metadata": {},
     "outputs": [
      {
       "metadata": {},
       "output_type": "pyout",
       "prompt_number": 53,
       "text": [
        "[<matplotlib.lines.Line2D at 0x11c3247d0>]"
       ]
      }
     ],
     "prompt_number": 53
    },
    {
     "cell_type": "code",
     "collapsed": false,
     "input": [
      "down = frames[-5000:,::2,::2]\n",
      "z,x,y = shape(down)\n",
      "flattened = reshape(down,(5000,x*y)).T"
     ],
     "language": "python",
     "metadata": {},
     "outputs": [],
     "prompt_number": 71
    },
    {
     "cell_type": "code",
     "collapsed": false,
     "input": [
      "imshow(down[0,:,:],cmap = cm.gray)"
     ],
     "language": "python",
     "metadata": {},
     "outputs": [
      {
       "metadata": {},
       "output_type": "pyout",
       "prompt_number": 72,
       "text": [
        "<matplotlib.image.AxesImage at 0x1206a3c90>"
       ]
      }
     ],
     "prompt_number": 72
    },
    {
     "cell_type": "code",
     "collapsed": false,
     "input": [
      "plot(musc_vector.T)"
     ],
     "language": "python",
     "metadata": {},
     "outputs": [
      {
       "metadata": {},
       "output_type": "pyout",
       "prompt_number": 56,
       "text": [
        "[<matplotlib.lines.Line2D at 0x11de6acd0>,\n",
        " <matplotlib.lines.Line2D at 0x11df175d0>,\n",
        " <matplotlib.lines.Line2D at 0x11df17a90>,\n",
        " <matplotlib.lines.Line2D at 0x11df17110>,\n",
        " <matplotlib.lines.Line2D at 0x11df17490>,\n",
        " <matplotlib.lines.Line2D at 0x11df17350>,\n",
        " <matplotlib.lines.Line2D at 0x11df17650>,\n",
        " <matplotlib.lines.Line2D at 0x11df65650>,\n",
        " <matplotlib.lines.Line2D at 0x11df17d90>]"
       ]
      }
     ],
     "prompt_number": 56
    },
    {
     "cell_type": "code",
     "collapsed": false,
     "input": [],
     "language": "python",
     "metadata": {},
     "outputs": [
      {
       "metadata": {},
       "output_type": "pyout",
       "prompt_number": 48,
       "text": [
        "array([[199]], dtype=uint8)"
       ]
      }
     ],
     "prompt_number": 48
    },
    {
     "cell_type": "code",
     "collapsed": false,
     "input": [
      "musc_vector = hstack(musc_vectors)\n",
      "shape(musc_vector)"
     ],
     "language": "python",
     "metadata": {},
     "outputs": [
      {
       "metadata": {},
       "output_type": "pyout",
       "prompt_number": 93,
       "text": [
        "(9, 60000)"
       ]
      }
     ],
     "prompt_number": 93
    },
    {
     "cell_type": "code",
     "collapsed": false,
     "input": [
      "#musc_vector = vstack(roi_data[key][-5000:] for key in keylist)\n",
      "musc_vector = np.array((musc_vector- mean(musc_vector,axis =1)[:,newaxis]))\n",
      "M,N = shape(musc_vector)\n",
      "#musc_vector = vstack([roi_data[key][-5000:] for key in keylist])\n",
      "#mean_vector = array([mean(musc_vector,axis = 1)]).T\n",
      "#cov_mtrx = dot(musc_vector,musc_vector.T) - dot(mean_vector,mean_vector.T)\n",
      "cov_mtrx = dot(musc_vector,musc_vector.T)*(1/float(N))"
     ],
     "language": "python",
     "metadata": {},
     "outputs": [],
     "prompt_number": 94
    },
    {
     "cell_type": "code",
     "collapsed": false,
     "input": [
      "PC,V = eig(cov_mtrx.T)\n",
      "Var = diag(V)\n",
      "rindices = argsort(-1*Var)\n",
      "Vsort = V[:,rindices]\n",
      "nvec = dot(musc_vectors[0].T,V)\n",
      "#PC = PC[rindices]"
     ],
     "language": "python",
     "metadata": {},
     "outputs": [],
     "prompt_number": 106
    },
    {
     "cell_type": "code",
     "collapsed": false,
     "input": [
      "#Var = diag(V)\n",
      "#rindices = argsort(-1*Var)\n",
      "#Vsort = V[:,rindices]\n",
      "figure()\n",
      "import matplotlib.gridspec as gridspec\n",
      "gs = gridspec.GridSpec(4,6)\n",
      "\n",
      "ax0 = subplot(gs[1,0])\n",
      "plot(V[:,0],range(9))\n",
      "gca().set_yticklabels(keylist)\n",
      "subplot(gs[2,0],sharex = ax0)\n",
      "plot(V[:,1],range(9))\n",
      "gca().set_yticklabels(keylist)\n",
      "subplot(gs[3,0],sharex = ax0)\n",
      "plot(V[:,2],range(9))\n",
      "gca().set_yticklabels(keylist)\n",
      "\n",
      "ax1 = subplot(gs[1,1:])\n",
      "plot(nvec[:,0])\n",
      "subplot(gs[2,1:],sharey = ax1,sharex = ax1)\n",
      "plot(nvec[:,1])\n",
      "subplot(gs[3,1:],sharey = ax1,sharex = ax1)\n",
      "plot(nvec[:,2])\n",
      "\n",
      "subplot(gs[0,1:],sharex = ax1)\n",
      "plot(rwing)"
     ],
     "language": "python",
     "metadata": {},
     "outputs": [
      {
       "metadata": {},
       "output_type": "pyout",
       "prompt_number": 107,
       "text": [
        "[<matplotlib.lines.Line2D at 0x1211728d0>]"
       ]
      }
     ],
     "prompt_number": 107
    },
    {
     "cell_type": "code",
     "collapsed": false,
     "input": [],
     "language": "python",
     "metadata": {},
     "outputs": [],
     "prompt_number": 81
    },
    {
     "cell_type": "code",
     "collapsed": false,
     "input": [],
     "language": "python",
     "metadata": {},
     "outputs": [
      {
       "metadata": {},
       "output_type": "pyout",
       "prompt_number": 82,
       "text": [
        "<matplotlib.image.AxesImage at 0x1206d31d0>"
       ]
      }
     ],
     "prompt_number": 82
    },
    {
     "cell_type": "code",
     "collapsed": false,
     "input": [],
     "language": "python",
     "metadata": {},
     "outputs": [
      {
       "metadata": {},
       "output_type": "pyout",
       "prompt_number": 95,
       "text": [
        "(9, 9)"
       ]
      }
     ],
     "prompt_number": 95
    },
    {
     "cell_type": "code",
     "collapsed": false,
     "input": [
      "ax.set_yticklabels(keylist)"
     ],
     "language": "python",
     "metadata": {},
     "outputs": [
      {
       "metadata": {},
       "output_type": "pyout",
       "prompt_number": 124,
       "text": [
        "[<matplotlib.text.Text at 0x125f96d50>,\n",
        " <matplotlib.text.Text at 0x125f91ed0>,\n",
        " <matplotlib.text.Text at 0x125fb0850>,\n",
        " <matplotlib.text.Text at 0x125fb0e90>,\n",
        " <matplotlib.text.Text at 0x125fb9610>,\n",
        " <matplotlib.text.Text at 0x125fb9d50>,\n",
        " <matplotlib.text.Text at 0x125fbb250>,\n",
        " <matplotlib.text.Text at 0x125fbb990>,\n",
        " <matplotlib.text.Text at 0x125fbe110>]"
       ]
      }
     ],
     "prompt_number": 124
    },
    {
     "cell_type": "code",
     "collapsed": false,
     "input": [
      "draw()"
     ],
     "language": "python",
     "metadata": {},
     "outputs": [],
     "prompt_number": 125
    },
    {
     "cell_type": "code",
     "collapsed": false,
     "input": [
      "frame_rate = float(expmnt.exp_record['imaging_frame_rate_guess'].value)\n",
      "ep_duration = float(expmnt.exp_record['ol_epoch_duration'].value)\n",
      "ypos = np.array(expmnt.exp_record['axon_data']['Ypos'])\n",
      "sigs = expmnt.exp_record['tiff_data']['axon_framebase']\n",
      "ax_time = np.array(expmnt.exp_record['axon_data']['times'])\n",
      "frame_times = np.array(sigs['times'])\n",
      "epochs = flylib.idx_by_thresh(ypos*-1,-9.5)\n",
      "ttups = [(ax_time[ep[0]],ax_time[ep[0]]+3.5) for ep in epochs]\n",
      "new_epochs = [squeeze(argwhere((frame_times>ttup[0]) & (frame_times<ttup[1]))) for ttup in ttups] \n",
      "trial_ind = [int(np.around(np.mean(ypos[ep[10:30]])*10)) for ep in new_epochs]"
     ],
     "language": "python",
     "metadata": {},
     "outputs": [],
     "prompt_number": 74
    },
    {
     "cell_type": "code",
     "collapsed": false,
     "input": [
      "sorted_epochs = sorted(zip(trial_ind,new_epochs),key = lambda x:x[0])"
     ],
     "language": "python",
     "metadata": {},
     "outputs": [],
     "prompt_number": 75
    },
    {
     "cell_type": "code",
     "collapsed": false,
     "input": [
      "#sig = array(expmnt.exp_record['tiff_data']['axon_framebase']['Ph2'])\n",
      "#sig = array(expmnt.exp_record['roi_data']['i1'])\n",
      "sig = array(expmnt.exp_record['tiff_data']['axon_framebase']['Ph3'])\n",
      "for idx,ep in sorted_epochs:\n",
      "    if idx == 44:\n",
      "        plot(sig[ep],color = 'b')"
     ],
     "language": "python",
     "metadata": {},
     "outputs": [],
     "prompt_number": 78
    },
    {
     "cell_type": "code",
     "collapsed": false,
     "input": [
      "ttups = [(ax_time[ep[0]],ax_time[ep[0]]+3.5) for ep in epochs]\n",
      "new_epochs = [squeeze(argwhere((frame_times>ttup[0]) & (frame_times<ttup[1]))) for ttup in ttups] "
     ],
     "language": "python",
     "metadata": {},
     "outputs": [],
     "prompt_number": 57
    },
    {
     "cell_type": "code",
     "collapsed": false,
     "input": [
      "new_epochs[0]"
     ],
     "language": "python",
     "metadata": {},
     "outputs": [
      {
       "metadata": {},
       "output_type": "pyout",
       "prompt_number": 58,
       "text": [
        "array([1048, 1049, 1050, 1051, 1052, 1053, 1054, 1055, 1056, 1057, 1058,\n",
        "       1059, 1060, 1061, 1062, 1063, 1064, 1065, 1066, 1067, 1068, 1069,\n",
        "       1070, 1071, 1072, 1073, 1074, 1075, 1076, 1077, 1078, 1079, 1080,\n",
        "       1081, 1082, 1083, 1084, 1085, 1086, 1087, 1088, 1089, 1090, 1091,\n",
        "       1092, 1093, 1094, 1095, 1096, 1097, 1098, 1099, 1100, 1101, 1102,\n",
        "       1103, 1104, 1105, 1106, 1107, 1108, 1109, 1110, 1111, 1112, 1113,\n",
        "       1114, 1115, 1116, 1117, 1118, 1119, 1120, 1121, 1122, 1123, 1124,\n",
        "       1125, 1126, 1127, 1128, 1129, 1130, 1131, 1132, 1133, 1134, 1135,\n",
        "       1136, 1137, 1138, 1139, 1140, 1141, 1142, 1143, 1144, 1145, 1146,\n",
        "       1147, 1148, 1149, 1150, 1151, 1152, 1153, 1154, 1155, 1156, 1157,\n",
        "       1158, 1159, 1160, 1161, 1162, 1163, 1164, 1165, 1166, 1167, 1168,\n",
        "       1169, 1170, 1171, 1172, 1173, 1174, 1175, 1176, 1177, 1178, 1179,\n",
        "       1180, 1181, 1182, 1183, 1184, 1185, 1186, 1187, 1188, 1189, 1190,\n",
        "       1191, 1192, 1193, 1194, 1195, 1196, 1197, 1198, 1199, 1200, 1201,\n",
        "       1202, 1203, 1204, 1205, 1206, 1207, 1208, 1209, 1210, 1211, 1212,\n",
        "       1213, 1214, 1215, 1216, 1217, 1218, 1219, 1220, 1221, 1222, 1223,\n",
        "       1224, 1225, 1226, 1227, 1228, 1229, 1230, 1231, 1232, 1233, 1234,\n",
        "       1235, 1236, 1237, 1238, 1239, 1240, 1241, 1242, 1243, 1244, 1245,\n",
        "       1246, 1247, 1248, 1249, 1250, 1251, 1252, 1253, 1254, 1255, 1256,\n",
        "       1257, 1258, 1259, 1260, 1261, 1262, 1263, 1264, 1265, 1266, 1267,\n",
        "       1268, 1269, 1270, 1271, 1272, 1273, 1274, 1275, 1276, 1277, 1278,\n",
        "       1279, 1280, 1281, 1282, 1283, 1284, 1285, 1286, 1287, 1288, 1289,\n",
        "       1290, 1291, 1292, 1293, 1294, 1295])"
       ]
      }
     ],
     "prompt_number": 58
    },
    {
     "cell_type": "code",
     "collapsed": false,
     "input": [
      "expmnt.exp_record['tiff_data']['axon_framebase'].keys()"
     ],
     "language": "python",
     "metadata": {},
     "outputs": [
      {
       "metadata": {},
       "output_type": "pyout",
       "prompt_number": 41,
       "text": [
        "[u'AMsysCh1',\n",
        " u'CamSync',\n",
        " u'CamTrig',\n",
        " u'LeftWing',\n",
        " u'Ph0',\n",
        " u'Ph1',\n",
        " u'Ph2',\n",
        " u'Ph3',\n",
        " u'Photostim',\n",
        " u'RightWing',\n",
        " u'WBSync',\n",
        " u'Xpos',\n",
        " u'Ypos',\n",
        " u'times']"
       ]
      }
     ],
     "prompt_number": 41
    },
    {
     "cell_type": "code",
     "collapsed": false,
     "input": [
      "for i in range(48):\n",
      "    subplot(2,1,1)\n",
      "    plot(np.array(sigs['times'])[new_epochs[i]],np.array(sigs['Ypos'])[new_epochs[i]])\n",
      "    subplot(2,1,2)\n",
      "    plot(np.array(sigs['times'])[new_epochs[i]],np.array(sigs['Xpos'])[new_epochs[i]])"
     ],
     "language": "python",
     "metadata": {},
     "outputs": [
      {
       "ename": "IndexError",
       "evalue": "index 3027847 is out of bounds for size 36001",
       "output_type": "pyerr",
       "traceback": [
        "\u001b[0;31m---------------------------------------------------------------------------\u001b[0m\n\u001b[0;31mIndexError\u001b[0m                                Traceback (most recent call last)",
        "\u001b[0;32m<ipython-input-65-4a641a77f565>\u001b[0m in \u001b[0;36m<module>\u001b[0;34m()\u001b[0m\n\u001b[1;32m      1\u001b[0m \u001b[0;32mfor\u001b[0m \u001b[0mi\u001b[0m \u001b[0;32min\u001b[0m \u001b[0mrange\u001b[0m\u001b[0;34m(\u001b[0m\u001b[0;36m48\u001b[0m\u001b[0;34m)\u001b[0m\u001b[0;34m:\u001b[0m\u001b[0;34m\u001b[0m\u001b[0m\n\u001b[1;32m      2\u001b[0m     \u001b[0msubplot\u001b[0m\u001b[0;34m(\u001b[0m\u001b[0;36m2\u001b[0m\u001b[0;34m,\u001b[0m\u001b[0;36m1\u001b[0m\u001b[0;34m,\u001b[0m\u001b[0;36m1\u001b[0m\u001b[0;34m)\u001b[0m\u001b[0;34m\u001b[0m\u001b[0m\n\u001b[0;32m----> 3\u001b[0;31m     \u001b[0mplot\u001b[0m\u001b[0;34m(\u001b[0m\u001b[0mnp\u001b[0m\u001b[0;34m.\u001b[0m\u001b[0marray\u001b[0m\u001b[0;34m(\u001b[0m\u001b[0msigs\u001b[0m\u001b[0;34m[\u001b[0m\u001b[0;34m'times'\u001b[0m\u001b[0;34m]\u001b[0m\u001b[0;34m)\u001b[0m\u001b[0;34m[\u001b[0m\u001b[0mnew_epochs\u001b[0m\u001b[0;34m[\u001b[0m\u001b[0mi\u001b[0m\u001b[0;34m]\u001b[0m\u001b[0;34m]\u001b[0m\u001b[0;34m,\u001b[0m\u001b[0mnp\u001b[0m\u001b[0;34m.\u001b[0m\u001b[0marray\u001b[0m\u001b[0;34m(\u001b[0m\u001b[0msigs\u001b[0m\u001b[0;34m[\u001b[0m\u001b[0;34m'Ypos'\u001b[0m\u001b[0;34m]\u001b[0m\u001b[0;34m)\u001b[0m\u001b[0;34m[\u001b[0m\u001b[0mnew_epochs\u001b[0m\u001b[0;34m[\u001b[0m\u001b[0mi\u001b[0m\u001b[0;34m]\u001b[0m\u001b[0;34m]\u001b[0m\u001b[0;34m)\u001b[0m\u001b[0;34m\u001b[0m\u001b[0m\n\u001b[0m\u001b[1;32m      4\u001b[0m     \u001b[0msubplot\u001b[0m\u001b[0;34m(\u001b[0m\u001b[0;36m2\u001b[0m\u001b[0;34m,\u001b[0m\u001b[0;36m1\u001b[0m\u001b[0;34m,\u001b[0m\u001b[0;36m2\u001b[0m\u001b[0;34m)\u001b[0m\u001b[0;34m\u001b[0m\u001b[0m\n\u001b[1;32m      5\u001b[0m     \u001b[0mplot\u001b[0m\u001b[0;34m(\u001b[0m\u001b[0mnp\u001b[0m\u001b[0;34m.\u001b[0m\u001b[0marray\u001b[0m\u001b[0;34m(\u001b[0m\u001b[0msigs\u001b[0m\u001b[0;34m[\u001b[0m\u001b[0;34m'times'\u001b[0m\u001b[0;34m]\u001b[0m\u001b[0;34m)\u001b[0m\u001b[0;34m[\u001b[0m\u001b[0mnew_epochs\u001b[0m\u001b[0;34m[\u001b[0m\u001b[0mi\u001b[0m\u001b[0;34m]\u001b[0m\u001b[0;34m]\u001b[0m\u001b[0;34m,\u001b[0m\u001b[0mnp\u001b[0m\u001b[0;34m.\u001b[0m\u001b[0marray\u001b[0m\u001b[0;34m(\u001b[0m\u001b[0msigs\u001b[0m\u001b[0;34m[\u001b[0m\u001b[0;34m'Xpos'\u001b[0m\u001b[0;34m]\u001b[0m\u001b[0;34m)\u001b[0m\u001b[0;34m[\u001b[0m\u001b[0mnew_epochs\u001b[0m\u001b[0;34m[\u001b[0m\u001b[0mi\u001b[0m\u001b[0;34m]\u001b[0m\u001b[0;34m]\u001b[0m\u001b[0;34m)\u001b[0m\u001b[0;34m\u001b[0m\u001b[0m\n",
        "\u001b[0;31mIndexError\u001b[0m: index 3027847 is out of bounds for size 36001"
       ]
      }
     ],
     "prompt_number": 65
    },
    {
     "cell_type": "code",
     "collapsed": false,
     "input": [
      "plot(np.array(sigs['times'])[new_epochs[0]]-np.array(sigs['times'])[new_epochs[0]][0],np.array(sigs['Xpos'])[new_epochs[0]])"
     ],
     "language": "python",
     "metadata": {},
     "outputs": [
      {
       "metadata": {},
       "output_type": "pyout",
       "prompt_number": 78,
       "text": [
        "[<matplotlib.lines.Line2D at 0x15440a950>]"
       ]
      }
     ],
     "prompt_number": 78
    },
    {
     "cell_type": "code",
     "collapsed": false,
     "input": [
      "new_epochs[0]"
     ],
     "language": "python",
     "metadata": {},
     "outputs": [
      {
       "metadata": {},
       "output_type": "pyout",
       "prompt_number": 73,
       "text": [
        "array([3027847, 3027848, 3027849, 3027850, 3027851, 3027852, 3027853,\n",
        "       3027854, 3027855, 3027856, 3027857, 3027858, 3027859, 3027860,\n",
        "       3027861, 3027862, 3027863, 3027864, 3027865, 3027866, 3027867,\n",
        "       3027868, 3027869, 3027870, 3027871, 3027872, 3027873, 3027874,\n",
        "       3027875, 3027876, 3027877, 3027878, 3027879, 3027880, 3027881,\n",
        "       3027882, 3027883, 3027884, 3027885, 3027886, 3027887, 3027888,\n",
        "       3027889, 3027890, 3027891, 3027892, 3027893, 3027894, 3027895,\n",
        "       3027896, 3027897, 3027898, 3027899, 3027900, 3027901, 3027902,\n",
        "       3027903, 3027904, 3027905, 3027906, 3027907, 3027908, 3027909,\n",
        "       3027910, 3027911, 3027912, 3027913, 3027914, 3027915, 3027916,\n",
        "       3027917, 3027918, 3027919, 3027920, 3027921, 3027922, 3027923,\n",
        "       3027924, 3027925, 3027926, 3027927, 3027928, 3027929, 3027930,\n",
        "       3027931, 3027932, 3027933, 3027934, 3027935, 3027936, 3027937,\n",
        "       3027938, 3027939, 3027940, 3027941, 3027942, 3027943, 3027944,\n",
        "       3027945, 3027946, 3027947, 3027948, 3027949, 3027950, 3027951,\n",
        "       3027952, 3027953, 3027954, 3027955, 3027956, 3027957, 3027958,\n",
        "       3027959, 3027960, 3027961, 3027962, 3027963, 3027964, 3027965,\n",
        "       3027966, 3027967, 3027968, 3027969, 3027970, 3027971, 3027972,\n",
        "       3027973, 3027974, 3027975, 3027976, 3027977, 3027978, 3027979,\n",
        "       3027980, 3027981, 3027982, 3027983, 3027984, 3027985, 3027986,\n",
        "       3027987, 3027988, 3027989, 3027990, 3027991, 3027992, 3027993,\n",
        "       3027994, 3027995, 3027996, 3027997, 3027998, 3027999, 3028000,\n",
        "       3028001, 3028002, 3028003, 3028004, 3028005, 3028006, 3028007,\n",
        "       3028008, 3028009, 3028010, 3028011, 3028012, 3028013, 3028014,\n",
        "       3028015, 3028016, 3028017, 3028018, 3028019, 3028020, 3028021,\n",
        "       3028022, 3028023, 3028024, 3028025, 3028026, 3028027, 3028028,\n",
        "       3028029, 3028030, 3028031, 3028032, 3028033, 3028034, 3028035,\n",
        "       3028036, 3028037, 3028038, 3028039, 3028040, 3028041, 3028042,\n",
        "       3028043, 3028044, 3028045, 3028046, 3028047, 3028048, 3028049,\n",
        "       3028050, 3028051, 3028052, 3028053, 3028054, 3028055, 3028056])"
       ]
      }
     ],
     "prompt_number": 73
    },
    {
     "cell_type": "code",
     "collapsed": false,
     "input": [
      "starfield_pattern_names_6_29_2014  = ['translate_forward.mat',\n",
      "                            'translate_backward.mat',\n",
      "                            'translate_up.mat',\n",
      "                            'translate_down.mat',\n",
      "                            'spin_equator_000.mat',\n",
      "                            'spin_equator_030.mat',\n",
      "                            'spin_equator_060.mat',\n",
      "                            'spin_equator_090.mat',\n",
      "                            'spin_equator_120.mat',\n",
      "                            'spin_equator_150.mat',\n",
      "                            'spin_equator_180.mat',\n",
      "                            'spin_equator_210.mat',\n",
      "                            'spin_equator_240.mat',\n",
      "                            'spin_equator_270.mat',\n",
      "                            'spin_equator_300.mat',\n",
      "                            'spin_equator_330.mat']"
     ],
     "language": "python",
     "metadata": {},
     "outputs": [],
     "prompt_number": 10
    },
    {
     "cell_type": "code",
     "collapsed": false,
     "input": [
      "l = [[x,x,x] for x in starfield_pattern_names_6_29_2014]"
     ],
     "language": "python",
     "metadata": {},
     "outputs": [],
     "prompt_number": 11
    },
    {
     "cell_type": "code",
     "collapsed": false,
     "input": [
      "len([item for sublist in l for item in sublist])"
     ],
     "language": "python",
     "metadata": {},
     "outputs": [
      {
       "metadata": {},
       "output_type": "pyout",
       "prompt_number": 12,
       "text": [
        "48"
       ]
      }
     ],
     "prompt_number": 12
    },
    {
     "cell_type": "code",
     "collapsed": false,
     "input": [
      "fly_db.close()"
     ],
     "language": "python",
     "metadata": {},
     "outputs": [],
     "prompt_number": 51
    },
    {
     "cell_type": "code",
     "collapsed": false,
     "input": [
      "ep = array(img_star.sequences[5].seq_record['epoch_framebase'])"
     ],
     "language": "python",
     "metadata": {},
     "outputs": [],
     "prompt_number": 49
    },
    {
     "cell_type": "code",
     "collapsed": false,
     "input": [
      "plot(array(img_star.exp_record['tiff_data']['axon_framebase']['Ypos'])*-1)"
     ],
     "language": "python",
     "metadata": {},
     "outputs": [
      {
       "metadata": {},
       "output_type": "pyout",
       "prompt_number": 22,
       "text": [
        "[<matplotlib.lines.Line2D at 0x155a82490>]"
       ]
      }
     ],
     "prompt_number": 22
    },
    {
     "cell_type": "code",
     "collapsed": false,
     "input": [],
     "language": "python",
     "metadata": {},
     "outputs": []
    },
    {
     "cell_type": "code",
     "collapsed": false,
     "input": [],
     "language": "python",
     "metadata": {},
     "outputs": []
    },
    {
     "cell_type": "code",
     "collapsed": false,
     "input": [],
     "language": "python",
     "metadata": {},
     "outputs": []
    },
    {
     "cell_type": "code",
     "collapsed": false,
     "input": [],
     "language": "python",
     "metadata": {},
     "outputs": []
    },
    {
     "cell_type": "code",
     "collapsed": false,
     "input": [],
     "language": "python",
     "metadata": {},
     "outputs": []
    },
    {
     "cell_type": "code",
     "collapsed": false,
     "input": [],
     "language": "python",
     "metadata": {},
     "outputs": []
    },
    {
     "cell_type": "code",
     "collapsed": false,
     "input": [],
     "language": "python",
     "metadata": {},
     "outputs": []
    },
    {
     "cell_type": "code",
     "collapsed": false,
     "input": [],
     "language": "python",
     "metadata": {},
     "outputs": []
    },
    {
     "cell_type": "code",
     "collapsed": false,
     "input": [],
     "language": "python",
     "metadata": {},
     "outputs": []
    },
    {
     "cell_type": "code",
     "collapsed": false,
     "input": [],
     "language": "python",
     "metadata": {},
     "outputs": []
    },
    {
     "cell_type": "code",
     "collapsed": false,
     "input": [],
     "language": "python",
     "metadata": {},
     "outputs": []
    },
    {
     "cell_type": "code",
     "collapsed": false,
     "input": [],
     "language": "python",
     "metadata": {},
     "outputs": []
    },
    {
     "cell_type": "code",
     "collapsed": false,
     "input": [],
     "language": "python",
     "metadata": {},
     "outputs": []
    },
    {
     "cell_type": "code",
     "collapsed": false,
     "input": [],
     "language": "python",
     "metadata": {},
     "outputs": []
    },
    {
     "cell_type": "code",
     "collapsed": false,
     "input": [],
     "language": "python",
     "metadata": {},
     "outputs": []
    },
    {
     "cell_type": "code",
     "collapsed": false,
     "input": [],
     "language": "python",
     "metadata": {},
     "outputs": []
    },
    {
     "cell_type": "code",
     "collapsed": false,
     "input": [],
     "language": "python",
     "metadata": {},
     "outputs": []
    },
    {
     "cell_type": "code",
     "collapsed": false,
     "input": [],
     "language": "python",
     "metadata": {},
     "outputs": []
    },
    {
     "cell_type": "code",
     "collapsed": false,
     "input": [],
     "language": "python",
     "metadata": {},
     "outputs": []
    },
    {
     "cell_type": "code",
     "collapsed": false,
     "input": [],
     "language": "python",
     "metadata": {},
     "outputs": []
    },
    {
     "cell_type": "code",
     "collapsed": false,
     "input": [],
     "language": "python",
     "metadata": {},
     "outputs": []
    },
    {
     "cell_type": "code",
     "collapsed": false,
     "input": [],
     "language": "python",
     "metadata": {},
     "outputs": []
    },
    {
     "cell_type": "code",
     "collapsed": false,
     "input": [],
     "language": "python",
     "metadata": {},
     "outputs": []
    },
    {
     "cell_type": "code",
     "collapsed": false,
     "input": [],
     "language": "python",
     "metadata": {},
     "outputs": []
    },
    {
     "cell_type": "code",
     "collapsed": false,
     "input": [],
     "language": "python",
     "metadata": {},
     "outputs": []
    },
    {
     "cell_type": "code",
     "collapsed": false,
     "input": [],
     "language": "python",
     "metadata": {},
     "outputs": []
    },
    {
     "cell_type": "code",
     "collapsed": false,
     "input": [],
     "language": "python",
     "metadata": {},
     "outputs": []
    },
    {
     "cell_type": "code",
     "collapsed": false,
     "input": [],
     "language": "python",
     "metadata": {},
     "outputs": []
    },
    {
     "cell_type": "code",
     "collapsed": false,
     "input": [],
     "language": "python",
     "metadata": {},
     "outputs": []
    },
    {
     "cell_type": "code",
     "collapsed": false,
     "input": [],
     "language": "python",
     "metadata": {},
     "outputs": []
    },
    {
     "cell_type": "code",
     "collapsed": false,
     "input": [],
     "language": "python",
     "metadata": {},
     "outputs": []
    },
    {
     "cell_type": "code",
     "collapsed": false,
     "input": [],
     "language": "python",
     "metadata": {},
     "outputs": []
    },
    {
     "cell_type": "code",
     "collapsed": false,
     "input": [],
     "language": "python",
     "metadata": {},
     "outputs": []
    },
    {
     "cell_type": "code",
     "collapsed": false,
     "input": [],
     "language": "python",
     "metadata": {},
     "outputs": []
    },
    {
     "cell_type": "code",
     "collapsed": false,
     "input": [],
     "language": "python",
     "metadata": {},
     "outputs": []
    },
    {
     "cell_type": "code",
     "collapsed": false,
     "input": [],
     "language": "python",
     "metadata": {},
     "outputs": []
    },
    {
     "cell_type": "code",
     "collapsed": false,
     "input": [],
     "language": "python",
     "metadata": {},
     "outputs": []
    },
    {
     "cell_type": "code",
     "collapsed": false,
     "input": [],
     "language": "python",
     "metadata": {},
     "outputs": []
    },
    {
     "cell_type": "code",
     "collapsed": false,
     "input": [],
     "language": "python",
     "metadata": {},
     "outputs": [],
     "prompt_number": 28
    },
    {
     "cell_type": "code",
     "collapsed": false,
     "input": [],
     "language": "python",
     "metadata": {},
     "outputs": [],
     "prompt_number": 3
    },
    {
     "cell_type": "code",
     "collapsed": false,
     "input": [],
     "language": "python",
     "metadata": {},
     "outputs": [],
     "prompt_number": 40
    },
    {
     "cell_type": "code",
     "collapsed": false,
     "input": [],
     "language": "python",
     "metadata": {},
     "outputs": [],
     "prompt_number": 41
    },
    {
     "cell_type": "code",
     "collapsed": false,
     "input": [],
     "language": "python",
     "metadata": {},
     "outputs": [],
     "prompt_number": 42
    },
    {
     "cell_type": "code",
     "collapsed": false,
     "input": [],
     "language": "python",
     "metadata": {},
     "outputs": [],
     "prompt_number": 43
    },
    {
     "cell_type": "code",
     "collapsed": false,
     "input": [],
     "language": "python",
     "metadata": {},
     "outputs": [],
     "prompt_number": 44
    },
    {
     "cell_type": "code",
     "collapsed": false,
     "input": [],
     "language": "python",
     "metadata": {},
     "outputs": [],
     "prompt_number": 45
    },
    {
     "cell_type": "code",
     "collapsed": false,
     "input": [],
     "language": "python",
     "metadata": {},
     "outputs": [],
     "prompt_number": 46
    },
    {
     "cell_type": "code",
     "collapsed": false,
     "input": [],
     "language": "python",
     "metadata": {},
     "outputs": [],
     "prompt_number": 47
    },
    {
     "cell_type": "code",
     "collapsed": false,
     "input": [],
     "language": "python",
     "metadata": {},
     "outputs": [],
     "prompt_number": 49
    },
    {
     "cell_type": "code",
     "collapsed": false,
     "input": [],
     "language": "python",
     "metadata": {},
     "outputs": [],
     "prompt_number": 50
    },
    {
     "cell_type": "code",
     "collapsed": false,
     "input": [],
     "language": "python",
     "metadata": {},
     "outputs": []
    },
    {
     "cell_type": "code",
     "collapsed": false,
     "input": [],
     "language": "python",
     "metadata": {},
     "outputs": []
    },
    {
     "cell_type": "code",
     "collapsed": false,
     "input": [],
     "language": "python",
     "metadata": {},
     "outputs": []
    }
   ],
   "metadata": {}
  }
 ]
}