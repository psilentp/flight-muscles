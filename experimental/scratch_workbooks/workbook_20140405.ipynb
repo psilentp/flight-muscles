{
 "metadata": {
  "name": ""
 },
 "nbformat": 3,
 "nbformat_minor": 0,
 "worksheets": [
  {
   "cells": [
    {
     "cell_type": "code",
     "collapsed": false,
     "input": [
      "import sys\n",
      "import json\n",
      "import os\n",
      "import random\n",
      "import scipy\n",
      "import numpy as np\n",
      "import flylib\n",
      "import quantities as pq\n",
      "import cPickle\n",
      "stroke_amp_R = 'phi_R'\n",
      "stroke_amp_L = 'phi_L'\n",
      "stroke_dev_R = 'theta_R'\n",
      "stroke_dev_L = 'theta_L'\n",
      "wing_rot_R = 'eta_R'\n",
      "wing_rot_L = 'eta_L'"
     ],
     "language": "python",
     "metadata": {},
     "outputs": [],
     "prompt_number": 1
    },
    {
     "cell_type": "code",
     "collapsed": false,
     "input": [
      "run initalize_flyDB.py"
     ],
     "language": "python",
     "metadata": {},
     "outputs": [],
     "prompt_number": 2
    },
    {
     "cell_type": "code",
     "collapsed": false,
     "input": [
      "fn = 'fly_db_init.cpkl'\n",
      "f = open(fn,'rb')\n",
      "fly_db = cPickle.load(f)\n",
      "f.close()"
     ],
     "language": "python",
     "metadata": {},
     "outputs": [],
     "prompt_number": 3
    },
    {
     "cell_type": "code",
     "collapsed": false,
     "input": [
      "fly_db.keys()"
     ],
     "language": "python",
     "metadata": {},
     "outputs": [
      {
       "metadata": {},
       "output_type": "pyout",
       "prompt_number": 94,
       "text": [
        "[112, 114, 115, 111]"
       ]
      }
     ],
     "prompt_number": 94
    },
    {
     "cell_type": "code",
     "collapsed": false,
     "input": [
      "signal = expmnt['kine_sequences'][snum][stroke_amp_R]\n",
      "signal = squeeze(signal)\n",
      "peaks = scipy.signal.find_peaks_cwt(signal*-1,arange(1,20))\n",
      "plot(expmnt['kine_sequences'][snum][stroke_amp_R])\n",
      "plot(peaks,signal[peaks],'o')"
     ],
     "language": "python",
     "metadata": {},
     "outputs": [
      {
       "metadata": {},
       "output_type": "pyout",
       "prompt_number": 77,
       "text": [
        "[<matplotlib.lines.Line2D at 0xbab1f8c>]"
       ]
      }
     ],
     "prompt_number": 77
    },
    {
     "cell_type": "code",
     "collapsed": false,
     "input": [
      "seqs = fly.fly_record['experiments']['lr_blob_expansion']['kine_sequences']\n",
      "right_expan = [i for i,s in enumerate(seqs) if s['expan_pol'] == 90.0]\n",
      "left_expan = [i for i,s in enumerate(seqs) if s['expan_pol'] == 270.0]"
     ],
     "language": "python",
     "metadata": {},
     "outputs": [],
     "prompt_number": 91
    },
    {
     "cell_type": "code",
     "collapsed": false,
     "input": [
      "p_amp = [3.9,\n",
      "         65.0445,4.2642,\n",
      "         3.5806,-2.9492,\n",
      "         0.1319,0.3639,\n",
      "         0.7844,0.2098]\n",
      "p_rot = [4.2936,\n",
      "     1.8536,59.6529,\n",
      "     5.1852,1.6095,\n",
      "     -8.4569,9.8057,\n",
      "     3.9562,5.8064,\n",
      "     -3.0337,-2.8749,\n",
      "     -2.8771,0.6686,\n",
      "     0.8649,-0.6137,\n",
      "     0.0771,-1.0007]\n",
      "\n",
      "p_dev = [-6.173,\n",
      "         6.5682,   3.7788,\n",
      "         6.1335,   0.8717,\n",
      "         -0.352,   -0.6606,\n",
      "         0.0447,   1.2816,\n",
      "         0.5257,   0.3556,\n",
      "         -0.3202,  -0.2039,\n",
      "         -0.2993,  0.1891,\n",
      "         0.0221,   0.0379]"
     ],
     "language": "python",
     "metadata": {},
     "outputs": [],
     "prompt_number": 554
    },
    {
     "cell_type": "code",
     "collapsed": false,
     "input": [
      "reload(flylib)\n"
     ],
     "language": "python",
     "metadata": {},
     "outputs": []
    },
    {
     "cell_type": "code",
     "collapsed": false,
     "input": [
      "reload(flylib)\n",
      "#figure()\n",
      "fln = 112\n",
      "seq_num = 5\n",
      "fly = flylib.Fly(fly_db[fln])\n",
      "seqs = fly.fly_record['experiments']['lr_blob_expansion']['kine_sequences']\n",
      "right_expan = [i for i,s in enumerate(seqs) if s['expan_pol'] == 90.0]\n",
      "left_expan = [i for i,s in enumerate(seqs) if s['expan_pol'] == 270.0]\n",
      "fly.resample_strokes('lr_blob_expansion',seq_num)\n",
      "strokes = seqs[seq_num]['resampled_strokes'][stroke_dev_R][:20]\n",
      "p_fit = flylib.fit_harmonic(strokes,p_dev)\n",
      "#### plot\n",
      "phases = np.linspace(0,2*pi,50)\n",
      "plot(linspace(0,2*pi,500),rad2deg(strokes.T),'g',alpha = 0.1)\n",
      "plot(phases,flylib.harmonic(phases,p_fit),'g--')\n",
      "plot(phases,flylib.harmonic(phases,p_dev,),'g')"
     ],
     "language": "python",
     "metadata": {},
     "outputs": [
      {
       "metadata": {},
       "output_type": "pyout",
       "prompt_number": 577,
       "text": [
        "[<matplotlib.lines.Line2D at 0x1c4acd210>]"
       ]
      }
     ],
     "prompt_number": 577
    },
    {
     "cell_type": "code",
     "collapsed": false,
     "input": [
      "phases = np.linspace(0,2*pi,50)\n",
      "plot(linspace(0,2*pi,500),rad2deg(resampled_strokes[stroke_dev_R][:20].T),'k',alpha = 0.1)\n",
      "plot(phases,flylib.harmonic(phases,fit_left_wing))\n",
      "plot(phases,flylib.harmonic(phases,p_dev))"
     ],
     "language": "python",
     "metadata": {},
     "outputs": [
      {
       "metadata": {},
       "output_type": "pyout",
       "prompt_number": 561,
       "text": [
        "[<matplotlib.lines.Line2D at 0x1c26ca990>]"
       ]
      }
     ],
     "prompt_number": 561
    },
    {
     "cell_type": "code",
     "collapsed": false,
     "input": [
      "new_len = size(resampled_strokes[stroke_amp_L])\n",
      "num_strokes = shape(resampled_strokes[stroke_amp_L])[0]\n",
      "restre = squeeze(reshape(resampled_strokes[stroke_amp_L],(new_len,1)))\n",
      "phases = linspace(0,2*np.pi*num_strokes,new_len)\n",
      "y_fit = restre[~isnan(restre)]\n",
      "x_fit = phases[~isnan(restre)]"
     ],
     "language": "python",
     "metadata": {},
     "outputs": [],
     "prompt_number": 521
    },
    {
     "cell_type": "code",
     "collapsed": false,
     "input": [
      "plot(x_fit,y_fit)"
     ],
     "language": "python",
     "metadata": {},
     "outputs": [
      {
       "metadata": {},
       "output_type": "pyout",
       "prompt_number": 522,
       "text": [
        "[<matplotlib.lines.Line2D at 0x1c0224cd0>]"
       ]
      }
     ],
     "prompt_number": 522
    },
    {
     "cell_type": "code",
     "collapsed": false,
     "input": [],
     "language": "python",
     "metadata": {},
     "outputs": [
      {
       "metadata": {},
       "output_type": "pyout",
       "prompt_number": 317,
       "text": [
        "50"
       ]
      }
     ],
     "prompt_number": 317
    },
    {
     "cell_type": "code",
     "collapsed": false,
     "input": [
      "def harmonic(phase,p):\n",
      "    order = (len(p)-1)/2\n",
      "    n = np.arange(1,order+1)\n",
      "    def h(ph):\n",
      "        return p[0] + sum([p[i]*np.cos((n+1)*ph) + p[i+1]*np.sin((n+1)*ph) for n,i in enumerate(range(1,order+1,2))])\n",
      "    return [h(ph) for ph in phase]"
     ],
     "language": "python",
     "metadata": {},
     "outputs": [],
     "prompt_number": 495
    },
    {
     "cell_type": "code",
     "collapsed": false,
     "input": [
      "phase = linspace(0,2*np.pi)"
     ],
     "language": "python",
     "metadata": {},
     "outputs": [],
     "prompt_number": 237
    },
    {
     "cell_type": "code",
     "collapsed": false,
     "input": [],
     "language": "python",
     "metadata": {},
     "outputs": []
    },
    {
     "cell_type": "code",
     "collapsed": false,
     "input": [
      "from scipy import optimize\n",
      "def errfunc(p, x, y):\n",
      "    print sum(harmonic(x,p)-y)\n",
      "    return harmonic(x,p)-y\n",
      "wingstroke = resampled_strokes[stroke_amp_L][0]\n",
      "phases = np.linspace(0,2*pi,len(wingstroke),)\n",
      "p1,msg = optimize.leastsq(errfunc, p_amp[:], args=(x_fit,rad2deg(y_fit)))"
     ],
     "language": "python",
     "metadata": {},
     "outputs": [
      {
       "output_type": "stream",
       "stream": "stdout",
       "text": [
        "-378798.553654\n",
        "-378798.553654"
       ]
      },
      {
       "output_type": "stream",
       "stream": "stdout",
       "text": [
        "\n",
        "-378798.553654"
       ]
      },
      {
       "output_type": "stream",
       "stream": "stdout",
       "text": [
        "\n",
        "-378798.552259"
       ]
      },
      {
       "output_type": "stream",
       "stream": "stdout",
       "text": [
        "\n",
        "-378798.554618"
       ]
      },
      {
       "output_type": "stream",
       "stream": "stdout",
       "text": [
        "\n",
        "-378798.553653"
       ]
      },
      {
       "output_type": "stream",
       "stream": "stdout",
       "text": [
        "\n",
        "-378798.553706"
       ]
      },
      {
       "output_type": "stream",
       "stream": "stdout",
       "text": [
        "\n",
        "-378798.553652"
       ]
      },
      {
       "output_type": "stream",
       "stream": "stdout",
       "text": [
        "\n",
        "-378798.553654"
       ]
      },
      {
       "output_type": "stream",
       "stream": "stdout",
       "text": [
        "\n",
        "-378798.553654"
       ]
      },
      {
       "output_type": "stream",
       "stream": "stdout",
       "text": [
        "\n",
        "-378798.553654"
       ]
      },
      {
       "output_type": "stream",
       "stream": "stdout",
       "text": [
        "\n",
        "-378798.553654"
       ]
      },
      {
       "output_type": "stream",
       "stream": "stdout",
       "text": [
        "\n",
        "-0.0024511165001"
       ]
      },
      {
       "output_type": "stream",
       "stream": "stdout",
       "text": [
        "\n",
        "0.00464682184096"
       ]
      },
      {
       "output_type": "stream",
       "stream": "stdout",
       "text": [
        "\n",
        "-0.0035393365406"
       ]
      },
      {
       "output_type": "stream",
       "stream": "stdout",
       "text": [
        "\n",
        "-0.00244973796177"
       ]
      },
      {
       "output_type": "stream",
       "stream": "stdout",
       "text": [
        "\n",
        "-0.00246515176795"
       ]
      },
      {
       "output_type": "stream",
       "stream": "stdout",
       "text": [
        "\n",
        "-0.00244790437418"
       ]
      },
      {
       "output_type": "stream",
       "stream": "stdout",
       "text": [
        "\n",
        "-0.0024511165001"
       ]
      },
      {
       "output_type": "stream",
       "stream": "stdout",
       "text": [
        "\n",
        "-0.0024511165001"
       ]
      },
      {
       "output_type": "stream",
       "stream": "stdout",
       "text": [
        "\n",
        "-0.0024511165001"
       ]
      },
      {
       "output_type": "stream",
       "stream": "stdout",
       "text": [
        "\n",
        "-0.0024511165001"
       ]
      },
      {
       "output_type": "stream",
       "stream": "stdout",
       "text": [
        "\n",
        "5.21257241815e-05"
       ]
      },
      {
       "output_type": "stream",
       "stream": "stdout",
       "text": [
        "\n"
       ]
      }
     ],
     "prompt_number": 523
    },
    {
     "cell_type": "code",
     "collapsed": false,
     "input": [],
     "language": "python",
     "metadata": {},
     "outputs": [
      {
       "metadata": {},
       "output_type": "pyout",
       "prompt_number": 518,
       "text": [
        "array([ 24.50971349,  72.88575218,   7.89367406,  -4.29547519,\n",
        "        -9.21875421,   0.1319    ,   0.3639    ,   0.7844    ,   0.2098    ])"
       ]
      }
     ],
     "prompt_number": 518
    },
    {
     "cell_type": "code",
     "collapsed": false,
     "input": [
      "#pts = [ph,harmonic(ph,p1),'o',c='b') for ph in phases]\n",
      "#pts = [plot(ph,harmonic(ph,p_amp),'o',c='r') for ph in phases]\n",
      "plot(phases,rad2deg(resampled_strokes[stroke_amp_L].T),'k',alpha = 0.2)\n",
      "pts = plot(phases,harmonic(phases,p_amp),'b',lw = 10,alpha = 0.3)\n",
      "pts = plot(phases,harmonic(phases,p1),'r',lw=10,alpha = 0.3)"
     ],
     "language": "python",
     "metadata": {},
     "outputs": [],
     "prompt_number": 533
    },
    {
     "cell_type": "code",
     "collapsed": false,
     "input": [
      "help(optimize.leastsq)"
     ],
     "language": "python",
     "metadata": {},
     "outputs": [
      {
       "output_type": "stream",
       "stream": "stdout",
       "text": [
        "Help on function leastsq in module scipy.optimize.minpack:\n",
        "\n",
        "leastsq(func, x0, args=(), Dfun=None, full_output=0, col_deriv=0, ftol=1.49012e-08, xtol=1.49012e-08, gtol=0.0, maxfev=0, epsfcn=None, factor=100, diag=None)\n",
        "    Minimize the sum of squares of a set of equations.\n",
        "    \n",
        "    ::\n",
        "    \n",
        "        x = arg min(sum(func(y)**2,axis=0))\n",
        "                 y\n",
        "    \n",
        "    Parameters\n",
        "    ----------\n",
        "    func : callable\n",
        "        should take at least one (possibly length N vector) argument and\n",
        "        returns M floating point numbers.\n",
        "    x0 : ndarray\n",
        "        The starting estimate for the minimization.\n",
        "    args : tuple\n",
        "        Any extra arguments to func are placed in this tuple.\n",
        "    Dfun : callable\n",
        "        A function or method to compute the Jacobian of func with derivatives\n",
        "        across the rows. If this is None, the Jacobian will be estimated.\n",
        "    full_output : bool\n",
        "        non-zero to return all optional outputs.\n",
        "    col_deriv : bool\n",
        "        non-zero to specify that the Jacobian function computes derivatives\n",
        "        down the columns (faster, because there is no transpose operation).\n",
        "    ftol : float\n",
        "        Relative error desired in the sum of squares.\n",
        "    xtol : float\n",
        "        Relative error desired in the approximate solution.\n",
        "    gtol : float\n",
        "        Orthogonality desired between the function vector and the columns of\n",
        "        the Jacobian.\n",
        "    maxfev : int\n",
        "        The maximum number of calls to the function. If zero, then 100*(N+1) is\n",
        "        the maximum where N is the number of elements in x0.\n",
        "    epsfcn : float\n",
        "        A suitable step length for the forward-difference approximation of the\n",
        "        Jacobian (for Dfun=None). If epsfcn is less than the machine precision,\n",
        "        it is assumed that the relative errors in the functions are of the\n",
        "        order of the machine precision.\n",
        "    factor : float\n",
        "        A parameter determining the initial step bound\n",
        "        (``factor * || diag * x||``). Should be in interval ``(0.1, 100)``.\n",
        "    diag : sequence\n",
        "        N positive entries that serve as a scale factors for the variables.\n",
        "    \n",
        "    Returns\n",
        "    -------\n",
        "    x : ndarray\n",
        "        The solution (or the result of the last iteration for an unsuccessful\n",
        "        call).\n",
        "    cov_x : ndarray\n",
        "        Uses the fjac and ipvt optional outputs to construct an\n",
        "        estimate of the jacobian around the solution. None if a\n",
        "        singular matrix encountered (indicates very flat curvature in\n",
        "        some direction).  This matrix must be multiplied by the\n",
        "        residual variance to get the covariance of the\n",
        "        parameter estimates -- see curve_fit.\n",
        "    infodict : dict\n",
        "        a dictionary of optional outputs with the key s:\n",
        "    \n",
        "        ``nfev``\n",
        "            The number of function calls\n",
        "        ``fvec``\n",
        "            The function evaluated at the output\n",
        "        ``fjac``\n",
        "            A permutation of the R matrix of a QR\n",
        "            factorization of the final approximate\n",
        "            Jacobian matrix, stored column wise.\n",
        "            Together with ipvt, the covariance of the\n",
        "            estimate can be approximated.\n",
        "        ``ipvt``\n",
        "            An integer array of length N which defines\n",
        "            a permutation matrix, p, such that\n",
        "            fjac*p = q*r, where r is upper triangular\n",
        "            with diagonal elements of nonincreasing\n",
        "            magnitude. Column j of p is column ipvt(j)\n",
        "            of the identity matrix.\n",
        "        ``qtf``\n",
        "            The vector (transpose(q) * fvec).\n",
        "    \n",
        "    mesg : str\n",
        "        A string message giving information about the cause of failure.\n",
        "    ier : int\n",
        "        An integer flag.  If it is equal to 1, 2, 3 or 4, the solution was\n",
        "        found.  Otherwise, the solution was not found. In either case, the\n",
        "        optional output variable 'mesg' gives more information.\n",
        "    \n",
        "    Notes\n",
        "    -----\n",
        "    \"leastsq\" is a wrapper around MINPACK's lmdif and lmder algorithms.\n",
        "    \n",
        "    cov_x is a Jacobian approximation to the Hessian of the least squares\n",
        "    objective function.\n",
        "    This approximation assumes that the objective function is based on the\n",
        "    difference between some observed target data (ydata) and a (non-linear)\n",
        "    function of the parameters `f(xdata, params)` ::\n",
        "    \n",
        "           func(params) = ydata - f(xdata, params)\n",
        "    \n",
        "    so that the objective function is ::\n",
        "    \n",
        "           min   sum((ydata - f(xdata, params))**2, axis=0)\n",
        "         params\n",
        "\n"
       ]
      }
     ],
     "prompt_number": 458
    },
    {
     "cell_type": "code",
     "collapsed": false,
     "input": [
      "reload(flylib)\n",
      "figure()\n",
      "fln = 112\n",
      "seqs = fly.fly_record['experiments']['lr_blob_expansion']['kine_sequences']\n",
      "right_expan = [i for i,s in enumerate(seqs) if s['expan_pol'] == 90.0]\n",
      "left_expan = [i for i,s in enumerate(seqs) if s['expan_pol'] == 270.0]\n",
      "for snum in left_expan:\n",
      "    print snum\n",
      "    fly = flylib.Fly(fly_db[fln])\n",
      "    fly.get_cam_epochs('lr_blob_expansion')\n",
      "    kine_phases = fly.get_kine_phases('lr_blob_expansion',snum)\n",
      "    expmnt = fly.fly_record['experiments']['lr_blob_expansion']\n",
      "    ax0 = subplot(2,1,1)\n",
      "    s_amp_L = expmnt['kine_sequences'][snum][stroke_amp_L]\n",
      "    s_amp_R = expmnt['kine_sequences'][snum][stroke_amp_R]\n",
      "    s_dev_L = expmnt['kine_sequences'][snum][stroke_dev_L]\n",
      "    s_dev_R = expmnt['kine_sequences'][snum][stroke_dev_R]\n",
      "    w_rot_L = expmnt['kine_sequences'][snum][wing_rot_L]\n",
      "    w_rot_R = expmnt['kine_sequences'][snum][wing_rot_R]\n",
      "    l = [plot(kphase,rad2deg(s_amp_L[idx]),color = 'b',alpha = 0.3) \n",
      "        for kphase,idx in zip(kine_phases['stroke_phases_kin'],kine_phases['stroke_kin_idx'])[:]]\n",
      "    l = [plot(kphase,rad2deg(s_dev_L[idx]),color = 'r',alpha = 0.3) \n",
      "        for kphase,idx in zip(kine_phases['stroke_phases_kin'],kine_phases['stroke_kin_idx'])[:]]\n",
      "    l = [plot(kphase,rad2deg(w_rot_L[idx]-pi/2),color = 'g',alpha = 0.3) \n",
      "        for kphase,idx in zip(kine_phases['stroke_phases_kin'],kine_phases['stroke_kin_idx'])[:]]\n",
      "    ax3 = subplot(2,1,2)\n",
      "    l = [plot(phs,expmnt['axon_data']['AMsysCh1'][x[0]:x[1]],color = 'k',alpha = 0.5) \n",
      "        for phs,x in zip(kine_phases['stroke_phases_axon'],kine_phases['stroke_phys_idx'])[:]]\n",
      "    print x[1]-x[0]\n",
      "ax0.set_ybound([-100,100])"
     ],
     "language": "python",
     "metadata": {},
     "outputs": [
      {
       "output_type": "stream",
       "stream": "stdout",
       "text": [
        "0\n",
        "[384]"
       ]
      },
      {
       "output_type": "stream",
       "stream": "stdout",
       "text": [
        "\n",
        "1\n",
        "[401]"
       ]
      },
      {
       "output_type": "stream",
       "stream": "stdout",
       "text": [
        "\n",
        "5\n",
        "[434]"
       ]
      },
      {
       "output_type": "stream",
       "stream": "stdout",
       "text": [
        "\n"
       ]
      }
     ],
     "prompt_number": 101
    },
    {
     "cell_type": "code",
     "collapsed": false,
     "input": [
      "plot(phs,expmnt['axon_data']['AMsysCh1'][x[0]:x[1]],'-o')\n",
      "from scipy.interpolate import griddata\n",
      "xi = linspace(0,2*pi,500)\n",
      "resamp = griddata(phs,expmnt['axon_data']['AMsysCh1'][x[0]:x[1]],xi,method = 'cubic')\n",
      "plot(xi,resamp,'-o')"
     ],
     "language": "python",
     "metadata": {},
     "outputs": [
      {
       "metadata": {},
       "output_type": "pyout",
       "prompt_number": 114,
       "text": [
        "[<matplotlib.lines.Line2D at 0x11113d7d0>]"
       ]
      }
     ],
     "prompt_number": 114
    },
    {
     "cell_type": "code",
     "collapsed": false,
     "input": [
      "for fln in sorted(fly_db.keys()):\n",
      "    fly = flylib.Fly(fly_db[fln])\n",
      "    fly.calc_seqs_strokeplanes('lr_blob_expansion')\n",
      "    print (fln,np.mean(fly_db[fln]['experiments']['lr_blob_expansion']['strokeplanes']))"
     ],
     "language": "python",
     "metadata": {},
     "outputs": [
      {
       "output_type": "stream",
       "stream": "stdout",
       "text": [
        "(111, -50.123229279112167)\n",
        "(112, -58.666257660211471)"
       ]
      },
      {
       "output_type": "stream",
       "stream": "stdout",
       "text": [
        "\n",
        "(114, -44.294678767978375)"
       ]
      },
      {
       "output_type": "stream",
       "stream": "stdout",
       "text": [
        "\n",
        "(115, -49.588501570399025)"
       ]
      },
      {
       "output_type": "stream",
       "stream": "stdout",
       "text": [
        "\n"
       ]
      },
      {
       "output_type": "stream",
       "stream": "stderr",
       "text": [
        "transformations.py:1888: UserWarning: failed to import module _transformations\n",
        "  warnings.warn(\"failed to import module %s\" % name)\n"
       ]
      }
     ],
     "prompt_number": 5
    },
    {
     "cell_type": "code",
     "collapsed": false,
     "input": [
      "np.mean(fly_db[111]['experiments']['lr_blob_expansion']['strokeplanes'])"
     ],
     "language": "python",
     "metadata": {},
     "outputs": [
      {
       "metadata": {},
       "output_type": "pyout",
       "prompt_number": 11,
       "text": [
        "-50.123229279112174"
       ]
      }
     ],
     "prompt_number": 11
    },
    {
     "cell_type": "code",
     "collapsed": false,
     "input": [
      "#plot the left-right angles for all sequences\n",
      "figure()\n",
      "fln = 115\n",
      "fly = flylib.Fly(fly_db[fln])\n",
      "fly.get_cam_epochs('lr_blob_expansion')\n",
      "seqs = fly_db[fln]['experiments']['lr_blob_expansion']['kine_sequences']\n",
      "stroke_amp_R = 'phi_R'\n",
      "stroke_amp_L = 'phi_L'\n",
      "stroke_dev_R = 'theta_R'\n",
      "stroke_dev_L = 'theta_L'\n",
      "wing_rot_R = 'eta_R'\n",
      "wing_rot_L = 'eta_L'\n",
      "subplot(3,1,1)\n",
      "[plot(s[stroke_amp_L]-s[stroke_amp_R],color = 'r') for s in seqs if s['expan_pol'] == 90]\n",
      "[plot(s[stroke_amp_L]-s[stroke_amp_R],color = 'b') for s in seqs if s['expan_pol'] == 270]\n",
      "subplot(3,1,2)\n",
      "[plot(s[stroke_dev_L]-s[stroke_dev_R],color = 'r') for s in seqs if s['expan_pol'] == 90]\n",
      "[plot(s[stroke_dev_L]-s[stroke_dev_R],color = 'b') for s in seqs if s['expan_pol'] == 270]\n",
      "subplot(3,1,3)\n",
      "[plot(s[wing_rot_L]-s[wing_rot_R],color = 'r') for s in seqs if s['expan_pol'] == 90]\n",
      "[plot(s[wing_rot_L]-s[wing_rot_R],color = 'b') for s in seqs if s['expan_pol'] == 270]"
     ],
     "language": "python",
     "metadata": {},
     "outputs": [
      {
       "output_type": "stream",
       "stream": "stderr",
       "text": [
        "flylib.py:133: UserWarning: problem extracting idxs from camera_sync_signal forepoch 0 using even spaced idx's over the camera epoch instead\n",
        "  \"epoch %s using even spaced idx's over the camera epoch instead\"%(i))\n"
       ]
      },
      {
       "metadata": {},
       "output_type": "pyout",
       "prompt_number": 5,
       "text": [
        "[[<matplotlib.lines.Line2D at 0xc39a30c>],\n",
        " [<matplotlib.lines.Line2D at 0xc39a7ec>],\n",
        " [<matplotlib.lines.Line2D at 0xc39acac>]]"
       ]
      }
     ],
     "prompt_number": 5
    },
    {
     "cell_type": "code",
     "collapsed": false,
     "input": [],
     "language": "python",
     "metadata": {},
     "outputs": [
      {
       "metadata": {},
       "output_type": "pyout",
       "prompt_number": 105,
       "text": [
        "[<matplotlib.lines.Line2D at 0x11ada4450>]"
       ]
      }
     ],
     "prompt_number": 105
    },
    {
     "cell_type": "code",
     "collapsed": false,
     "input": [
      "#plot the ephys and kine for a given sequence number\n",
      "seqnum = 0\n",
      "print seqs[seqnum]['expan_pol']\n",
      "ax_epoch = seqs[seqnum]['axon_epoch']\n",
      "ph_times = seqs[seqnum]['axon_times']\n",
      "ephys_trace = fly_db[fln]['experiments']['lr_blob_expansion']['axon_data']['AMsysCh1'][ax_epoch]\n",
      "ax_times = fly_db[fln]['experiments']['lr_blob_expansion']['axon_data']['times'][ax_epoch]\n",
      "ax0 =subplot(2,1,1)\n",
      "plot(ph_times-ph_times[seqnum],seqs[seqnum][stroke_amp_R])\n",
      "plot(ph_times-ph_times[seqnum],seqs[seqnum][stroke_amp_L])\n",
      "ax1 = subplot(2,1,2,sharex = ax0)\n",
      "plot(ax_times-ax_times[seqnum],ephys_trace)"
     ],
     "language": "python",
     "metadata": {},
     "outputs": [
      {
       "output_type": "stream",
       "stream": "stdout",
       "text": [
        "90.0\n"
       ]
      },
      {
       "metadata": {},
       "output_type": "pyout",
       "prompt_number": 123,
       "text": [
        "[<matplotlib.lines.Line2D at 0x833424ec>]"
       ]
      }
     ],
     "prompt_number": 123
    },
    {
     "cell_type": "code",
     "collapsed": false,
     "input": [
      "import scipy.stats"
     ],
     "language": "python",
     "metadata": {},
     "outputs": [],
     "prompt_number": 232
    },
    {
     "cell_type": "code",
     "collapsed": false,
     "input": [
      "#filter left and right signal\n",
      "sa_R = squeeze(seqs[seqnum][stroke_amp_R])\n",
      "sa_R = sa_R[~isnan(sa_R)]\n",
      "sa_L = squeeze(seqs[seqnum][stroke_amp_L] )\n",
      "sa_L = sa_L[~isnan(sa_L)]\n",
      "\n",
      "sd_R = squeeze(seqs[seqnum][stroke_dev_R])\n",
      "sd_R = sd_R[~isnan(sd_R)]\n",
      "sd_L = squeeze(seqs[seqnum][stroke_dev_L])\n",
      "sd_L = sd_L[~isnan(sd_L)]\n",
      "\n",
      "wr_R = squeeze(seqs[seqnum][wing_rot_R])\n",
      "wr_R = wr_R[~isnan(wr_R)]\n",
      "wr_L = squeeze(seqs[seqnum][wing_rot_L])\n",
      "wr_L = wr_L[~isnan(wr_L)]\n",
      "\n",
      "from scipy.signal import hilbert\n",
      "sampling_period = ph_times[1]-ph_times[0]\n",
      "filtsig_R = butter_bandpass_filter(sa_R,150.,250.,ph_times[1]-ph_times[0],order = 3)\n",
      "filtsig_L = butter_bandpass_filter(sa_R,150.,250.,ph_times[1]-ph_times[0],order = 3)\n",
      "A = angle(hilbert(filtsig_R))\n",
      "A2 = mod(unwrap(A),2*pi)\n",
      "idx = scipy.where(diff(A2)<0)[0]+1"
     ],
     "language": "python",
     "metadata": {},
     "outputs": [],
     "prompt_number": 158
    },
    {
     "cell_type": "code",
     "collapsed": false,
     "input": [
      "reload(flylib)\n",
      "fln = 115\n",
      "fly = flylib.Fly(fly_db[fln])"
     ],
     "language": "python",
     "metadata": {},
     "outputs": [],
     "prompt_number": 266
    },
    {
     "cell_type": "code",
     "collapsed": false,
     "input": [
      "from scipy.interpolate import griddata\n",
      "k_var = sd_L\n",
      "ax0 = subplot(3,1,1)\n",
      "stai = 0\n",
      "stpi = len(idx-2)\n",
      "steady = slice(0,10)\n",
      "sigs = [rad2deg(k_var[i1:i2]) for i1,i2 in zip(idx[stai:stpi],idx[stai+1:stpi+1])]\n",
      "phs = [A2[i1:i2] for i1,i2 in zip(idx[stai:stpi],idx[stai+1:stpi+1])]\n",
      "xi = linspace(0,2*pi,num = 50)\n",
      "resamp = [griddata(ph,sig,xi,method = 'cubic') for ph,sig in zip(phs,sigs) if shape(ph)[0]>20]\n",
      "l = [plot(xi,res,color = 'r',alpha = 0.3) for res in resamp]\n",
      "steady_stroke = np.mean(resamp[steady],axis = 0)\n",
      "plot(xi,steady_stroke,color = 'K',lw = 2)\n",
      "ax1 = subplot(3,1,2,sharex = ax0)\n",
      "l = [plot(xi,rsmp-steady_stroke,color = cm.jet(float(i)/stpi)) for i,rsmp in enumerate(resamp)]\n",
      "#x = [plot(sd_L[idx[i-1]:idx[i]],color = 'b',alpha = 0.5) for i,a in enumerate(idx[3:10])]\n",
      "#ax2 = subplot(3,1,3,sharex = ax0,sharey = ax0)\n",
      "#x = [plot(wr_R[idx[i-1]:idx[i]]-pi/2,color = 'r',alpha = 0.5) for i,a in enumerate(idx[3:10])]\n",
      "#x = [plot(wr_L[idx[i-1]:idx[i]]-pi/2,color = 'b',alpha = 0.5) for i,a in enumerate(idx[3:10])]"
     ],
     "language": "python",
     "metadata": {},
     "outputs": [],
     "prompt_number": 237
    },
    {
     "cell_type": "code",
     "collapsed": false,
     "input": [
      "figure()\n",
      "ax0 = subplot(3,1,1)\n",
      "x = [plot(rad2deg(sa_R[i1:i2]),color = 'r',alpha = 0.5) for i1,i2 in zip(idx[stai:stpi],idx[stai+1:stpi+1])]\n",
      "x = [plot(rad2deg(sa_L[i1:i2]),color = 'b',alpha = 0.5) for i1,i2 in zip(idx[stai:stpi],idx[stai+1:stpi+1])]\n",
      "ax1 = subplot(3,1,2,sharex = ax0,sharey = ax0)\n",
      "x = [plot(rad2deg(sd_R[i1:i2]),color = 'r',alpha = 0.5) for i1,i2 in zip(idx[stai:stpi],idx[stai+1:stpi+1])]\n",
      "x = [plot(rad2deg(sd_L[i1:i2]),color = 'b',alpha = 0.5) for i1,i2 in zip(idx[stai:stpi],idx[stai+1:stpi+1])]\n",
      "ax2 = subplot(3,1,3,sharex = ax0,sharey = ax0)\n",
      "x = [plot(rad2deg(wr_R[i1:i2]-pi/2),color = 'r',alpha = 0.5) for i1,i2 in zip(idx[stai:stpi],idx[stai+1:stpi+1])]\n",
      "x = [plot(rad2deg(wr_L[i1:i2]-pi/2),color = 'b',alpha = 0.5) for i1,i2 in zip(idx[stai:stpi],idx[stai+1:stpi+1])]\n",
      "ax0.set_ybound(-100,100)"
     ],
     "language": "python",
     "metadata": {},
     "outputs": [],
     "prompt_number": 147
    },
    {
     "cell_type": "code",
     "collapsed": false,
     "input": [
      "resmp[5][1]"
     ],
     "language": "python",
     "metadata": {},
     "outputs": [
      {
       "metadata": {},
       "output_type": "pyout",
       "prompt_number": 171,
       "text": [
        "array([ 0.13703134,  0.44982044,  0.76260953,  1.07539863,  1.38818772,\n",
        "        1.70097682,  2.01376591,  2.32655501,  2.6393441 ,  2.9521332 ,\n",
        "        3.26492229,  3.57771138,  3.89050048,  4.20328957,  4.51607867,\n",
        "        4.82886776,  5.14165686,  5.45444595,  5.76723505,  6.08002414])"
       ]
      }
     ],
     "prompt_number": 171
    },
    {
     "cell_type": "code",
     "collapsed": false,
     "input": [],
     "language": "python",
     "metadata": {},
     "outputs": [],
     "prompt_number": 81
    },
    {
     "cell_type": "code",
     "collapsed": false,
     "input": [
      "plot(seqs[0]['axon_times'])"
     ],
     "language": "python",
     "metadata": {},
     "outputs": [
      {
       "metadata": {},
       "output_type": "pyout",
       "prompt_number": 255,
       "text": [
        "[<matplotlib.lines.Line2D at 0x823e2d6c>]"
       ]
      }
     ],
     "prompt_number": 255
    },
    {
     "cell_type": "code",
     "collapsed": false,
     "input": [
      "frame_angle = 55\n",
      "ph_seq = fly.fly_record['experiments']['lr_blob_expansion']['photron_sequences'][1]\n",
      "q_left = squeeze(ph_seq[:,[9,10,11,8]])\n",
      "q_right = squeeze(ph_seq[:,[13,14,15,12]])\n",
      "import transformations as trans\n",
      "rot_mats_left = array([trans.quaternion_matrix(x.T)[:3,:3] for x in q_left])\n",
      "rot_mats_right = array([trans.quaternion_matrix(x.T)[:3,:3] for x in q_right])\n",
      "l_frame = trans.rotation_matrix(deg2rad(frame_angle),[0,-1,0],)[:3,:3]\n",
      "r_frame = trans.rotation_matrix(deg2rad(-1*frame_angle),[0,1,0],)[:3,:3]\n",
      "from mpl_toolkits.mplot3d import Axes3D\n",
      "fig = plt.figure()\n",
      "ax = fig.add_subplot(111, projection='3d')\n",
      "l_wingtip = dot(rot_mats_left,[0,1,0]).T\n",
      "r_wingtip = dot(rot_mats_right,[0,-1,0]).T\n",
      "wing_frame_l = dot(l_frame,l_wingtip)\n",
      "wing_frame_r = dot(r_frame,r_wingtip)\n",
      "plot(l_wingtip[0],l_wingtip[1],zs=l_wingtip[2])\n",
      "plot(r_wingtip[0],r_wingtip[1],zs=r_wingtip[2])\n",
      "plot(wing_frame_l[0],wing_frame_l[1],zs=wing_frame_l[2])\n",
      "plot(wing_frame_r[0],wing_frame_r[1],zs=wing_frame_r[2])"
     ],
     "language": "python",
     "metadata": {},
     "outputs": [
      {
       "metadata": {},
       "output_type": "pyout",
       "prompt_number": 56,
       "text": [
        "[<mpl_toolkits.mplot3d.art3d.Line3D at 0x6078a86c>]"
       ]
      }
     ],
     "prompt_number": 56
    },
    {
     "cell_type": "code",
     "collapsed": false,
     "input": [
      "def butter_bandpass(lowcut, highcut, sampling_period, order=5):\n",
      "    import scipy.signal\n",
      "    sampling_frequency = 1.0/sampling_period\n",
      "    nyq = 0.5 * sampling_frequency\n",
      "    low = lowcut / nyq\n",
      "    high = highcut / nyq\n",
      "    b, a = scipy.signal.butter(order, [low, high], btype='band')\n",
      "    return b, a\n",
      "\n",
      "def butter_bandpass_filter(data, lowcut, highcut, sampling_period, order=5):\n",
      "    import scipy.signal\n",
      "    b, a = butter_bandpass(lowcut, highcut, sampling_period, order=order)\n",
      "    y = scipy.signal.filtfilt(b, a, data)\n",
      "    return y"
     ],
     "language": "python",
     "metadata": {},
     "outputs": [],
     "prompt_number": 10
    },
    {
     "cell_type": "code",
     "collapsed": false,
     "input": [
      "1/(ax_times[1]-ax_times[0])"
     ],
     "language": "python",
     "metadata": {},
     "outputs": [
      {
       "metadata": {},
       "output_type": "pyout",
       "prompt_number": 91,
       "text": [
        "100000.00011036718"
       ]
      }
     ],
     "prompt_number": 91
    },
    {
     "cell_type": "code",
     "collapsed": false,
     "input": [
      "rad2deg(Out[69])"
     ],
     "language": "python",
     "metadata": {},
     "outputs": [
      {
       "metadata": {},
       "output_type": "pyout",
       "prompt_number": 73,
       "text": [
        "-52.038593391483268"
       ]
      }
     ],
     "prompt_number": 73
    },
    {
     "cell_type": "code",
     "collapsed": false,
     "input": [
      "subplot(3,1,1)\n",
      "plot(ax_times,ephys_trace)"
     ],
     "language": "python",
     "metadata": {},
     "outputs": [
      {
       "metadata": {},
       "output_type": "pyout",
       "prompt_number": 14,
       "text": [
        "['Xpos',\n",
        " 'WBSync',\n",
        " 'Photostim',\n",
        " 'sampling_period',\n",
        " 'Ypos',\n",
        " 'CamSync',\n",
        " 'CamTrig',\n",
        " 'Ph1',\n",
        " 'LeftWing',\n",
        " 'Ph2',\n",
        " 'RightWing',\n",
        " 'Ph0',\n",
        " 'AMsysCh1',\n",
        " 'times']"
       ]
      }
     ],
     "prompt_number": 14
    },
    {
     "cell_type": "code",
     "collapsed": false,
     "input": [],
     "language": "python",
     "metadata": {},
     "outputs": [],
     "prompt_number": 16
    },
    {
     "cell_type": "code",
     "collapsed": false,
     "input": [],
     "language": "python",
     "metadata": {},
     "outputs": [],
     "prompt_number": 17
    },
    {
     "cell_type": "code",
     "collapsed": false,
     "input": [
      "for fln in fly_db.keys():\n",
      "    print fln\n",
      "    fly = flylib.Fly(fly_db[fln])\n",
      "    fly.get_cam_epochs('lr_blob_expansion')\n",
      "param_file = open('params.json','rb')\n",
      "params = json.load(param_file)\n",
      "param_file.close()\n",
      "fn = params['root_dir'] + 'fly_db.cpkl'\n",
      "f = open(fn,'wb')\n",
      "fly_db = cPickle.dump(f)\n",
      "f.close()"
     ],
     "language": "python",
     "metadata": {},
     "outputs": [
      {
       "output_type": "stream",
       "stream": "stdout",
       "text": [
        "112\n",
        "114"
       ]
      },
      {
       "output_type": "stream",
       "stream": "stderr",
       "text": [
        "flylib.py:133: UserWarning: problem extracting idxs from camera_sync_signal forepoch 5 using even spaced idx's over the camera epoch instead\n",
        "  \"epoch %s using even spaced idx's over the camera epoch instead\"%(i))\n",
        "flylib.py:133: UserWarning: problem extracting idxs from camera_sync_signal forepoch 0 using even spaced idx's over the camera epoch instead\n",
        "  \"epoch %s using even spaced idx's over the camera epoch instead\"%(i))\n"
       ]
      },
      {
       "output_type": "stream",
       "stream": "stderr",
       "text": [
        "flylib.py:128: UserWarning: problem extracting idxs from camera_sync_signal forepoch 1 using even spaced idx's over the camera epoch instead\n",
        "  \"epoch %s using even spaced idx's over the camera epoch instead\"%(i))\n",
        "flylib.py:128: UserWarning: problem extracting idxs from camera_sync_signal forepoch 2 using even spaced idx's over the camera epoch instead\n",
        "  \"epoch %s using even spaced idx's over the camera epoch instead\"%(i))\n",
        "flylib.py:128: UserWarning: problem extracting idxs from camera_sync_signal forepoch 4 using even spaced idx's over the camera epoch instead\n",
        "  \"epoch %s using even spaced idx's over the camera epoch instead\"%(i))\n"
       ]
      },
      {
       "output_type": "stream",
       "stream": "stdout",
       "text": [
        "\n",
        "115"
       ]
      },
      {
       "ename": "error",
       "evalue": "[Errno 12] Cannot allocate memory",
       "output_type": "pyerr",
       "traceback": [
        "\u001b[1;31m---------------------------------------------------------------------------\u001b[0m\n\u001b[1;31merror\u001b[0m                                     Traceback (most recent call last)",
        "\u001b[1;32m<ipython-input-37-fd96d9bf791c>\u001b[0m in \u001b[0;36m<module>\u001b[1;34m()\u001b[0m\n\u001b[0;32m      2\u001b[0m     \u001b[1;32mprint\u001b[0m \u001b[0mfln\u001b[0m\u001b[1;33m\u001b[0m\u001b[0m\n\u001b[0;32m      3\u001b[0m     \u001b[0mfly\u001b[0m \u001b[1;33m=\u001b[0m \u001b[0mflylib\u001b[0m\u001b[1;33m.\u001b[0m\u001b[0mFly\u001b[0m\u001b[1;33m(\u001b[0m\u001b[0mfly_db\u001b[0m\u001b[1;33m[\u001b[0m\u001b[0mfln\u001b[0m\u001b[1;33m]\u001b[0m\u001b[1;33m)\u001b[0m\u001b[1;33m\u001b[0m\u001b[0m\n\u001b[1;32m----> 4\u001b[1;33m     \u001b[0mfly\u001b[0m\u001b[1;33m.\u001b[0m\u001b[0mget_cam_epochs\u001b[0m\u001b[1;33m(\u001b[0m\u001b[1;34m'lr_blob_expansion'\u001b[0m\u001b[1;33m)\u001b[0m\u001b[1;33m\u001b[0m\u001b[0m\n\u001b[0m\u001b[0;32m      5\u001b[0m \u001b[0mparam_file\u001b[0m \u001b[1;33m=\u001b[0m \u001b[0mopen\u001b[0m\u001b[1;33m(\u001b[0m\u001b[1;34m'params.json'\u001b[0m\u001b[1;33m,\u001b[0m\u001b[1;34m'rb'\u001b[0m\u001b[1;33m)\u001b[0m\u001b[1;33m\u001b[0m\u001b[0m\n\u001b[0;32m      6\u001b[0m \u001b[0mparams\u001b[0m \u001b[1;33m=\u001b[0m \u001b[0mjson\u001b[0m\u001b[1;33m.\u001b[0m\u001b[0mload\u001b[0m\u001b[1;33m(\u001b[0m\u001b[0mparam_file\u001b[0m\u001b[1;33m)\u001b[0m\u001b[1;33m\u001b[0m\u001b[0m\n",
        "\u001b[1;32m/home/matt/flycity/muscle_analysis/flylib.pyc\u001b[0m in \u001b[0;36mget_cam_epochs\u001b[1;34m(self, experiment_name)\u001b[0m\n\u001b[0;32m    107\u001b[0m         \u001b[0mexp\u001b[0m \u001b[1;33m=\u001b[0m \u001b[0mself\u001b[0m\u001b[1;33m.\u001b[0m\u001b[0mfly_record\u001b[0m\u001b[1;33m[\u001b[0m\u001b[1;34m'experiments'\u001b[0m\u001b[1;33m]\u001b[0m\u001b[1;33m[\u001b[0m\u001b[1;34m'lr_blob_expansion'\u001b[0m\u001b[1;33m]\u001b[0m\u001b[1;33m\u001b[0m\u001b[0m\n\u001b[0;32m    108\u001b[0m         \u001b[0mfps\u001b[0m \u001b[1;33m=\u001b[0m \u001b[0mpq\u001b[0m\u001b[1;33m.\u001b[0m\u001b[0mQuantity\u001b[0m\u001b[1;33m(\u001b[0m\u001b[0mnp\u001b[0m\u001b[1;33m.\u001b[0m\u001b[0mfloat64\u001b[0m\u001b[1;33m(\u001b[0m\u001b[0mexp\u001b[0m\u001b[1;33m[\u001b[0m\u001b[1;34m'photron_frame_rate_Hz'\u001b[0m\u001b[1;33m]\u001b[0m\u001b[1;33m)\u001b[0m\u001b[1;33m,\u001b[0m\u001b[1;34m'Hz'\u001b[0m\u001b[1;33m)\u001b[0m\u001b[1;33m\u001b[0m\u001b[0m\n\u001b[1;32m--> 109\u001b[1;33m         \u001b[1;32mif\u001b[0m \u001b[1;34m'axon_data'\u001b[0m \u001b[1;32mnot\u001b[0m \u001b[1;32min\u001b[0m \u001b[0mexp\u001b[0m\u001b[1;33m.\u001b[0m\u001b[0mkeys\u001b[0m\u001b[1;33m(\u001b[0m\u001b[1;33m)\u001b[0m\u001b[1;33m:\u001b[0m \u001b[0mself\u001b[0m\u001b[1;33m.\u001b[0m\u001b[0mload_axon_data\u001b[0m\u001b[1;33m(\u001b[0m\u001b[0mexperiment_name\u001b[0m\u001b[1;33m)\u001b[0m\u001b[1;33m\u001b[0m\u001b[0m\n\u001b[0m\u001b[0;32m    110\u001b[0m         \u001b[1;32mif\u001b[0m \u001b[1;34m'kine_sequences'\u001b[0m \u001b[1;32mnot\u001b[0m \u001b[1;32min\u001b[0m \u001b[0mexp\u001b[0m\u001b[1;33m.\u001b[0m\u001b[0mkeys\u001b[0m\u001b[1;33m(\u001b[0m\u001b[1;33m)\u001b[0m\u001b[1;33m:\u001b[0m \u001b[0mself\u001b[0m\u001b[1;33m.\u001b[0m\u001b[0mload_kine_sequences\u001b[0m\u001b[1;33m(\u001b[0m\u001b[0mexperiment_name\u001b[0m\u001b[1;33m)\u001b[0m\u001b[1;33m\u001b[0m\u001b[0m\n\u001b[0;32m    111\u001b[0m         \u001b[0mkine_data\u001b[0m \u001b[1;33m=\u001b[0m \u001b[0mexp\u001b[0m\u001b[1;33m[\u001b[0m\u001b[1;34m'kine_sequences'\u001b[0m\u001b[1;33m]\u001b[0m\u001b[1;33m\u001b[0m\u001b[0m\n",
        "\u001b[1;32m/home/matt/flycity/muscle_analysis/flylib.pyc\u001b[0m in \u001b[0;36mload_axon_data\u001b[1;34m(self, experiment_name, filenum)\u001b[0m\n\u001b[0;32m    100\u001b[0m         \u001b[1;34m\"\"\"load the axon data from an experiment into the fly_record\"\"\"\u001b[0m\u001b[1;33m\u001b[0m\u001b[0m\n\u001b[0;32m    101\u001b[0m         \u001b[0maxon_file\u001b[0m \u001b[1;33m=\u001b[0m \u001b[0mself\u001b[0m\u001b[1;33m.\u001b[0m\u001b[0mfly_path\u001b[0m \u001b[1;33m+\u001b[0m \u001b[0mself\u001b[0m\u001b[1;33m.\u001b[0m\u001b[0mfly_record\u001b[0m\u001b[1;33m[\u001b[0m\u001b[1;34m'experiments'\u001b[0m\u001b[1;33m]\u001b[0m\u001b[1;33m[\u001b[0m\u001b[0mexperiment_name\u001b[0m\u001b[1;33m]\u001b[0m\u001b[1;33m[\u001b[0m\u001b[1;34m'axon_file_names'\u001b[0m\u001b[1;33m]\u001b[0m\u001b[1;33m[\u001b[0m\u001b[0mfilenum\u001b[0m\u001b[1;33m]\u001b[0m\u001b[1;33m\u001b[0m\u001b[0m\n\u001b[1;32m--> 102\u001b[1;33m         \u001b[0mself\u001b[0m\u001b[1;33m.\u001b[0m\u001b[0mfly_record\u001b[0m\u001b[1;33m[\u001b[0m\u001b[1;34m'experiments'\u001b[0m\u001b[1;33m]\u001b[0m\u001b[1;33m[\u001b[0m\u001b[0mexperiment_name\u001b[0m\u001b[1;33m]\u001b[0m\u001b[1;33m[\u001b[0m\u001b[1;34m'axon_data'\u001b[0m\u001b[1;33m]\u001b[0m \u001b[1;33m=\u001b[0m \u001b[0mget_axon_signals\u001b[0m\u001b[1;33m(\u001b[0m\u001b[0maxon_file\u001b[0m\u001b[1;33m)\u001b[0m\u001b[1;33m\u001b[0m\u001b[0m\n\u001b[0m\u001b[0;32m    103\u001b[0m \u001b[1;33m\u001b[0m\u001b[0m\n\u001b[0;32m    104\u001b[0m     \u001b[1;32mdef\u001b[0m \u001b[0mget_cam_epochs\u001b[0m\u001b[1;33m(\u001b[0m\u001b[0mself\u001b[0m\u001b[1;33m,\u001b[0m\u001b[0mexperiment_name\u001b[0m\u001b[1;33m)\u001b[0m\u001b[1;33m:\u001b[0m\u001b[1;33m\u001b[0m\u001b[0m\n",
        "\u001b[1;32m/home/matt/flycity/muscle_analysis/flylib.pyc\u001b[0m in \u001b[0;36mget_axon_signals\u001b[1;34m(filename)\u001b[0m\n\u001b[0;32m    163\u001b[0m     \u001b[1;32mfrom\u001b[0m \u001b[0mneo\u001b[0m\u001b[1;33m.\u001b[0m\u001b[0mio\u001b[0m\u001b[1;33m.\u001b[0m\u001b[0maxonio\u001b[0m \u001b[1;32mimport\u001b[0m \u001b[0mAxonIO\u001b[0m\u001b[1;33m\u001b[0m\u001b[0m\n\u001b[0;32m    164\u001b[0m     \u001b[0mreader\u001b[0m \u001b[1;33m=\u001b[0m \u001b[0mAxonIO\u001b[0m\u001b[1;33m(\u001b[0m\u001b[0mfilename\u001b[0m\u001b[1;33m=\u001b[0m\u001b[0mfilename\u001b[0m\u001b[1;33m)\u001b[0m\u001b[1;33m\u001b[0m\u001b[0m\n\u001b[1;32m--> 165\u001b[1;33m     \u001b[0mblocks\u001b[0m \u001b[1;33m=\u001b[0m \u001b[0mreader\u001b[0m\u001b[1;33m.\u001b[0m\u001b[0mread\u001b[0m\u001b[1;33m(\u001b[0m\u001b[1;33m)\u001b[0m\u001b[1;33m\u001b[0m\u001b[0m\n\u001b[0m\u001b[0;32m    166\u001b[0m     \u001b[0mheader\u001b[0m \u001b[1;33m=\u001b[0m \u001b[0mreader\u001b[0m\u001b[1;33m.\u001b[0m\u001b[0mread_header\u001b[0m\u001b[1;33m(\u001b[0m\u001b[1;33m)\u001b[0m\u001b[1;33m\u001b[0m\u001b[0m\n\u001b[0;32m    167\u001b[0m     \u001b[0mchannel_names\u001b[0m \u001b[1;33m=\u001b[0m \u001b[1;33m[\u001b[0m\u001b[0minfo\u001b[0m\u001b[1;33m[\u001b[0m\u001b[1;34m'ADCChNames'\u001b[0m\u001b[1;33m]\u001b[0m \u001b[1;32mfor\u001b[0m \u001b[0minfo\u001b[0m \u001b[1;32min\u001b[0m \u001b[0mheader\u001b[0m\u001b[1;33m[\u001b[0m\u001b[1;34m'listADCInfo'\u001b[0m\u001b[1;33m]\u001b[0m\u001b[1;33m]\u001b[0m\u001b[1;33m\u001b[0m\u001b[0m\n",
        "\u001b[1;32m/home/matt/flycity/muscle_analysis/neo/io/baseio.pyc\u001b[0m in \u001b[0;36mread\u001b[1;34m(self, lazy, cascade, **kargs)\u001b[0m\n\u001b[0;32m    102\u001b[0m                 return self.read_all_blocks(lazy=lazy, cascade=cascade,\n\u001b[0;32m    103\u001b[0m                                             **kargs)\n\u001b[1;32m--> 104\u001b[1;33m             \u001b[1;32mreturn\u001b[0m \u001b[1;33m[\u001b[0m\u001b[0mself\u001b[0m\u001b[1;33m.\u001b[0m\u001b[0mread_block\u001b[0m\u001b[1;33m(\u001b[0m\u001b[0mlazy\u001b[0m\u001b[1;33m=\u001b[0m\u001b[0mlazy\u001b[0m\u001b[1;33m,\u001b[0m \u001b[0mcascade\u001b[0m\u001b[1;33m=\u001b[0m\u001b[0mcascade\u001b[0m\u001b[1;33m,\u001b[0m \u001b[1;33m**\u001b[0m\u001b[0mkargs\u001b[0m\u001b[1;33m)\u001b[0m\u001b[1;33m]\u001b[0m\u001b[1;33m\u001b[0m\u001b[0m\n\u001b[0m\u001b[0;32m    105\u001b[0m         \u001b[1;32melif\u001b[0m \u001b[0mSegment\u001b[0m \u001b[1;32min\u001b[0m \u001b[0mself\u001b[0m\u001b[1;33m.\u001b[0m\u001b[0mreadable_objects\u001b[0m\u001b[1;33m:\u001b[0m\u001b[1;33m\u001b[0m\u001b[0m\n\u001b[0;32m    106\u001b[0m             \u001b[0mbl\u001b[0m \u001b[1;33m=\u001b[0m \u001b[0mBlock\u001b[0m\u001b[1;33m(\u001b[0m\u001b[0mname\u001b[0m\u001b[1;33m=\u001b[0m\u001b[1;34m'One segment only'\u001b[0m\u001b[1;33m)\u001b[0m\u001b[1;33m\u001b[0m\u001b[0m\n",
        "\u001b[1;32m/home/matt/flycity/muscle_analysis/neo/io/axonio.pyc\u001b[0m in \u001b[0;36mread_block\u001b[1;34m(self, lazy, cascade)\u001b[0m\n\u001b[0;32m    204\u001b[0m \u001b[1;33m\u001b[0m\u001b[0m\n\u001b[0;32m    205\u001b[0m         data = np.memmap(self.filename , dt  , 'r',\n\u001b[1;32m--> 206\u001b[1;33m                          shape = (totalsize,) , offset = headOffset)\n\u001b[0m\u001b[0;32m    207\u001b[0m \u001b[1;33m\u001b[0m\u001b[0m\n\u001b[0;32m    208\u001b[0m         \u001b[1;31m# 3 possible modes\u001b[0m\u001b[1;33m\u001b[0m\u001b[1;33m\u001b[0m\u001b[0m\n",
        "\u001b[1;32m/home/matt/Enthought/Canopy_32bit/User/lib/python2.7/site-packages/numpy/core/memmap.pyc\u001b[0m in \u001b[0;36m__new__\u001b[1;34m(subtype, filename, dtype, mode, offset, shape, order)\u001b[0m\n\u001b[0;32m    252\u001b[0m         \u001b[0mbytes\u001b[0m \u001b[1;33m-=\u001b[0m \u001b[0mstart\u001b[0m\u001b[1;33m\u001b[0m\u001b[0m\n\u001b[0;32m    253\u001b[0m         \u001b[0moffset\u001b[0m \u001b[1;33m-=\u001b[0m \u001b[0mstart\u001b[0m\u001b[1;33m\u001b[0m\u001b[0m\n\u001b[1;32m--> 254\u001b[1;33m         \u001b[0mmm\u001b[0m \u001b[1;33m=\u001b[0m \u001b[0mmmap\u001b[0m\u001b[1;33m.\u001b[0m\u001b[0mmmap\u001b[0m\u001b[1;33m(\u001b[0m\u001b[0mfid\u001b[0m\u001b[1;33m.\u001b[0m\u001b[0mfileno\u001b[0m\u001b[1;33m(\u001b[0m\u001b[1;33m)\u001b[0m\u001b[1;33m,\u001b[0m \u001b[0mbytes\u001b[0m\u001b[1;33m,\u001b[0m \u001b[0maccess\u001b[0m\u001b[1;33m=\u001b[0m\u001b[0macc\u001b[0m\u001b[1;33m,\u001b[0m \u001b[0moffset\u001b[0m\u001b[1;33m=\u001b[0m\u001b[0mstart\u001b[0m\u001b[1;33m)\u001b[0m\u001b[1;33m\u001b[0m\u001b[0m\n\u001b[0m\u001b[0;32m    255\u001b[0m \u001b[1;33m\u001b[0m\u001b[0m\n\u001b[0;32m    256\u001b[0m         self = ndarray.__new__(subtype, shape, dtype=descr, buffer=mm,\n",
        "\u001b[1;31merror\u001b[0m: [Errno 12] Cannot allocate memory"
       ]
      },
      {
       "output_type": "stream",
       "stream": "stdout",
       "text": [
        "\n"
       ]
      }
     ],
     "prompt_number": 37
    },
    {
     "cell_type": "code",
     "collapsed": false,
     "input": [],
     "language": "python",
     "metadata": {},
     "outputs": [],
     "prompt_number": 18
    },
    {
     "cell_type": "code",
     "collapsed": false,
     "input": [],
     "language": "python",
     "metadata": {},
     "outputs": [],
     "prompt_number": 19
    },
    {
     "cell_type": "code",
     "collapsed": false,
     "input": [],
     "language": "python",
     "metadata": {},
     "outputs": [
      {
       "metadata": {},
       "output_type": "pyout",
       "prompt_number": 20,
       "text": [
        "[112, 114, 115, 111]"
       ]
      }
     ],
     "prompt_number": 20
    },
    {
     "cell_type": "code",
     "collapsed": false,
     "input": [],
     "language": "python",
     "metadata": {},
     "outputs": [],
     "prompt_number": "*"
    },
    {
     "cell_type": "code",
     "collapsed": false,
     "input": [
      "np.concatenate(str([nan]),(np.arange(0,12)*30).tolist()"
     ],
     "language": "python",
     "metadata": {},
     "outputs": [
      {
       "ename": "SyntaxError",
       "evalue": "unexpected EOF while parsing (<ipython-input-12-592f10de7859>, line 1)",
       "output_type": "pyerr",
       "traceback": [
        "\u001b[1;36m  File \u001b[1;32m\"<ipython-input-12-592f10de7859>\"\u001b[1;36m, line \u001b[1;32m1\u001b[0m\n\u001b[1;33m    np.concatenate(str([nan]),(np.arange(0,12)*30).tolist()\u001b[0m\n\u001b[1;37m                                                           ^\u001b[0m\n\u001b[1;31mSyntaxError\u001b[0m\u001b[1;31m:\u001b[0m unexpected EOF while parsing\n"
       ]
      }
     ],
     "prompt_number": 12
    },
    {
     "cell_type": "code",
     "collapsed": false,
     "input": [],
     "language": "python",
     "metadata": {},
     "outputs": [
      {
       "metadata": {},
       "output_type": "pyout",
       "prompt_number": 566,
       "text": [
        "[[<matplotlib.lines.Line2D at 0x11a755890>],\n",
        " [<matplotlib.lines.Line2D at 0x11a785ed0>],\n",
        " [<matplotlib.lines.Line2D at 0x11a785d50>]]"
       ]
      }
     ],
     "prompt_number": 566
    },
    {
     "cell_type": "code",
     "collapsed": false,
     "input": [
      "plot(fly_record['experiments']['lr_blob_expansion']['axon_data']['Ypos'][aepochs[0][0]-1000000:aepochs[0][-1]+100000])"
     ],
     "language": "python",
     "metadata": {},
     "outputs": [
      {
       "metadata": {},
       "output_type": "pyout",
       "prompt_number": 472,
       "text": [
        "[<matplotlib.lines.Line2D at 0x120d11450>]"
       ]
      }
     ],
     "prompt_number": 472
    },
    {
     "cell_type": "code",
     "collapsed": false,
     "input": [
      "np.linspace(1,10,12)"
     ],
     "language": "python",
     "metadata": {},
     "outputs": [
      {
       "metadata": {},
       "output_type": "pyout",
       "prompt_number": 516,
       "text": [
        "array([  1.        ,   1.81818182,   2.63636364,   3.45454545,\n",
        "         4.27272727,   5.09090909,   5.90909091,   6.72727273,\n",
        "         7.54545455,   8.36363636,   9.18181818,  10.        ])"
       ]
      }
     ],
     "prompt_number": 516
    },
    {
     "cell_type": "code",
     "collapsed": false,
     "input": [
      "arange(0,11)*30"
     ],
     "language": "python",
     "metadata": {},
     "outputs": [
      {
       "metadata": {},
       "output_type": "pyout",
       "prompt_number": 518,
       "text": [
        "array([  0,  30,  60,  90, 120, 150, 180, 210, 240, 270, 300])"
       ]
      }
     ],
     "prompt_number": 518
    },
    {
     "cell_type": "code",
     "collapsed": false,
     "input": [
      "fly.load_axon_data('b1_azm_expansion_tuning')\n",
      "figure()\n",
      "x = hist(fly.fly_record['experiments']['b1_azm_expansion_tuning']['axon_data']['Ypos'],bins = 200)\n",
      "#x = hist(fly.fly_record['experiments']['lr_blob_expansion']['axon_data']['Ypos'],bins = 200)"
     ],
     "language": "python",
     "metadata": {},
     "outputs": [],
     "prompt_number": 485
    },
    {
     "cell_type": "code",
     "collapsed": false,
     "input": [
      "plot(fly.fly_record['experiments']['lr_blob_expansion']['axon_data']['Ypos'])"
     ],
     "language": "python",
     "metadata": {},
     "outputs": [
      {
       "metadata": {},
       "output_type": "pyout",
       "prompt_number": 235,
       "text": [
        "[<matplotlib.lines.Line2D at 0x11a111050>]"
       ]
      }
     ],
     "prompt_number": 235
    },
    {
     "cell_type": "code",
     "collapsed": false,
     "input": [
      "plot(fly.fly_record['experiments']['b1_azm_expansion_tuning']['axon_data']['Ypos'][::1000])"
     ],
     "language": "python",
     "metadata": {},
     "outputs": [
      {
       "metadata": {},
       "output_type": "pyout",
       "prompt_number": 246,
       "text": [
        "[<matplotlib.lines.Line2D at 0x11a596850>]"
       ]
      }
     ],
     "prompt_number": 246
    },
    {
     "cell_type": "code",
     "collapsed": false,
     "input": [
      "for seq in fly.fly_record['experiments']['lr_blob_expansion']['kine_sequences']:\n",
      "    stroke_amp_R = seq['phi_R']\n",
      "    stroke_amp_L = seq['phi_L']\n",
      "    stroke_dev_R = seq['eta_R']\n",
      "    stroke_dev_L = seq['eta_L']\n",
      "    wing_rot_R = seq['theta_R']\n",
      "    wing_rot_L = seq['theta_L']\n",
      "    plot(seq['axon_times'],wing_rot_R)"
     ],
     "language": "python",
     "metadata": {},
     "outputs": [],
     "prompt_number": 226
    },
    {
     "cell_type": "code",
     "collapsed": false,
     "input": [],
     "language": "python",
     "metadata": {},
     "outputs": []
    },
    {
     "cell_type": "code",
     "collapsed": false,
     "input": [],
     "language": "python",
     "metadata": {},
     "outputs": []
    },
    {
     "cell_type": "code",
     "collapsed": false,
     "input": [],
     "language": "python",
     "metadata": {},
     "outputs": []
    },
    {
     "cell_type": "code",
     "collapsed": false,
     "input": [
      "abs((linspace(0,10,12)-4)))"
     ],
     "language": "python",
     "metadata": {},
     "outputs": [
      {
       "metadata": {},
       "output_type": "pyout",
       "prompt_number": 259,
       "text": [
        "[<matplotlib.lines.Line2D at 0x1138c4450>]"
       ]
      }
     ],
     "prompt_number": 259
    },
    {
     "cell_type": "code",
     "collapsed": false,
     "input": [
      "fly.fly_record['experiments']['lr_blob_expansion']['kine_sequences'][0]['last_track']"
     ],
     "language": "python",
     "metadata": {},
     "outputs": [
      {
       "metadata": {},
       "output_type": "pyout",
       "prompt_number": 114,
       "text": [
        "1365"
       ]
      }
     ],
     "prompt_number": 114
    },
    {
     "cell_type": "code",
     "collapsed": false,
     "input": [
      "#ph_seq = fly.fly_record['experiments']['lr_blob_expansion']['photron_sequences'][1]\n",
      "ax0 = subplot(3,1,1)\n",
      "plot(array(frame_times[:]),ea_l[:,1])\n",
      "ax1 = subplot(3,1,2,sharex = ax0)\n",
      "plot(array(ephys.times)[epoch],array(ephys)[epoch])"
     ],
     "language": "python",
     "metadata": {},
     "outputs": [
      {
       "metadata": {},
       "output_type": "pyout",
       "prompt_number": 58,
       "text": [
        "[<matplotlib.lines.Line2D at 0xacfd540c>]"
       ]
      }
     ],
     "prompt_number": 58
    },
    {
     "cell_type": "code",
     "collapsed": false,
     "input": [
      "ax0 = subplot(2,1,1)\n",
      "plot(array(fly_record['experiments']['lr_blob_expansion']['axon_data']['Xpos'][::100]))"
     ],
     "language": "python",
     "metadata": {},
     "outputs": [
      {
       "metadata": {},
       "output_type": "pyout",
       "prompt_number": 59,
       "text": [
        "[<matplotlib.lines.Line2D at 0xac9c7b8c>]"
       ]
      }
     ],
     "prompt_number": 59
    },
    {
     "cell_type": "code",
     "collapsed": false,
     "input": [
      "plot(array(fly_record['experiments']['lr_blob_expansion']['axon_data']['AMsysCh1'][:10000:5])*-1)"
     ],
     "language": "python",
     "metadata": {},
     "outputs": [
      {
       "metadata": {},
       "output_type": "pyout",
       "prompt_number": 40,
       "text": [
        "[<matplotlib.lines.Line2D at 0xcdab72c>]"
       ]
      }
     ],
     "prompt_number": 40
    },
    {
     "cell_type": "code",
     "collapsed": false,
     "input": [
      "shape(frame_times)"
     ],
     "language": "python",
     "metadata": {},
     "outputs": [
      {
       "metadata": {},
       "output_type": "pyout",
       "prompt_number": 54,
       "text": [
        "(1366,)"
       ]
      }
     ],
     "prompt_number": 54
    },
    {
     "cell_type": "code",
     "collapsed": false,
     "input": [
      "from mpl_toolkits.mplot3d import Axes3D\n",
      "fig = plt.figure()\n",
      "ax = fig.add_subplot(111, projection='3d')\n",
      "l_wingtip = dot(rot_mats_left,[0,1,0]).T\n",
      "r_wingtip = dot(rot_mats_right,[0,-1,0]).T\n",
      "wing_frame_l = dot(l_frame,l_wingtip)\n",
      "wing_frame_r = dot(r_frame,r_wingtip)\n",
      "plot(l_wingtip[0],l_wingtip[1],'-o',zs=l_wingtip[2],)\n",
      "plot(r_wingtip[0],r_wingtip[1],'-o',zs=r_wingtip[2])\n",
      "#plot(wing_frame_l[0],wing_frame_l[1],'-o',zs=wing_frame_l[2])\n",
      "#plot(wing_frame_r[0],wing_frame_r[1],'-o',zs=wing_frame_r[2])"
     ],
     "language": "python",
     "metadata": {},
     "outputs": [
      {
       "metadata": {},
       "output_type": "pyout",
       "prompt_number": 16,
       "text": [
        "[<mpl_toolkits.mplot3d.art3d.Line3D at 0xc15894c>]"
       ]
      }
     ],
     "prompt_number": 16
    },
    {
     "cell_type": "code",
     "collapsed": false,
     "input": [],
     "language": "python",
     "metadata": {},
     "outputs": [],
     "prompt_number": 16
    },
    {
     "cell_type": "code",
     "collapsed": false,
     "input": [],
     "language": "python",
     "metadata": {},
     "outputs": [],
     "prompt_number": 16
    },
    {
     "cell_type": "code",
     "collapsed": false,
     "input": [],
     "language": "python",
     "metadata": {},
     "outputs": [],
     "prompt_number": 16
    },
    {
     "cell_type": "code",
     "collapsed": false,
     "input": [],
     "language": "python",
     "metadata": {},
     "outputs": [],
     "prompt_number": 16
    },
    {
     "cell_type": "code",
     "collapsed": false,
     "input": [],
     "language": "python",
     "metadata": {},
     "outputs": [],
     "prompt_number": 604
    },
    {
     "cell_type": "code",
     "collapsed": false,
     "input": [],
     "language": "python",
     "metadata": {},
     "outputs": [],
     "prompt_number": 604
    },
    {
     "cell_type": "code",
     "collapsed": false,
     "input": [],
     "language": "python",
     "metadata": {},
     "outputs": [],
     "prompt_number": 604
    },
    {
     "cell_type": "code",
     "collapsed": false,
     "input": [],
     "language": "python",
     "metadata": {},
     "outputs": [],
     "prompt_number": 604
    },
    {
     "cell_type": "code",
     "collapsed": false,
     "input": [],
     "language": "python",
     "metadata": {},
     "outputs": [],
     "prompt_number": 604
    },
    {
     "cell_type": "code",
     "collapsed": false,
     "input": [],
     "language": "python",
     "metadata": {},
     "outputs": [],
     "prompt_number": 16
    },
    {
     "cell_type": "code",
     "collapsed": false,
     "input": [],
     "language": "python",
     "metadata": {},
     "outputs": [],
     "prompt_number": 16
    },
    {
     "cell_type": "code",
     "collapsed": false,
     "input": [],
     "language": "python",
     "metadata": {},
     "outputs": [],
     "prompt_number": 16
    },
    {
     "cell_type": "code",
     "collapsed": false,
     "input": [],
     "language": "python",
     "metadata": {},
     "outputs": [],
     "prompt_number": 16
    },
    {
     "cell_type": "code",
     "collapsed": false,
     "input": [],
     "language": "python",
     "metadata": {},
     "outputs": [],
     "prompt_number": 16
    },
    {
     "cell_type": "code",
     "collapsed": false,
     "input": [],
     "language": "python",
     "metadata": {},
     "outputs": [],
     "prompt_number": 16
    },
    {
     "cell_type": "code",
     "collapsed": false,
     "input": [],
     "language": "python",
     "metadata": {},
     "outputs": [],
     "prompt_number": 16
    },
    {
     "cell_type": "code",
     "collapsed": false,
     "input": [],
     "language": "python",
     "metadata": {},
     "outputs": [],
     "prompt_number": 16
    },
    {
     "cell_type": "code",
     "collapsed": false,
     "input": [],
     "language": "python",
     "metadata": {},
     "outputs": [],
     "prompt_number": 16
    },
    {
     "cell_type": "code",
     "collapsed": false,
     "input": [],
     "language": "python",
     "metadata": {},
     "outputs": [],
     "prompt_number": 48
    },
    {
     "cell_type": "code",
     "collapsed": false,
     "input": [],
     "language": "python",
     "metadata": {},
     "outputs": [],
     "prompt_number": 16
    },
    {
     "cell_type": "code",
     "collapsed": false,
     "input": [],
     "language": "python",
     "metadata": {},
     "outputs": [],
     "prompt_number": 16
    },
    {
     "cell_type": "code",
     "collapsed": false,
     "input": [],
     "language": "python",
     "metadata": {},
     "outputs": [],
     "prompt_number": 16
    },
    {
     "cell_type": "code",
     "collapsed": false,
     "input": [],
     "language": "python",
     "metadata": {},
     "outputs": [],
     "prompt_number": 16
    },
    {
     "cell_type": "code",
     "collapsed": false,
     "input": [],
     "language": "python",
     "metadata": {},
     "outputs": [],
     "prompt_number": 16
    },
    {
     "cell_type": "code",
     "collapsed": false,
     "input": [],
     "language": "python",
     "metadata": {},
     "outputs": []
    }
   ],
   "metadata": {}
  }
 ]
}