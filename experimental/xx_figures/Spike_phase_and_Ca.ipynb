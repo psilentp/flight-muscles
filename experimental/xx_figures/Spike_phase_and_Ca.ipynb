{
 "cells": [
  {
   "cell_type": "code",
   "execution_count": 3,
   "metadata": {
    "collapsed": false
   },
   "outputs": [
    {
     "name": "stdout",
     "output_type": "stream",
     "text": [
      "\u001b[0m\u001b[01;34mFly0308\u001b[0m/  \u001b[01;34mFly0334\u001b[0m/  \u001b[01;34mFly0360\u001b[0m/  \u001b[01;34mFly0386\u001b[0m/  \u001b[01;34mFly0412\u001b[0m/  \u001b[01;34mFly0442\u001b[0m/  \u001b[01;34mFly0469\u001b[0m/  \u001b[01;34mFly0495\u001b[0m/\r\n",
      "\u001b[01;34mFly0309\u001b[0m/  \u001b[01;34mFly0335\u001b[0m/  \u001b[01;34mFly0361\u001b[0m/  \u001b[01;34mFly0387\u001b[0m/  \u001b[01;34mFly0413\u001b[0m/  \u001b[01;34mFly0443\u001b[0m/  \u001b[01;34mFly0470\u001b[0m/  \u001b[01;34mFly0496\u001b[0m/\r\n",
      "\u001b[01;34mFly0310\u001b[0m/  \u001b[01;34mFly0336\u001b[0m/  \u001b[01;34mFly0362\u001b[0m/  \u001b[01;34mFly0388\u001b[0m/  \u001b[01;34mFly0414\u001b[0m/  \u001b[01;34mFly0444\u001b[0m/  \u001b[01;34mFly0471\u001b[0m/  \u001b[01;34mFly0497\u001b[0m/\r\n",
      "\u001b[01;34mFly0311\u001b[0m/  \u001b[01;34mFly0337\u001b[0m/  \u001b[01;34mFly0363\u001b[0m/  \u001b[01;34mFly0389\u001b[0m/  \u001b[01;34mFly0415\u001b[0m/  \u001b[01;34mFly0445\u001b[0m/  \u001b[01;34mFly0472\u001b[0m/  \u001b[01;34mFly0498\u001b[0m/\r\n",
      "\u001b[01;34mFly0312\u001b[0m/  \u001b[01;34mFly0338\u001b[0m/  \u001b[01;34mFly0364\u001b[0m/  \u001b[01;34mFly0390\u001b[0m/  \u001b[01;34mFly0416\u001b[0m/  \u001b[01;34mFly0446\u001b[0m/  \u001b[01;34mFly0473\u001b[0m/  \u001b[01;34mFly0499\u001b[0m/\r\n",
      "\u001b[01;34mFly0313\u001b[0m/  \u001b[01;34mFly0339\u001b[0m/  \u001b[01;34mFly0365\u001b[0m/  \u001b[01;34mFly0391\u001b[0m/  \u001b[01;34mFly0417\u001b[0m/  \u001b[01;34mFly0447\u001b[0m/  \u001b[01;34mFly0474\u001b[0m/  \u001b[01;34mFly0500\u001b[0m/\r\n",
      "\u001b[01;34mFly0314\u001b[0m/  \u001b[01;34mFly0340\u001b[0m/  \u001b[01;34mFly0366\u001b[0m/  \u001b[01;34mFly0392\u001b[0m/  \u001b[01;34mFly0418\u001b[0m/  \u001b[01;34mFly0448\u001b[0m/  \u001b[01;34mFly0475\u001b[0m/  \u001b[01;34mFly0501\u001b[0m/\r\n",
      "\u001b[01;34mFly0315\u001b[0m/  \u001b[01;34mFly0341\u001b[0m/  \u001b[01;34mFly0367\u001b[0m/  \u001b[01;34mFly0393\u001b[0m/  \u001b[01;34mFly0419\u001b[0m/  \u001b[34;42mFly0449\u001b[0m/  \u001b[01;34mFly0476\u001b[0m/  \u001b[01;34mFly0502\u001b[0m/\r\n",
      "\u001b[01;34mFly0316\u001b[0m/  \u001b[01;34mFly0342\u001b[0m/  \u001b[01;34mFly0368\u001b[0m/  \u001b[01;34mFly0394\u001b[0m/  \u001b[01;34mFly0420\u001b[0m/  \u001b[34;42mFly0450\u001b[0m/  \u001b[01;34mFly0477\u001b[0m/  \u001b[01;34mFly0503\u001b[0m/\r\n",
      "\u001b[01;34mFly0317\u001b[0m/  \u001b[01;34mFly0343\u001b[0m/  \u001b[01;34mFly0369\u001b[0m/  \u001b[01;34mFly0395\u001b[0m/  \u001b[01;34mFly0421\u001b[0m/  \u001b[34;42mFly0451\u001b[0m/  \u001b[01;34mFly0478\u001b[0m/  \u001b[01;34mFly0504\u001b[0m/\r\n",
      "\u001b[01;34mFly0318\u001b[0m/  \u001b[01;34mFly0344\u001b[0m/  \u001b[01;34mFly0370\u001b[0m/  \u001b[01;34mFly0396\u001b[0m/  \u001b[01;34mFly0422\u001b[0m/  \u001b[34;42mFly0452\u001b[0m/  \u001b[01;34mFly0479\u001b[0m/  \u001b[01;34mFly0505\u001b[0m/\r\n",
      "\u001b[01;34mFly0319\u001b[0m/  \u001b[01;34mFly0345\u001b[0m/  \u001b[01;34mFly0371\u001b[0m/  \u001b[01;34mFly0397\u001b[0m/  \u001b[01;34mFly0423\u001b[0m/  \u001b[34;42mFly0453\u001b[0m/  \u001b[01;34mFly0480\u001b[0m/  \u001b[01;34mFly0506\u001b[0m/\r\n",
      "\u001b[01;34mFly0320\u001b[0m/  \u001b[01;34mFly0346\u001b[0m/  \u001b[01;34mFly0372\u001b[0m/  \u001b[01;34mFly0398\u001b[0m/  \u001b[01;34mFly0424\u001b[0m/  \u001b[34;42mFly0454\u001b[0m/  \u001b[01;34mFly0481\u001b[0m/  \u001b[01;34mFly0507\u001b[0m/\r\n",
      "\u001b[01;34mFly0321\u001b[0m/  \u001b[01;34mFly0347\u001b[0m/  \u001b[01;34mFly0373\u001b[0m/  \u001b[01;34mFly0399\u001b[0m/  \u001b[01;34mFly0425\u001b[0m/  \u001b[34;42mFly0455\u001b[0m/  \u001b[01;34mFly0482\u001b[0m/  \u001b[34;42mFly0508\u001b[0m/\r\n",
      "\u001b[01;34mFly0322\u001b[0m/  \u001b[01;34mFly0348\u001b[0m/  \u001b[01;34mFly0374\u001b[0m/  \u001b[01;34mFly0400\u001b[0m/  \u001b[01;34mFly0430\u001b[0m/  \u001b[34;42mFly0456\u001b[0m/  \u001b[01;34mFly0483\u001b[0m/  \u001b[01;34mFly0509\u001b[0m/\r\n",
      "\u001b[01;34mFly0323\u001b[0m/  \u001b[01;34mFly0349\u001b[0m/  \u001b[01;34mFly0375\u001b[0m/  \u001b[01;34mFly0401\u001b[0m/  \u001b[01;34mFly0431\u001b[0m/  \u001b[34;42mFly0458\u001b[0m/  \u001b[01;34mFly0484\u001b[0m/  \u001b[01;34mFly0510\u001b[0m/\r\n",
      "\u001b[01;34mFly0324\u001b[0m/  \u001b[01;34mFly0350\u001b[0m/  \u001b[01;34mFly0376\u001b[0m/  \u001b[01;34mFly0402\u001b[0m/  \u001b[01;34mFly0432\u001b[0m/  \u001b[34;42mFly0459\u001b[0m/  \u001b[01;34mFly0485\u001b[0m/  \u001b[01;34mFly0511\u001b[0m/\r\n",
      "\u001b[01;34mFly0325\u001b[0m/  \u001b[01;34mFly0351\u001b[0m/  \u001b[01;34mFly0377\u001b[0m/  \u001b[01;34mFly0403\u001b[0m/  \u001b[01;34mFly0433\u001b[0m/  \u001b[34;42mFly0460\u001b[0m/  \u001b[01;34mFly0486\u001b[0m/  \u001b[01;34mFly0512\u001b[0m/\r\n",
      "\u001b[01;34mFly0326\u001b[0m/  \u001b[01;34mFly0352\u001b[0m/  \u001b[01;34mFly0378\u001b[0m/  \u001b[01;34mFly0404\u001b[0m/  \u001b[01;34mFly0434\u001b[0m/  \u001b[34;42mFly0461\u001b[0m/  \u001b[01;34mFly0487\u001b[0m/  \u001b[01;34mFly0513\u001b[0m/\r\n",
      "\u001b[01;34mFly0327\u001b[0m/  \u001b[01;34mFly0353\u001b[0m/  \u001b[01;34mFly0379\u001b[0m/  \u001b[01;34mFly0405\u001b[0m/  \u001b[01;34mFly0435\u001b[0m/  \u001b[34;42mFly0462\u001b[0m/  \u001b[01;34mFly0488\u001b[0m/  \u001b[01;34mFly0514\u001b[0m/\r\n",
      "\u001b[01;34mFly0328\u001b[0m/  \u001b[01;34mFly0354\u001b[0m/  \u001b[01;34mFly0380\u001b[0m/  \u001b[01;34mFly0406\u001b[0m/  \u001b[01;34mFly0436\u001b[0m/  \u001b[34;42mFly0463\u001b[0m/  \u001b[01;34mFly0489\u001b[0m/  \u001b[01;34mFly0515\u001b[0m/\r\n",
      "\u001b[01;34mFly0329\u001b[0m/  \u001b[01;34mFly0355\u001b[0m/  \u001b[01;34mFly0381\u001b[0m/  \u001b[01;34mFly0407\u001b[0m/  \u001b[01;34mFly0437\u001b[0m/  \u001b[01;34mFly0464\u001b[0m/  \u001b[01;34mFly0490\u001b[0m/  \u001b[01;34mFly0516\u001b[0m/\r\n",
      "\u001b[01;34mFly0330\u001b[0m/  \u001b[01;34mFly0356\u001b[0m/  \u001b[01;34mFly0382\u001b[0m/  \u001b[01;34mFly0408\u001b[0m/  \u001b[01;34mFly0438\u001b[0m/  \u001b[01;34mFly0465\u001b[0m/  \u001b[01;34mFly0491\u001b[0m/  \u001b[01;34mFly0517\u001b[0m/\r\n",
      "\u001b[01;34mFly0331\u001b[0m/  \u001b[01;34mFly0357\u001b[0m/  \u001b[01;34mFly0383\u001b[0m/  \u001b[01;34mFly0409\u001b[0m/  \u001b[01;34mFly0439\u001b[0m/  \u001b[01;34mFly0466\u001b[0m/  \u001b[01;34mFly0492\u001b[0m/\r\n",
      "\u001b[01;34mFly0332\u001b[0m/  \u001b[01;34mFly0358\u001b[0m/  \u001b[01;34mFly0384\u001b[0m/  \u001b[01;34mFly0410\u001b[0m/  \u001b[01;34mFly0440\u001b[0m/  \u001b[01;34mFly0467\u001b[0m/  \u001b[01;34mFly0493\u001b[0m/\r\n",
      "\u001b[01;34mFly0333\u001b[0m/  \u001b[01;34mFly0359\u001b[0m/  \u001b[01;34mFly0385\u001b[0m/  \u001b[01;34mFly0411\u001b[0m/  \u001b[01;34mFly0441\u001b[0m/  \u001b[01;34mFly0468\u001b[0m/  \u001b[01;34mFly0494\u001b[0m/\r\n"
     ]
    }
   ],
   "source": [
    "ls '/media/FlyDataC/FlyDB'"
   ]
  },
  {
   "cell_type": "code",
   "execution_count": null,
   "metadata": {
    "collapsed": true
   },
   "outputs": [],
   "source": []
  }
 ],
 "metadata": {
  "kernelspec": {
   "display_name": "Python 2",
   "language": "python",
   "name": "python2"
  },
  "language_info": {
   "codemirror_mode": {
    "name": "ipython",
    "version": 2
   },
   "file_extension": ".py",
   "mimetype": "text/x-python",
   "name": "python",
   "nbconvert_exporter": "python",
   "pygments_lexer": "ipython2",
   "version": "2.7.9"
  }
 },
 "nbformat": 4,
 "nbformat_minor": 0
}
