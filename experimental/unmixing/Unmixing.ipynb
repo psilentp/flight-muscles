{
 "metadata": {
  "name": "",
  "signature": "sha256:c3b2710adf8f9d788dce02c6fed2390156d495d3511d2e70d618480ed28759e8"
 },
 "nbformat": 3,
 "nbformat_minor": 0,
 "worksheets": [
  {
   "cells": [
    {
     "cell_type": "code",
     "collapsed": false,
     "input": [
      "pixel_width = 0.7568361\n",
      "slice_depth = 2.979\n",
      "reference_slice = 25\n",
      "m = 10.0 #mag\n",
      "NA = 0.45 #N.A\n",
      "fl = 21000 #focal length - assuming a 200mm tube lens\n",
      "wl = 0.470\n",
      "R = wl/(2*NA)\n",
      "S = 60.0\n",
      "A = 10.0"
     ],
     "language": "python",
     "metadata": {},
     "outputs": [],
     "prompt_number": 1
    },
    {
     "cell_type": "code",
     "collapsed": false,
     "input": [
      "def blur_diameter(D):    \n",
      "    return (S + R + 2*NA*m*fl*abs(D-fl)/D)/A\n",
      "\n",
      "def blur_by_depth(stack):\n",
      "    from scipy.ndimage.filters import gaussian_filter\n",
      "    muscle_stack = list()\n",
      "    for i in range(shape(stack)[0]):\n",
      "        D = (i-reference_slice)*slice_depth + 21000\n",
      "        b = blur_diameter(D)/pixel_width\n",
      "        #print b\n",
      "        muscle_stack.append(gaussian_filter(stack[i],b))\n",
      "    #mstack = [gaussian_filter(stack[i],i/30.0 + 20.0)*wf(i) for i in range(shape(stack)[0])]\n",
      "    #nstack = np.array([m/sum(m) for m in mstack])\n",
      "    nstack = dstack(muscle_stack)\n",
      "    print shape(nstack)\n",
      "    #nstack[isnan(nstack)] = 0\n",
      "    return nstack\n",
      "\n",
      "#def blur_by_depth(stack):\n",
      "#    from scipy.ndimage.filters import gaussian_filter\n",
      "#    wf = lambda x: (1.0/(x+30))+1.0\n",
      "#    mstack = [gaussian_filter(stack[i],(i/9.0)**2 + 3.0)*wf(i) for i in range(shape(stack)[0])]\n",
      "    #nstack = np.array([m/sum(m) for m in mstack])\n",
      "    #nstack[isnan(nstack)] = 0\n",
      "#    return np.array(mstack)\n",
      "\n",
      "def model_muscle(stack):\n",
      "    mm = sum(blur_by_depth((stack>0).astype(float)),axis = 2)\n",
      "    #mm = (np.sum(stack,axis = 0) >0).astype(float)\n",
      "    return mm#/sum(mm)\n",
      "\n",
      "filter_dict = dict()\n",
      "\n",
      "filter_dict['b1'] = model_muscle(b1_stack)\n",
      "filter_dict['b2'] = model_muscle(b2_stack)\n",
      "filter_dict['b3'] = model_muscle(b3_stack)\n",
      "\n",
      "filter_dict['i1'] = model_muscle(i1_stack)\n",
      "filter_dict['i2'] = model_muscle(i2_stack)\n",
      "\n",
      "filter_dict['iii1'] = model_muscle(iii1_stack)\n",
      "filter_dict['iii3'] = model_muscle(iii3_stack)\n",
      "filter_dict['iii24'] = model_muscle(iii24_stack)\n",
      "\n",
      "filter_dict['hg1'] = model_muscle(hg1_stack)\n",
      "filter_dict['hg2'] = model_muscle(hg2_stack)\n",
      "filter_dict['hg3'] = model_muscle(hg3_stack)\n",
      "filter_dict['hg4'] = model_muscle(hg4_stack)\n",
      "\n",
      "filter_dict['tpd'] = model_muscle(tpd_stack)\n",
      "filter_dict['tpv'] = model_muscle(tpv_stack)\n",
      "\n",
      "filter_dict['ttm'] = model_muscle(ttm_stack)\n",
      "filter_dict['pr'] = model_muscle(pr_stack)"
     ],
     "language": "python",
     "metadata": {},
     "outputs": [
      {
       "ename": "NameError",
       "evalue": "name 'b1_stack' is not defined",
       "output_type": "pyerr",
       "traceback": [
        "\u001b[1;31m---------------------------------------------------------------------------\u001b[0m\n\u001b[1;31mNameError\u001b[0m                                 Traceback (most recent call last)",
        "\u001b[1;32m<ipython-input-2-6b77f22d1fab>\u001b[0m in \u001b[0;36m<module>\u001b[1;34m()\u001b[0m\n\u001b[0;32m     32\u001b[0m \u001b[0mfilter_dict\u001b[0m \u001b[1;33m=\u001b[0m \u001b[0mdict\u001b[0m\u001b[1;33m(\u001b[0m\u001b[1;33m)\u001b[0m\u001b[1;33m\u001b[0m\u001b[0m\n\u001b[0;32m     33\u001b[0m \u001b[1;33m\u001b[0m\u001b[0m\n\u001b[1;32m---> 34\u001b[1;33m \u001b[0mfilter_dict\u001b[0m\u001b[1;33m[\u001b[0m\u001b[1;34m'b1'\u001b[0m\u001b[1;33m]\u001b[0m \u001b[1;33m=\u001b[0m \u001b[0mmodel_muscle\u001b[0m\u001b[1;33m(\u001b[0m\u001b[0mb1_stack\u001b[0m\u001b[1;33m)\u001b[0m\u001b[1;33m\u001b[0m\u001b[0m\n\u001b[0m\u001b[0;32m     35\u001b[0m \u001b[0mfilter_dict\u001b[0m\u001b[1;33m[\u001b[0m\u001b[1;34m'b2'\u001b[0m\u001b[1;33m]\u001b[0m \u001b[1;33m=\u001b[0m \u001b[0mmodel_muscle\u001b[0m\u001b[1;33m(\u001b[0m\u001b[0mb2_stack\u001b[0m\u001b[1;33m)\u001b[0m\u001b[1;33m\u001b[0m\u001b[0m\n\u001b[0;32m     36\u001b[0m \u001b[0mfilter_dict\u001b[0m\u001b[1;33m[\u001b[0m\u001b[1;34m'b3'\u001b[0m\u001b[1;33m]\u001b[0m \u001b[1;33m=\u001b[0m \u001b[0mmodel_muscle\u001b[0m\u001b[1;33m(\u001b[0m\u001b[0mb3_stack\u001b[0m\u001b[1;33m)\u001b[0m\u001b[1;33m\u001b[0m\u001b[0m\n",
        "\u001b[1;31mNameError\u001b[0m: name 'b1_stack' is not defined"
       ]
      }
     ],
     "prompt_number": 2
    },
    {
     "cell_type": "markdown",
     "metadata": {},
     "source": [
      "$X$ is an matrix of $m$ pixels by $n$ frames constructed from the signals from $k$ muscles so that:\n",
      "$X = WB$ where $W$ is a $m$ by $k$ mixing matrix and $B$ is a $k$ by $n$ matrix of muscle fluorescence over time. We find the best fit to $B$ as $W^\\dagger X = B$."
     ]
    },
    {
     "cell_type": "code",
     "collapsed": false,
     "input": [
      "def construct_model(filter_dict,\n",
      "                    genotype_descriptor,\n",
      "                    add_bk = True):\n",
      "    mlist = [filter_dict[key] for key in genotype_descriptor]   \n",
      "    if add_bk:\n",
      "        bk_mask = np.array([muscle_masks[mkey] for mkey in genotype_descriptor])\n",
      "        bk_mask = sum(bk_mask,axis = 0)>0\n",
      "        from scipy.ndimage.filters import gaussian_filter\n",
      "        bk = gaussian_filter(bk_mask.astype(float),50)\n",
      "        mlist.append(bk)\n",
      "    import cv2\n",
      "    model_mtrx = [cv2.pyrDown(cv2.pyrDown(ar)) for ar in mlist]\n",
      "    W = np.array([m.ravel() for m in model_mtrx]).T\n",
      "    return W"
     ],
     "language": "python",
     "metadata": {},
     "outputs": []
    }
   ],
   "metadata": {}
  }
 ]
}