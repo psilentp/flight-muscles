{
 "metadata": {
  "name": "",
  "signature": "sha256:667f90a700c57ab444782b2d5895d35070c4261be5440f4aeab7947bd410f1c9"
 },
 "nbformat": 3,
 "nbformat_minor": 0,
 "worksheets": [
  {
   "cells": [
    {
     "cell_type": "code",
     "collapsed": false,
     "input": [
      "import csv\n",
      "import numpy as np\n",
      "import pylab as plb"
     ],
     "language": "python",
     "metadata": {},
     "outputs": [],
     "prompt_number": 1
    },
    {
     "cell_type": "code",
     "collapsed": false,
     "input": [
      "%pylab"
     ],
     "language": "python",
     "metadata": {},
     "outputs": [
      {
       "output_type": "stream",
       "stream": "stdout",
       "text": [
        "Using matplotlib backend: WXAgg\n",
        "Populating the interactive namespace from numpy and matplotlib\n"
       ]
      }
     ],
     "prompt_number": 2
    },
    {
     "cell_type": "code",
     "collapsed": false,
     "input": [
      "#load the csv file and read the file line-by-line\n",
      "f = open('mu_matrix.csv')\n",
      "reader = csv.reader(f,delimiter = ',')\n",
      "lines = [ln for ln in reader]\n",
      "f.close()"
     ],
     "language": "python",
     "metadata": {},
     "outputs": [],
     "prompt_number": 3
    },
    {
     "cell_type": "code",
     "collapsed": false,
     "input": [
      "#convert the data into a numpy array\n",
      "txtarray = np.array(lines)[1:,1:]\n",
      "linenames = np.array([[ln.strip() for ln in l] for l in lines])[1:,0]"
     ],
     "language": "python",
     "metadata": {},
     "outputs": [],
     "prompt_number": 4
    },
    {
     "cell_type": "code",
     "collapsed": false,
     "input": [
      "#extract the DLM and DVM columns\n",
      "DLM = txtarray[:,0:6]\n",
      "DVM = txtarray[:,6:13]\n",
      "steering = txtarray[:,13:]"
     ],
     "language": "python",
     "metadata": {},
     "outputs": [],
     "prompt_number": 5
    },
    {
     "cell_type": "code",
     "collapsed": false,
     "input": [
      "#convert to floating point data changing N/A to nan's\n",
      "def convert_to_float(txt_arr):\n",
      "    nanidx = txt_arr == 'N/A'\n",
      "    txt_arr[nanidx] = 0\n",
      "    floatarr = (txt_arr.astype(float)>1).astype(float)\n",
      "    floatarr[nanidx] = np.nan\n",
      "    return floatarr\n",
      "DLM_float = convert_to_float(DLM)\n",
      "DVM_float = convert_to_float(DVM)\n",
      "steering_float = convert_to_float(steering)"
     ],
     "language": "python",
     "metadata": {},
     "outputs": [],
     "prompt_number": 6
    },
    {
     "cell_type": "code",
     "collapsed": false,
     "input": [
      "#re-stack with the DLM and DVM data collapsed into a single variable\n",
      "imgarray = np.hstack((np.nansum(DLM_float,axis=1)[:,np.newaxis],np.nansum(DVM_float,axis=1)[:,np.newaxis],steering_float))\n",
      "nanidx = np.isnan(imgarray)\n",
      "imgarray = imgarray\n",
      "imgarray = imgarray.astype(float)\n",
      "imgarray = imgarray+0.5\n",
      "imgarray[nanidx] = 0"
     ],
     "language": "python",
     "metadata": {},
     "outputs": [
      {
       "output_type": "stream",
       "stream": "stderr",
       "text": [
        "/home/flyranch/Enthought/Canopy_64bit/User/lib/python2.7/site-packages/numpy/lib/nanfunctions.py:514: FutureWarning: In Numpy 1.9 the sum along empty slices will be zero.\n",
        "  FutureWarning)\n"
       ]
      }
     ],
     "prompt_number": 7
    },
    {
     "cell_type": "code",
     "collapsed": false,
     "input": [
      "#note that iii3 and iii24 as well as hg3 and hg2 are swaped\n",
      "muscle_names = ['DLM','DVM',\n",
      "                'b1','b3','b2',\n",
      "                'i1','i2',\n",
      "                'iii1','iii3','iii24',\n",
      "                'hg1','hg3','hg2','hg4',\n",
      "                'tpv','tpd','ps','tt','pr','nm']"
     ],
     "language": "python",
     "metadata": {},
     "outputs": [],
     "prompt_number": 8
    },
    {
     "cell_type": "code",
     "collapsed": false,
     "input": [
      "#plot the matrix\n",
      "plb.figure(figsize = (12,6))\n",
      "nline,nmusc = np.shape(imgarray)\n",
      "sortkeys = np.nansum(imgarray,axis=1)\n",
      "sidx = np.argsort(sortkeys)\n",
      "pltarray = imgarray[sidx,:]\n",
      "pltarray = imgarray[sidx,:]\n",
      "trim_lines = 0\n",
      "plb.pcolor(pltarray[trim_lines:,:].T,cmap = plb.cm.Greys,vmin = 0,vmax=1)\n",
      "lns = [plb.plot([0,nline-trim_lines],[x,x],color = 'w',lw =3) for x in range(nmusc)]\n",
      "lns = [plb.plot([x,x],[0,nmusc],color = 'w',lw =0.5) for x in range(nline-trim_lines)]\n",
      "nms = linenames[sidx][trim_lines:]\n",
      "plb.xticks(range(0,nline-trim_lines),rotation = 'vertical')\n",
      "tlbs = plb.gca().set_xticklabels(nms)\n",
      "plb.yticks(range(0,len(muscle_names)))\n",
      "mlbs = plb.gca().set_yticklabels(muscle_names)\n",
      "#place plot inline\n",
      "display(plb.gcf())\n",
      "plb.close()"
     ],
     "language": "python",
     "metadata": {},
     "outputs": [
      {
       "metadata": {},
       "output_type": "display_data",
       "png": "[encoded data removed]",
       "text": [
        "<matplotlib.figure.Figure at 0x4106e50>"
       ]
      }
     ],
     "prompt_number": 9
    },
    {
     "cell_type": "code",
     "collapsed": false,
     "input": [
      "model_file =  '../muscle_segmentation/model_data.cpkl'"
     ],
     "language": "python",
     "metadata": {},
     "outputs": [],
     "prompt_number": 10
    },
    {
     "cell_type": "code",
     "collapsed": false,
     "input": [
      "import cPickle as cpkl"
     ],
     "language": "python",
     "metadata": {},
     "outputs": [],
     "prompt_number": 11
    },
    {
     "cell_type": "code",
     "collapsed": false,
     "input": [
      "f = open(model_file);model_data = cpkl.load(f);f.close()"
     ],
     "language": "python",
     "metadata": {},
     "outputs": [],
     "prompt_number": 12
    },
    {
     "cell_type": "code",
     "collapsed": false,
     "input": [
      "class Basis(dict):    \n",
      "    def __setitem__(self,key,item):\n",
      "        \"\"\"overload the __setitem__ method of dict so the transform and inverse\n",
      "         transform matrices are computed when the basis vectors are changed\"\"\"\n",
      "        try:\n",
      "            if key in ['a1','a2']:\n",
      "                dict.__setitem__(self,key,item)\n",
      "                A = np.vstack((self['a1'],self['a2'])).T\n",
      "                A_inv = np.linalg.inv(A)\n",
      "                self['A'] = A\n",
      "                self['A_inv'] = A_inv\n",
      "            else:\n",
      "                dict.__setitem__(self,key,item)\n",
      "        except KeyError:\n",
      "            dict.__setitem__(self,key,item)\n",
      "                \n",
      "        \n",
      "class GeometricModel(object):   \n",
      "    def __init__(self,lines,basis):\n",
      "        self.lines = lines\n",
      "        self.basis = basis\n",
      "        ## put lines in barycentric coords\n",
      "        self.barycentric = dict()\n",
      "        for key in self.lines.keys():\n",
      "            coords = dot(self.basis['A_inv'],(self.lines[key]-self.basis['p'][:,newaxis])) \n",
      "            self.barycentric[key] = coords.T\n",
      "            \n",
      "    def coords_from_basis(self,basis):\n",
      "        ret = dict()\n",
      "        for key in self.barycentric.keys():\n",
      "            coords = np.dot(basis['A'],(self.barycentric[key]).T)+basis['p'][:,newaxis]\n",
      "            ret[key] = coords\n",
      "        return(ret)\n",
      "\n",
      "class ModelView(object):\n",
      "    def __init__(self,model):\n",
      "        self.model = model\n",
      "        \n",
      "    def plot(self,basis,**kwargs):\n",
      "        lines = self.model.coords_from_basis(basis)\n",
      "        plot_args = {}\n",
      "        plot_args['plot_frame'] = kwargs.pop('plot_frame',True)\n",
      "        plot_args['frame_head_width'] = kwargs.pop('frame_head_width',20)\n",
      "        plot_args['contour_color'] = kwargs.pop('contour_color','w')\n",
      "        \n",
      "        kwargs['color'] = plot_args['contour_color']\n",
      "        for line in lines.values():\n",
      "            plot(line[0,:],line[1,:], **kwargs)\n",
      "        if plot_args['plot_frame']:\n",
      "            p = basis['p']\n",
      "            a1 = basis['a1']\n",
      "            a2 = basis['a2']\n",
      "            kwargs['color'] = 'g'\n",
      "            kwargs['head_width'] = plot_args['frame_head_width']\n",
      "            arrow(p[0],p[1],a1[0],a1[1],**kwargs)\n",
      "            kwargs['color'] = 'b'\n",
      "            kwargs['head_width'] = plot_args['frame_head_width']\n",
      "            arrow(p[0],p[1],a2[0],a2[1],**kwargs)"
     ],
     "language": "python",
     "metadata": {},
     "outputs": [],
     "prompt_number": 13
    },
    {
     "cell_type": "code",
     "collapsed": false,
     "input": [
      "#figure(figsize = (10,10))\n",
      "#imfile = tifffile.TiffFile('muscle_viz.tiff')\n",
      "#sumimg = imfile.asarray()\n",
      "\n",
      "###add position of large setae \n",
      "model_data['e1'] = np.array([[ 170.02788104,  326.71685254],\n",
      "                             [ 380.98203222,  919.92627014]])\n",
      "model_data['e2'] = array([[ 172.83333333,  332.83333333],\n",
      "                          [ 551.5       ,  164.83333333]])\n",
      "e1 = model_data['e1']\n",
      "e2 = model_data['e2']\n",
      "muscles = dict()\n",
      "\n",
      "for key in model_data.keys():\n",
      "    if not(key in ['e1','e2']):\n",
      "        muscles[key] = model_data[key]\n",
      "        \n",
      "confocal_basis = Basis()\n",
      "confocal_basis['a1'] = e2[1]-e2[0]\n",
      "confocal_basis['a2'] = e1[1]-e2[0]\n",
      "confocal_basis['p'] = e2[0]\n",
      "\n",
      "thorax = GeometricModel(muscles,confocal_basis)\n",
      "thorax_view = ModelView(thorax)\n",
      "\n",
      "#imshow(sumimg)\n",
      "import copy\n",
      "#thorax_view.plot(thorax.basis)\n",
      "#gca().axis('tight')\n",
      "#display(gcf());close()"
     ],
     "language": "python",
     "metadata": {},
     "outputs": [],
     "prompt_number": 14
    },
    {
     "cell_type": "code",
     "collapsed": false,
     "input": [
      "def plot_line(line_name):\n",
      "    idx = where(nms == line_name)[0]\n",
      "    muscle_bool = squeeze(pltarray[idx] > 0.5).astype(bool)\n",
      "    line_mus = np.array(muscle_names)[muscle_bool]\n",
      "    \n",
      "    xp,yp = meshgrid(arange(1024),arange(1024))\n",
      "    pnts = vstack((xp.ravel(),yp.ravel()))\n",
      "    mask = zeros((1024,1024))\n",
      "    for key in line_mus:\n",
      "        if key not in ['DLM','DVM','tt','vtp','ps']:\n",
      "            if key == 'dtp':\n",
      "                key = 'tp'\n",
      "            p = matplotlib.path.Path(model_data[key].T)\n",
      "            mask += p.contains_points(pnts.T).reshape(1024,1024)\n",
      "    imshow(mask)\n",
      "    thorax_view.plot(thorax.basis)\n",
      "    gca().set_title(line_name)\n",
      "    gca().set_xbound(0,750)\n",
      "    gca().set_ybound(100,1024)\n",
      "    gca().set_xticklabels([])\n",
      "    gca().set_yticklabels([])"
     ],
     "language": "python",
     "metadata": {},
     "outputs": [],
     "prompt_number": 15
    },
    {
     "cell_type": "code",
     "collapsed": false,
     "input": [
      "import matplotlib.gridspec as gridspec\n",
      "gs = gridspec.GridSpec(5, 5)\n",
      "for lin_num in arange(0,len(nms)):\n",
      "    x,y = where(arange(0,25).reshape(5,5) == lin_num)\n",
      "    ax = plt.subplot(gs[x[0], y[0]])\n",
      "    plot_line(nms[lin_num])"
     ],
     "language": "python",
     "metadata": {},
     "outputs": [],
     "prompt_number": 16
    },
    {
     "cell_type": "code",
     "collapsed": false,
     "input": [
      "ax = gca()"
     ],
     "language": "python",
     "metadata": {},
     "outputs": [],
     "prompt_number": 300
    },
    {
     "cell_type": "code",
     "collapsed": false,
     "input": [
      "ax.set_title()"
     ],
     "language": "python",
     "metadata": {},
     "outputs": [
      {
       "metadata": {},
       "output_type": "pyout",
       "prompt_number": 278,
       "text": [
        "(23,)"
       ]
      }
     ],
     "prompt_number": 278
    },
    {
     "cell_type": "code",
     "collapsed": false,
     "input": [
      "nms"
     ],
     "language": "python",
     "metadata": {},
     "outputs": [
      {
       "metadata": {},
       "output_type": "pyout",
       "prompt_number": 232,
       "text": [
        "array(['12D05', '89D01', '25H08', '48F07', '73A05', '40D04', '58H10',\n",
        "       '86H08', '29E05', '10E11', '39E01', '29G05', '38H06', '64H12',\n",
        "       '10A12', 'apterous', '29H04', '75B06', '55D06', '31E10', '25C01',\n",
        "       '27H01', '22H05'], \n",
        "      dtype='|S34')"
       ]
      }
     ],
     "prompt_number": 232
    },
    {
     "cell_type": "code",
     "collapsed": false,
     "input": [
      "shape(muscle_names)"
     ],
     "language": "python",
     "metadata": {},
     "outputs": [
      {
       "metadata": {},
       "output_type": "pyout",
       "prompt_number": 227,
       "text": [
        "(20,)"
       ]
      }
     ],
     "prompt_number": 227
    },
    {
     "cell_type": "code",
     "collapsed": false,
     "input": [
      "shape(muscle_bool)"
     ],
     "language": "python",
     "metadata": {},
     "outputs": [
      {
       "metadata": {},
       "output_type": "pyout",
       "prompt_number": 226,
       "text": [
        "(20,)"
       ]
      }
     ],
     "prompt_number": 226
    },
    {
     "cell_type": "code",
     "collapsed": false,
     "input": [],
     "language": "python",
     "metadata": {},
     "outputs": []
    }
   ],
   "metadata": {}
  }
 ]
}