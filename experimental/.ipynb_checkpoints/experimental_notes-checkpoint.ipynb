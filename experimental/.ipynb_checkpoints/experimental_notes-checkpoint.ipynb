{
 "metadata": {
  "name": "",
  "signature": "sha256:fba98c27be8b9aac87360d8fea0d61a8479937552ef835e8bfdf58f3befacc93"
 },
 "nbformat": 3,
 "nbformat_minor": 0,
 "worksheets": [
  {
   "cells": [
    {
     "cell_type": "markdown",
     "metadata": {},
     "source": [
      "##### 9/22/2014\n",
      "* power meter recordings\n",
      "    * nd32 = '100uW'\n",
      "    * nd16 = '240uw'\n",
      "    * nd08 = '0.530mW'\n",
      "    * nd04 = '1.115mW'\n",
      "    * nd02 = '2.26mW'\n",
      "    *nd01 = '4.63mW'"
     ]
    },
    {
     "cell_type": "markdown",
     "metadata": {},
     "source": [
      "##### 9/29/2014\n",
      "* results from cross: \n",
      "    * U82 X J149 - +\n",
      "    * U82 X J100 - +\n",
      "    * U82 X J23 - ++\n",
      "    * U82 X J18 - +\n",
      "* imaging setup:\n",
      "    * 2,000 frame zoom in and out to collect reference frame for imaging"
     ]
    },
    {
     "cell_type": "markdown",
     "metadata": {},
     "source": [
      "##### 9/29/2014\n",
      "Nice reference for thorax anatomy:\n",
      "http://www.giand.it/diptera/morph/?id=5&lang=en"
     ]
    },
    {
     "cell_type": "markdown",
     "metadata": {},
     "source": [
      "Imaging progress:\n",
      "* Done: \n",
      "    * U82 X J121 n=6 [271,272,273,274,275,276]\n",
      "    * U82 X J18 n=6 [265,266,267,268,269,270]\n",
      "    * U82 X J100 n=6 [259,260,261,262,263,264]\n",
      "    * U82 X J22 n=4 [255,256,257,258]\n",
      "    * U82 X J23 n=6 [277,278,279,280,281,282]\n",
      "* To Do:\n",
      "    * J160\n",
      "    * J146\n",
      "    * J149\n",
      "    * J22 (n=3)"
     ]
    },
    {
     "cell_type": "markdown",
     "metadata": {},
     "source": [
      "##### 12/2/2014\n",
      "nd on intensilight set to 4\n",
      "\n",
      "Optical power measured @ 560nm using Cube#3 (chroma # 49008)\n",
      "power = 3.5 mW\n",
      "\n",
      "optical power measured @ 480nm using Cube#2 (chroma # 49011)\n",
      "power = 2.2 mW\n"
     ]
    },
    {
     "cell_type": "code",
     "collapsed": false,
     "input": [],
     "language": "python",
     "metadata": {},
     "outputs": []
    }
   ],
   "metadata": {}
  }
 ]
}