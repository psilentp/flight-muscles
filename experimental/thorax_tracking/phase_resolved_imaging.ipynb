{
 "metadata": {
  "name": "",
  "signature": "sha256:1c20cea8b3fc76f4970ef9079d0af0171438b94c35da2b63f472dfaeee842730"
 },
 "nbformat": 3,
 "nbformat_minor": 0,
 "worksheets": [
  {
   "cells": [
    {
     "cell_type": "code",
     "collapsed": false,
     "input": [
      "times = np.arange(0,1,1/10000.)"
     ],
     "language": "python",
     "metadata": {},
     "outputs": [],
     "prompt_number": 1
    },
    {
     "cell_type": "code",
     "collapsed": false,
     "input": [
      "#phase aliasing \n",
      "f1 = 190.\n",
      "f2 = 70\n",
      "plot(times,sin(times*f1)>0)\n",
      "plot(times,sin(times*f2)>0)"
     ],
     "language": "python",
     "metadata": {},
     "outputs": [
      {
       "metadata": {},
       "output_type": "pyout",
       "prompt_number": 9,
       "text": [
        "[<matplotlib.lines.Line2D at 0x4f43350>]"
       ]
      }
     ],
     "prompt_number": 9
    },
    {
     "cell_type": "code",
     "collapsed": false,
     "input": [],
     "language": "python",
     "metadata": {},
     "outputs": []
    }
   ],
   "metadata": {}
  }
 ]
}