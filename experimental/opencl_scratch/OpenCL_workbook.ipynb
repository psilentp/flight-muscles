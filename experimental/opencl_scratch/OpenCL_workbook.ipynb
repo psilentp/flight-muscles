{
 "metadata": {
  "name": "",
  "signature": "sha256:cc0b078c1a68935028b4ea1113389f3b55e7123d25f0fb82722ea782b1fd474e"
 },
 "nbformat": 3,
 "nbformat_minor": 0,
 "worksheets": [
  {
   "cells": [
    {
     "cell_type": "code",
     "collapsed": false,
     "input": [
      "import numpy as np\n",
      "import pyopencl as cl\n",
      "\n",
      "a_np = np.random.rand(50000).astype(np.float32)\n",
      "b_np = np.random.rand(50000).astype(np.float32)\n",
      "\n",
      "ctx = cl.create_some_context()\n",
      "queue = cl.CommandQueue(ctx)\n",
      "\n",
      "mf = cl.mem_flags\n",
      "a_g = cl.Buffer(ctx, mf.READ_ONLY | mf.COPY_HOST_PTR, hostbuf=a_np)\n",
      "b_g = cl.Buffer(ctx, mf.READ_ONLY | mf.COPY_HOST_PTR, hostbuf=b_np)\n",
      "\n",
      "prg = cl.Program(ctx, \"\"\"\n",
      "__kernel void sum(__global const float *a_g, __global const float *b_g, __global float *res_g) {\n",
      "  int gid = get_global_id(0);\n",
      "  res_g[gid] = a_g[gid] + b_g[gid];\n",
      "}\n",
      "\"\"\").build()\n",
      "\n",
      "res_g = cl.Buffer(ctx, mf.WRITE_ONLY, a_np.nbytes)\n",
      "prg.sum(queue, a_np.shape, None, a_g, b_g, res_g)\n",
      "\n",
      "res_np = np.empty_like(a_np)\n",
      "cl.enqueue_copy(queue, res_np, res_g)\n",
      "\n",
      "# Check on CPU with Numpy:\n",
      "print(res_np - (a_np + b_np))\n",
      "print(np.linalg.norm(res_np - (a_np + b_np)))"
     ],
     "language": "python",
     "metadata": {},
     "outputs": [
      {
       "output_type": "stream",
       "stream": "stdout",
       "text": [
        "[ 0.  0.  0. ...,  0.  0.  0.]\n",
        "0.0\n"
       ]
      }
     ],
     "prompt_number": 1
    },
    {
     "cell_type": "code",
     "collapsed": false,
     "input": [
      "%pylab"
     ],
     "language": "python",
     "metadata": {},
     "outputs": [
      {
       "output_type": "stream",
       "stream": "stdout",
       "text": [
        "Using matplotlib backend: MacOSX\n",
        "Populating the interactive namespace from numpy and matplotlib\n"
       ]
      }
     ],
     "prompt_number": 1
    },
    {
     "cell_type": "code",
     "collapsed": false,
     "input": [
      "import scipy.misc\n",
      "lena = scipy.misc.lena()\n",
      "#imshow(lena)\n",
      "from scipy.ndimage.interpolation import affine_transform"
     ],
     "language": "python",
     "metadata": {},
     "outputs": [],
     "prompt_number": 2
    },
    {
     "cell_type": "code",
     "collapsed": false,
     "input": [
      "A = np.array([[cos(pi/5),-sin(pi/5)],[sin(pi/5),cos(pi/5)]])\n",
      "B = np.array([[1,0],[0.5,1]])\n",
      "#A = B\n",
      "#A = np.dot(B,A)\n",
      "#Af = hstack((vstack((A,[0,0])),np.array([[0,0,1]]).T))\n",
      "lw_sp = affine_transform(lena,A)\n",
      "#figure();imshow(lw_sp,cmap = cm.gray)"
     ],
     "language": "python",
     "metadata": {},
     "outputs": [],
     "prompt_number": 3
    },
    {
     "cell_type": "code",
     "collapsed": false,
     "input": [
      "def custom_warp(img,A,dest_shape):\n",
      "    A_p = inv(A)\n",
      "    in_x,in_y = shape(img)\n",
      "    out_x,out_y = dest_shape\n",
      "    out_img = np.zeros(dest_shape)\n",
      "    for x_idx in range(out_x):\n",
      "        for y_idx in range(out_y):\n",
      "            src_x,src_y = np.dot(A_p,np.array([x_idx,y_idx]))\n",
      "            if (src_x >= 0) & (src_y >= 0) & (src_x < in_x-1) & (src_y < in_y-1):\n",
      "                Q11 = img[int(src_x),int(src_y)]\n",
      "                Q12 = img[int(src_x),int(src_y)+1]\n",
      "                Q21 = img[int(src_x)+1,int(src_y)]\n",
      "                Q22 = img[int(src_x)+1,int(src_y)+1]\n",
      "                C11 = ((int(src_x)+1)-src_x) * ((int(src_y)+1)-src_y)\n",
      "                C12 = ((int(src_x)+1)-src_x) * (src_y - int(src_y))\n",
      "                C21 = (src_x - int(src_x)) * ((int(src_y)+1)-src_y)\n",
      "                C22 = (src_x - int(src_x)) * (src_y - int(src_y))\n",
      "                out_img[x_idx,y_idx] = Q11*C11 + Q12*C12 + Q21*C21 + Q22*C22\n",
      "    return out_img"
     ],
     "language": "python",
     "metadata": {},
     "outputs": [],
     "prompt_number": 4
    },
    {
     "cell_type": "code",
     "collapsed": false,
     "input": [
      "lw = custom_warp(lena,A,(512,512))\n",
      "figure();imshow(lw)"
     ],
     "language": "python",
     "metadata": {},
     "outputs": [
      {
       "metadata": {},
       "output_type": "pyout",
       "prompt_number": 5,
       "text": [
        "<matplotlib.image.AxesImage at 0x10d88b0d0>"
       ]
      }
     ],
     "prompt_number": 5
    },
    {
     "cell_type": "code",
     "collapsed": false,
     "input": [],
     "language": "python",
     "metadata": {},
     "outputs": [],
     "prompt_number": 184
    },
    {
     "cell_type": "code",
     "collapsed": false,
     "input": [
      "A_p = inv(A).astype(np.float32)\n",
      "dest_coords_img = dstack(meshgrid(range(512),range(512))).astype(np.float32)\n",
      "dest_coords_vec = dest_coords_img.reshape(-1,2)\n",
      "src_coords_vec = dot(A_p,dest_coords_vec.T).T\n",
      "src_coords_img = src_coords_vec.reshape(512,512,2)\n",
      "C11 = (src_coords_vec[:,0].astype(int)+1-src_coords_vec[:,0]) * (src_coords_vec[:,1].astype(int)+1-src_coords_vec[:,1])\n",
      "C12 = (src_coords_vec[:,0].astype(int)+1-src_coords_vec[:,0]) * (src_coords_vec[:,1] - src_coords_vec[:,1].astype(int))\n",
      "C21 = (src_coords_vec[:,0] - src_coords_vec[:,0].astype(int)) * (src_coords_vec[:,1].astype(int)+1 - src_coords_vec[:,1])\n",
      "C22 = (src_coords_vec[:,0] - src_coords_vec[:,0].astype(int)) * (src_coords_vec[:,1] - src_coords_vec[:,1].astype(int))\n",
      "src_coef = vstack((C11,C12,C21,C22)).T#.reshape(512,512,4)"
     ],
     "language": "python",
     "metadata": {},
     "outputs": [],
     "prompt_number": 6
    },
    {
     "cell_type": "code",
     "collapsed": false,
     "input": [
      "shape(src_coords_vec)"
     ],
     "language": "python",
     "metadata": {},
     "outputs": [
      {
       "metadata": {},
       "output_type": "pyout",
       "prompt_number": 7,
       "text": [
        "(262144, 2)"
       ]
      }
     ],
     "prompt_number": 7
    },
    {
     "cell_type": "code",
     "collapsed": false,
     "input": [
      "shape(src_coef)"
     ],
     "language": "python",
     "metadata": {},
     "outputs": [
      {
       "metadata": {},
       "output_type": "pyout",
       "prompt_number": 8,
       "text": [
        "(262144, 4)"
       ]
      }
     ],
     "prompt_number": 8
    },
    {
     "cell_type": "code",
     "collapsed": false,
     "input": [
      "def custom_interp(img,src_cords_img,src_coef,dest_shape):\n",
      "    in_x,in_y = shape(img)\n",
      "    out_x,out_y = dest_shape\n",
      "    out_img = np.zeros(dest_shape)\n",
      "    for x_idx in range(out_x):\n",
      "        for y_idx in range(out_y):\n",
      "            src_x,src_y = src_coords_img[x_idx,y_idx]\n",
      "            if (src_x >= 0) & (src_y >= 0) & (src_x < in_x-1) & (src_y < in_y-1):\n",
      "                Q11 = img[int(src_x),int(src_y)]\n",
      "                Q12 = img[int(src_x),int(src_y)+1]\n",
      "                Q21 = img[int(src_x)+1,int(src_y)]\n",
      "                Q22 = img[int(src_x)+1,int(src_y)+1]\n",
      "                C11 = src_coef[x_idx,y_idx][0]\n",
      "                C12 = src_coef[x_idx,y_idx][1]\n",
      "                C21 = src_coef[x_idx,y_idx][2]\n",
      "                C22 = src_coef[x_idx,y_idx][3]\n",
      "                out_img[x_idx,y_idx] = Q11*C11 + Q12*C12 + Q21*C21 + Q22*C22\n",
      "    return out_img"
     ],
     "language": "python",
     "metadata": {},
     "outputs": [],
     "prompt_number": 9
    },
    {
     "cell_type": "code",
     "collapsed": false,
     "input": [
      "lw_interp = custom_interp(lena,src_coords_img,coef,(512,512))\n",
      "figure();imshow(lw_interp.T)"
     ],
     "language": "python",
     "metadata": {},
     "outputs": [
      {
       "ename": "NameError",
       "evalue": "name 'coef' is not defined",
       "output_type": "pyerr",
       "traceback": [
        "\u001b[0;31m---------------------------------------------------------------------------\u001b[0m\n\u001b[0;31mNameError\u001b[0m                                 Traceback (most recent call last)",
        "\u001b[0;32m<ipython-input-10-37faa7d22107>\u001b[0m in \u001b[0;36m<module>\u001b[0;34m()\u001b[0m\n\u001b[0;32m----> 1\u001b[0;31m \u001b[0mlw_interp\u001b[0m \u001b[0;34m=\u001b[0m \u001b[0mcustom_interp\u001b[0m\u001b[0;34m(\u001b[0m\u001b[0mlena\u001b[0m\u001b[0;34m,\u001b[0m\u001b[0msrc_coords_img\u001b[0m\u001b[0;34m,\u001b[0m\u001b[0mcoef\u001b[0m\u001b[0;34m,\u001b[0m\u001b[0;34m(\u001b[0m\u001b[0;36m512\u001b[0m\u001b[0;34m,\u001b[0m\u001b[0;36m512\u001b[0m\u001b[0;34m)\u001b[0m\u001b[0;34m)\u001b[0m\u001b[0;34m\u001b[0m\u001b[0m\n\u001b[0m\u001b[1;32m      2\u001b[0m \u001b[0mfigure\u001b[0m\u001b[0;34m(\u001b[0m\u001b[0;34m)\u001b[0m\u001b[0;34m;\u001b[0m\u001b[0mimshow\u001b[0m\u001b[0;34m(\u001b[0m\u001b[0mlw_interp\u001b[0m\u001b[0;34m.\u001b[0m\u001b[0mT\u001b[0m\u001b[0;34m)\u001b[0m\u001b[0;34m\u001b[0m\u001b[0m\n",
        "\u001b[0;31mNameError\u001b[0m: name 'coef' is not defined"
       ]
      }
     ],
     "prompt_number": 10
    },
    {
     "cell_type": "code",
     "collapsed": false,
     "input": [
      "%pylab"
     ],
     "language": "python",
     "metadata": {},
     "outputs": [
      {
       "output_type": "stream",
       "stream": "stdout",
       "text": [
        "Using matplotlib backend: MacOSX\n",
        "Populating the interactive namespace from numpy and matplotlib\n"
       ]
      }
     ],
     "prompt_number": 1
    },
    {
     "cell_type": "code",
     "collapsed": false,
     "input": [
      "import numpy as np\n",
      "import pyopencl as cl\n",
      "import time\n",
      "\n",
      "def opencl_warp(movie,A,device_type = 'GPU'):\n",
      "    #tick = time.clock()\n",
      "    n_fr = np.shape(movie)[0]\n",
      "    x_pix = np.shape(movie)[1]\n",
      "    y_pix = np.shape(movie)[2]\n",
      "    \n",
      "    \n",
      "    A_p = np.linalg.inv(A).astype(np.float32)\n",
      "    dest_coords_img = np.dstack(np.meshgrid(range(x_pix),range(y_pix))).astype(np.float32)\n",
      "    dest_coords_vec = dest_coords_img.reshape(-1,2)\n",
      "    src_coords_vec = np.dot(A_p,dest_coords_vec.T).T\n",
      "    src_coords_img = src_coords_vec.reshape(x_pix,y_pix,2)\n",
      "    \n",
      "    C11 = (src_coords_vec[:,0].astype(int)+1-src_coords_vec[:,0]) * (src_coords_vec[:,1].astype(int)+1-src_coords_vec[:,1])\n",
      "    C12 = (src_coords_vec[:,0].astype(int)+1-src_coords_vec[:,0]) * (src_coords_vec[:,1] - src_coords_vec[:,1].astype(int))\n",
      "    C21 = (src_coords_vec[:,0] - src_coords_vec[:,0].astype(int)) * (src_coords_vec[:,1].astype(int)+1 - src_coords_vec[:,1])\n",
      "    C22 = (src_coords_vec[:,0] - src_coords_vec[:,0].astype(int)) * (src_coords_vec[:,1] - src_coords_vec[:,1].astype(int))\n",
      "    src_coef = np.vstack((C11,C12,C21,C22)).T\n",
      "    platform = cl.get_platforms()[0]\n",
      "    devices = platform.get_devices()\n",
      "    \n",
      "    gpu = devices[1]\n",
      "    cpu = devices[0]\n",
      "    \n",
      "    ctx = cl.Context(devices=devices)\n",
      "    queue1 = cl.CommandQueue(ctx,devices[1])\n",
      "\n",
      "    mf = cl.mem_flags    \n",
      "    #get gpu and cpu buffer size\n",
      "    gpu_num_frames = gpu.global_mem_size/(4*4*x_pix*y_pix)\n",
      "    cpu_num_frames = cpu.global_mem_size/(2*4*x_pix*y_pix)\n",
      "    \n",
      "    img_g =  cl.Buffer(ctx, mf.READ_ONLY , size = 4*gpu_num_frames*x_pix*y_pix)# hostbuf=movie.astype(int32).copy())\n",
      "    src_coords_g = cl.Buffer(ctx, mf.READ_ONLY | mf.COPY_HOST_PTR, hostbuf=src_coords_vec.astype(np.float32).copy())\n",
      "    src_coef_g = cl.Buffer(ctx, mf.READ_ONLY | mf.COPY_HOST_PTR, hostbuf=src_coef.astype(np.float32).copy())\n",
      "\n",
      "    prg = cl.Program(ctx, \"\"\"\n",
      "    __kernel void custom_interp(__global int *img_g,\n",
      "                                __global float2* src_coords_g,\n",
      "                                __global float4* src_coef_g,\n",
      "                                __global int* out_img_g) {\n",
      "        int3 pos = (int3)(get_global_id(0), get_global_id(1),get_global_id(2));\n",
      "        int3 size = (int3)(get_global_size(0), get_global_size(1), get_global_size(2));\n",
      "\n",
      "        int src_y =  src_coords_g[pos.y*size.y + pos.z].x;\n",
      "        int src_z = src_coords_g[pos.y*size.y + pos.z].y;\n",
      "        \n",
      "        int framepos = pos.x*size.y*size.z;\n",
      "        int src_row = src_y*size.y;\n",
      "        int rowpos = pos.y*size.y;\n",
      "        \n",
      "        float4 Q,C;\n",
      "        if ((src_y >= 0) & (src_z >= 0) & (src_y < size.y-1) & (src_z < size.z-1))\n",
      "        {\n",
      "          Q.x = img_g[framepos + src_row + (src_z)];\n",
      "          Q.y = img_g[framepos + src_row + (src_z)+1];\n",
      "          Q.z = img_g[framepos + (src_y+1)*size.y + (src_z)];\n",
      "          Q.w = img_g[framepos + (src_y+1)*size.y + (src_z)+1];\n",
      "          \n",
      "          C.x = src_coef_g[rowpos+pos.z].x; \n",
      "          C.y = src_coef_g[rowpos+pos.z].y;\n",
      "          C.z = src_coef_g[rowpos+pos.z].z;\n",
      "          C.w = src_coef_g[rowpos+pos.z].w;\n",
      "          out_img_g[framepos + rowpos + pos.z] = dot(C,Q);\n",
      "        }\n",
      "        else{\n",
      "          out_img_g[framepos + rowpos + pos.z] = 0;\n",
      "        }\n",
      "    }\"\"\").build()\n",
      "\n",
      "    out_img_np = np.zeros(shape = (n_fr,x_pix,y_pix),dtype = np.int32)\n",
      "    out_img_g = cl.Buffer(ctx, mf.WRITE_ONLY, 4*gpu_num_frames*x_pix*y_pix)\n",
      "    \n",
      "    for i in range(n_fr/gpu_num_frames):\n",
      "        cl.enqueue_copy(queue1, img_g, movie[:gpu_num_frames].astype(np.int32).copy())\n",
      "        prg.custom_interp(queue1, movie[:gpu_num_frames].shape, None,img_g, src_coords_g, src_coef_g, out_img_g)\n",
      "        cl.enqueue_copy(queue1, out_img_np[gpu_num_frames*i:gpu_num_frames*(i+1)], out_img_g)\n",
      "    \n",
      "    #finish up\n",
      "    residual = np.mod(n_fr,gpu_num_frames)\n",
      "    l_frame = n_fr-residual\n",
      "    cl.enqueue_copy(queue1, img_g, movie[l_frame:].astype(np.int32).copy())\n",
      "    prg.custom_interp(queue1, movie[l_frame:].shape, None,img_g, src_coords_g, src_coef_g, out_img_g)\n",
      "    cl.enqueue_copy(queue1, out_img_np[l_frame:], out_img_g)\n",
      "    #tock = time.clock()\n",
      "    \n",
      "    return out_img_np"
     ],
     "language": "python",
     "metadata": {},
     "outputs": [],
     "prompt_number": 18
    },
    {
     "cell_type": "code",
     "collapsed": false,
     "input": [
      "import scipy.misc\n",
      "lena = scipy.misc.lena()\n",
      "movie = [np.random.randint(1,size=lena.shape)+lena for x in range(2000)]\n",
      "movie = np.array(movie)"
     ],
     "language": "python",
     "metadata": {},
     "outputs": [],
     "prompt_number": 4
    },
    {
     "cell_type": "code",
     "collapsed": false,
     "input": [
      "shape(movie)"
     ],
     "language": "python",
     "metadata": {},
     "outputs": [
      {
       "metadata": {},
       "output_type": "pyout",
       "prompt_number": 4,
       "text": [
        "(500, 512, 512)"
       ]
      }
     ],
     "prompt_number": 4
    },
    {
     "cell_type": "code",
     "collapsed": false,
     "input": [
      "A = np.array([[np.cos(np.pi/5),-np.sin(np.pi/5)],[np.sin(np.pi/5),np.cos(np.pi/5)]])\n",
      "out_img_np = opencl_warp(movie,A)\n",
      "#figure();imshow(out_img_np[10])"
     ],
     "language": "python",
     "metadata": {},
     "outputs": [],
     "prompt_number": 19
    },
    {
     "cell_type": "code",
     "collapsed": false,
     "input": [
      "plot(out_img_np[:,10,10])"
     ],
     "language": "python",
     "metadata": {},
     "outputs": [
      {
       "metadata": {},
       "output_type": "pyout",
       "prompt_number": 23,
       "text": [
        "[<matplotlib.lines.Line2D at 0x11021c610>]"
       ]
      }
     ],
     "prompt_number": 23
    },
    {
     "cell_type": "code",
     "collapsed": false,
     "input": [
      "devs = plat.get_devices()"
     ],
     "language": "python",
     "metadata": {},
     "outputs": [
      {
       "ename": "NameError",
       "evalue": "name 'plat' is not defined",
       "output_type": "pyerr",
       "traceback": [
        "\u001b[0;31m---------------------------------------------------------------------------\u001b[0m\n\u001b[0;31mNameError\u001b[0m                                 Traceback (most recent call last)",
        "\u001b[0;32m<ipython-input-13-fd333f6d49ae>\u001b[0m in \u001b[0;36m<module>\u001b[0;34m()\u001b[0m\n\u001b[0;32m----> 1\u001b[0;31m \u001b[0mdevs\u001b[0m \u001b[0;34m=\u001b[0m \u001b[0mplat\u001b[0m\u001b[0;34m.\u001b[0m\u001b[0mget_devices\u001b[0m\u001b[0;34m(\u001b[0m\u001b[0;34m)\u001b[0m\u001b[0;34m\u001b[0m\u001b[0m\n\u001b[0m",
        "\u001b[0;31mNameError\u001b[0m: name 'plat' is not defined"
       ]
      }
     ],
     "prompt_number": 13
    },
    {
     "cell_type": "code",
     "collapsed": false,
     "input": [
      "gpu = devs[1]\n",
      "cpu = devs[0]"
     ],
     "language": "python",
     "metadata": {},
     "outputs": [],
     "prompt_number": 51
    },
    {
     "cell_type": "code",
     "collapsed": false,
     "input": [
      "nframes = gpu.global_mem_size/(32*shape(movie)[0]*shape(movie)[1])"
     ],
     "language": "python",
     "metadata": {},
     "outputs": [],
     "prompt_number": 47
    },
    {
     "cell_type": "code",
     "collapsed": false,
     "input": [],
     "language": "python",
     "metadata": {},
     "outputs": []
    },
    {
     "cell_type": "code",
     "collapsed": false,
     "input": [
      "import numpy as np\n",
      "import pyopencl as cl\n",
      "import time\n",
      "mf = cl.mem_flags\n",
      "\n",
      "class MovieWarp():\n",
      "    def __init__(self,host_buffer_shape,A):\n",
      "        self.host_buffer_shape = host_buffer_shape\n",
      "        self.platform = cl.get_platforms()[0]\n",
      "        self.devices = platform.get_devices()\n",
      "        self.gpu = devices[1]\n",
      "        self.cpu = devices[0]\n",
      "        self.ctx = cl.Context(devices=devices)\n",
      "        self.cpu_queue = cl.CommandQueue(ctx,cpu)\n",
      "        self.gpu_queue = cl.CommandQueue(ctx,gpu)\n",
      "        \n",
      "        self.frame_size = self.host_buffer_shape[1] * self.host_buffer_shape[2] * 4 #in bytes\n",
      "        self.gpu_buf_numframes = gpu.global_mem_size/frame_size\n",
      "        self.cpu_buf_numframes = cpu.global_mem_size/frame_size\n",
      "        self.img_g =  cl.tools.Buffer(ctx, mf.READ_ONLY , size = self.gpu_buf_numframes*self.frame_size)# hostbuf=movie.astype(int32).copy())\n",
      "        \n",
      "        self.prg = cl.Program(self.ctx, \"\"\"\n",
      "            __kernel void custom_interp(__global int *img_g,\n",
      "                                        __global float2* src_coords_g,\n",
      "                                        __global float4* src_coef_g,\n",
      "                                        __global int* out_img_g) {\n",
      "                int3 pos = (int3)(get_global_id(0), get_global_id(1),get_global_id(2));\n",
      "                int3 size = (int3)(get_global_size(0), get_global_size(1), get_global_size(2));\n",
      "\n",
      "                int src_y =  src_coords_g[pos.y*size.y + pos.z].x;\n",
      "                int src_z = src_coords_g[pos.y*size.y + pos.z].y;\n",
      "\n",
      "                int framepos = pos.x*size.y*size.z;\n",
      "                int src_row = src_y*size.y;\n",
      "                int rowpos = pos.y*size.y;\n",
      "\n",
      "                float4 Q,C;\n",
      "                if ((src_y >= 0) & (src_z >= 0) & (src_y < size.y-1) & (src_z < size.z-1))\n",
      "                {\n",
      "                  Q.x = img_g[framepos + src_row + (src_z)];\n",
      "                  Q.y = img_g[framepos + src_row + (src_z)+1];\n",
      "                  Q.z = img_g[framepos + (src_y+1)*size.y + (src_z)];\n",
      "                  Q.w = img_g[framepos + (src_y+1)*size.y + (src_z)+1];\n",
      "\n",
      "                  C.x = src_coef_g[rowpos+pos.z].x; \n",
      "                  C.y = src_coef_g[rowpos+pos.z].y;\n",
      "                  C.z = src_coef_g[rowpos+pos.z].z;\n",
      "                  C.w = src_coef_g[rowpos+pos.z].w;\n",
      "                  out_img_g[framepos + rowpos + pos.z] = dot(C,Q);\n",
      "                }\n",
      "                else{\n",
      "                  out_img_g[framepos + rowpos + pos.z] = 0;\n",
      "                }\n",
      "            }\"\"\").build()\n",
      "        \n",
      "def opencl_warp(movie,A):\n",
      "    tick = time.clock()\n",
      "    A_p = inv(A).astype(np.float32)\n",
      "    dest_coords_img = dstack(meshgrid(range(512),range(512))).astype(np.float32)\n",
      "    dest_coords_vec = dest_coords_img.reshape(-1,2)\n",
      "    src_coords_vec = dot(A_p,dest_coords_vec.T).T\n",
      "    src_coords_img = src_coords_vec.reshape(512,512,2)\n",
      "    \n",
      "    C11 = (src_coords_vec[:,0].astype(int)+1-src_coords_vec[:,0]) * (src_coords_vec[:,1].astype(int)+1-src_coords_vec[:,1])\n",
      "    C12 = (src_coords_vec[:,0].astype(int)+1-src_coords_vec[:,0]) * (src_coords_vec[:,1] - src_coords_vec[:,1].astype(int))\n",
      "    C21 = (src_coords_vec[:,0] - src_coords_vec[:,0].astype(int)) * (src_coords_vec[:,1].astype(int)+1 - src_coords_vec[:,1])\n",
      "    C22 = (src_coords_vec[:,0] - src_coords_vec[:,0].astype(int)) * (src_coords_vec[:,1] - src_coords_vec[:,1].astype(int))\n",
      "    src_coef = vstack((C11,C12,C21,C22)).T\n",
      "    \n",
      "    src_coords_g = cl.Buffer(ctx, mf.READ_ONLY | mf.COPY_HOST_PTR, hostbuf=src_coords_vec.astype(float32).copy())\n",
      "    src_coef_g = cl.Buffer(ctx, mf.READ_ONLY | mf.COPY_HOST_PTR, hostbuf=src_coef.astype(float32).copy())\n",
      "\n",
      "    \n",
      "    #img_g =  cl.Buffer(ctx, mf.READ_ONLY | mf.COPY_HOST_PTR, hostbuf=movie.astype(int32).copy())\n",
      "    \n",
      "    #get gpu and cpu buffer size\n",
      "    \n",
      "\n",
      "    out_img_np = np.zeros(shape = self.host_buffer_shape),dtype = int32)\n",
      "    \n",
      "    out_img_g = cl.Buffer(ctx, \n",
      "                          mf.WRITE_ONLY, \n",
      "                          self.gpu_buf_numframes*self.frame_size)\n",
      "    \n",
      "    for i in range(60):\n",
      "        #print i\n",
      "        cl.enqueue_copy(queue1, img_g, movie[:gpu_frame_buffer].astype(int32).copy())\n",
      "        prg.custom_interp(queue1, movie[:gpu_frame_buffer].shape, None,img_g, src_coords_g, src_coef_g, out_img_g)\n",
      "        cl.enqueue_copy(queue1, out_img_np[gpu_frame_buffer*i:gpu_frame_buffer*(i+1)], out_img_g)\n",
      "    \n",
      "    tock = time.clock()\n",
      "    \n",
      "    return out_img_np"
     ],
     "language": "python",
     "metadata": {},
     "outputs": []
    }
   ],
   "metadata": {}
  }
 ]
}