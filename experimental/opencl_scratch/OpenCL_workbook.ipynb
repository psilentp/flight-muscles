{
 "metadata": {
  "name": "",
  "signature": "sha256:fda244515111a0a0ab784c7a80c86895639d71a29f2437cc007777b6819a53a1"
 },
 "nbformat": 3,
 "nbformat_minor": 0,
 "worksheets": [
  {
   "cells": [
    {
     "cell_type": "code",
     "collapsed": false,
     "input": [
      "import numpy as np\n",
      "import pyopencl as cl\n",
      "\n",
      "a_np = np.random.rand(50000).astype(np.float32)\n",
      "b_np = np.random.rand(50000).astype(np.float32)\n",
      "\n",
      "ctx = cl.create_some_context()\n",
      "queue = cl.CommandQueue(ctx)\n",
      "\n",
      "mf = cl.mem_flags\n",
      "a_g = cl.Buffer(ctx, mf.READ_ONLY | mf.COPY_HOST_PTR, hostbuf=a_np)\n",
      "b_g = cl.Buffer(ctx, mf.READ_ONLY | mf.COPY_HOST_PTR, hostbuf=b_np)\n",
      "\n",
      "prg = cl.Program(ctx, \"\"\"\n",
      "__kernel void sum(__global const float *a_g, __global const float *b_g, __global float *res_g) {\n",
      "  int gid = get_global_id(0);\n",
      "  res_g[gid] = a_g[gid] + b_g[gid];\n",
      "}\n",
      "\"\"\").build()\n",
      "\n",
      "res_g = cl.Buffer(ctx, mf.WRITE_ONLY, a_np.nbytes)\n",
      "prg.sum(queue, a_np.shape, None, a_g, b_g, res_g)\n",
      "\n",
      "res_np = np.empty_like(a_np)\n",
      "cl.enqueue_copy(queue, res_np, res_g)\n",
      "\n",
      "# Check on CPU with Numpy:\n",
      "print(res_np - (a_np + b_np))\n",
      "print(np.linalg.norm(res_np - (a_np + b_np)))"
     ],
     "language": "python",
     "metadata": {},
     "outputs": [
      {
       "output_type": "stream",
       "stream": "stdout",
       "text": [
        "[ 0.  0.  0. ...,  0.  0.  0.]\n",
        "0.0\n"
       ]
      }
     ],
     "prompt_number": 1
    },
    {
     "cell_type": "code",
     "collapsed": false,
     "input": [
      "%pylab"
     ],
     "language": "python",
     "metadata": {},
     "outputs": [
      {
       "output_type": "stream",
       "stream": "stdout",
       "text": [
        "Using matplotlib backend: MacOSX\n",
        "Populating the interactive namespace from numpy and matplotlib\n"
       ]
      }
     ],
     "prompt_number": 1
    },
    {
     "cell_type": "code",
     "collapsed": false,
     "input": [
      "import scipy.misc\n",
      "lena = scipy.misc.lena()\n",
      "#imshow(lena)\n",
      "from scipy.ndimage.interpolation import affine_transform"
     ],
     "language": "python",
     "metadata": {},
     "outputs": [],
     "prompt_number": 2
    },
    {
     "cell_type": "code",
     "collapsed": false,
     "input": [
      "A = np.array([[cos(pi/5),-sin(pi/5)],[sin(pi/5),cos(pi/5)]])\n",
      "B = np.array([[1,0],[0.5,1]])\n",
      "#A = B\n",
      "#A = np.dot(B,A)\n",
      "#Af = hstack((vstack((A,[0,0])),np.array([[0,0,1]]).T))\n",
      "lw_sp = affine_transform(lena,A)\n",
      "#figure();imshow(lw_sp,cmap = cm.gray)"
     ],
     "language": "python",
     "metadata": {},
     "outputs": [],
     "prompt_number": 3
    },
    {
     "cell_type": "code",
     "collapsed": false,
     "input": [
      "def custom_warp(img,A,dest_shape):\n",
      "    A_p = inv(A)\n",
      "    in_x,in_y = shape(img)\n",
      "    out_x,out_y = dest_shape\n",
      "    out_img = np.zeros(dest_shape)\n",
      "    for x_idx in range(out_x):\n",
      "        for y_idx in range(out_y):\n",
      "            src_x,src_y = np.dot(A_p,np.array([x_idx,y_idx]))\n",
      "            if (src_x >= 0) & (src_y >= 0) & (src_x < in_x-1) & (src_y < in_y-1):\n",
      "                Q11 = img[int(src_x),int(src_y)]\n",
      "                Q12 = img[int(src_x),int(src_y)+1]\n",
      "                Q21 = img[int(src_x)+1,int(src_y)]\n",
      "                Q22 = img[int(src_x)+1,int(src_y)+1]\n",
      "                C11 = ((int(src_x)+1)-src_x) * ((int(src_y)+1)-src_y)\n",
      "                C12 = ((int(src_x)+1)-src_x) * (src_y - int(src_y))\n",
      "                C21 = (src_x - int(src_x)) * ((int(src_y)+1)-src_y)\n",
      "                C22 = (src_x - int(src_x)) * (src_y - int(src_y))\n",
      "                out_img[x_idx,y_idx] = Q11*C11 + Q12*C12 + Q21*C21 + Q22*C22\n",
      "    return out_img"
     ],
     "language": "python",
     "metadata": {},
     "outputs": [],
     "prompt_number": 4
    },
    {
     "cell_type": "code",
     "collapsed": false,
     "input": [
      "lw = custom_warp(lena,A,(512,512))\n",
      "figure();imshow(lw)"
     ],
     "language": "python",
     "metadata": {},
     "outputs": [
      {
       "metadata": {},
       "output_type": "pyout",
       "prompt_number": 5,
       "text": [
        "<matplotlib.image.AxesImage at 0x10d88b0d0>"
       ]
      }
     ],
     "prompt_number": 5
    },
    {
     "cell_type": "code",
     "collapsed": false,
     "input": [],
     "language": "python",
     "metadata": {},
     "outputs": [],
     "prompt_number": 184
    },
    {
     "cell_type": "code",
     "collapsed": false,
     "input": [
      "A_p = inv(A).astype(np.float32)\n",
      "dest_coords_img = dstack(meshgrid(range(512),range(512))).astype(np.float32)\n",
      "dest_coords_vec = dest_coords_img.reshape(-1,2)\n",
      "src_coords_vec = dot(A_p,dest_coords_vec.T).T\n",
      "src_coords_img = src_coords_vec.reshape(512,512,2)\n",
      "C11 = (src_coords_vec[:,0].astype(int)+1-src_coords_vec[:,0]) * (src_coords_vec[:,1].astype(int)+1-src_coords_vec[:,1])\n",
      "C12 = (src_coords_vec[:,0].astype(int)+1-src_coords_vec[:,0]) * (src_coords_vec[:,1] - src_coords_vec[:,1].astype(int))\n",
      "C21 = (src_coords_vec[:,0] - src_coords_vec[:,0].astype(int)) * (src_coords_vec[:,1].astype(int)+1 - src_coords_vec[:,1])\n",
      "C22 = (src_coords_vec[:,0] - src_coords_vec[:,0].astype(int)) * (src_coords_vec[:,1] - src_coords_vec[:,1].astype(int))\n",
      "src_coef = vstack((C11,C12,C21,C22)).T#.reshape(512,512,4)"
     ],
     "language": "python",
     "metadata": {},
     "outputs": [],
     "prompt_number": 6
    },
    {
     "cell_type": "code",
     "collapsed": false,
     "input": [
      "shape(src_coords_vec)"
     ],
     "language": "python",
     "metadata": {},
     "outputs": [
      {
       "metadata": {},
       "output_type": "pyout",
       "prompt_number": 7,
       "text": [
        "(262144, 2)"
       ]
      }
     ],
     "prompt_number": 7
    },
    {
     "cell_type": "code",
     "collapsed": false,
     "input": [
      "shape(src_coef)"
     ],
     "language": "python",
     "metadata": {},
     "outputs": [
      {
       "metadata": {},
       "output_type": "pyout",
       "prompt_number": 8,
       "text": [
        "(262144, 4)"
       ]
      }
     ],
     "prompt_number": 8
    },
    {
     "cell_type": "code",
     "collapsed": false,
     "input": [
      "def custom_interp(img,src_cords_img,src_coef,dest_shape):\n",
      "    in_x,in_y = shape(img)\n",
      "    out_x,out_y = dest_shape\n",
      "    out_img = np.zeros(dest_shape)\n",
      "    for x_idx in range(out_x):\n",
      "        for y_idx in range(out_y):\n",
      "            src_x,src_y = src_coords_img[x_idx,y_idx]\n",
      "            if (src_x >= 0) & (src_y >= 0) & (src_x < in_x-1) & (src_y < in_y-1):\n",
      "                Q11 = img[int(src_x),int(src_y)]\n",
      "                Q12 = img[int(src_x),int(src_y)+1]\n",
      "                Q21 = img[int(src_x)+1,int(src_y)]\n",
      "                Q22 = img[int(src_x)+1,int(src_y)+1]\n",
      "                C11 = src_coef[x_idx,y_idx][0]\n",
      "                C12 = src_coef[x_idx,y_idx][1]\n",
      "                C21 = src_coef[x_idx,y_idx][2]\n",
      "                C22 = src_coef[x_idx,y_idx][3]\n",
      "                out_img[x_idx,y_idx] = Q11*C11 + Q12*C12 + Q21*C21 + Q22*C22\n",
      "    return out_img"
     ],
     "language": "python",
     "metadata": {},
     "outputs": [],
     "prompt_number": 9
    },
    {
     "cell_type": "code",
     "collapsed": false,
     "input": [
      "lw_interp = custom_interp(lena,src_coords_img,coef,(512,512))\n",
      "figure();imshow(lw_interp.T)"
     ],
     "language": "python",
     "metadata": {},
     "outputs": [
      {
       "ename": "NameError",
       "evalue": "name 'coef' is not defined",
       "output_type": "pyerr",
       "traceback": [
        "\u001b[0;31m---------------------------------------------------------------------------\u001b[0m\n\u001b[0;31mNameError\u001b[0m                                 Traceback (most recent call last)",
        "\u001b[0;32m<ipython-input-10-37faa7d22107>\u001b[0m in \u001b[0;36m<module>\u001b[0;34m()\u001b[0m\n\u001b[0;32m----> 1\u001b[0;31m \u001b[0mlw_interp\u001b[0m \u001b[0;34m=\u001b[0m \u001b[0mcustom_interp\u001b[0m\u001b[0;34m(\u001b[0m\u001b[0mlena\u001b[0m\u001b[0;34m,\u001b[0m\u001b[0msrc_coords_img\u001b[0m\u001b[0;34m,\u001b[0m\u001b[0mcoef\u001b[0m\u001b[0;34m,\u001b[0m\u001b[0;34m(\u001b[0m\u001b[0;36m512\u001b[0m\u001b[0;34m,\u001b[0m\u001b[0;36m512\u001b[0m\u001b[0;34m)\u001b[0m\u001b[0;34m)\u001b[0m\u001b[0;34m\u001b[0m\u001b[0m\n\u001b[0m\u001b[1;32m      2\u001b[0m \u001b[0mfigure\u001b[0m\u001b[0;34m(\u001b[0m\u001b[0;34m)\u001b[0m\u001b[0;34m;\u001b[0m\u001b[0mimshow\u001b[0m\u001b[0;34m(\u001b[0m\u001b[0mlw_interp\u001b[0m\u001b[0;34m.\u001b[0m\u001b[0mT\u001b[0m\u001b[0;34m)\u001b[0m\u001b[0;34m\u001b[0m\u001b[0m\n",
        "\u001b[0;31mNameError\u001b[0m: name 'coef' is not defined"
       ]
      }
     ],
     "prompt_number": 10
    },
    {
     "cell_type": "code",
     "collapsed": false,
     "input": [
      "%pylab"
     ],
     "language": "python",
     "metadata": {},
     "outputs": [
      {
       "output_type": "stream",
       "stream": "stdout",
       "text": [
        "Using matplotlib backend: MacOSX\n",
        "Populating the interactive namespace from numpy and matplotlib\n"
       ]
      }
     ],
     "prompt_number": 1
    },
    {
     "cell_type": "code",
     "collapsed": false,
     "input": [
      "import numpy as np\n",
      "import pyopencl as cl\n",
      "import time\n",
      "pltfm = cl.get_platforms()[0]\n",
      "for p in pltfm.get_devices():\n",
      "    print p\n",
      "    \n",
      "def opencl_warp(movie,A,device_type = 'GPU'):\n",
      "    tick = time.clock()\n",
      "    A_p = inv(A).astype(np.float32)\n",
      "    dest_coords_img = dstack(meshgrid(range(512),range(512))).astype(np.float32)\n",
      "    dest_coords_vec = dest_coords_img.reshape(-1,2)\n",
      "    src_coords_vec = dot(A_p,dest_coords_vec.T).T\n",
      "    src_coords_img = src_coords_vec.reshape(512,512,2)\n",
      "    \n",
      "    \n",
      "    \n",
      "    C11 = (src_coords_vec[:,0].astype(int)+1-src_coords_vec[:,0]) * (src_coords_vec[:,1].astype(int)+1-src_coords_vec[:,1])\n",
      "    C12 = (src_coords_vec[:,0].astype(int)+1-src_coords_vec[:,0]) * (src_coords_vec[:,1] - src_coords_vec[:,1].astype(int))\n",
      "    C21 = (src_coords_vec[:,0] - src_coords_vec[:,0].astype(int)) * (src_coords_vec[:,1].astype(int)+1 - src_coords_vec[:,1])\n",
      "    C22 = (src_coords_vec[:,0] - src_coords_vec[:,0].astype(int)) * (src_coords_vec[:,1] - src_coords_vec[:,1].astype(int))\n",
      "    src_coef = vstack((C11,C12,C21,C22)).T\n",
      "    platform = cl.get_platforms()[0]\n",
      "    devices = platform.get_devices()\n",
      "    \n",
      "    gpu = devices[1]\n",
      "    cpu = devices[0]\n",
      "    \n",
      "    ctx = cl.Context(devices=devices)\n",
      "    queue1 = cl.CommandQueue(ctx,devices[1])\n",
      "\n",
      "    mf = cl.mem_flags\n",
      "    \n",
      "    #img_g =  cl.Buffer(ctx, mf.READ_ONLY | mf.COPY_HOST_PTR, hostbuf=movie.astype(int32).copy())\n",
      "    \n",
      "    #get gpu and cpu buffer size\n",
      "    gpu_frame_buffer = gpu.global_mem_size/(32*shape(movie)[0]*shape(movie)[1])\n",
      "    cpu_frame_buffer = cpu.global_mem_size/(32*shape(movie)[0]*shape(movie)[1])\n",
      "    \n",
      "    \n",
      "    img_g =  cl.tools.Buffer(ctx, mf.READ_ONLY , size = 4*gpu_frame_buffer*shape(movie)[1]*shape(movie)[2])# hostbuf=movie.astype(int32).copy())\n",
      "    src_coords_g = cl.Buffer(ctx, mf.READ_ONLY | mf.COPY_HOST_PTR, hostbuf=src_coords_vec.astype(float32).copy())\n",
      "    src_coef_g = cl.Buffer(ctx, mf.READ_ONLY | mf.COPY_HOST_PTR, hostbuf=src_coef.astype(float32).copy())\n",
      "\n",
      "    prg = cl.Program(ctx, \"\"\"\n",
      "    __kernel void custom_interp(__global int *img_g,\n",
      "                                __global float2* src_coords_g,\n",
      "                                __global float4* src_coef_g,\n",
      "                                __global int* out_img_g) {\n",
      "        int3 pos = (int3)(get_global_id(0), get_global_id(1),get_global_id(2));\n",
      "        int3 size = (int3)(get_global_size(0), get_global_size(1), get_global_size(2));\n",
      "\n",
      "        int src_y =  src_coords_g[pos.y*size.y + pos.z].x;\n",
      "        int src_z = src_coords_g[pos.y*size.y + pos.z].y;\n",
      "        \n",
      "        int framepos = pos.x*size.y*size.z;\n",
      "        int src_row = src_y*size.y;\n",
      "        int rowpos = pos.y*size.y;\n",
      "        \n",
      "        float4 Q,C;\n",
      "        if ((src_y >= 0) & (src_z >= 0) & (src_y < size.y-1) & (src_z < size.z-1))\n",
      "        {\n",
      "          Q.x = img_g[framepos + src_row + (src_z)];\n",
      "          Q.y = img_g[framepos + src_row + (src_z)+1];\n",
      "          Q.z = img_g[framepos + (src_y+1)*size.y + (src_z)];\n",
      "          Q.w = img_g[framepos + (src_y+1)*size.y + (src_z)+1];\n",
      "          \n",
      "          C.x = src_coef_g[rowpos+pos.z].x; \n",
      "          C.y = src_coef_g[rowpos+pos.z].y;\n",
      "          C.z = src_coef_g[rowpos+pos.z].z;\n",
      "          C.w = src_coef_g[rowpos+pos.z].w;\n",
      "          out_img_g[framepos + rowpos + pos.z] = dot(C,Q);\n",
      "        }\n",
      "        else{\n",
      "          out_img_g[framepos + rowpos + pos.z] = 0;\n",
      "        }\n",
      "    }\"\"\").build()\n",
      "\n",
      "    out_img_np = np.zeros(shape = (2000,shape(movie)[1],shape(movie)[2]),dtype = int32)\n",
      "    out_img_g = cl.Buffer(ctx, mf.WRITE_ONLY, gpu_frame_buffer*4*shape(movie)[1]*shape(movie)[2])\n",
      "    \n",
      "    for i in range(60):\n",
      "        #print i\n",
      "        cl.enqueue_copy(queue1, img_g, movie[:gpu_frame_buffer].astype(int32).copy())\n",
      "        prg.custom_interp(queue1, movie[:gpu_frame_buffer].shape, None,img_g, src_coords_g, src_coef_g, out_img_g)\n",
      "        cl.enqueue_copy(queue1, out_img_np[gpu_frame_buffer*i:gpu_frame_buffer*(i+1)], out_img_g)\n",
      "    \n",
      "    tock = time.clock()\n",
      "    \n",
      "    return out_img_np"
     ],
     "language": "python",
     "metadata": {},
     "outputs": [
      {
       "output_type": "stream",
       "stream": "stdout",
       "text": [
        "<pyopencl.Device 'Intel(R) Core(TM) i5-4570 CPU @ 3.20GHz' on 'Apple' at 0xffffffff>\n",
        "<pyopencl.Device 'GeForce GT 755M' on 'Apple' at 0x1022700>\n"
       ]
      }
     ],
     "prompt_number": 137
    },
    {
     "cell_type": "code",
     "collapsed": false,
     "input": [
      "import scipy.misc\n",
      "lena = scipy.misc.lena()\n",
      "movie = [randint(1,size=lena.shape)+lena for x in range(2000)]\n",
      "movie = np.array(movie)"
     ],
     "language": "python",
     "metadata": {},
     "outputs": [],
     "prompt_number": 53
    },
    {
     "cell_type": "code",
     "collapsed": false,
     "input": [
      "from pyopencl.tools import PooledBuffe"
     ],
     "language": "python",
     "metadata": {},
     "outputs": [
      {
       "ename": "ImportError",
       "evalue": "cannot import name cl_tools",
       "output_type": "pyerr",
       "traceback": [
        "\u001b[0;31m---------------------------------------------------------------------------\u001b[0m\n\u001b[0;31mImportError\u001b[0m                               Traceback (most recent call last)",
        "\u001b[0;32m<ipython-input-136-f86ae7d798f4>\u001b[0m in \u001b[0;36m<module>\u001b[0;34m()\u001b[0m\n\u001b[0;32m----> 1\u001b[0;31m \u001b[0;32mfrom\u001b[0m \u001b[0mpyopencl\u001b[0m \u001b[0;32mimport\u001b[0m \u001b[0mcl_tools\u001b[0m\u001b[0;34m\u001b[0m\u001b[0m\n\u001b[0m",
        "\u001b[0;31mImportError\u001b[0m: cannot import name cl_tools"
       ]
      }
     ],
     "prompt_number": 136
    },
    {
     "cell_type": "code",
     "collapsed": false,
     "input": [
      "A = np.array([[cos(pi/5),-sin(pi/5)],[sin(pi/5),cos(pi/5)]])\n",
      "out_img_np = opencl_warp(movie,A)\n",
      "figure();imshow(out_img_np[10],cmap = cm.gray)"
     ],
     "language": "python",
     "metadata": {},
     "outputs": [
      {
       "ename": "TypeError",
       "evalue": "__init__() takes no keyword arguments",
       "output_type": "pyerr",
       "traceback": [
        "\u001b[0;31m---------------------------------------------------------------------------\u001b[0m\n\u001b[0;31mTypeError\u001b[0m                                 Traceback (most recent call last)",
        "\u001b[0;32m<ipython-input-138-0808b9c452c3>\u001b[0m in \u001b[0;36m<module>\u001b[0;34m()\u001b[0m\n\u001b[1;32m      1\u001b[0m \u001b[0mA\u001b[0m \u001b[0;34m=\u001b[0m \u001b[0mnp\u001b[0m\u001b[0;34m.\u001b[0m\u001b[0marray\u001b[0m\u001b[0;34m(\u001b[0m\u001b[0;34m[\u001b[0m\u001b[0;34m[\u001b[0m\u001b[0mcos\u001b[0m\u001b[0;34m(\u001b[0m\u001b[0mpi\u001b[0m\u001b[0;34m/\u001b[0m\u001b[0;36m5\u001b[0m\u001b[0;34m)\u001b[0m\u001b[0;34m,\u001b[0m\u001b[0;34m-\u001b[0m\u001b[0msin\u001b[0m\u001b[0;34m(\u001b[0m\u001b[0mpi\u001b[0m\u001b[0;34m/\u001b[0m\u001b[0;36m5\u001b[0m\u001b[0;34m)\u001b[0m\u001b[0;34m]\u001b[0m\u001b[0;34m,\u001b[0m\u001b[0;34m[\u001b[0m\u001b[0msin\u001b[0m\u001b[0;34m(\u001b[0m\u001b[0mpi\u001b[0m\u001b[0;34m/\u001b[0m\u001b[0;36m5\u001b[0m\u001b[0;34m)\u001b[0m\u001b[0;34m,\u001b[0m\u001b[0mcos\u001b[0m\u001b[0;34m(\u001b[0m\u001b[0mpi\u001b[0m\u001b[0;34m/\u001b[0m\u001b[0;36m5\u001b[0m\u001b[0;34m)\u001b[0m\u001b[0;34m]\u001b[0m\u001b[0;34m]\u001b[0m\u001b[0;34m)\u001b[0m\u001b[0;34m\u001b[0m\u001b[0m\n\u001b[0;32m----> 2\u001b[0;31m \u001b[0mout_img_np\u001b[0m \u001b[0;34m=\u001b[0m \u001b[0mopencl_warp\u001b[0m\u001b[0;34m(\u001b[0m\u001b[0mmovie\u001b[0m\u001b[0;34m,\u001b[0m\u001b[0mA\u001b[0m\u001b[0;34m)\u001b[0m\u001b[0;34m\u001b[0m\u001b[0m\n\u001b[0m\u001b[1;32m      3\u001b[0m \u001b[0mfigure\u001b[0m\u001b[0;34m(\u001b[0m\u001b[0;34m)\u001b[0m\u001b[0;34m;\u001b[0m\u001b[0mimshow\u001b[0m\u001b[0;34m(\u001b[0m\u001b[0mout_img_np\u001b[0m\u001b[0;34m[\u001b[0m\u001b[0;36m10\u001b[0m\u001b[0;34m]\u001b[0m\u001b[0;34m,\u001b[0m\u001b[0mcmap\u001b[0m \u001b[0;34m=\u001b[0m \u001b[0mcm\u001b[0m\u001b[0;34m.\u001b[0m\u001b[0mgray\u001b[0m\u001b[0;34m)\u001b[0m\u001b[0;34m\u001b[0m\u001b[0m\n",
        "\u001b[0;32m<ipython-input-137-0e3389ccff6a>\u001b[0m in \u001b[0;36mopencl_warp\u001b[0;34m(movie, A, device_type)\u001b[0m\n\u001b[1;32m     39\u001b[0m \u001b[0;34m\u001b[0m\u001b[0m\n\u001b[1;32m     40\u001b[0m \u001b[0;34m\u001b[0m\u001b[0m\n\u001b[0;32m---> 41\u001b[0;31m     \u001b[0mimg_g\u001b[0m \u001b[0;34m=\u001b[0m  \u001b[0mcl\u001b[0m\u001b[0;34m.\u001b[0m\u001b[0mtools\u001b[0m\u001b[0;34m.\u001b[0m\u001b[0mPooledBuffer\u001b[0m\u001b[0;34m(\u001b[0m\u001b[0mctx\u001b[0m\u001b[0;34m,\u001b[0m \u001b[0mmf\u001b[0m\u001b[0;34m.\u001b[0m\u001b[0mREAD_ONLY\u001b[0m \u001b[0;34m,\u001b[0m \u001b[0msize\u001b[0m \u001b[0;34m=\u001b[0m \u001b[0;36m4\u001b[0m\u001b[0;34m*\u001b[0m\u001b[0mgpu_frame_buffer\u001b[0m\u001b[0;34m*\u001b[0m\u001b[0mshape\u001b[0m\u001b[0;34m(\u001b[0m\u001b[0mmovie\u001b[0m\u001b[0;34m)\u001b[0m\u001b[0;34m[\u001b[0m\u001b[0;36m1\u001b[0m\u001b[0;34m]\u001b[0m\u001b[0;34m*\u001b[0m\u001b[0mshape\u001b[0m\u001b[0;34m(\u001b[0m\u001b[0mmovie\u001b[0m\u001b[0;34m)\u001b[0m\u001b[0;34m[\u001b[0m\u001b[0;36m2\u001b[0m\u001b[0;34m]\u001b[0m\u001b[0;34m)\u001b[0m\u001b[0;31m# hostbuf=movie.astype(int32).copy())\u001b[0m\u001b[0;34m\u001b[0m\u001b[0m\n\u001b[0m\u001b[1;32m     42\u001b[0m     \u001b[0msrc_coords_g\u001b[0m \u001b[0;34m=\u001b[0m \u001b[0mcl\u001b[0m\u001b[0;34m.\u001b[0m\u001b[0mBuffer\u001b[0m\u001b[0;34m(\u001b[0m\u001b[0mctx\u001b[0m\u001b[0;34m,\u001b[0m \u001b[0mmf\u001b[0m\u001b[0;34m.\u001b[0m\u001b[0mREAD_ONLY\u001b[0m \u001b[0;34m|\u001b[0m \u001b[0mmf\u001b[0m\u001b[0;34m.\u001b[0m\u001b[0mCOPY_HOST_PTR\u001b[0m\u001b[0;34m,\u001b[0m \u001b[0mhostbuf\u001b[0m\u001b[0;34m=\u001b[0m\u001b[0msrc_coords_vec\u001b[0m\u001b[0;34m.\u001b[0m\u001b[0mastype\u001b[0m\u001b[0;34m(\u001b[0m\u001b[0mfloat32\u001b[0m\u001b[0;34m)\u001b[0m\u001b[0;34m.\u001b[0m\u001b[0mcopy\u001b[0m\u001b[0;34m(\u001b[0m\u001b[0;34m)\u001b[0m\u001b[0;34m)\u001b[0m\u001b[0;34m\u001b[0m\u001b[0m\n\u001b[1;32m     43\u001b[0m     \u001b[0msrc_coef_g\u001b[0m \u001b[0;34m=\u001b[0m \u001b[0mcl\u001b[0m\u001b[0;34m.\u001b[0m\u001b[0mBuffer\u001b[0m\u001b[0;34m(\u001b[0m\u001b[0mctx\u001b[0m\u001b[0;34m,\u001b[0m \u001b[0mmf\u001b[0m\u001b[0;34m.\u001b[0m\u001b[0mREAD_ONLY\u001b[0m \u001b[0;34m|\u001b[0m \u001b[0mmf\u001b[0m\u001b[0;34m.\u001b[0m\u001b[0mCOPY_HOST_PTR\u001b[0m\u001b[0;34m,\u001b[0m \u001b[0mhostbuf\u001b[0m\u001b[0;34m=\u001b[0m\u001b[0msrc_coef\u001b[0m\u001b[0;34m.\u001b[0m\u001b[0mastype\u001b[0m\u001b[0;34m(\u001b[0m\u001b[0mfloat32\u001b[0m\u001b[0;34m)\u001b[0m\u001b[0;34m.\u001b[0m\u001b[0mcopy\u001b[0m\u001b[0;34m(\u001b[0m\u001b[0;34m)\u001b[0m\u001b[0;34m)\u001b[0m\u001b[0;34m\u001b[0m\u001b[0m\n",
        "\u001b[0;31mTypeError\u001b[0m: __init__() takes no keyword arguments"
       ]
      }
     ],
     "prompt_number": 138
    },
    {
     "cell_type": "code",
     "collapsed": false,
     "input": [
      "plot(out_img_np[:,0,0])"
     ],
     "language": "python",
     "metadata": {},
     "outputs": [
      {
       "metadata": {},
       "output_type": "pyout",
       "prompt_number": 132,
       "text": [
        "[<matplotlib.lines.Line2D at 0x1131624d0>]"
       ]
      }
     ],
     "prompt_number": 132
    },
    {
     "cell_type": "code",
     "collapsed": false,
     "input": [
      "A = np.array([[cos(pi/5),-sin(pi/5)],[sin(pi/5),cos(pi/5)]])\n",
      "out_img_np = opencl_warp(movie[:500],A,device_type = 'GPU')\n",
      "figure();imshow(out_img_np[10])"
     ],
     "language": "python",
     "metadata": {},
     "outputs": [
      {
       "output_type": "stream",
       "stream": "stdout",
       "text": [
        "2.363396\n"
       ]
      },
      {
       "metadata": {},
       "output_type": "pyout",
       "prompt_number": 12,
       "text": [
        "<matplotlib.image.AxesImage at 0x110ca19d0>"
       ]
      }
     ],
     "prompt_number": 12
    },
    {
     "cell_type": "code",
     "collapsed": false,
     "input": [
      "plat = cl.get_platforms()[0]"
     ],
     "language": "python",
     "metadata": {},
     "outputs": [],
     "prompt_number": 34
    },
    {
     "cell_type": "code",
     "collapsed": false,
     "input": [
      "devs = plat.get_devices()"
     ],
     "language": "python",
     "metadata": {},
     "outputs": [],
     "prompt_number": 35
    },
    {
     "cell_type": "code",
     "collapsed": false,
     "input": [
      "gpu = devs[1]\n",
      "cpu = devs[0]"
     ],
     "language": "python",
     "metadata": {},
     "outputs": [],
     "prompt_number": 51
    },
    {
     "cell_type": "code",
     "collapsed": false,
     "input": [
      "nframes = gpu.global_mem_size/(32*shape(movie)[0]*shape(movie)[1])"
     ],
     "language": "python",
     "metadata": {},
     "outputs": [],
     "prompt_number": 47
    },
    {
     "cell_type": "code",
     "collapsed": false,
     "input": [
      "nframes*(32*shape(movie)[0]*shape(movie)[1])"
     ],
     "language": "python",
     "metadata": {},
     "outputs": [
      {
       "metadata": {},
       "output_type": "pyout",
       "prompt_number": 48,
       "text": [
        "8585216000L"
       ]
      }
     ],
     "prompt_number": 48
    },
    {
     "cell_type": "code",
     "collapsed": false,
     "input": [
      "gpu.global_mem_size/(1000*1000)"
     ],
     "language": "python",
     "metadata": {},
     "outputs": [
      {
       "metadata": {},
       "output_type": "pyout",
       "prompt_number": 126,
       "text": [
        "1073L"
       ]
      }
     ],
     "prompt_number": 126
    },
    {
     "cell_type": "code",
     "collapsed": false,
     "input": [
      "tick = time.clock()\n",
      "for frame in movie:\n",
      "    affine_transform(frame,A)\n",
      "tock = time.clock()\n",
      "print tock-tick"
     ],
     "language": "python",
     "metadata": {},
     "outputs": [
      {
       "output_type": "stream",
       "stream": "stdout",
       "text": [
        "13.669877\n"
       ]
      }
     ],
     "prompt_number": 132
    },
    {
     "cell_type": "code",
     "collapsed": false,
     "input": [
      "0.212147/0.10501"
     ],
     "language": "python",
     "metadata": {},
     "outputs": [
      {
       "metadata": {},
       "output_type": "pyout",
       "prompt_number": 71,
       "text": [
        "2.020255213789163"
       ]
      }
     ],
     "prompt_number": 71
    },
    {
     "cell_type": "code",
     "collapsed": false,
     "input": [
      "3.312497/0.66415 "
     ],
     "language": "python",
     "metadata": {},
     "outputs": [
      {
       "metadata": {},
       "output_type": "pyout",
       "prompt_number": 87,
       "text": [
        "4.987573590303395"
       ]
      }
     ],
     "prompt_number": 87
    },
    {
     "cell_type": "code",
     "collapsed": false,
     "input": [
      "0.550662"
     ],
     "language": "python",
     "metadata": {},
     "outputs": [],
     "prompt_number": 85
    },
    {
     "cell_type": "code",
     "collapsed": false,
     "input": [
      "          int Q11 = img_g[pos.x*size.y*size.z + src_y*size.y + (src_z)];\n",
      "          int Q12 = img_g[pos.x*size.y*size.z + src_y*size.y + (src_z)+1];\n",
      "          int Q21 = img_g[pos.x*size.y*size.z + (src_y+1)*size.y + (src_z)];\n",
      "          int Q22 = img_g[pos.x*size.y*size.z + (src_y+1)*size.y + (src_z)+1];\n",
      "            \n",
      "          float C11 = src_coef_g[(pos.y*size.y)+pos.z].x; \n",
      "          float C12 = src_coef_g[(pos.y*size.y)+pos.z].y;\n",
      "          float C21 = src_coef_g[(pos.y*size.y)+pos.z].z;\n",
      "          float C22 = src_coef_g[(pos.y*size.y)+pos.z].w;\n",
      "          out_img_g[pos.x*size.y*size.z + pos.y*size.y + pos.z] = Q11*C11 + Q12*C12 + Q21*C21 + Q22*C22;\n",
      "\n"
     ],
     "language": "python",
     "metadata": {},
     "outputs": [],
     "prompt_number": 85
    },
    {
     "cell_type": "code",
     "collapsed": false,
     "input": [
      "          Q.x = img_g[pos.x*size.y*size.z + src_y*size.y + (src_z)];\n",
      "          Q.y = img_g[pos.x*size.y*size.z + src_y*size.y + (src_z)+1];\n",
      "          Q.z = img_g[pos.x*size.y*size.z + (src_y+1)*size.y + (src_z)];\n",
      "          Q.w = img_g[pos.x*size.y*size.z + (src_y+1)*size.y + (src_z)+1];\n",
      "          \n",
      "          C.x = src_coef_g[(pos.y*size.y)+pos.z].x; \n",
      "          C.y = src_coef_g[(pos.y*size.y)+pos.z].y;\n",
      "          C.z = src_coef_g[(pos.y*size.y)+pos.z].z;\n",
      "          C.w = src_coef_g[(pos.y*size.y)+pos.z].w;\n",
      "          out_img_g[pos.x*size.y*size.z + pos.y*size.y + pos.z] = dot(C,Q);"
     ],
     "language": "python",
     "metadata": {},
     "outputs": []
    }
   ],
   "metadata": {}
  }
 ]
}