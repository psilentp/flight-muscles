{
 "metadata": {
  "name": "",
  "signature": "sha256:b2dc6838fc5800eb102833eebbdb7a105dddf03aafabfad3339fdccfd54a017f"
 },
 "nbformat": 3,
 "nbformat_minor": 0,
 "worksheets": [
  {
   "cells": [
    {
     "cell_type": "code",
     "collapsed": false,
     "input": [
      "%pylab"
     ],
     "language": "python",
     "metadata": {},
     "outputs": [
      {
       "output_type": "stream",
       "stream": "stdout",
       "text": [
        "Using matplotlib backend: MacOSX\n",
        "Populating the interactive namespace from numpy and matplotlib\n"
       ]
      }
     ],
     "prompt_number": 4
    },
    {
     "cell_type": "code",
     "collapsed": false,
     "input": [
      "class Basis(dict):    \n",
      "    def __setitem__(self,key,item):\n",
      "        \"\"\"overload the __setitem__ method of dict so the transform and inverse\n",
      "         transform matrices are computed when the basis vectors are changed\"\"\"\n",
      "        try:\n",
      "            if key in ['a1','a2']:\n",
      "                dict.__setitem__(self,key,item)\n",
      "                A = np.vstack((self['a1'],self['a2'])).T\n",
      "                A_inv = np.linalg.inv(A)\n",
      "                self['A'] = A\n",
      "                self['A_inv'] = A_inv\n",
      "            else:\n",
      "                dict.__setitem__(self,key,item)\n",
      "        except KeyError:\n",
      "            dict.__setitem__(self,key,item)\n",
      "                \n",
      "        \n",
      "class GeometricModel(object):   \n",
      "    def __init__(self,lines,basis):\n",
      "        self.lines = lines\n",
      "        self.basis = basis\n",
      "        ## put lines in barycentric coords\n",
      "        self.barycentric = dict()\n",
      "        for key in self.lines.keys():\n",
      "            coords = dot(self.basis['A_inv'],(self.lines[key]-self.basis['p'][:,newaxis])) \n",
      "            self.barycentric[key] = coords.T\n",
      "            \n",
      "    def coords_from_basis(self,basis):\n",
      "        ret = dict()\n",
      "        for key in self.barycentric.keys():\n",
      "            coords = np.dot(basis['A'],(self.barycentric[key]).T)+basis['p'][:,newaxis]\n",
      "            ret[key] = coords\n",
      "        return(ret)\n",
      "\n",
      "class ModelView(object):\n",
      "    def __init__(self,model):\n",
      "        self.model = model\n",
      "        \n",
      "    def plot(self,basis,**kwargs):\n",
      "        lines = self.model.coords_from_basis(basis)\n",
      "        plot_args = {}\n",
      "        plot_args['plot_frame'] = kwargs.pop('plot_frame',True)\n",
      "        plot_args['frame_head_width'] = kwargs.pop('frame_head_width',20)\n",
      "        plot_args['contour_color'] = kwargs.pop('contour_color','w')\n",
      "        \n",
      "        kwargs['color'] = plot_args['contour_color']\n",
      "        for line in lines.values():\n",
      "            plot(line[0,:],line[1,:], **kwargs)\n",
      "        if plot_args['plot_frame']:\n",
      "            p = basis['p']\n",
      "            a1 = basis['a1']\n",
      "            a2 = basis['a2']\n",
      "            kwargs['color'] = 'g'\n",
      "            kwargs['head_width'] = plot_args['frame_head_width']\n",
      "            arrow(p[0],p[1],a1[0],a1[1],**kwargs)\n",
      "            kwargs['color'] = 'b'\n",
      "            kwargs['head_width'] = plot_args['frame_head_width']\n",
      "            arrow(p[0],p[1],a2[0],a2[1],**kwargs)"
     ],
     "language": "python",
     "metadata": {},
     "outputs": [],
     "prompt_number": 1
    },
    {
     "cell_type": "code",
     "collapsed": false,
     "input": [
      "###add position of large setae \n",
      "model_data['e1'] = array([[ 170.02788104,  326.71685254],\n",
      "                             [ 380.98203222,  919.92627014]])\n",
      "model_data['e2'] = array([[ 172.83333333,  332.83333333],\n",
      "                          [ 551.5       ,  164.83333333]])\n",
      "e1 = model_data['e1']\n",
      "e2 = model_data['e2']\n",
      "muscles = dict()\n",
      "\n",
      "for key in model_data.keys():\n",
      "    if not(key in ['e1','e2']):\n",
      "        muscles[key] = model_data[key]\n",
      "        \n",
      "confocal_basis = Basis()\n",
      "confocal_basis['a1'] = e2[1]-e2[0]\n",
      "confocal_basis['a2'] = e1[1]-e2[0]\n",
      "confocal_basis['p'] = e2[0]"
     ],
     "language": "python",
     "metadata": {},
     "outputs": [
      {
       "ename": "NameError",
       "evalue": "name 'model_data' is not defined",
       "output_type": "pyerr",
       "traceback": [
        "\u001b[0;31m---------------------------------------------------------------------------\u001b[0m\n\u001b[0;31mNameError\u001b[0m                                 Traceback (most recent call last)",
        "\u001b[0;32m<ipython-input-5-d6e6471283c4>\u001b[0m in \u001b[0;36m<module>\u001b[0;34m()\u001b[0m\n\u001b[1;32m      1\u001b[0m \u001b[0;31m###add position of large setae\u001b[0m\u001b[0;34m\u001b[0m\u001b[0;34m\u001b[0m\u001b[0m\n\u001b[1;32m      2\u001b[0m model_data['e1'] = array([[ 170.02788104,  326.71685254],\n\u001b[0;32m----> 3\u001b[0;31m                              [ 380.98203222,  919.92627014]])\n\u001b[0m\u001b[1;32m      4\u001b[0m model_data['e2'] = array([[ 172.83333333,  332.83333333],\n\u001b[1;32m      5\u001b[0m                           [ 551.5       ,  164.83333333]])\n",
        "\u001b[0;31mNameError\u001b[0m: name 'model_data' is not defined"
       ]
      }
     ],
     "prompt_number": 5
    },
    {
     "cell_type": "code",
     "collapsed": false,
     "input": [],
     "language": "python",
     "metadata": {},
     "outputs": []
    },
    {
     "cell_type": "code",
     "collapsed": false,
     "input": [
      "#this block will load the metadata and warp the images/movies into a common reference frame.\n",
      "swarm_dict = {'U56_X_J133':U56_X_J133, \n",
      "              'U82_X_J18':U82_X_J18, \n",
      "              'U82_X_J100':U82_X_J100, \n",
      "              'U82_X_J22':U82_X_J22,  \n",
      "              'U82_X_J23':U82_X_J23,\n",
      "              'U82_X_J121':U82_X_J121}\n",
      "\n",
      "testfly = swarm_dict['U56_X_J133'].flies[0]\n",
      "\n",
      "def warp_fly_movie(fly):\n",
      "    fname = fly.fly_path + 'meta_data.cpkl'\n",
      "    f = open(fname,'rb');data = cPickle.load(f);f.close()\n",
      "    pkname = fly.fly_path + '/basis_fits.cpkl'\n",
      "    f = open(pkname);img_data = cPickle.load(f);f.close()\n",
      "    test_basis = Basis()\n",
      "    #print data.keys()\n",
      "    for key in ['A','p','a1','a2']:\n",
      "        test_basis[key] = img_data[key]\n",
      "    src_p0 = test_basis['a1'] + test_basis['p']\n",
      "    src_p1 = test_basis['p']\n",
      "    src_p2 = test_basis['a2'] + test_basis['p']\n",
      "    dst_p0 = confocal_basis['a1'] + confocal_basis['p']\n",
      "    dst_p1 = confocal_basis['p']\n",
      "    dst_p2 = confocal_basis['a2'] + confocal_basis['p']\n",
      "    A = cv2.getAffineTransform(np.float32([src_p0,src_p1,src_p2]),np.float32([dst_p0,dst_p1,dst_p2]))\n",
      "    #compose back to Ca image size\n",
      "    A = vstack((A,[0,0,1]))\n",
      "    S = np.array([[0.25,0,0],[0,0.25,0],[0,0,1]])\n",
      "    Ap = dot(S,A)[:2,:3]\n",
      "    testmovie = np.array(testfly.fly_record['experiments'].values()[0]['tiff_data']['images'])\n",
      "    X_warped = [cv2.warpAffine(testmovie[frame].T,Ap,(256,256)).ravel() for frame in range(5000)]\n",
      "    X_warped = np.array(X_warped)\n",
      "    import h5py\n",
      "    f = h5py.File(fly.fly_path + \"warped_imgs.hdf5\", \"w\")\n",
      "    f.create_group(\"warped_imgs\")\n",
      "    f['warped_imgs'] = X_warped\n",
      "    f.flush()\n",
      "    f.close()"
     ],
     "language": "python",
     "metadata": {},
     "outputs": []
    }
   ],
   "metadata": {}
  }
 ]
}