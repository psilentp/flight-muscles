{
 "metadata": {
  "name": "",
  "signature": "sha256:1cc776607d648a2eb8f80b274fc057de130d5a993fb3945a5a5864ee2cd45247"
 },
 "nbformat": 3,
 "nbformat_minor": 0,
 "worksheets": [
  {
   "cells": [
    {
     "cell_type": "code",
     "collapsed": false,
     "input": [
      "%pylab"
     ],
     "language": "python",
     "metadata": {},
     "outputs": [
      {
       "output_type": "stream",
       "stream": "stdout",
       "text": [
        "Using matplotlib backend: WXAgg\n",
        "Populating the interactive namespace from numpy and matplotlib\n"
       ]
      }
     ],
     "prompt_number": 1
    },
    {
     "cell_type": "code",
     "collapsed": false,
     "input": [
      "class Basis(dict):    \n",
      "    def __setitem__(self,key,item):\n",
      "        \"\"\"overload the __setitem__ method of dict so the transform and inverse\n",
      "         transform matrices are computed when the basis vectors are changed\"\"\"\n",
      "        try:\n",
      "            if key in ['a1','a2']:\n",
      "                dict.__setitem__(self,key,item)\n",
      "                A = np.vstack((self['a1'],self['a2'])).T\n",
      "                A_inv = np.linalg.inv(A)\n",
      "                self['A'] = A\n",
      "                self['A_inv'] = A_inv\n",
      "            else:\n",
      "                dict.__setitem__(self,key,item)\n",
      "        except KeyError:\n",
      "            dict.__setitem__(self,key,item)\n",
      "                \n",
      "        \n",
      "class GeometricModel(object):   \n",
      "    def __init__(self,lines,basis):\n",
      "        self.lines = lines\n",
      "        self.basis = basis\n",
      "        ## put lines in barycentric coords\n",
      "        self.barycentric = dict()\n",
      "        for key in self.lines.keys():\n",
      "            coords = dot(self.basis['A_inv'],(self.lines[key]-self.basis['p'][:,newaxis])) \n",
      "            self.barycentric[key] = coords.T\n",
      "            \n",
      "    def coords_from_basis(self,basis):\n",
      "        ret = dict()\n",
      "        for key in self.barycentric.keys():\n",
      "            coords = np.dot(basis['A'],(self.barycentric[key]).T)+basis['p'][:,newaxis]\n",
      "            ret[key] = coords\n",
      "        return(ret)\n",
      "\n",
      "class ModelView(object):\n",
      "    def __init__(self,model):\n",
      "        self.model = model\n",
      "        \n",
      "    def plot(self,basis,**kwargs):\n",
      "        lines = self.model.coords_from_basis(basis)\n",
      "        plot_args = {}\n",
      "        plot_args['plot_frame'] = kwargs.pop('plot_frame',True)\n",
      "        plot_args['frame_head_width'] = kwargs.pop('frame_head_width',20)\n",
      "        plot_args['contour_color'] = kwargs.pop('contour_color','w')\n",
      "        \n",
      "        kwargs['color'] = plot_args['contour_color']\n",
      "        for line in lines.values():\n",
      "            plot(line[0,:],line[1,:], **kwargs)\n",
      "        if plot_args['plot_frame']:\n",
      "            p = basis['p']\n",
      "            a1 = basis['a1']\n",
      "            a2 = basis['a2']\n",
      "            kwargs['color'] = 'g'\n",
      "            kwargs['head_width'] = plot_args['frame_head_width']\n",
      "            arrow(p[0],p[1],a1[0],a1[1],**kwargs)\n",
      "            kwargs['color'] = 'b'\n",
      "            kwargs['head_width'] = plot_args['frame_head_width']\n",
      "            arrow(p[0],p[1],a2[0],a2[1],**kwargs)"
     ],
     "language": "python",
     "metadata": {},
     "outputs": [],
     "prompt_number": 2
    },
    {
     "cell_type": "code",
     "collapsed": false,
     "input": [
      "###add position of large setae \n",
      "import cPickle as cpkl\n",
      "f = open('model_data.cpkl','rb')\n",
      "model_data = cpkl.load(f)\n",
      "f.close()\n",
      "model_data['e1'] = array([[ 170.02788104,  326.71685254],\n",
      "                             [ 380.98203222,  919.92627014]])\n",
      "model_data['e2'] = array([[ 172.83333333,  332.83333333],\n",
      "                          [ 551.5       ,  164.83333333]])\n",
      "e1 = model_data['e1']\n",
      "e2 = model_data['e2']\n",
      "muscles = dict()\n",
      "\n",
      "for key in model_data.keys():\n",
      "    if not(key in ['e1','e2']):\n",
      "        muscles[key] = model_data[key]\n",
      "        \n",
      "confocal_basis = Basis()\n",
      "confocal_basis['a1'] = e2[1]-e2[0]\n",
      "confocal_basis['a2'] = e1[1]-e2[0]\n",
      "confocal_basis['p'] = e2[0]"
     ],
     "language": "python",
     "metadata": {},
     "outputs": [],
     "prompt_number": 5
    },
    {
     "cell_type": "code",
     "collapsed": false,
     "input": [],
     "language": "python",
     "metadata": {},
     "outputs": []
    },
    {
     "cell_type": "code",
     "collapsed": false,
     "input": [
      "#this block will load the metadata and warp the images/movies into a common reference frame.\n",
      "def warp_fly_movie(fly):\n",
      "    fname = fly.fly_path + 'meta_data.cpkl'\n",
      "    f = open(fname,'rb');data = cPickle.load(f);f.close()\n",
      "    pkname = fly.fly_path + '/basis_fits.cpkl'\n",
      "    f = open(pkname);img_data = cPickle.load(f);f.close()\n",
      "    test_basis = Basis()\n",
      "    #print data.keys()\n",
      "    for key in ['A','p','a1','a2']:\n",
      "        test_basis[key] = img_data[key]\n",
      "    src_p0 = test_basis['a1'] + test_basis['p']\n",
      "    src_p1 = test_basis['p']\n",
      "    src_p2 = test_basis['a2'] + test_basis['p']\n",
      "    dst_p0 = confocal_basis['a1'] + confocal_basis['p']\n",
      "    dst_p1 = confocal_basis['p']\n",
      "    dst_p2 = confocal_basis['a2'] + confocal_basis['p']\n",
      "    A = cv2.getAffineTransform(np.float32([src_p0,src_p1,src_p2]),np.float32([dst_p0,dst_p1,dst_p2]))\n",
      "    #compose back to Ca image size\n",
      "    A = vstack((A,[0,0,1]))\n",
      "    S = np.array([[0.25,0,0],[0,0.25,0],[0,0,1]])\n",
      "    Ap = dot(S,A)[:2,:3]\n",
      "    testmovie = np.array(testfly.fly_record['experiments'].values()[0]['tiff_data']['images'])\n",
      "    X_warped = [cv2.warpAffine(testmovie[frame].T,Ap,(256,256)).ravel() for frame in range(5000)]\n",
      "    X_warped = np.array(X_warped)\n",
      "    import h5py\n",
      "    f = h5py.File(fly.fly_path + \"warped_imgs.hdf5\", \"w\")\n",
      "    f.create_group(\"warped_imgs\")\n",
      "    f['warped_imgs'] = X_warped\n",
      "    f.flush()\n",
      "    f.close()"
     ],
     "language": "python",
     "metadata": {},
     "outputs": [],
     "prompt_number": 6
    },
    {
     "cell_type": "code",
     "collapsed": false,
     "input": [],
     "language": "python",
     "metadata": {},
     "outputs": [],
     "prompt_number": 7
    },
    {
     "cell_type": "code",
     "collapsed": false,
     "input": [],
     "language": "python",
     "metadata": {},
     "outputs": [],
     "prompt_number": 10
    },
    {
     "cell_type": "code",
     "collapsed": false,
     "input": [
      "fly = swarm.flies[0]"
     ],
     "language": "python",
     "metadata": {},
     "outputs": [],
     "prompt_number": 12
    },
    {
     "cell_type": "code",
     "collapsed": false,
     "input": [
      "warp_fly_movie(fly)"
     ],
     "language": "python",
     "metadata": {},
     "outputs": [
      {
       "ename": "IOError",
       "evalue": "[Errno 2] No such file or directory: '/media/FlyDataB/FlyDB/Fly0297/meta_data.cpkl'",
       "output_type": "pyerr",
       "traceback": [
        "\u001b[1;31m---------------------------------------------------------------------------\u001b[0m\n\u001b[1;31mIOError\u001b[0m                                   Traceback (most recent call last)",
        "\u001b[1;32m<ipython-input-13-045374088576>\u001b[0m in \u001b[0;36m<module>\u001b[1;34m()\u001b[0m\n\u001b[1;32m----> 1\u001b[1;33m \u001b[0mwarp_fly_movie\u001b[0m\u001b[1;33m(\u001b[0m\u001b[0mfly\u001b[0m\u001b[1;33m)\u001b[0m\u001b[1;33m\u001b[0m\u001b[0m\n\u001b[0m",
        "\u001b[1;32m<ipython-input-6-8038290affbf>\u001b[0m in \u001b[0;36mwarp_fly_movie\u001b[1;34m(fly)\u001b[0m\n\u001b[0;32m      2\u001b[0m \u001b[1;32mdef\u001b[0m \u001b[0mwarp_fly_movie\u001b[0m\u001b[1;33m(\u001b[0m\u001b[0mfly\u001b[0m\u001b[1;33m)\u001b[0m\u001b[1;33m:\u001b[0m\u001b[1;33m\u001b[0m\u001b[0m\n\u001b[0;32m      3\u001b[0m     \u001b[0mfname\u001b[0m \u001b[1;33m=\u001b[0m \u001b[0mfly\u001b[0m\u001b[1;33m.\u001b[0m\u001b[0mfly_path\u001b[0m \u001b[1;33m+\u001b[0m \u001b[1;34m'meta_data.cpkl'\u001b[0m\u001b[1;33m\u001b[0m\u001b[0m\n\u001b[1;32m----> 4\u001b[1;33m     \u001b[0mf\u001b[0m \u001b[1;33m=\u001b[0m \u001b[0mopen\u001b[0m\u001b[1;33m(\u001b[0m\u001b[0mfname\u001b[0m\u001b[1;33m,\u001b[0m\u001b[1;34m'rb'\u001b[0m\u001b[1;33m)\u001b[0m\u001b[1;33m;\u001b[0m\u001b[0mdata\u001b[0m \u001b[1;33m=\u001b[0m \u001b[0mcPickle\u001b[0m\u001b[1;33m.\u001b[0m\u001b[0mload\u001b[0m\u001b[1;33m(\u001b[0m\u001b[0mf\u001b[0m\u001b[1;33m)\u001b[0m\u001b[1;33m;\u001b[0m\u001b[0mf\u001b[0m\u001b[1;33m.\u001b[0m\u001b[0mclose\u001b[0m\u001b[1;33m(\u001b[0m\u001b[1;33m)\u001b[0m\u001b[1;33m\u001b[0m\u001b[0m\n\u001b[0m\u001b[0;32m      5\u001b[0m     \u001b[0mpkname\u001b[0m \u001b[1;33m=\u001b[0m \u001b[0mfly\u001b[0m\u001b[1;33m.\u001b[0m\u001b[0mfly_path\u001b[0m \u001b[1;33m+\u001b[0m \u001b[1;34m'/basis_fits.cpkl'\u001b[0m\u001b[1;33m\u001b[0m\u001b[0m\n\u001b[0;32m      6\u001b[0m     \u001b[0mf\u001b[0m \u001b[1;33m=\u001b[0m \u001b[0mopen\u001b[0m\u001b[1;33m(\u001b[0m\u001b[0mpkname\u001b[0m\u001b[1;33m)\u001b[0m\u001b[1;33m;\u001b[0m\u001b[0mimg_data\u001b[0m \u001b[1;33m=\u001b[0m \u001b[0mcPickle\u001b[0m\u001b[1;33m.\u001b[0m\u001b[0mload\u001b[0m\u001b[1;33m(\u001b[0m\u001b[0mf\u001b[0m\u001b[1;33m)\u001b[0m\u001b[1;33m;\u001b[0m\u001b[0mf\u001b[0m\u001b[1;33m.\u001b[0m\u001b[0mclose\u001b[0m\u001b[1;33m(\u001b[0m\u001b[1;33m)\u001b[0m\u001b[1;33m\u001b[0m\u001b[0m\n",
        "\u001b[1;31mIOError\u001b[0m: [Errno 2] No such file or directory: '/media/FlyDataB/FlyDB/Fly0297/meta_data.cpkl'"
       ]
      }
     ],
     "prompt_number": 13
    },
    {
     "cell_type": "code",
     "collapsed": false,
     "input": [],
     "language": "python",
     "metadata": {},
     "outputs": []
    }
   ],
   "metadata": {}
  }
 ]
}