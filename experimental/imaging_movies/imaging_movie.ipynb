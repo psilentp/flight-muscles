{
 "cells": [
  {
   "cell_type": "code",
   "execution_count": 1,
   "metadata": {
    "collapsed": false
   },
   "outputs": [
    {
     "data": {
      "text/plain": [
       "<module 'db_access' from '/media/analysis-code/flight-muscles/src/db_access.pyc'>"
      ]
     },
     "execution_count": 1,
     "metadata": {},
     "output_type": "execute_result"
    }
   ],
   "source": [
    "import neo\n",
    "import quantities as pq\n",
    "import flylib\n",
    "import db_access as dba\n",
    "reload(dba)"
   ]
  },
  {
   "cell_type": "code",
   "execution_count": 2,
   "metadata": {
    "collapsed": false
   },
   "outputs": [],
   "source": [
    "#starfield1_group = [151,153,154,155,156,157,158,159,160,161,162,163,165,166,167,168,169]\n",
    "sin_yaw_group = [225,226,227,228,229,230,231]"
   ]
  },
  {
   "cell_type": "code",
   "execution_count": 3,
   "metadata": {
    "collapsed": false
   },
   "outputs": [],
   "source": [
    "fly_db = dba.get_db()\n",
    "swarm = flylib.Squadron(fly_db,sin_yaw_group)"
   ]
  },
  {
   "cell_type": "code",
   "execution_count": 4,
   "metadata": {
    "collapsed": false
   },
   "outputs": [],
   "source": [
    "keylist = ['b1', 'b2', 'b3', 'i1', 'i2', 'iii1', 'iii234','hg1', 'hg234' ]"
   ]
  },
  {
   "cell_type": "code",
   "execution_count": 5,
   "metadata": {
    "collapsed": false
   },
   "outputs": [],
   "source": [
    "import cPickle\n",
    "flynum = 231\n",
    "idx = squeeze(argwhere(array(sin_yaw_group) == 231))\n",
    "fly = swarm.flies[idx]\n",
    "expmnt = fly.experiments.values()[0]\n",
    "f = open(expmnt.fly_path + expmnt.experiment_name + '_roi.cpkl')\n",
    "roi_data = cPickle.load(f)\n",
    "f.close()"
   ]
  },
  {
   "cell_type": "code",
   "execution_count": 6,
   "metadata": {
    "collapsed": false
   },
   "outputs": [
    {
     "ename": "NameError",
     "evalue": "name 'sta' is not defined",
     "output_type": "error",
     "traceback": [
      "\u001b[1;31m---------------------------------------------------------------------------\u001b[0m\n\u001b[1;31mNameError\u001b[0m                                 Traceback (most recent call last)",
      "\u001b[1;32m<ipython-input-6-4717d035473a>\u001b[0m in \u001b[0;36m<module>\u001b[1;34m()\u001b[0m\n\u001b[1;32m----> 1\u001b[1;33m \u001b[0mxpos\u001b[0m \u001b[1;33m=\u001b[0m \u001b[0mnp\u001b[0m\u001b[1;33m.\u001b[0m\u001b[0marray\u001b[0m\u001b[1;33m(\u001b[0m\u001b[0mexpmnt\u001b[0m\u001b[1;33m.\u001b[0m\u001b[0mexp_record\u001b[0m\u001b[1;33m[\u001b[0m\u001b[1;34m'tiff_data'\u001b[0m\u001b[1;33m]\u001b[0m\u001b[1;33m[\u001b[0m\u001b[1;34m'axon_framebase'\u001b[0m\u001b[1;33m]\u001b[0m\u001b[1;33m[\u001b[0m\u001b[1;34m'Xpos'\u001b[0m\u001b[1;33m]\u001b[0m\u001b[1;33m)\u001b[0m\u001b[1;33m[\u001b[0m\u001b[0msta\u001b[0m\u001b[1;33m:\u001b[0m\u001b[0mstp\u001b[0m\u001b[1;33m]\u001b[0m\u001b[1;33m*\u001b[0m\u001b[1;36m2\u001b[0m\u001b[1;33m*\u001b[0m\u001b[0mpi\u001b[0m\u001b[1;33m/\u001b[0m\u001b[1;36m10\u001b[0m\u001b[1;33m\u001b[0m\u001b[0m\n\u001b[0m\u001b[0;32m      2\u001b[0m \u001b[0mplot\u001b[0m\u001b[1;33m(\u001b[0m\u001b[0mroi_data\u001b[0m\u001b[1;33m[\u001b[0m\u001b[1;34m'b2'\u001b[0m\u001b[1;33m]\u001b[0m\u001b[1;33m)\u001b[0m\u001b[1;33m\u001b[0m\u001b[0m\n",
      "\u001b[1;31mNameError\u001b[0m: name 'sta' is not defined"
     ]
    }
   ],
   "source": [
    "xpos = np.array(expmnt.exp_record['tiff_data']['axon_framebase']['Xpos'])[sta:stp]*2*pi/10\n",
    "plot(roi_data['b2'])"
   ]
  },
  {
   "cell_type": "code",
   "execution_count": 7,
   "metadata": {
    "collapsed": false
   },
   "outputs": [],
   "source": [
    "sta,stp = (-8000,-1)\n",
    "#sta,stp = (2000,5000)\n",
    "xpos = np.array(expmnt.exp_record['tiff_data']['axon_framebase']['Xpos'])[sta:stp]*2*pi/10\n",
    "lwing_angles = np.array(expmnt.exp_record['tiff_data']['axon_framebase']['Ph0'])[sta:stp]/5\n",
    "rwing_angles = np.array(expmnt.exp_record['tiff_data']['axon_framebase']['Ph1'])[sta:stp]/5\n",
    "lmr_angles = np.array(expmnt.exp_record['tiff_data']['axon_framebase']['Ph2'])[sta:stp]/5\n",
    "#plot(xpos)\n",
    "imgs = np.array(expmnt.exp_record['tiff_data']['images'][sta:stp,:,:])\n",
    "from scipy import ndimage\n",
    "imgs = ndimage.interpolation.rotate(imgs, 180, axes=(1, 2), reshape=True)\n",
    "imgs = imgs/float(max(imgs.ravel()))"
   ]
  },
  {
   "cell_type": "code",
   "execution_count": null,
   "metadata": {
    "collapsed": false
   },
   "outputs": [],
   "source": [
    "import matplotlib.pyplot as plt\n",
    "import matplotlib.path as mpath\n",
    "import matplotlib.lines as mlines\n",
    "import matplotlib.patches as mpatches\n",
    "from matplotlib.collections import PatchCollection\n",
    "from mpl_toolkits.axes_grid.inset_locator import inset_axes\n",
    "from matplotlib import animation\n",
    "\n",
    "def convert_to_overlay(maximg,curr_img):\n",
    "    from skimage import data, color, io, img_as_float\n",
    "    gama = lambda x: x**1.1\n",
    "    img_color = np.dstack((maximg, maximg, maximg))\n",
    "    overlay = cm.jet(gama(curr_img))[:,:,:3]\n",
    "    img_hsv = color.rgb2hsv(img_color)\n",
    "    overlay_hsv = color.rgb2hsv(overlay)\n",
    "    return cm.gray(curr_img)\n",
    "    #alpha = 0.4\n",
    "    #img_hsv[..., 0] = overlay_hsv[..., 0]\n",
    "    #img_hsv[..., 1] = overlay_hsv[..., 2]*overlay_hsv[..., 1] * alpha\n",
    "    #img_hsv[..., 2] = overlay_hsv[..., 2] * alpha\n",
    "    #img_overlay = color.hsv2rgb(img_hsv)\n",
    "    #return(img_overlay)\n",
    "\n",
    "fly_diagram = dict()\n",
    "aspect = shape(imgs[0][:,:50:-1])[0]/float(shape(imgs[0][:,:50:-1])[1])\n",
    "fig = figure(figsize = (10,10*aspect))\n",
    "img_ax = axes()\n",
    "\n",
    "maximg = np.max(imgs,axis = 0)\n",
    "gama = lambda x: x**1.0\n",
    "maximg = gama(maximg)\n",
    "\n",
    "img = imshow(convert_to_overlay(maximg,imgs[0])[:,:50:-1],aspect = 'auto')\n",
    "img.set_interpolation('bicubic')\n",
    "#img.set_clim(0,1)\n",
    "inset_axes = inset_axes(img_ax,\n",
    "                        width=3, # width = 30% of parent_bbox\n",
    "                        height=3, # height : 1 inch\n",
    "                        loc=1)\n",
    "inset_axes.set_frame_on(False)\n",
    "inset_axes.get_axes().set_axis_off()\n",
    "img_ax.get_axes().set_axis_off()\n",
    "    \n",
    "wing_len = 9.0\n",
    "theta_r = pi/4\n",
    "theta_l = pi/4.3\n",
    "stripe_center = 90\n",
    "swidth = 3\n",
    "arena_rad = 2*wing_len \n",
    "\n",
    "base = mpatches.Circle((0,0),arena_rad - swidth,facecolor = 'gray')\n",
    "panels = mpatches.Circle((0,0),arena_rad,facecolor = 'y')\n",
    "body = mpatches.Ellipse((0,0),2.5,3.5,facecolor = 'r')\n",
    "abdomin = mpatches.Ellipse((0,-2.5),3,5,facecolor = 'r')\n",
    "head = mpatches.Ellipse((0,2.0),3,2,facecolor = 'r')\n",
    "stripe = mpatches.Wedge((0,0),arena_rad,stripe_center-5,stripe_center+5,width = swidth,color = 'k')\n",
    "rwing = mpatches.Wedge((1,0),wing_len,-90,rad2deg(theta_r),alpha = 0.5,facecolor = 'r')\n",
    "lwing = mpatches.Wedge((-1,0),wing_len,180-rad2deg(theta_l),-90,alpha = 0.5,facecolor = 'r')\n",
    "\n",
    "fly_diagram.update({'base':base,'panels':panels,\n",
    "                    'body':body,'abdomin':abdomin,\n",
    "                    'head':head,'stripe':stripe,\n",
    "                    'rwing':rwing,'lwing':lwing})\n",
    "\n",
    "inset_axes.add_patch(panels)\n",
    "inset_axes.add_patch(base)\n",
    "inset_axes.add_patch(abdomin)\n",
    "inset_axes.add_patch(head)\n",
    "inset_axes.add_patch(body)\n",
    "inset_axes.add_patch(rwing)\n",
    "inset_axes.add_patch(lwing)\n",
    "inset_axes.add_patch(stripe)\n",
    "\n",
    "inset_axes.set_ybound(-20,20)\n",
    "inset_axes.set_xbound(-20,20)\n",
    "plt.subplots_adjust(left=0, right=1, top=1, bottom=0)\n",
    "\n",
    "def init():\n",
    "    return [rwing,lwing,stripe,img]\n",
    "\n",
    "def animate(i):\n",
    "    #print i\n",
    "    theta_l,theta_r,stripe_center,frame = lwing_angles[i],rwing_angles[i],xpos[i],imgs[i]\n",
    "    frame = convert_to_overlay(maximg[:,:50:-1],frame[:,:50:-1])\n",
    "    stripe_center = rad2deg(stripe_center)+(180-rad2deg(stripe_center))*2\n",
    "    rwing.set_theta2(rad2deg(theta_r))\n",
    "    lwing.set_theta1(180-rad2deg(theta_l))\n",
    "    stripe.set_theta1(stripe_center-5)\n",
    "    stripe.set_theta2(stripe_center+5)\n",
    "    img.set_data(frame)\n",
    "    return [rwing,lwing,stripe,img]\n",
    "\n",
    "frames = range(1,7000,2)\n",
    "anim = animation.FuncAnimation(fig, animate, init_func=init,\n",
    "                               frames=frames, interval=1, blit=True)\n",
    "anim.save('fly%s.mov'%(flynum), fps=35,extra_args=['-vcodec', 'mpeg4', '-b', '5000k' ])\n",
    "show()"
   ]
  },
  {
   "cell_type": "code",
   "execution_count": 283,
   "metadata": {
    "collapsed": false
   },
   "outputs": [
    {
     "data": {
      "text/plain": [
       "[<matplotlib.lines.Line2D at 0x114bbfe90>]"
      ]
     },
     "execution_count": 283,
     "metadata": {},
     "output_type": "execute_result"
    }
   ],
   "source": [
    "plot(roi_data['b2'][sta:stp])"
   ]
  },
  {
   "cell_type": "code",
   "execution_count": 304,
   "metadata": {
    "collapsed": false
   },
   "outputs": [
    {
     "data": {
      "text/plain": [
       "<matplotlib.image.AxesImage at 0x11b5bc210>"
      ]
     },
     "execution_count": 304,
     "metadata": {},
     "output_type": "execute_result"
    }
   ],
   "source": [
    "imshow(maximg[:,:50:-1])"
   ]
  },
  {
   "cell_type": "code",
   "execution_count": 63,
   "metadata": {
    "collapsed": false
   },
   "outputs": [
    {
     "data": {
      "text/plain": [
       "<matplotlib.image.AxesImage at 0x11af31a90>"
      ]
     },
     "execution_count": 63,
     "metadata": {},
     "output_type": "execute_result"
    }
   ],
   "source": [
    "imshow(curve(imgs[4]/max(imgs[4].ravel())),cmap = cm.gray)"
   ]
  },
  {
   "cell_type": "code",
   "execution_count": 255,
   "metadata": {
    "collapsed": false
   },
   "outputs": [
    {
     "data": {
      "text/plain": [
       "(130, 174, 3)"
      ]
     },
     "execution_count": 255,
     "metadata": {},
     "output_type": "execute_result"
    }
   ],
   "source": [
    "shape(cm.jet(imgs[1]))"
   ]
  },
  {
   "cell_type": "code",
   "execution_count": 266,
   "metadata": {
    "collapsed": false
   },
   "outputs": [
    {
     "data": {
      "text/plain": [
       "<matplotlib.image.AxesImage at 0x1151ff910>"
      ]
     },
     "execution_count": 266,
     "metadata": {},
     "output_type": "execute_result"
    }
   ],
   "source": [
    "imshow(np.max(imgs,axis = 0))"
   ]
  },
  {
   "cell_type": "code",
   "execution_count": 325,
   "metadata": {
    "collapsed": false
   },
   "outputs": [
    {
     "data": {
      "text/plain": [
       "<matplotlib.image.AxesImage at 0x119d4cbd0>"
      ]
     },
     "execution_count": 325,
     "metadata": {},
     "output_type": "execute_result"
    }
   ],
   "source": [
    "\n",
    "imshow(gama(maximg),cmap = cm.gray)"
   ]
  },
  {
   "cell_type": "code",
   "execution_count": 1,
   "metadata": {
    "collapsed": false
   },
   "outputs": [
    {
     "ename": "NameError",
     "evalue": "name 'tpoint' is not defined",
     "output_type": "error",
     "traceback": [
      "\u001b[0;31m---------------------------------------------------------------------------\u001b[0m\n\u001b[0;31mNameError\u001b[0m                                 Traceback (most recent call last)",
      "\u001b[0;32m<ipython-input-1-e1de5013c090>\u001b[0m in \u001b[0;36m<module>\u001b[0;34m()\u001b[0m\n\u001b[0;32m----> 1\u001b[0;31m \u001b[0mtpoint\u001b[0m\u001b[0;34m\u001b[0m\u001b[0m\n\u001b[0m",
      "\u001b[0;31mNameError\u001b[0m: name 'tpoint' is not defined"
     ]
    }
   ],
   "source": []
  },
  {
   "cell_type": "code",
   "execution_count": 186,
   "metadata": {
    "collapsed": false
   },
   "outputs": [],
   "source": []
  },
  {
   "cell_type": "code",
   "execution_count": 187,
   "metadata": {
    "collapsed": false
   },
   "outputs": [],
   "source": []
  },
  {
   "cell_type": "code",
   "execution_count": 188,
   "metadata": {
    "collapsed": false
   },
   "outputs": [
    {
     "data": {
      "text/plain": [
       "<matplotlib.image.AxesImage at 0x1633e4d10>"
      ]
     },
     "execution_count": 188,
     "metadata": {},
     "output_type": "execute_result"
    }
   ],
   "source": []
  },
  {
   "cell_type": "code",
   "execution_count": 126,
   "metadata": {
    "collapsed": false
   },
   "outputs": [],
   "source": [
    "normimg = imgs[4]/float(max(imgs.ravel()))"
   ]
  },
  {
   "cell_type": "code",
   "execution_count": 92,
   "metadata": {
    "collapsed": false
   },
   "outputs": [],
   "source": [
    "lns = hist(curve(normimg).ravel(),bins = 100)"
   ]
  },
  {
   "cell_type": "code",
   "execution_count": 125,
   "metadata": {
    "collapsed": false
   },
   "outputs": [
    {
     "data": {
      "text/plain": [
       "<matplotlib.image.AxesImage at 0x14a8ab750>"
      ]
     },
     "execution_count": 125,
     "metadata": {},
     "output_type": "execute_result"
    }
   ],
   "source": [
    "imshow(curve(normimg),cmap = cm.gray)"
   ]
  },
  {
   "cell_type": "code",
   "execution_count": 124,
   "metadata": {
    "collapsed": false
   },
   "outputs": [
    {
     "data": {
      "text/plain": [
       "[<matplotlib.lines.Line2D at 0x14a899810>]"
      ]
     },
     "execution_count": 124,
     "metadata": {},
     "output_type": "execute_result"
    }
   ],
   "source": [
    "\n",
    "plot(curve(linspace(0,1,100)))"
   ]
  },
  {
   "cell_type": "code",
   "execution_count": 7,
   "metadata": {
    "collapsed": false
   },
   "outputs": [],
   "source": [
    "import matplotlib.pyplot as plt\n",
    "import matplotlib.path as mpath\n",
    "import matplotlib.lines as mlines\n",
    "import matplotlib.patches as mpatches\n",
    "from matplotlib.collections import PatchCollection\n",
    "from mpl_toolkits.axes_grid.inset_locator import inset_axes\n",
    "from matplotlib import animation\n",
    "\n",
    "fly_diagram = dict()\n",
    "aspect = shape(imgs[0])[0]/float(shape(imgs[0])[1])\n",
    "fig = figure(figsize = (10,10*aspect))\n",
    "img_ax = axes()\n",
    "\n",
    "img = imshow(imgs[0,:,:],cmap = cm.gray)\n",
    "inset_axes = inset_axes(img_ax,\n",
    "                        width=2, # width = 30% of parent_bbox\n",
    "                        height=2, # height : 1 inch\n",
    "                        loc=2)\n",
    "inset_axes.set_frame_on(False)\n",
    "inset_axes.get_axes().set_axis_off()\n",
    "img_ax.get_axes().set_axis_off()\n",
    "    \n",
    "wing_len = 9.0\n",
    "theta_r = pi/4\n",
    "theta_l = pi/4.3\n",
    "stripe_center = 90\n",
    "swidth = 3\n",
    "arena_rad = 2*wing_len \n",
    "\n",
    "base = mpatches.Circle((0,0),arena_rad - swidth,facecolor = 'gray')\n",
    "panels = mpatches.Circle((0,0),arena_rad,facecolor = 'y')\n",
    "body = mpatches.Ellipse((0,0),2.5,3.5,facecolor = 'r')\n",
    "abdomin = mpatches.Ellipse((0,-2.5),3,5,facecolor = 'r')\n",
    "head = mpatches.Ellipse((0,2.0),3,2,facecolor = 'r')\n",
    "stripe = mpatches.Wedge((0,0),arena_rad,stripe_center-5,stripe_center+5,width = swidth,color = 'k')\n",
    "rwing = mpatches.Wedge((1,0),wing_len,-90,rad2deg(theta_r),alpha = 0.5,facecolor = 'r')\n",
    "lwing = mpatches.Wedge((-1,0),wing_len,180-rad2deg(theta_l),-90,alpha = 0.5,facecolor = 'r')\n",
    "\n",
    "fly_diagram.update({'base':base,'panels':panels,\n",
    "                    'body':body,'abdomin':abdomin,\n",
    "                    'head':head,'stripe':stripe,\n",
    "                    'rwing':rwing,'lwing':lwing})\n",
    "\n",
    "inset_axes.add_patch(panels)\n",
    "inset_axes.add_patch(base)\n",
    "inset_axes.add_patch(abdomin)\n",
    "inset_axes.add_patch(head)\n",
    "inset_axes.add_patch(body)\n",
    "inset_axes.add_patch(rwing)\n",
    "inset_axes.add_patch(lwing)\n",
    "inset_axes.add_patch(stripe)\n",
    "\n",
    "inset_axes.set_ybound(-20,20)\n",
    "inset_axes.set_xbound(-20,20)\n",
    "plt.subplots_adjust(left=0, right=1, top=1, bottom=0)\n"
   ]
  },
  {
   "cell_type": "code",
   "execution_count": 9,
   "metadata": {
    "collapsed": false
   },
   "outputs": [],
   "source": [
    "frames = range(1,5000,2)"
   ]
  },
  {
   "cell_type": "code",
   "execution_count": 10,
   "metadata": {
    "collapsed": false
   },
   "outputs": [
    {
     "data": {
      "text/plain": [
       "[1,\n",
       " 3,\n",
       " 5,\n",
       " 7,\n",
       " 9,\n",
       " 11,\n",
       " 13,\n",
       " 15,\n",
       " 17,\n",
       " 19,\n",
       " 21,\n",
       " 23,\n",
       " 25,\n",
       " 27,\n",
       " 29,\n",
       " 31,\n",
       " 33,\n",
       " 35,\n",
       " 37,\n",
       " 39,\n",
       " 41,\n",
       " 43,\n",
       " 45,\n",
       " 47,\n",
       " 49,\n",
       " 51,\n",
       " 53,\n",
       " 55,\n",
       " 57,\n",
       " 59,\n",
       " 61,\n",
       " 63,\n",
       " 65,\n",
       " 67,\n",
       " 69,\n",
       " 71,\n",
       " 73,\n",
       " 75,\n",
       " 77,\n",
       " 79,\n",
       " 81,\n",
       " 83,\n",
       " 85,\n",
       " 87,\n",
       " 89,\n",
       " 91,\n",
       " 93,\n",
       " 95,\n",
       " 97,\n",
       " 99,\n",
       " 101,\n",
       " 103,\n",
       " 105,\n",
       " 107,\n",
       " 109,\n",
       " 111,\n",
       " 113,\n",
       " 115,\n",
       " 117,\n",
       " 119,\n",
       " 121,\n",
       " 123,\n",
       " 125,\n",
       " 127,\n",
       " 129,\n",
       " 131,\n",
       " 133,\n",
       " 135,\n",
       " 137,\n",
       " 139,\n",
       " 141,\n",
       " 143,\n",
       " 145,\n",
       " 147,\n",
       " 149,\n",
       " 151,\n",
       " 153,\n",
       " 155,\n",
       " 157,\n",
       " 159,\n",
       " 161,\n",
       " 163,\n",
       " 165,\n",
       " 167,\n",
       " 169,\n",
       " 171,\n",
       " 173,\n",
       " 175,\n",
       " 177,\n",
       " 179,\n",
       " 181,\n",
       " 183,\n",
       " 185,\n",
       " 187,\n",
       " 189,\n",
       " 191,\n",
       " 193,\n",
       " 195,\n",
       " 197,\n",
       " 199,\n",
       " 201,\n",
       " 203,\n",
       " 205,\n",
       " 207,\n",
       " 209,\n",
       " 211,\n",
       " 213,\n",
       " 215,\n",
       " 217,\n",
       " 219,\n",
       " 221,\n",
       " 223,\n",
       " 225,\n",
       " 227,\n",
       " 229,\n",
       " 231,\n",
       " 233,\n",
       " 235,\n",
       " 237,\n",
       " 239,\n",
       " 241,\n",
       " 243,\n",
       " 245,\n",
       " 247,\n",
       " 249,\n",
       " 251,\n",
       " 253,\n",
       " 255,\n",
       " 257,\n",
       " 259,\n",
       " 261,\n",
       " 263,\n",
       " 265,\n",
       " 267,\n",
       " 269,\n",
       " 271,\n",
       " 273,\n",
       " 275,\n",
       " 277,\n",
       " 279,\n",
       " 281,\n",
       " 283,\n",
       " 285,\n",
       " 287,\n",
       " 289,\n",
       " 291,\n",
       " 293,\n",
       " 295,\n",
       " 297,\n",
       " 299,\n",
       " 301,\n",
       " 303,\n",
       " 305,\n",
       " 307,\n",
       " 309,\n",
       " 311,\n",
       " 313,\n",
       " 315,\n",
       " 317,\n",
       " 319,\n",
       " 321,\n",
       " 323,\n",
       " 325,\n",
       " 327,\n",
       " 329,\n",
       " 331,\n",
       " 333,\n",
       " 335,\n",
       " 337,\n",
       " 339,\n",
       " 341,\n",
       " 343,\n",
       " 345,\n",
       " 347,\n",
       " 349,\n",
       " 351,\n",
       " 353,\n",
       " 355,\n",
       " 357,\n",
       " 359,\n",
       " 361,\n",
       " 363,\n",
       " 365,\n",
       " 367,\n",
       " 369,\n",
       " 371,\n",
       " 373,\n",
       " 375,\n",
       " 377,\n",
       " 379,\n",
       " 381,\n",
       " 383,\n",
       " 385,\n",
       " 387,\n",
       " 389,\n",
       " 391,\n",
       " 393,\n",
       " 395,\n",
       " 397,\n",
       " 399,\n",
       " 401,\n",
       " 403,\n",
       " 405,\n",
       " 407,\n",
       " 409,\n",
       " 411,\n",
       " 413,\n",
       " 415,\n",
       " 417,\n",
       " 419,\n",
       " 421,\n",
       " 423,\n",
       " 425,\n",
       " 427,\n",
       " 429,\n",
       " 431,\n",
       " 433,\n",
       " 435,\n",
       " 437,\n",
       " 439,\n",
       " 441,\n",
       " 443,\n",
       " 445,\n",
       " 447,\n",
       " 449,\n",
       " 451,\n",
       " 453,\n",
       " 455,\n",
       " 457,\n",
       " 459,\n",
       " 461,\n",
       " 463,\n",
       " 465,\n",
       " 467,\n",
       " 469,\n",
       " 471,\n",
       " 473,\n",
       " 475,\n",
       " 477,\n",
       " 479,\n",
       " 481,\n",
       " 483,\n",
       " 485,\n",
       " 487,\n",
       " 489,\n",
       " 491,\n",
       " 493,\n",
       " 495,\n",
       " 497,\n",
       " 499,\n",
       " 501,\n",
       " 503,\n",
       " 505,\n",
       " 507,\n",
       " 509,\n",
       " 511,\n",
       " 513,\n",
       " 515,\n",
       " 517,\n",
       " 519,\n",
       " 521,\n",
       " 523,\n",
       " 525,\n",
       " 527,\n",
       " 529,\n",
       " 531,\n",
       " 533,\n",
       " 535,\n",
       " 537,\n",
       " 539,\n",
       " 541,\n",
       " 543,\n",
       " 545,\n",
       " 547,\n",
       " 549,\n",
       " 551,\n",
       " 553,\n",
       " 555,\n",
       " 557,\n",
       " 559,\n",
       " 561,\n",
       " 563,\n",
       " 565,\n",
       " 567,\n",
       " 569,\n",
       " 571,\n",
       " 573,\n",
       " 575,\n",
       " 577,\n",
       " 579,\n",
       " 581,\n",
       " 583,\n",
       " 585,\n",
       " 587,\n",
       " 589,\n",
       " 591,\n",
       " 593,\n",
       " 595,\n",
       " 597,\n",
       " 599,\n",
       " 601,\n",
       " 603,\n",
       " 605,\n",
       " 607,\n",
       " 609,\n",
       " 611,\n",
       " 613,\n",
       " 615,\n",
       " 617,\n",
       " 619,\n",
       " 621,\n",
       " 623,\n",
       " 625,\n",
       " 627,\n",
       " 629,\n",
       " 631,\n",
       " 633,\n",
       " 635,\n",
       " 637,\n",
       " 639,\n",
       " 641,\n",
       " 643,\n",
       " 645,\n",
       " 647,\n",
       " 649,\n",
       " 651,\n",
       " 653,\n",
       " 655,\n",
       " 657,\n",
       " 659,\n",
       " 661,\n",
       " 663,\n",
       " 665,\n",
       " 667,\n",
       " 669,\n",
       " 671,\n",
       " 673,\n",
       " 675,\n",
       " 677,\n",
       " 679,\n",
       " 681,\n",
       " 683,\n",
       " 685,\n",
       " 687,\n",
       " 689,\n",
       " 691,\n",
       " 693,\n",
       " 695,\n",
       " 697,\n",
       " 699,\n",
       " 701,\n",
       " 703,\n",
       " 705,\n",
       " 707,\n",
       " 709,\n",
       " 711,\n",
       " 713,\n",
       " 715,\n",
       " 717,\n",
       " 719,\n",
       " 721,\n",
       " 723,\n",
       " 725,\n",
       " 727,\n",
       " 729,\n",
       " 731,\n",
       " 733,\n",
       " 735,\n",
       " 737,\n",
       " 739,\n",
       " 741,\n",
       " 743,\n",
       " 745,\n",
       " 747,\n",
       " 749,\n",
       " 751,\n",
       " 753,\n",
       " 755,\n",
       " 757,\n",
       " 759,\n",
       " 761,\n",
       " 763,\n",
       " 765,\n",
       " 767,\n",
       " 769,\n",
       " 771,\n",
       " 773,\n",
       " 775,\n",
       " 777,\n",
       " 779,\n",
       " 781,\n",
       " 783,\n",
       " 785,\n",
       " 787,\n",
       " 789,\n",
       " 791,\n",
       " 793,\n",
       " 795,\n",
       " 797,\n",
       " 799,\n",
       " 801,\n",
       " 803,\n",
       " 805,\n",
       " 807,\n",
       " 809,\n",
       " 811,\n",
       " 813,\n",
       " 815,\n",
       " 817,\n",
       " 819,\n",
       " 821,\n",
       " 823,\n",
       " 825,\n",
       " 827,\n",
       " 829,\n",
       " 831,\n",
       " 833,\n",
       " 835,\n",
       " 837,\n",
       " 839,\n",
       " 841,\n",
       " 843,\n",
       " 845,\n",
       " 847,\n",
       " 849,\n",
       " 851,\n",
       " 853,\n",
       " 855,\n",
       " 857,\n",
       " 859,\n",
       " 861,\n",
       " 863,\n",
       " 865,\n",
       " 867,\n",
       " 869,\n",
       " 871,\n",
       " 873,\n",
       " 875,\n",
       " 877,\n",
       " 879,\n",
       " 881,\n",
       " 883,\n",
       " 885,\n",
       " 887,\n",
       " 889,\n",
       " 891,\n",
       " 893,\n",
       " 895,\n",
       " 897,\n",
       " 899,\n",
       " 901,\n",
       " 903,\n",
       " 905,\n",
       " 907,\n",
       " 909,\n",
       " 911,\n",
       " 913,\n",
       " 915,\n",
       " 917,\n",
       " 919,\n",
       " 921,\n",
       " 923,\n",
       " 925,\n",
       " 927,\n",
       " 929,\n",
       " 931,\n",
       " 933,\n",
       " 935,\n",
       " 937,\n",
       " 939,\n",
       " 941,\n",
       " 943,\n",
       " 945,\n",
       " 947,\n",
       " 949,\n",
       " 951,\n",
       " 953,\n",
       " 955,\n",
       " 957,\n",
       " 959,\n",
       " 961,\n",
       " 963,\n",
       " 965,\n",
       " 967,\n",
       " 969,\n",
       " 971,\n",
       " 973,\n",
       " 975,\n",
       " 977,\n",
       " 979,\n",
       " 981,\n",
       " 983,\n",
       " 985,\n",
       " 987,\n",
       " 989,\n",
       " 991,\n",
       " 993,\n",
       " 995,\n",
       " 997,\n",
       " 999,\n",
       " 1001,\n",
       " 1003,\n",
       " 1005,\n",
       " 1007,\n",
       " 1009,\n",
       " 1011,\n",
       " 1013,\n",
       " 1015,\n",
       " 1017,\n",
       " 1019,\n",
       " 1021,\n",
       " 1023,\n",
       " 1025,\n",
       " 1027,\n",
       " 1029,\n",
       " 1031,\n",
       " 1033,\n",
       " 1035,\n",
       " 1037,\n",
       " 1039,\n",
       " 1041,\n",
       " 1043,\n",
       " 1045,\n",
       " 1047,\n",
       " 1049,\n",
       " 1051,\n",
       " 1053,\n",
       " 1055,\n",
       " 1057,\n",
       " 1059,\n",
       " 1061,\n",
       " 1063,\n",
       " 1065,\n",
       " 1067,\n",
       " 1069,\n",
       " 1071,\n",
       " 1073,\n",
       " 1075,\n",
       " 1077,\n",
       " 1079,\n",
       " 1081,\n",
       " 1083,\n",
       " 1085,\n",
       " 1087,\n",
       " 1089,\n",
       " 1091,\n",
       " 1093,\n",
       " 1095,\n",
       " 1097,\n",
       " 1099,\n",
       " 1101,\n",
       " 1103,\n",
       " 1105,\n",
       " 1107,\n",
       " 1109,\n",
       " 1111,\n",
       " 1113,\n",
       " 1115,\n",
       " 1117,\n",
       " 1119,\n",
       " 1121,\n",
       " 1123,\n",
       " 1125,\n",
       " 1127,\n",
       " 1129,\n",
       " 1131,\n",
       " 1133,\n",
       " 1135,\n",
       " 1137,\n",
       " 1139,\n",
       " 1141,\n",
       " 1143,\n",
       " 1145,\n",
       " 1147,\n",
       " 1149,\n",
       " 1151,\n",
       " 1153,\n",
       " 1155,\n",
       " 1157,\n",
       " 1159,\n",
       " 1161,\n",
       " 1163,\n",
       " 1165,\n",
       " 1167,\n",
       " 1169,\n",
       " 1171,\n",
       " 1173,\n",
       " 1175,\n",
       " 1177,\n",
       " 1179,\n",
       " 1181,\n",
       " 1183,\n",
       " 1185,\n",
       " 1187,\n",
       " 1189,\n",
       " 1191,\n",
       " 1193,\n",
       " 1195,\n",
       " 1197,\n",
       " 1199,\n",
       " 1201,\n",
       " 1203,\n",
       " 1205,\n",
       " 1207,\n",
       " 1209,\n",
       " 1211,\n",
       " 1213,\n",
       " 1215,\n",
       " 1217,\n",
       " 1219,\n",
       " 1221,\n",
       " 1223,\n",
       " 1225,\n",
       " 1227,\n",
       " 1229,\n",
       " 1231,\n",
       " 1233,\n",
       " 1235,\n",
       " 1237,\n",
       " 1239,\n",
       " 1241,\n",
       " 1243,\n",
       " 1245,\n",
       " 1247,\n",
       " 1249,\n",
       " 1251,\n",
       " 1253,\n",
       " 1255,\n",
       " 1257,\n",
       " 1259,\n",
       " 1261,\n",
       " 1263,\n",
       " 1265,\n",
       " 1267,\n",
       " 1269,\n",
       " 1271,\n",
       " 1273,\n",
       " 1275,\n",
       " 1277,\n",
       " 1279,\n",
       " 1281,\n",
       " 1283,\n",
       " 1285,\n",
       " 1287,\n",
       " 1289,\n",
       " 1291,\n",
       " 1293,\n",
       " 1295,\n",
       " 1297,\n",
       " 1299,\n",
       " 1301,\n",
       " 1303,\n",
       " 1305,\n",
       " 1307,\n",
       " 1309,\n",
       " 1311,\n",
       " 1313,\n",
       " 1315,\n",
       " 1317,\n",
       " 1319,\n",
       " 1321,\n",
       " 1323,\n",
       " 1325,\n",
       " 1327,\n",
       " 1329,\n",
       " 1331,\n",
       " 1333,\n",
       " 1335,\n",
       " 1337,\n",
       " 1339,\n",
       " 1341,\n",
       " 1343,\n",
       " 1345,\n",
       " 1347,\n",
       " 1349,\n",
       " 1351,\n",
       " 1353,\n",
       " 1355,\n",
       " 1357,\n",
       " 1359,\n",
       " 1361,\n",
       " 1363,\n",
       " 1365,\n",
       " 1367,\n",
       " 1369,\n",
       " 1371,\n",
       " 1373,\n",
       " 1375,\n",
       " 1377,\n",
       " 1379,\n",
       " 1381,\n",
       " 1383,\n",
       " 1385,\n",
       " 1387,\n",
       " 1389,\n",
       " 1391,\n",
       " 1393,\n",
       " 1395,\n",
       " 1397,\n",
       " 1399,\n",
       " 1401,\n",
       " 1403,\n",
       " 1405,\n",
       " 1407,\n",
       " 1409,\n",
       " 1411,\n",
       " 1413,\n",
       " 1415,\n",
       " 1417,\n",
       " 1419,\n",
       " 1421,\n",
       " 1423,\n",
       " 1425,\n",
       " 1427,\n",
       " 1429,\n",
       " 1431,\n",
       " 1433,\n",
       " 1435,\n",
       " 1437,\n",
       " 1439,\n",
       " 1441,\n",
       " 1443,\n",
       " 1445,\n",
       " 1447,\n",
       " 1449,\n",
       " 1451,\n",
       " 1453,\n",
       " 1455,\n",
       " 1457,\n",
       " 1459,\n",
       " 1461,\n",
       " 1463,\n",
       " 1465,\n",
       " 1467,\n",
       " 1469,\n",
       " 1471,\n",
       " 1473,\n",
       " 1475,\n",
       " 1477,\n",
       " 1479,\n",
       " 1481,\n",
       " 1483,\n",
       " 1485,\n",
       " 1487,\n",
       " 1489,\n",
       " 1491,\n",
       " 1493,\n",
       " 1495,\n",
       " 1497,\n",
       " 1499,\n",
       " 1501,\n",
       " 1503,\n",
       " 1505,\n",
       " 1507,\n",
       " 1509,\n",
       " 1511,\n",
       " 1513,\n",
       " 1515,\n",
       " 1517,\n",
       " 1519,\n",
       " 1521,\n",
       " 1523,\n",
       " 1525,\n",
       " 1527,\n",
       " 1529,\n",
       " 1531,\n",
       " 1533,\n",
       " 1535,\n",
       " 1537,\n",
       " 1539,\n",
       " 1541,\n",
       " 1543,\n",
       " 1545,\n",
       " 1547,\n",
       " 1549,\n",
       " 1551,\n",
       " 1553,\n",
       " 1555,\n",
       " 1557,\n",
       " 1559,\n",
       " 1561,\n",
       " 1563,\n",
       " 1565,\n",
       " 1567,\n",
       " 1569,\n",
       " 1571,\n",
       " 1573,\n",
       " 1575,\n",
       " 1577,\n",
       " 1579,\n",
       " 1581,\n",
       " 1583,\n",
       " 1585,\n",
       " 1587,\n",
       " 1589,\n",
       " 1591,\n",
       " 1593,\n",
       " 1595,\n",
       " 1597,\n",
       " 1599,\n",
       " 1601,\n",
       " 1603,\n",
       " 1605,\n",
       " 1607,\n",
       " 1609,\n",
       " 1611,\n",
       " 1613,\n",
       " 1615,\n",
       " 1617,\n",
       " 1619,\n",
       " 1621,\n",
       " 1623,\n",
       " 1625,\n",
       " 1627,\n",
       " 1629,\n",
       " 1631,\n",
       " 1633,\n",
       " 1635,\n",
       " 1637,\n",
       " 1639,\n",
       " 1641,\n",
       " 1643,\n",
       " 1645,\n",
       " 1647,\n",
       " 1649,\n",
       " 1651,\n",
       " 1653,\n",
       " 1655,\n",
       " 1657,\n",
       " 1659,\n",
       " 1661,\n",
       " 1663,\n",
       " 1665,\n",
       " 1667,\n",
       " 1669,\n",
       " 1671,\n",
       " 1673,\n",
       " 1675,\n",
       " 1677,\n",
       " 1679,\n",
       " 1681,\n",
       " 1683,\n",
       " 1685,\n",
       " 1687,\n",
       " 1689,\n",
       " 1691,\n",
       " 1693,\n",
       " 1695,\n",
       " 1697,\n",
       " 1699,\n",
       " 1701,\n",
       " 1703,\n",
       " 1705,\n",
       " 1707,\n",
       " 1709,\n",
       " 1711,\n",
       " 1713,\n",
       " 1715,\n",
       " 1717,\n",
       " 1719,\n",
       " 1721,\n",
       " 1723,\n",
       " 1725,\n",
       " 1727,\n",
       " 1729,\n",
       " 1731,\n",
       " 1733,\n",
       " 1735,\n",
       " 1737,\n",
       " 1739,\n",
       " 1741,\n",
       " 1743,\n",
       " 1745,\n",
       " 1747,\n",
       " 1749,\n",
       " 1751,\n",
       " 1753,\n",
       " 1755,\n",
       " 1757,\n",
       " 1759,\n",
       " 1761,\n",
       " 1763,\n",
       " 1765,\n",
       " 1767,\n",
       " 1769,\n",
       " 1771,\n",
       " 1773,\n",
       " 1775,\n",
       " 1777,\n",
       " 1779,\n",
       " 1781,\n",
       " 1783,\n",
       " 1785,\n",
       " 1787,\n",
       " 1789,\n",
       " 1791,\n",
       " 1793,\n",
       " 1795,\n",
       " 1797,\n",
       " 1799,\n",
       " 1801,\n",
       " 1803,\n",
       " 1805,\n",
       " 1807,\n",
       " 1809,\n",
       " 1811,\n",
       " 1813,\n",
       " 1815,\n",
       " 1817,\n",
       " 1819,\n",
       " 1821,\n",
       " 1823,\n",
       " 1825,\n",
       " 1827,\n",
       " 1829,\n",
       " 1831,\n",
       " 1833,\n",
       " 1835,\n",
       " 1837,\n",
       " 1839,\n",
       " 1841,\n",
       " 1843,\n",
       " 1845,\n",
       " 1847,\n",
       " 1849,\n",
       " 1851,\n",
       " 1853,\n",
       " 1855,\n",
       " 1857,\n",
       " 1859,\n",
       " 1861,\n",
       " 1863,\n",
       " 1865,\n",
       " 1867,\n",
       " 1869,\n",
       " 1871,\n",
       " 1873,\n",
       " 1875,\n",
       " 1877,\n",
       " 1879,\n",
       " 1881,\n",
       " 1883,\n",
       " 1885,\n",
       " 1887,\n",
       " 1889,\n",
       " 1891,\n",
       " 1893,\n",
       " 1895,\n",
       " 1897,\n",
       " 1899,\n",
       " 1901,\n",
       " 1903,\n",
       " 1905,\n",
       " 1907,\n",
       " 1909,\n",
       " 1911,\n",
       " 1913,\n",
       " 1915,\n",
       " 1917,\n",
       " 1919,\n",
       " 1921,\n",
       " 1923,\n",
       " 1925,\n",
       " 1927,\n",
       " 1929,\n",
       " 1931,\n",
       " 1933,\n",
       " 1935,\n",
       " 1937,\n",
       " 1939,\n",
       " 1941,\n",
       " 1943,\n",
       " 1945,\n",
       " 1947,\n",
       " 1949,\n",
       " 1951,\n",
       " 1953,\n",
       " 1955,\n",
       " 1957,\n",
       " 1959,\n",
       " 1961,\n",
       " 1963,\n",
       " 1965,\n",
       " 1967,\n",
       " 1969,\n",
       " 1971,\n",
       " 1973,\n",
       " 1975,\n",
       " 1977,\n",
       " 1979,\n",
       " 1981,\n",
       " 1983,\n",
       " 1985,\n",
       " 1987,\n",
       " 1989,\n",
       " 1991,\n",
       " 1993,\n",
       " 1995,\n",
       " 1997,\n",
       " 1999,\n",
       " ...]"
      ]
     },
     "execution_count": 10,
     "metadata": {},
     "output_type": "execute_result"
    }
   ],
   "source": [
    "frames"
   ]
  },
  {
   "cell_type": "code",
   "execution_count": 47,
   "metadata": {
    "collapsed": false
   },
   "outputs": [
    {
     "data": {
      "text/plain": [
       "[<matplotlib.lines.Line2D at 0x11adddd90>]"
      ]
     },
     "execution_count": 47,
     "metadata": {},
     "output_type": "execute_result"
    }
   ],
   "source": [
    "plot(roi_data['b3'][-5000:])\n",
    "plot(rwing_angles)"
   ]
  },
  {
   "cell_type": "code",
   "execution_count": 12,
   "metadata": {
    "collapsed": false
   },
   "outputs": [
    {
     "name": "stdout",
     "output_type": "stream",
     "text": [
      "<Closed HDF5 file>\n",
      "<Closed HDF5 file>\n",
      "<Closed HDF5 file>\n",
      "<Closed HDF5 file>\n",
      "<Closed HDF5 file>\n",
      "<Closed HDF5 file>\n",
      "<Closed HDF5 file>\n",
      "<Closed HDF5 file>\n",
      "<Closed HDF5 file>\n",
      "<Closed HDF5 file>\n",
      "<Closed HDF5 file>\n",
      "<Closed HDF5 file>\n",
      "<Closed HDF5 file>\n",
      "<Closed HDF5 file>\n",
      "<Closed HDF5 file>\n",
      "<Closed HDF5 file>\n",
      "<Closed HDF5 file>\n",
      "<Closed HDF5 file>\n",
      "<Closed HDF5 file>\n",
      "<Closed HDF5 file>\n",
      "<Closed HDF5 file>\n",
      "<Closed HDF5 file>\n",
      "<Closed HDF5 file>\n",
      "<Closed HDF5 file>\n",
      "<Closed HDF5 file>\n",
      "<Closed HDF5 file>\n",
      "<Closed HDF5 file>\n",
      "<Closed HDF5 file>\n",
      "<Closed HDF5 file>\n",
      "<Closed HDF5 file>\n",
      "<Closed HDF5 file>\n",
      "<Closed HDF5 file>\n",
      "<Closed HDF5 file>\n",
      "<Closed HDF5 file>\n",
      "<Closed HDF5 file>\n",
      "<Closed HDF5 file>\n",
      "<Closed HDF5 file>\n",
      "<Closed HDF5 file>\n",
      "<Closed HDF5 file>\n",
      "<Closed HDF5 file>\n",
      "<Closed HDF5 file>\n",
      "<Closed HDF5 file>\n"
     ]
    }
   ],
   "source": [
    "fly_db.close()"
   ]
  },
  {
   "cell_type": "code",
   "execution_count": 63,
   "metadata": {
    "collapsed": false
   },
   "outputs": [
    {
     "data": {
      "text/plain": [
       "[<matplotlib.lines.Line2D at 0x117bfc090>]"
      ]
     },
     "execution_count": 63,
     "metadata": {},
     "output_type": "execute_result"
    }
   ],
   "source": [
    "import matplotlib.gridspec as gridspec\n",
    "gs = gridspec.GridSpec(6,6)\n",
    "ax_img = subplot(gs[0:,0:])\n",
    "imshow(imgs[0,:,:])\n",
    "ax_fly = subplot(gs[5:,5:])\n",
    "plot([1,3,4])"
   ]
  },
  {
   "cell_type": "code",
   "execution_count": 503,
   "metadata": {
    "collapsed": false
   },
   "outputs": [
    {
     "data": {
      "text/plain": [
       "[<matplotlib.lines.Line2D at 0x1192cda90>]"
      ]
     },
     "execution_count": 503,
     "metadata": {},
     "output_type": "execute_result"
    }
   ],
   "source": [
    "figure();plot(xpos)"
   ]
  },
  {
   "cell_type": "code",
   "execution_count": 342,
   "metadata": {
    "collapsed": false
   },
   "outputs": [
    {
     "data": {
      "text/plain": [
       "[<matplotlib.lines.Line2D at 0x118f8b2d0>]"
      ]
     },
     "execution_count": 342,
     "metadata": {},
     "output_type": "execute_result"
    }
   ],
   "source": [
    "rx = hstack([0,cos(linspace(theta_r,-pi/2,20))])+1\n",
    "ry = hstack([0,sin(linspace(theta_r,-pi/2,20))])\n",
    "plot(rx,ry)\n",
    "lx = hstack([0,-1*cos(linspace(theta_l,-pi/2,20))])-1\n",
    "ly = hstack([0,sin(linspace(theta_l,-pi/2,20))])\n",
    "plot(lx,ly)"
   ]
  },
  {
   "cell_type": "code",
   "execution_count": 366,
   "metadata": {
    "collapsed": false
   },
   "outputs": [],
   "source": [
    "wd = mpatches.Wedge((0,0),5,pi/3,-1*pi/2)"
   ]
  },
  {
   "cell_type": "code",
   "execution_count": 422,
   "metadata": {
    "collapsed": false
   },
   "outputs": [],
   "source": [
    "inset_axes.set_visible(True)"
   ]
  },
  {
   "cell_type": "code",
   "execution_count": 424,
   "metadata": {
    "collapsed": false
   },
   "outputs": [],
   "source": [
    "inset_axis = inset_axes.get_axes()"
   ]
  },
  {
   "cell_type": "code",
   "execution_count": 426,
   "metadata": {
    "collapsed": false
   },
   "outputs": [],
   "source": [
    "inset_axis.set_axis_off()"
   ]
  },
  {
   "cell_type": "code",
   "execution_count": 427,
   "metadata": {
    "collapsed": false
   },
   "outputs": [],
   "source": [
    "draw()"
   ]
  },
  {
   "cell_type": "code",
   "execution_count": 399,
   "metadata": {
    "collapsed": false
   },
   "outputs": [
    {
     "data": {
      "text/plain": [
       "[<matplotlib.lines.Line2D at 0x1188181d0>]"
      ]
     },
     "execution_count": 399,
     "metadata": {},
     "output_type": "execute_result"
    }
   ],
   "source": [
    "plot(lmr_angles)"
   ]
  },
  {
   "cell_type": "code",
   "execution_count": 400,
   "metadata": {
    "collapsed": false
   },
   "outputs": [
    {
     "data": {
      "text/plain": [
       "[<matplotlib.lines.Line2D at 0x119651650>]"
      ]
     },
     "execution_count": 400,
     "metadata": {},
     "output_type": "execute_result"
    }
   ],
   "source": [
    "plot(lwing_angles - rwing_angles)"
   ]
  },
  {
   "cell_type": "code",
   "execution_count": 401,
   "metadata": {
    "collapsed": false
   },
   "outputs": [
    {
     "data": {
      "text/plain": [
       "[<matplotlib.lines.Line2D at 0x11965ec90>]"
      ]
     },
     "execution_count": 401,
     "metadata": {},
     "output_type": "execute_result"
    }
   ],
   "source": [
    "plot(xpos)"
   ]
  },
  {
   "cell_type": "code",
   "execution_count": null,
   "metadata": {
    "collapsed": false
   },
   "outputs": [],
   "source": []
  }
 ],
 "metadata": {
  "kernelspec": {
   "display_name": "Python 2",
   "language": "python",
   "name": "python2"
  },
  "language_info": {
   "codemirror_mode": {
    "name": "ipython",
    "version": 2
   },
   "file_extension": ".py",
   "mimetype": "text/x-python",
   "name": "python",
   "nbconvert_exporter": "python",
   "pygments_lexer": "ipython2",
   "version": "2.7.10"
  }
 },
 "nbformat": 4,
 "nbformat_minor": 0
}
