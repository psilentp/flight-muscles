{
 "cells": [
  {
   "cell_type": "code",
   "execution_count": 1,
   "metadata": {
    "collapsed": true
   },
   "outputs": [],
   "source": [
    "start_fly = 602\n",
    "end_fly = 603\n",
    "copy_range = range(start_fly,end_fly+1)\n",
    "import flylib\n",
    "netswarm = flylib.NetSquadron(copy_range)"
   ]
  },
  {
   "cell_type": "code",
   "execution_count": 4,
   "metadata": {
    "collapsed": false
   },
   "outputs": [
    {
     "data": {
      "text/plain": [
       "['/media/flyranch/FlyDataC/FlyDB/Fly0602/',\n",
       " '/media/flyranch/FlyDataC/FlyDB/Fly0603/']"
      ]
     },
     "execution_count": 4,
     "metadata": {},
     "output_type": "execute_result"
    }
   ],
   "source": [
    "[fl.fly_path for fl in netswarm.flies]"
   ]
  },
  {
   "cell_type": "code",
   "execution_count": 6,
   "metadata": {
    "collapsed": false
   },
   "outputs": [
    {
     "name": "stdout",
     "output_type": "stream",
     "text": [
      "gcloud compute ssh psilentp@fly-cluster-master -q --command 'mkdir /media/FlyDataC/FlyDB/Fly0602/'\n",
      "gcloud compute copy-files /media/flyranch/FlyDataD/FlyDB/Fly0602/fly_record.hdf5 psilentp@fly-cluster-master:/media/FlyDataC/FlyDB/Fly0602/\n",
      "gcloud compute copy-files /media/flyranch/FlyDataD/FlyDB/Fly0602/Note.txt psilentp@fly-cluster-master:/media/FlyDataC/FlyDB/Fly0602/\n",
      "gcloud compute copy-files /media/flyranch/FlyDataD/FlyDB/Fly0602/basis_fits.cpkl psilentp@fly-cluster-master:/media/FlyDataC/FlyDB/Fly0602/\n",
      "gcloud compute ssh psilentp@fly-cluster-master -q --command 'mkdir /media/FlyDataC/FlyDB/Fly0603/'\n",
      "gcloud compute copy-files /media/flyranch/FlyDataD/FlyDB/Fly0603/fly_record.hdf5 psilentp@fly-cluster-master:/media/FlyDataC/FlyDB/Fly0603/\n",
      "gcloud compute copy-files /media/flyranch/FlyDataD/FlyDB/Fly0603/Note.txt psilentp@fly-cluster-master:/media/FlyDataC/FlyDB/Fly0603/\n",
      "gcloud compute copy-files /media/flyranch/FlyDataD/FlyDB/Fly0603/basis_fits.cpkl psilentp@fly-cluster-master:/media/FlyDataC/FlyDB/Fly0603/\n"
     ]
    }
   ],
   "source": [
    "# upload the data to gcloud\n",
    "import time\n",
    "google_root = 'psilentp@fly-cluster-master:/media/FlyDataC/FlyDB'\n",
    "#copy_list = ['fly_record.hdf5','Note.txt','basis_fits.cpkl']\n",
    "#copy_list = ['basis_fits.cpkl']\n",
    "copy_list = ['fly_record.hdf5','Note.txt','basis_fits.cpkl']\n",
    "\n",
    "import os\n",
    "for fly in netswarm.flies:\n",
    "    dst_dir = '/media/FlyDataC/FlyDB/Fly%04d/'%(fly.fly_num)\n",
    "    cmd = \"\"\"gcloud compute ssh psilentp@fly-cluster-master -q --command 'mkdir \"\"\" + dst_dir + \"\"\"'\"\"\"\n",
    "    print cmd\n",
    "    os.system(cmd)\n",
    "    while(True):\n",
    "        if os.path.isfile(fly.fly_path.replace('FlyDataC','FlyDataD')+'lock'):\n",
    "            print 'waiting for lock'\n",
    "            time.sleep(1)\n",
    "        else:\n",
    "            break\n",
    "    for item in copy_list:\n",
    "        copy_str = fly.fly_path + item\n",
    "        copy_str = copy_str.replace('FlyDataC','FlyDataD')\n",
    "        cmd = 'gcloud compute copy-files ' + copy_str + ' ' + google_root + '/Fly%04d/'%(fly.fly_num)\n",
    "        print cmd\n",
    "        os.system(cmd)"
   ]
  },
  {
   "cell_type": "code",
   "execution_count": null,
   "metadata": {
    "collapsed": true
   },
   "outputs": [],
   "source": []
  }
 ],
 "metadata": {
  "kernelspec": {
   "display_name": "Python 2",
   "language": "python",
   "name": "python2"
  },
  "language_info": {
   "codemirror_mode": {
    "name": "ipython",
    "version": 2
   },
   "file_extension": ".py",
   "mimetype": "text/x-python",
   "name": "python",
   "nbconvert_exporter": "python",
   "pygments_lexer": "ipython2",
   "version": "2.7.10"
  }
 },
 "nbformat": 4,
 "nbformat_minor": 0
}
