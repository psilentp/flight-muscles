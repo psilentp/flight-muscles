{
 "metadata": {
  "name": "",
  "signature": "sha256:1c2f18466f4ea70c99c99ba94dda1ddb857224732e4203eed8f19e4105cc8fd6"
 },
 "nbformat": 3,
 "nbformat_minor": 0,
 "worksheets": [
  {
   "cells": [
    {
     "cell_type": "code",
     "collapsed": false,
     "input": [
      "%pylab"
     ],
     "language": "python",
     "metadata": {},
     "outputs": [
      {
       "output_type": "stream",
       "stream": "stdout",
       "text": [
        "Using matplotlib backend: WXAgg\n",
        "Populating the interactive namespace from numpy and matplotlib\n"
       ]
      }
     ],
     "prompt_number": 1
    },
    {
     "cell_type": "code",
     "collapsed": false,
     "input": [
      "import os\n",
      "flynum = 384\n",
      "exp_name = 'step_yaw_mod1'\n",
      "dir_files = os.listdir('/media/FlyDataC/FlyDB/Fly0'+str(flynum))\n",
      "abf_file = [x for x in dir_files if '.abf' in x][0]\n",
      "tiff_file_base = 'T2_trial1_led_test'\n",
      "init_txt = \"\"\"\n",
      "def initfly_%s(self,flynum):\n",
      "    fly_db = self.fly_db\n",
      "    fly_db.create_group(flynum)\n",
      "    fly_record =fly_db[flynum]\n",
      "    fly_record.create_group('experiments')\n",
      "    fly_record['experiments'].create_group('%s')\n",
      "    fly_record['experiments']['%s']['axon_file_names'] = ['%s']\n",
      "    fly_record['experiments']['%s']['tiff_file_names'] = ['/%s/%s_MMStack.ome.tif']\n",
      "\"\"\"%(flynum,\n",
      "     exp_name,\n",
      "     exp_name,abf_file,\n",
      "     exp_name,tiff_file_base,tiff_file_base)\n",
      "print init_txt"
     ],
     "language": "python",
     "metadata": {},
     "outputs": [
      {
       "ename": "OSError",
       "evalue": "[Errno 2] No such file or directory: '/media/FlyDataC/FlyDB/Fly0384'",
       "output_type": "pyerr",
       "traceback": [
        "\u001b[1;31m---------------------------------------------------------------------------\u001b[0m\n\u001b[1;31mOSError\u001b[0m                                   Traceback (most recent call last)",
        "\u001b[1;32m<ipython-input-11-c4b6d46e3b77>\u001b[0m in \u001b[0;36m<module>\u001b[1;34m()\u001b[0m\n\u001b[0;32m      2\u001b[0m \u001b[0mflynum\u001b[0m \u001b[1;33m=\u001b[0m \u001b[1;36m384\u001b[0m\u001b[1;33m\u001b[0m\u001b[0m\n\u001b[0;32m      3\u001b[0m \u001b[0mexp_name\u001b[0m \u001b[1;33m=\u001b[0m \u001b[1;34m'step_yaw_mod1'\u001b[0m\u001b[1;33m\u001b[0m\u001b[0m\n\u001b[1;32m----> 4\u001b[1;33m \u001b[0mdir_files\u001b[0m \u001b[1;33m=\u001b[0m \u001b[0mos\u001b[0m\u001b[1;33m.\u001b[0m\u001b[0mlistdir\u001b[0m\u001b[1;33m(\u001b[0m\u001b[1;34m'/media/FlyDataC/FlyDB/Fly0'\u001b[0m\u001b[1;33m+\u001b[0m\u001b[0mstr\u001b[0m\u001b[1;33m(\u001b[0m\u001b[0mflynum\u001b[0m\u001b[1;33m)\u001b[0m\u001b[1;33m)\u001b[0m\u001b[1;33m\u001b[0m\u001b[0m\n\u001b[0m\u001b[0;32m      5\u001b[0m \u001b[0mabf_file\u001b[0m \u001b[1;33m=\u001b[0m \u001b[1;33m[\u001b[0m\u001b[0mx\u001b[0m \u001b[1;32mfor\u001b[0m \u001b[0mx\u001b[0m \u001b[1;32min\u001b[0m \u001b[0mdir_files\u001b[0m \u001b[1;32mif\u001b[0m \u001b[1;34m'.abf'\u001b[0m \u001b[1;32min\u001b[0m \u001b[0mx\u001b[0m\u001b[1;33m]\u001b[0m\u001b[1;33m[\u001b[0m\u001b[1;36m0\u001b[0m\u001b[1;33m]\u001b[0m\u001b[1;33m\u001b[0m\u001b[0m\n\u001b[0;32m      6\u001b[0m \u001b[0mtiff_file_base\u001b[0m \u001b[1;33m=\u001b[0m \u001b[1;34m'T2_trial1_led_test'\u001b[0m\u001b[1;33m\u001b[0m\u001b[0m\n",
        "\u001b[1;31mOSError\u001b[0m: [Errno 2] No such file or directory: '/media/FlyDataC/FlyDB/Fly0384'"
       ]
      }
     ],
     "prompt_number": 11
    },
    {
     "cell_type": "code",
     "collapsed": false,
     "input": [
      "import flylib\n",
      "import db_access as dba\n",
      "fly_db = dba.get_db()"
     ],
     "language": "python",
     "metadata": {},
     "outputs": [],
     "prompt_number": 1
    },
    {
     "cell_type": "code",
     "collapsed": false,
     "input": [
      "#test_group = [241,242,243,244,245,246,247]\n",
      "#test_group = [241,242,243,244]\n",
      "test_group = range(376,383)"
     ],
     "language": "python",
     "metadata": {},
     "outputs": [],
     "prompt_number": 2
    },
    {
     "cell_type": "code",
     "collapsed": false,
     "input": [
      "initializer = dba.InitDB()\n",
      "[initializer[fn] for fn in test_group]\n",
      "initializer.fly_db.flush()\n",
      "initializer.fly_db.close()"
     ],
     "language": "python",
     "metadata": {},
     "outputs": [
      {
       "output_type": "stream",
       "stream": "stdout",
       "text": [
        "<Closed HDF5 file>\n",
        "<Closed HDF5 file>\n",
        "<Closed HDF5 file>\n",
        "<Closed HDF5 file>\n",
        "<Closed HDF5 file>\n",
        "<Closed HDF5 file>\n",
        "<Closed HDF5 file>\n"
       ]
      }
     ],
     "prompt_number": 14
    },
    {
     "cell_type": "code",
     "collapsed": false,
     "input": [
      "swarm = flylib.Squadron(fly_db,test_group)\n",
      "for fly in swarm.flies:\n",
      "    for expmnt in fly.experiments.values():\n",
      "        try:\n",
      "            expmnt = fly.experiments['step_yaw_mod1']\n",
      "            print expmnt.exp_record['axon_file_names'].value\n",
      "            expmnt.import_axon_data()\n",
      "            fly_db.flush()\n",
      "            expmnt.import_tiff_data()\n",
      "            fly_db.flush()\n",
      "            expmnt.calc_framebase()\n",
      "            fly_db.flush()\n",
      "        except Exception, er:\n",
      "            print er\n",
      "        #expmnt.calc_framebase()\n",
      "        #fly_db.flush()"
     ],
     "language": "python",
     "metadata": {},
     "outputs": [
      {
       "output_type": "stream",
       "stream": "stdout",
       "text": [
        "['T2_trial1_led_test_15302000.abf']\n",
        "['T2_trial1_led_test_15302001.abf']"
       ]
      },
      {
       "output_type": "stream",
       "stream": "stdout",
       "text": [
        "\n",
        "['T2_trial1_led_test_15302003.abf']"
       ]
      },
      {
       "output_type": "stream",
       "stream": "stdout",
       "text": [
        "\n",
        "['T2_trial1_led_test_15302004.abf']"
       ]
      },
      {
       "output_type": "stream",
       "stream": "stdout",
       "text": [
        "\n",
        "['T2_trial1_led_test_15304000.abf']"
       ]
      },
      {
       "output_type": "stream",
       "stream": "stdout",
       "text": [
        "\n",
        "['T2_trial1_led_test_15304002.abf']"
       ]
      },
      {
       "output_type": "stream",
       "stream": "stdout",
       "text": [
        "\n",
        "['T2_trial1_led_test_15304003.abf']"
       ]
      },
      {
       "output_type": "stream",
       "stream": "stdout",
       "text": [
        "\n"
       ]
      },
      {
       "output_type": "stream",
       "stream": "stderr",
       "text": [
        "/media/FlyDataC/flight-muscles/src/flylib.py:572: RuntimeWarning: divide by zero encountered in divide\n",
        "  update_dset(self.exp_record['axon_data'],'wb_frequency',1.0/period)\n"
       ]
      }
     ],
     "prompt_number": 3
    },
    {
     "cell_type": "code",
     "collapsed": false,
     "input": [
      "fname = '/media/FlyDataC/FlyDB/Fly0344/T2_trial1_led_test/T2_trial1_led_test_MMStack.ome.tif'"
     ],
     "language": "python",
     "metadata": {},
     "outputs": [],
     "prompt_number": 4
    },
    {
     "cell_type": "code",
     "collapsed": false,
     "input": [
      "import tifffile"
     ],
     "language": "python",
     "metadata": {},
     "outputs": [],
     "prompt_number": 5
    },
    {
     "cell_type": "code",
     "collapsed": false,
     "input": [
      "tifffile.TiffFile(fname)"
     ],
     "language": "python",
     "metadata": {},
     "outputs": [
      {
       "metadata": {},
       "output_type": "pyout",
       "prompt_number": 6,
       "text": [
        "<tifffile.TiffFile at 0x26ce8d0>"
       ]
      }
     ],
     "prompt_number": 6
    },
    {
     "cell_type": "code",
     "collapsed": false,
     "input": [
      "imarray = tf.asarray()"
     ],
     "language": "python",
     "metadata": {},
     "outputs": [],
     "prompt_number": 8
    },
    {
     "cell_type": "code",
     "collapsed": false,
     "input": [
      "expmnt.exp_record['tiff_data']['axon_framebase'].keys()"
     ],
     "language": "python",
     "metadata": {},
     "outputs": [
      {
       "metadata": {},
       "output_type": "pyout",
       "prompt_number": 4,
       "text": [
        "[u'AMsysCh1',\n",
        " u'CamSync',\n",
        " u'CamTrig',\n",
        " u'DAC2',\n",
        " u'LeftWing',\n",
        " u'Ph0',\n",
        " u'Ph1',\n",
        " u'Ph2',\n",
        " u'Ph3',\n",
        " u'Photostim',\n",
        " u'RightWing',\n",
        " u'StimCond',\n",
        " u'WBSync',\n",
        " u'Xpos',\n",
        " u'Ypos',\n",
        " u'strobe_time',\n",
        " u'times',\n",
        " u'wb_frequency',\n",
        " u'wb_period']"
       ]
      }
     ],
     "prompt_number": 4
    },
    {
     "cell_type": "code",
     "collapsed": false,
     "input": [
      "plot(expmnt.exp_record['tiff_data']['axon_framebase']['wb_frequency'])"
     ],
     "language": "python",
     "metadata": {},
     "outputs": [
      {
       "metadata": {},
       "output_type": "pyout",
       "prompt_number": 8,
       "text": [
        "[<matplotlib.lines.Line2D at 0x87661d50>]"
       ]
      }
     ],
     "prompt_number": 8
    },
    {
     "cell_type": "code",
     "collapsed": false,
     "input": [
      "%pylab"
     ],
     "language": "python",
     "metadata": {},
     "outputs": [
      {
       "output_type": "stream",
       "stream": "stdout",
       "text": [
        "Using matplotlib backend: WXAgg\n",
        "Populating the interactive namespace from numpy and matplotlib\n"
       ]
      }
     ],
     "prompt_number": 6
    },
    {
     "cell_type": "code",
     "collapsed": false,
     "input": [
      "fly = swarm.flies[3]"
     ],
     "language": "python",
     "metadata": {},
     "outputs": [],
     "prompt_number": 53
    },
    {
     "cell_type": "code",
     "collapsed": false,
     "input": [
      "expmnt = fly.experiments.values()[0]"
     ],
     "language": "python",
     "metadata": {},
     "outputs": [],
     "prompt_number": 54
    },
    {
     "cell_type": "code",
     "collapsed": false,
     "input": [
      "expmnt.exp_record['tiff_data']['axon_framebase'].keys()"
     ],
     "language": "python",
     "metadata": {},
     "outputs": [
      {
       "metadata": {},
       "output_type": "pyout",
       "prompt_number": 55,
       "text": [
        "[u'AMsysCh1',\n",
        " u'CamSync',\n",
        " u'CamTrig',\n",
        " u'DAC2',\n",
        " u'LeftWing',\n",
        " u'Ph0',\n",
        " u'Ph1',\n",
        " u'Ph2',\n",
        " u'Ph3',\n",
        " u'Photostim',\n",
        " u'RightWing',\n",
        " u'StimCond',\n",
        " u'WBSync',\n",
        " u'Xpos',\n",
        " u'Ypos',\n",
        " u'times']"
       ]
      }
     ],
     "prompt_number": 55
    },
    {
     "cell_type": "code",
     "collapsed": false,
     "input": [
      "plot(expmnt.exp_record['tiff_data']['axon_framebase']['times'],expmnt.exp_record['tiff_data']['axon_framebase']['Photostim'])"
     ],
     "language": "python",
     "metadata": {},
     "outputs": [
      {
       "metadata": {},
       "output_type": "pyout",
       "prompt_number": 9,
       "text": [
        "[<matplotlib.lines.Line2D at 0xa794190>]"
       ]
      }
     ],
     "prompt_number": 9
    },
    {
     "cell_type": "code",
     "collapsed": false,
     "input": [
      "plot(expmnt.exp_record['axon_data']['times'][:3000000],expmnt.exp_record['axon_data']['WBSync'][:3000000])"
     ],
     "language": "python",
     "metadata": {},
     "outputs": [
      {
       "metadata": {},
       "output_type": "pyout",
       "prompt_number": 51,
       "text": [
        "[<matplotlib.lines.Line2D at 0x63885350>]"
       ]
      }
     ],
     "prompt_number": 51
    },
    {
     "cell_type": "code",
     "collapsed": false,
     "input": [
      "def calc_wb_period():\n",
      "    wb_trigs = np.diff((np.array(expmnt.exp_record['axon_data']['WBSync']) > 1).astype(int))>0\n",
      "    wb_trigs = np.hstack((wb_trigs,np.array([0])))\n",
      "    wb_times = np.array(expmnt.exp_record['axon_data']['times'])\n",
      "    trigidx = where(wb_trigs)[0]\n",
      "    idx_intervals = vstack((hstack(([0],trigidx[:-1])),trigidx))\n",
      "    time_intervals = vstack((wb_times[idx_intervals[0,:]],wb_times[idx_intervals[1,:]]))\n",
      "    wb_periods = squeeze(diff(time_intervals,axis = 0 ))\n",
      "    period_sig = zeros_like(wb_trigs).astype(float)\n",
      "    for interval,period in zip(idx_intervals[:,:].T,wb_periods):\n",
      "        period_sig[interval[0]:interval[1]] = period\n",
      "    return period_sig"
     ],
     "language": "python",
     "metadata": {},
     "outputs": [],
     "prompt_number": 58
    },
    {
     "cell_type": "code",
     "collapsed": false,
     "input": [
      "period = calc_wb_period()"
     ],
     "language": "python",
     "metadata": {},
     "outputs": [],
     "prompt_number": 100
    },
    {
     "cell_type": "code",
     "collapsed": false,
     "input": [
      "plot(1/psig[::100])"
     ],
     "language": "python",
     "metadata": {},
     "outputs": [
      {
       "output_type": "stream",
       "stream": "stderr",
       "text": [
        "-c:1: RuntimeWarning: divide by zero encountered in divide\n"
       ]
      },
      {
       "metadata": {},
       "output_type": "pyout",
       "prompt_number": 60,
       "text": [
        "[<matplotlib.lines.Line2D at 0x72b9ced0>]"
       ]
      }
     ],
     "prompt_number": 60
    },
    {
     "cell_type": "code",
     "collapsed": false,
     "input": [
      "fly = swarm.flies[8]\n",
      "expmnt = fly.experiments.values()[0]\n",
      "sigs = expmnt.exp_record['axon_data']\n",
      "ax_dt = sigs['times'][1]-sigs['times'][0]\n",
      "#block to get stim time during exposure\n",
      "strobe = np.array(sigs['Photostim']) > 1\n",
      "wmask = ((np.array(sigs['LeftWing']) + \n",
      "          np.array(sigs['RightWing']))/2.0) < 1.0\n",
      "fmask = np.array(sigs['CamSync'])> 1\n",
      "strobe = strobe & wmask & fmask\n",
      "exposures = flb.idx_by_thresh(np.array(sigs['CamSync']),thresh = 1)\n",
      "dsamp1 = np.array([np.sum(strobe[ex])*ax_dt for ex in exposures])"
     ],
     "language": "python",
     "metadata": {},
     "outputs": [],
     "prompt_number": 132
    },
    {
     "cell_type": "code",
     "collapsed": false,
     "input": [
      "plot(dsamp1)"
     ],
     "language": "python",
     "metadata": {},
     "outputs": [
      {
       "metadata": {},
       "output_type": "pyout",
       "prompt_number": 133,
       "text": [
        "[<matplotlib.lines.Line2D at 0x92f7b110>]"
       ]
      }
     ],
     "prompt_number": 133
    },
    {
     "cell_type": "code",
     "collapsed": false,
     "input": [
      "fly.fly_num"
     ],
     "language": "python",
     "metadata": {},
     "outputs": [
      {
       "metadata": {},
       "output_type": "pyout",
       "prompt_number": 131,
       "text": [
        "309"
       ]
      }
     ],
     "prompt_number": 131
    },
    {
     "cell_type": "code",
     "collapsed": false,
     "input": [
      "expmnt.exp_record['tiff_data']['axon_framebase'].keys()"
     ],
     "language": "python",
     "metadata": {},
     "outputs": [
      {
       "metadata": {},
       "output_type": "pyout",
       "prompt_number": 105,
       "text": [
        "[u'AMsysCh1',\n",
        " u'CamSync',\n",
        " u'CamTrig',\n",
        " u'DAC2',\n",
        " u'LeftWing',\n",
        " u'Ph0',\n",
        " u'Ph1',\n",
        " u'Ph2',\n",
        " u'Ph3',\n",
        " u'Photostim',\n",
        " u'RightWing',\n",
        " u'StimCond',\n",
        " u'WBSync',\n",
        " u'Xpos',\n",
        " u'Ypos',\n",
        " u'times']"
       ]
      }
     ],
     "prompt_number": 105
    },
    {
     "cell_type": "code",
     "collapsed": false,
     "input": [],
     "language": "python",
     "metadata": {},
     "outputs": [
      {
       "metadata": {},
       "output_type": "pyout",
       "prompt_number": 110,
       "text": [
        "2.0000000000000002e-05"
       ]
      }
     ],
     "prompt_number": 110
    },
    {
     "cell_type": "code",
     "collapsed": false,
     "input": [
      "plot(wb_times[:10000000])"
     ],
     "language": "python",
     "metadata": {},
     "outputs": [
      {
       "metadata": {},
       "output_type": "pyout",
       "prompt_number": 75,
       "text": [
        "[<matplotlib.lines.Line2D at 0xcb862790>]"
       ]
      }
     ],
     "prompt_number": 75
    },
    {
     "cell_type": "code",
     "collapsed": false,
     "input": [
      "fly = swarm.flies[3]\n",
      "exp = fly.experiments['img_pattern_test_t2_lightoff']\n",
      "sequences = exp.exp_record['sequences'].values()\n",
      "sig = np.array(exp.exp_record['axon_data']['Ph1'])\n",
      "for seq in sequences:\n",
      "    if seq['epoch_name'].value == 'static_test_roll_90.mat':\n",
      "        subplot(3,1,2)\n",
      "        ep = np.array(seq['epoch'])\n",
      "        plot(sig[ep],color = 'r',alpha = 0.5)\n",
      "    if seq['epoch_name'].value == 'static_test_roll_270.mat':\n",
      "        subplot(3,1,2)\n",
      "        ep = np.array(seq['epoch'])\n",
      "        plot(sig[ep],color = 'b',alpha = 0.5)\n",
      "    if seq['epoch_name'].value == 'static_test_yaw_90.mat':\n",
      "        subplot(3,1,3)\n",
      "        ep = np.array(seq['epoch'])\n",
      "        plot(sig[ep],color = 'r',alpha = 0.5)\n",
      "    if seq['epoch_name'].value == 'static_test_yaw_270.mat':\n",
      "        subplot(3,1,3)\n",
      "        ep = np.array(seq['epoch'])\n",
      "        plot(sig[ep],color = 'b',alpha = 0.5)"
     ],
     "language": "python",
     "metadata": {},
     "outputs": [],
     "prompt_number": 8
    },
    {
     "cell_type": "code",
     "collapsed": false,
     "input": [],
     "language": "python",
     "metadata": {},
     "outputs": [],
     "prompt_number": 3
    },
    {
     "cell_type": "code",
     "collapsed": false,
     "input": [],
     "language": "python",
     "metadata": {},
     "outputs": [],
     "prompt_number": 4
    },
    {
     "cell_type": "code",
     "collapsed": false,
     "input": [],
     "language": "python",
     "metadata": {},
     "outputs": [],
     "prompt_number": 5
    },
    {
     "cell_type": "code",
     "collapsed": false,
     "input": [],
     "language": "python",
     "metadata": {},
     "outputs": []
    },
    {
     "cell_type": "code",
     "collapsed": false,
     "input": [],
     "language": "python",
     "metadata": {},
     "outputs": []
    },
    {
     "cell_type": "code",
     "collapsed": false,
     "input": [],
     "language": "python",
     "metadata": {},
     "outputs": []
    },
    {
     "cell_type": "code",
     "collapsed": false,
     "input": [],
     "language": "python",
     "metadata": {},
     "outputs": []
    },
    {
     "cell_type": "code",
     "collapsed": false,
     "input": [
      "d2 = np.array(expmnt.exp_record['axon_data']['DAC2'])\n",
      "for key in sorted([int(x) for x in expmnt.exp_record['sequences'].keys()])[0:12]:\n",
      "    print expmnt.exp_record['sequences'][str(key)]['epoch_name'].value\n",
      "    ep = np.array(expmnt.exp_record['sequences'][str(key)]['epoch'][::1000])\n",
      "    plot(d2[ep])"
     ],
     "language": "python",
     "metadata": {},
     "outputs": [
      {
       "output_type": "stream",
       "stream": "stdout",
       "text": [
        "static_test_90.mat\n",
        "static_test_90.mat\n",
        "static_test_90.mat\n",
        "static_test_90.mat\n",
        "static_test_90.mat\n",
        "static_test_90.mat\n",
        "static_test_90.mat\n",
        "static_test_90.mat\n",
        "static_test_90.mat\n",
        "static_test_90.mat\n",
        "static_test_90.mat\n",
        "static_test_90.mat\n"
       ]
      }
     ],
     "prompt_number": 16
    },
    {
     "cell_type": "code",
     "collapsed": false,
     "input": [
      "fly_db.flush()"
     ],
     "language": "python",
     "metadata": {},
     "outputs": [],
     "prompt_number": 17
    },
    {
     "cell_type": "code",
     "collapsed": false,
     "input": [
      "fly_db.close()"
     ],
     "language": "python",
     "metadata": {},
     "outputs": [
      {
       "output_type": "stream",
       "stream": "stdout",
       "text": [
        "<Closed HDF5 file>\n",
        "<Closed HDF5 file>\n",
        "<Closed HDF5 file>\n",
        "<Closed HDF5 file>\n",
        "<Closed HDF5 file>\n",
        "<Closed HDF5 file>\n",
        "<Closed HDF5 file>\n",
        "<Closed HDF5 file>\n",
        "<Closed HDF5 file>\n",
        "<Closed HDF5 file>\n",
        "<Closed HDF5 file>\n",
        "<Closed HDF5 file>\n",
        "<Closed HDF5 file>\n",
        "<Closed HDF5 file>\n",
        "<Closed HDF5 file>\n",
        "<Closed HDF5 file>\n",
        "<Closed HDF5 file>\n",
        "<Closed HDF5 file>\n",
        "<Closed HDF5 file>\n",
        "<Closed HDF5 file>\n",
        "<Closed HDF5 file>\n",
        "<Closed HDF5 file>\n",
        "<Closed HDF5 file>\n",
        "<Closed HDF5 file>\n",
        "<Closed HDF5 file>\n",
        "<Closed HDF5 file>\n",
        "<Closed HDF5 file>\n",
        "<Closed HDF5 file>\n",
        "<Closed HDF5 file>\n",
        "<Closed HDF5 file>\n",
        "<Closed HDF5 file>\n",
        "<Closed HDF5 file>\n",
        "<Closed HDF5 file>\n",
        "<Closed HDF5 file>\n",
        "<Closed HDF5 file>\n",
        "<Closed HDF5 file>\n",
        "<Closed HDF5 file>\n",
        "<Closed HDF5 file>\n",
        "<Closed HDF5 file>\n",
        "<Closed HDF5 file>\n",
        "<Closed HDF5 file>\n",
        "<Closed HDF5 file>\n",
        "<Closed HDF5 file>\n"
       ]
      }
     ],
     "prompt_number": 18
    },
    {
     "cell_type": "code",
     "collapsed": false,
     "input": [
      "set([99, 50, 17, 66, 33, 83, 99, 50, 17, 66, 83, 33, 33, 66, 17, 99, 50, 83, 66, 99, 17, 33, 83, 50, 66, 50, 99, 33, 17, 83, 66, 99, 50, 83, 17, 33, 33, 50, 83, 66, 17, 99, 33, 17, 83, 50, 99, 66, 66, 99, 17, 50, 83, 33, 33, 99, 17, 83, 66, 50, 83, 50, 17, 66, 33, 99, 66, 50, 99, 17, 33, 83])"
     ],
     "language": "python",
     "metadata": {},
     "outputs": [
      {
       "metadata": {},
       "output_type": "pyout",
       "prompt_number": 14,
       "text": [
        "{17, 33, 50, 66, 83, 99}"
       ]
      }
     ],
     "prompt_number": 14
    },
    {
     "cell_type": "code",
     "collapsed": false,
     "input": [
      "fly_db.close()"
     ],
     "language": "python",
     "metadata": {},
     "outputs": [
      {
       "output_type": "stream",
       "stream": "stdout",
       "text": [
        "<Closed HDF5 file>\n",
        "<Closed HDF5 file>\n",
        "<Closed HDF5 file>\n",
        "<Closed HDF5 file>\n",
        "<Closed HDF5 file>\n",
        "<Closed HDF5 file>\n",
        "<Closed HDF5 file>\n",
        "<Closed HDF5 file>\n",
        "<Closed HDF5 file>\n",
        "<Closed HDF5 file>\n",
        "<Closed HDF5 file>\n",
        "<Closed HDF5 file>\n",
        "<Closed HDF5 file>\n",
        "<Closed HDF5 file>\n",
        "<Closed HDF5 file>\n",
        "<Closed HDF5 file>\n",
        "<Closed HDF5 file>\n",
        "<Closed HDF5 file>\n",
        "<Closed HDF5 file>\n",
        "<Closed HDF5 file>\n",
        "<Closed HDF5 file>\n",
        "<Closed HDF5 file>\n",
        "<Closed HDF5 file>\n",
        "<Closed HDF5 file>\n",
        "<Closed HDF5 file>\n",
        "<Closed HDF5 file>\n",
        "<Closed HDF5 file>\n",
        "<Closed HDF5 file>\n",
        "<Closed HDF5 file>\n",
        "<Closed HDF5 file>\n",
        "<Closed HDF5 file>\n",
        "<Closed HDF5 file>"
       ]
      },
      {
       "output_type": "stream",
       "stream": "stdout",
       "text": [
        "\n",
        "<Closed HDF5 file>\n",
        "<Closed HDF5 file>\n",
        "<Closed HDF5 file>\n",
        "<Closed HDF5 file>\n",
        "<Closed HDF5 file>\n",
        "<Closed HDF5 file>\n",
        "<Closed HDF5 file>\n",
        "<Closed HDF5 file>\n",
        "<Closed HDF5 file>\n",
        "<Closed HDF5 file>\n",
        "<Closed HDF5 file>\n"
       ]
      }
     ],
     "prompt_number": 7
    },
    {
     "cell_type": "code",
     "collapsed": false,
     "input": [
      "flynum = str(130)\n",
      "fly_db.create_group(flynum)\n",
      "fly_record = fly_db[flynum]\n",
      "fly_record['flynum'] = flynum\n",
      "fly_record.create_group('experiments')\n",
      "fly_record['experiments'].create_group('lr_blob_expansion')\n",
      "#fly_record['experiments'].create_group('b1_azm_expansion_tuning')\n",
      "fly_record['experiments']['lr_blob_expansion']['photron_seq_nums'] = [1,2,3,4,5,6]\n",
      "fly_record['experiments']['lr_blob_expansion']['axon_file_names'] = ['fly01_lr_blob_expansion_14506005.abf']\n",
      "fly_record['experiments']['lr_blob_expansion']['photron_date_string'] = ['20140506']\n",
      "fly_record['experiments']['lr_blob_expansion']['kine_filename'] = ['WBkin.mat']\n",
      "fly_record['experiments']['lr_blob_expansion']['solution_format_string'] = ['20140506_S%04d/']\n",
      "fly_record['experiments']['lr_blob_expansion']['photron_frame_rate_Hz'] = 6000\n",
      "fly_record['experiments']['lr_blob_expansion']['Ypos_trial_volts'] = np.linspace(1,10,12)\n",
      "fly_record['experiments']['lr_blob_expansion']['Ypos_trial_vals'] = np.concatenate(([np.nan],np.arange(0,12)*30))\n",
      "fly_record['experiments']['lr_blob_expansion']['AMsysCh1_ID'] = 'i1'\n",
      "fly_record['experiments']['lr_blob_expansion']['AMsysCh1_side'] = 'r'\n",
      "fly_record['experiments']['lr_blob_expansion'].create_group('sequences')"
     ],
     "language": "python",
     "metadata": {},
     "outputs": [
      {
       "metadata": {},
       "output_type": "pyout",
       "prompt_number": 2,
       "text": [
        "<HDF5 group \"/130/experiments/lr_blob_expansion/sequences\" (0 members)>"
       ]
      }
     ],
     "prompt_number": 2
    },
    {
     "cell_type": "code",
     "collapsed": false,
     "input": [],
     "language": "python",
     "metadata": {},
     "outputs": [
      {
       "metadata": {},
       "output_type": "pyout",
       "prompt_number": 1,
       "text": [
        "[(0, 'a'), (1, 'b'), (2, 'c'), (3, 'd')]"
       ]
      }
     ],
     "prompt_number": 1
    },
    {
     "cell_type": "code",
     "collapsed": false,
     "input": [
      "#ephys_group = [111,112,114,115,116,117,118,122,123,124,125]\n",
      "i1_group = [130]\n",
      "swarm = flylib.Squadron(fly_db,i1_group)\n",
      "for fly in swarm.flies:\n",
      "    lrb = fly.experiments['lr_blob_expansion']\n",
      "    print 'importing data for fly%s'%fly.fly_num\n",
      "    lrb.import_axon_data()\n",
      "    lrb.import_sequence_data()\n",
      "    print 'syncing data'\n",
      "    lrb.sync_sequences()\n",
      "    print lrb.sequences.keys()\n",
      "    for seq_key in lrb.sequences.keys():\n",
      "        seq = lrb.sequences[seq_key]\n",
      "        print 'initializing seq %s'%(seq.seq_num)\n",
      "        seq.calc_kine_phases(fband = (180,350))\n",
      "        seq.calc_wb_mtrx()\n",
      "        seq.calc_stim_frame(x_thresh = 2.5)\n",
      "        fly_db.flush()"
     ],
     "language": "python",
     "metadata": {},
     "outputs": [
      {
       "output_type": "stream",
       "stream": "stdout",
       "text": [
        "importing data for fly130\n",
        "syncing data"
       ]
      },
      {
       "output_type": "stream",
       "stream": "stdout",
       "text": [
        "\n",
        "[1, 2, 3, 4, 5, 6]"
       ]
      },
      {
       "output_type": "stream",
       "stream": "stdout",
       "text": [
        "\n",
        "initializing seq 1\n",
        "initializing seq 2"
       ]
      },
      {
       "output_type": "stream",
       "stream": "stdout",
       "text": [
        "\n",
        "initializing seq 3"
       ]
      },
      {
       "output_type": "stream",
       "stream": "stdout",
       "text": [
        "\n",
        "initializing seq 4"
       ]
      },
      {
       "output_type": "stream",
       "stream": "stdout",
       "text": [
        "\n",
        "initializing seq 5"
       ]
      },
      {
       "output_type": "stream",
       "stream": "stdout",
       "text": [
        "\n",
        "initializing seq 6"
       ]
      },
      {
       "output_type": "stream",
       "stream": "stdout",
       "text": [
        "\n"
       ]
      },
      {
       "output_type": "stream",
       "stream": "stderr",
       "text": [
        "flylib.py:230: UserWarning: problem extracting idxs from camera_sync_signal for sequence 1 using even spaced idx's over the camera epoch instead\n",
        "  warnings.warn(\"problem extracting idxs from camera_sync_signal for sequence %s using even spaced idx's over the camera epoch instead\"%(snum))\n"
       ]
      }
     ],
     "prompt_number": 3
    },
    {
     "cell_type": "code",
     "collapsed": false,
     "input": [
      "imaging_group = [151,153,154,155,156,157,158,159,160,161,162,163,164,165,166,167,168,169]\n",
      "swarm = flylib.Squadron(fly_db,imaging_group)\n",
      "for fly in swarm.flies:\n",
      "    img_star = fly.experiments['img_starfield_t2_rep1']\n",
      "    print 'importing data for fly%s'%fly.fly_num\n",
      "    img_star.import_axon_data()\n",
      "    img_star.import_tiff_data()\n",
      "    fly_db.flush()"
     ],
     "language": "python",
     "metadata": {},
     "outputs": [
      {
       "output_type": "stream",
       "stream": "stdout",
       "text": [
        "importing data for fly151\n",
        "importing data for fly153"
       ]
      },
      {
       "output_type": "stream",
       "stream": "stdout",
       "text": [
        "\n",
        "importing data for fly154"
       ]
      },
      {
       "output_type": "stream",
       "stream": "stdout",
       "text": [
        "\n",
        "importing data for fly155"
       ]
      },
      {
       "output_type": "stream",
       "stream": "stdout",
       "text": [
        "\n",
        "importing data for fly156"
       ]
      },
      {
       "output_type": "stream",
       "stream": "stdout",
       "text": [
        "\n",
        "importing data for fly157"
       ]
      },
      {
       "output_type": "stream",
       "stream": "stdout",
       "text": [
        "\n",
        "importing data for fly158"
       ]
      },
      {
       "output_type": "stream",
       "stream": "stdout",
       "text": [
        "\n",
        "importing data for fly159"
       ]
      },
      {
       "output_type": "stream",
       "stream": "stdout",
       "text": [
        "\n",
        "importing data for fly160"
       ]
      },
      {
       "output_type": "stream",
       "stream": "stdout",
       "text": [
        "\n",
        "importing data for fly161"
       ]
      },
      {
       "output_type": "stream",
       "stream": "stdout",
       "text": [
        "\n",
        "importing data for fly162"
       ]
      },
      {
       "output_type": "stream",
       "stream": "stdout",
       "text": [
        "\n",
        "importing data for fly163"
       ]
      },
      {
       "output_type": "stream",
       "stream": "stdout",
       "text": [
        "\n",
        "importing data for fly164"
       ]
      },
      {
       "output_type": "stream",
       "stream": "stdout",
       "text": [
        "\n",
        "importing data for fly165"
       ]
      },
      {
       "output_type": "stream",
       "stream": "stdout",
       "text": [
        "\n",
        "importing data for fly166"
       ]
      },
      {
       "output_type": "stream",
       "stream": "stdout",
       "text": [
        "\n",
        "importing data for fly167"
       ]
      },
      {
       "output_type": "stream",
       "stream": "stdout",
       "text": [
        "\n",
        "importing data for fly168"
       ]
      },
      {
       "output_type": "stream",
       "stream": "stdout",
       "text": [
        "\n",
        "importing data for fly169"
       ]
      },
      {
       "output_type": "stream",
       "stream": "stdout",
       "text": [
        "\n"
       ]
      },
      {
       "output_type": "stream",
       "stream": "stderr",
       "text": [
        "tifffile.py:2170: UserWarning: failed to import _tifffile.decodepackbits\n",
        "  warnings.warn(\"failed to import %s\" % module_function)\n",
        "tifffile.py:2170: UserWarning: failed to import _tifffile.decodelzw\n",
        "  warnings.warn(\"failed to import %s\" % module_function)\n",
        "tifffile.py:2170: UserWarning: failed to import _tifffile.unpackints\n",
        "  warnings.warn(\"failed to import %s\" % module_function)\n"
       ]
      }
     ],
     "prompt_number": 5
    },
    {
     "cell_type": "code",
     "collapsed": false,
     "input": [],
     "language": "python",
     "metadata": {},
     "outputs": []
    }
   ],
   "metadata": {}
  }
 ]
}