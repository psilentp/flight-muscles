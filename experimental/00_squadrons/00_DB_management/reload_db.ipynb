{
 "cells": [
  {
   "cell_type": "code",
   "execution_count": 1,
   "metadata": {
    "collapsed": false,
    "scrolled": true
   },
   "outputs": [
    {
     "name": "stdout",
     "output_type": "stream",
     "text": [
      "Using matplotlib backend: Qt4Agg\n",
      "Populating the interactive namespace from numpy and matplotlib\n"
     ]
    }
   ],
   "source": [
    "%pylab"
   ]
  },
  {
   "cell_type": "code",
   "execution_count": 2,
   "metadata": {
    "collapsed": true
   },
   "outputs": [],
   "source": [
    "import sys"
   ]
  },
  {
   "cell_type": "code",
   "execution_count": 3,
   "metadata": {
    "collapsed": false
   },
   "outputs": [],
   "source": [
    "sys.path.append('F:\\\\flight-muscles\\\\packages')\n",
    "sys.path.append('F:\\\\flight-muscles\\\\src')"
   ]
  },
  {
   "cell_type": "code",
   "execution_count": 4,
   "metadata": {
    "collapsed": false
   },
   "outputs": [
    {
     "data": {
      "text/plain": [
       "'/media/flyranch/FlyDataC/FlyDB/Fly0601'"
      ]
     },
     "execution_count": 4,
     "metadata": {},
     "output_type": "execute_result"
    }
   ],
   "source": [
    "import os\n",
    "flynum = 601\n",
    "os.path.abspath('/media/flyranch/FlyDataC/FlyDB/Fly0'+str(flynum))"
   ]
  },
  {
   "cell_type": "code",
   "execution_count": 4,
   "metadata": {
    "collapsed": false
   },
   "outputs": [
    {
     "name": "stdout",
     "output_type": "stream",
     "text": [
      "\n",
      "    def initfly_638(self,flynum):\n",
      "        fly_db = self.fly_db\n",
      "        fly_db.create_group(flynum)\n",
      "        fly_record =fly_db[flynum]\n",
      "        fly_record.create_group('experiments')\n",
      "        fly_record['experiments'].create_group('roll_yaw')\n",
      "        fly_record['experiments']['roll_yaw']['axon_file_names'] = ['16221001.abf']\n",
      "        fly_record['experiments']['roll_yaw']['tiff_file_names'] = ['/T2_trial1_roll_yaw/T2_trial1_roll_yaw_MMStack.ome.tif']\n",
      "    \n",
      "\n",
      "    def initfly_639(self,flynum):\n",
      "        fly_db = self.fly_db\n",
      "        fly_db.create_group(flynum)\n",
      "        fly_record =fly_db[flynum]\n",
      "        fly_record.create_group('experiments')\n",
      "        fly_record['experiments'].create_group('roll_yaw')\n",
      "        fly_record['experiments']['roll_yaw']['axon_file_names'] = ['16221002.abf']\n",
      "        fly_record['experiments']['roll_yaw']['tiff_file_names'] = ['/T2_trial1_roll_yaw/T2_trial1_roll_yaw_MMStack.ome.tif']\n",
      "    \n",
      "\n",
      "    def initfly_640(self,flynum):\n",
      "        fly_db = self.fly_db\n",
      "        fly_db.create_group(flynum)\n",
      "        fly_record =fly_db[flynum]\n",
      "        fly_record.create_group('experiments')\n",
      "        fly_record['experiments'].create_group('roll_yaw')\n",
      "        fly_record['experiments']['roll_yaw']['axon_file_names'] = ['16221003.abf']\n",
      "        fly_record['experiments']['roll_yaw']['tiff_file_names'] = ['/T2_trial1_roll_yaw/T2_trial1_roll_yaw_MMStack.ome.tif']\n",
      "    \n"
     ]
    }
   ],
   "source": [
    "## generate python functions to initalize the datastore for each fly\n",
    "## output of this code goes into flydb.py\n",
    "import os\n",
    "for flynum in range(638,641):\n",
    "        #fly_db = self.fly_db#range(526,527): #520\n",
    "    exp_name = 'roll_yaw'\n",
    "    #dir_files = os.listdir('/media/FlyDataC/FlyDB/Fly0'+str(flynum))\n",
    "    dir_files = os.listdir('/media/flyranch/FlyDataC/FlyDB/Fly0'+str(flynum))\n",
    "    abf_file = [x for x in dir_files if '.abf' in x][0]\n",
    "    tiff_file_base = 'T2_trial1_roll_yaw'\n",
    "    init_txt = \"\"\"\n",
    "    def initfly_%s(self,flynum):\n",
    "        fly_db = self.fly_db\n",
    "        fly_db.create_group(flynum)\n",
    "        fly_record =fly_db[flynum]\n",
    "        fly_record.create_group('experiments')\n",
    "        fly_record['experiments'].create_group('%s')\n",
    "        fly_record['experiments']['%s']['axon_file_names'] = ['%s']\n",
    "        fly_record['experiments']['%s']['tiff_file_names'] = ['/%s/%s_MMStack.ome.tif']\n",
    "    \"\"\"%(flynum,\n",
    "         exp_name,\n",
    "         exp_name,abf_file,\n",
    "         exp_name,tiff_file_base,tiff_file_base)\n",
    "    print init_txt"
   ]
  },
  {
   "cell_type": "code",
   "execution_count": 1,
   "metadata": {
    "collapsed": false
   },
   "outputs": [],
   "source": [
    "#open the datastore\n",
    "import flylib\n",
    "import db_access as dba\n",
    "fly_db = dba.get_db()"
   ]
  },
  {
   "cell_type": "code",
   "execution_count": 3,
   "metadata": {
    "collapsed": false
   },
   "outputs": [],
   "source": [
    "# list of fly number to work with\n",
    "#test_group = [241,242,243,244,245,246,247]\n",
    "#test_group = [241,242,243,244]\n",
    "#test_group = [587,588,589,590]\n",
    "#test_group = [595]\n",
    "test_group = range(638,641)"
   ]
  },
  {
   "cell_type": "code",
   "execution_count": 3,
   "metadata": {
    "collapsed": false,
    "scrolled": true
   },
   "outputs": [],
   "source": [
    "# initialize the hdf5 files for each fly\n",
    "initializer = dba.InitDB()\n",
    "[initializer[fn] for fn in test_group]\n",
    "initializer.fly_db.flush()\n",
    "initializer.fly_db.close()  "
   ]
  },
  {
   "cell_type": "code",
   "execution_count": 4,
   "metadata": {
    "collapsed": false,
    "scrolled": true
   },
   "outputs": [
    {
     "name": "stdout",
     "output_type": "stream",
     "text": [
      "Unable to create link (Name already exists)\n",
      "runtime error\n",
      "Xpos\n",
      "Unable to create link (Name already exists)\n",
      "runtime error\n",
      "WBSync\n",
      "Unable to create link (Name already exists)\n",
      "runtime error\n",
      "Photostim\n",
      "Unable to create link (Name already exists)\n",
      "runtime error\n",
      "Ypos\n",
      "Unable to create link (Name already exists)\n",
      "runtime error\n",
      "CamSync\n",
      "Unable to create link (Name already exists)\n",
      "runtime error\n",
      "CamTrig\n",
      "Unable to create link (Name already exists)\n",
      "runtime error\n",
      "LeftWing\n",
      "Unable to create link (Name already exists)\n",
      "runtime error\n",
      "StimCond\n",
      "Unable to create link (Name already exists)\n",
      "runtime error\n",
      "Ph3\n",
      "Unable to create link (Name already exists)\n",
      "runtime error\n",
      "Ph2\n",
      "Unable to create link (Name already exists)\n",
      "runtime error\n",
      "Ph1\n",
      "Unable to create link (Name already exists)\n",
      "runtime error\n",
      "Ph0\n",
      "Unable to create link (Name already exists)\n",
      "runtime error\n",
      "RightWing\n",
      "Unable to create link (Name already exists)\n",
      "runtime error\n",
      "ProtSync\n",
      "Unable to create link (Name already exists)\n",
      "runtime error\n",
      "times\n",
      "Unable to create link (Name already exists)\n",
      "runtime error\n",
      "images\n",
      "Unable to create link (Name already exists)\n",
      "runtime error\n",
      "frame_idx\n",
      "Unable to create link (Name already exists)\n",
      "runtime error\n",
      "CamSync\n",
      "Unable to create link (Name already exists)\n",
      "runtime error\n",
      "CamTrig\n",
      "Unable to create link (Name already exists)\n",
      "runtime error\n",
      "LeftWing\n",
      "Unable to create link (Name already exists)\n",
      "runtime error\n",
      "Ph0\n",
      "Unable to create link (Name already exists)\n",
      "runtime error\n",
      "Ph1\n",
      "Unable to create link (Name already exists)\n",
      "runtime error\n",
      "Ph2\n",
      "Unable to create link (Name already exists)\n",
      "runtime error\n",
      "Ph3\n",
      "Unable to create link (Name already exists)\n",
      "runtime error\n",
      "Photostim\n",
      "Unable to create link (Name already exists)\n",
      "runtime error\n",
      "ProtSync\n",
      "Unable to create link (Name already exists)\n",
      "runtime error\n",
      "RightWing\n",
      "Unable to create link (Name already exists)\n",
      "runtime error\n",
      "StimCond\n",
      "Unable to create link (Name already exists)\n",
      "runtime error\n",
      "WBSync\n",
      "Unable to create link (Name already exists)\n",
      "runtime error\n",
      "Xpos\n",
      "Unable to create link (Name already exists)\n",
      "runtime error\n",
      "Ypos\n",
      "Unable to create link (Name already exists)\n",
      "runtime error\n",
      "times\n",
      "Unable to create link (Name already exists)"
     ]
    },
    {
     "name": "stderr",
     "output_type": "stream",
     "text": [
      "/media/flyranch/FlyDataC/flight-muscles/packages/tifffile.py:2170: UserWarning: failed to import _tifffile.decodepackbits\n",
      "  warnings.warn(\"failed to import %s\" % module_function)\n",
      "/media/flyranch/FlyDataC/flight-muscles/packages/tifffile.py:2170: UserWarning: failed to import _tifffile.decodelzw\n",
      "  warnings.warn(\"failed to import %s\" % module_function)\n",
      "/media/flyranch/FlyDataC/flight-muscles/packages/tifffile.py:2170: UserWarning: failed to import _tifffile.unpackints\n",
      "  warnings.warn(\"failed to import %s\" % module_function)\n",
      "/media/flyranch/FlyDataC/flight-muscles/src/flylib.py:652: RuntimeWarning: divide by zero encountered in divide\n",
      "  update_dset(self.exp_record['axon_data'],'wb_frequency',1.0/period)\n"
     ]
    },
    {
     "name": "stdout",
     "output_type": "stream",
     "text": [
      "\n",
      "runtime error\n",
      "wb_period\n",
      "Unable to create link (Name already exists)\n",
      "runtime error\n",
      "wb_frequency\n",
      "Unable to create link (Name already exists)\n",
      "runtime error\n",
      "wb_period\n",
      "Unable to create link (Name already exists)\n",
      "runtime error\n",
      "wb_frequency\n",
      "Unable to create link (Name already exists)\n",
      "runtime error\n",
      "strobe_time\n",
      "Unable to create link (Name already exists)\n",
      "runtime error\n",
      "Xpos\n",
      "Unable to create link (Name already exists)\n",
      "runtime error\n",
      "WBSync\n",
      "Unable to create link (Name already exists)\n",
      "runtime error\n",
      "Photostim\n",
      "Unable to create link (Name already exists)\n",
      "runtime error\n",
      "Ypos\n",
      "Unable to create link (Name already exists)\n",
      "runtime error\n",
      "CamSync\n",
      "Unable to create link (Name already exists)\n",
      "runtime error\n",
      "CamTrig\n",
      "Unable to create link (Name already exists)\n",
      "runtime error\n",
      "LeftWing\n",
      "Unable to create link (Name already exists)\n",
      "runtime error\n",
      "StimCond\n",
      "Unable to create link (Name already exists)\n",
      "runtime error\n",
      "Ph3\n",
      "Unable to create link (Name already exists)\n",
      "runtime error\n",
      "Ph2\n",
      "Unable to create link (Name already exists)\n",
      "runtime error\n",
      "Ph1\n",
      "Unable to create link (Name already exists)\n",
      "runtime error\n",
      "Ph0\n",
      "Unable to create link (Name already exists)\n",
      "runtime error\n",
      "RightWing\n",
      "Unable to create link (Name already exists)\n",
      "runtime error\n",
      "ProtSync\n",
      "Unable to create link (Name already exists)\n",
      "runtime error\n",
      "times\n",
      "Unable to create link (Name already exists)\n",
      "runtime error\n",
      "images\n",
      "Unable to create link (Name already exists)\n",
      "runtime error\n",
      "frame_idx\n",
      "Unable to create link (Name already exists)\n",
      "runtime error\n",
      "CamSync\n",
      "Unable to create link (Name already exists)\n",
      "runtime error\n",
      "CamTrig\n",
      "Unable to create link (Name already exists)\n",
      "runtime error\n",
      "LeftWing\n",
      "Unable to create link (Name already exists)\n",
      "runtime error\n",
      "Ph0\n",
      "Unable to create link (Name already exists)\n",
      "runtime error\n",
      "Ph1\n",
      "Unable to create link (Name already exists)\n",
      "runtime error\n",
      "Ph2\n",
      "Unable to create link (Name already exists)\n",
      "runtime error\n",
      "Ph3\n",
      "Unable to create link (Name already exists)\n",
      "runtime error\n",
      "Photostim\n",
      "Unable to create link (Name already exists)\n",
      "runtime error\n",
      "ProtSync\n",
      "Unable to create link (Name already exists)\n",
      "runtime error\n",
      "RightWing\n",
      "Unable to create link (Name already exists)\n",
      "runtime error\n",
      "StimCond\n",
      "Unable to create link (Name already exists)\n",
      "runtime error\n",
      "WBSync\n",
      "Unable to create link (Name already exists)\n",
      "runtime error\n",
      "Xpos\n",
      "Unable to create link (Name already exists)\n",
      "runtime error\n",
      "Ypos\n",
      "Unable to create link (Name already exists)\n",
      "runtime error\n",
      "times\n",
      "Unable to create link (Name already exists)\n",
      "runtime error\n",
      "wb_period\n",
      "Unable to create link (Name already exists)\n",
      "runtime error\n",
      "wb_frequency\n",
      "Unable to create link (Name already exists)\n",
      "runtime error\n",
      "wb_period\n",
      "Unable to create link (Name already exists)\n",
      "runtime error\n",
      "wb_frequency\n",
      "Unable to create link (Name already exists)\n",
      "runtime error\n",
      "strobe_time\n",
      "Unable to create link (Name already exists)\n",
      "runtime error\n",
      "Xpos\n",
      "Unable to create link (Name already exists)\n",
      "runtime error\n",
      "WBSync\n",
      "Unable to create link (Name already exists)\n",
      "runtime error\n",
      "Photostim\n",
      "Unable to create link (Name already exists)\n",
      "runtime error\n",
      "Ypos\n",
      "Unable to create link (Name already exists)\n",
      "runtime error\n",
      "CamSync\n",
      "Unable to create link (Name already exists)\n",
      "runtime error\n",
      "CamTrig\n",
      "Unable to create link (Name already exists)\n",
      "runtime error\n",
      "LeftWing\n",
      "Unable to create link (Name already exists)\n",
      "runtime error\n",
      "StimCond\n",
      "Unable to create link (Name already exists)\n",
      "runtime error\n",
      "Ph3\n",
      "Unable to create link (Name already exists)\n",
      "runtime error\n",
      "Ph2\n",
      "Unable to create link (Name already exists)\n",
      "runtime error\n",
      "Ph1\n",
      "Unable to create link (Name already exists)\n",
      "runtime error\n",
      "Ph0\n",
      "Unable to create link (Name already exists)\n",
      "runtime error\n",
      "RightWing\n",
      "Unable to create link (Name already exists)\n",
      "runtime error\n",
      "ProtSync\n",
      "Unable to create link (Name already exists)\n",
      "runtime error\n",
      "times\n",
      "Unable to create link (Name already exists)\n",
      "runtime error\n",
      "images\n",
      "Unable to create link (Name already exists)\n",
      "runtime error\n",
      "frame_idx\n",
      "Unable to create link (Name already exists)\n",
      "runtime error\n",
      "CamSync\n",
      "Unable to create link (Name already exists)\n",
      "runtime error\n",
      "CamTrig\n",
      "Unable to create link (Name already exists)\n",
      "runtime error\n",
      "LeftWing\n",
      "Unable to create link (Name already exists)\n",
      "runtime error\n",
      "Ph0\n",
      "Unable to create link (Name already exists)\n",
      "runtime error\n",
      "Ph1\n",
      "Unable to create link (Name already exists)\n",
      "runtime error\n",
      "Ph2\n",
      "Unable to create link (Name already exists)\n",
      "runtime error\n",
      "Ph3\n",
      "Unable to create link (Name already exists)\n",
      "runtime error\n",
      "Photostim\n",
      "Unable to create link (Name already exists)\n",
      "runtime error\n",
      "ProtSync\n",
      "Unable to create link (Name already exists)\n",
      "runtime error\n",
      "RightWing\n",
      "Unable to create link (Name already exists)\n",
      "runtime error\n",
      "StimCond\n",
      "Unable to create link (Name already exists)\n",
      "runtime error\n",
      "WBSync\n",
      "Unable to create link (Name already exists)\n",
      "runtime error\n",
      "Xpos\n",
      "Unable to create link (Name already exists)\n",
      "runtime error\n",
      "Ypos\n",
      "Unable to create link (Name already exists)\n",
      "runtime error\n",
      "times\n",
      "Unable to create link (Name already exists)\n",
      "runtime error\n",
      "wb_period\n",
      "Unable to create link (Name already exists)\n",
      "runtime error\n",
      "wb_frequency\n",
      "Unable to create link (Name already exists)\n",
      "runtime error\n",
      "wb_period\n",
      "Unable to create link (Name already exists)\n",
      "runtime error\n",
      "wb_frequency\n",
      "Unable to create link (Name already exists)\n",
      "runtime error\n",
      "strobe_time\n"
     ]
    },
    {
     "name": "stderr",
     "output_type": "stream",
     "text": [
      "/media/flyranch/FlyDataC/flight-muscles/src/flylib.py:655: RuntimeWarning: divide by zero encountered in divide\n",
      "  frequency_framebase = np.array([np.mean(1.0/period[ex]) for ex in exposures])\n"
     ]
    }
   ],
   "source": [
    "#load the data into the hdf5 files\n",
    "swarm = flylib.Squadron(fly_db,test_group)\n",
    "for fly in swarm.flies:\n",
    "    for expmnt in fly.experiments.values():\n",
    "        #try:\n",
    "            #expmnt = fly.experiments.values()[0]\n",
    "            #print expmnt.exp_record['axon_file_names'].value\n",
    "            #expmnt.import_axon_data()\n",
    "            #fly_db.flush()\n",
    "            #expmnt.import_tiff_data()\n",
    "            #fly_db.flush()\n",
    "            #expmnt.calc_framebase()\n",
    "        expmnt.load_data(fly_db)\n",
    "        fly_db.flush()\n",
    "\n",
    "\n",
    "#def copyobj(src,key,dst):\n",
    "#   import h5py\n",
    "    #print key\n",
    "    #if type(src[key]) == h5py.Group:\n",
    "    #    dst.create_group(key)\n",
    "    #    for subkey in src[key].keys():\n",
    "    #        copyobj(src[key],subkey,dst[key])\n",
    "    #else:yh\n",
    "    #    dst.create_dataset(key,src[key].shape,dtype = src[key].dtype,compression = 'gzip',compression_opts = 4)\n",
    "    #    dst[key][:] = np.array(src[key])"
   ]
  },
  {
   "cell_type": "code",
   "execution_count": 4,
   "metadata": {
    "collapsed": true
   },
   "outputs": [
    {
     "name": "stdout",
     "output_type": "stream",
     "text": [
      "<Closed HDF5 file>\n",
      "<Closed HDF5 file>\n",
      "<Closed HDF5 file>\n",
      "<Closed HDF5 file>\n",
      "<Closed HDF5 file>\n",
      "<Closed HDF5 file>\n",
      "<Closed HDF5 file>\n",
      "<Closed HDF5 file>\n",
      "<Closed HDF5 file>\n",
      "<Closed HDF5 file>\n",
      "<Closed HDF5 file>\n",
      "<Closed HDF5 file>\n",
      "<Closed HDF5 file>\n",
      "<Closed HDF5 file>\n",
      "<Closed HDF5 file>\n",
      "<Closed HDF5 file>\n",
      "<Closed HDF5 file>\n",
      "<Closed HDF5 file>\n",
      "<Closed HDF5 file>\n",
      "<Closed HDF5 file>\n",
      "<Closed HDF5 file>\n",
      "<Closed HDF5 file>\n",
      "<Closed HDF5 file>\n",
      "<Closed HDF5 file>\n",
      "<Closed HDF5 file>\n",
      "<Closed HDF5 file>\n",
      "<Closed HDF5 file>\n",
      "<Closed HDF5 file>\n",
      "<Closed HDF5 file>\n",
      "<Closed HDF5 file>\n",
      "<Closed HDF5 file>\n",
      "<Closed HDF5 file>\n",
      "<Closed HDF5 file>\n",
      "<Closed HDF5 file>\n",
      "<Closed HDF5 file>\n",
      "<Closed HDF5 file>\n",
      "<Closed HDF5 file>\n",
      "<Closed HDF5 file>\n",
      "<Closed HDF5 file>\n",
      "<Closed HDF5 file>\n",
      "<Closed HDF5 file>\n",
      "<Closed HDF5 file>\n",
      "<Closed HDF5 file>\n",
      "<Closed HDF5 file>\n",
      "<Closed HDF5 file>\n",
      "<Closed HDF5 file>\n",
      "<Closed HDF5 file>\n",
      "<Closed HDF5 file>\n",
      "<Closed HDF5 file>\n",
      "<Closed HDF5 file>\n",
      "<Closed HDF5 file>\n",
      "<Closed HDF5 file>\n",
      "<Closed HDF5 file>\n",
      "<Closed HDF5 file>\n",
      "<Closed HDF5 file>\n",
      "<Closed HDF5 file>\n",
      "<Closed HDF5 file>\n",
      "<Closed HDF5 file>\n",
      "<Closed HDF5 file>\n",
      "<Closed HDF5 file>\n",
      "<Closed HDF5 file>\n",
      "<Closed HDF5 file>\n",
      "<Closed HDF5 file>\n",
      "<Closed HDF5 file>\n",
      "<Closed HDF5 file>\n",
      "<Closed HDF5 file>\n",
      "<Closed HDF5 file>\n",
      "<Closed HDF5 file>\n",
      "<Closed HDF5 file>\n",
      "<Closed HDF5 file>\n",
      "<Closed HDF5 file>\n",
      "<Closed HDF5 file>\n",
      "<Closed HDF5 file>\n",
      "<Closed HDF5 file>\n",
      "<Closed HDF5 file>\n",
      "<Closed HDF5 file>\n",
      "<Closed HDF5 file>\n",
      "<Closed HDF5 file>\n",
      "<Closed HDF5 file>\n",
      "<Closed HDF5 file>\n",
      "<Closed HDF5 file>\n",
      "<Closed HDF5 file>\n",
      "<Closed HDF5 file>\n",
      "<Closed HDF5 file>\n",
      "<Closed HDF5 file>\n",
      "<Closed HDF5 file>\n",
      "<Closed HDF5 file>\n",
      "<Closed HDF5 file>\n",
      "<Closed HDF5 file>\n",
      "<Closed HDF5 file>\n",
      "<Closed HDF5 file>\n",
      "<Closed HDF5 file>\n",
      "<Closed HDF5 file>\n",
      "<Closed HDF5 file>\n",
      "<Closed HDF5 file>\n",
      "<Closed HDF5 file>\n",
      "<Closed HDF5 file>\n",
      "<Closed HDF5 file>\n",
      "<Closed HDF5 file>\n",
      "<Closed HDF5 file>\n",
      "<Closed HDF5 file>\n",
      "<Closed HDF5 file>\n",
      "<Closed HDF5 file>\n",
      "<Closed HDF5 file>\n",
      "<Closed HDF5 file>\n",
      "<Closed HDF5 file>\n",
      "<Closed HDF5 file>\n",
      "<Closed HDF5 file>\n",
      "<Closed HDF5 file>\n",
      "<Closed HDF5 file>\n",
      "<Closed HDF5 file>\n",
      "<Closed HDF5 file>\n",
      "<Closed HDF5 file>\n",
      "<Closed HDF5 file>\n",
      "<Closed HDF5 file>\n",
      "<Closed HDF5 file>\n",
      "<Closed HDF5 file>\n",
      "<Closed HDF5 file>\n",
      "<Closed HDF5 file>\n",
      "<Closed HDF5 file>\n",
      "<Closed HDF5 file>\n",
      "<Closed HDF5 file>\n",
      "<Closed HDF5 file>\n",
      "<Closed HDF5 file>\n",
      "<Closed HDF5 file>\n",
      "<Closed HDF5 file>\n",
      "<Closed HDF5 file>\n",
      "<Closed HDF5 file>\n",
      "<Closed HDF5 file>\n",
      "<Closed HDF5 file>\n",
      "<Closed HDF5 file>\n",
      "<Closed HDF5 file>\n",
      "<Closed HDF5 file>\n",
      "<Closed HDF5 file>\n",
      "<Closed HDF5 file>\n",
      "<Closed HDF5 file>\n",
      "<Closed HDF5 file>\n",
      "<Closed HDF5 file>\n",
      "<Closed HDF5 file>\n",
      "<Closed HDF5 file>\n",
      "<Closed HDF5 file>\n",
      "<Closed HDF5 file>\n",
      "<Closed HDF5 file>\n",
      "<Closed HDF5 file>\n",
      "<Closed HDF5 file>\n",
      "<Closed HDF5 file>\n",
      "<Closed HDF5 file>\n",
      "<Closed HDF5 file>\n",
      "<Closed HDF5 file>\n",
      "<Closed HDF5 file>\n",
      "<Closed HDF5 file>\n",
      "<Closed HDF5 file>\n",
      "<Closed HDF5 file>\n",
      "<Closed HDF5 file>\n",
      "<Closed HDF5 file>\n",
      "<Closed HDF5 file>\n",
      "<Closed HDF5 file>\n",
      "<Closed HDF5 file>\n",
      "<Closed HDF5 file>\n",
      "<Closed HDF5 file>\n",
      "<Closed HDF5 file>\n",
      "<Closed HDF5 file>\n",
      "<Closed HDF5 file>\n",
      "<Closed HDF5 file>\n",
      "<Closed HDF5 file>\n",
      "<Closed HDF5 file>\n",
      "<Closed HDF5 file>\n",
      "<Closed HDF5 file>\n",
      "<Closed HDF5 file>\n",
      "<Closed HDF5 file>\n",
      "<Closed HDF5 file>\n",
      "<Closed HDF5 file>\n",
      "<Closed HDF5 file>\n",
      "<Closed HDF5 file>\n",
      "<Closed HDF5 file>\n",
      "<Closed HDF5 file>\n",
      "<Closed HDF5 file>\n",
      "<Closed HDF5 file>\n",
      "<Closed HDF5 file>\n",
      "<Closed HDF5 file>\n",
      "<Closed HDF5 file>\n",
      "<Closed HDF5 file>\n",
      "<Closed HDF5 file>\n",
      "<Closed HDF5 file>\n",
      "<Closed HDF5 file>\n",
      "<Closed HDF5 file>\n",
      "<Closed HDF5 file>\n",
      "<Closed HDF5 file>\n",
      "<Closed HDF5 file>\n",
      "<Closed HDF5 file>\n",
      "<Closed HDF5 file>\n",
      "<Closed HDF5 file>\n",
      "<Closed HDF5 file>\n",
      "<Closed HDF5 file>\n",
      "<Closed HDF5 file>\n",
      "<Closed HDF5 file>\n",
      "<Closed HDF5 file>\n",
      "<Closed HDF5 file>\n",
      "<Closed HDF5 file>\n",
      "<Closed HDF5 file>\n",
      "<Closed HDF5 file>\n",
      "<Closed HDF5 file>\n",
      "<Closed HDF5 file>\n",
      "<Closed HDF5 file>\n",
      "<Closed HDF5 file>\n",
      "<Closed HDF5 file>\n",
      "<Closed HDF5 file>\n",
      "<Closed HDF5 file>\n",
      "<Closed HDF5 file>\n",
      "<Closed HDF5 file>\n",
      "<Closed HDF5 file>\n",
      "<Closed HDF5 file>\n",
      "<Closed HDF5 file>\n",
      "<Closed HDF5 file>\n",
      "<Closed HDF5 file>\n",
      "<Closed HDF5 file>\n",
      "<Closed HDF5 file>\n",
      "<Closed HDF5 file>\n",
      "<Closed HDF5 file>\n",
      "<Closed HDF5 file>\n",
      "<Closed HDF5 file>\n",
      "<Closed HDF5 file>\n",
      "<Closed HDF5 file>\n",
      "<Closed HDF5 file>\n",
      "<Closed HDF5 file>\n",
      "<Closed HDF5 file>\n",
      "<Closed HDF5 file>\n",
      "<Closed HDF5 file>\n",
      "<Closed HDF5 file>\n",
      "<Closed HDF5 file>\n",
      "<Closed HDF5 file>\n",
      "<Closed HDF5 file>\n",
      "<Closed HDF5 file>\n",
      "<Closed HDF5 file>\n",
      "<Closed HDF5 file>\n",
      "<Closed HDF5 file>\n",
      "<Closed HDF5 file>\n",
      "<Closed HDF5 file>\n",
      "<Closed HDF5 file>\n",
      "<Closed HDF5 file>\n",
      "<Closed HDF5 file>\n",
      "<Closed HDF5 file>\n",
      "<Closed HDF5 file>\n",
      "<Closed HDF5 file>\n",
      "<Closed HDF5 file>\n",
      "<Closed HDF5 file>\n",
      "<Closed HDF5 file>\n",
      "<Closed HDF5 file>\n",
      "<Closed HDF5 file>\n",
      "<Closed HDF5 file>\n",
      "<Closed HDF5 file>\n",
      "<Closed HDF5 file>\n",
      "<Closed HDF5 file>\n",
      "<Closed HDF5 file>\n",
      "<Closed HDF5 file>\n",
      "<Closed HDF5 file>\n",
      "<Closed HDF5 file>\n",
      "<Closed HDF5 file>\n",
      "<Closed HDF5 file>\n",
      "<Closed HDF5 file>\n",
      "<Closed HDF5 file>\n",
      "<Closed HDF5 file>\n",
      "<Closed HDF5 file>\n",
      "<Closed HDF5 file>\n",
      "<Closed HDF5 file>\n",
      "<Closed HDF5 file>\n",
      "<Closed HDF5 file>\n",
      "<Closed HDF5 file>\n",
      "<Closed HDF5 file>\n",
      "<Closed HDF5 file>\n",
      "<Closed HDF5 file>\n",
      "<Closed HDF5 file>\n",
      "<Closed HDF5 file>\n",
      "<Closed HDF5 file>\n",
      "<Closed HDF5 file>\n",
      "<Closed HDF5 file>\n",
      "<Closed HDF5 file>\n",
      "<Closed HDF5 file>\n",
      "<Closed HDF5 file>\n",
      "<Closed HDF5 file>\n",
      "<Closed HDF5 file>\n",
      "<Closed HDF5 file>\n",
      "<Closed HDF5 file>\n",
      "<Closed HDF5 file>\n",
      "<Closed HDF5 file>\n",
      "<Closed HDF5 file>\n",
      "<Closed HDF5 file>\n",
      "<Closed HDF5 file>\n",
      "<Closed HDF5 file>\n",
      "<Closed HDF5 file>\n",
      "<Closed HDF5 file>\n",
      "<Closed HDF5 file>\n",
      "<Closed HDF5 file>\n",
      "<Closed HDF5 file>\n",
      "<Closed HDF5 file>\n",
      "<Closed HDF5 file>\n",
      "<Closed HDF5 file>\n",
      "<Closed HDF5 file>\n",
      "<Closed HDF5 file>\n",
      "<Closed HDF5 file>\n",
      "<Closed HDF5 file>\n",
      "<Closed HDF5 file>\n",
      "<Closed HDF5 file>\n",
      "<Closed HDF5 file>\n",
      "<Closed HDF5 file>\n",
      "<Closed HDF5 file>\n",
      "<Closed HDF5 file>\n",
      "<Closed HDF5 file>\n",
      "<Closed HDF5 file>\n",
      "<Closed HDF5 file>\n",
      "<Closed HDF5 file>\n",
      "<Closed HDF5 file>\n",
      "<Closed HDF5 file>\n",
      "<Closed HDF5 file>\n",
      "<Closed HDF5 file>\n",
      "<Closed HDF5 file>\n",
      "<Closed HDF5 file>\n",
      "<Closed HDF5 file>\n",
      "<Closed HDF5 file>\n"
     ]
    }
   ],
   "source": [
    "fly_db.close()"
   ]
  },
  {
   "cell_type": "code",
   "execution_count": 5,
   "metadata": {
    "collapsed": false
   },
   "outputs": [],
   "source": []
  },
  {
   "cell_type": "code",
   "execution_count": 2,
   "metadata": {
    "collapsed": false
   },
   "outputs": [
    {
     "data": {
      "text/plain": [
       "[631, 632, 633]"
      ]
     },
     "execution_count": 2,
     "metadata": {},
     "output_type": "execute_result"
    }
   ],
   "source": [
    "test_group"
   ]
  },
  {
   "cell_type": "code",
   "execution_count": 1,
   "metadata": {
    "collapsed": false,
    "scrolled": true
   },
   "outputs": [
    {
     "name": "stdout",
     "output_type": "stream",
     "text": [
      "gcloud compute copy-files /media/flyranch/FlyDataC/FlyDB/Fly0638/fly_record.hdf5 psilentp@fly-cluster-master:/media/FlyDataC/FlyDB/Fly0638/\n",
      "gcloud compute copy-files /media/flyranch/FlyDataC/FlyDB/Fly0638/Note.txt psilentp@fly-cluster-master:/media/FlyDataC/FlyDB/Fly0638/\n",
      "gcloud compute copy-files /media/flyranch/FlyDataC/FlyDB/Fly0638/basis_fits.cpkl psilentp@fly-cluster-master:/media/FlyDataC/FlyDB/Fly0638/\n",
      "gcloud compute copy-files /media/flyranch/FlyDataC/FlyDB/Fly0638/epoch_data.cpkl psilentp@fly-cluster-master:/media/FlyDataC/FlyDB/Fly0638/\n",
      "gcloud compute copy-files /media/flyranch/FlyDataC/FlyDB/Fly0638/trial_data.cpkl psilentp@fly-cluster-master:/media/FlyDataC/FlyDB/Fly0638/\n",
      "gcloud compute copy-files /media/flyranch/FlyDataC/FlyDB/Fly0638/note.txt psilentp@fly-cluster-master:/media/FlyDataC/FlyDB/Fly0638/\n",
      "gcloud compute copy-files /media/flyranch/FlyDataC/FlyDB/Fly0638/experiment_script.cpkl psilentp@fly-cluster-master:/media/FlyDataC/FlyDB/Fly0638/\n",
      "gcloud compute copy-files /media/flyranch/FlyDataC/FlyDB/Fly0639/fly_record.hdf5 psilentp@fly-cluster-master:/media/FlyDataC/FlyDB/Fly0639/\n",
      "gcloud compute copy-files /media/flyranch/FlyDataC/FlyDB/Fly0639/Note.txt psilentp@fly-cluster-master:/media/FlyDataC/FlyDB/Fly0639/\n",
      "gcloud compute copy-files /media/flyranch/FlyDataC/FlyDB/Fly0639/basis_fits.cpkl psilentp@fly-cluster-master:/media/FlyDataC/FlyDB/Fly0639/\n",
      "gcloud compute copy-files /media/flyranch/FlyDataC/FlyDB/Fly0639/epoch_data.cpkl psilentp@fly-cluster-master:/media/FlyDataC/FlyDB/Fly0639/\n",
      "gcloud compute copy-files /media/flyranch/FlyDataC/FlyDB/Fly0639/trial_data.cpkl psilentp@fly-cluster-master:/media/FlyDataC/FlyDB/Fly0639/\n",
      "gcloud compute copy-files /media/flyranch/FlyDataC/FlyDB/Fly0639/note.txt psilentp@fly-cluster-master:/media/FlyDataC/FlyDB/Fly0639/\n",
      "gcloud compute copy-files /media/flyranch/FlyDataC/FlyDB/Fly0639/experiment_script.cpkl psilentp@fly-cluster-master:/media/FlyDataC/FlyDB/Fly0639/\n",
      "gcloud compute copy-files /media/flyranch/FlyDataC/FlyDB/Fly0640/fly_record.hdf5 psilentp@fly-cluster-master:/media/FlyDataC/FlyDB/Fly0640/\n",
      "gcloud compute copy-files /media/flyranch/FlyDataC/FlyDB/Fly0640/Note.txt psilentp@fly-cluster-master:/media/FlyDataC/FlyDB/Fly0640/\n",
      "gcloud compute copy-files /media/flyranch/FlyDataC/FlyDB/Fly0640/basis_fits.cpkl psilentp@fly-cluster-master:/media/FlyDataC/FlyDB/Fly0640/\n",
      "gcloud compute copy-files /media/flyranch/FlyDataC/FlyDB/Fly0640/epoch_data.cpkl psilentp@fly-cluster-master:/media/FlyDataC/FlyDB/Fly0640/\n",
      "gcloud compute copy-files /media/flyranch/FlyDataC/FlyDB/Fly0640/trial_data.cpkl psilentp@fly-cluster-master:/media/FlyDataC/FlyDB/Fly0640/\n",
      "gcloud compute copy-files /media/flyranch/FlyDataC/FlyDB/Fly0640/note.txt psilentp@fly-cluster-master:/media/FlyDataC/FlyDB/Fly0640/\n",
      "gcloud compute copy-files /media/flyranch/FlyDataC/FlyDB/Fly0640/experiment_script.cpkl psilentp@fly-cluster-master:/media/FlyDataC/FlyDB/Fly0640/\n"
     ]
    }
   ],
   "source": [
    "# upload the data to gcloud\n",
    "import flylib\n",
    "test_group = range(638,641)\n",
    "netswarm = flylib.NetSquadron(test_group)\n",
    "google_root = 'psilentp@fly-cluster-master:/media/FlyDataC/FlyDB'\n",
    "copy_list = ['fly_record.hdf5',\n",
    "             'Note.txt',\n",
    "             'basis_fits.cpkl',\n",
    "             'epoch_data.cpkl',\n",
    "             'trial_data.cpkl',\n",
    "             'note.txt',\n",
    "             'experiment_script.cpkl']\n",
    "\n",
    "#copy_list = ['epoch_data.cpkl']\n",
    "#copy_list = ['basis_fits.cpkl']\n",
    "#copy_list = ['fly_record.hdf5']\n",
    "\n",
    "import os\n",
    "for fly in netswarm.flies:\n",
    "    cmd = \"\"\"gcloud compute ssh psilentp@fly-cluster-master -q --command 'mkdir /media/FlyDataC/FlyDB/Fly%04d/'\"\"\"%(fly.fly_num)\n",
    "    os.system(cmd)\n",
    "    for item in copy_list:\n",
    "        copy_str = fly.fly_path + item\n",
    "        cmd = 'gcloud compute copy-files ' + copy_str + ' ' + google_root + '/Fly%04d/'%(fly.fly_num)\n",
    "        print cmd\n",
    "        os.system(cmd)"
   ]
  },
  {
   "cell_type": "code",
   "execution_count": 5,
   "metadata": {
    "collapsed": false
   },
   "outputs": [],
   "source": [
    "attrs = fly_db[609]['experiments'].values()[0]['tiff_data']['images'].attrs"
   ]
  },
  {
   "cell_type": "code",
   "execution_count": 6,
   "metadata": {
    "collapsed": true
   },
   "outputs": [
    {
     "data": {
      "text/plain": [
       "[u'bits_per_sample',\n",
       " u'orientation',\n",
       " u'parent',\n",
       " u'tags',\n",
       " u'resolution_unit',\n",
       " u'dtype',\n",
       " u'photometric',\n",
       " u'_shape',\n",
       " u'sample_format',\n",
       " u'shape',\n",
       " u'is_lsm',\n",
       " u'imagej_tags',\n",
       " u'x_res',\n",
       " u'y_res',\n",
       " u'z_res',\n",
       " u'res_unit',\n",
       " u'strips_per_image',\n",
       " u'image_length',\n",
       " u'index',\n",
       " u'planar_configuration',\n",
       " u'compression',\n",
       " u'is_imagej',\n",
       " u'axes',\n",
       " u'fill_order',\n",
       " u'image_width',\n",
       " u'rows_per_strip',\n",
       " u'is_micromanager',\n",
       " u'is_rgb',\n",
       " u'samples_per_pixel',\n",
       " u'new_subfile_type',\n",
       " u'_dtype',\n",
       " u'is_palette',\n",
       " u'predictor',\n",
       " u'is_stk']"
      ]
     },
     "execution_count": 6,
     "metadata": {},
     "output_type": "execute_result"
    }
   ],
   "source": [
    "attrs.keys()"
   ]
  },
  {
   "cell_type": "code",
   "execution_count": 1,
   "metadata": {
    "collapsed": false
   },
   "outputs": [],
   "source": [
    "import flylib as flb\n",
    "import db_access as dba\n",
    "fly_db = dba.get_db()"
   ]
  },
  {
   "cell_type": "code",
   "execution_count": 2,
   "metadata": {
    "collapsed": true
   },
   "outputs": [],
   "source": [
    "def copyobj(src,key,dst):\n",
    "    import h5py\n",
    "    #print key\n",
    "    if type(src[key]) == h5py.Group:\n",
    "        dst.create_group(key)\n",
    "        for subkey in src[key].keys():\n",
    "            copyobj(src[key],subkey,dst[key])\n",
    "    else:\n",
    "        dst.create_dataset(key,src[key].shape,dtype = src[key].dtype,compression = 'gzip',compression_opts = 4)\n",
    "        dst[key][:] = np.array(src[key])"
   ]
  },
  {
   "cell_type": "code",
   "execution_count": 3,
   "metadata": {
    "collapsed": true
   },
   "outputs": [],
   "source": [
    "start_fly = 600\n",
    "end_fly = 601\n",
    "copy_range = range(start_fly,end_fly+1)"
   ]
  },
  {
   "cell_type": "code",
   "execution_count": 4,
   "metadata": {
    "collapsed": false
   },
   "outputs": [],
   "source": [
    "flies_in_db = fly_db.keys()"
   ]
  },
  {
   "cell_type": "code",
   "execution_count": 5,
   "metadata": {
    "collapsed": false
   },
   "outputs": [],
   "source": [
    "flies_to_copy = list(set(flies_in_db).intersection(copy_range))"
   ]
  },
  {
   "cell_type": "code",
   "execution_count": 6,
   "metadata": {
    "collapsed": true
   },
   "outputs": [],
   "source": [
    "src_root = '/media/flyranch/FlyDataC/FlyDB/Fly%04d'\n",
    "dst_root = '/media/flyranch/FlyDataD/FlyDB/Fly%04d'"
   ]
  },
  {
   "cell_type": "code",
   "execution_count": 7,
   "metadata": {
    "collapsed": false
   },
   "outputs": [
    {
     "data": {
      "text/plain": [
       "[600, 601]"
      ]
     },
     "execution_count": 7,
     "metadata": {},
     "output_type": "execute_result"
    }
   ],
   "source": [
    "flies_to_copy"
   ]
  },
  {
   "cell_type": "code",
   "execution_count": 8,
   "metadata": {
    "collapsed": false
   },
   "outputs": [],
   "source": [
    "swarm = flb.Squadron(fly_db,sorted(flies_to_copy))"
   ]
  },
  {
   "cell_type": "code",
   "execution_count": 9,
   "metadata": {
    "collapsed": false
   },
   "outputs": [
    {
     "name": "stdout",
     "output_type": "stream",
     "text": [
      "1453768805.03\n",
      "600\n",
      "601\n",
      "1453769713.92\n",
      "908.884007931\n"
     ]
    }
   ],
   "source": [
    "import time\n",
    "t1 = time.time()\n",
    "print t1\n",
    "\n",
    "for fly in swarm.flies:\n",
    "    import h5py\n",
    "    import numpy as np\n",
    "    flyrecord = fly.fly_record\n",
    "    import os\n",
    "    import shutil\n",
    "    \n",
    "    os.mkdir(dst_root%fly.fly_num)\n",
    "    #copy meta data\n",
    "    if os.path.exists(src_root%fly.fly_num + '/basis_fits.cpkl'):\n",
    "        shutil.copy2(src_root%fly.fly_num + '/basis_fits.cpkl',dst_root%fly.fly_num + '/basis_fits.cpkl')\n",
    "    if os.path.exists(src_root%fly.fly_num + '/epoch_data.cpkl'):\n",
    "        shutil.copy2(src_root%fly.fly_num + '/epoch_data.cpkl',dst_root%fly.fly_num + '/epoch_data.cpkl')\n",
    "    f = open(dst_root%fly.fly_num + '/lock','w')\n",
    "    output_file = h5py.File(dst_roikjot%fly.fly_num + '/fly_record.hdf5','a')\n",
    "    copyobj(flyrecord,'experiments',output_file)\n",
    "    output_file.flush()\n",
    "    print fly.fly_num\n",
    "    f.close()\n",
    "    os.remove(dst_root%fly.fly_num + '/lock')\n",
    "t2 = time.time()\n",
    "print t2\n",
    "print t2-t1"
   ]
  },
  {
   "cell_type": "code",
   "execution_count": 18,
   "metadata": {
    "collapsed": true
   },
   "outputs": [],
   "source": [
    "test_group = [526, 587, 588, 589, 590]"
   ]
  },
  {
   "cell_type": "code",
   "execution_count": 26,
   "metadata": {
    "collapsed": false
   },
   "outputs": [
    {
     "data": {
      "text/plain": [
       "'/media/flyranch/FlyDataC/FlyDB/Fly0588/'"
      ]
     },
     "execution_count": 26,
     "metadata": {},
     "output_type": "execute_result"
    }
   ],
   "source": []
  },
  {
   "cell_type": "code",
   "execution_count": 35,
   "metadata": {
    "collapsed": false
   },
   "outputs": [],
   "source": [
    "swarm = flylib.NetSquadron(test_group)"
   ]
  },
  {
   "cell_type": "code",
   "execution_count": 53,
   "metadata": {
    "collapsed": false
   },
   "outputs": [],
   "source": [
    "epchdta = swarm.flies[2].get_pkl_data('epoch_data.cpkl')"
   ]
  },
  {
   "cell_type": "code",
   "execution_count": 54,
   "metadata": {
    "collapsed": false
   },
   "outputs": [
    {
     "data": {
      "text/plain": [
       "{'baseline_F': [166, 266]}"
      ]
     },
     "execution_count": 54,
     "metadata": {},
     "output_type": "execute_result"
    }
   ],
   "source": [
    "epchdta"
   ]
  },
  {
   "cell_type": "code",
   "execution_count": 46,
   "metadata": {
    "collapsed": true
   },
   "outputs": [
    {
     "ename": "KeyError",
     "evalue": "'Baseline_F'",
     "output_type": "error",
     "traceback": [
      "\u001b[1;31m---------------------------------------------------------------------------\u001b[0m",
      "\u001b[1;31mKeyError\u001b[0m                                  Traceback (most recent call last)",
      "\u001b[1;32m<ipython-input-46-85839426658e>\u001b[0m in \u001b[0;36m<module>\u001b[1;34m()\u001b[0m\n\u001b[0;32m      1\u001b[0m \u001b[0mf\u001b[0m \u001b[1;33m=\u001b[0m \u001b[0mopen\u001b[0m\u001b[1;33m(\u001b[0m\u001b[0mswarm\u001b[0m\u001b[1;33m.\u001b[0m\u001b[0mflies\u001b[0m\u001b[1;33m[\u001b[0m\u001b[1;36m3\u001b[0m\u001b[1;33m]\u001b[0m\u001b[1;33m.\u001b[0m\u001b[0mfly_path\u001b[0m \u001b[1;33m+\u001b[0m \u001b[1;34m'epoch_data.cpkl'\u001b[0m\u001b[1;33m,\u001b[0m\u001b[1;34m'wb'\u001b[0m\u001b[1;33m)\u001b[0m\u001b[1;33m\u001b[0m\u001b[0m\n\u001b[0;32m      2\u001b[0m \u001b[1;32mimport\u001b[0m \u001b[0mcPickle\u001b[0m\u001b[1;33m\u001b[0m\u001b[0m\n\u001b[1;32m----> 3\u001b[1;33m \u001b[0mcPickle\u001b[0m\u001b[1;33m.\u001b[0m\u001b[0mdump\u001b[0m\u001b[1;33m(\u001b[0m\u001b[1;33m{\u001b[0m\u001b[1;34m'baseline_F'\u001b[0m\u001b[1;33m:\u001b[0m\u001b[0mepchdta\u001b[0m\u001b[1;33m[\u001b[0m\u001b[1;34m'Baseline_F'\u001b[0m\u001b[1;33m]\u001b[0m\u001b[1;33m}\u001b[0m\u001b[1;33m,\u001b[0m\u001b[0mf\u001b[0m\u001b[1;33m)\u001b[0m\u001b[1;33m\u001b[0m\u001b[0m\n\u001b[0m\u001b[0;32m      4\u001b[0m \u001b[0mf\u001b[0m\u001b[1;33m.\u001b[0m\u001b[0mclose\u001b[0m\u001b[1;33m(\u001b[0m\u001b[1;33m)\u001b[0m\u001b[1;33m\u001b[0m\u001b[0m\n",
      "\u001b[1;31mKeyError\u001b[0m: 'Baseline_F'"
     ]
    }
   ],
   "source": [
    "f = open(swarm.flies[3].fly_path + 'epoch_data.cpkl','wb')\n",
    "import cPickle\n",
    "cPickle.dump({'baseline_F':epchdta['Baseline_F']},f)\n",
    "f.close()"
   ]
  },
  {
   "cell_type": "code",
   "execution_count": 6,
   "metadata": {
    "collapsed": false
   },
   "outputs": [],
   "source": []
  },
  {
   "cell_type": "code",
   "execution_count": 21,
   "metadata": {
    "collapsed": false
   },
   "outputs": [],
   "source": [
    "import numpy as np\n",
    "data = np.array(expmnt.exp_record['tiff_data']['axon_framebase']['StimCond'])"
   ]
  },
  {
   "cell_type": "code",
   "execution_count": 45,
   "metadata": {
    "collapsed": false
   },
   "outputs": [],
   "source": [
    "dta = np.around((data-1)/9*12)"
   ]
  },
  {
   "cell_type": "code",
   "execution_count": 66,
   "metadata": {
    "collapsed": false
   },
   "outputs": [
    {
     "data": {
      "text/plain": [
       "[[<matplotlib.lines.Line2D at 0xe0eaa10>],\n",
       " [<matplotlib.lines.Line2D at 0xe0eac90>],\n",
       " [<matplotlib.lines.Line2D at 0xe0f0490>],\n",
       " [<matplotlib.lines.Line2D at 0xe0f0b10>],\n",
       " [<matplotlib.lines.Line2D at 0xe0f41d0>],\n",
       " [<matplotlib.lines.Line2D at 0xe0f4850>],\n",
       " [<matplotlib.lines.Line2D at 0xe0f4ed0>],\n",
       " [<matplotlib.lines.Line2D at 0xe0d9190>]]"
      ]
     },
     "execution_count": 66,
     "metadata": {},
     "output_type": "execute_result"
    }
   ],
   "source": [
    "[plot(expmnt.exp_record['tiff_data']['axon_framebase']['Xpos'][idx[0]:idx[-1]]) for idx in idxs if dta[idx[10]] == 6]"
   ]
  },
  {
   "cell_type": "code",
   "execution_count": 52,
   "metadata": {
    "collapsed": false
   },
   "outputs": [],
   "source": [
    "idxs = flylib.idx_by_thresh(dta,0)"
   ]
  },
  {
   "cell_type": "code",
   "execution_count": 51,
   "metadata": {
    "collapsed": false
   },
   "outputs": [
    {
     "data": {
      "text/plain": [
       "(88,)"
      ]
     },
     "execution_count": 51,
     "metadata": {},
     "output_type": "execute_result"
    }
   ],
   "source": [
    "shape(idx)"
   ]
  },
  {
   "cell_type": "code",
   "execution_count": 8,
   "metadata": {
    "collapsed": false
   },
   "outputs": [
    {
     "data": {
      "text/plain": [
       "[<matplotlib.lines.Line2D at 0x87661d50>]"
      ]
     },
     "execution_count": 8,
     "metadata": {},
     "output_type": "execute_result"
    }
   ],
   "source": [
    "plot(expmnt.exp_record['tiff_data']['axon_framebase']['wb_frequency'])"
   ]
  },
  {
   "cell_type": "code",
   "execution_count": 6,
   "metadata": {
    "collapsed": false
   },
   "outputs": [
    {
     "name": "stdout",
     "output_type": "stream",
     "text": [
      "Using matplotlib backend: WXAgg\n",
      "Populating the interactive namespace from numpy and matplotlib\n"
     ]
    }
   ],
   "source": [
    "%pylab"
   ]
  },
  {
   "cell_type": "code",
   "execution_count": 53,
   "metadata": {
    "collapsed": false
   },
   "outputs": [],
   "source": [
    "fly = swarm.flies[3]"
   ]
  },
  {
   "cell_type": "code",
   "execution_count": 54,
   "metadata": {
    "collapsed": false
   },
   "outputs": [],
   "source": [
    "expmnt = fly.experiments.values()[0]"
   ]
  },
  {
   "cell_type": "code",
   "execution_count": 55,
   "metadata": {
    "collapsed": false
   },
   "outputs": [
    {
     "data": {
      "text/plain": [
       "[u'AMsysCh1',\n",
       " u'CamSync',\n",
       " u'CamTrig',\n",
       " u'DAC2',\n",
       " u'LeftWing',\n",
       " u'Ph0',\n",
       " u'Ph1',\n",
       " u'Ph2',\n",
       " u'Ph3',\n",
       " u'Photostim',\n",
       " u'RightWing',\n",
       " u'StimCond',\n",
       " u'WBSync',\n",
       " u'Xpos',\n",
       " u'Ypos',\n",
       " u'times']"
      ]
     },
     "execution_count": 55,
     "metadata": {},
     "output_type": "execute_result"
    }
   ],
   "source": [
    "expmnt.exp_record['tiff_data']['axon_framebase'].keys()"
   ]
  },
  {
   "cell_type": "code",
   "execution_count": 9,
   "metadata": {
    "collapsed": true
   },
   "outputs": [
    {
     "data": {
      "text/plain": [
       "[<matplotlib.lines.Line2D at 0xa794190>]"
      ]
     },
     "execution_count": 9,
     "metadata": {},
     "output_type": "execute_result"
    }
   ],
   "source": [
    "plot(expmnt.exp_record['tiff_data']['axon_framebase']['times'],expmnt.exp_record['tiff_data']['axon_framebase']['Photostim'])"
   ]
  },
  {
   "cell_type": "code",
   "execution_count": 51,
   "metadata": {
    "collapsed": false
   },
   "outputs": [
    {
     "data": {
      "text/plain": [
       "[<matplotlib.lines.Line2D at 0x63885350>]"
      ]
     },
     "execution_count": 51,
     "metadata": {},
     "output_type": "execute_result"
    }
   ],
   "source": [
    "plot(expmnt.exp_record['axon_data']['times'][:3000000],expmnt.exp_record['axon_data']['WBSync'][:3000000])"
   ]
  },
  {
   "cell_type": "code",
   "execution_count": 58,
   "metadata": {
    "collapsed": false
   },
   "outputs": [],
   "source": [
    "def calc_wb_period():\n",
    "    wb_trigs = np.diff((np.array(expmnt.exp_record['axon_data']['WBSync']) > 1).astype(int))>0\n",
    "    wb_trigs = np.hstack((wb_trigs,np.array([0])))\n",
    "    wb_times = np.array(expmnt.exp_record['axon_data']['times'])\n",
    "    trigidx = where(wb_trigs)[0]\n",
    "    idx_intervals = vstack((hstack(([0],trigidx[:-1])),trigidx))\n",
    "    time_intervals = vstack((wb_times[idx_intervals[0,:]],wb_times[idx_intervals[1,:]]))\n",
    "    wb_periods = squeeze(diff(time_intervals,axis = 0 ))\n",
    "    period_sig = zeros_like(wb_trigs).astype(float)\n",
    "    for interval,period in zip(idx_intervals[:,:].T,wb_periods):\n",
    "        period_sig[interval[0]:interval[1]] = period\n",
    "    return period_sig"
   ]
  },
  {
   "cell_type": "code",
   "execution_count": 100,
   "metadata": {
    "collapsed": false
   },
   "outputs": [],
   "source": [
    "period = calc_wb_period()"
   ]
  },
  {
   "cell_type": "code",
   "execution_count": 60,
   "metadata": {
    "collapsed": false
   },
   "outputs": [
    {
     "name": "stderr",
     "output_type": "stream",
     "text": [
      "-c:1: RuntimeWarning: divide by zero encountered in divide\n"
     ]
    },
    {
     "data": {
      "text/plain": [
       "[<matplotlib.lines.Line2D at 0x72b9ced0>]"
      ]
     },
     "execution_count": 60,
     "metadata": {},
     "output_type": "execute_result"
    }
   ],
   "source": [
    "plot(1/psig[::100])"
   ]
  },
  {
   "cell_type": "code",
   "execution_count": 132,
   "metadata": {
    "collapsed": false
   },
   "outputs": [],
   "source": [
    "fly = swarm.flies[8]\n",
    "expmnt = fly.experiments.values()[0]\n",
    "sigs = expmnt.exp_record['axon_data']\n",
    "ax_dt = sigs['times'][1]-sigs['times'][0]\n",
    "#block to get stim time during exposure\n",
    "strobe = np.array(sigs['Photostim']) > 1\n",
    "wmask = ((np.array(sigs['LeftWing']) + \n",
    "          np.array(sigs['RightWing']))/2.0) < 1.0\n",
    "fmask = np.array(sigs['CamSync'])> 1\n",
    "strobe = strobe & wmask & fmask\n",
    "exposures = flb.idx_by_thresh(np.array(sigs['CamSync']),thresh = 1)\n",
    "dsamp1 = np.array([np.sum(strobe[ex])*ax_dt for ex in exposures])"
   ]
  },
  {
   "cell_type": "code",
   "execution_count": 133,
   "metadata": {
    "collapsed": false
   },
   "outputs": [
    {
     "data": {
      "text/plain": [
       "[<matplotlib.lines.Line2D at 0x92f7b110>]"
      ]
     },
     "execution_count": 133,
     "metadata": {},
     "output_type": "execute_result"
    }
   ],
   "source": [
    "plot(dsamp1)"
   ]
  },
  {
   "cell_type": "code",
   "execution_count": 131,
   "metadata": {
    "collapsed": false
   },
   "outputs": [
    {
     "data": {
      "text/plain": [
       "309"
      ]
     },
     "execution_count": 131,
     "metadata": {},
     "output_type": "execute_result"
    }
   ],
   "source": [
    "fly.fly_num"
   ]
  },
  {
   "cell_type": "code",
   "execution_count": 105,
   "metadata": {
    "collapsed": false
   },
   "outputs": [
    {
     "data": {
      "text/plain": [
       "[u'AMsysCh1',\n",
       " u'CamSync',\n",
       " u'CamTrig',\n",
       " u'DAC2',\n",
       " u'LeftWing',\n",
       " u'Ph0',\n",
       " u'Ph1',\n",
       " u'Ph2',\n",
       " u'Ph3',\n",
       " u'Photostim',\n",
       " u'RightWing',\n",
       " u'StimCond',\n",
       " u'WBSync',\n",
       " u'Xpos',\n",
       " u'Ypos',\n",
       " u'times']"
      ]
     },
     "execution_count": 105,
     "metadata": {},
     "output_type": "execute_result"
    }
   ],
   "source": [
    "expmnt.exp_record['tiff_data']['axon_framebase'].keys()"
   ]
  },
  {
   "cell_type": "code",
   "execution_count": 110,
   "metadata": {
    "collapsed": false
   },
   "outputs": [
    {
     "data": {
      "text/plain": [
       "2.0000000000000002e-05"
      ]
     },
     "execution_count": 110,
     "metadata": {},
     "output_type": "execute_result"
    }
   ],
   "source": []
  },
  {
   "cell_type": "code",
   "execution_count": 75,
   "metadata": {
    "collapsed": false
   },
   "outputs": [
    {
     "data": {
      "text/plain": [
       "[<matplotlib.lines.Line2D at 0xcb862790>]"
      ]
     },
     "execution_count": 75,
     "metadata": {},
     "output_type": "execute_result"
    }
   ],
   "source": [
    "plot(wb_times[:10000000])"
   ]
  },
  {
   "cell_type": "code",
   "execution_count": 8,
   "metadata": {
    "collapsed": false
   },
   "outputs": [],
   "source": [
    "fly = swarm.flies[3]\n",
    "exp = fly.experiments['img_pattern_test_t2_lightoff']\n",
    "sequences = exp.exp_record['sequences'].values()\n",
    "sig = np.array(exp.exp_record['axon_data']['Ph1'])\n",
    "for seq in sequences:\n",
    "    if seq['epoch_name'].value == 'static_test_roll_90.mat':\n",
    "        subplot(3,1,2)\n",
    "        ep = np.array(seq['epoch'])\n",
    "        plot(sig[ep],color = 'r',alpha = 0.5)\n",
    "    if seq['epoch_name'].value == 'static_test_roll_270.mat':\n",
    "        subplot(3,1,2)\n",
    "        ep = np.array(seq['epoch'])\n",
    "        plot(sig[ep],color = 'b',alpha = 0.5)\n",
    "    if seq['epoch_name'].value == 'static_test_yaw_90.mat':\n",
    "        subplot(3,1,3)\n",
    "        ep = np.array(seq['epoch'])\n",
    "        plot(sig[ep],color = 'r',alpha = 0.5)\n",
    "    if seq['epoch_name'].value == 'static_test_yaw_270.mat':\n",
    "        subplot(3,1,3)\n",
    "        ep = np.array(seq['epoch'])\n",
    "        plot(sig[ep],color = 'b',alpha = 0.5)"
   ]
  },
  {
   "cell_type": "code",
   "execution_count": 3,
   "metadata": {
    "collapsed": false
   },
   "outputs": [],
   "source": []
  },
  {
   "cell_type": "code",
   "execution_count": 4,
   "metadata": {
    "collapsed": false
   },
   "outputs": [],
   "source": []
  },
  {
   "cell_type": "code",
   "execution_count": 5,
   "metadata": {
    "collapsed": false
   },
   "outputs": [],
   "source": []
  },
  {
   "cell_type": "code",
   "execution_count": null,
   "metadata": {
    "collapsed": false
   },
   "outputs": [],
   "source": []
  },
  {
   "cell_type": "code",
   "execution_count": null,
   "metadata": {
    "collapsed": false
   },
   "outputs": [],
   "source": []
  },
  {
   "cell_type": "code",
   "execution_count": null,
   "metadata": {
    "collapsed": false
   },
   "outputs": [],
   "source": []
  },
  {
   "cell_type": "code",
   "execution_count": null,
   "metadata": {
    "collapsed": false
   },
   "outputs": [],
   "source": []
  },
  {
   "cell_type": "code",
   "execution_count": 16,
   "metadata": {
    "collapsed": false
   },
   "outputs": [
    {
     "name": "stdout",
     "output_type": "stream",
     "text": [
      "static_test_90.mat\n",
      "static_test_90.mat\n",
      "static_test_90.mat\n",
      "static_test_90.mat\n",
      "static_test_90.mat\n",
      "static_test_90.mat\n",
      "static_test_90.mat\n",
      "static_test_90.mat\n",
      "static_test_90.mat\n",
      "static_test_90.mat\n",
      "static_test_90.mat\n",
      "static_test_90.mat\n"
     ]
    }
   ],
   "source": [
    "d2 = np.array(expmnt.exp_record['axon_data']['DAC2'])\n",
    "for key in sorted([int(x) for x in expmnt.exp_record['sequences'].keys()])[0:12]:\n",
    "    print expmnt.exp_record['sequences'][str(key)]['epoch_name'].value\n",
    "    ep = np.array(expmnt.exp_record['sequences'][str(key)]['epoch'][::1000])\n",
    "    plot(d2[ep])"
   ]
  },
  {
   "cell_type": "code",
   "execution_count": 17,
   "metadata": {
    "collapsed": false
   },
   "outputs": [],
   "source": [
    "fly_db.flush()"
   ]
  },
  {
   "cell_type": "code",
   "execution_count": 18,
   "metadata": {
    "collapsed": false
   },
   "outputs": [
    {
     "name": "stdout",
     "output_type": "stream",
     "text": [
      "<Closed HDF5 file>\n",
      "<Closed HDF5 file>\n",
      "<Closed HDF5 file>\n",
      "<Closed HDF5 file>\n",
      "<Closed HDF5 file>\n",
      "<Closed HDF5 file>\n",
      "<Closed HDF5 file>\n",
      "<Closed HDF5 file>\n",
      "<Closed HDF5 file>\n",
      "<Closed HDF5 file>\n",
      "<Closed HDF5 file>\n",
      "<Closed HDF5 file>\n",
      "<Closed HDF5 file>\n",
      "<Closed HDF5 file>\n",
      "<Closed HDF5 file>\n",
      "<Closed HDF5 file>\n",
      "<Closed HDF5 file>\n",
      "<Closed HDF5 file>\n",
      "<Closed HDF5 file>\n",
      "<Closed HDF5 file>\n",
      "<Closed HDF5 file>\n",
      "<Closed HDF5 file>\n",
      "<Closed HDF5 file>\n",
      "<Closed HDF5 file>\n",
      "<Closed HDF5 file>\n",
      "<Closed HDF5 file>\n",
      "<Closed HDF5 file>\n",
      "<Closed HDF5 file>\n",
      "<Closed HDF5 file>\n",
      "<Closed HDF5 file>\n",
      "<Closed HDF5 file>\n",
      "<Closed HDF5 file>\n",
      "<Closed HDF5 file>\n",
      "<Closed HDF5 file>\n",
      "<Closed HDF5 file>\n",
      "<Closed HDF5 file>\n",
      "<Closed HDF5 file>\n",
      "<Closed HDF5 file>\n",
      "<Closed HDF5 file>\n",
      "<Closed HDF5 file>\n",
      "<Closed HDF5 file>\n",
      "<Closed HDF5 file>\n",
      "<Closed HDF5 file>\n"
     ]
    }
   ],
   "source": [
    "fly_db.close()"
   ]
  },
  {
   "cell_type": "code",
   "execution_count": 14,
   "metadata": {
    "collapsed": false
   },
   "outputs": [
    {
     "data": {
      "text/plain": [
       "{17, 33, 50, 66, 83, 99}"
      ]
     },
     "execution_count": 14,
     "metadata": {},
     "output_type": "execute_result"
    }
   ],
   "source": [
    "set([99, 50, 17, 66, 33, 83, 99, 50, 17, 66, 83, 33, 33, 66, 17, 99, 50, 83, 66, 99, 17, 33, 83, 50, 66, 50, 99, 33, 17, 83, 66, 99, 50, 83, 17, 33, 33, 50, 83, 66, 17, 99, 33, 17, 83, 50, 99, 66, 66, 99, 17, 50, 83, 33, 33, 99, 17, 83, 66, 50, 83, 50, 17, 66, 33, 99, 66, 50, 99, 17, 33, 83])"
   ]
  },
  {
   "cell_type": "code",
   "execution_count": 7,
   "metadata": {
    "collapsed": false
   },
   "outputs": [
    {
     "name": "stdout",
     "output_type": "stream",
     "text": [
      "<Closed HDF5 file>\n",
      "<Closed HDF5 file>\n",
      "<Closed HDF5 file>\n",
      "<Closed HDF5 file>\n",
      "<Closed HDF5 file>\n",
      "<Closed HDF5 file>\n",
      "<Closed HDF5 file>\n",
      "<Closed HDF5 file>\n",
      "<Closed HDF5 file>\n",
      "<Closed HDF5 file>\n",
      "<Closed HDF5 file>\n",
      "<Closed HDF5 file>\n",
      "<Closed HDF5 file>\n",
      "<Closed HDF5 file>\n",
      "<Closed HDF5 file>\n",
      "<Closed HDF5 file>\n",
      "<Closed HDF5 file>\n",
      "<Closed HDF5 file>\n",
      "<Closed HDF5 file>\n",
      "<Closed HDF5 file>\n",
      "<Closed HDF5 file>\n",
      "<Closed HDF5 file>\n",
      "<Closed HDF5 file>\n",
      "<Closed HDF5 file>\n",
      "<Closed HDF5 file>\n",
      "<Closed HDF5 file>\n",
      "<Closed HDF5 file>\n",
      "<Closed HDF5 file>\n",
      "<Closed HDF5 file>\n",
      "<Closed HDF5 file>\n",
      "<Closed HDF5 file>\n",
      "<Closed HDF5 file>\n",
      "<Closed HDF5 file>\n",
      "<Closed HDF5 file>\n",
      "<Closed HDF5 file>\n",
      "<Closed HDF5 file>\n",
      "<Closed HDF5 file>\n",
      "<Closed HDF5 file>\n",
      "<Closed HDF5 file>\n",
      "<Closed HDF5 file>\n",
      "<Closed HDF5 file>\n",
      "<Closed HDF5 file>\n",
      "<Closed HDF5 file>\n"
     ]
    }
   ],
   "source": [
    "fly_db.close()"
   ]
  },
  {
   "cell_type": "code",
   "execution_count": 2,
   "metadata": {
    "collapsed": false
   },
   "outputs": [
    {
     "data": {
      "text/plain": [
       "<HDF5 group \"/130/experiments/lr_blob_expansion/sequences\" (0 members)>"
      ]
     },
     "execution_count": 2,
     "metadata": {},
     "output_type": "execute_result"
    }
   ],
   "source": [
    "flynum = str(130)\n",
    "fly_db.create_group(flynum)\n",
    "fly_record = fly_db[flynum]\n",
    "fly_record['flynum'] = flynum\n",
    "fly_record.create_group('experiments')\n",
    "fly_record['experiments'].create_group('lr_blob_expansion')\n",
    "#fly_record['experiments'].create_group('b1_azm_expansion_tuning')\n",
    "fly_record['experiments']['lr_blob_expansion']['photron_seq_nums'] = [1,2,3,4,5,6]\n",
    "fly_record['experiments']['lr_blob_expansion']['axon_file_names'] = ['fly01_lr_blob_expansion_14506005.abf']\n",
    "fly_record['experiments']['lr_blob_expansion']['photron_date_string'] = ['20140506']\n",
    "fly_record['experiments']['lr_blob_expansion']['kine_filename'] = ['WBkin.mat']\n",
    "fly_record['experiments']['lr_blob_expansion']['solution_format_string'] = ['20140506_S%04d/']\n",
    "fly_record['experiments']['lr_blob_expansion']['photron_frame_rate_Hz'] = 6000\n",
    "fly_record['experiments']['lr_blob_expansion']['Ypos_trial_volts'] = np.linspace(1,10,12)\n",
    "fly_record['experiments']['lr_blob_expansion']['Ypos_trial_vals'] = np.concatenate(([np.nan],np.arange(0,12)*30))\n",
    "fly_record['experiments']['lr_blob_expansion']['AMsysCh1_ID'] = 'i1'\n",
    "fly_record['experiments']['lr_blob_expansion']['AMsysCh1_side'] = 'r'\n",
    "fly_record['experiments']['lr_blob_expansion'].create_group('sequences')"
   ]
  },
  {
   "cell_type": "code",
   "execution_count": 1,
   "metadata": {
    "collapsed": false
   },
   "outputs": [
    {
     "data": {
      "text/plain": [
       "[(0, 'a'), (1, 'b'), (2, 'c'), (3, 'd')]"
      ]
     },
     "execution_count": 1,
     "metadata": {},
     "output_type": "execute_result"
    }
   ],
   "source": []
  },
  {
   "cell_type": "code",
   "execution_count": 3,
   "metadata": {
    "collapsed": false
   },
   "outputs": [
    {
     "name": "stdout",
     "output_type": "stream",
     "text": [
      "importing data for fly130\n",
      "syncing data\n",
      "[1, 2, 3, 4, 5, 6]\n",
      "initializing seq 1\n",
      "initializing seq 2\n",
      "initializing seq 3\n",
      "initializing seq 4\n",
      "initializing seq 5\n",
      "initializing seq 6\n"
     ]
    },
    {
     "name": "stderr",
     "output_type": "stream",
     "text": [
      "flylib.py:230: UserWarning: problem extracting idxs from camera_sync_signal for sequence 1 using even spaced idx's over the camera epoch instead\n",
      "  warnings.warn(\"problem extracting idxs from camera_sync_signal for sequence %s using even spaced idx's over the camera epoch instead\"%(snum))\n"
     ]
    }
   ],
   "source": [
    "#ephys_group = [111,112,114,115,116,117,118,122,123,124,125]\n",
    "i1_group = [130]\n",
    "swarm = flylib.Squadron(fly_db,i1_group)\n",
    "for fly in swarm.flies:\n",
    "    lrb = fly.experiments['lr_blob_expansion']\n",
    "    print 'importing data for fly%s'%fly.fly_num\n",
    "    lrb.import_axon_data()\n",
    "    lrb.import_sequence_data()\n",
    "    print 'syncing data'\n",
    "    lrb.sync_sequences()\n",
    "    print lrb.sequences.keys()\n",
    "    for seq_key in lrb.sequences.keys():\n",
    "        seq = lrb.sequences[seq_key]\n",
    "        print 'initializing seq %s'%(seq.seq_num)\n",
    "        seq.calc_kine_phases(fband = (180,350))\n",
    "        seq.calc_wb_mtrx()\n",
    "        seq.calc_stim_frame(x_thresh = 2.5)\n",
    "        fly_db.flush()"
   ]
  },
  {
   "cell_type": "code",
   "execution_count": 5,
   "metadata": {
    "collapsed": false
   },
   "outputs": [
    {
     "name": "stdout",
     "output_type": "stream",
     "text": [
      "importing data for fly151\n",
      "importing data for fly153\n",
      "importing data for fly154\n",
      "importing data for fly155\n",
      "importing data for fly156\n",
      "importing data for fly157\n",
      "importing data for fly158\n",
      "importing data for fly159\n",
      "importing data for fly160\n",
      "importing data for fly161\n",
      "importing data for fly162\n",
      "importing data for fly163\n",
      "importing data for fly164\n",
      "importing data for fly165\n",
      "importing data for fly166\n",
      "importing data for fly167\n",
      "importing data for fly168\n",
      "importing data for fly169\n"
     ]
    },
    {
     "name": "stderr",
     "output_type": "stream",
     "text": [
      "tifffile.py:2170: UserWarning: failed to import _tifffile.decodepackbits\n",
      "  warnings.warn(\"failed to import %s\" % module_function)\n",
      "tifffile.py:2170: UserWarning: failed to import _tifffile.decodelzw\n",
      "  warnings.warn(\"failed to import %s\" % module_function)\n",
      "tifffile.py:2170: UserWarning: failed to import _tifffile.unpackints\n",
      "  warnings.warn(\"failed to import %s\" % module_function)\n"
     ]
    }
   ],
   "source": [
    "imaging_group = [151,153,154,155,156,157,158,159,160,161,162,163,164,165,166,167,168,169]\n",
    "swarm = flylib.Squadron(fly_db,imaging_group)\n",
    "for fly in swarm.flies:\n",
    "    img_star = fly.experiments['img_starfield_t2_rep1']\n",
    "    print 'importing data for fly%s'%fly.fly_num\n",
    "    img_star.import_axon_data()\n",
    "    img_star.import_tiff_data()\n",
    "    fly_db.flush()"
   ]
  },
  {
   "cell_type": "code",
   "execution_count": 1,
   "metadata": {
    "collapsed": false
   },
   "outputs": [],
   "source": [
    "import flylib as flb"
   ]
  },
  {
   "cell_type": "code",
   "execution_count": 2,
   "metadata": {
    "collapsed": true
   },
   "outputs": [],
   "source": [
    "class STRNExperiment(flb.IMGExperiment):\n",
    "    \n",
    "    def calc_framebase(self):\n",
    "        pass"
   ]
  },
  {
   "cell_type": "code",
   "execution_count": 4,
   "metadata": {
    "collapsed": false
   },
   "outputs": [],
   "source": []
  },
  {
   "cell_type": "code",
   "execution_count": null,
   "metadata": {
    "collapsed": true
   },
   "outputs": [],
   "source": []
  }
 ],
 "metadata": {
  "kernelspec": {
   "display_name": "Python 2",
   "language": "python",
   "name": "python2"
  },
  "language_info": {
   "codemirror_mode": {
    "name": "ipython",
    "version": 2
   },
   "file_extension": ".py",
   "mimetype": "text/x-python",
   "name": "python",
   "nbconvert_exporter": "python",
   "pygments_lexer": "ipython2",
   "version": "2.7.10"
  }
 },
 "nbformat": 4,
 "nbformat_minor": 0
}
