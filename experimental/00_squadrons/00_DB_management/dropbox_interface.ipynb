{
 "cells": [
  {
   "cell_type": "code",
   "execution_count": null,
   "metadata": {
    "collapsed": true
   },
   "outputs": [],
   "source": [
    "#dropbox app name = psilentpDBApp\n",
    "#app key  = huwh623mjoj73d1\n",
    "#app secret key = npkg5vdpu9n4v0t\n"
   ]
  },
  {
   "cell_type": "code",
   "execution_count": 1,
   "metadata": {
    "collapsed": false
   },
   "outputs": [
    {
     "ename": "AttributeError",
     "evalue": "'module' object has no attribute 'DropboxOAuth2FlowNoRedirect'",
     "output_type": "error",
     "traceback": [
      "\u001b[1;31m---------------------------------------------------------------------------\u001b[0m",
      "\u001b[1;31mAttributeError\u001b[0m                            Traceback (most recent call last)",
      "\u001b[1;32m<ipython-input-1-be1a4316f05d>\u001b[0m in \u001b[0;36m<module>\u001b[1;34m()\u001b[0m\n\u001b[0;32m      6\u001b[0m \u001b[0mapp_secret\u001b[0m \u001b[1;33m=\u001b[0m \u001b[1;34m'npkg5vdpu9n4v0t'\u001b[0m\u001b[1;33m\u001b[0m\u001b[0m\n\u001b[0;32m      7\u001b[0m \u001b[1;33m\u001b[0m\u001b[0m\n\u001b[1;32m----> 8\u001b[1;33m \u001b[0mflow\u001b[0m \u001b[1;33m=\u001b[0m \u001b[0mdropbox\u001b[0m\u001b[1;33m.\u001b[0m\u001b[0mclient\u001b[0m\u001b[1;33m.\u001b[0m\u001b[0mDropboxOAuth2FlowNoRedirect\u001b[0m\u001b[1;33m(\u001b[0m\u001b[0mapp_key\u001b[0m\u001b[1;33m,\u001b[0m \u001b[0mapp_secret\u001b[0m\u001b[1;33m)\u001b[0m\u001b[1;33m\u001b[0m\u001b[0m\n\u001b[0m",
      "\u001b[1;31mAttributeError\u001b[0m: 'module' object has no attribute 'DropboxOAuth2FlowNoRedirect'"
     ]
    }
   ],
   "source": [
    "# Include the Dropbox SDK\n",
    "from dropbox import client, rest, session\n",
    "\n",
    "# Get your app key and secret from the Dropbox developer website\n",
    "app_key = 'huwh623mjoj73d1'\n",
    "app_secret = 'npkg5vdpu9n4v0t'\n",
    "\n",
    "# ACCESS_TYPE should be 'dropbox' or 'app_folder' as configured for your app\n",
    "ACCESS_TYPE = 'dropbox'\n",
    "\n",
    "sess = session.DropboxSession(app_key,app_secret, ACCESS_TYPE )\n",
    "\n",
    "request_token = sess.obtain_request_token()\n",
    "\n",
    "# Make the user sign in and authorize this token\n",
    "url = sess.build_authorize_url(request_token)\n",
    "print \"url:\", url\n",
    "print \"Please authorize in the browser."
   ]
  },
  {
   "cell_type": "code",
   "execution_count": 7,
   "metadata": {
    "collapsed": false
   },
   "outputs": [
    {
     "name": "stdout",
     "output_type": "stream",
     "text": [
      "linked account: {u'referral_link': u'https://db.tt/yvhIjuYv', u'display_name': u'Theodore Lindsay', u'uid': 14340904, u'locale': u'en', u'email_verified': True, u'email': u'thlindsay1@gmail.com', u'is_paired': True, u'team': None, u'name_details': {u'familiar_name': u'Theodore', u'surname': u'Lindsay', u'given_name': u'Theodore'}, u'country': u'US', u'quota_info': {u'datastores': 0, u'shared': 17749649693, u'quota': 1106759385088, u'normal': 16297266385}}\n"
     ]
    }
   ],
   "source": [
    "# This will fail if the user didn't visit the above URL and hit 'Allow'\n",
    "access_token = sess.obtain_access_token(request_token)\n",
    "client = client.DropboxClient(sess)\n",
    "print \"linked account:\", client.account_info()"
   ]
  },
  {
   "cell_type": "code",
   "execution_count": 16,
   "metadata": {
    "collapsed": false
   },
   "outputs": [],
   "source": [
    "folder_metadata = client.metadata('/lindsay_share/song')"
   ]
  },
  {
   "cell_type": "code",
   "execution_count": 17,
   "metadata": {
    "collapsed": false
   },
   "outputs": [],
   "source": [
    "paths = [item['path'] for item in folder_metadata['contents']]"
   ]
  },
  {
   "cell_type": "code",
   "execution_count": 18,
   "metadata": {
    "collapsed": false
   },
   "outputs": [
    {
     "data": {
      "text/plain": [
       "[u'/lindsay_share/song/2016_03_10_0000.abf',\n",
       " u'/lindsay_share/song/2016_03_11_0001.abf']"
      ]
     },
     "execution_count": 18,
     "metadata": {},
     "output_type": "execute_result"
    }
   ],
   "source": [
    "paths"
   ]
  },
  {
   "cell_type": "code",
   "execution_count": 67,
   "metadata": {
    "collapsed": true
   },
   "outputs": [],
   "source": [
    "f,metadata = client.get_file_and_metadata(paths[1])"
   ]
  },
  {
   "cell_type": "code",
   "execution_count": 68,
   "metadata": {
    "collapsed": false
   },
   "outputs": [],
   "source": [
    "out = open('temp_abf.abf', 'wb')\n",
    "out.write(f.read())"
   ]
  },
  {
   "cell_type": "code",
   "execution_count": 69,
   "metadata": {
    "collapsed": true
   },
   "outputs": [],
   "source": [
    "import neo"
   ]
  },
  {
   "cell_type": "code",
   "execution_count": 70,
   "metadata": {
    "collapsed": false
   },
   "outputs": [],
   "source": [
    "axio = neo.AxonIO('temp_abf.abf')"
   ]
  },
  {
   "cell_type": "code",
   "execution_count": 73,
   "metadata": {
    "collapsed": false,
    "scrolled": true
   },
   "outputs": [],
   "source": [
    "datafile = axio.read()"
   ]
  },
  {
   "cell_type": "code",
   "execution_count": 78,
   "metadata": {
    "collapsed": false
   },
   "outputs": [],
   "source": [
    "song = datafile[0].segments[0].analogsignals[0]"
   ]
  },
  {
   "cell_type": "code",
   "execution_count": 84,
   "metadata": {
    "collapsed": false
   },
   "outputs": [
    {
     "name": "stdout",
     "output_type": "stream",
     "text": [
      "Populating the interactive namespace from numpy and matplotlib\n"
     ]
    }
   ],
   "source": [
    "%pylab inline\n",
    "%config InlineBackend.figure_format = 'png'\n",
    "import pylab as plb\n",
    "plb.rcParams['pdf.fonttype'] = 42"
   ]
  },
  {
   "cell_type": "code",
   "execution_count": 107,
   "metadata": {
    "collapsed": false
   },
   "outputs": [
    {
     "data": {
      "text/plain": [
       "[<matplotlib.lines.Line2D at 0x7f4259c296d0>]"
      ]
     },
     "execution_count": 107,
     "metadata": {},
     "output_type": "execute_result"
    },
    {
     "data": {
      "image/png": "[encoded data removed]",
      "text/plain": [
       "<matplotlib.figure.Figure at 0x7f4259dc2350>"
      ]
     },
     "metadata": {},
     "output_type": "display_data"
    }
   ],
   "source": [
    "plot(song.times[12000:14000],song[12000:14000])"
   ]
  },
  {
   "cell_type": "code",
   "execution_count": 88,
   "metadata": {
    "collapsed": false
   },
   "outputs": [],
   "source": [
    "from scipy.io import wavfile"
   ]
  },
  {
   "cell_type": "code",
   "execution_count": 97,
   "metadata": {
    "collapsed": false
   },
   "outputs": [],
   "source": [
    "wavfile.write('testwav.wav',song.sampling_rate,song*10.0)"
   ]
  },
  {
   "cell_type": "code",
   "execution_count": null,
   "metadata": {
    "collapsed": true
   },
   "outputs": [],
   "source": []
  }
 ],
 "metadata": {
  "kernelspec": {
   "display_name": "Python 2",
   "language": "python",
   "name": "python2"
  },
  "language_info": {
   "codemirror_mode": {
    "name": "ipython",
    "version": 2
   },
   "file_extension": ".py",
   "mimetype": "text/x-python",
   "name": "python",
   "nbconvert_exporter": "python",
   "pygments_lexer": "ipython2",
   "version": "2.7.11"
  }
 },
 "nbformat": 4,
 "nbformat_minor": 0
}
