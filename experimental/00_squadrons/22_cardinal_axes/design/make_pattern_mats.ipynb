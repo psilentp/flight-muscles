{
 "cells": [
  {
   "cell_type": "code",
   "execution_count": 1,
   "metadata": {
    "collapsed": false
   },
   "outputs": [
    {
     "name": "stderr",
     "output_type": "stream",
     "text": [
      "F:\\flight-muscles\\packages\\transformations.py:1888: UserWarning: failed to import module _transformations\n",
      "  warnings.warn(\"failed to import module %s\" % name)\n"
     ]
    }
   ],
   "source": [
    "import os\n",
    "import sys\n",
    "import numpy as np\n",
    "if os.name != 'posix':\n",
    "    sys.path.append('F:\\\\flight-muscles\\\\src')\n",
    "    sys.path.append('F:\\\\flight-muscles\\\\packages')\n",
    "import arenaclouds as acld\n",
    "#import pylab as plb\n",
    "#%pylab"
   ]
  },
  {
   "cell_type": "code",
   "execution_count": 15,
   "metadata": {
    "collapsed": false
   },
   "outputs": [
    {
     "name": "stdout",
     "output_type": "stream",
     "text": [
      "./stimulus_data/step_ptch_roll_000_v1_rep0\n",
      "./stimulus_data/step_ptch_roll_090_v1_rep0\n",
      "./stimulus_data/step_ptch_roll_180_v1_rep0\n",
      "./stimulus_data/step_ptch_roll_270_v1_rep0\n",
      "./stimulus_data/step_ptch_roll_000_v1_rep1\n",
      "./stimulus_data/step_ptch_roll_090_v1_rep1\n",
      "./stimulus_data/step_ptch_roll_180_v1_rep1\n",
      "./stimulus_data/step_ptch_roll_270_v1_rep1\n",
      "./stimulus_data/step_ptch_roll_000_v1_rep2\n",
      "./stimulus_data/step_ptch_roll_090_v1_rep2\n",
      "./stimulus_data/step_ptch_roll_180_v1_rep2\n",
      "./stimulus_data/step_ptch_roll_270_v1_rep2\n"
     ]
    }
   ],
   "source": [
    "#############################\n",
    "### Generate rotational stimuli\n",
    "#############################\n",
    "\n",
    "reload(acld)\n",
    "from scipy import io\n",
    "frame_rate = 60.0 \n",
    "acld.display_shape = (96,32)\n",
    "deg_per_pix = 360/acld.display_shape[0]\n",
    "translation_velocity = 0.3 #2.25*frame_rate\n",
    "forward_trans_pole = np.deg2rad(90)\n",
    "backward_trans_pole = np.deg2rad(270)\n",
    "upward_trans_pole = np.deg2rad(90)\n",
    "downward_trans_pole = np.deg2rad(270)\n",
    "bit_depth = 3\n",
    "step_duration = 3\n",
    "static_duration = 10\n",
    "step_frames = step_duration*frame_rate\n",
    "static_frames = static_duration*frame_rate\n",
    "base_angular_velocity = (2*np.pi)/4 #1/4 rev/sec\n",
    "\n",
    "##################yaw\n",
    "for i in [1]:\n",
    "    for rep in range(3):\n",
    "        yaw_imgs_90 = acld.make_spin_pattern_coromeridian(np.pi/2,\n",
    "                                    base_angular_velocity*i,\n",
    "                                    frame_rate,\n",
    "                                    max_sensory_radius = 3.0,\n",
    "                                    star_density = 8)\n",
    "        yaw_imgs_90 = acld.adjust_depth(yaw_imgs_90)\n",
    "        yaw_imgs_90 = yaw_imgs_90[:,:,:-1]\n",
    "        \n",
    "        acld.play_pattern(yaw_imgs_90)\n",
    "        yaw_imgs_90 = yaw_imgs_90[:,:,:,np.newaxis]\n",
    "        io.savemat('./stimulus_data/step_yaw_90_v%s_rep%s'%(i,rep),{'imgs':yaw_imgs_90})\n",
    "        \n",
    "        ################\n",
    "        yaw_imgs_270 = acld.make_spin_pattern_coromeridian(np.pi/2*-1,\n",
    "                                    base_angular_velocity*i,\n",
    "                                    frame_rate,\n",
    "                                    max_sensory_radius = 3.0,\n",
    "                                    star_density = 8)\n",
    "        yaw_imgs_270 = acld.adjust_depth(yaw_imgs_270)\n",
    "        yaw_imgs_270 = yaw_imgs_270[:,:,:-1]\n",
    "        \n",
    "        acld.play_pattern(yaw_imgs_270)\n",
    "        yaw_imgs_270 = yaw_imgs_270[:,:,:,np.newaxis]\n",
    "        io.savemat('./stimulus_data/step_yaw_270_v%s_rep%s'%(i,rep),{'imgs':yaw_imgs_270})\n",
    "        \n",
    "        poles = [(pole_deg,deg2rad(pole_deg)) for pole_deg in range(0,360,90)]\n",
    "        for p_deg,p_rad in poles:\n",
    "            pt_roll_imgs = acld.make_spin_pattern_equator(p_rad,\n",
    "                                            base_angular_velocity*i,\n",
    "                                            frame_rate,\n",
    "                                            max_sensory_radius = 3.0,\n",
    "                                            star_density = 8)\n",
    "            pt_roll_imgs = acld.adjust_depth(pt_roll_imgs)\n",
    "            pt_roll_imgs = pt_roll_imgs[:,:,:-1]\n",
    "            #acld.play_pattern(roll_imgs)\n",
    "            pt_roll_imgs = pt_roll_imgs[:,:,:,np.newaxis]\n",
    "            io.savemat('./stimulus_data/step_ptch_roll_%03d_v%s_rep%s'%(p_deg,i,rep),{'imgs':pt_roll_imgs})\n",
    "            print ('./stimulus_data/step_ptch_roll_%03d_v%s_rep%s'%(p_deg,i,rep))"
   ]
  },
  {
   "cell_type": "code",
   "execution_count": 12,
   "metadata": {
    "collapsed": false
   },
   "outputs": [],
   "source": [
    "#############################\n",
    "### Generate translational stimuli\n",
    "#############################\n",
    "\n",
    "reload(acld)\n",
    "from scipy import io\n",
    "frame_rate = 60.0 \n",
    "acld.display_shape = (96,32)\n",
    "deg_per_pix = 360/acld.display_shape[0]\n",
    "translation_velocity = 0.3 #2.25*frame_rate\n",
    "#equator_pole = deg2rad(90)\n",
    "forward_trans_pole = np.deg2rad(90) #jun 22 2014 - forward and backward translation poles are reversed \n",
    "backward_trans_pole = np.deg2rad(270) # make the correction in analysis in the decode condition function\n",
    "\n",
    "upward_trans_pole = np.deg2rad(90)\n",
    "downward_trans_pole = np.deg2rad(270)\n",
    "\n",
    "rightward_trans_pole = np.deg2rad(0)\n",
    "leftward_trans_pole = np.deg2rad(180)\n",
    "\n",
    "bit_depth = 3\n",
    "step_duration = 3\n",
    "static_duration = 10\n",
    "step_frames = step_duration*frame_rate\n",
    "static_frames = static_duration*frame_rate\n",
    "base_angular_velocity = (2*np.pi)/4 #1/4 rev/sec\n",
    "for i in [1]:\n",
    "    for rep in range(3):\n",
    "        #translation forward\n",
    "        trans_imgs_for = acld.make_translation_pattern(forward_trans_pole,\n",
    "                                 0.1,\n",
    "                                 frame_rate,\n",
    "                                 epoch_duration=6.0,\n",
    "                                 max_sensory_radius = 3.0,\n",
    "                                 star_density = 8)\n",
    "        trans_imgs_for = acld.adjust_depth(trans_imgs_for)\n",
    "        #acld.play_pattern(trans_imgs_for)\n",
    "        \n",
    "        #translation backward\n",
    "        trans_imgs_back = acld.make_translation_pattern(backward_trans_pole,\n",
    "                                     0.1,\n",
    "                                     frame_rate,\n",
    "                                     epoch_duration=6.0,\n",
    "                                     max_sensory_radius = 3.0,\n",
    "                                     star_density = 8)\n",
    "        trans_imgs_back = acld.adjust_depth(trans_imgs_back)\n",
    "        #acld.play_pattern(trans_imgs_back)\n",
    "\n",
    "        #translation upward\n",
    "        trans_imgs_up = acld.make_translation_pattern_coromeridian(upward_trans_pole,\n",
    "                                     0.1,\n",
    "                                     frame_rate,\n",
    "                                     epoch_duration=6.0,\n",
    "                                     max_sensory_radius = 3.0,\n",
    "                                     star_density = 8)\n",
    "        trans_imgs_up = acld.adjust_depth(trans_imgs_up)\n",
    "        #acld.play_pattern(trans_imgs_up)\n",
    "\n",
    "        #translation downward\n",
    "        trans_imgs_down = acld.make_translation_pattern_coromeridian(downward_trans_pole,\n",
    "                                     0.1,\n",
    "                                     frame_rate,\n",
    "                                     epoch_duration=6.0,\n",
    "                                     max_sensory_radius = 3.0,\n",
    "                                     star_density = 8)\n",
    "        trans_imgs_down = acld.adjust_depth(trans_imgs_down)\n",
    "        acld.play_pattern(trans_imgs_down)\n",
    "        \n",
    "        #translation sideways right\n",
    "        trans_imgs_right = acld.make_translation_pattern_coromeridian(rightward_trans_pole,\n",
    "                                     0.1,\n",
    "                                     frame_rate,\n",
    "                                     epoch_duration=6.0,\n",
    "                                     max_sensory_radius = 3.0,\n",
    "                                     star_density = 8)\n",
    "        trans_imgs_right = acld.adjust_depth(trans_imgs_right)\n",
    "        #acld.play_pattern(trans_imgs_right)\n",
    "        \n",
    "        #translation sideways left\n",
    "        trans_imgs_left = acld.make_translation_pattern_coromeridian(leftward_trans_pole,\n",
    "                                     0.1,\n",
    "                                     frame_rate,\n",
    "                                     epoch_duration=6.0,\n",
    "                                     max_sensory_radius = 3.0,\n",
    "                                     star_density = 8)\n",
    "        trans_imgs_left = acld.adjust_depth(trans_imgs_left)\n",
    "        #acld.play_pattern(trans_imgs_left)\n",
    "               \n",
    "        trans_imgs_for = trans_imgs_for[:,:,:,np.newaxis]\n",
    "        trans_imgs_back = trans_imgs_back[:,:,:,np.newaxis]\n",
    "        trans_imgs_up = trans_imgs_up[:,:,:,np.newaxis]\n",
    "        trans_imgs_down = trans_imgs_down[:,:,:,np.newaxis]\n",
    "        trans_imgs_right = trans_imgs_right[:,:,:,np.newaxis]\n",
    "        trans_imgs_left = trans_imgs_left[:,:,:,np.newaxis]\n",
    "        \n",
    "        io.savemat('./stimulus_data/step_trans_for_v%s_rep%s'%(i,rep),{'imgs':trans_imgs_for})\n",
    "        io.savemat('./stimulus_data/step_trans_back_v%s_rep%s'%(i,rep),{'imgs':trans_imgs_back})\n",
    "        io.savemat('./stimulus_data/step_trans_up_v%s_rep%s'%(i,rep),{'imgs':trans_imgs_up})\n",
    "        io.savemat('./stimulus_data/step_trans_down_v%s_rep%s'%(i,rep),{'imgs':trans_imgs_down})\n",
    "        io.savemat('./stimulus_data/step_trans_right_v%s_rep%s'%(i,rep),{'imgs':trans_imgs_right})\n",
    "        io.savemat('./stimulus_data/step_trans_left_v%s_rep%s'%(i,rep),{'imgs':trans_imgs_left})"
   ]
  },
  {
   "cell_type": "code",
   "execution_count": null,
   "metadata": {
    "collapsed": true
   },
   "outputs": [],
   "source": []
  },
  {
   "cell_type": "code",
   "execution_count": null,
   "metadata": {
    "collapsed": true
   },
   "outputs": [],
   "source": []
  },
  {
   "cell_type": "code",
   "execution_count": null,
   "metadata": {
    "collapsed": false
   },
   "outputs": [],
   "source": []
  },
  {
   "cell_type": "code",
   "execution_count": null,
   "metadata": {
    "collapsed": false
   },
   "outputs": [],
   "source": []
  },
  {
   "cell_type": "code",
   "execution_count": null,
   "metadata": {
    "collapsed": false
   },
   "outputs": [],
   "source": []
  },
  {
   "cell_type": "code",
   "execution_count": null,
   "metadata": {
    "collapsed": false
   },
   "outputs": [],
   "source": []
  },
  {
   "cell_type": "code",
   "execution_count": null,
   "metadata": {
    "collapsed": true
   },
   "outputs": [],
   "source": []
  },
  {
   "cell_type": "code",
   "execution_count": null,
   "metadata": {
    "collapsed": true
   },
   "outputs": [],
   "source": []
  },
  {
   "cell_type": "code",
   "execution_count": 17,
   "metadata": {
    "collapsed": false
   },
   "outputs": [],
   "source": [
    "function = np.hstack(np.ones(6*frame_rate)*60)\n",
    "io.savemat('./stimulus_data/function_%ss.mat'%('3s_60Hz_step'),{'func':function})"
   ]
  },
  {
   "cell_type": "code",
   "execution_count": 6,
   "metadata": {
    "collapsed": false
   },
   "outputs": [],
   "source": [
    "function = np.hstack(np.ones(1000)*1)\n",
    "io.savemat('./stimulus_data/function_%ss.mat'%('3s_60Hz_step'),{'func':function})"
   ]
  },
  {
   "cell_type": "code",
   "execution_count": 3,
   "metadata": {
    "collapsed": false
   },
   "outputs": [
    {
     "data": {
      "text/plain": [
       "[<matplotlib.lines.Line2D at 0x9fb4860>]"
      ]
     },
     "execution_count": 3,
     "metadata": {},
     "output_type": "execute_result"
    }
   ],
   "source": [
    "posfunction = np.arange(0,5000) % 24\n",
    "plot(posfunction)\n",
    "#io.savemat('./stimulus_data/position_function_%ss.mat'%('3s_60Hz_step'),{'func':posfunction})"
   ]
  },
  {
   "cell_type": "code",
   "execution_count": 197,
   "metadata": {
    "collapsed": false
   },
   "outputs": [],
   "source": [
    "img = yaw_imgs_90[:,:,1,0]\n",
    "spec = fft2(img)\n",
    "F2 = log(abs(fftshift(spec)))\n",
    "#F2 = log(abs(F2))\n",
    "xf = shape(img)[1]/2\n",
    "yf = shape(img)[0]/2\n",
    "#xf *= 3.75*90\n",
    "#yf *= 3.75\n",
    "#F2 = fftshift( spec )\n",
    "#vticks = fftfreq(shape(yaw_imgs_90)[0])\n",
    "#hticks = fftfreq(shape(yaw_imgs_90)[1])"
   ]
  },
  {
   "cell_type": "code",
   "execution_count": 198,
   "metadata": {
    "collapsed": false
   },
   "outputs": [
    {
     "data": {
      "text/plain": [
       "<matplotlib.image.AxesImage at 0x196ddd10>"
      ]
     },
     "execution_count": 198,
     "metadata": {},
     "output_type": "execute_result"
    }
   ],
   "source": [
    "imshow(F2,extent = (xf*-1,xf*1,yf*-1,yf*1),aspect = 'auto')\n",
    "#imshow(F2,aspect = 'auto')"
   ]
  },
  {
   "cell_type": "code",
   "execution_count": 13,
   "metadata": {
    "collapsed": false
   },
   "outputs": [
    {
     "data": {
      "text/plain": [
       "[<matplotlib.lines.Line2D at 0x15ba1358>]"
      ]
     },
     "execution_count": 13,
     "metadata": {},
     "output_type": "execute_result"
    }
   ],
   "source": [
    "plot(function)"
   ]
  },
  {
   "cell_type": "code",
   "execution_count": 170,
   "metadata": {
    "collapsed": false
   },
   "outputs": [],
   "source": [
    "y = linspace(0,2*pi,96)\n",
    "for i in range(32):\n",
    "    pat[i,:] = sin(y*10)"
   ]
  },
  {
   "cell_type": "code",
   "execution_count": 3,
   "metadata": {
    "collapsed": false
   },
   "outputs": [],
   "source": [
    "reload(acld)\n",
    "from scipy import io\n",
    "frame_rate = 60.0 \n",
    "acld.display_shape = (96,32)\n",
    "deg_per_pix = 360/acld.display_shape[0]\n",
    "translation_velocity = 0.3 #2.25*frame_rate\n",
    "#equator_pole = deg2rad(90)\n",
    "forward_trans_pole = np.deg2rad(90)\n",
    "backward_trans_pole = np.deg2rad(270)\n",
    "upward_trans_pole = np.deg2rad(90)\n",
    "downward_trans_pole = np.deg2rad(270)\n",
    "bit_depth = 3\n",
    "step_duration = 1\n",
    "static_duration = 2\n",
    "step_frames = step_duration*frame_rate\n",
    "static_frames = static_duration*frame_rate\n",
    "base_angular_velocity = (2*np.pi)/4 #1/4 rev/sec"
   ]
  },
  {
   "cell_type": "code",
   "execution_count": 14,
   "metadata": {
    "collapsed": false
   },
   "outputs": [],
   "source": [
    "data = io.loadmat('./stimulus_data/step_yaw_270_v1_rep0.mat')"
   ]
  },
  {
   "cell_type": "code",
   "execution_count": 16,
   "metadata": {
    "collapsed": false
   },
   "outputs": [],
   "source": [
    "pfunct = np.arange(shape(data['imgs'])[2])"
   ]
  },
  {
   "cell_type": "code",
   "execution_count": 18,
   "metadata": {
    "collapsed": false
   },
   "outputs": [
    {
     "data": {
      "text/plain": [
       "[<matplotlib.lines.Line2D at 0x9f41828>]"
      ]
     },
     "execution_count": 18,
     "metadata": {},
     "output_type": "execute_result"
    }
   ],
   "source": [
    "plot(pfunct*(1/60.0),pfunct)"
   ]
  },
  {
   "cell_type": "code",
   "execution_count": 26,
   "metadata": {
    "collapsed": false
   },
   "outputs": [],
   "source": []
  },
  {
   "cell_type": "code",
   "execution_count": 27,
   "metadata": {
    "collapsed": false
   },
   "outputs": [],
   "source": []
  },
  {
   "cell_type": "code",
   "execution_count": 33,
   "metadata": {
    "collapsed": false
   },
   "outputs": [],
   "source": []
  },
  {
   "cell_type": "code",
   "execution_count": 7,
   "metadata": {
    "collapsed": false
   },
   "outputs": [],
   "source": []
  },
  {
   "cell_type": "code",
   "execution_count": 13,
   "metadata": {
    "collapsed": false
   },
   "outputs": [],
   "source": []
  },
  {
   "cell_type": "code",
   "execution_count": 13,
   "metadata": {
    "collapsed": false
   },
   "outputs": [],
   "source": []
  },
  {
   "cell_type": "code",
   "execution_count": 13,
   "metadata": {
    "collapsed": false
   },
   "outputs": [],
   "source": []
  },
  {
   "cell_type": "code",
   "execution_count": 13,
   "metadata": {
    "collapsed": false
   },
   "outputs": [],
   "source": []
  },
  {
   "cell_type": "code",
   "execution_count": 13,
   "metadata": {
    "collapsed": false
   },
   "outputs": [],
   "source": []
  },
  {
   "cell_type": "code",
   "execution_count": 13,
   "metadata": {
    "collapsed": false
   },
   "outputs": [],
   "source": []
  },
  {
   "cell_type": "code",
   "execution_count": 13,
   "metadata": {
    "collapsed": false
   },
   "outputs": [],
   "source": []
  },
  {
   "cell_type": "code",
   "execution_count": 13,
   "metadata": {
    "collapsed": false
   },
   "outputs": [],
   "source": []
  },
  {
   "cell_type": "code",
   "execution_count": 13,
   "metadata": {
    "collapsed": false
   },
   "outputs": [],
   "source": []
  },
  {
   "cell_type": "code",
   "execution_count": 13,
   "metadata": {
    "collapsed": false
   },
   "outputs": [],
   "source": []
  },
  {
   "cell_type": "code",
   "execution_count": 13,
   "metadata": {
    "collapsed": false
   },
   "outputs": [],
   "source": []
  },
  {
   "cell_type": "code",
   "execution_count": 13,
   "metadata": {
    "collapsed": false
   },
   "outputs": [],
   "source": []
  },
  {
   "cell_type": "code",
   "execution_count": 13,
   "metadata": {
    "collapsed": false
   },
   "outputs": [],
   "source": []
  },
  {
   "cell_type": "code",
   "execution_count": 13,
   "metadata": {
    "collapsed": false
   },
   "outputs": [],
   "source": []
  },
  {
   "cell_type": "code",
   "execution_count": 13,
   "metadata": {
    "collapsed": false
   },
   "outputs": [],
   "source": []
  },
  {
   "cell_type": "code",
   "execution_count": 13,
   "metadata": {
    "collapsed": false
   },
   "outputs": [],
   "source": []
  },
  {
   "cell_type": "code",
   "execution_count": 13,
   "metadata": {
    "collapsed": false
   },
   "outputs": [],
   "source": []
  },
  {
   "cell_type": "code",
   "execution_count": 13,
   "metadata": {
    "collapsed": false
   },
   "outputs": [],
   "source": []
  },
  {
   "cell_type": "code",
   "execution_count": 13,
   "metadata": {
    "collapsed": false
   },
   "outputs": [],
   "source": []
  },
  {
   "cell_type": "code",
   "execution_count": 13,
   "metadata": {
    "collapsed": false
   },
   "outputs": [],
   "source": []
  },
  {
   "cell_type": "code",
   "execution_count": 13,
   "metadata": {
    "collapsed": false
   },
   "outputs": [],
   "source": []
  },
  {
   "cell_type": "code",
   "execution_count": 13,
   "metadata": {
    "collapsed": false
   },
   "outputs": [],
   "source": []
  },
  {
   "cell_type": "code",
   "execution_count": 13,
   "metadata": {
    "collapsed": false
   },
   "outputs": [],
   "source": []
  },
  {
   "cell_type": "code",
   "execution_count": 13,
   "metadata": {
    "collapsed": false
   },
   "outputs": [],
   "source": []
  },
  {
   "cell_type": "code",
   "execution_count": 13,
   "metadata": {
    "collapsed": false
   },
   "outputs": [],
   "source": []
  },
  {
   "cell_type": "code",
   "execution_count": 13,
   "metadata": {
    "collapsed": false
   },
   "outputs": [],
   "source": []
  },
  {
   "cell_type": "code",
   "execution_count": 13,
   "metadata": {
    "collapsed": false
   },
   "outputs": [],
   "source": []
  },
  {
   "cell_type": "code",
   "execution_count": 13,
   "metadata": {
    "collapsed": false
   },
   "outputs": [],
   "source": []
  },
  {
   "cell_type": "code",
   "execution_count": 13,
   "metadata": {
    "collapsed": false
   },
   "outputs": [],
   "source": []
  },
  {
   "cell_type": "code",
   "execution_count": null,
   "metadata": {
    "collapsed": false
   },
   "outputs": [],
   "source": []
  }
 ],
 "metadata": {
  "kernelspec": {
   "display_name": "Python 2",
   "language": "python",
   "name": "python2"
  },
  "language_info": {
   "codemirror_mode": {
    "name": "ipython",
    "version": 2
   },
   "file_extension": ".py",
   "mimetype": "text/x-python",
   "name": "python",
   "nbconvert_exporter": "python",
   "pygments_lexer": "ipython2",
   "version": "2.7.6"
  }
 },
 "nbformat": 4,
 "nbformat_minor": 0
}
