{
 "cells": [
  {
   "cell_type": "code",
   "execution_count": 2,
   "metadata": {
    "collapsed": false
   },
   "outputs": [
    {
     "name": "stdout",
     "output_type": "stream",
     "text": [
      "Using matplotlib backend: WXAgg\n",
      "Populating the interactive namespace from numpy and matplotlib\n"
     ]
    },
    {
     "name": "stderr",
     "output_type": "stream",
     "text": [
      "E:\\flight-muscles\\packages\\transformations.py:1888: UserWarning: failed to import module _transformations\n",
      "  warnings.warn(\"failed to import module %s\" % name)\n"
     ]
    }
   ],
   "source": [
    "import os\n",
    "import sys\n",
    "import numpy as np\n",
    "if os.name != 'posix':\n",
    "    sys.path.append('E:\\\\flight-muscles\\\\src')\n",
    "    sys.path.append('E:\\\\flight-muscles\\\\packages')\n",
    "import arenaclouds as acld\n",
    "import pylab as plb\n",
    "%pylab"
   ]
  },
  {
   "cell_type": "code",
   "execution_count": 8,
   "metadata": {
    "collapsed": false
   },
   "outputs": [],
   "source": [
    "reload(acld)\n",
    "from scipy import io\n",
    "frame_rate = 50.0 \n",
    "acld.display_shape = (96,32)\n",
    "deg_per_pix = 360/acld.display_shape[0]\n",
    "translation_velocity = 0.3 #2.25*frame_rate\n",
    "#equator_pole = deg2rad(90)\n",
    "forward_trans_pole = np.deg2rad(90)\n",
    "backward_trans_pole = np.deg2rad(270)\n",
    "upward_trans_pole = np.deg2rad(90)\n",
    "downward_trans_pole = np.deg2rad(270)\n",
    "bit_depth = 3\n",
    "step_duration = 3\n",
    "static_duration = 10\n",
    "step_frames = step_duration*frame_rate\n",
    "static_frames = static_duration*frame_rate\n",
    "base_angular_velocity = (2*np.pi)/4 #1/4 rev/sec\n",
    "\n",
    "poles = [(pole_deg,deg2rad(pole_deg)) for pole_deg in range(0,360,30)]\n",
    "shuffle(poles)\n",
    "for i in [1]:\n",
    "    for rep in range(4):\n",
    "        imgs = acld.make_spin_pattern_equator(poles[rep][1],\n",
    "                                    base_angular_velocity*i,\n",
    "                                    frame_rate,\n",
    "                                    max_sensory_radius = 3.0,\n",
    "                                    star_density = 8)\n",
    "        #roll_imgs = acld.adjust_depth(roll_imgs_180)\n",
    "        roll_imgs = imgs[:,:,:-1]\n",
    "        from scipy.fftpack import ifftn,fftn\n",
    "        rmtrx = roll_imgs\n",
    "        fde = rfftn(rmtrx)\n",
    "        phs = np.angle(fde)\n",
    "        phs = phs.ravel()\n",
    "        ph_shift = random.permutation(phs)\n",
    "        ph_shift = ph_shift.reshape(shape(fde))\n",
    "        f_phrand = fde*exp((0+1j)*ph_shift)\n",
    "        phrand = ifftn(f_phrand).real\n",
    "        phrand[phrand<0] = 0\n",
    "        ctrl = acld.adjust_depth(phrand).astype(int8)\n",
    "        acld.play_pattern(ctrl)\n",
    "        ctrl = ctrl[:,:,:,np.newaxis]\n",
    "        io.savemat('./stimulus_data/step_ptch_roll_phsrndm_v%s_rep%s'%(i,rep),{'imgs':ctrl})"
   ]
  },
  {
   "cell_type": "code",
   "execution_count": null,
   "metadata": {
    "collapsed": false
   },
   "outputs": [],
   "source": []
  },
  {
   "cell_type": "code",
   "execution_count": 11,
   "metadata": {
    "collapsed": false
   },
   "outputs": [],
   "source": [
    "for i in [1]:\n",
    "    for rep in range(4):\n",
    "        control_poles = [deg2rad(pole_deg) for pole_deg in range(0,360,30)]\n",
    "        imgs = acld.make_control_pattern_equator(control_poles,\n",
    "                                          base_angular_velocity*1,\n",
    "                                          frame_rate,\n",
    "                                          max_sensory_radius = 3.0,\n",
    "                                          star_density = 8)\n",
    "        multipole = acld.adjust_depth(imgs)\n",
    "        acld.play_pattern(multipole)\n",
    "        multipole = multipole[:,:,:,np.newaxis]\n",
    "        io.savemat('./stimulus_data/step_ptch_roll_multipole_v%s_rep%s'%(i,rep),{'imgs':multipole})"
   ]
  },
  {
   "cell_type": "code",
   "execution_count": 19,
   "metadata": {
    "collapsed": false
   },
   "outputs": [
    {
     "name": "stdout",
     "output_type": "stream",
     "text": [
      "./stimulus_data/step_ptch_roll_000_v1_rep0\n",
      "./stimulus_data/step_ptch_roll_030_v1_rep0\n",
      "./stimulus_data/step_ptch_roll_060_v1_rep0\n",
      "./stimulus_data/step_ptch_roll_090_v1_rep0\n",
      "./stimulus_data/step_ptch_roll_120_v1_rep0\n",
      "./stimulus_data/step_ptch_roll_150_v1_rep0\n",
      "./stimulus_data/step_ptch_roll_180_v1_rep0\n",
      "./stimulus_data/step_ptch_roll_210_v1_rep0\n",
      "./stimulus_data/step_ptch_roll_240_v1_rep0\n",
      "./stimulus_data/step_ptch_roll_270_v1_rep0\n",
      "./stimulus_data/step_ptch_roll_300_v1_rep0\n",
      "./stimulus_data/step_ptch_roll_330_v1_rep0\n",
      "./stimulus_data/step_ptch_roll_000_v1_rep1\n",
      "./stimulus_data/step_ptch_roll_030_v1_rep1\n",
      "./stimulus_data/step_ptch_roll_060_v1_rep1\n",
      "./stimulus_data/step_ptch_roll_090_v1_rep1\n",
      "./stimulus_data/step_ptch_roll_120_v1_rep1\n",
      "./stimulus_data/step_ptch_roll_150_v1_rep1\n",
      "./stimulus_data/step_ptch_roll_180_v1_rep1\n",
      "./stimulus_data/step_ptch_roll_210_v1_rep1\n",
      "./stimulus_data/step_ptch_roll_240_v1_rep1\n",
      "./stimulus_data/step_ptch_roll_270_v1_rep1\n",
      "./stimulus_data/step_ptch_roll_300_v1_rep1\n",
      "./stimulus_data/step_ptch_roll_330_v1_rep1\n",
      "./stimulus_data/step_ptch_roll_000_v1_rep2\n",
      "./stimulus_data/step_ptch_roll_030_v1_rep2\n",
      "./stimulus_data/step_ptch_roll_060_v1_rep2\n",
      "./stimulus_data/step_ptch_roll_090_v1_rep2\n",
      "./stimulus_data/step_ptch_roll_120_v1_rep2\n",
      "./stimulus_data/step_ptch_roll_150_v1_rep2\n",
      "./stimulus_data/step_ptch_roll_180_v1_rep2\n",
      "./stimulus_data/step_ptch_roll_210_v1_rep2\n",
      "./stimulus_data/step_ptch_roll_240_v1_rep2\n",
      "./stimulus_data/step_ptch_roll_270_v1_rep2\n",
      "./stimulus_data/step_ptch_roll_300_v1_rep2\n",
      "./stimulus_data/step_ptch_roll_330_v1_rep2\n",
      "./stimulus_data/step_ptch_roll_000_v1_rep3\n",
      "./stimulus_data/step_ptch_roll_030_v1_rep3\n",
      "./stimulus_data/step_ptch_roll_060_v1_rep3\n",
      "./stimulus_data/step_ptch_roll_090_v1_rep3\n",
      "./stimulus_data/step_ptch_roll_120_v1_rep3\n",
      "./stimulus_data/step_ptch_roll_150_v1_rep3\n",
      "./stimulus_data/step_ptch_roll_180_v1_rep3\n",
      "./stimulus_data/step_ptch_roll_210_v1_rep3\n",
      "./stimulus_data/step_ptch_roll_240_v1_rep3\n",
      "./stimulus_data/step_ptch_roll_270_v1_rep3\n",
      "./stimulus_data/step_ptch_roll_300_v1_rep3\n",
      "./stimulus_data/step_ptch_roll_330_v1_rep3\n"
     ]
    }
   ],
   "source": [
    "reload(acld)\n",
    "from scipy import io\n",
    "frame_rate = 50.0 \n",
    "acld.display_shape = (96,32)\n",
    "deg_per_pix = 360/acld.display_shape[0]\n",
    "translation_velocity = 0.3 #2.25*frame_rate\n",
    "#equator_pole = deg2rad(90)\n",
    "forward_trans_pole = np.deg2rad(90)\n",
    "backward_trans_pole = np.deg2rad(270)\n",
    "upward_trans_pole = np.deg2rad(90)\n",
    "downward_trans_pole = np.deg2rad(270)\n",
    "bit_depth = 3\n",
    "step_duration = 3\n",
    "static_duration = 10\n",
    "step_frames = step_duration*frame_rate\n",
    "static_frames = static_duration*frame_rate\n",
    "base_angular_velocity = (2*np.pi)/4 #1/4 rev/sec\n",
    "\n",
    "##################yaw\n",
    "poles = [(pole_deg,deg2rad(pole_deg)) for pole_deg in range(0,360,30)]\n",
    "for i in [1]:\n",
    "    for rep in range(4):\n",
    "        for p_deg,p_rad in poles:\n",
    "            roll_imgs_180 = acld.make_spin_pattern_equator(p_rad,\n",
    "                                        base_angular_velocity*i,\n",
    "                                        frame_rate,\n",
    "                                        max_sensory_radius = 3.0,\n",
    "                                        star_density = 8)\n",
    "            roll_imgs = acld.adjust_depth(roll_imgs_180)\n",
    "            roll_imgs = roll_imgs[:,:,:-1]\n",
    "            #acld.play_pattern(roll_imgs)\n",
    "            roll_imgs = roll_imgs[:,:,:,np.newaxis]\n",
    "            io.savemat('./stimulus_data/step_ptch_roll_%03d_v%s_rep%s'%(p_deg,i,rep),{'imgs':roll_imgs})\n",
    "            print ('./stimulus_data/step_ptch_roll_%03d_v%s_rep%s'%(p_deg,i,rep))\n",
    "            #io.savemat('./stimulus_data/step_roll_%s_v%s_rep%s'%(p_deg,i,rep),{'imgs':roll_imgs})"
   ]
  },
  {
   "cell_type": "code",
   "execution_count": 20,
   "metadata": {
    "collapsed": false
   },
   "outputs": [],
   "source": [
    "function = np.hstack(np.ones(6*frame_rate)*50)\n",
    "io.savemat('./stimulus_data/function_%ss.mat'%('3s_50Hz_step'),{'func':function})"
   ]
  },
  {
   "cell_type": "code",
   "execution_count": null,
   "metadata": {
    "collapsed": true
   },
   "outputs": [],
   "source": []
  }
 ],
 "metadata": {
  "kernelspec": {
   "display_name": "Python 2",
   "language": "python",
   "name": "python2"
  },
  "language_info": {
   "codemirror_mode": {
    "name": "ipython",
    "version": 2
   },
   "file_extension": ".py",
   "mimetype": "text/x-python",
   "name": "python",
   "nbconvert_exporter": "python",
   "pygments_lexer": "ipython2",
   "version": "2.7.9"
  }
 },
 "nbformat": 4,
 "nbformat_minor": 0
}
