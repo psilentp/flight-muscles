{
 "metadata": {
  "name": "",
  "signature": "sha256:2dcb31d32ab85edb8f7237b60cbc9780659b3b1d8bfbfd32b95a3a441987dab0"
 },
 "nbformat": 3,
 "nbformat_minor": 0,
 "worksheets": [
  {
   "cells": [
    {
     "cell_type": "code",
     "collapsed": false,
     "input": [
      "import os\n",
      "import sys\n",
      "import numpy as np\n",
      "if os.name != 'posix':\n",
      "    sys.path.append('E:\\\\flight-muscles\\\\src')\n",
      "    sys.path.append('E:\\\\flight-muscles\\\\packages')\n",
      "import arenaclouds as acld\n",
      "import pylab as plb\n",
      "%pylab"
     ],
     "language": "python",
     "metadata": {},
     "outputs": [
      {
       "output_type": "stream",
       "stream": "stdout",
       "text": [
        "Using matplotlib backend: WXAgg\n",
        "Populating the interactive namespace from numpy and matplotlib\n"
       ]
      },
      {
       "output_type": "stream",
       "stream": "stderr",
       "text": [
        "E:\\flight-muscles\\packages\\transformations.py:1888: UserWarning: failed to import module _transformations\n",
        "  warnings.warn(\"failed to import module %s\" % name)\n"
       ]
      }
     ],
     "prompt_number": 21
    },
    {
     "cell_type": "code",
     "collapsed": false,
     "input": [
      "reload(acld)\n",
      "from scipy import io\n",
      "frame_rate = 60.0 \n",
      "acld.display_shape = (96,32)\n",
      "deg_per_pix = 360/acld.display_shape[0]\n",
      "translation_velocity = 0.3 #2.25*frame_rate\n",
      "#equator_pole = deg2rad(90)\n",
      "forward_trans_pole = np.deg2rad(90)\n",
      "backward_trans_pole = np.deg2rad(270)\n",
      "upward_trans_pole = np.deg2rad(90)\n",
      "downward_trans_pole = np.deg2rad(270)\n",
      "bit_depth = 3\n",
      "step_duration = 1\n",
      "static_duration = 2\n",
      "step_frames = step_duration*frame_rate\n",
      "static_frames = static_duration*frame_rate\n",
      "base_angular_velocity = (2*np.pi)/4 #1/4 rev/sec\n",
      "\n",
      "def add_stripe(img_mat):\n",
      "    nx = shape(img_mat)[2]\n",
      "    for xidx in range(nx-4):\n",
      "        img_mat[:,xidx:xidx+4,xidx,0] = 0\n",
      "    for xidx in range(0,4):\n",
      "        img_mat[:,-1-xidx:,95-xidx,0] = 0\n",
      "        img_mat[:,0:3-xidx,95-xidx,0] = 0\n",
      "    return img_mat\n",
      "\n",
      "##################yaw\n",
      "for i in range(1,12,3):\n",
      "    for rep in range(5):\n",
      "        yaw_imgs_90 = acld.make_spin_pattern_coromeridian(np.pi/2,\n",
      "                                    base_angular_velocity*i,\n",
      "                                    frame_rate,\n",
      "                                    max_sensory_radius = 3.0,\n",
      "                                    star_density = 8)\n",
      "        yaw_imgs_90 = acld.adjust_depth(yaw_imgs_90)\n",
      "        yaw_imgs_90 = np.dstack([yaw_imgs_90]*i)\n",
      "        yaw_imgs_90 = np.dstack([yaw_imgs_90[:,:,0:step_frames:1],yaw_imgs_90[:,:,step_frames:0:-1]])\n",
      "    \n",
      "        static = zeros_like(yaw_imgs_90[:,:,:static_frames]) \n",
      "        static[:,:,:] = yaw_imgs_90[:,:,0][:,:,np.newaxis]\n",
      "        yaw_imgs_90 = np.dstack([static,yaw_imgs_90])\n",
      "        \n",
      "        acld.play_pattern(yaw_imgs_90)\n",
      "        yaw_imgs_90 = yaw_imgs_90[:,:,:,np.newaxis]\n",
      "        io.savemat('./stimulus_data/step_yaw_90_v%s_rep%s'%(i,rep),{'imgs':yaw_imgs_90})\n",
      "        ################\n",
      "        yaw_imgs_270 = acld.make_spin_pattern_coromeridian(np.pi/2*-1,\n",
      "                                    base_angular_velocity*i,\n",
      "                                    frame_rate,\n",
      "                                    max_sensory_radius = 3.0,\n",
      "                                    star_density = 8)\n",
      "        yaw_imgs_270 = acld.adjust_depth(yaw_imgs_270)\n",
      "        yaw_imgs_270 = np.dstack([yaw_imgs_270]*i)\n",
      "        yaw_imgs_270 = np.dstack([yaw_imgs_270[:,:,0:step_frames:1],yaw_imgs_270[:,:,step_frames:0:-1]])\n",
      "    \n",
      "        static = zeros_like(yaw_imgs_270[:,:,:static_frames]) \n",
      "        static[:,:,:] = yaw_imgs_270[:,:,0][:,:,np.newaxis]\n",
      "        yaw_imgs_270 = np.dstack([static,yaw_imgs_270])\n",
      "        \n",
      "        acld.play_pattern(yaw_imgs_270)\n",
      "        yaw_imgs_270 = yaw_imgs_270[:,:,:,np.newaxis]\n",
      "        io.savemat('./stimulus_data/step_yaw_270_v%s_rep%s'%(i,rep),{'imgs':yaw_imgs_270})"
     ],
     "language": "python",
     "metadata": {},
     "outputs": [],
     "prompt_number": 3
    },
    {
     "cell_type": "code",
     "collapsed": false,
     "input": [
      "reload(acld)\n",
      "from scipy import io\n",
      "frame_rate = 60.0 \n",
      "acld.display_shape = (96,32)\n",
      "deg_per_pix = 360/acld.display_shape[0]\n",
      "translation_velocity = 0.3 #2.25*frame_rate\n",
      "#equator_pole = deg2rad(90)\n",
      "forward_trans_pole = np.deg2rad(90)\n",
      "backward_trans_pole = np.deg2rad(270)\n",
      "upward_trans_pole = np.deg2rad(90)\n",
      "downward_trans_pole = np.deg2rad(270)\n",
      "bit_depth = 3\n",
      "step_duration = 1\n",
      "static_duration = 2\n",
      "step_frames = step_duration*frame_rate\n",
      "static_frames = static_duration*frame_rate\n",
      "base_angular_velocity = (2*np.pi)/4 #1/4 rev/sec\n"
     ],
     "language": "python",
     "metadata": {},
     "outputs": [],
     "prompt_number": 5
    },
    {
     "cell_type": "code",
     "collapsed": false,
     "input": [
      "data = io.loadmat('./stimulus_data/step_yaw_270_v1_rep0.mat')"
     ],
     "language": "python",
     "metadata": {},
     "outputs": [],
     "prompt_number": 14
    },
    {
     "cell_type": "code",
     "collapsed": false,
     "input": [
      "pfunct = np.arange(shape(data['imgs'])[2])"
     ],
     "language": "python",
     "metadata": {},
     "outputs": [],
     "prompt_number": 16
    },
    {
     "cell_type": "code",
     "collapsed": false,
     "input": [
      "plot(pfunct*(1/60.0),pfunct)"
     ],
     "language": "python",
     "metadata": {},
     "outputs": [
      {
       "metadata": {},
       "output_type": "pyout",
       "prompt_number": 18,
       "text": [
        "[<matplotlib.lines.Line2D at 0x9f41828>]"
       ]
      }
     ],
     "prompt_number": 18
    },
    {
     "cell_type": "code",
     "collapsed": false,
     "input": [
      "c"
     ],
     "language": "python",
     "metadata": {},
     "outputs": [],
     "prompt_number": 26
    },
    {
     "cell_type": "code",
     "collapsed": false,
     "input": [
      "pattern_names['step_yaw_90_v4_rep0']"
     ],
     "language": "python",
     "metadata": {},
     "outputs": [
      {
       "metadata": {},
       "output_type": "pyout",
       "prompt_number": 27,
       "text": [
        "6"
       ]
      }
     ],
     "prompt_number": 27
    },
    {
     "cell_type": "code",
     "collapsed": false,
     "input": [
      "###the order to load the patterns to disk\n",
      "pattern_names = dict()\n",
      "count = 1\n",
      "for i in range(1,12,3):\n",
      "    for rep in range(5):\n",
      "        pattern_names['step_yaw_90_v%s_rep%s'%(i,rep)] = count\n",
      "        count += 1\n",
      "for i in range(1,12,3):\n",
      "    for rep in range(5):\n",
      "        pattern_names['step_yaw_270_v%s_rep%s'%(i,rep)] = count\n",
      "        count += 1\n",
      "###\n",
      "key1 = lambda s:int(s.split('_')[3][1:]) \n",
      "key2 = lambda s:int(s.split('_')[2])\n",
      "key3 = lambda s:int(s.split('_')[4][-1])\n",
      "sorted(sorted(sorted(pattern_names.keys(),key = key3),key = key1),key = key2)\n",
      "###\n",
      "trials = np.array([[[(z,y,x) for x in range(5)] for y in [1,4,7]] for z in [90,270]])\n",
      "trials = reshape(trials,(30,3))"
     ],
     "language": "python",
     "metadata": {},
     "outputs": [],
     "prompt_number": 24
    },
    {
     "cell_type": "code",
     "collapsed": false,
     "input": [],
     "language": "python",
     "metadata": {},
     "outputs": [
      {
       "metadata": {},
       "output_type": "pyout",
       "prompt_number": 19,
       "text": [
        "['step_yaw_90_v1_rep0',\n",
        " 'step_yaw_90_v1_rep1',\n",
        " 'step_yaw_90_v1_rep2',\n",
        " 'step_yaw_90_v1_rep3',\n",
        " 'step_yaw_90_v1_rep4',\n",
        " 'step_yaw_90_v4_rep0',\n",
        " 'step_yaw_90_v4_rep1',\n",
        " 'step_yaw_90_v4_rep2',\n",
        " 'step_yaw_90_v4_rep3',\n",
        " 'step_yaw_90_v4_rep4',\n",
        " 'step_yaw_90_v7_rep0',\n",
        " 'step_yaw_90_v7_rep1',\n",
        " 'step_yaw_90_v7_rep2',\n",
        " 'step_yaw_90_v7_rep3',\n",
        " 'step_yaw_90_v7_rep4',\n",
        " 'step_yaw_90_v10_rep0',\n",
        " 'step_yaw_90_v10_rep1',\n",
        " 'step_yaw_90_v10_rep2',\n",
        " 'step_yaw_90_v10_rep3',\n",
        " 'step_yaw_90_v10_rep4',\n",
        " 'step_yaw_270_v1_rep0',\n",
        " 'step_yaw_270_v1_rep1',\n",
        " 'step_yaw_270_v1_rep2',\n",
        " 'step_yaw_270_v1_rep3',\n",
        " 'step_yaw_270_v1_rep4',\n",
        " 'step_yaw_270_v4_rep0',\n",
        " 'step_yaw_270_v4_rep1',\n",
        " 'step_yaw_270_v4_rep2',\n",
        " 'step_yaw_270_v4_rep3',\n",
        " 'step_yaw_270_v4_rep4',\n",
        " 'step_yaw_270_v7_rep0',\n",
        " 'step_yaw_270_v7_rep1',\n",
        " 'step_yaw_270_v7_rep2',\n",
        " 'step_yaw_270_v7_rep3',\n",
        " 'step_yaw_270_v7_rep4',\n",
        " 'step_yaw_270_v10_rep0',\n",
        " 'step_yaw_270_v10_rep1',\n",
        " 'step_yaw_270_v10_rep2',\n",
        " 'step_yaw_270_v10_rep3',\n",
        " 'step_yaw_270_v10_rep4']"
       ]
      }
     ],
     "prompt_number": 19
    },
    {
     "cell_type": "code",
     "collapsed": false,
     "input": [],
     "language": "python",
     "metadata": {},
     "outputs": [],
     "prompt_number": 22
    },
    {
     "cell_type": "code",
     "collapsed": false,
     "input": [
      "trials"
     ],
     "language": "python",
     "metadata": {},
     "outputs": [
      {
       "metadata": {},
       "output_type": "pyout",
       "prompt_number": 23,
       "text": [
        "array([[ 90,   1,   0],\n",
        "       [ 90,   1,   1],\n",
        "       [ 90,   1,   2],\n",
        "       [ 90,   1,   3],\n",
        "       [ 90,   1,   4],\n",
        "       [ 90,   4,   0],\n",
        "       [ 90,   4,   1],\n",
        "       [ 90,   4,   2],\n",
        "       [ 90,   4,   3],\n",
        "       [ 90,   4,   4],\n",
        "       [ 90,   7,   0],\n",
        "       [ 90,   7,   1],\n",
        "       [ 90,   7,   2],\n",
        "       [ 90,   7,   3],\n",
        "       [ 90,   7,   4],\n",
        "       [270,   1,   0],\n",
        "       [270,   1,   1],\n",
        "       [270,   1,   2],\n",
        "       [270,   1,   3],\n",
        "       [270,   1,   4],\n",
        "       [270,   4,   0],\n",
        "       [270,   4,   1],\n",
        "       [270,   4,   2],\n",
        "       [270,   4,   3],\n",
        "       [270,   4,   4],\n",
        "       [270,   7,   0],\n",
        "       [270,   7,   1],\n",
        "       [270,   7,   2],\n",
        "       [270,   7,   3],\n",
        "       [270,   7,   4]])"
       ]
      }
     ],
     "prompt_number": 23
    },
    {
     "cell_type": "code",
     "collapsed": false,
     "input": [
      "pattern_names = dict()\n",
      "count = 1\n",
      "for i in range(1,12,3):\n",
      "    for rep in range(5):\n",
      "        pattern_names['step_yaw_270_v%s_rep%s'%(i,rep)] = count\n",
      "        count += 1\n",
      "for i in range(1,12,3):\n",
      "    for rep in range(5):\n",
      "        pattern_names['step_yaw_270_v%s_rep%s'%(i,rep)] = count\n",
      "        count += 1"
     ],
     "language": "python",
     "metadata": {},
     "outputs": [],
     "prompt_number": 92
    },
    {
     "cell_type": "code",
     "collapsed": false,
     "input": [
      "pattern_names['step_yaw_270_v4_rep0']"
     ],
     "language": "python",
     "metadata": {},
     "outputs": [
      {
       "metadata": {},
       "output_type": "pyout",
       "prompt_number": 98,
       "text": [
        "26"
       ]
      }
     ],
     "prompt_number": 98
    },
    {
     "cell_type": "code",
     "collapsed": false,
     "input": [],
     "language": "python",
     "metadata": {},
     "outputs": [],
     "prompt_number": 26
    },
    {
     "cell_type": "code",
     "collapsed": false,
     "input": [],
     "language": "python",
     "metadata": {},
     "outputs": [],
     "prompt_number": 27
    },
    {
     "cell_type": "code",
     "collapsed": false,
     "input": [],
     "language": "python",
     "metadata": {},
     "outputs": [],
     "prompt_number": 33
    },
    {
     "cell_type": "code",
     "collapsed": false,
     "input": [],
     "language": "python",
     "metadata": {},
     "outputs": [],
     "prompt_number": 7
    },
    {
     "cell_type": "code",
     "collapsed": false,
     "input": [],
     "language": "python",
     "metadata": {},
     "outputs": [],
     "prompt_number": 13
    },
    {
     "cell_type": "code",
     "collapsed": false,
     "input": [],
     "language": "python",
     "metadata": {},
     "outputs": [],
     "prompt_number": 13
    },
    {
     "cell_type": "code",
     "collapsed": false,
     "input": [],
     "language": "python",
     "metadata": {},
     "outputs": [],
     "prompt_number": 13
    },
    {
     "cell_type": "code",
     "collapsed": false,
     "input": [],
     "language": "python",
     "metadata": {},
     "outputs": [],
     "prompt_number": 13
    },
    {
     "cell_type": "code",
     "collapsed": false,
     "input": [],
     "language": "python",
     "metadata": {},
     "outputs": [],
     "prompt_number": 13
    },
    {
     "cell_type": "code",
     "collapsed": false,
     "input": [],
     "language": "python",
     "metadata": {},
     "outputs": [],
     "prompt_number": 13
    },
    {
     "cell_type": "code",
     "collapsed": false,
     "input": [],
     "language": "python",
     "metadata": {},
     "outputs": [],
     "prompt_number": 13
    },
    {
     "cell_type": "code",
     "collapsed": false,
     "input": [],
     "language": "python",
     "metadata": {},
     "outputs": [],
     "prompt_number": 13
    },
    {
     "cell_type": "code",
     "collapsed": false,
     "input": [],
     "language": "python",
     "metadata": {},
     "outputs": [],
     "prompt_number": 13
    },
    {
     "cell_type": "code",
     "collapsed": false,
     "input": [],
     "language": "python",
     "metadata": {},
     "outputs": [],
     "prompt_number": 13
    },
    {
     "cell_type": "code",
     "collapsed": false,
     "input": [],
     "language": "python",
     "metadata": {},
     "outputs": [],
     "prompt_number": 13
    },
    {
     "cell_type": "code",
     "collapsed": false,
     "input": [],
     "language": "python",
     "metadata": {},
     "outputs": [],
     "prompt_number": 13
    },
    {
     "cell_type": "code",
     "collapsed": false,
     "input": [],
     "language": "python",
     "metadata": {},
     "outputs": [],
     "prompt_number": 13
    },
    {
     "cell_type": "code",
     "collapsed": false,
     "input": [],
     "language": "python",
     "metadata": {},
     "outputs": [],
     "prompt_number": 13
    },
    {
     "cell_type": "code",
     "collapsed": false,
     "input": [],
     "language": "python",
     "metadata": {},
     "outputs": [],
     "prompt_number": 13
    },
    {
     "cell_type": "code",
     "collapsed": false,
     "input": [],
     "language": "python",
     "metadata": {},
     "outputs": [],
     "prompt_number": 13
    },
    {
     "cell_type": "code",
     "collapsed": false,
     "input": [],
     "language": "python",
     "metadata": {},
     "outputs": [],
     "prompt_number": 13
    },
    {
     "cell_type": "code",
     "collapsed": false,
     "input": [],
     "language": "python",
     "metadata": {},
     "outputs": [],
     "prompt_number": 13
    },
    {
     "cell_type": "code",
     "collapsed": false,
     "input": [],
     "language": "python",
     "metadata": {},
     "outputs": [],
     "prompt_number": 13
    },
    {
     "cell_type": "code",
     "collapsed": false,
     "input": [],
     "language": "python",
     "metadata": {},
     "outputs": [],
     "prompt_number": 13
    },
    {
     "cell_type": "code",
     "collapsed": false,
     "input": [],
     "language": "python",
     "metadata": {},
     "outputs": [],
     "prompt_number": 13
    },
    {
     "cell_type": "code",
     "collapsed": false,
     "input": [],
     "language": "python",
     "metadata": {},
     "outputs": [],
     "prompt_number": 13
    },
    {
     "cell_type": "code",
     "collapsed": false,
     "input": [],
     "language": "python",
     "metadata": {},
     "outputs": [],
     "prompt_number": 13
    },
    {
     "cell_type": "code",
     "collapsed": false,
     "input": [],
     "language": "python",
     "metadata": {},
     "outputs": [],
     "prompt_number": 13
    },
    {
     "cell_type": "code",
     "collapsed": false,
     "input": [],
     "language": "python",
     "metadata": {},
     "outputs": [],
     "prompt_number": 13
    },
    {
     "cell_type": "code",
     "collapsed": false,
     "input": [],
     "language": "python",
     "metadata": {},
     "outputs": [],
     "prompt_number": 13
    },
    {
     "cell_type": "code",
     "collapsed": false,
     "input": [],
     "language": "python",
     "metadata": {},
     "outputs": [],
     "prompt_number": 13
    },
    {
     "cell_type": "code",
     "collapsed": false,
     "input": [],
     "language": "python",
     "metadata": {},
     "outputs": [],
     "prompt_number": 13
    },
    {
     "cell_type": "code",
     "collapsed": false,
     "input": [],
     "language": "python",
     "metadata": {},
     "outputs": [],
     "prompt_number": 13
    },
    {
     "cell_type": "code",
     "collapsed": false,
     "input": [],
     "language": "python",
     "metadata": {},
     "outputs": []
    }
   ],
   "metadata": {}
  }
 ]
}