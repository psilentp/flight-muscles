{
 "metadata": {
  "name": "",
  "signature": "sha256:032193898d911599f2978db21db12fa8572efd8dda93dc7e71241210c2900e7f"
 },
 "nbformat": 3,
 "nbformat_minor": 0,
 "worksheets": [
  {
   "cells": [
    {
     "cell_type": "code",
     "collapsed": false,
     "input": [
      "update_freq = 60.\n",
      "cl_duration = 5.0\n",
      "ol_duration = 60.0\n",
      "times = np.linspace(0,ol_duration,update_freq*ol_duration)\n",
      "o_freq = 3.0 #Hz"
     ],
     "language": "python",
     "metadata": {},
     "outputs": [],
     "prompt_number": 37
    },
    {
     "cell_type": "code",
     "collapsed": false,
     "input": [
      "cycle_half_amp = 10/2.0\n",
      "ol_fun = -1*cos(2*pi*times*o_freq)*cycle_half_amp+cycle_half_amp+2\n",
      "cl_fun = ones(update_freq*cl_duration)\n",
      "func = hstack((cl_fun,ol_fun))"
     ],
     "language": "python",
     "metadata": {},
     "outputs": [],
     "prompt_number": 42
    },
    {
     "cell_type": "code",
     "collapsed": false,
     "input": [
      "func = func.astype(int64)\n",
      "func = func.astype(double)\n",
      "plot(func,'o-')"
     ],
     "language": "python",
     "metadata": {},
     "outputs": [
      {
       "metadata": {},
       "output_type": "pyout",
       "prompt_number": 43,
       "text": [
        "[<matplotlib.lines.Line2D at 0x155e6f28>]"
       ]
      }
     ],
     "prompt_number": 43
    },
    {
     "cell_type": "code",
     "collapsed": false,
     "input": [
      "from scipy import io\n",
      "io.savemat('./stimulus_data/position_function_sin.mat',{'func':func})"
     ],
     "language": "python",
     "metadata": {},
     "outputs": [],
     "prompt_number": 44
    },
    {
     "cell_type": "code",
     "collapsed": false,
     "input": [
      "ls"
     ],
     "language": "python",
     "metadata": {},
     "outputs": [
      {
       "output_type": "stream",
       "stream": "stdout",
       "text": [
        " Volume in drive E is FlyDataB\n",
        " Volume Serial Number is 3F95-3B15\n",
        "\n",
        " Directory of E:\\flight-muscles\\analysis\\00_squadrons\\09_sin_yaw\\design\n",
        "\n",
        "09/03/2014  05:17 PM    <DIR>          .\n",
        "09/03/2014  05:17 PM    <DIR>          ..\n",
        "09/03/2014  04:21 PM    <DIR>          .ipynb_checkpoints\n",
        "09/03/2014  05:34 PM             1,939 make_sin_function.ipynb\n",
        "09/03/2014  05:35 PM            12,184 position_function_sin.mat\n",
        "09/03/2014  05:16 PM             1,585 run_open_loop_test.py\n",
        "09/03/2014  05:35 PM    <DIR>          stimulus_data\n",
        "               3 File(s)         15,708 bytes\n",
        "               4 Dir(s)  970,871,074,816 bytes free\n"
       ]
      }
     ],
     "prompt_number": 11
    },
    {
     "cell_type": "code",
     "collapsed": false,
     "input": [
      "((1/70.0)*50000)/60"
     ],
     "language": "python",
     "metadata": {},
     "outputs": [
      {
       "metadata": {},
       "output_type": "pyout",
       "prompt_number": 48,
       "text": [
        "11.904761904761903"
       ]
      }
     ],
     "prompt_number": 48
    },
    {
     "cell_type": "code",
     "collapsed": false,
     "input": [],
     "language": "python",
     "metadata": {},
     "outputs": []
    }
   ],
   "metadata": {}
  }
 ]
}