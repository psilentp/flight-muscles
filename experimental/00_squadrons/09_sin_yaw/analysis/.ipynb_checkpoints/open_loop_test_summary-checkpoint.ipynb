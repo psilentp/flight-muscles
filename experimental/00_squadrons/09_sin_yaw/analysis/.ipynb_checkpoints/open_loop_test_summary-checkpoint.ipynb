{
 "metadata": {
  "name": "",
  "signature": "sha256:d170612c0cb781901b83d08d0c0bde30e3c15f51c8da5d5ebfef343500cdf636"
 },
 "nbformat": 3,
 "nbformat_minor": 0,
 "worksheets": [
  {
   "cells": [
    {
     "cell_type": "code",
     "collapsed": false,
     "input": [
      "import flylib\n",
      "import db_access as dba\n",
      "fly_db = dba.get_db()"
     ],
     "language": "python",
     "metadata": {},
     "outputs": [],
     "prompt_number": 1
    },
    {
     "cell_type": "code",
     "collapsed": false,
     "input": [
      "test_group = [226,227,228,229,230,231]"
     ],
     "language": "python",
     "metadata": {},
     "outputs": [],
     "prompt_number": 2
    },
    {
     "cell_type": "code",
     "collapsed": false,
     "input": [
      "swarm = flylib.Squadron(fly_db,test_group)"
     ],
     "language": "python",
     "metadata": {},
     "outputs": [],
     "prompt_number": 3
    },
    {
     "cell_type": "code",
     "collapsed": false,
     "input": [
      "fly = swarm.flies[0]\n",
      "expmnt = fly.experiments.values()[0]"
     ],
     "language": "python",
     "metadata": {},
     "outputs": [],
     "prompt_number": 4
    },
    {
     "cell_type": "code",
     "collapsed": false,
     "input": [
      "#expmnt.calc_framebase()\n",
      "#fly_db.flush()"
     ],
     "language": "python",
     "metadata": {},
     "outputs": [],
     "prompt_number": 5
    },
    {
     "cell_type": "code",
     "collapsed": false,
     "input": [
      "def collect_cycles(ypos,stim_cond):\n",
      "    cycles = list()\n",
      "    trial_selector = zeros_like(ypos).astype(bool)\n",
      "    cycle_selection_mask = ypos>1.5\n",
      "    trial_selection_mask = around(stim_cond)==2\n",
      "    trial_idxs = flylib.idx_by_thresh(trial_selection_mask,0.5)\n",
      "    for trial_idx in trial_idxs:\n",
      "        trial_selector[:] = 0\n",
      "        trial_selector[trial_idx] = 1\n",
      "        cycle_idxs = flylib.idx_by_thresh(trial_selector & cycle_selection_mask)\n",
      "        cycles.extend([arange(cycle_idxs[i][0],cycle_idxs[i+1][0]) for i in range(len(cycle_idxs)-1)])\n",
      "    return cycles"
     ],
     "language": "python",
     "metadata": {},
     "outputs": [],
     "prompt_number": 5
    },
    {
     "cell_type": "code",
     "collapsed": false,
     "input": [
      "plottype = 'nonparametric'\n",
      "for fnum,fly in enumerate(swarm.flies):\n",
      "    #figure()\n",
      "    roifile = fly.fly_path + 'sin_yaw_10ms_roi.cpkl'\n",
      "    expmnt = fly.experiments.values()[0]\n",
      "    f = open(roifile)\n",
      "    import cPickle\n",
      "    roidata = cPickle.load(f)\n",
      "    f.close()\n",
      "    \n",
      "    stim_cond = np.array(expmnt.exp_record['tiff_data']['axon_framebase']['DAC2'])\n",
      "    lwing = np.array(expmnt.exp_record['tiff_data']['axon_framebase']['Ph0'])\n",
      "    rwing = np.array(expmnt.exp_record['tiff_data']['axon_framebase']['Ph1'])\n",
      "    lmr = np.array(expmnt.exp_record['tiff_data']['axon_framebase']['Ph2'])\n",
      "    aux = np.array(expmnt.exp_record['tiff_data']['axon_framebase']['Ph3'])\n",
      "    xpos = np.array(expmnt.exp_record['tiff_data']['axon_framebase']['Xpos'])\n",
      "    ypos = np.array(expmnt.exp_record['tiff_data']['axon_framebase']['Ypos'])\n",
      "    times = np.array(expmnt.exp_record['tiff_data']['axon_framebase']['times'])\n",
      "    #figure()\n",
      "    flight_mask = aux<0.2\n",
      "    #plot(aux)\n",
      "    #plot(flight_mask)\n",
      "    \n",
      "    trial_selection_mask = around(stim_cond)==2\n",
      "    #cycle_selection_mask = ypos>1.5\n",
      "    #trial_idxs = flylib.idx_by_thresh(trial_selection_mask,0.5)\n",
      "    #cycle_idxs = flylib.idx_by_thresh(trial_selection_mask& cycle_selection_mask)\n",
      "    cycle_idxs = collect_cycles(ypos,stim_cond)\n",
      "   \n",
      "    siglist = [ypos,rad2deg(lmr/5)]\n",
      "    siglist.extend([roidata[k] for k in sorted(roidata.keys())])\n",
      "    #subplot(len(roidata.keys())+2,1,1)\n",
      "    #axlist = [list() for x in range(6)]\n",
      "    for i,sig in enumerate(siglist):\n",
      "        subplot2grid((len(siglist),6),(i,fnum))\n",
      "        #subplot(len(roidata.keys())+2,1,i+1)\n",
      "        trial_idxs = [np.arange(x[0],x[0]+200) for x in cycle_idxs if (len(x)>0 and (sum(~trial_selection_mask[x[0]:x[0]+200])==0))]\n",
      "        trial_times = [times[idx]-times[idx[0]] for idx in trial_idxs if sum(flight_mask[idx])==0]\n",
      "        trial_data = [sig[idx] for idx in trial_idxs if sum(flight_mask[idx])==0]\n",
      "        import scipy.interpolate\n",
      "        fun = scipy.interpolate.griddata\n",
      "        time_resamp = linspace(0,2.,60*2.)\n",
      "        data_resamp = np.array([fun(t,d,time_resamp) for t,d in zip(trial_times,trial_data)])\n",
      "        data_mean = mean(data_resamp,axis = 0)\n",
      "        data_std = std(data_resamp,axis = 0)\n",
      "\n",
      "        data_median = median(data_resamp,axis = 0)\n",
      "        u_perc = percentile(data_resamp,75,axis = 0)\n",
      "        l_perc = percentile(data_resamp,25,axis = 0)\n",
      "        if plottype == 'parametric':\n",
      "            lns = plot(time_resamp,data_mean,color = 'k',alpha = 1)\n",
      "            lns = fill_between(time_resamp,data_mean+data_std,data_mean-data_std,color = 'k',alpha = 0.2)\n",
      "        elif plottype == 'nonparametric':\n",
      "            lns = plot(time_resamp,data_median,color = 'k',alpha = 1)\n",
      "            lns = fill_between(time_resamp,u_perc,l_perc,color = 'k',alpha = 0.2)\n",
      "        elif plottype == 'image':\n",
      "            imshow(data_resamp,aspect = 'auto')\n",
      "        if ((i>1) & (fnum==0)):\n",
      "            lbl = sorted(roidata.keys())[i-2]\n",
      "            gca().set_ylabel(lbl)\n",
      "        elif ((i==0) & (fnum==0)):\n",
      "            lbl = 'pattern position'\n",
      "            gca().set_ylabel(lbl)\n",
      "        else:\n",
      "            gca().set_yticklabels('')"
     ],
     "language": "python",
     "metadata": {},
     "outputs": [],
     "prompt_number": 79
    },
    {
     "cell_type": "code",
     "collapsed": false,
     "input": [
      "axlist = [list() for x in range(6)]\n",
      "for fnum in range(6):\n",
      "    for i in range(11):\n",
      "        axlist[fnum].append())"
     ],
     "language": "python",
     "metadata": {},
     "outputs": [],
     "prompt_number": 72
    },
    {
     "cell_type": "code",
     "collapsed": false,
     "input": [
      "ax."
     ],
     "language": "python",
     "metadata": {},
     "outputs": [],
     "prompt_number": 78
    },
    {
     "cell_type": "code",
     "collapsed": false,
     "input": [
      "\n",
      "    cycle_selection_mask = ypos>1.5\n",
      "    trial_selection_mask = around(stim_cond)==2\n",
      "    trial_idxs = flylib.idx_by_thresh(trial_selection_mask,0.5)\n",
      "    cycle_idxs = flylib.idx_by_thresh(trial_selection_mask& cycle_selection_mask)"
     ],
     "language": "python",
     "metadata": {},
     "outputs": [],
     "prompt_number": 48
    },
    {
     "cell_type": "code",
     "collapsed": false,
     "input": [
      "[plot(times[cy]-times[cy][0],ypos[cy]) for cy in cycles]"
     ],
     "language": "python",
     "metadata": {},
     "outputs": [
      {
       "metadata": {},
       "output_type": "pyout",
       "prompt_number": 73,
       "text": [
        "[[<matplotlib.lines.Line2D at 0xabad110>],\n",
        " [<matplotlib.lines.Line2D at 0xabad390>],\n",
        " [<matplotlib.lines.Line2D at 0xabada50>],\n",
        " [<matplotlib.lines.Line2D at 0xabbd790>],\n",
        " [<matplotlib.lines.Line2D at 0xabbdc50>],\n",
        " [<matplotlib.lines.Line2D at 0xabbd490>],\n",
        " [<matplotlib.lines.Line2D at 0xabca3d0>],\n",
        " [<matplotlib.lines.Line2D at 0xb4d36d0>],\n",
        " [<matplotlib.lines.Line2D at 0xabc6090>],\n",
        " [<matplotlib.lines.Line2D at 0xabc66d0>],\n",
        " [<matplotlib.lines.Line2D at 0xabc6d10>],\n",
        " [<matplotlib.lines.Line2D at 0xabe2390>],\n",
        " [<matplotlib.lines.Line2D at 0xabe29d0>],\n",
        " [<matplotlib.lines.Line2D at 0xabd4050>],\n",
        " [<matplotlib.lines.Line2D at 0xabcae90>],\n",
        " [<matplotlib.lines.Line2D at 0xabd4cd0>],\n",
        " [<matplotlib.lines.Line2D at 0xabb9350>],\n",
        " [<matplotlib.lines.Line2D at 0xabb9990>],\n",
        " [<matplotlib.lines.Line2D at 0xabb9fd0>],\n",
        " [<matplotlib.lines.Line2D at 0xb5bf650>],\n",
        " [<matplotlib.lines.Line2D at 0xb5bfc90>],\n",
        " [<matplotlib.lines.Line2D at 0xabd4b10>],\n",
        " [<matplotlib.lines.Line2D at 0xb5da090>],\n",
        " [<matplotlib.lines.Line2D at 0xb5da590>],\n",
        " [<matplotlib.lines.Line2D at 0xb5aefd0>],\n",
        " [<matplotlib.lines.Line2D at 0xb5ae0d0>],\n",
        " [<matplotlib.lines.Line2D at 0xb5c92d0>],\n",
        " [<matplotlib.lines.Line2D at 0xb5c9910>],\n",
        " [<matplotlib.lines.Line2D at 0xb5c9f50>],\n",
        " [<matplotlib.lines.Line2D at 0xb5ad5d0>],\n",
        " [<matplotlib.lines.Line2D at 0xb5adc10>],\n",
        " [<matplotlib.lines.Line2D at 0xb5cd290>],\n",
        " [<matplotlib.lines.Line2D at 0xb5cd8d0>],\n",
        " [<matplotlib.lines.Line2D at 0xb5cdf10>],\n",
        " [<matplotlib.lines.Line2D at 0xb5cc590>],\n",
        " [<matplotlib.lines.Line2D at 0xb5ccbd0>],\n",
        " [<matplotlib.lines.Line2D at 0xb5a5710>],\n",
        " [<matplotlib.lines.Line2D at 0xb5a5410>],\n",
        " [<matplotlib.lines.Line2D at 0xb5a57d0>],\n",
        " [<matplotlib.lines.Line2D at 0xb5cb490>],\n",
        " [<matplotlib.lines.Line2D at 0xb5cbfd0>],\n",
        " [<matplotlib.lines.Line2D at 0xb5a8950>],\n",
        " [<matplotlib.lines.Line2D at 0xb5ccf90>],\n",
        " [<matplotlib.lines.Line2D at 0xb5a8a10>],\n",
        " [<matplotlib.lines.Line2D at 0xb5c2510>],\n",
        " [<matplotlib.lines.Line2D at 0xb5c2b50>],\n",
        " [<matplotlib.lines.Line2D at 0xb5a21d0>],\n",
        " [<matplotlib.lines.Line2D at 0xb5a2810>],\n",
        " [<matplotlib.lines.Line2D at 0xb5a2e50>],\n",
        " [<matplotlib.lines.Line2D at 0xb5a8f50>],\n",
        " [<matplotlib.lines.Line2D at 0xb5cfb10>],\n",
        " [<matplotlib.lines.Line2D at 0xb5d5190>],\n",
        " [<matplotlib.lines.Line2D at 0xabc38d0>],\n",
        " [<matplotlib.lines.Line2D at 0xabda1d0>],\n",
        " [<matplotlib.lines.Line2D at 0xabdf990>],\n",
        " [<matplotlib.lines.Line2D at 0xb57bfd0>],\n",
        " [<matplotlib.lines.Line2D at 0xb5d5c50>],\n",
        " [<matplotlib.lines.Line2D at 0xb5bb2d0>],\n",
        " [<matplotlib.lines.Line2D at 0xb5bb910>],\n",
        " [<matplotlib.lines.Line2D at 0xb5bbf50>],\n",
        " [<matplotlib.lines.Line2D at 0xb5d65d0>],\n",
        " [<matplotlib.lines.Line2D at 0xb5d6c10>],\n",
        " [<matplotlib.lines.Line2D at 0xb5d4290>],\n",
        " [<matplotlib.lines.Line2D at 0xb5bb110>],\n",
        " [<matplotlib.lines.Line2D at 0xb5d4f10>],\n",
        " [<matplotlib.lines.Line2D at 0x9ff9590>],\n",
        " [<matplotlib.lines.Line2D at 0x9ff9bd0>],\n",
        " [<matplotlib.lines.Line2D at 0x9ffb250>],\n",
        " [<matplotlib.lines.Line2D at 0x9ffb890>],\n",
        " [<matplotlib.lines.Line2D at 0x9ffbed0>],\n",
        " [<matplotlib.lines.Line2D at 0xb5d4d50>],\n",
        " [<matplotlib.lines.Line2D at 0x9fce450>],\n",
        " [<matplotlib.lines.Line2D at 0x9fdc710>],\n",
        " [<matplotlib.lines.Line2D at 0x9fdc690>],\n",
        " [<matplotlib.lines.Line2D at 0x9fdc190>],\n",
        " [<matplotlib.lines.Line2D at 0x9fd7510>],\n",
        " [<matplotlib.lines.Line2D at 0x9fd7b50>],\n",
        " [<matplotlib.lines.Line2D at 0x9fce9d0>],\n",
        " [<matplotlib.lines.Line2D at 0x9ff6810>],\n",
        " [<matplotlib.lines.Line2D at 0x9ff6e50>],\n",
        " [<matplotlib.lines.Line2D at 0x9fed4d0>],\n",
        " [<matplotlib.lines.Line2D at 0x9fedb10>],\n",
        " [<matplotlib.lines.Line2D at 0x9ffa710>],\n",
        " [<matplotlib.lines.Line2D at 0x9ffa950>],\n",
        " [<matplotlib.lines.Line2D at 0x9ffa6d0>],\n",
        " [<matplotlib.lines.Line2D at 0x9fd6f50>],\n",
        " [<matplotlib.lines.Line2D at 0x9fd6850>],\n",
        " [<matplotlib.lines.Line2D at 0x9fcbe50>],\n",
        " [<matplotlib.lines.Line2D at 0x9fcbed0>],\n",
        " [<matplotlib.lines.Line2D at 0x9fcbb90>]]"
       ]
      }
     ],
     "prompt_number": 73
    },
    {
     "cell_type": "code",
     "collapsed": false,
     "input": [
      "plot(~trial_selection_mask);plot(ypos)"
     ],
     "language": "python",
     "metadata": {},
     "outputs": [
      {
       "metadata": {},
       "output_type": "pyout",
       "prompt_number": 10,
       "text": [
        "[<matplotlib.lines.Line2D at 0x536b390>]"
       ]
      }
     ],
     "prompt_number": 10
    },
    {
     "cell_type": "code",
     "collapsed": false,
     "input": [
      "\n",
      "#plot(mean(yaw_270_resamp,axis = 0))\n",
      "#plot(mean(yaw_90_resamp,axis = 0))\n",
      "#display(gcf());close()"
     ],
     "language": "python",
     "metadata": {},
     "outputs": [
      {
       "output_type": "stream",
       "stream": "stdout",
       "text": [
        "b1\n",
        "b2"
       ]
      },
      {
       "output_type": "stream",
       "stream": "stdout",
       "text": [
        "\n",
        "b3"
       ]
      },
      {
       "output_type": "stream",
       "stream": "stdout",
       "text": [
        "\n",
        "hg1"
       ]
      },
      {
       "output_type": "stream",
       "stream": "stdout",
       "text": [
        "\n",
        "hg234"
       ]
      },
      {
       "output_type": "stream",
       "stream": "stdout",
       "text": [
        "\n",
        "i1"
       ]
      },
      {
       "output_type": "stream",
       "stream": "stdout",
       "text": [
        "\n",
        "i2"
       ]
      },
      {
       "output_type": "stream",
       "stream": "stdout",
       "text": [
        "\n",
        "iii1"
       ]
      },
      {
       "output_type": "stream",
       "stream": "stdout",
       "text": [
        "\n",
        "iii234"
       ]
      },
      {
       "output_type": "stream",
       "stream": "stdout",
       "text": [
        "\n"
       ]
      }
     ],
     "prompt_number": 11
    },
    {
     "cell_type": "code",
     "collapsed": false,
     "input": [
      "ax0 = subplot(3,1,1);plot(ypos)\n",
      "subplot(3,1,2,sharex = ax0);plot(rwing)\n",
      "subplot(3,1,3,sharex = ax0);[plot(sig) for sig in roidata.values()]"
     ],
     "language": "python",
     "metadata": {},
     "outputs": [
      {
       "metadata": {},
       "output_type": "pyout",
       "prompt_number": 41,
       "text": [
        "[[<matplotlib.lines.Line2D at 0x1153cfc10>],\n",
        " [<matplotlib.lines.Line2D at 0x1153cf410>],\n",
        " [<matplotlib.lines.Line2D at 0x1153d5650>],\n",
        " [<matplotlib.lines.Line2D at 0x1153d5a50>],\n",
        " [<matplotlib.lines.Line2D at 0x10da927d0>],\n",
        " [<matplotlib.lines.Line2D at 0x10da92dd0>],\n",
        " [<matplotlib.lines.Line2D at 0x11760db10>],\n",
        " [<matplotlib.lines.Line2D at 0x11533fad0>],\n",
        " [<matplotlib.lines.Line2D at 0x11760db90>]]"
       ]
      }
     ],
     "prompt_number": 41
    },
    {
     "cell_type": "code",
     "collapsed": false,
     "input": [
      "plot(roidata['i1'],roidata['hg1'],'o')"
     ],
     "language": "python",
     "metadata": {},
     "outputs": [
      {
       "metadata": {},
       "output_type": "pyout",
       "prompt_number": 46,
       "text": [
        "[<matplotlib.lines.Line2D at 0x11ccbadd0>]"
       ]
      }
     ],
     "prompt_number": 46
    },
    {
     "cell_type": "code",
     "collapsed": false,
     "input": [
      "plot(ypos,c='k')"
     ],
     "language": "python",
     "metadata": {},
     "outputs": [
      {
       "metadata": {},
       "output_type": "pyout",
       "prompt_number": 39,
       "text": [
        "[<matplotlib.lines.Line2D at 0xc87db90>]"
       ]
      }
     ],
     "prompt_number": 39
    },
    {
     "cell_type": "code",
     "collapsed": false,
     "input": [
      "imgs = np.array(expmnt.exp_record['tiff_data']['images'])"
     ],
     "language": "python",
     "metadata": {},
     "outputs": [],
     "prompt_number": 198
    },
    {
     "cell_type": "code",
     "collapsed": false,
     "input": [
      "mask = flight_mask\n",
      "sig = rwing[:-3][~mask[:-3]]\n",
      "images = imgs[~mask[:-3]]\n",
      "#calculate some summary images including the correlation image\n",
      "meanimg = mean(images,axis=0)\n",
      "zeroedimg = images - meanimg\n",
      "maximg = np.max(images,axis = 0)\n",
      "norm_img = numpy.linalg.norm(zeroedimg,axis = 0)\n",
      "norm_sig = numpy.linalg.norm(sig)\n",
      "dotimg = sum(zeroedimg*sig[:,newaxis,newaxis],axis = 0)\n",
      "corrimg = dotimg/(norm_img*norm_sig)"
     ],
     "language": "python",
     "metadata": {},
     "outputs": [],
     "prompt_number": 200
    },
    {
     "cell_type": "code",
     "collapsed": false,
     "input": [
      "figure();imshow(corrimg,cmap = cm.gray)"
     ],
     "language": "python",
     "metadata": {},
     "outputs": [
      {
       "metadata": {},
       "output_type": "pyout",
       "prompt_number": 201,
       "text": [
        "<matplotlib.image.AxesImage at 0x18a68c50>"
       ]
      }
     ],
     "prompt_number": 201
    },
    {
     "cell_type": "code",
     "collapsed": false,
     "input": [
      "print shape(sig)\n",
      "print shape(images)"
     ],
     "language": "python",
     "metadata": {},
     "outputs": [
      {
       "output_type": "stream",
       "stream": "stdout",
       "text": [
        "(30003,)\n",
        "(29435, 130, 174)\n"
       ]
      }
     ],
     "prompt_number": 199
    },
    {
     "cell_type": "code",
     "collapsed": false,
     "input": [
      "plot(sig)"
     ],
     "language": "python",
     "metadata": {},
     "outputs": [
      {
       "metadata": {},
       "output_type": "pyout",
       "prompt_number": 188,
       "text": [
        "[<matplotlib.lines.Line2D at 0x17944bd0>]"
       ]
      }
     ],
     "prompt_number": 188
    },
    {
     "cell_type": "code",
     "collapsed": false,
     "input": [
      "fly_db.flush()"
     ],
     "language": "python",
     "metadata": {},
     "outputs": [],
     "prompt_number": 13
    },
    {
     "cell_type": "code",
     "collapsed": false,
     "input": [],
     "language": "python",
     "metadata": {},
     "outputs": [],
     "prompt_number": 102
    },
    {
     "cell_type": "code",
     "collapsed": false,
     "input": [],
     "language": "python",
     "metadata": {},
     "outputs": [],
     "prompt_number": 102
    },
    {
     "cell_type": "code",
     "collapsed": false,
     "input": [],
     "language": "python",
     "metadata": {},
     "outputs": [],
     "prompt_number": 102
    },
    {
     "cell_type": "code",
     "collapsed": false,
     "input": [],
     "language": "python",
     "metadata": {},
     "outputs": [],
     "prompt_number": 50
    },
    {
     "cell_type": "code",
     "collapsed": false,
     "input": [
      "fly_db.close()"
     ],
     "language": "python",
     "metadata": {},
     "outputs": [
      {
       "output_type": "stream",
       "stream": "stdout",
       "text": [
        "<Closed HDF5 file>\n",
        "<Closed HDF5 file>\n",
        "<Closed HDF5 file>\n",
        "<Closed HDF5 file>\n",
        "<Closed HDF5 file>\n",
        "<Closed HDF5 file>\n",
        "<Closed HDF5 file>\n",
        "<Closed HDF5 file>\n",
        "<Closed HDF5 file>\n",
        "<Closed HDF5 file>\n",
        "<Closed HDF5 file>\n",
        "<Closed HDF5 file>\n",
        "<Closed HDF5 file>\n",
        "<Closed HDF5 file>\n",
        "<Closed HDF5 file>\n",
        "<Closed HDF5 file>\n",
        "<Closed HDF5 file>\n",
        "<Closed HDF5 file>\n",
        "<Closed HDF5 file>\n",
        "<Closed HDF5 file>\n",
        "<Closed HDF5 file>\n",
        "<Closed HDF5 file>\n",
        "<Closed HDF5 file>\n",
        "<Closed HDF5 file>\n",
        "<Closed HDF5 file>\n",
        "<Closed HDF5 file>\n",
        "<Closed HDF5 file>\n",
        "<Closed HDF5 file>\n",
        "<Closed HDF5 file>\n",
        "<Closed HDF5 file>\n",
        "<Closed HDF5 file>\n",
        "<Closed HDF5 file>\n",
        "<Closed HDF5 file>\n",
        "<Closed HDF5 file>\n",
        "<Closed HDF5 file>\n",
        "<Closed HDF5 file>\n",
        "<Closed HDF5 file>\n",
        "<Closed HDF5 file>\n",
        "<Closed HDF5 file>\n",
        "<Closed HDF5 file>\n",
        "<Closed HDF5 file>\n",
        "<Closed HDF5 file>\n",
        "<Closed HDF5 file>\n",
        "<Closed HDF5 file>\n",
        "<Closed HDF5 file>\n",
        "<Closed HDF5 file>\n",
        "<Closed HDF5 file>\n",
        "<Closed HDF5 file>\n",
        "<Closed HDF5 file>\n",
        "<Closed HDF5 file>\n",
        "<Closed HDF5 file>\n",
        "<Closed HDF5 file>\n",
        "<Closed HDF5 file>\n",
        "<Closed HDF5 file>\n",
        "<Closed HDF5 file>\n",
        "<Closed HDF5 file>\n",
        "<Closed HDF5 file>\n",
        "<Closed HDF5 file>\n",
        "<Closed HDF5 file>\n",
        "<Closed HDF5 file>\n",
        "<Closed HDF5 file>\n",
        "<Closed HDF5 file>\n",
        "<Closed HDF5 file>\n",
        "<Closed HDF5 file>\n",
        "<Closed HDF5 file>\n",
        "<Closed HDF5 file>\n",
        "<Closed HDF5 file>\n",
        "<Closed HDF5 file>\n",
        "<Closed HDF5 file>\n",
        "<Closed HDF5 file>\n",
        "<Closed HDF5 file>\n",
        "<Closed HDF5 file>\n",
        "<Closed HDF5 file>\n",
        "<Closed HDF5 file>\n",
        "<Closed HDF5 file>\n",
        "<Closed HDF5 file>\n",
        "<Closed HDF5 file>\n",
        "<Closed HDF5 file>\n",
        "<Closed HDF5 file>\n",
        "<Closed HDF5 file>\n"
       ]
      }
     ],
     "prompt_number": 89
    },
    {
     "cell_type": "code",
     "collapsed": false,
     "input": [],
     "language": "python",
     "metadata": {},
     "outputs": [],
     "prompt_number": 102
    },
    {
     "cell_type": "code",
     "collapsed": false,
     "input": [],
     "language": "python",
     "metadata": {},
     "outputs": [],
     "prompt_number": 102
    },
    {
     "cell_type": "code",
     "collapsed": false,
     "input": [],
     "language": "python",
     "metadata": {},
     "outputs": []
    }
   ],
   "metadata": {}
  }
 ]
}