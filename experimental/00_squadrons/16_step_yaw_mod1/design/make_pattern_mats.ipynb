{
 "cells": [
  {
   "cell_type": "code",
   "execution_count": 1,
   "metadata": {
    "collapsed": false
   },
   "outputs": [
    {
     "name": "stdout",
     "output_type": "stream",
     "text": [
      "Using matplotlib backend: WXAgg\n",
      "Populating the interactive namespace from numpy and matplotlib\n"
     ]
    },
    {
     "name": "stderr",
     "output_type": "stream",
     "text": [
      "E:\\flight-muscles\\packages\\transformations.py:1888: UserWarning: failed to import module _transformations\n",
      "  warnings.warn(\"failed to import module %s\" % name)\n"
     ]
    }
   ],
   "source": [
    "import os\n",
    "import sys\n",
    "import numpy as np\n",
    "if os.name != 'posix':\n",
    "    sys.path.append('E:\\\\flight-muscles\\\\src')\n",
    "    sys.path.append('E:\\\\flight-muscles\\\\packages')\n",
    "import arenaclouds as acld\n",
    "import pylab as plb\n",
    "%pylab"
   ]
  },
  {
   "cell_type": "code",
   "execution_count": 2,
   "metadata": {
    "collapsed": false
   },
   "outputs": [],
   "source": [
    "reload(acld)\n",
    "from scipy import io\n",
    "frame_rate = 60.0 \n",
    "acld.display_shape = (96,32)\n",
    "deg_per_pix = 360/acld.display_shape[0]\n",
    "translation_velocity = 0.3 #2.25*frame_rate\n",
    "#equator_pole = deg2rad(90)\n",
    "forward_trans_pole = np.deg2rad(90)\n",
    "backward_trans_pole = np.deg2rad(270)\n",
    "upward_trans_pole = np.deg2rad(90)\n",
    "downward_trans_pole = np.deg2rad(270)\n",
    "bit_depth = 3\n",
    "step_duration = 3\n",
    "static_duration = 10\n",
    "step_frames = step_duration*frame_rate\n",
    "static_frames = static_duration*frame_rate\n",
    "base_angular_velocity = (2*np.pi)/4 #1/4 rev/sec\n",
    "\n",
    "#def add_stripe(img_mat):\n",
    "#    nx = shape(img_mat)[2]\n",
    "#    for xidx in range(nx-4):\n",
    "#        img_mat[:,xidx:xidx+4,xidx,0] = 0\n",
    "#    for xidx in range(0,4):\n",
    "#        img_mat[:,-1-xidx:,95-xidx,0] = 0\n",
    "#        img_mat[:,0:3-xidx,95-xidx,0] = 0\n",
    "#    return img_mat\n",
    "\n",
    "##################yaw\n",
    "for i in [1]:\n",
    "    for rep in range(5):\n",
    "        yaw_imgs_90 = acld.make_spin_pattern_coromeridian(np.pi/2,\n",
    "                                    base_angular_velocity*i,\n",
    "                                    frame_rate,\n",
    "                                    max_sensory_radius = 3.0,\n",
    "                                    star_density = 8)\n",
    "        yaw_imgs_90 = acld.adjust_depth(yaw_imgs_90)\n",
    "        yaw_imgs_90 = yaw_imgs_90[:,:,:-1]\n",
    "        #yaw_imgs_90 = np.dstack([yaw_imgs_90]*i)\n",
    "        #yaw_imgs_90 = np.dstack([yaw_imgs_90[:,:,0:step_frames:1],yaw_imgs_90[:,:,step_frames:0:-1]])\n",
    "    \n",
    "        #static = zeros_like(yaw_imgs_90[:,:,:static_frames]) \n",
    "        #static[:,:,:] = yaw_imgs_90[:,:,0][:,:,np.newaxis]\n",
    "        #yaw_imgs_90 = np.dstack([static,yaw_imgs_90])\n",
    "        \n",
    "        acld.play_pattern(yaw_imgs_90)\n",
    "        yaw_imgs_90 = yaw_imgs_90[:,:,:,np.newaxis]\n",
    "        io.savemat('./stimulus_data/step_yaw_90_v%s_rep%s'%(i,rep),{'imgs':yaw_imgs_90})\n",
    "        ################\n",
    "        yaw_imgs_270 = acld.make_spin_pattern_coromeridian(np.pi/2*-1,\n",
    "                                    base_angular_velocity*i,\n",
    "                                    frame_rate,\n",
    "                                    max_sensory_radius = 3.0,\n",
    "                                    star_density = 8)\n",
    "        yaw_imgs_270 = acld.adjust_depth(yaw_imgs_270)\n",
    "        yaw_imgs_270 = yaw_imgs_270[:,:,:-1]\n",
    "        #yaw_imgs_270 = np.dstack([yaw_imgs_270]*i)\n",
    "        #yaw_imgs_270 = np.dstack([yaw_imgs_270[:,:,0:step_frames:1],yaw_imgs_270[:,:,step_frames:0:-1]])\n",
    "    \n",
    "        #static = zeros_like(yaw_imgs_270[:,:,:static_frames]) \n",
    "        #static[:,:,:] = yaw_imgs_270[:,:,0][:,:,np.newaxis]\n",
    "        #yaw_imgs_270 = np.dstack([static,yaw_imgs_270])\n",
    "        \n",
    "        acld.play_pattern(yaw_imgs_270)\n",
    "        yaw_imgs_270 = yaw_imgs_270[:,:,:,np.newaxis]\n",
    "        io.savemat('./stimulus_data/step_yaw_270_v%s_rep%s'%(i,rep),{'imgs':yaw_imgs_270})"
   ]
  },
  {
   "cell_type": "code",
   "execution_count": 3,
   "metadata": {
    "collapsed": false
   },
   "outputs": [],
   "source": [
    "reload(acld)\n",
    "from scipy import io\n",
    "frame_rate = 60.0 \n",
    "acld.display_shape = (96,32)\n",
    "deg_per_pix = 360/acld.display_shape[0]\n",
    "translation_velocity = 0.3 #2.25*frame_rate\n",
    "#equator_pole = deg2rad(90)\n",
    "forward_trans_pole = np.deg2rad(90) #jun 22 2014 - forward and backward translation poles are reversed \n",
    "backward_trans_pole = np.deg2rad(270) # make the correction in analysis in the decode condition function\n",
    "upward_trans_pole = np.deg2rad(90)\n",
    "downward_trans_pole = np.deg2rad(270)\n",
    "bit_depth = 3\n",
    "step_duration = 3\n",
    "static_duration = 10\n",
    "step_frames = step_duration*frame_rate\n",
    "static_frames = static_duration*frame_rate\n",
    "base_angular_velocity = (2*np.pi)/4 #1/4 rev/sec\n",
    "for i in [1]:\n",
    "    for rep in range(5):\n",
    "        #translation forward\n",
    "        trans_imgs_for = acld.make_translation_pattern(forward_trans_pole,\n",
    "                                 0.1,\n",
    "                                 frame_rate,\n",
    "                                 epoch_duration=6.0,\n",
    "                                 max_sensory_radius = 3.0,\n",
    "                                 star_density = 8)\n",
    "        trans_imgs_for = acld.adjust_depth(trans_imgs_for)\n",
    "        acld.play_pattern(trans_imgs_for)\n",
    "        \n",
    "        #translation backward\n",
    "        trans_imgs_back = acld.make_translation_pattern(backward_trans_pole,\n",
    "                                     0.1,\n",
    "                                     frame_rate,\n",
    "                                     epoch_duration=6.0,\n",
    "                                     max_sensory_radius = 3.0,\n",
    "                                     star_density = 8)\n",
    "        trans_imgs_back = acld.adjust_depth(trans_imgs_back)\n",
    "        acld.play_pattern(trans_imgs_back)\n",
    "\n",
    "        #translation upward\n",
    "        trans_imgs_up = acld.make_translation_pattern_coromeridian(upward_trans_pole,\n",
    "                                     0.1,\n",
    "                                     frame_rate,\n",
    "                                     epoch_duration=6.0,\n",
    "                                     max_sensory_radius = 3.0,\n",
    "                                     star_density = 8)\n",
    "        trans_imgs_up = acld.adjust_depth(trans_imgs_up)\n",
    "        acld.play_pattern(trans_imgs_up)\n",
    "\n",
    "        #translation downward\n",
    "        trans_imgs_down = acld.make_translation_pattern_coromeridian(downward_trans_pole,\n",
    "                                     0.1,\n",
    "                                     frame_rate,\n",
    "                                     epoch_duration=6.0,\n",
    "                                     max_sensory_radius = 3.0,\n",
    "                                     star_density = 8)\n",
    "        trans_imgs_down = acld.adjust_depth(trans_imgs_down)\n",
    "        acld.play_pattern(trans_imgs_down)\n",
    "        \n",
    "        trans_imgs_for = trans_imgs_for[:,:,:,np.newaxis]\n",
    "        trans_imgs_back = trans_imgs_back[:,:,:,np.newaxis]\n",
    "        trans_imgs_up = trans_imgs_up[:,:,:,np.newaxis]\n",
    "        trans_imgs_down = trans_imgs_down[:,:,:,np.newaxis]\n",
    "        io.savemat('./stimulus_data/step_trans_for_v%s_rep%s'%(i,rep),{'imgs':trans_imgs_for})\n",
    "        io.savemat('./stimulus_data/step_trans_back_v%s_rep%s'%(i,rep),{'imgs':trans_imgs_back})\n",
    "        io.savemat('./stimulus_data/step_trans_up_v%s_rep%s'%(i,rep),{'imgs':trans_imgs_up})\n",
    "        io.savemat('./stimulus_data/step_trans_down_v%s_rep%s'%(i,rep),{'imgs':trans_imgs_down})"
   ]
  },
  {
   "cell_type": "code",
   "execution_count": 17,
   "metadata": {
    "collapsed": false
   },
   "outputs": [],
   "source": [
    "function = np.hstack(np.ones(6*frame_rate)*60)\n",
    "io.savemat('./stimulus_data/function_%ss.mat'%('3s_60Hz_step'),{'func':function})"
   ]
  },
  {
   "cell_type": "code",
   "execution_count": 22,
   "metadata": {
    "collapsed": false
   },
   "outputs": [],
   "source": [
    "trials = np.array([[[(z,y,x) for x in range(5)] for y in [1,4,7]] for z in [90,270]])\n",
    "trials = np.reshape(trials,(30,3))"
   ]
  },
  {
   "cell_type": "code",
   "execution_count": 5,
   "metadata": {
    "collapsed": false
   },
   "outputs": [],
   "source": [
    "reload(acld)\n",
    "from scipy import io\n",
    "frame_rate = 60.0 \n",
    "acld.display_shape = (96,32)\n",
    "deg_per_pix = 360/acld.display_shape[0]\n",
    "translation_velocity = 0.3 #2.25*frame_rate\n",
    "#equator_pole = deg2rad(90)\n",
    "forward_trans_pole = np.deg2rad(90)\n",
    "backward_trans_pole = np.deg2rad(270)\n",
    "upward_trans_pole = np.deg2rad(90)\n",
    "downward_trans_pole = np.deg2rad(270)\n",
    "bit_depth = 3\n",
    "step_duration = 3\n",
    "static_duration = 10\n",
    "step_frames = step_duration*frame_rate\n",
    "static_frames = static_duration*frame_rate\n",
    "base_angular_velocity = (2*np.pi)/4 #1/4 rev/sec"
   ]
  },
  {
   "cell_type": "code",
   "execution_count": 6,
   "metadata": {
    "collapsed": false
   },
   "outputs": [],
   "source": [
    "function = np.hstack(np.ones(1000)*1)\n",
    "io.savemat('./stimulus_data/function_%ss.mat'%('3s_60Hz_step'),{'func':function})"
   ]
  },
  {
   "cell_type": "code",
   "execution_count": 3,
   "metadata": {
    "collapsed": false
   },
   "outputs": [
    {
     "data": {
      "text/plain": [
       "[<matplotlib.lines.Line2D at 0x9fb4860>]"
      ]
     },
     "execution_count": 3,
     "metadata": {},
     "output_type": "execute_result"
    }
   ],
   "source": [
    "posfunction = np.arange(0,5000) % 24\n",
    "plot(posfunction)\n",
    "#io.savemat('./stimulus_data/position_function_%ss.mat'%('3s_60Hz_step'),{'func':posfunction})"
   ]
  },
  {
   "cell_type": "code",
   "execution_count": 197,
   "metadata": {
    "collapsed": false
   },
   "outputs": [],
   "source": [
    "img = yaw_imgs_90[:,:,1,0]\n",
    "spec = fft2(img)\n",
    "F2 = log(abs(fftshift(spec)))\n",
    "#F2 = log(abs(F2))\n",
    "xf = shape(img)[1]/2\n",
    "yf = shape(img)[0]/2\n",
    "#xf *= 3.75*90\n",
    "#yf *= 3.75\n",
    "#F2 = fftshift( spec )\n",
    "#vticks = fftfreq(shape(yaw_imgs_90)[0])\n",
    "#hticks = fftfreq(shape(yaw_imgs_90)[1])"
   ]
  },
  {
   "cell_type": "code",
   "execution_count": 198,
   "metadata": {
    "collapsed": false
   },
   "outputs": [
    {
     "data": {
      "text/plain": [
       "<matplotlib.image.AxesImage at 0x196ddd10>"
      ]
     },
     "execution_count": 198,
     "metadata": {},
     "output_type": "execute_result"
    }
   ],
   "source": [
    "imshow(F2,extent = (xf*-1,xf*1,yf*-1,yf*1),aspect = 'auto')\n",
    "#imshow(F2,aspect = 'auto')"
   ]
  },
  {
   "cell_type": "code",
   "execution_count": 13,
   "metadata": {
    "collapsed": false
   },
   "outputs": [
    {
     "data": {
      "text/plain": [
       "[<matplotlib.lines.Line2D at 0x15ba1358>]"
      ]
     },
     "execution_count": 13,
     "metadata": {},
     "output_type": "execute_result"
    }
   ],
   "source": [
    "plot(function)"
   ]
  },
  {
   "cell_type": "code",
   "execution_count": 170,
   "metadata": {
    "collapsed": false
   },
   "outputs": [],
   "source": [
    "y = linspace(0,2*pi,96)\n",
    "for i in range(32):\n",
    "    pat[i,:] = sin(y*10)"
   ]
  },
  {
   "cell_type": "code",
   "execution_count": 3,
   "metadata": {
    "collapsed": false
   },
   "outputs": [],
   "source": [
    "reload(acld)\n",
    "from scipy import io\n",
    "frame_rate = 60.0 \n",
    "acld.display_shape = (96,32)\n",
    "deg_per_pix = 360/acld.display_shape[0]\n",
    "translation_velocity = 0.3 #2.25*frame_rate\n",
    "#equator_pole = deg2rad(90)\n",
    "forward_trans_pole = np.deg2rad(90)\n",
    "backward_trans_pole = np.deg2rad(270)\n",
    "upward_trans_pole = np.deg2rad(90)\n",
    "downward_trans_pole = np.deg2rad(270)\n",
    "bit_depth = 3\n",
    "step_duration = 1\n",
    "static_duration = 2\n",
    "step_frames = step_duration*frame_rate\n",
    "static_frames = static_duration*frame_rate\n",
    "base_angular_velocity = (2*np.pi)/4 #1/4 rev/sec"
   ]
  },
  {
   "cell_type": "code",
   "execution_count": 14,
   "metadata": {
    "collapsed": false
   },
   "outputs": [],
   "source": [
    "data = io.loadmat('./stimulus_data/step_yaw_270_v1_rep0.mat')"
   ]
  },
  {
   "cell_type": "code",
   "execution_count": 16,
   "metadata": {
    "collapsed": false
   },
   "outputs": [],
   "source": [
    "pfunct = np.arange(shape(data['imgs'])[2])"
   ]
  },
  {
   "cell_type": "code",
   "execution_count": 18,
   "metadata": {
    "collapsed": false
   },
   "outputs": [
    {
     "data": {
      "text/plain": [
       "[<matplotlib.lines.Line2D at 0x9f41828>]"
      ]
     },
     "execution_count": 18,
     "metadata": {},
     "output_type": "execute_result"
    }
   ],
   "source": [
    "plot(pfunct*(1/60.0),pfunct)"
   ]
  },
  {
   "cell_type": "code",
   "execution_count": 24,
   "metadata": {
    "collapsed": false
   },
   "outputs": [],
   "source": [
    "###the order to load the patterns to disk\n",
    "pattern_names = dict()\n",
    "count = 1\n",
    "for i in range(1,12,3):\n",
    "    for rep in range(5):\n",
    "        pattern_names['step_yaw_90_v%s_rep%s'%(i,rep)] = count\n",
    "        count += 1\n",
    "for i in range(1,12,3):\n",
    "    for rep in range(5):\n",
    "        pattern_names['step_yaw_270_v%s_rep%s'%(i,rep)] = count\n",
    "        count += 1\n",
    "###\n",
    "key1 = lambda s:int(s.split('_')[3][1:]) \n",
    "key2 = lambda s:int(s.split('_')[2])\n",
    "key3 = lambda s:int(s.split('_')[4][-1])\n",
    "sorted(sorted(sorted(pattern_names.keys(),key = key3),key = key1),key = key2)\n",
    "###\n",
    "trials = np.array([[[(z,y,x) for x in range(5)] for y in [1,4,7]] for z in [90,270]])\n",
    "trials = reshape(trials,(30,3))"
   ]
  },
  {
   "cell_type": "code",
   "execution_count": 19,
   "metadata": {
    "collapsed": false
   },
   "outputs": [
    {
     "data": {
      "text/plain": [
       "['step_yaw_90_v1_rep0',\n",
       " 'step_yaw_90_v1_rep1',\n",
       " 'step_yaw_90_v1_rep2',\n",
       " 'step_yaw_90_v1_rep3',\n",
       " 'step_yaw_90_v1_rep4',\n",
       " 'step_yaw_90_v4_rep0',\n",
       " 'step_yaw_90_v4_rep1',\n",
       " 'step_yaw_90_v4_rep2',\n",
       " 'step_yaw_90_v4_rep3',\n",
       " 'step_yaw_90_v4_rep4',\n",
       " 'step_yaw_90_v7_rep0',\n",
       " 'step_yaw_90_v7_rep1',\n",
       " 'step_yaw_90_v7_rep2',\n",
       " 'step_yaw_90_v7_rep3',\n",
       " 'step_yaw_90_v7_rep4',\n",
       " 'step_yaw_90_v10_rep0',\n",
       " 'step_yaw_90_v10_rep1',\n",
       " 'step_yaw_90_v10_rep2',\n",
       " 'step_yaw_90_v10_rep3',\n",
       " 'step_yaw_90_v10_rep4',\n",
       " 'step_yaw_270_v1_rep0',\n",
       " 'step_yaw_270_v1_rep1',\n",
       " 'step_yaw_270_v1_rep2',\n",
       " 'step_yaw_270_v1_rep3',\n",
       " 'step_yaw_270_v1_rep4',\n",
       " 'step_yaw_270_v4_rep0',\n",
       " 'step_yaw_270_v4_rep1',\n",
       " 'step_yaw_270_v4_rep2',\n",
       " 'step_yaw_270_v4_rep3',\n",
       " 'step_yaw_270_v4_rep4',\n",
       " 'step_yaw_270_v7_rep0',\n",
       " 'step_yaw_270_v7_rep1',\n",
       " 'step_yaw_270_v7_rep2',\n",
       " 'step_yaw_270_v7_rep3',\n",
       " 'step_yaw_270_v7_rep4',\n",
       " 'step_yaw_270_v10_rep0',\n",
       " 'step_yaw_270_v10_rep1',\n",
       " 'step_yaw_270_v10_rep2',\n",
       " 'step_yaw_270_v10_rep3',\n",
       " 'step_yaw_270_v10_rep4']"
      ]
     },
     "execution_count": 19,
     "metadata": {},
     "output_type": "execute_result"
    }
   ],
   "source": []
  },
  {
   "cell_type": "code",
   "execution_count": 1,
   "metadata": {
    "collapsed": false
   },
   "outputs": [
    {
     "ename": "NameError",
     "evalue": "name 'np' is not defined",
     "output_type": "error",
     "traceback": [
      "\u001b[1;31m---------------------------------------------------------------------------\u001b[0m\n\u001b[1;31mNameError\u001b[0m                                 Traceback (most recent call last)",
      "\u001b[1;32m<ipython-input-1-b4828fe32c25>\u001b[0m in \u001b[0;36m<module>\u001b[1;34m()\u001b[0m\n\u001b[1;32m----> 1\u001b[1;33m \u001b[0mpfunct\u001b[0m \u001b[1;33m=\u001b[0m \u001b[0mnp\u001b[0m\u001b[1;33m.\u001b[0m\u001b[0marange\u001b[0m\u001b[1;33m(\u001b[0m\u001b[1;36m1000.0\u001b[0m\u001b[1;33m)\u001b[0m\u001b[1;33m\u001b[0m\u001b[0m\n\u001b[0m",
      "\u001b[1;31mNameError\u001b[0m: name 'np' is not defined"
     ]
    }
   ],
   "source": [
    "pfunct = np.arange(1000.0)"
   ]
  },
  {
   "cell_type": "code",
   "execution_count": 23,
   "metadata": {
    "collapsed": false
   },
   "outputs": [
    {
     "data": {
      "text/plain": [
       "array([[ 90,   1,   0],\n",
       "       [ 90,   1,   1],\n",
       "       [ 90,   1,   2],\n",
       "       [ 90,   1,   3],\n",
       "       [ 90,   1,   4],\n",
       "       [ 90,   4,   0],\n",
       "       [ 90,   4,   1],\n",
       "       [ 90,   4,   2],\n",
       "       [ 90,   4,   3],\n",
       "       [ 90,   4,   4],\n",
       "       [ 90,   7,   0],\n",
       "       [ 90,   7,   1],\n",
       "       [ 90,   7,   2],\n",
       "       [ 90,   7,   3],\n",
       "       [ 90,   7,   4],\n",
       "       [270,   1,   0],\n",
       "       [270,   1,   1],\n",
       "       [270,   1,   2],\n",
       "       [270,   1,   3],\n",
       "       [270,   1,   4],\n",
       "       [270,   4,   0],\n",
       "       [270,   4,   1],\n",
       "       [270,   4,   2],\n",
       "       [270,   4,   3],\n",
       "       [270,   4,   4],\n",
       "       [270,   7,   0],\n",
       "       [270,   7,   1],\n",
       "       [270,   7,   2],\n",
       "       [270,   7,   3],\n",
       "       [270,   7,   4]])"
      ]
     },
     "execution_count": 23,
     "metadata": {},
     "output_type": "execute_result"
    }
   ],
   "source": [
    "trials"
   ]
  },
  {
   "cell_type": "code",
   "execution_count": 92,
   "metadata": {
    "collapsed": false
   },
   "outputs": [],
   "source": [
    "pattern_names = dict()\n",
    "count = 1\n",
    "for i in range(1,12,3):\n",
    "    for rep in range(5):\n",
    "        pattern_names['step_yaw_270_v%s_rep%s'%(i,rep)] = count\n",
    "        count += 1\n",
    "for i in range(1,12,3):\n",
    "    for rep in range(5):\n",
    "        pattern_names['step_yaw_270_v%s_rep%s'%(i,rep)] = count\n",
    "        count += 1"
   ]
  },
  {
   "cell_type": "code",
   "execution_count": 98,
   "metadata": {
    "collapsed": false
   },
   "outputs": [
    {
     "data": {
      "text/plain": [
       "26"
      ]
     },
     "execution_count": 98,
     "metadata": {},
     "output_type": "execute_result"
    }
   ],
   "source": [
    "pattern_names['step_yaw_270_v4_rep0']"
   ]
  },
  {
   "cell_type": "code",
   "execution_count": 26,
   "metadata": {
    "collapsed": false
   },
   "outputs": [],
   "source": []
  },
  {
   "cell_type": "code",
   "execution_count": 27,
   "metadata": {
    "collapsed": false
   },
   "outputs": [],
   "source": []
  },
  {
   "cell_type": "code",
   "execution_count": 33,
   "metadata": {
    "collapsed": false
   },
   "outputs": [],
   "source": []
  },
  {
   "cell_type": "code",
   "execution_count": 7,
   "metadata": {
    "collapsed": false
   },
   "outputs": [],
   "source": []
  },
  {
   "cell_type": "code",
   "execution_count": 13,
   "metadata": {
    "collapsed": false
   },
   "outputs": [],
   "source": []
  },
  {
   "cell_type": "code",
   "execution_count": 13,
   "metadata": {
    "collapsed": false
   },
   "outputs": [],
   "source": []
  },
  {
   "cell_type": "code",
   "execution_count": 13,
   "metadata": {
    "collapsed": false
   },
   "outputs": [],
   "source": []
  },
  {
   "cell_type": "code",
   "execution_count": 13,
   "metadata": {
    "collapsed": false
   },
   "outputs": [],
   "source": []
  },
  {
   "cell_type": "code",
   "execution_count": 13,
   "metadata": {
    "collapsed": false
   },
   "outputs": [],
   "source": []
  },
  {
   "cell_type": "code",
   "execution_count": 13,
   "metadata": {
    "collapsed": false
   },
   "outputs": [],
   "source": []
  },
  {
   "cell_type": "code",
   "execution_count": 13,
   "metadata": {
    "collapsed": false
   },
   "outputs": [],
   "source": []
  },
  {
   "cell_type": "code",
   "execution_count": 13,
   "metadata": {
    "collapsed": false
   },
   "outputs": [],
   "source": []
  },
  {
   "cell_type": "code",
   "execution_count": 13,
   "metadata": {
    "collapsed": false
   },
   "outputs": [],
   "source": []
  },
  {
   "cell_type": "code",
   "execution_count": 13,
   "metadata": {
    "collapsed": false
   },
   "outputs": [],
   "source": []
  },
  {
   "cell_type": "code",
   "execution_count": 13,
   "metadata": {
    "collapsed": false
   },
   "outputs": [],
   "source": []
  },
  {
   "cell_type": "code",
   "execution_count": 13,
   "metadata": {
    "collapsed": false
   },
   "outputs": [],
   "source": []
  },
  {
   "cell_type": "code",
   "execution_count": 13,
   "metadata": {
    "collapsed": false
   },
   "outputs": [],
   "source": []
  },
  {
   "cell_type": "code",
   "execution_count": 13,
   "metadata": {
    "collapsed": false
   },
   "outputs": [],
   "source": []
  },
  {
   "cell_type": "code",
   "execution_count": 13,
   "metadata": {
    "collapsed": false
   },
   "outputs": [],
   "source": []
  },
  {
   "cell_type": "code",
   "execution_count": 13,
   "metadata": {
    "collapsed": false
   },
   "outputs": [],
   "source": []
  },
  {
   "cell_type": "code",
   "execution_count": 13,
   "metadata": {
    "collapsed": false
   },
   "outputs": [],
   "source": []
  },
  {
   "cell_type": "code",
   "execution_count": 13,
   "metadata": {
    "collapsed": false
   },
   "outputs": [],
   "source": []
  },
  {
   "cell_type": "code",
   "execution_count": 13,
   "metadata": {
    "collapsed": false
   },
   "outputs": [],
   "source": []
  },
  {
   "cell_type": "code",
   "execution_count": 13,
   "metadata": {
    "collapsed": false
   },
   "outputs": [],
   "source": []
  },
  {
   "cell_type": "code",
   "execution_count": 13,
   "metadata": {
    "collapsed": false
   },
   "outputs": [],
   "source": []
  },
  {
   "cell_type": "code",
   "execution_count": 13,
   "metadata": {
    "collapsed": false
   },
   "outputs": [],
   "source": []
  },
  {
   "cell_type": "code",
   "execution_count": 13,
   "metadata": {
    "collapsed": false
   },
   "outputs": [],
   "source": []
  },
  {
   "cell_type": "code",
   "execution_count": 13,
   "metadata": {
    "collapsed": false
   },
   "outputs": [],
   "source": []
  },
  {
   "cell_type": "code",
   "execution_count": 13,
   "metadata": {
    "collapsed": false
   },
   "outputs": [],
   "source": []
  },
  {
   "cell_type": "code",
   "execution_count": 13,
   "metadata": {
    "collapsed": false
   },
   "outputs": [],
   "source": []
  },
  {
   "cell_type": "code",
   "execution_count": 13,
   "metadata": {
    "collapsed": false
   },
   "outputs": [],
   "source": []
  },
  {
   "cell_type": "code",
   "execution_count": 13,
   "metadata": {
    "collapsed": false
   },
   "outputs": [],
   "source": []
  },
  {
   "cell_type": "code",
   "execution_count": 13,
   "metadata": {
    "collapsed": false
   },
   "outputs": [],
   "source": []
  },
  {
   "cell_type": "code",
   "execution_count": null,
   "metadata": {
    "collapsed": false
   },
   "outputs": [],
   "source": []
  }
 ],
 "metadata": {
  "kernelspec": {
   "display_name": "Python 2",
   "language": "python",
   "name": "python2"
  },
  "language_info": {
   "codemirror_mode": {
    "name": "ipython",
    "version": 2
   },
   "file_extension": ".py",
   "mimetype": "text/x-python",
   "name": "python",
   "nbconvert_exporter": "python",
   "pygments_lexer": "ipython2",
   "version": "2.7.9"
  }
 },
 "nbformat": 4,
 "nbformat_minor": 0
}
