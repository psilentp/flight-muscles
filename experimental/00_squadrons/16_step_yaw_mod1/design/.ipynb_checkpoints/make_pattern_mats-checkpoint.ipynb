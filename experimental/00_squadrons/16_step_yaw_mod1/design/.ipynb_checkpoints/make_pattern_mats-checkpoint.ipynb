{
 "metadata": {
  "name": "",
  "signature": "sha256:80a1ec323ecca51c10430acb71a1666288500e62621e503ac76f2c9bece6c731"
 },
 "nbformat": 3,
 "nbformat_minor": 0,
 "worksheets": [
  {
   "cells": [
    {
     "cell_type": "code",
     "collapsed": false,
     "input": [
      "import os\n",
      "import sys\n",
      "import numpy as np\n",
      "if os.name != 'posix':\n",
      "    sys.path.append('E:\\\\flight-muscles\\\\src')\n",
      "    sys.path.append('E:\\\\flight-muscles\\\\packages')\n",
      "import arenaclouds as acld\n",
      "import pylab as plb\n",
      "%pylab"
     ],
     "language": "python",
     "metadata": {},
     "outputs": [
      {
       "output_type": "stream",
       "stream": "stdout",
       "text": [
        "Using matplotlib backend: WXAgg\n",
        "Populating the interactive namespace from numpy and matplotlib\n"
       ]
      },
      {
       "output_type": "stream",
       "stream": "stderr",
       "text": [
        "E:\\flight-muscles\\packages\\transformations.py:1888: UserWarning: failed to import module _transformations\n",
        "  warnings.warn(\"failed to import module %s\" % name)\n"
       ]
      }
     ],
     "prompt_number": 1
    },
    {
     "cell_type": "code",
     "collapsed": false,
     "input": [
      "reload(acld)\n",
      "from scipy import io\n",
      "frame_rate = 60.0 \n",
      "acld.display_shape = (96,32)\n",
      "deg_per_pix = 360/acld.display_shape[0]\n",
      "translation_velocity = 0.3 #2.25*frame_rate\n",
      "#equator_pole = deg2rad(90)\n",
      "forward_trans_pole = np.deg2rad(90)\n",
      "backward_trans_pole = np.deg2rad(270)\n",
      "upward_trans_pole = np.deg2rad(90)\n",
      "downward_trans_pole = np.deg2rad(270)\n",
      "bit_depth = 3\n",
      "step_duration = 3\n",
      "static_duration = 10\n",
      "step_frames = step_duration*frame_rate\n",
      "static_frames = static_duration*frame_rate\n",
      "base_angular_velocity = (2*np.pi)/4 #1/4 rev/sec\n",
      "\n",
      "#def add_stripe(img_mat):\n",
      "#    nx = shape(img_mat)[2]\n",
      "#    for xidx in range(nx-4):\n",
      "#        img_mat[:,xidx:xidx+4,xidx,0] = 0\n",
      "#    for xidx in range(0,4):\n",
      "#        img_mat[:,-1-xidx:,95-xidx,0] = 0\n",
      "#        img_mat[:,0:3-xidx,95-xidx,0] = 0\n",
      "#    return img_mat\n",
      "\n",
      "##################yaw\n",
      "for i in range(1,12,3):\n",
      "    for rep in range(5):\n",
      "        yaw_imgs_90 = acld.make_spin_pattern_coromeridian(np.pi/2,\n",
      "                                    base_angular_velocity*i,\n",
      "                                    frame_rate,\n",
      "                                    max_sensory_radius = 3.0,\n",
      "                                    star_density = 8)\n",
      "        yaw_imgs_90 = acld.adjust_depth(yaw_imgs_90)\n",
      "        yaw_imgs_90 = yaw_imgs_90[:,:,:-1]\n",
      "        #yaw_imgs_90 = np.dstack([yaw_imgs_90]*i)\n",
      "        #yaw_imgs_90 = np.dstack([yaw_imgs_90[:,:,0:step_frames:1],yaw_imgs_90[:,:,step_frames:0:-1]])\n",
      "    \n",
      "        #static = zeros_like(yaw_imgs_90[:,:,:static_frames]) \n",
      "        #static[:,:,:] = yaw_imgs_90[:,:,0][:,:,np.newaxis]\n",
      "        #yaw_imgs_90 = np.dstack([static,yaw_imgs_90])\n",
      "        \n",
      "        acld.play_pattern(yaw_imgs_90)\n",
      "        yaw_imgs_90 = yaw_imgs_90[:,:,:,np.newaxis]\n",
      "        io.savemat('./stimulus_data/step_yaw_90_v%s_rep%s'%(i,rep),{'imgs':yaw_imgs_90})\n",
      "        ################\n",
      "        yaw_imgs_270 = acld.make_spin_pattern_coromeridian(np.pi/2*-1,\n",
      "                                    base_angular_velocity*i,\n",
      "                                    frame_rate,\n",
      "                                    max_sensory_radius = 3.0,\n",
      "                                    star_density = 8)\n",
      "        yaw_imgs_270 = acld.adjust_depth(yaw_imgs_270)\n",
      "        yaw_imgs_270 = yaw_imgs_270[:,:,:-1]\n",
      "        #yaw_imgs_270 = np.dstack([yaw_imgs_270]*i)\n",
      "        #yaw_imgs_270 = np.dstack([yaw_imgs_270[:,:,0:step_frames:1],yaw_imgs_270[:,:,step_frames:0:-1]])\n",
      "    \n",
      "        #static = zeros_like(yaw_imgs_270[:,:,:static_frames]) \n",
      "        #static[:,:,:] = yaw_imgs_270[:,:,0][:,:,np.newaxis]\n",
      "        #yaw_imgs_270 = np.dstack([static,yaw_imgs_270])\n",
      "        \n",
      "        acld.play_pattern(yaw_imgs_270)\n",
      "        yaw_imgs_270 = yaw_imgs_270[:,:,:,np.newaxis]\n",
      "        io.savemat('./stimulus_data/step_yaw_270_v%s_rep%s'%(i,rep),{'imgs':yaw_imgs_270})"
     ],
     "language": "python",
     "metadata": {},
     "outputs": [],
     "prompt_number": 2
    },
    {
     "cell_type": "code",
     "collapsed": false,
     "input": [
      "reload(acld)\n",
      "from scipy import io\n",
      "frame_rate = 60.0 \n",
      "acld.display_shape = (96,32)\n",
      "deg_per_pix = 360/acld.display_shape[0]\n",
      "translation_velocity = 0.3 #2.25*frame_rate\n",
      "#equator_pole = deg2rad(90)\n",
      "forward_trans_pole = np.deg2rad(90)\n",
      "backward_trans_pole = np.deg2rad(270)\n",
      "upward_trans_pole = np.deg2rad(90)\n",
      "downward_trans_pole = np.deg2rad(270)\n",
      "bit_depth = 3\n",
      "step_duration = 3\n",
      "static_duration = 10\n",
      "step_frames = step_duration*frame_rate\n",
      "static_frames = static_duration*frame_rate\n",
      "base_angular_velocity = (2*np.pi)/4 #1/4 rev/sec\n",
      "for i in [1]:\n",
      "    for rep in range(5):\n",
      "        #translation forward\n",
      "        trans_imgs_for = acld.make_translation_pattern(forward_trans_pole,\n",
      "                                 0.1,\n",
      "                                 frame_rate,\n",
      "                                 epoch_duration=3.0,\n",
      "                                 max_sensory_radius = 3.0,\n",
      "                                 star_density = 8)\n",
      "        trans_imgs_for = acld.adjust_depth(trans_imgs_for)\n",
      "        acld.play_pattern(trans_imgs_for)\n",
      "        \n",
      "        #translation backward\n",
      "        trans_imgs_back = acld.make_translation_pattern(backward_trans_pole,\n",
      "                                     0.1,\n",
      "                                     frame_rate,\n",
      "                                     epoch_duration=3.0,\n",
      "                                     max_sensory_radius = 3.0,\n",
      "                                     star_density = 8)\n",
      "        trans_imgs_back = acld.adjust_depth(trans_imgs_back)\n",
      "        acld.play_pattern(trans_imgs_back)\n",
      "\n",
      "        #translation upward\n",
      "        trans_imgs_up = acld.make_translation_pattern_coromeridian(upward_trans_pole,\n",
      "                                     0.1,\n",
      "                                     frame_rate,\n",
      "                                     epoch_duration=3.0,\n",
      "                                     max_sensory_radius = 3.0,\n",
      "                                     star_density = 8)\n",
      "        trans_imgs_up = acld.adjust_depth(trans_imgs_up)\n",
      "        acld.play_pattern(trans_imgs_up)\n",
      "\n",
      "        #translation downward\n",
      "        trans_imgs_down = acld.make_translation_pattern_coromeridian(downward_trans_pole,\n",
      "                                     0.1,\n",
      "                                     frame_rate,\n",
      "                                     epoch_duration=3.0,\n",
      "                                     max_sensory_radius = 3.0,\n",
      "                                     star_density = 8)\n",
      "        trans_imgs_down = acld.adjust_depth(trans_imgs_down)\n",
      "        acld.play_pattern(trans_imgs_down)\n",
      "        \n",
      "        trans_imgs_for = trans_imgs_for[:,:,:,np.newaxis]\n",
      "        trans_imgs_back = trans_imgs_back[:,:,:,np.newaxis]\n",
      "        trans_imgs_up = trans_imgs_up[:,:,:,np.newaxis]\n",
      "        trans_imgs_down = trans_imgs_down[:,:,:,np.newaxis]\n",
      "        io.savemat('./stimulus_data/step_trans_for_v%s_rep%s'%(i,rep),{'imgs':trans_imgs_for})\n",
      "        io.savemat('./stimulus_data/step_trans_back_v%s_rep%s'%(i,rep),{'imgs':trans_imgs_back})\n",
      "        io.savemat('./stimulus_data/step_trans_up_v%s_rep%s'%(i,rep),{'imgs':trans_imgs_up})\n",
      "        io.savemat('./stimulus_data/step_trans_down_v%s_rep%s'%(i,rep),{'imgs':trans_imgs_down})"
     ],
     "language": "python",
     "metadata": {},
     "outputs": [],
     "prompt_number": 2
    },
    {
     "cell_type": "code",
     "collapsed": false,
     "input": [
      "function = np.hstack(np.ones(6*frame_rate)*60)\n",
      "io.savemat('./stimulus_data/function_%ss.mat'%('3s_60Hz_step'),{'func':function})"
     ],
     "language": "python",
     "metadata": {},
     "outputs": [],
     "prompt_number": 17
    },
    {
     "cell_type": "code",
     "collapsed": false,
     "input": [
      "trials = np.array([[[(z,y,x) for x in range(5)] for y in [1,4,7]] for z in [90,270]])\n",
      "trials = np.reshape(trials,(30,3))"
     ],
     "language": "python",
     "metadata": {},
     "outputs": [],
     "prompt_number": 22
    },
    {
     "cell_type": "code",
     "collapsed": false,
     "input": [
      "reload(acld)\n",
      "from scipy import io\n",
      "frame_rate = 60.0 \n",
      "acld.display_shape = (96,32)\n",
      "deg_per_pix = 360/acld.display_shape[0]\n",
      "translation_velocity = 0.3 #2.25*frame_rate\n",
      "#equator_pole = deg2rad(90)\n",
      "forward_trans_pole = np.deg2rad(90)\n",
      "backward_trans_pole = np.deg2rad(270)\n",
      "upward_trans_pole = np.deg2rad(90)\n",
      "downward_trans_pole = np.deg2rad(270)\n",
      "bit_depth = 3\n",
      "step_duration = 3\n",
      "static_duration = 10\n",
      "step_frames = step_duration*frame_rate\n",
      "static_frames = static_duration*frame_rate\n",
      "base_angular_velocity = (2*np.pi)/4 #1/4 rev/sec"
     ],
     "language": "python",
     "metadata": {},
     "outputs": [],
     "prompt_number": 3
    },
    {
     "cell_type": "code",
     "collapsed": false,
     "input": [
      "function = np.hstack(np.ones(1000)*50)\n",
      "io.savemat('./stimulus_data/function_%ss.mat'%('3s_60Hz_step'),{'func':function})"
     ],
     "language": "python",
     "metadata": {},
     "outputs": [],
     "prompt_number": 5
    },
    {
     "cell_type": "code",
     "collapsed": false,
     "input": [
      "posfunction = np.arange(0,5000)\n",
      "io.savemat('./stimulus_data/position_function_%ss.mat'%('3s_60Hz_step'),{'func':posfunction})"
     ],
     "language": "python",
     "metadata": {},
     "outputs": [],
     "prompt_number": 9
    },
    {
     "cell_type": "code",
     "collapsed": false,
     "input": [
      "img = yaw_imgs_90[:,:,1,0]\n",
      "spec = fft2(img)\n",
      "F2 = log(abs(fftshift(spec)))\n",
      "#F2 = log(abs(F2))\n",
      "xf = shape(img)[1]/2\n",
      "yf = shape(img)[0]/2\n",
      "#xf *= 3.75*90\n",
      "#yf *= 3.75\n",
      "#F2 = fftshift( spec )\n",
      "#vticks = fftfreq(shape(yaw_imgs_90)[0])\n",
      "#hticks = fftfreq(shape(yaw_imgs_90)[1])"
     ],
     "language": "python",
     "metadata": {},
     "outputs": [],
     "prompt_number": 197
    },
    {
     "cell_type": "code",
     "collapsed": false,
     "input": [
      "imshow(F2,extent = (xf*-1,xf*1,yf*-1,yf*1),aspect = 'auto')\n",
      "#imshow(F2,aspect = 'auto')"
     ],
     "language": "python",
     "metadata": {},
     "outputs": [
      {
       "metadata": {},
       "output_type": "pyout",
       "prompt_number": 198,
       "text": [
        "<matplotlib.image.AxesImage at 0x196ddd10>"
       ]
      }
     ],
     "prompt_number": 198
    },
    {
     "cell_type": "code",
     "collapsed": false,
     "input": [
      "plot(function)"
     ],
     "language": "python",
     "metadata": {},
     "outputs": [
      {
       "metadata": {},
       "output_type": "pyout",
       "prompt_number": 13,
       "text": [
        "[<matplotlib.lines.Line2D at 0x15ba1358>]"
       ]
      }
     ],
     "prompt_number": 13
    },
    {
     "cell_type": "code",
     "collapsed": false,
     "input": [
      "y = linspace(0,2*pi,96)\n",
      "for i in range(32):\n",
      "    pat[i,:] = sin(y*10)"
     ],
     "language": "python",
     "metadata": {},
     "outputs": [],
     "prompt_number": 170
    },
    {
     "cell_type": "code",
     "collapsed": false,
     "input": [
      "reload(acld)\n",
      "from scipy import io\n",
      "frame_rate = 60.0 \n",
      "acld.display_shape = (96,32)\n",
      "deg_per_pix = 360/acld.display_shape[0]\n",
      "translation_velocity = 0.3 #2.25*frame_rate\n",
      "#equator_pole = deg2rad(90)\n",
      "forward_trans_pole = np.deg2rad(90)\n",
      "backward_trans_pole = np.deg2rad(270)\n",
      "upward_trans_pole = np.deg2rad(90)\n",
      "downward_trans_pole = np.deg2rad(270)\n",
      "bit_depth = 3\n",
      "step_duration = 1\n",
      "static_duration = 2\n",
      "step_frames = step_duration*frame_rate\n",
      "static_frames = static_duration*frame_rate\n",
      "base_angular_velocity = (2*np.pi)/4 #1/4 rev/sec"
     ],
     "language": "python",
     "metadata": {},
     "outputs": [],
     "prompt_number": 3
    },
    {
     "cell_type": "code",
     "collapsed": false,
     "input": [
      "data = io.loadmat('./stimulus_data/step_yaw_270_v1_rep0.mat')"
     ],
     "language": "python",
     "metadata": {},
     "outputs": [],
     "prompt_number": 14
    },
    {
     "cell_type": "code",
     "collapsed": false,
     "input": [
      "pfunct = np.arange(shape(data['imgs'])[2])"
     ],
     "language": "python",
     "metadata": {},
     "outputs": [],
     "prompt_number": 16
    },
    {
     "cell_type": "code",
     "collapsed": false,
     "input": [
      "plot(pfunct*(1/60.0),pfunct)"
     ],
     "language": "python",
     "metadata": {},
     "outputs": [
      {
       "metadata": {},
       "output_type": "pyout",
       "prompt_number": 18,
       "text": [
        "[<matplotlib.lines.Line2D at 0x9f41828>]"
       ]
      }
     ],
     "prompt_number": 18
    },
    {
     "cell_type": "code",
     "collapsed": false,
     "input": [
      "###the order to load the patterns to disk\n",
      "pattern_names = dict()\n",
      "count = 1\n",
      "for i in range(1,12,3):\n",
      "    for rep in range(5):\n",
      "        pattern_names['step_yaw_90_v%s_rep%s'%(i,rep)] = count\n",
      "        count += 1\n",
      "for i in range(1,12,3):\n",
      "    for rep in range(5):\n",
      "        pattern_names['step_yaw_270_v%s_rep%s'%(i,rep)] = count\n",
      "        count += 1\n",
      "###\n",
      "key1 = lambda s:int(s.split('_')[3][1:]) \n",
      "key2 = lambda s:int(s.split('_')[2])\n",
      "key3 = lambda s:int(s.split('_')[4][-1])\n",
      "sorted(sorted(sorted(pattern_names.keys(),key = key3),key = key1),key = key2)\n",
      "###\n",
      "trials = np.array([[[(z,y,x) for x in range(5)] for y in [1,4,7]] for z in [90,270]])\n",
      "trials = reshape(trials,(30,3))"
     ],
     "language": "python",
     "metadata": {},
     "outputs": [],
     "prompt_number": 24
    },
    {
     "cell_type": "code",
     "collapsed": false,
     "input": [],
     "language": "python",
     "metadata": {},
     "outputs": [
      {
       "metadata": {},
       "output_type": "pyout",
       "prompt_number": 19,
       "text": [
        "['step_yaw_90_v1_rep0',\n",
        " 'step_yaw_90_v1_rep1',\n",
        " 'step_yaw_90_v1_rep2',\n",
        " 'step_yaw_90_v1_rep3',\n",
        " 'step_yaw_90_v1_rep4',\n",
        " 'step_yaw_90_v4_rep0',\n",
        " 'step_yaw_90_v4_rep1',\n",
        " 'step_yaw_90_v4_rep2',\n",
        " 'step_yaw_90_v4_rep3',\n",
        " 'step_yaw_90_v4_rep4',\n",
        " 'step_yaw_90_v7_rep0',\n",
        " 'step_yaw_90_v7_rep1',\n",
        " 'step_yaw_90_v7_rep2',\n",
        " 'step_yaw_90_v7_rep3',\n",
        " 'step_yaw_90_v7_rep4',\n",
        " 'step_yaw_90_v10_rep0',\n",
        " 'step_yaw_90_v10_rep1',\n",
        " 'step_yaw_90_v10_rep2',\n",
        " 'step_yaw_90_v10_rep3',\n",
        " 'step_yaw_90_v10_rep4',\n",
        " 'step_yaw_270_v1_rep0',\n",
        " 'step_yaw_270_v1_rep1',\n",
        " 'step_yaw_270_v1_rep2',\n",
        " 'step_yaw_270_v1_rep3',\n",
        " 'step_yaw_270_v1_rep4',\n",
        " 'step_yaw_270_v4_rep0',\n",
        " 'step_yaw_270_v4_rep1',\n",
        " 'step_yaw_270_v4_rep2',\n",
        " 'step_yaw_270_v4_rep3',\n",
        " 'step_yaw_270_v4_rep4',\n",
        " 'step_yaw_270_v7_rep0',\n",
        " 'step_yaw_270_v7_rep1',\n",
        " 'step_yaw_270_v7_rep2',\n",
        " 'step_yaw_270_v7_rep3',\n",
        " 'step_yaw_270_v7_rep4',\n",
        " 'step_yaw_270_v10_rep0',\n",
        " 'step_yaw_270_v10_rep1',\n",
        " 'step_yaw_270_v10_rep2',\n",
        " 'step_yaw_270_v10_rep3',\n",
        " 'step_yaw_270_v10_rep4']"
       ]
      }
     ],
     "prompt_number": 19
    },
    {
     "cell_type": "code",
     "collapsed": false,
     "input": [
      "pfunct = np.arange(1000.0)"
     ],
     "language": "python",
     "metadata": {},
     "outputs": [
      {
       "ename": "NameError",
       "evalue": "name 'np' is not defined",
       "output_type": "pyerr",
       "traceback": [
        "\u001b[1;31m---------------------------------------------------------------------------\u001b[0m\n\u001b[1;31mNameError\u001b[0m                                 Traceback (most recent call last)",
        "\u001b[1;32m<ipython-input-1-b4828fe32c25>\u001b[0m in \u001b[0;36m<module>\u001b[1;34m()\u001b[0m\n\u001b[1;32m----> 1\u001b[1;33m \u001b[0mpfunct\u001b[0m \u001b[1;33m=\u001b[0m \u001b[0mnp\u001b[0m\u001b[1;33m.\u001b[0m\u001b[0marange\u001b[0m\u001b[1;33m(\u001b[0m\u001b[1;36m1000.0\u001b[0m\u001b[1;33m)\u001b[0m\u001b[1;33m\u001b[0m\u001b[0m\n\u001b[0m",
        "\u001b[1;31mNameError\u001b[0m: name 'np' is not defined"
       ]
      }
     ],
     "prompt_number": 1
    },
    {
     "cell_type": "code",
     "collapsed": false,
     "input": [
      "trials"
     ],
     "language": "python",
     "metadata": {},
     "outputs": [
      {
       "metadata": {},
       "output_type": "pyout",
       "prompt_number": 23,
       "text": [
        "array([[ 90,   1,   0],\n",
        "       [ 90,   1,   1],\n",
        "       [ 90,   1,   2],\n",
        "       [ 90,   1,   3],\n",
        "       [ 90,   1,   4],\n",
        "       [ 90,   4,   0],\n",
        "       [ 90,   4,   1],\n",
        "       [ 90,   4,   2],\n",
        "       [ 90,   4,   3],\n",
        "       [ 90,   4,   4],\n",
        "       [ 90,   7,   0],\n",
        "       [ 90,   7,   1],\n",
        "       [ 90,   7,   2],\n",
        "       [ 90,   7,   3],\n",
        "       [ 90,   7,   4],\n",
        "       [270,   1,   0],\n",
        "       [270,   1,   1],\n",
        "       [270,   1,   2],\n",
        "       [270,   1,   3],\n",
        "       [270,   1,   4],\n",
        "       [270,   4,   0],\n",
        "       [270,   4,   1],\n",
        "       [270,   4,   2],\n",
        "       [270,   4,   3],\n",
        "       [270,   4,   4],\n",
        "       [270,   7,   0],\n",
        "       [270,   7,   1],\n",
        "       [270,   7,   2],\n",
        "       [270,   7,   3],\n",
        "       [270,   7,   4]])"
       ]
      }
     ],
     "prompt_number": 23
    },
    {
     "cell_type": "code",
     "collapsed": false,
     "input": [
      "pattern_names = dict()\n",
      "count = 1\n",
      "for i in range(1,12,3):\n",
      "    for rep in range(5):\n",
      "        pattern_names['step_yaw_270_v%s_rep%s'%(i,rep)] = count\n",
      "        count += 1\n",
      "for i in range(1,12,3):\n",
      "    for rep in range(5):\n",
      "        pattern_names['step_yaw_270_v%s_rep%s'%(i,rep)] = count\n",
      "        count += 1"
     ],
     "language": "python",
     "metadata": {},
     "outputs": [],
     "prompt_number": 92
    },
    {
     "cell_type": "code",
     "collapsed": false,
     "input": [
      "pattern_names['step_yaw_270_v4_rep0']"
     ],
     "language": "python",
     "metadata": {},
     "outputs": [
      {
       "metadata": {},
       "output_type": "pyout",
       "prompt_number": 98,
       "text": [
        "26"
       ]
      }
     ],
     "prompt_number": 98
    },
    {
     "cell_type": "code",
     "collapsed": false,
     "input": [],
     "language": "python",
     "metadata": {},
     "outputs": [],
     "prompt_number": 26
    },
    {
     "cell_type": "code",
     "collapsed": false,
     "input": [],
     "language": "python",
     "metadata": {},
     "outputs": [],
     "prompt_number": 27
    },
    {
     "cell_type": "code",
     "collapsed": false,
     "input": [],
     "language": "python",
     "metadata": {},
     "outputs": [],
     "prompt_number": 33
    },
    {
     "cell_type": "code",
     "collapsed": false,
     "input": [],
     "language": "python",
     "metadata": {},
     "outputs": [],
     "prompt_number": 7
    },
    {
     "cell_type": "code",
     "collapsed": false,
     "input": [],
     "language": "python",
     "metadata": {},
     "outputs": [],
     "prompt_number": 13
    },
    {
     "cell_type": "code",
     "collapsed": false,
     "input": [],
     "language": "python",
     "metadata": {},
     "outputs": [],
     "prompt_number": 13
    },
    {
     "cell_type": "code",
     "collapsed": false,
     "input": [],
     "language": "python",
     "metadata": {},
     "outputs": [],
     "prompt_number": 13
    },
    {
     "cell_type": "code",
     "collapsed": false,
     "input": [],
     "language": "python",
     "metadata": {},
     "outputs": [],
     "prompt_number": 13
    },
    {
     "cell_type": "code",
     "collapsed": false,
     "input": [],
     "language": "python",
     "metadata": {},
     "outputs": [],
     "prompt_number": 13
    },
    {
     "cell_type": "code",
     "collapsed": false,
     "input": [],
     "language": "python",
     "metadata": {},
     "outputs": [],
     "prompt_number": 13
    },
    {
     "cell_type": "code",
     "collapsed": false,
     "input": [],
     "language": "python",
     "metadata": {},
     "outputs": [],
     "prompt_number": 13
    },
    {
     "cell_type": "code",
     "collapsed": false,
     "input": [],
     "language": "python",
     "metadata": {},
     "outputs": [],
     "prompt_number": 13
    },
    {
     "cell_type": "code",
     "collapsed": false,
     "input": [],
     "language": "python",
     "metadata": {},
     "outputs": [],
     "prompt_number": 13
    },
    {
     "cell_type": "code",
     "collapsed": false,
     "input": [],
     "language": "python",
     "metadata": {},
     "outputs": [],
     "prompt_number": 13
    },
    {
     "cell_type": "code",
     "collapsed": false,
     "input": [],
     "language": "python",
     "metadata": {},
     "outputs": [],
     "prompt_number": 13
    },
    {
     "cell_type": "code",
     "collapsed": false,
     "input": [],
     "language": "python",
     "metadata": {},
     "outputs": [],
     "prompt_number": 13
    },
    {
     "cell_type": "code",
     "collapsed": false,
     "input": [],
     "language": "python",
     "metadata": {},
     "outputs": [],
     "prompt_number": 13
    },
    {
     "cell_type": "code",
     "collapsed": false,
     "input": [],
     "language": "python",
     "metadata": {},
     "outputs": [],
     "prompt_number": 13
    },
    {
     "cell_type": "code",
     "collapsed": false,
     "input": [],
     "language": "python",
     "metadata": {},
     "outputs": [],
     "prompt_number": 13
    },
    {
     "cell_type": "code",
     "collapsed": false,
     "input": [],
     "language": "python",
     "metadata": {},
     "outputs": [],
     "prompt_number": 13
    },
    {
     "cell_type": "code",
     "collapsed": false,
     "input": [],
     "language": "python",
     "metadata": {},
     "outputs": [],
     "prompt_number": 13
    },
    {
     "cell_type": "code",
     "collapsed": false,
     "input": [],
     "language": "python",
     "metadata": {},
     "outputs": [],
     "prompt_number": 13
    },
    {
     "cell_type": "code",
     "collapsed": false,
     "input": [],
     "language": "python",
     "metadata": {},
     "outputs": [],
     "prompt_number": 13
    },
    {
     "cell_type": "code",
     "collapsed": false,
     "input": [],
     "language": "python",
     "metadata": {},
     "outputs": [],
     "prompt_number": 13
    },
    {
     "cell_type": "code",
     "collapsed": false,
     "input": [],
     "language": "python",
     "metadata": {},
     "outputs": [],
     "prompt_number": 13
    },
    {
     "cell_type": "code",
     "collapsed": false,
     "input": [],
     "language": "python",
     "metadata": {},
     "outputs": [],
     "prompt_number": 13
    },
    {
     "cell_type": "code",
     "collapsed": false,
     "input": [],
     "language": "python",
     "metadata": {},
     "outputs": [],
     "prompt_number": 13
    },
    {
     "cell_type": "code",
     "collapsed": false,
     "input": [],
     "language": "python",
     "metadata": {},
     "outputs": [],
     "prompt_number": 13
    },
    {
     "cell_type": "code",
     "collapsed": false,
     "input": [],
     "language": "python",
     "metadata": {},
     "outputs": [],
     "prompt_number": 13
    },
    {
     "cell_type": "code",
     "collapsed": false,
     "input": [],
     "language": "python",
     "metadata": {},
     "outputs": [],
     "prompt_number": 13
    },
    {
     "cell_type": "code",
     "collapsed": false,
     "input": [],
     "language": "python",
     "metadata": {},
     "outputs": [],
     "prompt_number": 13
    },
    {
     "cell_type": "code",
     "collapsed": false,
     "input": [],
     "language": "python",
     "metadata": {},
     "outputs": [],
     "prompt_number": 13
    },
    {
     "cell_type": "code",
     "collapsed": false,
     "input": [],
     "language": "python",
     "metadata": {},
     "outputs": [],
     "prompt_number": 13
    },
    {
     "cell_type": "code",
     "collapsed": false,
     "input": [],
     "language": "python",
     "metadata": {},
     "outputs": []
    }
   ],
   "metadata": {}
  }
 ]
}