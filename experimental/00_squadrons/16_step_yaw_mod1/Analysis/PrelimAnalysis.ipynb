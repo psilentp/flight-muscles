{
 "cells": [
  {
   "cell_type": "markdown",
   "metadata": {},
   "source": [
    "Preliminary analysis performed on a few flies (305 - 317) u56(Gcamp6f) X R22H05 to test modifications to the stimulus protocol - 6 stim conditions (clkwise/cclkwise yaw,translate forward, backward up and down. 10 reps for each direction. The first 5 flies were very young < 24 hrs old. the second 4 were between 24-48 hrs old and produced more consistent behavioral results.\n",
    "\n",
    "The remaining analyis was performed on flies 1 day of age. 4 cohorts of flies expressing Gcamp6f in flight muscles."
   ]
  },
  {
   "cell_type": "code",
   "execution_count": 1,
   "metadata": {
    "collapsed": false
   },
   "outputs": [
    {
     "name": "stdout",
     "output_type": "stream",
     "text": [
      "Using matplotlib backend: WXAgg\n",
      "Populating the interactive namespace from numpy and matplotlib\n"
     ]
    }
   ],
   "source": [
    "%pylab"
   ]
  },
  {
   "cell_type": "code",
   "execution_count": 2,
   "metadata": {
    "collapsed": false
   },
   "outputs": [],
   "source": [
    "import group_data as gd"
   ]
  },
  {
   "cell_type": "code",
   "execution_count": 3,
   "metadata": {
    "collapsed": true
   },
   "outputs": [],
   "source": [
    "import flylib"
   ]
  },
  {
   "cell_type": "markdown",
   "metadata": {},
   "source": [
    "## Calculate image stats for each fly"
   ]
  },
  {
   "cell_type": "code",
   "execution_count": 5,
   "metadata": {
    "collapsed": false
   },
   "outputs": [
    {
     "name": "stderr",
     "output_type": "stream",
     "text": [
      "WARNING: pylab import has clobbered these variables: ['f']\n",
      "`%matplotlib` prevents importing * from pylab and numpy\n",
      "/home/flyranch/Enthought/Canopy_64bit/User/lib/python2.7/site-packages/IPython/kernel/__main__.py:15: RuntimeWarning: invalid value encountered in subtract\n",
      "/home/flyranch/Enthought/Canopy_64bit/User/lib/python2.7/site-packages/IPython/kernel/__main__.py:16: RuntimeWarning: invalid value encountered in subtract\n",
      "/home/flyranch/Enthought/Canopy_64bit/User/lib/python2.7/site-packages/IPython/kernel/__main__.py:17: RuntimeWarning: invalid value encountered in divide\n"
     ]
    },
    {
     "name": "stdout",
     "output_type": "stream",
     "text": [
      "Using matplotlib backend: WXAgg\n",
      "Populating the interactive namespace from numpy and matplotlib\n"
     ]
    },
    {
     "name": "stderr",
     "output_type": "stream",
     "text": [
      "/home/flyranch/Enthought/Canopy_64bit/User/lib/python2.7/site-packages/matplotlib/pyplot.py:424: RuntimeWarning: More than 20 figures have been opened. Figures created through the pyplot interface (`matplotlib.pyplot.figure`) are retained until explicitly closed and may consume too much memory. (To control this warning, see the rcParam `figure.max_open_warning`).\n",
      "  max_open_warning, RuntimeWarning)\n"
     ]
    }
   ],
   "source": [
    "#code to calculate the summary stats for the data\n",
    "%pylab\n",
    "import flylib\n",
    "import db_access as dba\n",
    "fly_db = dba.get_db()\n",
    "test_group = range(396,399) #range(317,326)\n",
    "\n",
    "swarm = flylib.Squadron(fly_db,test_group)#GMR29E05_swarm\n",
    "def wing_correlations(sig,imgs,fly = None):\n",
    "    #calculate some summary images including the correlation image\n",
    "    mean_img = mean(imgs,axis=0)\n",
    "    zeroed_img = imgs - mean_img\n",
    "    max_img = np.max(imgs,axis = 0)\n",
    "    norm_img = numpy.linalg.norm(zeroed_img,axis = 0)\n",
    "    norm_sig = numpy.linalg.norm(sig-np.mean(sig))\n",
    "    dot_img = sum(zeroed_img*(sig[:,newaxis,newaxis]-np.mean(sig)),axis = 0)\n",
    "    corr_img = dot_img/(norm_img*norm_sig)\n",
    "    return {'mean_img':mean_img,\n",
    "        'max_img':max_img,\n",
    "        'norm_img':norm_img,\n",
    "        'dot_img':dot_img,\n",
    "        'corr_img':corr_img}\n",
    "\n",
    "def imgs_stats(fly = None):\n",
    "    #get signals from fly\n",
    "    rwing = np.array(fly.experiments.values()[0].exp_record['tiff_data']['axon_framebase']['Ph1'])\n",
    "    lwing = np.array(fly.experiments.values()[0].exp_record['tiff_data']['axon_framebase']['Ph0'])\n",
    "    wbf = np.array(fly.experiments.values()[0].exp_record['tiff_data']['axon_framebase']['wb_frequency'])\n",
    "    StimCond = np.array(fly.experiments.values()[0].exp_record['tiff_data']['axon_framebase']['StimCond'])\n",
    "    images = np.array(fly.experiments.values()[0].exp_record['tiff_data']['images'])\n",
    "    mask = ((StimCond<0) & (wbf >150))[:shape(images)[0]]\n",
    "    #print sum(mask)\n",
    "    return {'lwing':wing_correlations(lwing[mask],images[mask]),\n",
    "            'rwing':wing_correlations(rwing[mask],images[mask]),\n",
    "            'freq':wing_correlations(wbf[mask],images[mask])}\n",
    "\n",
    "import cPickle\n",
    "for fly in swarm.flies:\n",
    "    #print fly.fly_num\n",
    "    stats = imgs_stats(fly = fly)\n",
    "    fi = open(fly.fly_path + 'img_stats.cpkl','wb')\n",
    "    cPickle.dump(stats,fi)\n",
    "    fi.close()\n",
    "    \n",
    "for fly in swarm.flies:\n",
    "    fi = open(fly.fly_path + 'img_stats.cpkl','rb')\n",
    "    stats = cPickle.load(fi)\n",
    "    fi.close()\n",
    "    figure()\n",
    "    imshow(stats['rwing']['corr_img'].reshape(130,174),cmap = cm.gray)"
   ]
  },
  {
   "cell_type": "code",
   "execution_count": 9,
   "metadata": {
    "collapsed": false
   },
   "outputs": [
    {
     "name": "stderr",
     "output_type": "stream",
     "text": [
      "/home/flyranch/Enthought/Canopy_64bit/User/lib/python2.7/site-packages/IPython/kernel/__main__.py:40: RuntimeWarning: divide by zero encountered in divide\n",
      "/home/flyranch/Enthought/Canopy_64bit/User/lib/python2.7/site-packages/IPython/kernel/__main__.py:40: RuntimeWarning: invalid value encountered in divide\n",
      "/home/flyranch/Enthought/Canopy_64bit/User/lib/python2.7/site-packages/IPython/kernel/__main__.py:12: RuntimeWarning: invalid value encountered in subtract\n"
     ]
    }
   ],
   "source": [
    "import flylib\n",
    "import db_access as dba\n",
    "fly_db = dba.get_db()\n",
    "\n",
    "def wing_correlations_df(sig,imgs,fly = None):\n",
    "    #calculate some summary images including the correlation image\n",
    "    include = isfinite(sig)\n",
    "    sig = sig[include]\n",
    "    imgs = imgs[include]\n",
    "    #now calculate stats\n",
    "    mean_img = mean(imgs,axis=0)\n",
    "    zeroed_img = imgs - mean_img\n",
    "    \n",
    "    max_img = np.max(imgs,axis = 0)\n",
    "    norm_img = numpy.linalg.norm(zeroed_img,axis = 0)\n",
    "    norm_sig = numpy.linalg.norm(sig-np.mean(sig))\n",
    "    dot_img = sum(zeroed_img*(sig[:,newaxis,newaxis]-np.mean(sig)),axis = 0)\n",
    "    corr_img = dot_img/(norm_img*norm_sig)\n",
    "    return {'mean_img':mean_img,\n",
    "        'max_img':max_img,\n",
    "        'norm_img':norm_img,\n",
    "        'dot_img':dot_img,\n",
    "        'corr_img':corr_img}\n",
    "\n",
    "def imgs_stats_df(fly = None):\n",
    "    #get signals from fly\n",
    "    rwing = np.array(fly.experiments.values()[0].exp_record['tiff_data']['axon_framebase']['Ph1'])\n",
    "    lwing = np.array(fly.experiments.values()[0].exp_record['tiff_data']['axon_framebase']['Ph0'])\n",
    "    wbf = np.array(fly.experiments.values()[0].exp_record['tiff_data']['axon_framebase']['wb_frequency'])\n",
    "    StimCond = np.array(fly.experiments.values()[0].exp_record['tiff_data']['axon_framebase']['StimCond'])\n",
    "    images = np.array(fly.experiments.values()[0].exp_record['tiff_data']['images'])\n",
    "    mask = ((StimCond<0) & (wbf >150))[:shape(images)[0]]\n",
    "    #load baseline data\n",
    "    fi = open(fly.fly_path + 'epoch_data.cpkl')\n",
    "    import cPickle\n",
    "    baseline_range = cPickle.load(fi)['baseline_F']\n",
    "    fi.close()\n",
    "    F = np.mean(images[baseline_range],axis = 0)\n",
    "    #calculate dF/F\n",
    "    imgs = (images[mask]-F)/F\n",
    "    #print sum(mask)\n",
    "    return {'lwing':wing_correlations_df(lwing[mask],imgs),\n",
    "            'rwing':wing_correlations_df(rwing[mask],imgs),\n",
    "            'freq':wing_correlations_df(wbf[mask],imgs)}\n",
    "\n",
    "test_group = [397,399,400,401,402,403,404]#range(396,399) #range(317,326)\n",
    "\n",
    "test_swarm = flylib.Squadron(fly_db,test_group)#GMR29E05_swarm\n",
    "\n",
    "swarm_list = [test_swarm]\n",
    "\n",
    "import cPickle\n",
    "for swarm in swarm_list:\n",
    "    for fly in swarm.flies:\n",
    "        #print fly.fly_num\n",
    "        try:\n",
    "            stats = imgs_stats_df(fly = fly)\n",
    "            fi = open(fly.fly_path + 'img_stats_df.cpkl','wb')\n",
    "            cPickle.dump(stats,fi)\n",
    "            fi.close()\n",
    "        except IOError:\n",
    "            print fly.fly_num\n",
    "\n",
    "    for fly in swarm.flies:\n",
    "        try:\n",
    "            fi = open(fly.fly_path + 'img_stats_df.cpkl','rb')\n",
    "            stats = cPickle.load(fi)\n",
    "            fi.close()\n",
    "            figure()\n",
    "            imshow(stats['rwing']['corr_img'].reshape(130,174),cmap = cm.gray)\n",
    "        except IOError:\n",
    "            print fly.fly_num"
   ]
  },
  {
   "cell_type": "code",
   "execution_count": 71,
   "metadata": {
    "collapsed": false
   },
   "outputs": [
    {
     "data": {
      "text/plain": [
       "308"
      ]
     },
     "execution_count": 71,
     "metadata": {},
     "output_type": "execute_result"
    }
   ],
   "source": [
    "fly.fly_num"
   ]
  },
  {
   "cell_type": "code",
   "execution_count": 14,
   "metadata": {
    "collapsed": false
   },
   "outputs": [
    {
     "data": {
      "text/plain": [
       "[314, 315, 316, 317, 327, 328]"
      ]
     },
     "execution_count": 14,
     "metadata": {},
     "output_type": "execute_result"
    }
   ],
   "source": [
    "[fly.fly_num for fly in swarm.flies[-6:]]"
   ]
  },
  {
   "cell_type": "markdown",
   "metadata": {},
   "source": [
    "## Load the reference frame data and make correlation plots"
   ]
  },
  {
   "cell_type": "code",
   "execution_count": 4,
   "metadata": {
    "collapsed": false
   },
   "outputs": [],
   "source": [
    "import muscle_model as mm\n",
    "reload(mm)\n",
    "confocal_model = mm.GeometricModel(filepath = 'model_data.cpkl')\n",
    "confocal_view = mm.ModelViewMPL(confocal_model)\n",
    "\n",
    "def warp_fly_image(fly,img,s = 1):\n",
    "    import cv2\n",
    "    import cPickle\n",
    "    pkname = fly.fly_path + '/basis_fits.cpkl'\n",
    "    fly_frame = mm.Frame();fly_frame.load(pkname)\n",
    "    A = confocal_model.frame.get_transform(fly_frame)\n",
    "    Ap = dot([[s,0.0,0],[0,s,0],[0,0,1]],A)\n",
    "    output_shape = (np.array([1024,1024])*s).astype(int) #confocal shape scale\n",
    "    output_shape = (output_shape[0],output_shape[1])\n",
    "    X_warped = cv2.warpAffine(img.T,Ap[:-1,:],output_shape)\n",
    "    return X_warped\n",
    "\n",
    "def get_swarm_summary(swarm):\n",
    "    import cPickle\n",
    "    corr_list = list()\n",
    "    norm_list = list()\n",
    "    freq_list = list()\n",
    "    for fly in swarm.flies:\n",
    "        try:\n",
    "            f = open(fly.fly_path + 'img_stats_df.cpkl','rb')\n",
    "            stats = cPickle.load(f)\n",
    "            f.close()\n",
    "            corr_list.append([fly,stats['rwing']['corr_img'].reshape(130,174)*stats['rwing']['norm_img'].reshape(130,174)])\n",
    "            norm_list.append([fly,stats['rwing']['norm_img'].reshape(130,174)])\n",
    "            freq_list.append([fly,stats['freq']['corr_img'].reshape(130,174)*stats['rwing']['norm_img'].reshape(130,174)])\n",
    "        except IOError:\n",
    "            print fly.fly_num\n",
    "    warped_imgs = list()\n",
    "    for fly,img in norm_list:\n",
    "        warped_imgs.append(warp_fly_image(fly,img))\n",
    "    group_norm = mean(dstack(warped_imgs),axis = 2)\n",
    "    \n",
    "    warped_imgs = list()\n",
    "    for fly,img in corr_list:\n",
    "        warped_imgs.append(warp_fly_image(fly,img))\n",
    "    group_corr = mean(dstack(warped_imgs),axis = 2)\n",
    "        \n",
    "    warped_imgs = list()\n",
    "    for fly,img in freq_list:\n",
    "        warped_imgs.append(warp_fly_image(fly,img))\n",
    "    group_freq_corr = mean(dstack(warped_imgs),axis = 2)\n",
    "    \n",
    "    return(group_norm,group_corr,group_freq_corr)\n",
    "    \n",
    "def plot_swarm_corr(swarm,contour_kwargs = None,\n",
    "                    line_name = None,\n",
    "                    plot_pans = None,vmin = -1.0,vmax = 1.0,\n",
    "                   xbounds = None,ybounds = None,cmap = cm.gray):\n",
    "    line_label = line_name\n",
    "    axes(plot_pans[0])\n",
    "    import os\n",
    "    filelist = os.listdir('./')\n",
    "    line_name = line_name.split('_GFP')[0].split('GMR')[1]\n",
    "    antibody_file = filter(lambda x: (line_name in x) and ('(RGB)' in x),filelist)[0]\n",
    "    print antibody_file\n",
    "    import tifffile\n",
    "    tfile = tifffile.TiffFile(antibody_file)\n",
    "    antibody_image = tfile.asarray()\n",
    "    imshow(antibody_image)\n",
    "    gca().set_xticklabels([])\n",
    "    gca().set_yticklabels([])\n",
    "    gca().set_ylabel(line_label)\n",
    "    \n",
    "    group_norm,group_corr,group_freq_corr = get_swarm_summary(swarm)\n",
    "\n",
    "    axes(plot_pans[1])\n",
    "    imshow(group_norm,cmap = cmap,vmin = 0,vmax = 200)\n",
    "    #subplot(1,2,1)\n",
    "    #plot_args = {'plot_frame':False,'contour_kwargs':{'edgecolor':'y','alpha':0.5,'facecolor':'none'}}\n",
    "    plot_args = {'plot_frame':False,'contour_kwargs':contour_kwargs}\n",
    "    confocal_view.plot(confocal_model.frame,plot_args = plot_args)\n",
    "    gca().set_xbound(0,1000)\n",
    "    gca().set_ybound(0,1000)\n",
    "    gca().set_xticklabels([])\n",
    "    gca().set_yticklabels([])\n",
    "    gca().set_xbound(xbounds)\n",
    "    gca().set_ybound(ybounds)\n",
    "    #gca().set_title('std image')\n",
    "    \n",
    "    #subplot(1,2,2)\n",
    "    axes(plot_pans[2])\n",
    "    imshow(group_corr,cmap = cmap,vmin = vmin,vmax = vmax)\n",
    "    #print np.min(mean(dstack(warped_imgs),axis = 2))\n",
    "    plot_args = {'plot_frame':False,'contour_kwargs':contour_kwargs}\n",
    "    confocal_view.plot(confocal_model.frame,plot_args = plot_args)\n",
    "    gca().set_xbound(0,1000)\n",
    "    gca().set_ybound(0,1000)\n",
    "    gca().set_xticklabels([])\n",
    "    gca().set_yticklabels([])\n",
    "    gca().set_xbound(xbounds)\n",
    "    gca().set_ybound(ybounds)\n",
    "\n",
    "    axes(plot_pans[3])\n",
    "    imshow(group_freq_corr,cmap = cmap,vmin = vmin,vmax = vmax)\n",
    "    #print np.min(mean(dstack(warped_imgs),axis = 2))\n",
    "    plot_args = {'plot_frame':False,'contour_kwargs':contour_kwargs}\n",
    "    confocal_view.plot(confocal_model.frame,plot_args = plot_args)\n",
    "    gca().set_xbound(0,1000)\n",
    "    gca().set_ybound(0,1000)\n",
    "    gca().set_xticklabels([])\n",
    "    gca().set_yticklabels([])\n",
    "    gca().set_xbound(xbounds)\n",
    "    gca().set_ybound(ybounds)\n",
    "    #gca().set_title('correlation image')\n",
    "    \n",
    "    #suptitle(line_name)\n",
    "    \n",
    "def get_kwargs(line_name):\n",
    "    import cPickle\n",
    "    f = open('../../../mn_expression_matrix_plot/line_database.cpkl','rb')\n",
    "    line_database = cPickle.load(f)\n",
    "    f.close()\n",
    "    contour_kwargs = dict()\n",
    "    line_name = line_name.split('_GFP')[0].split('GMR')[1]\n",
    "    for key in line_database[line_name].keys():\n",
    "        if 'DVM' in key:\n",
    "            contour_kwargs['DVM1'] = {'linewidth':line_database[line_name]['DVM']/2.0,\n",
    "                               'edgecolor':'orange','facecolor':'none','alpha':0.6}\n",
    "            contour_kwargs['DVM2'] = {'linewidth':line_database[line_name]['DVM']/2.0,\n",
    "                               'edgecolor':'orange','facecolor':'none','alpha':0.6}\n",
    "            contour_kwargs['DVM3'] = {'linewidth':line_database[line_name]['DVM']/2.0,\n",
    "                               'edgecolor':'orange','facecolor':'none','alpha':0.6}\n",
    "        else:\n",
    "            contour_kwargs[key] = {'linewidth':line_database[line_name][key]/2.0,\n",
    "                               'edgecolor':'orange','facecolor':'none','alpha':0.6}\n",
    "    return contour_kwargs"
   ]
  },
  {
   "cell_type": "code",
   "execution_count": 5,
   "metadata": {
    "collapsed": false
   },
   "outputs": [
    {
     "name": "stdout",
     "output_type": "stream",
     "text": [
      "MAX_75B06_01.tif (RGB).tif\n",
      "MAX_74F03_02_hemi.tif (RGB).tif\n",
      "MAX_10A12_01.tif (RGB).tif\n"
     ]
    }
   ],
   "source": [
    "from matplotlib import gridspec\n",
    "\n",
    "vmin = -10.5\n",
    "vmax = 10.5\n",
    "xmin = 60\n",
    "xmax = 750\n",
    "xbounds = (xmin,xmax)\n",
    "ymin = 325\n",
    "ymax = 900\n",
    "ybounds = (ymin,ymax)\n",
    "\n",
    "gs = gridspec.GridSpec(7, 4)\n",
    "\n",
    "for i,line_name in enumerate(['GMR75B06','GMR74F03','GMR10A12']):\n",
    "    plot_pans = [subplot(gs[i,row]) for row in range(4)]\n",
    "    if i == 0:\n",
    "        axes(plot_pans[0])\n",
    "        gca().set_title('antibody staining')\n",
    "        axes(plot_pans[1])\n",
    "        gca().set_title('standard deviation')\n",
    "        axes(plot_pans[2])\n",
    "        gca().set_title('right wing correlation')\n",
    "        \n",
    "    contour_kwargs = get_kwargs(line_name = line_name)\n",
    "    plot_swarm_corr(gd.swarms[line_name],\n",
    "                    contour_kwargs,\n",
    "                    line_name = line_name,\n",
    "                    plot_pans = plot_pans,\n",
    "                    vmin = vmin,vmax = vmax,\n",
    "                    xbounds = xbounds,ybounds = ybounds,\n",
    "                    cmap = cm.gray)\n",
    "    #savefig(line_name + '_corr' + '.pdf')\n",
    "    #close()\n",
    "savefig('correlations.pdf')"
   ]
  },
  {
   "cell_type": "code",
   "execution_count": 82,
   "metadata": {
    "collapsed": true
   },
   "outputs": [],
   "source": [
    "ax = gca()"
   ]
  },
  {
   "cell_type": "code",
   "execution_count": 7,
   "metadata": {
    "collapsed": false
   },
   "outputs": [
    {
     "data": {
      "text/plain": [
       "7"
      ]
     },
     "execution_count": 7,
     "metadata": {},
     "output_type": "execute_result"
    }
   ],
   "source": [
    "len(swarms.keys())"
   ]
  },
  {
   "cell_type": "code",
   "execution_count": 67,
   "metadata": {
    "collapsed": true
   },
   "outputs": [],
   "source": [
    "stats_file.close()"
   ]
  },
  {
   "cell_type": "code",
   "execution_count": 68,
   "metadata": {
    "collapsed": false
   },
   "outputs": [
    {
     "data": {
      "text/plain": [
       "['lwing', 'rwing', 'freq']"
      ]
     },
     "execution_count": 68,
     "metadata": {},
     "output_type": "execute_result"
    }
   ],
   "source": [
    "stats.keys()"
   ]
  },
  {
   "cell_type": "code",
   "execution_count": 69,
   "metadata": {
    "collapsed": true
   },
   "outputs": [],
   "source": [
    "freq = stats['freq']['corr_img']"
   ]
  },
  {
   "cell_type": "code",
   "execution_count": 70,
   "metadata": {
    "collapsed": false
   },
   "outputs": [
    {
     "data": {
      "text/plain": [
       "<matplotlib.image.AxesImage at 0x1bb9b2d0>"
      ]
     },
     "execution_count": 70,
     "metadata": {},
     "output_type": "execute_result"
    }
   ],
   "source": [
    "imshow(freq,cmap = cm.gray)"
   ]
  },
  {
   "cell_type": "code",
   "execution_count": 21,
   "metadata": {
    "collapsed": false
   },
   "outputs": [
    {
     "data": {
      "text/plain": [
       "<matplotlib.image.AxesImage at 0xf9b9750>"
      ]
     },
     "execution_count": 21,
     "metadata": {},
     "output_type": "execute_result"
    }
   ],
   "source": [
    "### a block to view a max confocal image\n",
    "import os\n",
    "filelist = os.listdir('./')\n",
    "antibody_file = filter(lambda x: ('22H05' in x) and ('(RGB)' in x),filelist)[0]\n",
    "import tifffile\n",
    "tfile = tifffile.TiffFile(antibody_file)\n",
    "antibody_image = tfile.asarray()\n",
    "imshow(antibody_image)"
   ]
  },
  {
   "cell_type": "markdown",
   "metadata": {},
   "source": [
    "## Calculation of dF/F stats"
   ]
  },
  {
   "cell_type": "code",
   "execution_count": 5,
   "metadata": {
    "collapsed": false
   },
   "outputs": [],
   "source": [
    "#GMR22H05_swarm \n",
    "#GMR39E01_swarm\n",
    "#GMR31E10_swarm\n",
    "#GMR29E05_swarm\n",
    "\n",
    "#GMR22H05_GFP_swarm = flylib.Squadron(fly_db,GMR22H05_GFP_list)\n",
    "\n",
    "#GMR31E10_GFP_swarm = flylib.Squadron(fly_db,GMR31E10_GFP_list)\n",
    "\n",
    "#GMR29E05_GFP_swarm = flylib.Squadron(fly_db,GMR29E05_GFP_list)"
   ]
  },
  {
   "cell_type": "code",
   "execution_count": 7,
   "metadata": {
    "collapsed": false
   },
   "outputs": [],
   "source": [
    "def get_data(fly):\n",
    "    #this function interpolates a movie for each trial and returns the data as a dictionary\n",
    "    expmnt = fly.experiments.values()[0]\n",
    "    sigs = expmnt.exp_record['tiff_data']['axon_framebase']\n",
    "    trials = flylib.idx_by_thresh(np.array(sigs['StimCond']),-0.0)\n",
    "    imgs = expmnt.exp_record['tiff_data']['images']\n",
    "    def get_resamp_imgs(cond):\n",
    "        cond_idxs = [t for t in trials if get_cond(fly,t) == gd.encode[cond]]\n",
    "        img_sequences = [np.array(imgs[t[0]:t[-1]]) for t in cond_idxs]\n",
    "        img_times = [np.array(sigs['times'][t[0]:t[-1]])-sigs['times'][t[0]] for t in cond_idxs]\n",
    "        scond_sequences =  [np.array(sigs['StimCond'][t[0]:t[-1]]) for t in cond_idxs]\n",
    "        resampled_img_sequences = list()\n",
    "        resampled_scond_sequences = list()\n",
    "        from scipy.interpolate import interp1d\n",
    "        for tms,seq,scond in zip(img_times,img_sequences,scond_sequences):\n",
    "            fx = interp1d(tms,seq,axis = 0)\n",
    "            sc = interp1d(tms,scond,axis =0)\n",
    "            resample_times = np.arange(0,23,0.03)\n",
    "            resampled_img_sequences.append(fx(resample_times))\n",
    "            resampled_scond_sequences.append(sc(resample_times))\n",
    "        return resampled_img_sequences,resampled_scond_sequences\n",
    "    movie_dict = dict()\n",
    "    #scond_dict = dict()\n",
    "    for cond in gd.encode.keys():\n",
    "        print cond\n",
    "        resampled_img_sequences,resampled_scond_sequences = get_resamp_imgs(cond)\n",
    "        movie_dict[cond] = np.mean(resampled_img_sequences,axis = 0)\n",
    "        #scond_dict[cond] = np.mean(resampled_scond_sequences,axis = 0)\n",
    "    return movie_dict"
   ]
  },
  {
   "cell_type": "code",
   "execution_count": 17,
   "metadata": {
    "collapsed": false
   },
   "outputs": [],
   "source": [
    "def get_data_DF_F(fly):\n",
    "    #this function interpolates a movie for each trial and returns the data as a dictionary\n",
    "    expmnt = fly.experiments.values()[0]\n",
    "    sigs = expmnt.exp_record['tiff_data']['axon_framebase']\n",
    "    trials = flylib.idx_by_thresh(np.array(sigs['StimCond']),-0.0)\n",
    "    imgs = expmnt.exp_record['tiff_data']['images']\n",
    "    f = open(fly.fly_path + 'epoch_data.cpkl')\n",
    "    import cPickle\n",
    "    baseline_range = cPickle.load(f)['baseline_F']\n",
    "    f.close()\n",
    "    F = np.mean(imgs[baseline_range],axis = 0)\n",
    "    def get_resamp_imgs(cond):\n",
    "        cond_idxs = [t for t in trials if get_cond(fly,t) == gd.encode[cond]]\n",
    "        \n",
    "        img_sequences = [np.array(imgs[t[0]:t[-1]]) for t in cond_idxs]\n",
    "        img_times = [np.array(sigs['times'][t[0]:t[-1]])-sigs['times'][t[0]] for t in cond_idxs]\n",
    "        scond_sequences =  [np.array(sigs['StimCond'][t[0]:t[-1]]) for t in cond_idxs]\n",
    "        rwing_sequences =  [np.array(sigs['Ph1'][t[0]:t[-1]]) for t in cond_idxs]\n",
    "        freq_sequences = [np.array(sigs['wb_frequency'][t[0]:t[-1]]) for t in cond_idxs]\n",
    "        \n",
    "        resampled_img_sequences = list()\n",
    "        resampled_scond_sequences = list()\n",
    "        resampled_rwing_sequences = list()\n",
    "        resampled_freq_sequences = list()\n",
    "        \n",
    "        from scipy.interpolate import interp1d\n",
    "        for tms,seq,scond,rwing,freq in zip(img_times,\n",
    "                                       img_sequences,\n",
    "                                       scond_sequences,\n",
    "                                       rwing_sequences,\n",
    "                                       freq_sequences):\n",
    "            fx = interp1d(tms,seq,axis = 0)\n",
    "            sx = interp1d(tms,scond,axis =0)\n",
    "            rx = interp1d(tms,rwing,axis =0)\n",
    "            qx = interp1d(tms,freq,axis = 0)\n",
    "            resample_times = np.arange(0,23,0.03)\n",
    "            \n",
    "            img_seq = (fx(resample_times)-F)/F\n",
    "            img_seq[~isfinite(img_seq)] = 0\n",
    "            \n",
    "            resampled_img_sequences.append(img_seq)\n",
    "            resampled_scond_sequences.append(sx(resample_times))\n",
    "            resampled_rwing_sequences.append(rx(resample_times))\n",
    "            resampled_freq_sequences.append(qx(resample_times))\n",
    "        return resampled_img_sequences,resampled_scond_sequences,resampled_rwing_sequences,resampled_freq_sequences\n",
    "    \n",
    "    movie_dict = dict()\n",
    "    scond_dict = dict()\n",
    "    rwing_dict = dict()\n",
    "    freq_dict = dict()\n",
    "    \n",
    "    for cond in gd.encode.keys():\n",
    "        resampled_img_sequences,resampled_scond_sequences,resampled_rwing_sequences,resampled_freq_sequences = get_resamp_imgs(cond)\n",
    "        movie_dict[cond] = np.mean(resampled_img_sequences,axis = 0)\n",
    "        scond_dict[cond] = np.mean(resampled_scond_sequences,axis = 0)\n",
    "        rwing_dict[cond] = np.mean(resampled_rwing_sequences,axis = 0)\n",
    "        freq_dict[cond] = np.mean(resampled_freq_sequences,axis = 0)\n",
    "    return movie_dict,scond_dict,rwing_dict,freq_dict"
   ]
  },
  {
   "cell_type": "code",
   "execution_count": 22,
   "metadata": {
    "collapsed": true
   },
   "outputs": [],
   "source": [
    "swarms = [GMR22H05_swarm,\n",
    "         GMR39E01_swarm,\n",
    "         GMR31E10_swarm,\n",
    "         GMR29E05_swarm,\n",
    "         GMR22H05_GFP_swarm,\n",
    "         GMR31E10_GFP_swarm,\n",
    "         GMR29E05_GFP_swarm]"
   ]
  },
  {
   "cell_type": "code",
   "execution_count": 27,
   "metadata": {
    "collapsed": false
   },
   "outputs": [
    {
     "name": "stdout",
     "output_type": "stream",
     "text": [
      "308\n",
      "309\n",
      "310\n",
      "311\n",
      "312\n",
      "error\n",
      "314\n",
      "315\n",
      "316\n",
      "317\n",
      "327\n",
      "328\n",
      "318\n",
      "319\n",
      "320\n",
      "321\n",
      "322\n",
      "323\n",
      "324\n",
      "325\n",
      "329\n",
      "330\n",
      "331\n",
      "332"
     ]
    },
    {
     "name": "stderr",
     "output_type": "stream",
     "text": [
      "/home/flyranch/Enthought/Canopy_64bit/User/lib/python2.7/site-packages/IPython/kernel/__main__.py:38: RuntimeWarning: divide by zero encountered in divide\n",
      "/home/flyranch/Enthought/Canopy_64bit/User/lib/python2.7/site-packages/IPython/kernel/__main__.py:38: RuntimeWarning: invalid value encountered in divide\n",
      "/home/flyranch/Enthought/Canopy_64bit/User/lib/python2.7/site-packages/scipy/interpolate/interpolate.py:466: RuntimeWarning: invalid value encountered in subtract\n",
      "  slope = (y_hi - y_lo) / (x_hi - x_lo)[:, None]\n"
     ]
    },
    {
     "name": "stdout",
     "output_type": "stream",
     "text": [
      "\n",
      "333\n",
      "error\n",
      "335\n",
      "336\n",
      "error\n",
      "338\n",
      "339\n",
      "340\n",
      "341\n",
      "342\n",
      "343\n",
      "344\n",
      "345\n",
      "346\n",
      "347\n",
      "348\n",
      "349\n",
      "350\n",
      "351\n",
      "352\n",
      "353\n",
      "354\n",
      "355\n",
      "356\n",
      "357\n",
      "358\n",
      "359\n",
      "360\n",
      "370\n",
      "371\n",
      "372\n",
      "373\n",
      "380\n",
      "381\n",
      "382\n",
      "383\n",
      "361\n",
      "362\n",
      "363\n",
      "364\n",
      "365\n",
      "384\n",
      "385\n",
      "386\n",
      "366\n",
      "367\n",
      "368\n",
      "369\n",
      "376\n",
      "377\n",
      "378\n",
      "379\n"
     ]
    },
    {
     "name": "stderr",
     "output_type": "stream",
     "text": [
      "/home/flyranch/Enthought/Canopy_64bit/User/lib/python2.7/site-packages/numpy/core/_methods.py:55: RuntimeWarning: Mean of empty slice.\n",
      "  warnings.warn(\"Mean of empty slice.\", RuntimeWarning)\n",
      "/home/flyranch/Enthought/Canopy_64bit/User/lib/python2.7/site-packages/numpy/core/_methods.py:67: RuntimeWarning: invalid value encountered in true_divide\n",
      "  ret = ret.dtype.type(ret / rcount)\n"
     ]
    }
   ],
   "source": [
    "import h5py\n",
    "#loop over a swarm and save the interpolated movie data\n",
    "for swarm in swarms:\n",
    "    for fly in swarm.flies:\n",
    "        import cPickle\n",
    "        try:\n",
    "            movie_data,cond_data,wing_data,freq_data = get_data_DF_F(fly)\n",
    "            fi = h5py.File(fly.fly_path + 'trial_movies.hdf5','a')\n",
    "\n",
    "            movie_group = fi.create_group('movie_data')\n",
    "            for key in movie_data:\n",
    "                movie_group[key] = movie_data[key]\n",
    "\n",
    "            cond_group = fi.create_group('cond_data')\n",
    "            for key in cond_data:\n",
    "                cond_group[key] = cond_data[key]\n",
    "\n",
    "            wing_group = fi.create_group('wing_data')\n",
    "            for key in wing_data:\n",
    "                wing_group[key] = wing_data[key]\n",
    "\n",
    "            freq_group = fi.create_group('freq_data')\n",
    "            for key in freq_data:\n",
    "                freq_group[key] = freq_data[key]\n",
    "\n",
    "            fi.flush()\n",
    "            fi.close()\n",
    "            print fly.fly_num\n",
    "            #f = open(fly.fly_path + 'trial_data_dF_F.cpkl','wb')\n",
    "            #cPickle.dump(data,f)\n",
    "            #f.close()\n",
    "        except (IOError,ValueError):\n",
    "            print 'error'"
   ]
  },
  {
   "cell_type": "code",
   "execution_count": null,
   "metadata": {
    "collapsed": false
   },
   "outputs": [],
   "source": []
  },
  {
   "cell_type": "code",
   "execution_count": null,
   "metadata": {
    "collapsed": true
   },
   "outputs": [],
   "source": []
  },
  {
   "cell_type": "code",
   "execution_count": 26,
   "metadata": {
    "collapsed": false
   },
   "outputs": [
    {
     "name": "stdout",
     "output_type": "stream",
     "text": [
      "308\n",
      "309\n",
      "310\n",
      "311\n",
      "312\n",
      "313\n",
      "314\n",
      "315\n",
      "316\n",
      "317\n",
      "327\n",
      "328\n",
      "318\n",
      "319\n",
      "320\n",
      "321\n",
      "322\n",
      "323\n",
      "324\n",
      "325\n",
      "329\n",
      "330\n",
      "331\n",
      "332\n",
      "333\n",
      "334\n",
      "335\n",
      "336\n",
      "337\n",
      "338\n",
      "339\n",
      "340\n",
      "341\n",
      "342\n",
      "343\n",
      "344\n",
      "345\n",
      "346\n",
      "347\n",
      "348\n",
      "349\n",
      "350\n",
      "351\n",
      "352\n",
      "353\n",
      "354\n",
      "355\n",
      "356\n",
      "357\n",
      "358\n",
      "359\n",
      "360\n",
      "370\n",
      "371\n",
      "372\n",
      "373\n",
      "380\n",
      "381\n",
      "382\n",
      "383\n",
      "361\n",
      "362\n",
      "363\n",
      "364\n",
      "365\n",
      "384\n",
      "385\n",
      "386\n",
      "366\n",
      "367\n",
      "368\n",
      "369\n",
      "376\n",
      "377\n",
      "378\n",
      "379\n"
     ]
    }
   ],
   "source": [
    "#import os\n",
    "#for swarm in swarms:\n",
    "#    for fly in swarm.flies:\n",
    "#        try:\n",
    "#            os.remove(fly.fly_path + 'trial_movies.hdf5')\n",
    "#        except OSError:\n",
    "#            print fly.fly_num"
   ]
  },
  {
   "cell_type": "code",
   "execution_count": 28,
   "metadata": {
    "collapsed": false
   },
   "outputs": [],
   "source": [
    "import muscle_model as mm\n",
    "reload(mm)\n",
    "confocal_model = mm.GeometricModel(filepath = 'model_data.cpkl')\n",
    "confocal_view = mm.ModelViewMPL(confocal_model)\n",
    "\n",
    "def warp_fly_movie(fly,imgs,s = 1):\n",
    "    import cv2\n",
    "    import cPickle\n",
    "    pkname = fly.fly_path + '/basis_fits.cpkl'\n",
    "    fly_frame = mm.Frame();fly_frame.load(pkname)\n",
    "    A = confocal_model.frame.get_transform(fly_frame)\n",
    "    Ap = dot([[s,0.0,0],[0,s,0],[0,0,1]],A)\n",
    "    output_shape = (np.array([1024,1024])*s).astype(int) #confocal shape scale\n",
    "    output_shape = (output_shape[0],output_shape[1])\n",
    "    output_data = zeros((shape(imgs)[0],output_shape[0],output_shape[1]))\n",
    "    for i,img in enumerate(imgs):\n",
    "        X_warped = cv2.warpAffine(img.T,Ap[:-1,:],output_shape)\n",
    "        output_data[i,:,:]= X_warped\n",
    "    return output_data"
   ]
  },
  {
   "cell_type": "code",
   "execution_count": 33,
   "metadata": {
    "collapsed": false
   },
   "outputs": [],
   "source": [
    "def accumulate_trial_movie(fly,winput=None,trial_key = None):\n",
    "    fi = h5py.File(fly.fly_path + 'trial_movies.hdf5','r')\n",
    "    img_data = np.array(fi['movie_data'][trial_key])\n",
    "    fi.close()\n",
    "    wmovie = warp_fly_movie(fly,img_data,s=0.25)\n",
    "    if winput == None:\n",
    "        return wmovie\n",
    "    else:\n",
    "        wmovie += winput\n",
    "        return wmovie\n",
    "    \n",
    "def get_trial_wingdata(fly,trial_key = None):\n",
    "    fi = h5py.File(fly.fly_path + 'trial_movies.hdf5','r')\n",
    "    wing_data = np.array(fi['wing_data'][trial_key])\n",
    "    #print shape(fi['wing_data'][trial_key])\n",
    "    fi.close()\n",
    "    return wing_data\n",
    "\n",
    "def get_trial_conddata(fly,trial_key = None):\n",
    "    fi = h5py.File(fly.fly_path + 'trial_movies.hdf5','r')\n",
    "    cond_data = np.array(fi['cond_data'][trial_key])\n",
    "    #print shape(fi['wing_data'][trial_key])\n",
    "    fi.close()\n",
    "    return cond_data\n",
    "\n",
    "def get_trial_freqdata(fly,trial_key = None):\n",
    "    fi = h5py.File(fly.fly_path + 'trial_movies.hdf5','r')\n",
    "    cond_data = np.array(fi['freq_data'][trial_key])\n",
    "    #print shape(fi['wing_data'][trial_key])\n",
    "    fi.close()\n",
    "    return cond_data"
   ]
  },
  {
   "cell_type": "code",
   "execution_count": 64,
   "metadata": {
    "collapsed": false
   },
   "outputs": [],
   "source": [
    "def get_trial_average(flies,trial_key):\n",
    "    startidx = 0\n",
    "    try:\n",
    "        wmovie = accumulate_trial_movie(flies[startidx],trial_key = trial_key)\n",
    "        wing = get_trial_wingdata(flies[startidx],trial_key = trial_key)\n",
    "        freq = get_trial_freqdata(flies[startidx],trial_key = trial_key)\n",
    "        cond = list([get_trial_conddata(flies[startidx],trial_key = trial_key)])\n",
    "    except (IOError,KeyError):\n",
    "        startidx += 1\n",
    "        wmovie = accumulate_trial_movie(flies[startidx],trial_key = trial_key)\n",
    "        wing = get_trial_wingdata(flies[startidx],trial_key = trial_key)\n",
    "        freq = get_trial_freqdata(flies[startidx],trial_key = trial_key)\n",
    "        cond = list([get_trial_conddata(flies[startidx],trial_key = trial_key)])\n",
    "    \n",
    "    for fly in flies[startidx+1:]:\n",
    "        try:\n",
    "            wmovie += accumulate_trial_movie(fly,trial_key = trial_key)\n",
    "            wing += get_trial_wingdata(fly,trial_key= trial_key)\n",
    "            freq += get_trial_freqdata(fly,trial_key= trial_key)\n",
    "            cond.append(get_trial_conddata(fly,trial_key= trial_key))\n",
    "        except (IOError,KeyError):\n",
    "            print fly.fly_num\n",
    "    return wmovie,rad2deg(wing/len(flies)/5.0),freq/len(flies)\n",
    "\n",
    "#savemovie = (wmovie/np.max(wmovie.ravel())*255).astype(int32)\n",
    "#import tifffile\n",
    "#tifffile.imsave('29E05_%s_df_f.tif'%(trial_key),savemovie)"
   ]
  },
  {
   "cell_type": "code",
   "execution_count": 65,
   "metadata": {
    "collapsed": false
   },
   "outputs": [],
   "source": [
    "MR22H05_GFP_list = [370,371,372,373,380,381,382,383]\n",
    "GMR22H05_GFP_swarm = flylib.Squadron(fly_db,GMR22H05_GFP_list)\n",
    "\n",
    "GMR31E10_GFP_list = [361,362,363,364,365,384,385,386]\n",
    "GMR31E10_GFP_swarm = flylib.Squadron(fly_db,GMR31E10_GFP_list)\n",
    "\n",
    "GMR29E05_GFP_list = [366,367,368,369,376,377,378,379]\n",
    "GMR29E05_GFP_swarm = flylib.Squadron(fly_db,GMR29E05_GFP_list)"
   ]
  },
  {
   "cell_type": "code",
   "execution_count": 60,
   "metadata": {
    "collapsed": true
   },
   "outputs": [],
   "source": [
    "#del(datadict)"
   ]
  },
  {
   "cell_type": "code",
   "execution_count": 63,
   "metadata": {
    "collapsed": false
   },
   "outputs": [
    {
     "name": "stdout",
     "output_type": "stream",
     "text": [
      "313\n",
      "313\n",
      "313\n",
      "313\n",
      "313\n",
      "313\n",
      "334\n",
      "334\n",
      "334\n",
      "334\n",
      "334\n",
      "334\n"
     ]
    }
   ],
   "source": [
    "import h5py\n",
    "datadict = dict()\n",
    "for group,swarm in zip(swarms.keys(),swarms.values()):\n",
    "    flies = swarm.flies\n",
    "    trial_key = 'flow_right'\n",
    "    wmovie_right,wing_angles_right,freq_right = get_trial_average(flies,trial_key)\n",
    "    trial_key = 'flow_left'\n",
    "    wmovie_left,wing_angles_left,freq_left = get_trial_average(flies,trial_key)\n",
    "\n",
    "    trial_key = 'ascending'\n",
    "    wmovie_up,wing_angles_up,freq_up = get_trial_average(flies,trial_key)\n",
    "\n",
    "    trial_key = 'descending'\n",
    "    wmovie_down,wing_angles_down,freq_down = get_trial_average(flies,trial_key)\n",
    "\n",
    "    trial_key = 'progressive'\n",
    "    wmovie_for,wing_angles_for,freq_for = get_trial_average(flies,trial_key)\n",
    "\n",
    "    trial_key = 'regressive'\n",
    "    wmovie_back,wing_angles_back,freq_back = get_trial_average(flies,trial_key)\n",
    "\n",
    "    datadict[group] = dict()\n",
    "    datadict[group]['wmovie_right'] = wmovie_right\n",
    "    datadict[group]['wmovie_left'] = wmovie_left\n",
    "\n",
    "    datadict[group]['wing_angles_right'] = wing_angles_right\n",
    "    datadict[group]['wing_freq_right'] = freq_right\n",
    "\n",
    "    datadict[group]['wing_angles_left'] = wing_angles_left\n",
    "    datadict[group]['wing_freq_left'] = freq_left\n",
    "\n",
    "    datadict[group]['wmovie_ascending'] = wmovie_up\n",
    "    datadict[group]['wing_angles_ascending'] = wing_angles_up\n",
    "    datadict[group]['wing_freq_ascending'] = freq_up\n",
    "\n",
    "    datadict[group]['wmovie_decending'] = wmovie_down\n",
    "    datadict[group]['wing_angles_decending'] = wing_angles_down\n",
    "    datadict[group]['wing_freq_decending'] = freq_down\n",
    "\n",
    "    datadict[group]['wmovie_progressive'] = wmovie_for\n",
    "    datadict[group]['wing_angles_progressive'] = wing_angles_for\n",
    "    datadict[group]['wing_freq_progressive'] = freq_for\n",
    "\n",
    "    datadict[group]['wmovie_regressive'] = wmovie_back\n",
    "    datadict[group]['wing_angles_regressive'] = wing_angles_back\n",
    "    datadict[group]['wing_freq_regressive'] = freq_back"
   ]
  },
  {
   "cell_type": "code",
   "execution_count": 39,
   "metadata": {
    "collapsed": false
   },
   "outputs": [],
   "source": [
    "figure()\n",
    "tindexs = range(0,750,100)\n",
    "from matplotlib import gridspec\n",
    "for i,ind in enumerate(tindexs):\n",
    "    subplot(1,len(tindexs),i+1)\n",
    "    imshow(datadict['GMR22H05']['wmovie_right'][ind] -datadict['GMR22H05']['wmovie_right'][0] ,cmap = cm.gray,vmax =5)"
   ]
  },
  {
   "cell_type": "code",
   "execution_count": 67,
   "metadata": {
    "collapsed": false
   },
   "outputs": [],
   "source": [
    "from matplotlib import gridspec\n",
    "cmap = cm.gray\n",
    "vmin = -2.0\n",
    "vmax = 8.\n",
    "\n",
    "xmin = 60/4.0\n",
    "xmax = 750/4.0\n",
    "xbounds = (xmin,xmax)\n",
    "ymin = 325/4.0\n",
    "ymax = 900/4.0\n",
    "ybounds = (ymin,ymax)\n",
    "\n",
    "minang = 35\n",
    "maxang = 60\n",
    "minfreq = 190\n",
    "maxfreq = 220\n",
    "\n",
    "def make_tpoint_plot(line_name):\n",
    "    tindexs = range(0,750,30)[10:-5:3]\n",
    "\n",
    "    gs = gridspec.GridSpec(12,len(tindexs)+1)\n",
    "\n",
    "    subplot(gs[0,0])\n",
    "    plot(datadict[line_name]['wing_angles_left'][tindexs[0]-100:tindexs[-1]+100])\n",
    "    gca().set_xticklabels([])\n",
    "    for ind in tindexs:\n",
    "        plot(ind-tindexs[0]+100,datadict[line_name]['wing_angles_left'][ind],'o',color = 'k')\n",
    "        gca().set_ybound(minang,maxang)\n",
    "    \n",
    "    subplot(gs[1,0])\n",
    "    plot(datadict[line_name]['wing_freq_left'][tindexs[0]-100:tindexs[-1]+100])\n",
    "    gca().set_xticklabels([])\n",
    "    for ind in tindexs:\n",
    "        plot(ind-tindexs[0]+100,datadict[line_name]['wing_freq_left'][ind],'o',color = 'k')\n",
    "        gca().set_ybound(minfreq,maxfreq)\n",
    "    \n",
    "    for i,ind in enumerate(tindexs):\n",
    "        subplot(gs[0:2,i+1])\n",
    "        bsln = np.mean(datadict[line_name]['wmovie_left'][0:200],axis = 0)\n",
    "        imshow(datadict[line_name]['wmovie_left'][ind].astype(float) - bsln.astype(float) ,cmap = cmap,vmin = vmin,vmax = vmax)\n",
    "        gca().set_xticklabels([])\n",
    "        gca().set_yticklabels([])\n",
    "        gca().set_xbound(xbounds)\n",
    "        gca().set_ybound(ybounds)\n",
    "\n",
    "    subplot(gs[2,0])\n",
    "    plot(datadict[line_name]['wing_angles_right'][tindexs[0]-100:tindexs[-1]+100])\n",
    "    gca().set_xticklabels([])\n",
    "    for ind in tindexs:\n",
    "        plot(ind-tindexs[0]+100,datadict[line_name]['wing_angles_right'][ind],'o',color = 'k')\n",
    "        gca().set_ybound(minang,maxang)\n",
    "    \n",
    "    subplot(gs[3,0])\n",
    "    plot(datadict[line_name]['wing_freq_right'][tindexs[0]-100:tindexs[-1]+100])\n",
    "    gca().set_xticklabels([])\n",
    "    for ind in tindexs:\n",
    "        plot(ind-tindexs[0]+100,datadict[line_name]['wing_freq_right'][ind],'o',color = 'k')\n",
    "        gca().set_ybound(minfreq,maxfreq)\n",
    "        \n",
    "\n",
    "    for i,ind in enumerate(tindexs):\n",
    "        subplot(gs[2:4,i+1])\n",
    "        bsln = np.mean(datadict[line_name]['wmovie_right'][0:200],axis = 0)\n",
    "        imshow(datadict[line_name]['wmovie_right'][ind]- bsln ,cmap = cmap,vmin = vmin,vmax = vmax)\n",
    "        gca().set_xticklabels([])\n",
    "        gca().set_yticklabels([])\n",
    "        gca().set_xbound(xbounds)\n",
    "        gca().set_ybound(ybounds)\n",
    "\n",
    "\n",
    "    subplot(gs[5,0])\n",
    "    plot(datadict[line_name]['wing_freq_ascending'][tindexs[0]-100:tindexs[-1]+100])\n",
    "    gca().set_xticklabels([])\n",
    "    for ind in tindexs:\n",
    "        plot(ind-tindexs[0]+100,datadict[line_name]['wing_freq_ascending'][ind],'o',color = 'k')\n",
    "        gca().set_ybound(minfreq,maxfreq)\n",
    "        \n",
    "    subplot(gs[4,0])\n",
    "    plot(datadict[line_name]['wing_angles_ascending'][tindexs[0]-100:tindexs[-1]+100])\n",
    "    gca().set_xticklabels([])\n",
    "    for ind in tindexs:\n",
    "        plot(ind-tindexs[0]+100,datadict[line_name]['wing_angles_ascending'][ind],'o',color = 'k')\n",
    "        gca().set_ybound(minang,maxang)\n",
    "        \n",
    "    for i,ind in enumerate(tindexs):\n",
    "        subplot(gs[4:6,i+1])\n",
    "        bsln = np.mean(datadict[line_name]['wmovie_ascending'][0:200],axis = 0)\n",
    "        imshow(datadict[line_name]['wmovie_ascending'][ind]  - bsln ,cmap = cmap,vmin = vmin,vmax = vmax)\n",
    "        gca().set_xticklabels([])\n",
    "        gca().set_yticklabels([])\n",
    "        gca().set_xbound(xbounds)\n",
    "        gca().set_ybound(ybounds)\n",
    "\n",
    "\n",
    "    subplot(gs[7,0])\n",
    "    plot(datadict[line_name]['wing_freq_decending'][tindexs[0]-100:tindexs[-1]+100])\n",
    "    gca().set_xticklabels([])\n",
    "    for ind in tindexs:\n",
    "        plot(ind-tindexs[0]+100,datadict[line_name]['wing_freq_decending'][ind],'o',color = 'k')\n",
    "        gca().set_ybound(minfreq,maxfreq)\n",
    "        \n",
    "    subplot(gs[6,0])\n",
    "    plot(datadict[line_name]['wing_angles_decending'][tindexs[0]-100:tindexs[-1]+100])\n",
    "    gca().set_xticklabels([])\n",
    "    for ind in tindexs:\n",
    "        plot(ind-tindexs[0]+100,datadict[line_name]['wing_angles_decending'][ind],'o',color = 'k')\n",
    "        gca().set_ybound(minang,maxang)\n",
    "        \n",
    "    for i,ind in enumerate(tindexs):\n",
    "        subplot(gs[6:8,i+1])\n",
    "        bsln = np.mean(datadict[line_name]['wmovie_decending'][0:200],axis = 0)\n",
    "        imshow(datadict[line_name]['wmovie_decending'][ind]- bsln ,cmap = cmap,vmin = vmin,vmax = vmax)\n",
    "        gca().set_xticklabels([])\n",
    "        gca().set_yticklabels([])\n",
    "        gca().set_xbound(xbounds)\n",
    "        gca().set_ybound(ybounds)\n",
    "\n",
    "    subplot(gs[9,0])\n",
    "    plot(datadict[line_name]['wing_freq_progressive'][tindexs[0]-100:tindexs[-1]+100])\n",
    "    gca().set_xticklabels([])\n",
    "    for ind in tindexs:\n",
    "        plot(ind-tindexs[0]+100,datadict[line_name]['wing_freq_progressive'][ind],'o',color = 'k')\n",
    "        gca().set_ybound(minfreq,maxfreq)\n",
    "        \n",
    "    subplot(gs[8,0])\n",
    "    plot(datadict[line_name]['wing_angles_progressive'][tindexs[0]-100:tindexs[-1]+100])\n",
    "    gca().set_xticklabels([])\n",
    "    for ind in tindexs:\n",
    "        plot(ind-tindexs[0]+100,datadict[line_name]['wing_angles_progressive'][ind],'o',color = 'k')\n",
    "        gca().set_ybound(minang,maxang)\n",
    "        \n",
    "    for i,ind in enumerate(tindexs):\n",
    "        subplot(gs[8:10,i+1])\n",
    "        bsln = np.mean(datadict[line_name]['wmovie_progressive'][0:200],axis = 0)\n",
    "        imshow(datadict[line_name]['wmovie_progressive'][ind]- bsln ,cmap = cmap,vmin = vmin,vmax = vmax)\n",
    "        gca().set_xticklabels([])\n",
    "        gca().set_yticklabels([])\n",
    "        gca().set_xbound(xbounds)\n",
    "        gca().set_ybound(ybounds)\n",
    "    \n",
    "    subplot(gs[11,0])\n",
    "    plot(datadict[line_name]['wing_freq_regressive'][tindexs[0]-100:tindexs[-1]+100])\n",
    "    gca().set_xticklabels([])\n",
    "    for ind in tindexs:\n",
    "        plot(ind-tindexs[0]+100,datadict[line_name]['wing_freq_regressive'][ind],'o',color = 'k')\n",
    "        gca().set_ybound(minfreq,maxfreq)\n",
    "        \n",
    "    subplot(gs[10,0])\n",
    "    plot(datadict[line_name]['wing_angles_regressive'][tindexs[0]-100:tindexs[-1]+100])\n",
    "    gca().set_xticklabels([])\n",
    "    for ind in tindexs:\n",
    "        plot(ind-tindexs[0]+100,datadict[line_name]['wing_angles_regressive'][ind],'o',color = 'k')\n",
    "        gca().set_ybound(minang,maxang)\n",
    "    for i,ind in enumerate(tindexs):\n",
    "        subplot(gs[10:12,i+1])\n",
    "        bsln = np.mean(datadict[line_name]['wmovie_regressive'][0:200],axis = 0)\n",
    "        imshow(datadict[line_name]['wmovie_regressive'][ind]- bsln ,cmap = cmap,vmin = vmin,vmax = vmax)\n",
    "        gca().set_xticklabels([])\n",
    "        gca().set_yticklabels([])\n",
    "        gca().set_xbound(xbounds)\n",
    "        gca().set_ybound(ybounds)\n",
    "\n",
    "#for line_name in ['GMR22H05','GMR39E01','GMR31E10','GMR29E05'][0:1]:\n",
    "for line_name in swarms.keys():\n",
    "    figure(figsize = (8.5,11))\n",
    "    make_tpoint_plot('%s'%(line_name))\n",
    "    savefig('%s_tpoint_plot.pdf'%(line_name))\n",
    "    suptitle(line_name)"
   ]
  },
  {
   "cell_type": "code",
   "execution_count": 50,
   "metadata": {
    "collapsed": false
   },
   "outputs": [
    {
     "data": {
      "text/plain": [
       "<matplotlib.image.AxesImage at 0xaf2b0d0>"
      ]
     },
     "execution_count": 50,
     "metadata": {},
     "output_type": "execute_result"
    }
   ],
   "source": [
    "imshow(bsln,cmap = cm.gray)"
   ]
  },
  {
   "cell_type": "code",
   "execution_count": 35,
   "metadata": {
    "collapsed": false
   },
   "outputs": [
    {
     "data": {
      "text/plain": [
       "[0, 100, 200, 300, 400, 500, 600, 700]"
      ]
     },
     "execution_count": 35,
     "metadata": {},
     "output_type": "execute_result"
    }
   ],
   "source": [
    "range(0,750,100)"
   ]
  },
  {
   "cell_type": "code",
   "execution_count": null,
   "metadata": {
    "collapsed": false
   },
   "outputs": [],
   "source": []
  },
  {
   "cell_type": "code",
   "execution_count": 8,
   "metadata": {
    "collapsed": false
   },
   "outputs": [
    {
     "name": "stdout",
     "output_type": "stream",
     "text": [
      "Fly0376\n",
      "Fly0377\n",
      "Fly0378\n",
      "Fly0379\n",
      "Fly0380\n",
      "Fly0381\n",
      "Fly0382\n"
     ]
    }
   ],
   "source": [
    "import os\n",
    "import shutil\n",
    "fly_folders = os.listdir('/media/FlyDataC_/FlyDB/')\n",
    "for folder in fly_folders[-11:]:\n",
    "    try:\n",
    "        files = os.listdir('/media/FlyDataC_/FlyDB/'+folder)\n",
    "        if 'fly_record.hdf5' in files:\n",
    "            print folder\n",
    "            shutil.copy2('/media/FlyDataC_/FlyDB/'+folder + '/' + 'fly_record.hdf5',\n",
    "                         '/media/FlyDataC/FlyDB/'+folder)\n",
    "    except OSError:\n",
    "        print 'error'"
   ]
  },
  {
   "cell_type": "code",
   "execution_count": 98,
   "metadata": {
    "collapsed": false
   },
   "outputs": [
    {
     "data": {
      "text/plain": [
       "[337, 338, 339, 340, 341, 342, 343, 344, 345, 346, 347, 348]"
      ]
     },
     "execution_count": 98,
     "metadata": {},
     "output_type": "execute_result"
    }
   ],
   "source": [
    "[fl.fly_num for fl in GMR31E10_swarm.flies]"
   ]
  },
  {
   "cell_type": "code",
   "execution_count": 75,
   "metadata": {
    "collapsed": false
   },
   "outputs": [],
   "source": [
    "resample_times = np.arange(0,23,0.03)\n",
    "stim = ((resample_times>10) & (resample_times<13))\n",
    "fig = figure(figsize=(10,10))\n",
    "vmax = 25\n",
    "i = 0\n",
    "import matplotlib.gridspec as gridspec\n",
    "gs = gridspec.GridSpec(11, 4)\n",
    "plotitems = list()\n",
    "for j in range(4):\n",
    "    subplot(gs[0,j])\n",
    "    plot(resample_times,stim)\n",
    "    gca().set_title(datadict.keys()[j])\n",
    "    subplot(gs[1,j])\n",
    "    plotdict = dict()\n",
    "    plot(resample_times,datadict.values()[j]['wing_angles_right'],color ='r')\n",
    "    plot(resample_times,datadict.values()[j]['wing_angles_left'],color = 'b')\n",
    "    plotdict['tpoint'] = plot([resample_times[i],resample_times[i]],[0,90])\n",
    "    subplot(gs[2:5,j])\n",
    "    plotdict['im_right'] = imshow(datadict.values()[j]['wmovie_right'][i],cmap = cm.hot,vmin = 0,vmax = vmax)\n",
    "    gca().set_xticklabels([])\n",
    "    gca().set_yticklabels([])\n",
    "    if j == 0:\n",
    "        gca().set_ylabel('stimulus: yaw right')\n",
    "    subplot(gs[5:8,j])\n",
    "    plotdict['im_left'] = imshow(datadict.values()[j]['wmovie_left'][i],cmap = cm.hot,vmin = 0,vmax = vmax)\n",
    "    gca().set_xticklabels([])\n",
    "    gca().set_yticklabels([])\n",
    "    if j == 0:\n",
    "        gca().set_ylabel('stimulus: yaw left')\n",
    "    subplot(gs[8:11,j])\n",
    "    plotdict['im_diff'] = imshow(datadict.values()[j]['wmovie_dif'][i],cmap = cm.jet,vmin = vmax*-0.1,vmax = vmax*0.1)\n",
    "    gca().set_xticklabels([])\n",
    "    gca().set_yticklabels([])\n",
    "    if j == 0:\n",
    "        gca().set_ylabel('difference')\n",
    "    plotitems.append(plotdict)"
   ]
  },
  {
   "cell_type": "code",
   "execution_count": 76,
   "metadata": {
    "collapsed": false
   },
   "outputs": [],
   "source": [
    "frames = range(1,len(resample_times))\n",
    "def init():\n",
    "    return None\n",
    "\n",
    "def animate(i):\n",
    "    #print i\n",
    "    for j in range(4):\n",
    "        plotitems[j]['tpoint'][0].set_data([resample_times[i],resample_times[i]],[0,90])\n",
    "        plotitems[j]['im_right'].set_data(datadict.values()[j]['wmovie_right'][i])\n",
    "        plotitems[j]['im_left'].set_data(datadict.values()[j]['wmovie_left'][i])\n",
    "        plotitems[j]['im_diff'].set_data(datadict.values()[j]['wmovie_dif'][i])\n",
    "    #draw()\n",
    "    #return [tpoint,im_right,im_left,im_diff]"
   ]
  },
  {
   "cell_type": "code",
   "execution_count": 77,
   "metadata": {
    "collapsed": false
   },
   "outputs": [],
   "source": [
    "from matplotlib import animation"
   ]
  },
  {
   "cell_type": "code",
   "execution_count": 78,
   "metadata": {
    "collapsed": false
   },
   "outputs": [],
   "source": [
    "anim = animation.FuncAnimation(fig, animate, init_func=init,\n",
    "                               frames=frames, interval=1, blit=False)\n",
    "plt.draw()\n",
    "anim.save('yaw_movie_cm.mov', fps=30,extra_args=['-vcodec', 'mpeg4', '-b', '5000k' ])"
   ]
  },
  {
   "cell_type": "code",
   "execution_count": 34,
   "metadata": {
    "collapsed": false
   },
   "outputs": [
    {
     "data": {
      "text/plain": [
       "[<matplotlib.lines.Line2D at 0x13d4feb10>]"
      ]
     },
     "execution_count": 34,
     "metadata": {},
     "output_type": "execute_result"
    }
   ],
   "source": [
    "plot((resample_times>10) & (resample_times<13))"
   ]
  },
  {
   "cell_type": "code",
   "execution_count": 33,
   "metadata": {
    "collapsed": false
   },
   "outputs": [
    {
     "data": {
      "text/plain": [
       "array([False, False, False, False, False, False, False, False, False,\n",
       "       False, False, False, False, False, False, False, False, False,\n",
       "       False, False, False, False, False, False, False, False, False,\n",
       "       False, False, False, False, False, False, False, False, False,\n",
       "       False, False, False, False, False, False, False, False, False,\n",
       "       False, False, False, False, False, False, False, False, False,\n",
       "       False, False, False, False, False, False, False, False, False,\n",
       "       False, False, False, False, False, False, False, False, False,\n",
       "       False, False, False, False, False, False, False, False, False,\n",
       "       False, False, False, False, False, False, False, False, False,\n",
       "       False, False, False, False, False, False, False, False, False,\n",
       "       False, False, False, False, False, False, False, False, False,\n",
       "       False, False, False, False, False, False, False, False, False,\n",
       "       False, False, False, False, False, False, False, False, False,\n",
       "       False, False, False, False, False, False, False, False, False,\n",
       "       False, False, False, False, False, False, False, False, False,\n",
       "       False, False, False, False, False, False, False, False, False,\n",
       "       False, False, False, False, False, False, False, False, False,\n",
       "       False, False, False, False, False, False, False, False, False,\n",
       "       False, False, False, False, False, False, False, False, False,\n",
       "       False, False, False, False, False, False, False, False, False,\n",
       "       False, False, False, False, False, False, False, False, False,\n",
       "       False, False, False, False, False, False, False, False, False,\n",
       "       False, False, False, False, False, False, False, False, False,\n",
       "       False, False, False, False, False, False, False, False, False,\n",
       "       False, False, False, False, False, False, False, False, False,\n",
       "       False, False, False, False, False, False, False, False, False,\n",
       "       False, False, False, False, False, False, False, False, False,\n",
       "       False, False, False, False, False, False, False, False, False,\n",
       "       False, False, False, False, False, False, False, False, False,\n",
       "       False, False, False, False, False, False, False, False, False,\n",
       "       False, False, False, False, False, False, False, False, False,\n",
       "       False, False, False, False, False, False, False, False, False,\n",
       "       False, False, False, False, False, False, False, False, False,\n",
       "       False, False, False, False, False, False, False, False, False,\n",
       "       False, False, False, False, False, False, False, False, False,\n",
       "       False, False, False, False, False, False, False, False, False,\n",
       "       False,  True,  True,  True,  True,  True,  True,  True,  True,\n",
       "        True,  True,  True,  True,  True,  True,  True,  True,  True,\n",
       "        True,  True,  True,  True,  True,  True,  True,  True,  True,\n",
       "        True,  True,  True,  True,  True,  True,  True,  True,  True,\n",
       "        True,  True,  True,  True,  True,  True,  True,  True,  True,\n",
       "        True,  True,  True,  True,  True,  True,  True,  True,  True,\n",
       "        True,  True,  True,  True,  True,  True,  True,  True,  True,\n",
       "        True,  True,  True,  True,  True,  True,  True,  True,  True,\n",
       "        True,  True,  True,  True,  True,  True,  True,  True,  True,\n",
       "        True,  True,  True,  True,  True,  True,  True,  True,  True,\n",
       "        True,  True,  True,  True,  True,  True,  True,  True,  True,\n",
       "        True,  True,  True,  True,  True,  True,  True,  True,  True,\n",
       "        True,  True,  True,  True,  True,  True,  True,  True,  True,\n",
       "        True,  True,  True,  True,  True,  True,  True,  True,  True,\n",
       "        True,  True,  True,  True,  True,  True,  True,  True,  True,\n",
       "        True,  True,  True,  True,  True,  True,  True,  True,  True,\n",
       "        True,  True,  True,  True,  True,  True,  True,  True,  True,\n",
       "        True,  True,  True,  True,  True,  True,  True,  True,  True,\n",
       "        True,  True,  True,  True,  True,  True,  True,  True,  True,\n",
       "        True,  True,  True,  True,  True,  True,  True,  True,  True,\n",
       "        True,  True,  True,  True,  True,  True,  True,  True,  True,\n",
       "        True,  True,  True,  True,  True,  True,  True,  True,  True,\n",
       "        True,  True,  True,  True,  True,  True,  True,  True,  True,\n",
       "        True,  True,  True,  True,  True,  True,  True,  True,  True,\n",
       "        True,  True,  True,  True,  True,  True,  True,  True,  True,\n",
       "        True,  True,  True,  True,  True,  True,  True,  True,  True,\n",
       "        True,  True,  True,  True,  True,  True,  True,  True,  True,\n",
       "        True,  True,  True,  True,  True,  True,  True,  True,  True,\n",
       "        True,  True,  True,  True,  True,  True,  True,  True,  True,\n",
       "        True,  True,  True,  True,  True,  True,  True,  True,  True,\n",
       "        True,  True,  True,  True,  True,  True,  True,  True,  True,\n",
       "        True,  True,  True,  True,  True,  True,  True,  True,  True,\n",
       "        True,  True,  True,  True,  True,  True,  True,  True,  True,\n",
       "        True,  True,  True,  True,  True,  True,  True,  True,  True,\n",
       "        True,  True,  True,  True,  True,  True,  True,  True,  True,\n",
       "        True,  True,  True,  True,  True,  True,  True,  True,  True,\n",
       "        True,  True,  True,  True,  True,  True,  True,  True,  True,\n",
       "        True,  True,  True,  True,  True,  True,  True,  True,  True,\n",
       "        True,  True,  True,  True,  True,  True,  True,  True,  True,\n",
       "        True,  True,  True,  True,  True,  True,  True,  True,  True,\n",
       "        True,  True,  True,  True,  True,  True,  True,  True,  True,\n",
       "        True,  True,  True,  True,  True,  True,  True,  True,  True,\n",
       "        True,  True,  True,  True,  True,  True,  True,  True,  True,\n",
       "        True,  True,  True,  True,  True,  True,  True,  True,  True,\n",
       "        True,  True,  True,  True,  True,  True,  True,  True,  True,\n",
       "        True,  True,  True,  True,  True,  True,  True,  True,  True,\n",
       "        True,  True,  True,  True,  True,  True,  True,  True,  True,\n",
       "        True,  True,  True,  True,  True,  True,  True,  True,  True,\n",
       "        True,  True], dtype=bool)"
      ]
     },
     "execution_count": 33,
     "metadata": {},
     "output_type": "execute_result"
    }
   ],
   "source": [
    "resample_times>10"
   ]
  },
  {
   "cell_type": "code",
   "execution_count": 81,
   "metadata": {
    "collapsed": false
   },
   "outputs": [],
   "source": [
    "draw()"
   ]
  },
  {
   "cell_type": "code",
   "execution_count": null,
   "metadata": {
    "collapsed": false
   },
   "outputs": [],
   "source": []
  },
  {
   "cell_type": "code",
   "execution_count": null,
   "metadata": {
    "collapsed": false
   },
   "outputs": [],
   "source": []
  },
  {
   "cell_type": "code",
   "execution_count": null,
   "metadata": {
    "collapsed": false
   },
   "outputs": [],
   "source": []
  },
  {
   "cell_type": "code",
   "execution_count": 38,
   "metadata": {
    "collapsed": false
   },
   "outputs": [],
   "source": [
    "tifffile.imsave('22H05_%s_df_f.tif'%('diffmovie'),diffmovie)"
   ]
  },
  {
   "cell_type": "code",
   "execution_count": 63,
   "metadata": {
    "collapsed": false
   },
   "outputs": [],
   "source": [
    "def custom_warp(img,A,dest_shape):\n",
    "    A_p = inv(A)\n",
    "    in_x,in_y = shape(img)\n",
    "    out_x,out_y = dest_shape\n",
    "    out_img = np.zeros(dest_shape)\n",
    "    for x_idx in range(out_x):\n",
    "        for y_idx in range(out_y):\n",
    "            src_x,src_y,_ = np.dot(A_p,np.array([x_idx,y_idx,1]))\n",
    "            if (src_x >= 0) & (src_y >= 0) & (src_x < in_x-1) & (src_y < in_y-1):\n",
    "                Q11 = img[int(src_x),int(src_y)]\n",
    "                Q12 = img[int(src_x),int(src_y)+1]\n",
    "                Q21 = img[int(src_x)+1,int(src_y)]\n",
    "                Q22 = img[int(src_x)+1,int(src_y)+1]\n",
    "                C11 = ((int(src_x)+1)-src_x) * ((int(src_y)+1)-src_y)\n",
    "                C12 = ((int(src_x)+1)-src_x) * (src_y - int(src_y))\n",
    "                C21 = (src_x - int(src_x)) * ((int(src_y)+1)-src_y)\n",
    "                C22 = (src_x - int(src_x)) * (src_y - int(src_y))\n",
    "                out_img[x_idx,y_idx] = Q11*C11 + Q12*C12 + Q21*C21 + Q22*C22\n",
    "    return out_img.T"
   ]
  },
  {
   "cell_type": "code",
   "execution_count": 4,
   "metadata": {
    "collapsed": false
   },
   "outputs": [],
   "source": [
    "def warp():\n",
    "    import muscle_model as mm\n",
    "    confocal_model = mm.GeometricModel(filepath = 'model_data.cpkl')\n",
    "    confocal_view = mm.ModelViewMPL(confocal_model)\n",
    "    testfly = GMR22H05_swarm.flies[0]\n",
    "    flydir = testfly.fly_path\n",
    "    imgs = testfly.experiments.values()[0].exp_record['tiff_data']['images']\n",
    "    print shape(imgs)\n",
    "    import cv2\n",
    "    import cPickle\n",
    "    pkname = testfly.fly_path + '/basis_fits.cpkl'\n",
    "    fly_frame = mm.Frame();fly_frame.load(pkname)\n",
    "    A = confocal_model.frame.get_transform(fly_frame)\n",
    "    import clwarp as clw\n",
    "    reload(clw)\n",
    "    s = 0.5 #scale factor\n",
    "    Ap = dot([[s,0.0,0],[0,s,0],[0,0,1]],A)\n",
    "    output_shape = (np.array([1024,1024])*s).astype(int) #confocal shape scale\n",
    "    return clw.opencl_warp(imgs[:1000],Ap,output_shape)"
   ]
  },
  {
   "cell_type": "code",
   "execution_count": 349,
   "metadata": {
    "collapsed": false
   },
   "outputs": [],
   "source": []
  },
  {
   "cell_type": "code",
   "execution_count": 350,
   "metadata": {
    "collapsed": false
   },
   "outputs": [],
   "source": []
  },
  {
   "cell_type": "code",
   "execution_count": null,
   "metadata": {
    "collapsed": false
   },
   "outputs": [],
   "source": []
  },
  {
   "cell_type": "code",
   "execution_count": null,
   "metadata": {
    "collapsed": false
   },
   "outputs": [],
   "source": []
  },
  {
   "cell_type": "code",
   "execution_count": null,
   "metadata": {
    "collapsed": false
   },
   "outputs": [],
   "source": []
  },
  {
   "cell_type": "code",
   "execution_count": null,
   "metadata": {
    "collapsed": false
   },
   "outputs": [],
   "source": []
  },
  {
   "cell_type": "code",
   "execution_count": null,
   "metadata": {
    "collapsed": false
   },
   "outputs": [],
   "source": []
  },
  {
   "cell_type": "code",
   "execution_count": null,
   "metadata": {
    "collapsed": false
   },
   "outputs": [],
   "source": []
  },
  {
   "cell_type": "code",
   "execution_count": null,
   "metadata": {
    "collapsed": false
   },
   "outputs": [],
   "source": []
  },
  {
   "cell_type": "code",
   "execution_count": null,
   "metadata": {
    "collapsed": false
   },
   "outputs": [],
   "source": []
  },
  {
   "cell_type": "markdown",
   "metadata": {},
   "source": [
    "###warp the fly data"
   ]
  },
  {
   "cell_type": "code",
   "execution_count": 35,
   "metadata": {
    "collapsed": false
   },
   "outputs": [],
   "source": [
    "testfly = GMR22H05_swarm.flies[0]\n",
    "flydir = testfly.fly_path\n",
    "imgs = testfly.experiments.values()[0].exp_record['tiff_data']['images']\n",
    "num_frames = shape(imgs)[0]\n",
    "output_shape = (num_frames,1024/4,1024/4)\n",
    "import h5py\n",
    "#warped_movie_file = h5py.File(flydir + 'warped_movie_compressed.hdf5')\n",
    "#dset = warped_movie_file.create_dataset('images',(output_shape),compression = \"gzip\")\n",
    "def warp_fly_movie(fly,input_dset,output_dset):\n",
    "    import cv2\n",
    "    import cPickle\n",
    "    pkname = fly.fly_path + '/basis_fits.cpkl'\n",
    "    f = open(pkname);img_data = cPickle.load(f);f.close()\n",
    "    test_basis = Basis()\n",
    "    #print data.keys()\n",
    "    for key in ['A','p','a1','a2']:\n",
    "        test_basis[key] = img_data[key]\n",
    "    src_p0 = test_basis['a1'] + test_basis['p']\n",
    "    src_p1 = test_basis['p']\n",
    "    src_p2 = test_basis['a2'] + test_basis['p']\n",
    "    dst_p0 = confocal_basis['a1'] + confocal_basis['p']\n",
    "    dst_p1 = confocal_basis['p']\n",
    "    dst_p2 = confocal_basis['a2'] + confocal_basis['p']\n",
    "    A = cv2.getAffineTransform(np.float32([src_p0,src_p1,src_p2]),np.float32([dst_p0,dst_p1,dst_p2]))\n",
    "    #compose to smaller image size\n",
    "    A = vstack((A,[0,0,1]))\n",
    "    S = np.array([[0.25,0,0],[0,0.25,0],[0,0,1]])\n",
    "    Ap = dot(S,A)[:2,:3]\n",
    "    for i in range(shape(input_dset)[0])[:30:10]:\n",
    "        idxs = range(i,i+10)\n",
    "        frames = [np.array(imgs[x]) for x in idxs]\n",
    "        print idxs\n",
    "        #X_warped = cv2.warpAffine(img.T,Ap,(1024/4,1024/4))\n",
    "        #output_dset[i] = X_warped\n",
    "        #if not(mod(i,100)):\n",
    "        #    print i\n",
    "    #testmovie = np.array(fly.fly_record['experiments'].values()[0]['tiff_data']['images'])\n",
    "    #n = shape(testmovie)[0]\n",
    "    #X_warped = [cv2.warpAffine(testmovie[frame].T,Ap,(256,256)).ravel() for frame in range(n)]\n",
    "    #X_warped = np.array(X_warped)\n",
    "    #import h5py\n",
    "    #f = h5py.File(fly.fly_path + \"warped_imgs.hdf5\", \"w\")\n",
    "    #f.create_group(\"warped_imgs\")\n",
    "    #f['warped_imgs'] = X_warped\n",
    "    #f.flush()\n",
    "    #f.close()"
   ]
  },
  {
   "cell_type": "code",
   "execution_count": 36,
   "metadata": {
    "collapsed": false
   },
   "outputs": [
    {
     "name": "stdout",
     "output_type": "stream",
     "text": [
      "[0, 1, 2, 3, 4, 5, 6, 7, 8, 9]\n",
      "[10, 11, 12, 13, 14, 15, 16, 17, 18, 19]\n",
      "[20, 21, 22, 23, 24, 25, 26, 27, 28, 29]\n"
     ]
    }
   ],
   "source": [
    "warp_fly_movie(testfly,imgs,dset)"
   ]
  },
  {
   "cell_type": "code",
   "execution_count": 31,
   "metadata": {
    "collapsed": false
   },
   "outputs": [
    {
     "data": {
      "text/plain": [
       "<matplotlib.image.AxesImage at 0x115852550>"
      ]
     },
     "execution_count": 31,
     "metadata": {},
     "output_type": "execute_result"
    }
   ],
   "source": []
  },
  {
   "cell_type": "code",
   "execution_count": 155,
   "metadata": {
    "collapsed": false
   },
   "outputs": [],
   "source": []
  },
  {
   "cell_type": "code",
   "execution_count": null,
   "metadata": {
    "collapsed": false
   },
   "outputs": [],
   "source": []
  },
  {
   "cell_type": "code",
   "execution_count": null,
   "metadata": {
    "collapsed": false
   },
   "outputs": [],
   "source": []
  },
  {
   "cell_type": "code",
   "execution_count": null,
   "metadata": {
    "collapsed": false
   },
   "outputs": [],
   "source": []
  },
  {
   "cell_type": "code",
   "execution_count": null,
   "metadata": {
    "collapsed": false
   },
   "outputs": [],
   "source": []
  },
  {
   "cell_type": "code",
   "execution_count": null,
   "metadata": {
    "collapsed": false
   },
   "outputs": [],
   "source": []
  },
  {
   "cell_type": "code",
   "execution_count": null,
   "metadata": {
    "collapsed": false
   },
   "outputs": [],
   "source": []
  },
  {
   "cell_type": "code",
   "execution_count": null,
   "metadata": {
    "collapsed": false
   },
   "outputs": [],
   "source": []
  },
  {
   "cell_type": "code",
   "execution_count": null,
   "metadata": {
    "collapsed": false
   },
   "outputs": [],
   "source": []
  },
  {
   "cell_type": "code",
   "execution_count": null,
   "metadata": {
    "collapsed": false
   },
   "outputs": [],
   "source": []
  },
  {
   "cell_type": "code",
   "execution_count": null,
   "metadata": {
    "collapsed": false
   },
   "outputs": [],
   "source": []
  },
  {
   "cell_type": "code",
   "execution_count": null,
   "metadata": {
    "collapsed": false
   },
   "outputs": [],
   "source": []
  },
  {
   "cell_type": "code",
   "execution_count": null,
   "metadata": {
    "collapsed": false
   },
   "outputs": [],
   "source": []
  },
  {
   "cell_type": "code",
   "execution_count": null,
   "metadata": {
    "collapsed": false
   },
   "outputs": [],
   "source": []
  },
  {
   "cell_type": "code",
   "execution_count": 4,
   "metadata": {
    "collapsed": false
   },
   "outputs": [],
   "source": [
    "import cPickle\n",
    "test_group = [308,309,310,311,312,313,314]\n",
    "swarm = flylib.Squadron(fly_db,test_group)\n",
    "for fly in swarm.flies:\n",
    "    f = open(fly.fly_path + 'img_stats.cpkl','rb')\n",
    "    stats = cPickle.load(f)\n",
    "    f.close()\n",
    "    figure()\n",
    "    imshow(stats['rwing']['corr_img'].reshape(130,174),cmap = cm.gray)"
   ]
  },
  {
   "cell_type": "code",
   "execution_count": 13,
   "metadata": {
    "collapsed": false
   },
   "outputs": [],
   "source": [
    "import cPickle\n",
    "qui_ranges = dict()\n",
    "qui_ranges[308] = slice(400,600)\n",
    "qui_ranges[309] = slice(300,400)\n",
    "qui_ranges[310] = slice(500,600)\n",
    "qui_ranges[311] = slice(320,380)\n",
    "qui_ranges[312] = slice(500,600)\n",
    "qui_ranges[313] = slice(550,600)\n",
    "\n",
    "qui_ranges[314] = slice(1,300)\n",
    "qui_ranges[315] = slice(200,400)\n",
    "qui_ranges[316] = slice(400,600)\n",
    "qui_ranges[317] = slice(300,500)\n",
    "\n",
    "def calc_fly(fly):\n",
    "    pkname = fly.fly_path + '/basis_fits.cpkl'\n",
    "    f = open(pkname);img_data = cPickle.load(f);f.close()\n",
    "    test_basis = Basis()\n",
    "    #print data.keys()\n",
    "    for key in ['A','p','a1','a2']:\n",
    "        test_basis[key] = img_data[key]\n",
    "    \n",
    "    musc = GeometricModel(muscles,confocal_basis)\n",
    "    mv = ModelView(musc)\n",
    "\n",
    "    imgs = np.array(fly.experiments.values()[0].exp_record['tiff_data']['images'])\n",
    "    masks = mv.get_masks(test_basis)\n",
    "\n",
    "    #create the model and project it onto the data\n",
    "    mproject = sum([np.array(m).reshape(174,130).astype(float) for m in masks.values()],axis = 0)\n",
    "    img_prime = imgs.T.reshape(174*130,-1)\n",
    "\n",
    "    W = np.array([m.astype(float) for m in masks.values()]).T\n",
    "    W_inv = np.linalg.pinv(W)\n",
    "\n",
    "    sigs = dot(W_inv,img_prime)\n",
    "\n",
    "    qui_range =qui_ranges[fly.fly_num]\n",
    "    F = mean(sigs[:,qui_range],axis = 1)\n",
    "    DF_F = (sigs-F[:,np.newaxis])/F[:,np.newaxis]\n",
    "    DF_F_dict = dict()\n",
    "    for i,mkey in enumerate(masks.keys()):\n",
    "        DF_F_dict[mkey] = DF_F[i,:]\n",
    "    f = open('f_' + str(fly.fly_num) + '_sig_dict.cpkl','wb')\n",
    "    cPickle.dump(DF_F_dict,f)\n",
    "    f.close()\n",
    "    \n",
    "for fly in swarm.flies:\n",
    "    calc_fly(fly)"
   ]
  },
  {
   "cell_type": "code",
   "execution_count": null,
   "metadata": {
    "collapsed": false
   },
   "outputs": [],
   "source": []
  },
  {
   "cell_type": "code",
   "execution_count": 6,
   "metadata": {
    "collapsed": false
   },
   "outputs": [
    {
     "ename": "ImportError",
     "evalue": "cannot import name mpi4py",
     "output_type": "error",
     "traceback": [
      "\u001b[0;31m---------------------------------------------------------------------------\u001b[0m\n\u001b[0;31mImportError\u001b[0m                               Traceback (most recent call last)",
      "\u001b[0;32m<ipython-input-6-2bad26f05208>\u001b[0m in \u001b[0;36m<module>\u001b[0;34m()\u001b[0m\n\u001b[0;32m----> 1\u001b[0;31m \u001b[0;32mfrom\u001b[0m \u001b[0mscipy\u001b[0m \u001b[0;32mimport\u001b[0m \u001b[0mmpi4py\u001b[0m\u001b[0;34m\u001b[0m\u001b[0m\n\u001b[0m",
      "\u001b[0;31mImportError\u001b[0m: cannot import name mpi4py"
     ]
    }
   ],
   "source": []
  },
  {
   "cell_type": "code",
   "execution_count": 9,
   "metadata": {
    "collapsed": false
   },
   "outputs": [],
   "source": []
  },
  {
   "cell_type": "code",
   "execution_count": 2,
   "metadata": {
    "collapsed": false
   },
   "outputs": [],
   "source": []
  },
  {
   "cell_type": "code",
   "execution_count": 3,
   "metadata": {
    "collapsed": false
   },
   "outputs": [],
   "source": []
  },
  {
   "cell_type": "code",
   "execution_count": 4,
   "metadata": {
    "collapsed": false
   },
   "outputs": [],
   "source": []
  },
  {
   "cell_type": "code",
   "execution_count": 4,
   "metadata": {
    "collapsed": false
   },
   "outputs": [
    {
     "ename": "ImportError",
     "evalue": "No module named mpi4py",
     "output_type": "error",
     "traceback": [
      "\u001b[0;31m---------------------------------------------------------------------------\u001b[0m\n\u001b[0;31mImportError\u001b[0m                               Traceback (most recent call last)",
      "\u001b[0;32m<ipython-input-4-fc57324fa516>\u001b[0m in \u001b[0;36m<module>\u001b[0;34m()\u001b[0m\n\u001b[0;32m----> 1\u001b[0;31m \u001b[0;32mfrom\u001b[0m \u001b[0mmpi4py\u001b[0m \u001b[0;32mimport\u001b[0m \u001b[0mMPI\u001b[0m\u001b[0;34m\u001b[0m\u001b[0m\n\u001b[0m",
      "\u001b[0;31mImportError\u001b[0m: No module named mpi4py"
     ]
    }
   ],
   "source": [
    "from mpi4py import MPI"
   ]
  },
  {
   "cell_type": "code",
   "execution_count": 2,
   "metadata": {
    "collapsed": false
   },
   "outputs": [],
   "source": []
  },
  {
   "cell_type": "code",
   "execution_count": 110,
   "metadata": {
    "collapsed": false
   },
   "outputs": [],
   "source": [
    "sum_images = wing_correlations(wbf[mask],imgs[mask])"
   ]
  },
  {
   "cell_type": "code",
   "execution_count": 111,
   "metadata": {
    "collapsed": false
   },
   "outputs": [
    {
     "data": {
      "text/plain": [
       "<matplotlib.image.AxesImage at 0xda2b0d0>"
      ]
     },
     "execution_count": 111,
     "metadata": {},
     "output_type": "execute_result"
    }
   ],
   "source": []
  },
  {
   "cell_type": "code",
   "execution_count": 139,
   "metadata": {
    "collapsed": false
   },
   "outputs": [],
   "source": [
    "close('all')"
   ]
  },
  {
   "cell_type": "code",
   "execution_count": null,
   "metadata": {
    "collapsed": false
   },
   "outputs": [],
   "source": []
  },
  {
   "cell_type": "code",
   "execution_count": 69,
   "metadata": {
    "collapsed": false
   },
   "outputs": [],
   "source": []
  },
  {
   "cell_type": "code",
   "execution_count": 69,
   "metadata": {
    "collapsed": false
   },
   "outputs": [],
   "source": []
  },
  {
   "cell_type": "code",
   "execution_count": 69,
   "metadata": {
    "collapsed": false
   },
   "outputs": [],
   "source": []
  },
  {
   "cell_type": "code",
   "execution_count": 39,
   "metadata": {
    "collapsed": false
   },
   "outputs": [],
   "source": [
    "musc = GeometricModel(muscles,confocal_basis)"
   ]
  },
  {
   "cell_type": "code",
   "execution_count": 41,
   "metadata": {
    "collapsed": false
   },
   "outputs": [],
   "source": [
    "mv = ModelView(musc)"
   ]
  },
  {
   "cell_type": "code",
   "execution_count": 67,
   "metadata": {
    "collapsed": false
   },
   "outputs": [
    {
     "data": {
      "text/plain": [
       "[<matplotlib.lines.Line2D at 0xd25a550>]"
      ]
     },
     "execution_count": 67,
     "metadata": {},
     "output_type": "execute_result"
    }
   ],
   "source": [
    "plot(musc.lines['iii3'][0],musc.lines['iii3'][1])"
   ]
  },
  {
   "cell_type": "code",
   "execution_count": 48,
   "metadata": {
    "collapsed": false
   },
   "outputs": [],
   "source": [
    "msks = mv.get_masks(confocal_basis)"
   ]
  },
  {
   "cell_type": "code",
   "execution_count": 13,
   "metadata": {
    "collapsed": false
   },
   "outputs": [
    {
     "data": {
      "image/png": "[encoded data removed]",
      "text/plain": [
       "<matplotlib.figure.Figure at 0x1187cef90>"
      ]
     },
     "metadata": {},
     "output_type": "display_data"
    }
   ],
   "source": [
    "#plot the timing diagram for the led pulse protocol\n",
    "fly = GMR22H05_swarm.flies[-1]\n",
    "expmnt = fly.experiments.values()[0]\n",
    "sigs = expmnt.exp_record['axon_data']\n",
    "rng = slice(3004000,3007000)\n",
    "tms = sigs['times'][rng]\n",
    "tms -= tms[0]\n",
    "subplot(3,1,1)\n",
    "plot(tms,sigs['RightWing'][rng],color = 'k');gca().set_ylabel('wing shadow')\n",
    "gca().set_ybound(-2,3)\n",
    "subplot(3,1,2,sharex = gca())\n",
    "plot(tms,sigs['Photostim'][rng],color = 'k');gca().set_ylabel('epi-illumination')\n",
    "subplot(3,1,3,sharex = gca())\n",
    "plot(tms,sigs['CamSync'][rng],color = 'k');gca().set_ylabel('camera exposure')\n",
    "display(gcf());close()\n",
    "#plot the timing diagram for the led pulse protocol\n",
    "fly = GMR22H05_swarm.flies[-1]\n",
    "expmnt = fly.experiments.values()[0]\n",
    "sigs = expmnt.exp_record['axon_data']\n",
    "rng = slice(0,3000)\n",
    "tms = sigs['times'][rng]\n",
    "tms -= tms[0]\n",
    "subplot(3,1,1)\n",
    "plot(tms,sigs['RightWing'][rng],color = 'k');gca().set_ylabel('wing shadow')\n",
    "gca().set_ybound(-2,3)\n",
    "subplot(3,1,2,sharex = gca())\n",
    "plot(tms,sigs['Photostim'][rng],color = 'k');gca().set_ylabel('epi-illumination')\n",
    "subplot(3,1,3,sharex = gca())\n",
    "plot(tms,sigs['CamSync'][rng],color = 'k');gca().set_ylabel('camera exposure')\n",
    "display(gcf());close()"
   ]
  },
  {
   "cell_type": "code",
   "execution_count": 59,
   "metadata": {
    "collapsed": false
   },
   "outputs": [
    {
     "data": {
      "text/plain": [
       "<matplotlib.image.AxesImage at 0xbe18650>"
      ]
     },
     "execution_count": 59,
     "metadata": {},
     "output_type": "execute_result"
    }
   ],
   "source": [
    "imshow(msks['b2'].reshape(174,130))"
   ]
  },
  {
   "cell_type": "code",
   "execution_count": 54,
   "metadata": {
    "collapsed": false
   },
   "outputs": [
    {
     "data": {
      "text/plain": [
       "array([ 150.39946808])"
      ]
     },
     "execution_count": 54,
     "metadata": {},
     "output_type": "execute_result"
    }
   ],
   "source": [
    "sqrt(shape(msks['iii24']))"
   ]
  },
  {
   "cell_type": "code",
   "execution_count": 33,
   "metadata": {
    "collapsed": false
   },
   "outputs": [],
   "source": [
    "import cPickle\n",
    "fly = swarm.flies[2]\n",
    "pkname = fly.fly_path + '/basis_fits.cpkl'\n",
    "f = open(pkname);img_data = cPickle.load(f);f.close()\n",
    "test_basis = Basis()\n",
    "#print data.keys()\n",
    "for key in ['A','p','a1','a2']:\n",
    "    test_basis[key] = img_data[key]\n",
    "imgs = np.array(fly.experiments.values()[0].exp_record['tiff_data']['images'])\n",
    "masks = mv.get_masks(test_basis)"
   ]
  },
  {
   "cell_type": "code",
   "execution_count": 34,
   "metadata": {
    "collapsed": false
   },
   "outputs": [],
   "source": [
    "imshow(imgs[5000].T,cmap = cm.gray)\n",
    "mv.plot(test_basis)"
   ]
  },
  {
   "cell_type": "code",
   "execution_count": 35,
   "metadata": {
    "collapsed": false
   },
   "outputs": [],
   "source": [
    "#create the model and project it onto the data\n",
    "mproject = sum([np.array(m).reshape(174,130).astype(float) for m in masks.values()],axis = 0)\n",
    "img_prime = imgs.T.reshape(174*130,-1)"
   ]
  },
  {
   "cell_type": "code",
   "execution_count": 36,
   "metadata": {
    "collapsed": false
   },
   "outputs": [],
   "source": [
    "W = np.array([m.astype(float) for m in masks.values()]).T\n",
    "W_inv = np.linalg.pinv(W)"
   ]
  },
  {
   "cell_type": "code",
   "execution_count": 37,
   "metadata": {
    "collapsed": false
   },
   "outputs": [],
   "source": [
    "sigs = dot(W_inv,img_prime)"
   ]
  },
  {
   "cell_type": "code",
   "execution_count": 38,
   "metadata": {
    "collapsed": false
   },
   "outputs": [
    {
     "data": {
      "text/plain": [
       "[<matplotlib.lines.Line2D at 0x11bcd3f10>,\n",
       " <matplotlib.lines.Line2D at 0x11bcd71d0>,\n",
       " <matplotlib.lines.Line2D at 0x11bcd7410>,\n",
       " <matplotlib.lines.Line2D at 0x11bcd75d0>,\n",
       " <matplotlib.lines.Line2D at 0x11bcd7790>,\n",
       " <matplotlib.lines.Line2D at 0x11bcd7950>,\n",
       " <matplotlib.lines.Line2D at 0x11bcd7b10>,\n",
       " <matplotlib.lines.Line2D at 0x11bcef3d0>,\n",
       " <matplotlib.lines.Line2D at 0x11bcd7e90>,\n",
       " <matplotlib.lines.Line2D at 0x11bcca090>,\n",
       " <matplotlib.lines.Line2D at 0x11bcca250>,\n",
       " <matplotlib.lines.Line2D at 0x11bcca410>,\n",
       " <matplotlib.lines.Line2D at 0x11bcca5d0>,\n",
       " <matplotlib.lines.Line2D at 0x11bcca790>,\n",
       " <matplotlib.lines.Line2D at 0x11bcd7cd0>,\n",
       " <matplotlib.lines.Line2D at 0x11bccab10>]"
      ]
     },
     "execution_count": 38,
     "metadata": {},
     "output_type": "execute_result"
    }
   ],
   "source": [
    "plot(sigs.T)"
   ]
  },
  {
   "cell_type": "code",
   "execution_count": 97,
   "metadata": {
    "collapsed": false
   },
   "outputs": [],
   "source": [
    "#plot(mproject.T.ravel())\n",
    "#figure()\n",
    "#plot(imgs[0].ravel())\n",
    "#figure()\n",
    "#plot(img_prime[:,30])\n",
    "#imshow(imgs[0]*mproject[::-1,::-1])"
   ]
  },
  {
   "cell_type": "code",
   "execution_count": 41,
   "metadata": {
    "collapsed": false
   },
   "outputs": [],
   "source": []
  },
  {
   "cell_type": "code",
   "execution_count": 38,
   "metadata": {
    "collapsed": false
   },
   "outputs": [
    {
     "ename": "NameError",
     "evalue": "name 'DF_F_dict' is not defined",
     "output_type": "error",
     "traceback": [
      "\u001b[1;31m---------------------------------------------------------------------------\u001b[0m\n\u001b[1;31mNameError\u001b[0m                                 Traceback (most recent call last)",
      "\u001b[1;32m<ipython-input-38-de1acecefb65>\u001b[0m in \u001b[0;36m<module>\u001b[1;34m()\u001b[0m\n\u001b[1;32m----> 1\u001b[1;33m \u001b[0mplot\u001b[0m\u001b[1;33m(\u001b[0m\u001b[0mDF_F_dict\u001b[0m\u001b[1;33m[\u001b[0m\u001b[1;34m'iii24'\u001b[0m\u001b[1;33m]\u001b[0m\u001b[1;33m)\u001b[0m\u001b[1;33m\u001b[0m\u001b[0m\n\u001b[0m",
      "\u001b[1;31mNameError\u001b[0m: name 'DF_F_dict' is not defined"
     ]
    }
   ],
   "source": [
    "plot(DF_F_dict['iii24'])"
   ]
  },
  {
   "cell_type": "code",
   "execution_count": 39,
   "metadata": {
    "collapsed": false
   },
   "outputs": [
    {
     "data": {
      "text/plain": [
       "309"
      ]
     },
     "execution_count": 39,
     "metadata": {},
     "output_type": "execute_result"
    }
   ],
   "source": [
    "fly.fly_num"
   ]
  },
  {
   "cell_type": "code",
   "execution_count": 47,
   "metadata": {
    "collapsed": false
   },
   "outputs": [],
   "source": []
  },
  {
   "cell_type": "code",
   "execution_count": 44,
   "metadata": {
    "collapsed": false
   },
   "outputs": [],
   "source": []
  },
  {
   "cell_type": "code",
   "execution_count": 44,
   "metadata": {
    "collapsed": false
   },
   "outputs": [],
   "source": []
  },
  {
   "cell_type": "code",
   "execution_count": 44,
   "metadata": {
    "collapsed": false
   },
   "outputs": [],
   "source": []
  },
  {
   "cell_type": "code",
   "execution_count": 44,
   "metadata": {
    "collapsed": false
   },
   "outputs": [],
   "source": []
  },
  {
   "cell_type": "code",
   "execution_count": 44,
   "metadata": {
    "collapsed": false
   },
   "outputs": [],
   "source": []
  },
  {
   "cell_type": "code",
   "execution_count": 44,
   "metadata": {
    "collapsed": false
   },
   "outputs": [],
   "source": []
  },
  {
   "cell_type": "code",
   "execution_count": 44,
   "metadata": {
    "collapsed": false
   },
   "outputs": [],
   "source": []
  },
  {
   "cell_type": "code",
   "execution_count": null,
   "metadata": {
    "collapsed": false
   },
   "outputs": [],
   "source": []
  },
  {
   "cell_type": "code",
   "execution_count": 13,
   "metadata": {
    "collapsed": false
   },
   "outputs": [],
   "source": [
    "import cPickle\n",
    "import cv2"
   ]
  },
  {
   "cell_type": "code",
   "execution_count": 15,
   "metadata": {
    "collapsed": false
   },
   "outputs": [],
   "source": [
    "fly = swarm.flies[-4]"
   ]
  },
  {
   "cell_type": "code",
   "execution_count": 16,
   "metadata": {
    "collapsed": false
   },
   "outputs": [],
   "source": [
    "warp_fly_movie(fly)"
   ]
  },
  {
   "cell_type": "code",
   "execution_count": 1,
   "metadata": {
    "collapsed": false
   },
   "outputs": [],
   "source": []
  },
  {
   "cell_type": "code",
   "execution_count": 11,
   "metadata": {
    "collapsed": false
   },
   "outputs": [],
   "source": []
  },
  {
   "cell_type": "code",
   "execution_count": 77,
   "metadata": {
    "collapsed": false
   },
   "outputs": [],
   "source": []
  },
  {
   "cell_type": "code",
   "execution_count": 13,
   "metadata": {
    "collapsed": false
   },
   "outputs": [],
   "source": []
  },
  {
   "cell_type": "code",
   "execution_count": 19,
   "metadata": {
    "collapsed": false
   },
   "outputs": [],
   "source": []
  },
  {
   "cell_type": "code",
   "execution_count": 14,
   "metadata": {
    "collapsed": false
   },
   "outputs": [],
   "source": [
    "#this block will load the metadata and warp the images/movies into a common reference frame.\n",
    "def warp_fly_movie(fly):\n",
    "    #fname = fly.fly_path + 'meta_data.cpkl'\n",
    "    #f = open(fname,'rb');data = cPickle.load(f);f.close()\n",
    "    pkname = fly.fly_path + '/basis_fits.cpkl'\n",
    "    f = open(pkname);img_data = cPickle.load(f);f.close()\n",
    "    test_basis = Basis()\n",
    "    #print data.keys()\n",
    "    for key in ['A','p','a1','a2']:\n",
    "        test_basis[key] = img_data[key]\n",
    "    src_p0 = test_basis['a1'] + test_basis['p']\n",
    "    src_p1 = test_basis['p']\n",
    "    src_p2 = test_basis['a2'] + test_basis['p']\n",
    "    dst_p0 = confocal_basis['a1'] + confocal_basis['p']\n",
    "    dst_p1 = confocal_basis['p']\n",
    "    dst_p2 = confocal_basis['a2'] + confocal_basis['p']\n",
    "    A = cv2.getAffineTransform(np.float32([src_p0,src_p1,src_p2]),np.float32([dst_p0,dst_p1,dst_p2]))\n",
    "    #compose back to Ca image size\n",
    "    A = vstack((A,[0,0,1]))\n",
    "    S = np.array([[0.25,0,0],[0,0.25,0],[0,0,1]])\n",
    "    Ap = dot(S,A)[:2,:3]\n",
    "    testmovie = np.array(fly.fly_record['experiments'].values()[0]['tiff_data']['images'])\n",
    "    n = shape(testmovie)[0]\n",
    "    X_warped = [cv2.warpAffine(testmovie[frame].T,Ap,(256,256)).ravel() for frame in range(n)]\n",
    "    X_warped = np.array(X_warped)\n",
    "    import h5py\n",
    "    f = h5py.File(fly.fly_path + \"warped_imgs.hdf5\", \"w\")\n",
    "    #f.create_group(\"warped_imgs\")\n",
    "    f['warped_imgs'] = X_warped\n",
    "    f.flush()\n",
    "    f.close()\n",
    "    import tifffile\n",
    "    tifffile.imsave(fly.fly_path + \"warped_movie.tiff\",X_warped.reshape(shape(X_warped)[0],256,256))"
   ]
  },
  {
   "cell_type": "code",
   "execution_count": 19,
   "metadata": {
    "collapsed": false
   },
   "outputs": [],
   "source": []
  },
  {
   "cell_type": "code",
   "execution_count": null,
   "metadata": {
    "collapsed": false
   },
   "outputs": [],
   "source": []
  }
 ],
 "metadata": {
  "kernelspec": {
   "display_name": "Python 2",
   "language": "python",
   "name": "python2"
  },
  "language_info": {
   "codemirror_mode": {
    "name": "ipython",
    "version": 2
   },
   "file_extension": ".py",
   "mimetype": "text/x-python",
   "name": "python",
   "nbconvert_exporter": "python",
   "pygments_lexer": "ipython2",
   "version": "2.7.6"
  }
 },
 "nbformat": 4,
 "nbformat_minor": 0
}
