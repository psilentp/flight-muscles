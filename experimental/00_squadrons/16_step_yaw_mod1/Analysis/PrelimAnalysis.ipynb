{
 "metadata": {
  "name": "",
  "signature": "sha256:613eef085b708a3dc303623c2f268928b0a24b7aa032ab4478501d71b4aa8cc5"
 },
 "nbformat": 3,
 "nbformat_minor": 0,
 "worksheets": [
  {
   "cells": [
    {
     "cell_type": "markdown",
     "metadata": {},
     "source": [
      "Preliminary analysis performed on a few flies (305 - 317) u56(Gcamp6f) X R22H05 to test modifications to the stimulus protocol - 6 stim conditions (clkwise/cclkwise yaw,translate forward, backward up and down. 10 reps for each direction. The first 5 flies were very young < 24 hrs old. the second 4 were between 24-48 hrs old and produced more consistent behavioral results."
     ]
    },
    {
     "cell_type": "code",
     "collapsed": false,
     "input": [
      "%pylab"
     ],
     "language": "python",
     "metadata": {},
     "outputs": [
      {
       "output_type": "stream",
       "stream": "stdout",
       "text": [
        "Using matplotlib backend: MacOSX\n",
        "Populating the interactive namespace from numpy and matplotlib\n"
       ]
      }
     ],
     "prompt_number": 1
    },
    {
     "cell_type": "code",
     "collapsed": false,
     "input": [
      "import sys\n",
      "sys.path.append('/Volumes/FlyDataC/flight-muscles/src')\n",
      "sys.path.append('/Volumes/FlyDataC/flight-muscles/packages/')"
     ],
     "language": "python",
     "metadata": {},
     "outputs": [],
     "prompt_number": 2
    },
    {
     "cell_type": "code",
     "collapsed": false,
     "input": [
      "?nansum"
     ],
     "language": "python",
     "metadata": {},
     "outputs": [],
     "prompt_number": 56
    },
    {
     "cell_type": "code",
     "collapsed": false,
     "input": [
      "def nanmean(a,axis = 0):\n",
      "    ax = a.copy()\n",
      "    ax[~isfinite(a)] = 0\n",
      "    rval = np.sum(ax,axis = axis)/np.sum(np.isfinite(a),axis = axis)\n",
      "    rval[~isfinite(rval)] = 0\n",
      "    return rval"
     ],
     "language": "python",
     "metadata": {},
     "outputs": [],
     "prompt_number": 89
    },
    {
     "cell_type": "code",
     "collapsed": false,
     "input": [
      "import flylib\n",
      "import db_access as dba\n",
      "fly_db = dba.get_db()"
     ],
     "language": "python",
     "metadata": {},
     "outputs": [],
     "prompt_number": 5
    },
    {
     "cell_type": "code",
     "collapsed": false,
     "input": [
      "GMR22H05_list = [308,309,310,311,312,313,314,315,316,317,327,328] #range(317,326)\n",
      "GMR22H05_swarm = flylib.Squadron(fly_db,GMR22H05_list)\n",
      "GMR39E01_list = [318,319,320,321,322,323,324,325,329,330,331,332,333,334,335,336]\n",
      "GMR39E01_swarm = flylib.Squadron(fly_db,GMR39E01_list)"
     ],
     "language": "python",
     "metadata": {},
     "outputs": [],
     "prompt_number": 6
    },
    {
     "cell_type": "markdown",
     "metadata": {},
     "source": [
      "## Behavioral analysis"
     ]
    },
    {
     "cell_type": "code",
     "collapsed": false,
     "input": [
      "encode = {'trans_back':1,'trans_down':2,'trans_for':3,'trans_up':4,'yaw_left':5,'yaw_right':6}\n",
      "decode = dict()\n",
      "for key,value in zip(encode.keys(),encode.values()):\n",
      "    decode[value] = key"
     ],
     "language": "python",
     "metadata": {},
     "outputs": [],
     "prompt_number": 92
    },
    {
     "cell_type": "code",
     "collapsed": false,
     "input": [
      "def get_cond(fly,trial):\n",
      "    expmnt = fly.experiments.values()[0]\n",
      "    sigs = expmnt.exp_record['tiff_data']['axon_framebase']\n",
      "    cond_data = np.array(sigs['StimCond'])[trial]\n",
      "    val = np.around(np.mean(cond_data[cond_data>0.5]))\n",
      "    if isnan(val):\n",
      "        raise ValueError\n",
      "    return val"
     ],
     "language": "python",
     "metadata": {},
     "outputs": [],
     "prompt_number": 93
    },
    {
     "cell_type": "code",
     "collapsed": false,
     "input": [
      "from scipy.interpolate import griddata\n",
      "def get_signal_mtrxs(swarm):\n",
      "    signal_mtrxs = {'fly_num':[],\n",
      "                    'trial_cond':[],\n",
      "                    'wb_period':[],\n",
      "                    'wb_frequency':[],\n",
      "                    'strobe_time':[],\n",
      "                    'Ph0':[],'Ph1':[],'Ph2':[],'Ph3':[],\n",
      "                    'StimCond':[]}\n",
      "    for fly in swarm.flies:\n",
      "        expmnt = fly.experiments.values()[0]\n",
      "        sigs = expmnt.exp_record['tiff_data']['axon_framebase']\n",
      "        trials = flylib.idx_by_thresh(np.array(sigs['StimCond']),-0.0)\n",
      "        for trial in trials:\n",
      "            try:\n",
      "                cond = get_cond(fly,trial)\n",
      "                times = np.array(sigs['times'])[trial] - sigs['times'][trial[0]]\n",
      "                xi = np.linspace(0,23,1150)\n",
      "                signal_mtrxs['fly_num'].append(fly.fly_num)\n",
      "                signal_mtrxs['trial_cond'].append(cond)\n",
      "                for skey in ['wb_period','wb_frequency','strobe_time','Ph0','Ph1','Ph2','Ph3','StimCond']:\n",
      "                    resamp = griddata(times,np.array(sigs[skey])[trial],xi,method = 'linear')\n",
      "                    signal_mtrxs[skey].append(resamp)\n",
      "            except ValueError:\n",
      "                print 'ValueError'\n",
      "    for skey in signal_mtrxs.keys():\n",
      "        signal_mtrxs[skey] = np.array(signal_mtrxs[skey])\n",
      "    d_matrix = array([signal_mtrxs['fly_num'] == fly.fly_num for fly in swarm.flies])\n",
      "    return signal_mtrxs,d_matrix,xi"
     ],
     "language": "python",
     "metadata": {},
     "outputs": [],
     "prompt_number": 94
    },
    {
     "cell_type": "code",
     "collapsed": false,
     "input": [
      "def plot_swarm(signal_mtrxs,d_matrix,xi):\n",
      "    criterion = nansum(signal_mtrxs['wb_frequency']>180,axis = 1)>(1150*.90) #wbfreq was greater than 160 for > 90% of the trial\n",
      "    conditions = [('yaw_left',0,'r'),('yaw_right',0,'b'),\n",
      "                  ('trans_for',1,'r'),('trans_back',1,'b'),\n",
      "                  ('trans_up',2,'r'),('trans_down',2,'b')]\n",
      "\n",
      "    import matplotlib.gridspec as gridspec\n",
      "    gs = gridspec.GridSpec(5, 3)\n",
      "\n",
      "    skey = 'Ph1'\n",
      "    for condition,column,color in conditions:\n",
      "        ax = plt.subplot(gs[0, column])\n",
      "        include = signal_mtrxs['trial_cond'] == encode[condition]\n",
      "        include *= criterion\n",
      "\n",
      "        data = signal_mtrxs[skey]*include.T[:,np.newaxis]\n",
      "        data = dot(d_matrix,data)/dot(d_matrix.astype(float),include.astype(float))[:,newaxis]\n",
      "\n",
      "        data = rad2deg(data/5.0)\n",
      "        if condition == 'yaw_left' :\n",
      "            print sum(~isfinite(nanmean(data,axis = 0)))\n",
      "TT\n",
      "\n",
      "    skey = 'Ph0'\n",
      "    for condition,column,color in conditions:\n",
      "        ax = plt.subplot(gs[1, column])\n",
      "        include = signal_mtrxs['trial_cond'] == encode[condition]\n",
      "        include *= criterion\n",
      "\n",
      "        data = signal_mtrxs[skey]*include.T[:,np.newaxis]\n",
      "        data = dot(d_matrix,data)/dot(d_matrix.astype(float),include.astype(float))[:,newaxis]\n",
      "        data = rad2deg(data/5.0)\n",
      "\n",
      "        lns = plot(xi,nanmean(data,axis = 0),alpha = 0.6,color = color)\n",
      "        ax.set_ybound(0,90)\n",
      "\n",
      "    skey = 'Ph2'\n",
      "    for condition,column,color in conditions:\n",
      "        ax = plt.subplot(gs[2, column])\n",
      "        include = signal_mtrxs['trial_cond'] == encode[condition]\n",
      "        include *= criterion\n",
      "\n",
      "        data = signal_mtrxs[skey]*include.T[:,np.newaxis]\n",
      "        data = dot(d_matrix,data)/dot(d_matrix.astype(float),include.astype(float))[:,newaxis]    \n",
      "        data = rad2deg(data/5.0)\n",
      "        lns = plot(xi,nanmean(data,axis = 0),alpha = 0.6,color = color)\n",
      "        ax.set_ybound(-40,40)\n",
      "\n",
      "    skey2 = 'Ph1'\n",
      "    skey1 = 'Ph0'\n",
      "    for condition,column,color in conditions:\n",
      "        ax = plt.subplot(gs[3, column])\n",
      "        include = signal_mtrxs['trial_cond'] == encode[condition]\n",
      "        include *= criterion\n",
      "\n",
      "        data = signal_mtrxs[skey1]*include.T[:,np.newaxis] + signal_mtrxs[skey2]*include.T[:,np.newaxis]\n",
      "        data = dot(d_matrix,data)/dot(d_matrix.astype(float),include.astype(float))[:,newaxis]\n",
      "        data = rad2deg(data/5.0)\n",
      "\n",
      "        lns = plot(xi,nanmean(data,axis = 0),alpha = 0.6,color = color)\n",
      "        ax.set_ybound(0,180)\n",
      "\n",
      "    skey = 'wb_frequency'\n",
      "    for condition,column,color in conditions:\n",
      "        ax = plt.subplot(gs[4, column])\n",
      "        include = signal_mtrxs['trial_cond'] == encode[condition]\n",
      "        include *= criterion\n",
      "        data = signal_mtrxs[skey]*include.T[:,np.newaxis]\n",
      "        data = dot(d_matrix,data)/dot(d_matrix.astype(float),include.astype(float))[:,newaxis]\n",
      "        #lns = plot(xi,data.T,alpha = 0.3,color = color)\n",
      "        lns = plot(xi,nanmean(data,axis = 0),alpha = 0.6,color = color)\n",
      "        ax.set_ybound(180,230)"
     ],
     "language": "python",
     "metadata": {},
     "outputs": [],
     "prompt_number": 116
    },
    {
     "cell_type": "code",
     "collapsed": false,
     "input": [
      "figure()\n",
      "smtrx,dmtrx,xi = get_signal_mtrxs(GMR22H05_swarm)\n",
      "plot_swarm(smtrx,dmtrx,xi)\n",
      "#display(gcf());close()"
     ],
     "language": "python",
     "metadata": {},
     "outputs": [
      {
       "output_type": "stream",
       "stream": "stdout",
       "text": [
        "0\n"
       ]
      }
     ],
     "prompt_number": 117
    },
    {
     "cell_type": "code",
     "collapsed": false,
     "input": [
      "figure()\n",
      "smtrx,dmtrx,xi = get_signal_mtrxs(GMR39E01_swarm)\n",
      "plot_swarm(smtrx,dmtrx,xi)\n",
      "display(gcf());close()"
     ],
     "language": "python",
     "metadata": {},
     "outputs": [
      {
       "output_type": "stream",
       "stream": "stdout",
       "text": [
        "ValueError\n",
        "160"
       ]
      },
      {
       "output_type": "stream",
       "stream": "stdout",
       "text": [
        "\n",
        "160\n",
        "160"
       ]
      },
      {
       "output_type": "stream",
       "stream": "stdout",
       "text": [
        "\n",
        "160\n",
        "160"
       ]
      },
      {
       "output_type": "stream",
       "stream": "stdout",
       "text": [
        "\n",
        "160\n"
       ]
      },
      {
       "output_type": "stream",
       "stream": "stderr",
       "text": [
        "-c:68: RuntimeWarning: invalid value encountered in multiply\n"
       ]
      },
      {
       "metadata": {},
       "output_type": "display_data",
       "png": "[encoded data removed]",
       "text": [
        "<matplotlib.figure.Figure at 0x7275310>"
       ]
      }
     ],
     "prompt_number": 26
    },
    {
     "cell_type": "code",
     "collapsed": false,
     "input": [
      "smtrx['trial_cond']"
     ],
     "language": "python",
     "metadata": {},
     "outputs": [
      {
       "metadata": {},
       "output_type": "pyout",
       "prompt_number": 36,
       "text": [
        "array([ 5.,  3.,  5.,  2.,  4.,  5.,  4.,  4.,  6.,  1.,  3.,  6.,  1.,\n",
        "        5.,  2.,  6.,  3.,  3.,  2.,  4.,  5.,  1.,  6.,  2.,  2.,  3.,\n",
        "        4.,  6.,  1.,  1.,  5.,  3.,  4.,  6.,  2.,  1.,  6.,  4.,  3.,\n",
        "        5.,  1.,  2.,  2.,  5.,  1.,  5.,  4.,  6.,  4.,  4.,  1.,  6.,\n",
        "        3.,  6.,  5.,  2.,  1.,  2.,  3.,  3.,  1.,  1.,  2.,  3.,  6.,\n",
        "        3.,  6.,  1.,  6.,  5.,  5.,  5.,  3.,  2.,  4.,  2.,  4.,  5.,\n",
        "        6.,  4.,  6.,  4.,  2.,  2.,  1.,  4.,  1.,  3.,  3.,  5.,  1.,\n",
        "        6.,  6.,  2.,  2.,  6.,  5.,  4.,  4.,  3.,  5.,  5.,  2.,  3.,\n",
        "        2.,  3.,  3.,  2.,  5.,  1.,  1.,  1.,  1.,  4.,  6.,  3.,  5.,\n",
        "        4.,  6.,  4.,  6.,  2.,  6.,  5.,  2.,  2.,  4.,  1.,  1.,  2.,\n",
        "        1.,  4.,  4.,  5.,  6.,  6.,  3.,  4.,  3.,  5.,  4.,  1.,  6.,\n",
        "        3.,  5.,  5.,  3.,  1.,  2.,  3.,  5.,  2.,  3.,  6.,  5.,  4.,\n",
        "        2.,  3.,  6.,  3.,  1.,  3.,  5.,  3.,  4.,  5.,  5.,  2.,  4.,\n",
        "        6.,  2.,  4.,  1.,  6.,  6.,  4.,  1.,  1.,  2.,  1.,  5.,  5.,\n",
        "        1.,  2.,  2.,  5.,  1.,  4.,  3.,  4.,  2.,  3.,  5.,  6.,  4.,\n",
        "        4.,  1.,  3.,  2.,  6.,  3.,  2.,  1.,  5.,  4.,  6.,  6.,  3.,\n",
        "        6.,  1.,  6.,  3.,  6.,  2.,  3.,  5.,  1.,  5.,  5.,  4.,  4.,\n",
        "        3.,  3.,  2.,  1.,  2.,  1.,  6.,  2.,  5.,  6.,  5.,  2.,  1.,\n",
        "        4.,  4.,  4.,  1.,  3.,  6.,  6.,  6.,  5.,  4.,  4.,  5.,  6.,\n",
        "        3.,  2.,  2.,  1.,  5.,  6.,  1.,  3.,  3.,  1.,  4.,  2.,  6.,\n",
        "        4.,  3.,  5.,  5.,  2.,  4.,  1.,  2.,  1.,  3.,  5.,  4.,  1.,\n",
        "        1.,  3.,  4.,  3.,  3.,  5.,  2.,  1.,  2.,  6.,  6.,  2.,  5.,\n",
        "        6.,  4.,  4.,  6.,  1.,  3.,  4.,  6.,  2.,  3.,  2.,  5.,  5.,\n",
        "        1.,  3.,  2.,  2.,  1.,  6.,  4.,  3.,  2.,  5.,  4.,  1.,  1.,\n",
        "        6.,  2.,  5.,  3.,  5.,  1.,  6.,  3.,  5.,  6.,  4.,  2.,  5.,\n",
        "        6.,  1.,  4.,  3.,  4.,  5.,  5.,  1.,  4.,  3.,  3.,  6.,  3.,\n",
        "        1.,  1.,  2.,  6.,  2.,  6.,  4.,  3.,  5.,  1.,  5.,  2.,  5.,\n",
        "        2.,  1.,  4.,  4.,  3.,  6.,  2.,  4.,  6.,  3.,  2.,  3.,  5.,\n",
        "        3.,  1.,  6.,  2.,  5.,  2.,  4.,  3.,  5.,  2.,  6.,  6.,  6.,\n",
        "        4.,  6.,  1.,  1.,  5.,  2.,  3.,  1.,  4.,  1.,  5.,  4.,  4.,\n",
        "        4.,  5.,  2.,  3.,  1.,  6.,  3.,  1.,  2.,  1.,  3.,  3.,  2.,\n",
        "        3.,  2.,  2.,  5.,  4.,  5.,  4.,  6.,  6.,  6.,  1.,  4.,  5.,\n",
        "        4.,  6.,  1.,  5.,  6.,  4.,  5.,  4.,  2.,  2.,  5.,  4.,  3.,\n",
        "        1.,  2.,  3.,  5.,  2.,  6.,  4.,  4.,  2.,  6.,  1.,  3.,  3.,\n",
        "        1.,  5.,  6.,  1.,  6.,  5.,  1.,  3.,  2.,  1.,  6.,  3.,  3.,\n",
        "        5.,  1.,  1.,  5.,  4.,  4.,  5.,  1.,  3.,  6.,  4.,  6.,  4.,\n",
        "        2.,  6.,  2.,  2.,  6.,  2.,  3.,  3.,  5.,  4.,  5.,  1.,  6.,\n",
        "        3.,  6.,  4.,  1.,  3.,  4.,  6.,  2.,  6.,  5.,  5.,  4.,  2.,\n",
        "        3.,  2.,  4.,  2.,  5.,  3.,  1.,  1.,  2.,  1.,  1.,  6.,  3.,\n",
        "        4.,  5.,  5.,  5.,  4.,  1.,  1.,  2.,  4.,  4.,  3.,  1.,  5.,\n",
        "        6.,  2.,  4.,  5.,  2.,  1.,  6.,  2.,  3.,  4.,  6.,  5.,  3.,\n",
        "        2.,  1.,  6.,  3.,  3.,  6.,  5.,  6.,  2.,  5.,  2.,  4.,  1.,\n",
        "        4.,  3.,  2.,  5.,  1.,  6.,  3.,  6.,  5.,  4.,  4.,  6.,  4.,\n",
        "        5.,  5.,  1.,  1.,  3.,  2.,  6.,  3.,  3.,  1.,  2.,  5.,  4.,\n",
        "        5.,  3.,  2.,  2.,  4.,  1.,  5.,  4.,  6.,  2.,  6.,  5.,  4.,\n",
        "        4.,  1.,  3.,  3.,  2.,  1.,  5.,  2.,  1.,  6.,  1.,  6.,  3.,\n",
        "        6.,  3.,  1.,  2.,  2.,  1.,  4.,  3.,  5.,  4.,  2.,  5.,  3.,\n",
        "        6.,  4.,  1.,  1.,  3.,  2.,  3.,  6.,  2.,  4.,  1.,  5.,  4.,\n",
        "        3.,  6.,  6.,  6.,  5.,  5.,  1.,  2.,  6.,  4.,  2.,  3.,  4.,\n",
        "        2.,  1.,  4.,  2.,  5.,  6.,  3.,  1.,  3.,  5.,  4.,  6.,  5.,\n",
        "        5.,  4.,  6.,  3.,  2.,  1.,  6.,  3.,  1.,  5.,  4.,  2.,  2.,\n",
        "        6.,  2.,  6.,  2.,  5.,  5.,  5.,  3.,  1.,  4.,  1.,  1.,  6.,\n",
        "        4.,  6.,  3.,  3.,  5.,  3.,  1.,  1.,  4.,  5.,  6.,  2.,  4.,\n",
        "        3.,  5.,  3.,  1.,  3.,  6.,  5.,  4.,  3.,  1.,  2.,  3.,  2.,\n",
        "        1.,  4.,  3.,  4.,  6.,  4.,  2.,  2.,  6.,  2.,  5.,  5.,  6.,\n",
        "        5.,  4.,  1.,  1.,  6.])"
       ]
      }
     ],
     "prompt_number": 36
    },
    {
     "cell_type": "code",
     "collapsed": false,
     "input": [
      "#plot the timing diagram for the led pulse protocol\n",
      "fly = GMR22H05_swarm.flies[-1]\n",
      "expmnt = fly.experiments.values()[0]\n",
      "sigs = expmnt.exp_record['axon_data']\n",
      "rng = slice(3004000,3007000)\n",
      "tms = sigs['times'][rng]\n",
      "tms -= tms[0]\n",
      "subplot(3,1,1)\n",
      "plot(tms,sigs['RightWing'][rng],color = 'k');gca().set_ylabel('wing shadow')\n",
      "gca().set_ybound(-2,3)\n",
      "subplot(3,1,2,sharex = gca())\n",
      "plot(tms,sigs['Photostim'][rng],color = 'k');gca().set_ylabel('epi-illumination')\n",
      "subplot(3,1,3,sharex = gca())\n",
      "plot(tms,sigs['CamSync'][rng],color = 'k');gca().set_ylabel('camera exposure')\n",
      "display(gcf());close()"
     ],
     "language": "python",
     "metadata": {},
     "outputs": []
    },
    {
     "cell_type": "code",
     "collapsed": false,
     "input": [
      "#plot the timing diagram for the led pulse protocol\n",
      "fly = swarm.flies[-1]\n",
      "expmnt = fly.experiments.values()[0]\n",
      "sigs = expmnt.exp_record['axon_data']\n",
      "rng = slice(0,3000)\n",
      "tms = sigs['times'][rng]\n",
      "tms -= tms[0]\n",
      "subplot(3,1,1)\n",
      "plot(tms,sigs['RightWing'][rng],color = 'k');gca().set_ylabel('wing shadow')\n",
      "gca().set_ybound(-2,3)\n",
      "subplot(3,1,2,sharex = gca())\n",
      "plot(tms,sigs['Photostim'][rng],color = 'k');gca().set_ylabel('epi-illumination')\n",
      "subplot(3,1,3,sharex = gca())\n",
      "plot(tms,sigs['CamSync'][rng],color = 'k');gca().set_ylabel('camera exposure')\n",
      "display(gcf());close()"
     ],
     "language": "python",
     "metadata": {},
     "outputs": [
      {
       "metadata": {},
       "output_type": "display_data",
       "png": "[encoded data removed]",
       "text": [
        "<matplotlib.figure.Figure at 0x114329610>"
       ]
      }
     ],
     "prompt_number": 115
    },
    {
     "cell_type": "markdown",
     "metadata": {},
     "source": [
      "## Load the reference frame data"
     ]
    },
    {
     "cell_type": "code",
     "collapsed": false,
     "input": [
      "class Basis(dict):    \n",
      "    def __setitem__(self,key,item):\n",
      "        \"\"\"overload the __setitem__ method of dict so the transform and inverse\n",
      "         transform matrices are computed when the basis vectors are changed\"\"\"\n",
      "        try:\n",
      "            if key in ['a1','a2']:\n",
      "                dict.__setitem__(self,key,item)\n",
      "                A = np.vstack((self['a1'],self['a2'])).T\n",
      "                A_inv = np.linalg.inv(A)\n",
      "                self['A'] = A\n",
      "                self['A_inv'] = A_inv\n",
      "            else:\n",
      "                dict.__setitem__(self,key,item)\n",
      "        except KeyError:\n",
      "            dict.__setitem__(self,key,item)\n",
      "                \n",
      "        \n",
      "class GeometricModel(object):   \n",
      "    def __init__(self,lines,basis):\n",
      "        self.lines = lines\n",
      "        self.basis = basis\n",
      "        ## put lines in barycentric coords\n",
      "        self.barycentric = dict()\n",
      "        for key in self.lines.keys():\n",
      "            coords = dot(self.basis['A_inv'],(self.lines[key]-self.basis['p'][:,newaxis])) \n",
      "            self.barycentric[key] = coords.T\n",
      "            \n",
      "    def coords_from_basis(self,basis):\n",
      "        ret = dict()\n",
      "        for key in self.barycentric.keys():\n",
      "            coords = np.dot(basis['A'],(self.barycentric[key]).T)+basis['p'][:,newaxis]\n",
      "            ret[key] = coords\n",
      "        return(ret)\n",
      "\n",
      "class ModelView(object):\n",
      "    def __init__(self,model):\n",
      "        self.model = model\n",
      "        \n",
      "    def plot(self,basis,**kwargs):\n",
      "        lines = self.model.coords_from_basis(basis)\n",
      "        plot_args = {}\n",
      "        plot_args['plot_frame'] = kwargs.pop('plot_frame',True)\n",
      "        plot_args['frame_head_width'] = kwargs.pop('frame_head_width',20)\n",
      "        plot_args['contour_color'] = kwargs.pop('contour_color','w')\n",
      "        \n",
      "        kwargs['color'] = plot_args['contour_color']\n",
      "        for line in lines.values():\n",
      "            plot(line[0,:],line[1,:], **kwargs)\n",
      "        if plot_args['plot_frame']:\n",
      "            p = basis['p']\n",
      "            a1 = basis['a1']\n",
      "            a2 = basis['a2']\n",
      "            kwargs['color'] = 'g'\n",
      "            kwargs['head_width'] = plot_args['frame_head_width']\n",
      "            arrow(p[0],p[1],a1[0],a1[1],**kwargs)\n",
      "            kwargs['color'] = 'b'\n",
      "            kwargs['head_width'] = plot_args['frame_head_width']\n",
      "            arrow(p[0],p[1],a2[0],a2[1],**kwargs)\n",
      "            \n",
      "    def get_masks(self,basis):\n",
      "        from matplotlib.path import Path\n",
      "        lines = self.model.coords_from_basis(basis)\n",
      "        paths = {}\n",
      "        [paths.update({k:Path(lines[k].T)}) for k in lines]\n",
      "        x,y = meshgrid(range(130),range(174))\n",
      "        pnts = vstack((x.ravel(),y.ravel())).T\n",
      "        masks = {}\n",
      "        [masks.update({k:paths[k].contains_points(pnts)}) for k in paths]\n",
      "        [masks.update({k:masks[k]}) for k in masks]\n",
      "        return masks"
     ],
     "language": "python",
     "metadata": {},
     "outputs": [],
     "prompt_number": 15
    },
    {
     "cell_type": "code",
     "collapsed": false,
     "input": [
      "###add position of large setae \n",
      "import cPickle as cpkl\n",
      "f = open('model_data.cpkl','rb')\n",
      "model_data = cpkl.load(f)\n",
      "f.close()\n",
      "model_data['e1'] = array([[ 170.02788104,  326.71685254],\n",
      "                             [ 380.98203222,  919.92627014]])\n",
      "model_data['e2'] = array([[ 172.83333333,  332.83333333],\n",
      "                          [ 551.5       ,  164.83333333]])\n",
      "e1 = model_data['e1']\n",
      "e2 = model_data['e2']\n",
      "muscles = dict()\n",
      "\n",
      "for key in model_data.keys():\n",
      "    if not(key in ['e1','e2']):\n",
      "        muscles[key] = model_data[key]\n",
      "        \n",
      "confocal_basis = Basis()\n",
      "confocal_basis['a1'] = e2[1]-e2[0]\n",
      "confocal_basis['a2'] = e1[1]-e2[0]\n",
      "confocal_basis['p'] = e2[0]\n",
      "musc = GeometricModel(muscles,confocal_basis)\n",
      "mv = ModelView(musc)"
     ],
     "language": "python",
     "metadata": {},
     "outputs": [],
     "prompt_number": 19
    },
    {
     "cell_type": "markdown",
     "metadata": {},
     "source": [
      "## Correlation plots"
     ]
    },
    {
     "cell_type": "code",
     "collapsed": false,
     "input": [
      "def warp_fly_image(fly,img):\n",
      "    import cv2\n",
      "    pkname = fly.fly_path + '/basis_fits.cpkl'\n",
      "    f = open(pkname);img_data = cPickle.load(f);f.close()\n",
      "    test_basis = Basis()\n",
      "    #print data.keys()\n",
      "    for key in ['A','p','a1','a2']:\n",
      "        test_basis[key] = img_data[key]\n",
      "    src_p0 = test_basis['a1'] + test_basis['p']\n",
      "    src_p1 = test_basis['p']\n",
      "    src_p2 = test_basis['a2'] + test_basis['p']\n",
      "    dst_p0 = confocal_basis['a1'] + confocal_basis['p']\n",
      "    dst_p1 = confocal_basis['p']\n",
      "    dst_p2 = confocal_basis['a2'] + confocal_basis['p']\n",
      "    A = cv2.getAffineTransform(np.float32([src_p0,src_p1,src_p2]),np.float32([dst_p0,dst_p1,dst_p2]))\n",
      "    X_warped = cv2.warpAffine(img.T,A,(1024,1024))\n",
      "    return X_warped\n",
      "\n",
      "\n",
      "def plot_swarm_corr(swarm):\n",
      "    corr_list = list()\n",
      "    norm_list = list()\n",
      "    for fly in swarm.flies:\n",
      "        f = open(fly.fly_path + 'img_stats.cpkl','rb')\n",
      "        stats = cPickle.load(f)\n",
      "        f.close()\n",
      "        corr_list.append([fly,stats['rwing']['corr_img'].reshape(130,174)])\n",
      "        norm_list.append([fly,stats['rwing']['norm_img'].reshape(130,174)])\n",
      "    warped_imgs = list()\n",
      "    subplot(1,2,1)\n",
      "    for fly,img in norm_list:\n",
      "        warped_imgs.append(warp_fly_image(fly,img))\n",
      "    imshow(mean(dstack(warped_imgs),axis = 2),cmap = cm.gray)\n",
      "    mv.plot(confocal_basis)\n",
      "    gca().set_xbound(0,1000)\n",
      "    gca().set_ybound(0,1000)\n",
      "    subplot(1,2,2)\n",
      "    warped_imgs = list()\n",
      "    for fly,img in corr_list:\n",
      "        warped_imgs.append(warp_fly_image(fly,img))\n",
      "    imshow(mean(dstack(warped_imgs),axis = 2),cmap = cm.gray)\n",
      "    mv.plot(confocal_basis)\n",
      "    gca().set_xbound(0,1000)\n",
      "    gca().set_ybound(0,1000)"
     ],
     "language": "python",
     "metadata": {},
     "outputs": [],
     "prompt_number": 126
    },
    {
     "cell_type": "code",
     "collapsed": false,
     "input": [
      "figure()\n",
      "plot_swarm_corr(GMR22H05_swarm)\n",
      "figure()\n",
      "plot_swarm_corr(GMR39E01_swarm)"
     ],
     "language": "python",
     "metadata": {},
     "outputs": [],
     "prompt_number": 127
    },
    {
     "cell_type": "code",
     "collapsed": false,
     "input": [
      "#code to calculate the summary stats for the data\n",
      "%pylab\n",
      "import flylib\n",
      "import db_access as dba\n",
      "fly_db = dba.get_db()\n",
      "test_group = range(334,337) #range(317,326)\n",
      "swarm = flylib.Squadron(fly_db,test_group)\n",
      "def wing_correlations(sig,imgs,fly = None):\n",
      "    #calculate some summary images including the correlation image\n",
      "    mean_img = mean(imgs,axis=0)\n",
      "    zeroed_img = imgs - mean_img\n",
      "    max_img = np.max(imgs,axis = 0)\n",
      "    norm_img = numpy.linalg.norm(zeroed_img,axis = 0)\n",
      "    norm_sig = numpy.linalg.norm(sig-np.mean(sig))\n",
      "    dot_img = sum(zeroed_img*(sig[:,newaxis,newaxis]-np.mean(sig)),axis = 0)\n",
      "    corr_img = dot_img/(norm_img*norm_sig)\n",
      "    return {'mean_img':mean_img,\n",
      "        'max_img':max_img,\n",
      "        'norm_img':norm_img,\n",
      "        'dot_img':dot_img,\n",
      "        'corr_img':corr_img}\n",
      "\n",
      "def imgs_stats(fly = None):\n",
      "    #get signals from fly\n",
      "    rwing = np.array(fly.experiments.values()[0].exp_record['tiff_data']['axon_framebase']['Ph1'])\n",
      "    lwing = np.array(fly.experiments.values()[0].exp_record['tiff_data']['axon_framebase']['Ph0'])\n",
      "    wbf = np.array(fly.experiments.values()[0].exp_record['tiff_data']['axon_framebase']['wb_frequency'])\n",
      "    StimCond = np.array(fly.experiments.values()[0].exp_record['tiff_data']['axon_framebase']['StimCond'])\n",
      "    images = np.array(fly.experiments.values()[0].exp_record['tiff_data']['images'])\n",
      "    mask = ((StimCond<0) & (wbf >150))[:shape(images)[0]]\n",
      "    print sum(mask)\n",
      "    return {'lwing':wing_correlations(lwing[mask],images[mask]),\n",
      "            'rwing':wing_correlations(rwing[mask],images[mask]),\n",
      "            'freq':wing_correlations(wbf[mask],images[mask])}\n",
      "\n",
      "import cPickle\n",
      "for fly in swarm.flies:\n",
      "    print fly.fly_num\n",
      "    stats = imgs_stats(fly = fly)\n",
      "    f = open(fly.fly_path + 'img_stats.cpkl','wb')\n",
      "    cPickle.dump(stats,f)\n",
      "    f.close()\n",
      "    \n",
      "for fly in swarm.flies:\n",
      "    f = open(fly.fly_path + 'img_stats.cpkl','rb')\n",
      "    stats = cPickle.load(f)\n",
      "    f.close()\n",
      "    figure()\n",
      "    imshow(stats['rwing']['corr_img'].reshape(130,174),cmap = cm.gray)"
     ],
     "language": "python",
     "metadata": {},
     "outputs": [
      {
       "output_type": "stream",
       "stream": "stdout",
       "text": [
        "Using matplotlib backend: WXAgg\n",
        "Populating the interactive namespace from numpy and matplotlib\n",
        "334"
       ]
      },
      {
       "output_type": "stream",
       "stream": "stdout",
       "text": [
        "\n",
        "17629"
       ]
      },
      {
       "output_type": "stream",
       "stream": "stdout",
       "text": [
        "\n",
        "335"
       ]
      },
      {
       "output_type": "stream",
       "stream": "stdout",
       "text": [
        "\n",
        "18822"
       ]
      },
      {
       "output_type": "stream",
       "stream": "stdout",
       "text": [
        "\n",
        "336"
       ]
      },
      {
       "output_type": "stream",
       "stream": "stdout",
       "text": [
        "\n",
        "18571"
       ]
      },
      {
       "output_type": "stream",
       "stream": "stdout",
       "text": [
        "\n"
       ]
      },
      {
       "output_type": "stream",
       "stream": "stderr",
       "text": [
        "WARNING: pylab import has clobbered these variables: ['f']\n",
        "`%matplotlib` prevents importing * from pylab and numpy\n"
       ]
      }
     ],
     "prompt_number": 5
    },
    {
     "cell_type": "markdown",
     "metadata": {},
     "source": [
      "###warp the fly data"
     ]
    },
    {
     "cell_type": "code",
     "collapsed": false,
     "input": [
      "testfly = GMR22H05_swarm.flies[0]\n",
      "flydir = testfly.fly_path\n",
      "imgs = testfly.experiments.values()[0].exp_record['tiff_data']['images']\n",
      "num_frames = shape(imgs)[0]\n",
      "output_shape = (num_frames,1024/4,1024/4)\n",
      "import h5py\n",
      "#warped_movie_file = h5py.File(flydir + 'warped_movie_compressed.hdf5')\n",
      "#dset = warped_movie_file.create_dataset('images',(output_shape),compression = \"gzip\")\n",
      "def warp_fly_movie(fly,input_dset,output_dset):\n",
      "    import cv2\n",
      "    import cPickle\n",
      "    pkname = fly.fly_path + '/basis_fits.cpkl'\n",
      "    f = open(pkname);img_data = cPickle.load(f);f.close()\n",
      "    test_basis = Basis()\n",
      "    #print data.keys()\n",
      "    for key in ['A','p','a1','a2']:\n",
      "        test_basis[key] = img_data[key]\n",
      "    src_p0 = test_basis['a1'] + test_basis['p']\n",
      "    src_p1 = test_basis['p']\n",
      "    src_p2 = test_basis['a2'] + test_basis['p']\n",
      "    dst_p0 = confocal_basis['a1'] + confocal_basis['p']\n",
      "    dst_p1 = confocal_basis['p']\n",
      "    dst_p2 = confocal_basis['a2'] + confocal_basis['p']\n",
      "    A = cv2.getAffineTransform(np.float32([src_p0,src_p1,src_p2]),np.float32([dst_p0,dst_p1,dst_p2]))\n",
      "    #compose to smaller image size\n",
      "    A = vstack((A,[0,0,1]))\n",
      "    S = np.array([[0.25,0,0],[0,0.25,0],[0,0,1]])\n",
      "    Ap = dot(S,A)[:2,:3]\n",
      "    for i in range(shape(input_dset)[0])[:30:10]:\n",
      "        idxs = range(i,i+10)\n",
      "        frames = [np.array(imgs[x]) for x in idxs]\n",
      "        print idxs\n",
      "        #X_warped = cv2.warpAffine(img.T,Ap,(1024/4,1024/4))\n",
      "        #output_dset[i] = X_warped\n",
      "        #if not(mod(i,100)):\n",
      "        #    print i\n",
      "    #testmovie = np.array(fly.fly_record['experiments'].values()[0]['tiff_data']['images'])\n",
      "    #n = shape(testmovie)[0]\n",
      "    #X_warped = [cv2.warpAffine(testmovie[frame].T,Ap,(256,256)).ravel() for frame in range(n)]\n",
      "    #X_warped = np.array(X_warped)\n",
      "    #import h5py\n",
      "    #f = h5py.File(fly.fly_path + \"warped_imgs.hdf5\", \"w\")\n",
      "    #f.create_group(\"warped_imgs\")\n",
      "    #f['warped_imgs'] = X_warped\n",
      "    #f.flush()\n",
      "    #f.close()"
     ],
     "language": "python",
     "metadata": {},
     "outputs": [],
     "prompt_number": 35
    },
    {
     "cell_type": "code",
     "collapsed": false,
     "input": [
      "warp_fly_movie(testfly,imgs,dset)"
     ],
     "language": "python",
     "metadata": {},
     "outputs": [
      {
       "output_type": "stream",
       "stream": "stdout",
       "text": [
        "[0, 1, 2, 3, 4, 5, 6, 7, 8, 9]\n",
        "[10, 11, 12, 13, 14, 15, 16, 17, 18, 19]\n",
        "[20, 21, 22, 23, 24, 25, 26, 27, 28, 29]\n"
       ]
      }
     ],
     "prompt_number": 36
    },
    {
     "cell_type": "code",
     "collapsed": false,
     "input": [],
     "language": "python",
     "metadata": {},
     "outputs": [
      {
       "metadata": {},
       "output_type": "pyout",
       "prompt_number": 31,
       "text": [
        "<matplotlib.image.AxesImage at 0x115852550>"
       ]
      }
     ],
     "prompt_number": 31
    },
    {
     "cell_type": "code",
     "collapsed": false,
     "input": [],
     "language": "python",
     "metadata": {},
     "outputs": [],
     "prompt_number": 155
    },
    {
     "cell_type": "code",
     "collapsed": false,
     "input": [],
     "language": "python",
     "metadata": {},
     "outputs": []
    },
    {
     "cell_type": "code",
     "collapsed": false,
     "input": [],
     "language": "python",
     "metadata": {},
     "outputs": []
    },
    {
     "cell_type": "code",
     "collapsed": false,
     "input": [],
     "language": "python",
     "metadata": {},
     "outputs": []
    },
    {
     "cell_type": "code",
     "collapsed": false,
     "input": [],
     "language": "python",
     "metadata": {},
     "outputs": []
    },
    {
     "cell_type": "code",
     "collapsed": false,
     "input": [
      "import opencl as cl\n",
      "import clyther as cly\n",
      "from ctypes import c_float\n",
      "import clyther.runtime as clrt\n",
      "import numpy as np\n",
      "from clyther.array import CLArrayContext"
     ],
     "language": "python",
     "metadata": {},
     "outputs": [],
     "prompt_number": 76
    },
    {
     "cell_type": "code",
     "collapsed": false,
     "input": [
      "ca = CLArrayContext(device_type=cl.Device.GPU)\n",
      "a = ca.arange(100, ctype='f')"
     ],
     "language": "python",
     "metadata": {},
     "outputs": [],
     "prompt_number": 77
    },
    {
     "cell_type": "code",
     "collapsed": false,
     "input": [
      "@cly.global_work_size(lambda a: a.shape)\n",
      "@cly.kernel\n",
      "def generate_sin(a):\n",
      "    ceil = clrt.math.ceil\n",
      "    gid = clrt.get_global_id(0)\n",
      "    n = clrt.get_global_size(0)\n",
      "    \n",
      "    r = c_float(gid) / c_float(n)\n",
      "    \n",
      "    # sin wave with 16 occilations\n",
      "    x = r * c_float(16.0 * 3.1415)\n",
      "    \n",
      "    # x is a range from -1 to 1\n",
      "    a[gid].x = r * 2.0 - 1.0\n",
      "    tmp = clrt.native_sin(x)\n",
      "    # y is sin wave\n",
      "    a[gid].y = tmp%3"
     ],
     "language": "python",
     "metadata": {},
     "outputs": [],
     "prompt_number": 78
    },
    {
     "cell_type": "code",
     "collapsed": false,
     "input": [
      "queue = cl.Queue(ca)\n",
      "\n",
      "a = ca.empty([200], cl.cl_float2)"
     ],
     "language": "python",
     "metadata": {},
     "outputs": [],
     "prompt_number": 79
    },
    {
     "cell_type": "code",
     "collapsed": false,
     "input": [
      "event = generate_sin(queue, a)\n",
      "event.wait()"
     ],
     "language": "python",
     "metadata": {},
     "outputs": [
      {
       "ename": "TypeError",
       "evalue": "object <module 'math' from '/Applications/Canopy.app/appdata/canopy-1.5.1.2730.macosx-x86_64/Canopy.app/Contents/lib/python2.7/lib-dynload/math.so'> is not a class",
       "output_type": "pyerr",
       "traceback": [
        "\u001b[0;31m---------------------------------------------------------------------------\u001b[0m\n\u001b[0;31mTypeError\u001b[0m                                 Traceback (most recent call last)",
        "\u001b[0;32m<ipython-input-80-7b4782a11a1b>\u001b[0m in \u001b[0;36m<module>\u001b[0;34m()\u001b[0m\n\u001b[0;32m----> 1\u001b[0;31m \u001b[0mevent\u001b[0m \u001b[0;34m=\u001b[0m \u001b[0mgenerate_sin\u001b[0m\u001b[0;34m(\u001b[0m\u001b[0mqueue\u001b[0m\u001b[0;34m,\u001b[0m \u001b[0ma\u001b[0m\u001b[0;34m)\u001b[0m\u001b[0;34m\u001b[0m\u001b[0m\n\u001b[0m\u001b[1;32m      2\u001b[0m \u001b[0mevent\u001b[0m\u001b[0;34m.\u001b[0m\u001b[0mwait\u001b[0m\u001b[0;34m(\u001b[0m\u001b[0;34m)\u001b[0m\u001b[0;34m\u001b[0m\u001b[0m\n",
        "\u001b[0;32m/Users/flyranch/Library/Enthought/Canopy_64bit/User/lib/python2.7/site-packages/Clyther-0.4b0-py2.7.egg/clyther/cly_kernel.pyc\u001b[0m in \u001b[0;36m__call__\u001b[0;34m(self, queue_or_context, *args, **kwargs)\u001b[0m\n\u001b[1;32m    124\u001b[0m         \u001b[0mkwarg_types\u001b[0m \u001b[0;34m=\u001b[0m \u001b[0;34m{\u001b[0m\u001b[0margnames\u001b[0m\u001b[0;34m[\u001b[0m\u001b[0mi\u001b[0m\u001b[0;34m]\u001b[0m\u001b[0;34m:\u001b[0m\u001b[0mtypeof\u001b[0m\u001b[0;34m(\u001b[0m\u001b[0mqueue\u001b[0m\u001b[0;34m.\u001b[0m\u001b[0mcontext\u001b[0m\u001b[0;34m,\u001b[0m \u001b[0marglist\u001b[0m\u001b[0;34m[\u001b[0m\u001b[0mi\u001b[0m\u001b[0;34m]\u001b[0m\u001b[0;34m)\u001b[0m \u001b[0;32mfor\u001b[0m \u001b[0mi\u001b[0m \u001b[0;32min\u001b[0m \u001b[0mrange\u001b[0m\u001b[0;34m(\u001b[0m\u001b[0mlen\u001b[0m\u001b[0;34m(\u001b[0m\u001b[0margnames\u001b[0m\u001b[0;34m)\u001b[0m\u001b[0;34m)\u001b[0m\u001b[0;34m}\u001b[0m\u001b[0;34m\u001b[0m\u001b[0m\n\u001b[1;32m    125\u001b[0m \u001b[0;34m\u001b[0m\u001b[0m\n\u001b[0;32m--> 126\u001b[0;31m         \u001b[0mcl_kernel\u001b[0m \u001b[0;34m=\u001b[0m \u001b[0mself\u001b[0m\u001b[0;34m.\u001b[0m\u001b[0mcompile\u001b[0m\u001b[0;34m(\u001b[0m\u001b[0mqueue\u001b[0m\u001b[0;34m.\u001b[0m\u001b[0mcontext\u001b[0m\u001b[0;34m,\u001b[0m \u001b[0;34m**\u001b[0m\u001b[0mkwarg_types\u001b[0m\u001b[0;34m)\u001b[0m\u001b[0;34m\u001b[0m\u001b[0m\n\u001b[0m\u001b[1;32m    127\u001b[0m \u001b[0;34m\u001b[0m\u001b[0m\n\u001b[1;32m    128\u001b[0m         \u001b[0mkernel_args\u001b[0m \u001b[0;34m=\u001b[0m \u001b[0mself\u001b[0m\u001b[0;34m.\u001b[0m\u001b[0m_unpack\u001b[0m\u001b[0;34m(\u001b[0m\u001b[0margnames\u001b[0m\u001b[0;34m,\u001b[0m \u001b[0marglist\u001b[0m\u001b[0;34m,\u001b[0m \u001b[0mkwarg_types\u001b[0m\u001b[0;34m)\u001b[0m\u001b[0;34m\u001b[0m\u001b[0m\n",
        "\u001b[0;32m/Users/flyranch/Library/Enthought/Canopy_64bit/User/lib/python2.7/site-packages/Clyther-0.4b0-py2.7.egg/clyther/cly_kernel.pyc\u001b[0m in \u001b[0;36mcompile\u001b[0;34m(self, ctx, source_only, cly_meta, **kwargs)\u001b[0m\n\u001b[1;32m    155\u001b[0m         \u001b[0;31m#Check for in memory cache\u001b[0m\u001b[0;34m\u001b[0m\u001b[0;34m\u001b[0m\u001b[0m\n\u001b[1;32m    156\u001b[0m         \u001b[0;32mif\u001b[0m \u001b[0mcache_key\u001b[0m \u001b[0;32mnot\u001b[0m \u001b[0;32min\u001b[0m \u001b[0mcache\u001b[0m \u001b[0;32mor\u001b[0m \u001b[0mself\u001b[0m\u001b[0;34m.\u001b[0m\u001b[0m_no_cache\u001b[0m\u001b[0;34m:\u001b[0m\u001b[0;34m\u001b[0m\u001b[0m\n\u001b[0;32m--> 157\u001b[0;31m             \u001b[0mcl_kernel\u001b[0m \u001b[0;34m=\u001b[0m \u001b[0mself\u001b[0m\u001b[0;34m.\u001b[0m\u001b[0mcompile_or_cly\u001b[0m\u001b[0;34m(\u001b[0m\u001b[0mctx\u001b[0m\u001b[0;34m,\u001b[0m \u001b[0msource_only\u001b[0m\u001b[0;34m=\u001b[0m\u001b[0msource_only\u001b[0m\u001b[0;34m,\u001b[0m \u001b[0mcly_meta\u001b[0m\u001b[0;34m=\u001b[0m\u001b[0mcly_meta\u001b[0m\u001b[0;34m,\u001b[0m \u001b[0;34m**\u001b[0m\u001b[0mkwargs\u001b[0m\u001b[0;34m)\u001b[0m\u001b[0;34m\u001b[0m\u001b[0m\n\u001b[0m\u001b[1;32m    158\u001b[0m \u001b[0;34m\u001b[0m\u001b[0m\n\u001b[1;32m    159\u001b[0m             \u001b[0mcache\u001b[0m\u001b[0;34m[\u001b[0m\u001b[0mcache_key\u001b[0m\u001b[0;34m]\u001b[0m \u001b[0;34m=\u001b[0m \u001b[0mcl_kernel\u001b[0m\u001b[0;34m\u001b[0m\u001b[0m\n",
        "\u001b[0;32m/Users/flyranch/Library/Enthought/Canopy_64bit/User/lib/python2.7/site-packages/Clyther-0.4b0-py2.7.egg/clyther/cly_kernel.pyc\u001b[0m in \u001b[0;36mcompile_or_cly\u001b[0;34m(self, ctx, source_only, cly_meta, **kwargs)\u001b[0m\n\u001b[1;32m    203\u001b[0m             \u001b[0mprogram\u001b[0m\u001b[0;34m,\u001b[0m \u001b[0mkernel_name\u001b[0m\u001b[0;34m,\u001b[0m \u001b[0margs\u001b[0m\u001b[0;34m,\u001b[0m \u001b[0mdefaults\u001b[0m \u001b[0;34m=\u001b[0m \u001b[0mself\u001b[0m\u001b[0;34m.\u001b[0m\u001b[0m_file_cacher\u001b[0m\u001b[0;34m.\u001b[0m\u001b[0mget\u001b[0m\u001b[0;34m(\u001b[0m\u001b[0mctx\u001b[0m\u001b[0;34m,\u001b[0m \u001b[0mself\u001b[0m\u001b[0;34m.\u001b[0m\u001b[0mfunc\u001b[0m\u001b[0;34m,\u001b[0m \u001b[0mcache_key\u001b[0m\u001b[0;34m)\u001b[0m\u001b[0;34m\u001b[0m\u001b[0m\n\u001b[1;32m    204\u001b[0m         \u001b[0;32melse\u001b[0m\u001b[0;34m:\u001b[0m\u001b[0;34m\u001b[0m\u001b[0m\n\u001b[0;32m--> 205\u001b[0;31m             \u001b[0margs\u001b[0m\u001b[0;34m,\u001b[0m \u001b[0mdefaults\u001b[0m\u001b[0;34m,\u001b[0m \u001b[0mkernel_name\u001b[0m\u001b[0;34m,\u001b[0m \u001b[0msource\u001b[0m \u001b[0;34m=\u001b[0m \u001b[0mself\u001b[0m\u001b[0;34m.\u001b[0m\u001b[0mtranslate\u001b[0m\u001b[0;34m(\u001b[0m\u001b[0mctx\u001b[0m\u001b[0;34m,\u001b[0m \u001b[0;34m**\u001b[0m\u001b[0mkwargs\u001b[0m\u001b[0;34m)\u001b[0m\u001b[0;34m\u001b[0m\u001b[0m\n\u001b[0m\u001b[1;32m    206\u001b[0m \u001b[0;34m\u001b[0m\u001b[0m\n\u001b[1;32m    207\u001b[0m             \u001b[0mprogram\u001b[0m \u001b[0;34m=\u001b[0m \u001b[0mself\u001b[0m\u001b[0;34m.\u001b[0m\u001b[0m_compile\u001b[0m\u001b[0;34m(\u001b[0m\u001b[0mctx\u001b[0m\u001b[0;34m,\u001b[0m \u001b[0margs\u001b[0m\u001b[0;34m,\u001b[0m \u001b[0mdefaults\u001b[0m\u001b[0;34m,\u001b[0m \u001b[0mkernel_name\u001b[0m\u001b[0;34m,\u001b[0m \u001b[0msource\u001b[0m\u001b[0;34m)\u001b[0m\u001b[0;34m\u001b[0m\u001b[0m\n",
        "\u001b[0;32m/Users/flyranch/Library/Enthought/Canopy_64bit/User/lib/python2.7/site-packages/Clyther-0.4b0-py2.7.egg/clyther/cly_kernel.pyc\u001b[0m in \u001b[0;36mtranslate\u001b[0;34m(self, ctx, **kwargs)\u001b[0m\n\u001b[1;32m    228\u001b[0m         '''\n\u001b[1;32m    229\u001b[0m         \u001b[0;32mtry\u001b[0m\u001b[0;34m:\u001b[0m\u001b[0;34m\u001b[0m\u001b[0m\n\u001b[0;32m--> 230\u001b[0;31m             \u001b[0margs\u001b[0m\u001b[0;34m,\u001b[0m \u001b[0mdefaults\u001b[0m\u001b[0;34m,\u001b[0m \u001b[0msource\u001b[0m\u001b[0;34m,\u001b[0m \u001b[0mkernel_name\u001b[0m \u001b[0;34m=\u001b[0m \u001b[0mcreate_kernel_source\u001b[0m\u001b[0;34m(\u001b[0m\u001b[0mself\u001b[0m\u001b[0;34m.\u001b[0m\u001b[0mfunc\u001b[0m\u001b[0;34m,\u001b[0m \u001b[0mkwargs\u001b[0m\u001b[0;34m)\u001b[0m\u001b[0;34m\u001b[0m\u001b[0m\n\u001b[0m\u001b[1;32m    231\u001b[0m         \u001b[0;32mexcept\u001b[0m \u001b[0mcast\u001b[0m\u001b[0;34m.\u001b[0m\u001b[0mCError\u001b[0m \u001b[0;32mas\u001b[0m \u001b[0merror\u001b[0m\u001b[0;34m:\u001b[0m\u001b[0;34m\u001b[0m\u001b[0m\n\u001b[1;32m    232\u001b[0m             \u001b[0;32mif\u001b[0m \u001b[0mself\u001b[0m\u001b[0;34m.\u001b[0m\u001b[0m_development_mode\u001b[0m\u001b[0;34m:\u001b[0m \u001b[0;32mraise\u001b[0m\u001b[0;34m\u001b[0m\u001b[0m\n",
        "\u001b[0;32m/Users/flyranch/Library/Enthought/Canopy_64bit/User/lib/python2.7/site-packages/Clyther-0.4b0-py2.7.egg/clyther/pipeline.pyc\u001b[0m in \u001b[0;36mcreate_kernel_source\u001b[0;34m(function, argtypes)\u001b[0m\n\u001b[1;32m    106\u001b[0m \u001b[0;34m\u001b[0m\u001b[0m\n\u001b[1;32m    107\u001b[0m     \u001b[0;31m#replace python type objects with strings\u001b[0m\u001b[0;34m\u001b[0m\u001b[0;34m\u001b[0m\u001b[0m\n\u001b[0;32m--> 108\u001b[0;31m     \u001b[0mreplace_types\u001b[0m\u001b[0;34m(\u001b[0m\u001b[0mmod_ast\u001b[0m\u001b[0;34m)\u001b[0m\u001b[0;34m\u001b[0m\u001b[0m\n\u001b[0m\u001b[1;32m    109\u001b[0m \u001b[0;34m\u001b[0m\u001b[0m\n\u001b[1;32m    110\u001b[0m \u001b[0;31m#    mod_ast.body.insert(0, ast.Exec(cast.CStr('#pragma OPENCL EXTENSION cl_amd_printf : enable', str), None, None))\u001b[0m\u001b[0;34m\u001b[0m\u001b[0;34m\u001b[0m\u001b[0m\n",
        "\u001b[0;32m/Users/flyranch/Library/Enthought/Canopy_64bit/User/lib/python2.7/site-packages/Clyther-0.4b0-py2.7.egg/clyther/rttt.pyc\u001b[0m in \u001b[0;36mreplace_types\u001b[0;34m(node)\u001b[0m\n\u001b[1;32m    436\u001b[0m \u001b[0;34m\u001b[0m\u001b[0m\n\u001b[1;32m    437\u001b[0m     \u001b[0mtype_replacer\u001b[0m\u001b[0;34m.\u001b[0m\u001b[0mmutate\u001b[0m\u001b[0;34m(\u001b[0m\u001b[0mnode\u001b[0m\u001b[0;34m)\u001b[0m\u001b[0;34m\u001b[0m\u001b[0m\n\u001b[0;32m--> 438\u001b[0;31m     \u001b[0mtype_replacer\u001b[0m\u001b[0;34m.\u001b[0m\u001b[0mvisit\u001b[0m\u001b[0;34m(\u001b[0m\u001b[0mnode\u001b[0m\u001b[0;34m)\u001b[0m\u001b[0;34m\u001b[0m\u001b[0m\n\u001b[0m\u001b[1;32m    439\u001b[0m \u001b[0;34m\u001b[0m\u001b[0m\n\u001b[1;32m    440\u001b[0m     \u001b[0;32mfor\u001b[0m \u001b[0mname\u001b[0m\u001b[0;34m,\u001b[0m \u001b[0mctype\u001b[0m \u001b[0;32min\u001b[0m \u001b[0mtype_replacer\u001b[0m\u001b[0;34m.\u001b[0m\u001b[0mnew_types\u001b[0m\u001b[0;34m.\u001b[0m\u001b[0mitems\u001b[0m\u001b[0;34m(\u001b[0m\u001b[0;34m)\u001b[0m\u001b[0;34m:\u001b[0m\u001b[0;34m\u001b[0m\u001b[0m\n",
        "\u001b[0;32m/Users/flyranch/Library/Enthought/Canopy_64bit/User/lib/python2.7/site-packages/meta-_-py2.7.egg/meta/asttools/visitors/__init__.pyc\u001b[0m in \u001b[0;36mvisit\u001b[0;34m(self, node, *args, **kwargs)\u001b[0m\n\u001b[1;32m     45\u001b[0m         \u001b[0;32melif\u001b[0m \u001b[0mhasattr\u001b[0m\u001b[0;34m(\u001b[0m\u001b[0mself\u001b[0m\u001b[0;34m,\u001b[0m \u001b[0;34m'visitDefault'\u001b[0m\u001b[0;34m)\u001b[0m\u001b[0;34m:\u001b[0m\u001b[0;34m\u001b[0m\u001b[0m\n\u001b[1;32m     46\u001b[0m             \u001b[0mmehtod\u001b[0m \u001b[0;34m=\u001b[0m \u001b[0mgetattr\u001b[0m\u001b[0;34m(\u001b[0m\u001b[0mself\u001b[0m\u001b[0;34m,\u001b[0m \u001b[0;34m'visitDefault'\u001b[0m\u001b[0;34m)\u001b[0m\u001b[0;34m\u001b[0m\u001b[0m\n\u001b[0;32m---> 47\u001b[0;31m             \u001b[0;32mreturn\u001b[0m \u001b[0mmehtod\u001b[0m\u001b[0;34m(\u001b[0m\u001b[0mnode\u001b[0m\u001b[0;34m,\u001b[0m \u001b[0;34m*\u001b[0m\u001b[0margs\u001b[0m\u001b[0;34m,\u001b[0m \u001b[0;34m**\u001b[0m\u001b[0mkwargs\u001b[0m\u001b[0;34m)\u001b[0m\u001b[0;34m\u001b[0m\u001b[0m\n\u001b[0m\u001b[1;32m     48\u001b[0m         \u001b[0;32melse\u001b[0m\u001b[0;34m:\u001b[0m\u001b[0;34m\u001b[0m\u001b[0m\n\u001b[1;32m     49\u001b[0m             \u001b[0mmehtod\u001b[0m \u001b[0;34m=\u001b[0m \u001b[0mgetattr\u001b[0m\u001b[0;34m(\u001b[0m\u001b[0mself\u001b[0m\u001b[0;34m,\u001b[0m \u001b[0;34m'visit'\u001b[0m \u001b[0;34m+\u001b[0m \u001b[0mnode_name\u001b[0m\u001b[0;34m)\u001b[0m\u001b[0;34m\u001b[0m\u001b[0m\n",
        "\u001b[0;32m/Users/flyranch/Library/Enthought/Canopy_64bit/User/lib/python2.7/site-packages/Clyther-0.4b0-py2.7.egg/clyther/rttt.pyc\u001b[0m in \u001b[0;36mvisitDefault\u001b[0;34m(self, node)\u001b[0m\n\u001b[1;32m    414\u001b[0m                 \u001b[0mnode\u001b[0m\u001b[0;34m.\u001b[0m\u001b[0mctype\u001b[0m \u001b[0;34m=\u001b[0m \u001b[0mcast\u001b[0m\u001b[0;34m.\u001b[0m\u001b[0mCTypeName\u001b[0m\u001b[0;34m(\u001b[0m\u001b[0mtype_repr\u001b[0m\u001b[0;34m)\u001b[0m\u001b[0;34m\u001b[0m\u001b[0m\n\u001b[1;32m    415\u001b[0m \u001b[0;34m\u001b[0m\u001b[0m\n\u001b[0;32m--> 416\u001b[0;31m         \u001b[0mvisit_children\u001b[0m\u001b[0;34m(\u001b[0m\u001b[0mself\u001b[0m\u001b[0;34m,\u001b[0m \u001b[0mnode\u001b[0m\u001b[0;34m)\u001b[0m\u001b[0;34m\u001b[0m\u001b[0m\n\u001b[0m\u001b[1;32m    417\u001b[0m \u001b[0;34m\u001b[0m\u001b[0m\n\u001b[1;32m    418\u001b[0m \u001b[0;34m\u001b[0m\u001b[0m\n",
        "\u001b[0;32m/Users/flyranch/Library/Enthought/Canopy_64bit/User/lib/python2.7/site-packages/meta-_-py2.7.egg/meta/asttools/visitors/__init__.pyc\u001b[0m in \u001b[0;36mvisit_children\u001b[0;34m(self, node)\u001b[0m\n\u001b[1;32m      7\u001b[0m \u001b[0;32mdef\u001b[0m \u001b[0mvisit_children\u001b[0m\u001b[0;34m(\u001b[0m\u001b[0mself\u001b[0m\u001b[0;34m,\u001b[0m \u001b[0mnode\u001b[0m\u001b[0;34m)\u001b[0m\u001b[0;34m:\u001b[0m\u001b[0;34m\u001b[0m\u001b[0m\n\u001b[1;32m      8\u001b[0m     \u001b[0;32mfor\u001b[0m \u001b[0mchild\u001b[0m \u001b[0;32min\u001b[0m \u001b[0mself\u001b[0m\u001b[0;34m.\u001b[0m\u001b[0mchildren\u001b[0m\u001b[0;34m(\u001b[0m\u001b[0mnode\u001b[0m\u001b[0;34m)\u001b[0m\u001b[0;34m:\u001b[0m\u001b[0;34m\u001b[0m\u001b[0m\n\u001b[0;32m----> 9\u001b[0;31m         \u001b[0mself\u001b[0m\u001b[0;34m.\u001b[0m\u001b[0mvisit\u001b[0m\u001b[0;34m(\u001b[0m\u001b[0mchild\u001b[0m\u001b[0;34m)\u001b[0m\u001b[0;34m\u001b[0m\u001b[0m\n\u001b[0m\u001b[1;32m     10\u001b[0m \u001b[0;34m\u001b[0m\u001b[0m\n\u001b[1;32m     11\u001b[0m \u001b[0;34m\u001b[0m\u001b[0m\n",
        "\u001b[0;32m/Users/flyranch/Library/Enthought/Canopy_64bit/User/lib/python2.7/site-packages/meta-_-py2.7.egg/meta/asttools/visitors/__init__.pyc\u001b[0m in \u001b[0;36mvisit\u001b[0;34m(self, node, *args, **kwargs)\u001b[0m\n\u001b[1;32m     42\u001b[0m         \u001b[0;32mif\u001b[0m \u001b[0mhasattr\u001b[0m\u001b[0;34m(\u001b[0m\u001b[0mself\u001b[0m\u001b[0;34m,\u001b[0m \u001b[0mattr\u001b[0m\u001b[0;34m)\u001b[0m\u001b[0;34m:\u001b[0m\u001b[0;34m\u001b[0m\u001b[0m\n\u001b[1;32m     43\u001b[0m             \u001b[0mmehtod\u001b[0m \u001b[0;34m=\u001b[0m \u001b[0mgetattr\u001b[0m\u001b[0;34m(\u001b[0m\u001b[0mself\u001b[0m\u001b[0;34m,\u001b[0m \u001b[0;34m'visit'\u001b[0m \u001b[0;34m+\u001b[0m \u001b[0mnode_name\u001b[0m\u001b[0;34m)\u001b[0m\u001b[0;34m\u001b[0m\u001b[0m\n\u001b[0;32m---> 44\u001b[0;31m             \u001b[0;32mreturn\u001b[0m \u001b[0mmehtod\u001b[0m\u001b[0;34m(\u001b[0m\u001b[0mnode\u001b[0m\u001b[0;34m,\u001b[0m \u001b[0;34m*\u001b[0m\u001b[0margs\u001b[0m\u001b[0;34m,\u001b[0m \u001b[0;34m**\u001b[0m\u001b[0mkwargs\u001b[0m\u001b[0;34m)\u001b[0m\u001b[0;34m\u001b[0m\u001b[0m\n\u001b[0m\u001b[1;32m     45\u001b[0m         \u001b[0;32melif\u001b[0m \u001b[0mhasattr\u001b[0m\u001b[0;34m(\u001b[0m\u001b[0mself\u001b[0m\u001b[0;34m,\u001b[0m \u001b[0;34m'visitDefault'\u001b[0m\u001b[0;34m)\u001b[0m\u001b[0;34m:\u001b[0m\u001b[0;34m\u001b[0m\u001b[0m\n\u001b[1;32m     46\u001b[0m             \u001b[0mmehtod\u001b[0m \u001b[0;34m=\u001b[0m \u001b[0mgetattr\u001b[0m\u001b[0;34m(\u001b[0m\u001b[0mself\u001b[0m\u001b[0;34m,\u001b[0m \u001b[0;34m'visitDefault'\u001b[0m\u001b[0;34m)\u001b[0m\u001b[0;34m\u001b[0m\u001b[0m\n",
        "\u001b[0;32m/Users/flyranch/Library/Enthought/Canopy_64bit/User/lib/python2.7/site-packages/Clyther-0.4b0-py2.7.egg/clyther/rttt.pyc\u001b[0m in \u001b[0;36mvisitCFunctionDef\u001b[0;34m(self, node)\u001b[0m\n\u001b[1;32m    379\u001b[0m             \u001b[0mnode\u001b[0m\u001b[0;34m.\u001b[0m\u001b[0mreturn_type\u001b[0m \u001b[0;34m=\u001b[0m \u001b[0mcast\u001b[0m\u001b[0;34m.\u001b[0m\u001b[0mCTypeName\u001b[0m\u001b[0;34m(\u001b[0m\u001b[0mstr_type\u001b[0m\u001b[0;34m(\u001b[0m\u001b[0mnode\u001b[0m\u001b[0;34m.\u001b[0m\u001b[0mreturn_type\u001b[0m\u001b[0;34m,\u001b[0m \u001b[0mself\u001b[0m\u001b[0;34m.\u001b[0m\u001b[0mdefined_types\u001b[0m\u001b[0;34m)\u001b[0m\u001b[0;34m)\u001b[0m\u001b[0;34m\u001b[0m\u001b[0m\n\u001b[1;32m    380\u001b[0m \u001b[0;34m\u001b[0m\u001b[0m\n\u001b[0;32m--> 381\u001b[0;31m         \u001b[0mself\u001b[0m\u001b[0;34m.\u001b[0m\u001b[0mvisitDefault\u001b[0m\u001b[0;34m(\u001b[0m\u001b[0mnode\u001b[0m\u001b[0;34m)\u001b[0m\u001b[0;34m\u001b[0m\u001b[0m\n\u001b[0m\u001b[1;32m    382\u001b[0m \u001b[0;34m\u001b[0m\u001b[0m\n\u001b[1;32m    383\u001b[0m     \u001b[0;32mdef\u001b[0m \u001b[0mmutateDefault\u001b[0m\u001b[0;34m(\u001b[0m\u001b[0mself\u001b[0m\u001b[0;34m,\u001b[0m \u001b[0mnode\u001b[0m\u001b[0;34m)\u001b[0m\u001b[0;34m:\u001b[0m\u001b[0;34m\u001b[0m\u001b[0m\n",
        "\u001b[0;32m/Users/flyranch/Library/Enthought/Canopy_64bit/User/lib/python2.7/site-packages/Clyther-0.4b0-py2.7.egg/clyther/rttt.pyc\u001b[0m in \u001b[0;36mvisitDefault\u001b[0;34m(self, node)\u001b[0m\n\u001b[1;32m    414\u001b[0m                 \u001b[0mnode\u001b[0m\u001b[0;34m.\u001b[0m\u001b[0mctype\u001b[0m \u001b[0;34m=\u001b[0m \u001b[0mcast\u001b[0m\u001b[0;34m.\u001b[0m\u001b[0mCTypeName\u001b[0m\u001b[0;34m(\u001b[0m\u001b[0mtype_repr\u001b[0m\u001b[0;34m)\u001b[0m\u001b[0;34m\u001b[0m\u001b[0m\n\u001b[1;32m    415\u001b[0m \u001b[0;34m\u001b[0m\u001b[0m\n\u001b[0;32m--> 416\u001b[0;31m         \u001b[0mvisit_children\u001b[0m\u001b[0;34m(\u001b[0m\u001b[0mself\u001b[0m\u001b[0;34m,\u001b[0m \u001b[0mnode\u001b[0m\u001b[0;34m)\u001b[0m\u001b[0;34m\u001b[0m\u001b[0m\n\u001b[0m\u001b[1;32m    417\u001b[0m \u001b[0;34m\u001b[0m\u001b[0m\n\u001b[1;32m    418\u001b[0m \u001b[0;34m\u001b[0m\u001b[0m\n",
        "\u001b[0;32m/Users/flyranch/Library/Enthought/Canopy_64bit/User/lib/python2.7/site-packages/meta-_-py2.7.egg/meta/asttools/visitors/__init__.pyc\u001b[0m in \u001b[0;36mvisit_children\u001b[0;34m(self, node)\u001b[0m\n\u001b[1;32m      7\u001b[0m \u001b[0;32mdef\u001b[0m \u001b[0mvisit_children\u001b[0m\u001b[0;34m(\u001b[0m\u001b[0mself\u001b[0m\u001b[0;34m,\u001b[0m \u001b[0mnode\u001b[0m\u001b[0;34m)\u001b[0m\u001b[0;34m:\u001b[0m\u001b[0;34m\u001b[0m\u001b[0m\n\u001b[1;32m      8\u001b[0m     \u001b[0;32mfor\u001b[0m \u001b[0mchild\u001b[0m \u001b[0;32min\u001b[0m \u001b[0mself\u001b[0m\u001b[0;34m.\u001b[0m\u001b[0mchildren\u001b[0m\u001b[0;34m(\u001b[0m\u001b[0mnode\u001b[0m\u001b[0;34m)\u001b[0m\u001b[0;34m:\u001b[0m\u001b[0;34m\u001b[0m\u001b[0m\n\u001b[0;32m----> 9\u001b[0;31m         \u001b[0mself\u001b[0m\u001b[0;34m.\u001b[0m\u001b[0mvisit\u001b[0m\u001b[0;34m(\u001b[0m\u001b[0mchild\u001b[0m\u001b[0;34m)\u001b[0m\u001b[0;34m\u001b[0m\u001b[0m\n\u001b[0m\u001b[1;32m     10\u001b[0m \u001b[0;34m\u001b[0m\u001b[0m\n\u001b[1;32m     11\u001b[0m \u001b[0;34m\u001b[0m\u001b[0m\n",
        "\u001b[0;32m/Users/flyranch/Library/Enthought/Canopy_64bit/User/lib/python2.7/site-packages/meta-_-py2.7.egg/meta/asttools/visitors/__init__.pyc\u001b[0m in \u001b[0;36mvisit\u001b[0;34m(self, node, *args, **kwargs)\u001b[0m\n\u001b[1;32m     45\u001b[0m         \u001b[0;32melif\u001b[0m \u001b[0mhasattr\u001b[0m\u001b[0;34m(\u001b[0m\u001b[0mself\u001b[0m\u001b[0;34m,\u001b[0m \u001b[0;34m'visitDefault'\u001b[0m\u001b[0;34m)\u001b[0m\u001b[0;34m:\u001b[0m\u001b[0;34m\u001b[0m\u001b[0m\n\u001b[1;32m     46\u001b[0m             \u001b[0mmehtod\u001b[0m \u001b[0;34m=\u001b[0m \u001b[0mgetattr\u001b[0m\u001b[0;34m(\u001b[0m\u001b[0mself\u001b[0m\u001b[0;34m,\u001b[0m \u001b[0;34m'visitDefault'\u001b[0m\u001b[0;34m)\u001b[0m\u001b[0;34m\u001b[0m\u001b[0m\n\u001b[0;32m---> 47\u001b[0;31m             \u001b[0;32mreturn\u001b[0m \u001b[0mmehtod\u001b[0m\u001b[0;34m(\u001b[0m\u001b[0mnode\u001b[0m\u001b[0;34m,\u001b[0m \u001b[0;34m*\u001b[0m\u001b[0margs\u001b[0m\u001b[0;34m,\u001b[0m \u001b[0;34m**\u001b[0m\u001b[0mkwargs\u001b[0m\u001b[0;34m)\u001b[0m\u001b[0;34m\u001b[0m\u001b[0m\n\u001b[0m\u001b[1;32m     48\u001b[0m         \u001b[0;32melse\u001b[0m\u001b[0;34m:\u001b[0m\u001b[0;34m\u001b[0m\u001b[0m\n\u001b[1;32m     49\u001b[0m             \u001b[0mmehtod\u001b[0m \u001b[0;34m=\u001b[0m \u001b[0mgetattr\u001b[0m\u001b[0;34m(\u001b[0m\u001b[0mself\u001b[0m\u001b[0;34m,\u001b[0m \u001b[0;34m'visit'\u001b[0m \u001b[0;34m+\u001b[0m \u001b[0mnode_name\u001b[0m\u001b[0;34m)\u001b[0m\u001b[0;34m\u001b[0m\u001b[0m\n",
        "\u001b[0;32m/Users/flyranch/Library/Enthought/Canopy_64bit/User/lib/python2.7/site-packages/Clyther-0.4b0-py2.7.egg/clyther/rttt.pyc\u001b[0m in \u001b[0;36mvisitDefault\u001b[0;34m(self, node)\u001b[0m\n\u001b[1;32m    414\u001b[0m                 \u001b[0mnode\u001b[0m\u001b[0;34m.\u001b[0m\u001b[0mctype\u001b[0m \u001b[0;34m=\u001b[0m \u001b[0mcast\u001b[0m\u001b[0;34m.\u001b[0m\u001b[0mCTypeName\u001b[0m\u001b[0;34m(\u001b[0m\u001b[0mtype_repr\u001b[0m\u001b[0;34m)\u001b[0m\u001b[0;34m\u001b[0m\u001b[0m\n\u001b[1;32m    415\u001b[0m \u001b[0;34m\u001b[0m\u001b[0m\n\u001b[0;32m--> 416\u001b[0;31m         \u001b[0mvisit_children\u001b[0m\u001b[0;34m(\u001b[0m\u001b[0mself\u001b[0m\u001b[0;34m,\u001b[0m \u001b[0mnode\u001b[0m\u001b[0;34m)\u001b[0m\u001b[0;34m\u001b[0m\u001b[0m\n\u001b[0m\u001b[1;32m    417\u001b[0m \u001b[0;34m\u001b[0m\u001b[0m\n\u001b[1;32m    418\u001b[0m \u001b[0;34m\u001b[0m\u001b[0m\n",
        "\u001b[0;32m/Users/flyranch/Library/Enthought/Canopy_64bit/User/lib/python2.7/site-packages/meta-_-py2.7.egg/meta/asttools/visitors/__init__.pyc\u001b[0m in \u001b[0;36mvisit_children\u001b[0;34m(self, node)\u001b[0m\n\u001b[1;32m      7\u001b[0m \u001b[0;32mdef\u001b[0m \u001b[0mvisit_children\u001b[0m\u001b[0;34m(\u001b[0m\u001b[0mself\u001b[0m\u001b[0;34m,\u001b[0m \u001b[0mnode\u001b[0m\u001b[0;34m)\u001b[0m\u001b[0;34m:\u001b[0m\u001b[0;34m\u001b[0m\u001b[0m\n\u001b[1;32m      8\u001b[0m     \u001b[0;32mfor\u001b[0m \u001b[0mchild\u001b[0m \u001b[0;32min\u001b[0m \u001b[0mself\u001b[0m\u001b[0;34m.\u001b[0m\u001b[0mchildren\u001b[0m\u001b[0;34m(\u001b[0m\u001b[0mnode\u001b[0m\u001b[0;34m)\u001b[0m\u001b[0;34m:\u001b[0m\u001b[0;34m\u001b[0m\u001b[0m\n\u001b[0;32m----> 9\u001b[0;31m         \u001b[0mself\u001b[0m\u001b[0;34m.\u001b[0m\u001b[0mvisit\u001b[0m\u001b[0;34m(\u001b[0m\u001b[0mchild\u001b[0m\u001b[0;34m)\u001b[0m\u001b[0;34m\u001b[0m\u001b[0m\n\u001b[0m\u001b[1;32m     10\u001b[0m \u001b[0;34m\u001b[0m\u001b[0m\n\u001b[1;32m     11\u001b[0m \u001b[0;34m\u001b[0m\u001b[0m\n",
        "\u001b[0;32m/Users/flyranch/Library/Enthought/Canopy_64bit/User/lib/python2.7/site-packages/meta-_-py2.7.egg/meta/asttools/visitors/__init__.pyc\u001b[0m in \u001b[0;36mvisit\u001b[0;34m(self, node, *args, **kwargs)\u001b[0m\n\u001b[1;32m     45\u001b[0m         \u001b[0;32melif\u001b[0m \u001b[0mhasattr\u001b[0m\u001b[0;34m(\u001b[0m\u001b[0mself\u001b[0m\u001b[0;34m,\u001b[0m \u001b[0;34m'visitDefault'\u001b[0m\u001b[0;34m)\u001b[0m\u001b[0;34m:\u001b[0m\u001b[0;34m\u001b[0m\u001b[0m\n\u001b[1;32m     46\u001b[0m             \u001b[0mmehtod\u001b[0m \u001b[0;34m=\u001b[0m \u001b[0mgetattr\u001b[0m\u001b[0;34m(\u001b[0m\u001b[0mself\u001b[0m\u001b[0;34m,\u001b[0m \u001b[0;34m'visitDefault'\u001b[0m\u001b[0;34m)\u001b[0m\u001b[0;34m\u001b[0m\u001b[0m\n\u001b[0;32m---> 47\u001b[0;31m             \u001b[0;32mreturn\u001b[0m \u001b[0mmehtod\u001b[0m\u001b[0;34m(\u001b[0m\u001b[0mnode\u001b[0m\u001b[0;34m,\u001b[0m \u001b[0;34m*\u001b[0m\u001b[0margs\u001b[0m\u001b[0;34m,\u001b[0m \u001b[0;34m**\u001b[0m\u001b[0mkwargs\u001b[0m\u001b[0;34m)\u001b[0m\u001b[0;34m\u001b[0m\u001b[0m\n\u001b[0m\u001b[1;32m     48\u001b[0m         \u001b[0;32melse\u001b[0m\u001b[0;34m:\u001b[0m\u001b[0;34m\u001b[0m\u001b[0m\n\u001b[1;32m     49\u001b[0m             \u001b[0mmehtod\u001b[0m \u001b[0;34m=\u001b[0m \u001b[0mgetattr\u001b[0m\u001b[0;34m(\u001b[0m\u001b[0mself\u001b[0m\u001b[0;34m,\u001b[0m \u001b[0;34m'visit'\u001b[0m \u001b[0;34m+\u001b[0m \u001b[0mnode_name\u001b[0m\u001b[0;34m)\u001b[0m\u001b[0;34m\u001b[0m\u001b[0m\n",
        "\u001b[0;32m/Users/flyranch/Library/Enthought/Canopy_64bit/User/lib/python2.7/site-packages/Clyther-0.4b0-py2.7.egg/clyther/rttt.pyc\u001b[0m in \u001b[0;36mvisitDefault\u001b[0;34m(self, node)\u001b[0m\n\u001b[1;32m    414\u001b[0m                 \u001b[0mnode\u001b[0m\u001b[0;34m.\u001b[0m\u001b[0mctype\u001b[0m \u001b[0;34m=\u001b[0m \u001b[0mcast\u001b[0m\u001b[0;34m.\u001b[0m\u001b[0mCTypeName\u001b[0m\u001b[0;34m(\u001b[0m\u001b[0mtype_repr\u001b[0m\u001b[0;34m)\u001b[0m\u001b[0;34m\u001b[0m\u001b[0m\n\u001b[1;32m    415\u001b[0m \u001b[0;34m\u001b[0m\u001b[0m\n\u001b[0;32m--> 416\u001b[0;31m         \u001b[0mvisit_children\u001b[0m\u001b[0;34m(\u001b[0m\u001b[0mself\u001b[0m\u001b[0;34m,\u001b[0m \u001b[0mnode\u001b[0m\u001b[0;34m)\u001b[0m\u001b[0;34m\u001b[0m\u001b[0m\n\u001b[0m\u001b[1;32m    417\u001b[0m \u001b[0;34m\u001b[0m\u001b[0m\n\u001b[1;32m    418\u001b[0m \u001b[0;34m\u001b[0m\u001b[0m\n",
        "\u001b[0;32m/Users/flyranch/Library/Enthought/Canopy_64bit/User/lib/python2.7/site-packages/meta-_-py2.7.egg/meta/asttools/visitors/__init__.pyc\u001b[0m in \u001b[0;36mvisit_children\u001b[0;34m(self, node)\u001b[0m\n\u001b[1;32m      7\u001b[0m \u001b[0;32mdef\u001b[0m \u001b[0mvisit_children\u001b[0m\u001b[0;34m(\u001b[0m\u001b[0mself\u001b[0m\u001b[0;34m,\u001b[0m \u001b[0mnode\u001b[0m\u001b[0;34m)\u001b[0m\u001b[0;34m:\u001b[0m\u001b[0;34m\u001b[0m\u001b[0m\n\u001b[1;32m      8\u001b[0m     \u001b[0;32mfor\u001b[0m \u001b[0mchild\u001b[0m \u001b[0;32min\u001b[0m \u001b[0mself\u001b[0m\u001b[0;34m.\u001b[0m\u001b[0mchildren\u001b[0m\u001b[0;34m(\u001b[0m\u001b[0mnode\u001b[0m\u001b[0;34m)\u001b[0m\u001b[0;34m:\u001b[0m\u001b[0;34m\u001b[0m\u001b[0m\n\u001b[0;32m----> 9\u001b[0;31m         \u001b[0mself\u001b[0m\u001b[0;34m.\u001b[0m\u001b[0mvisit\u001b[0m\u001b[0;34m(\u001b[0m\u001b[0mchild\u001b[0m\u001b[0;34m)\u001b[0m\u001b[0;34m\u001b[0m\u001b[0m\n\u001b[0m\u001b[1;32m     10\u001b[0m \u001b[0;34m\u001b[0m\u001b[0m\n\u001b[1;32m     11\u001b[0m \u001b[0;34m\u001b[0m\u001b[0m\n",
        "\u001b[0;32m/Users/flyranch/Library/Enthought/Canopy_64bit/User/lib/python2.7/site-packages/meta-_-py2.7.egg/meta/asttools/visitors/__init__.pyc\u001b[0m in \u001b[0;36mvisit\u001b[0;34m(self, node, *args, **kwargs)\u001b[0m\n\u001b[1;32m     45\u001b[0m         \u001b[0;32melif\u001b[0m \u001b[0mhasattr\u001b[0m\u001b[0;34m(\u001b[0m\u001b[0mself\u001b[0m\u001b[0;34m,\u001b[0m \u001b[0;34m'visitDefault'\u001b[0m\u001b[0;34m)\u001b[0m\u001b[0;34m:\u001b[0m\u001b[0;34m\u001b[0m\u001b[0m\n\u001b[1;32m     46\u001b[0m             \u001b[0mmehtod\u001b[0m \u001b[0;34m=\u001b[0m \u001b[0mgetattr\u001b[0m\u001b[0;34m(\u001b[0m\u001b[0mself\u001b[0m\u001b[0;34m,\u001b[0m \u001b[0;34m'visitDefault'\u001b[0m\u001b[0;34m)\u001b[0m\u001b[0;34m\u001b[0m\u001b[0m\n\u001b[0;32m---> 47\u001b[0;31m             \u001b[0;32mreturn\u001b[0m \u001b[0mmehtod\u001b[0m\u001b[0;34m(\u001b[0m\u001b[0mnode\u001b[0m\u001b[0;34m,\u001b[0m \u001b[0;34m*\u001b[0m\u001b[0margs\u001b[0m\u001b[0;34m,\u001b[0m \u001b[0;34m**\u001b[0m\u001b[0mkwargs\u001b[0m\u001b[0;34m)\u001b[0m\u001b[0;34m\u001b[0m\u001b[0m\n\u001b[0m\u001b[1;32m     48\u001b[0m         \u001b[0;32melse\u001b[0m\u001b[0;34m:\u001b[0m\u001b[0;34m\u001b[0m\u001b[0m\n\u001b[1;32m     49\u001b[0m             \u001b[0mmehtod\u001b[0m \u001b[0;34m=\u001b[0m \u001b[0mgetattr\u001b[0m\u001b[0;34m(\u001b[0m\u001b[0mself\u001b[0m\u001b[0;34m,\u001b[0m \u001b[0;34m'visit'\u001b[0m \u001b[0;34m+\u001b[0m \u001b[0mnode_name\u001b[0m\u001b[0;34m)\u001b[0m\u001b[0;34m\u001b[0m\u001b[0m\n",
        "\u001b[0;32m/Users/flyranch/Library/Enthought/Canopy_64bit/User/lib/python2.7/site-packages/Clyther-0.4b0-py2.7.egg/clyther/rttt.pyc\u001b[0m in \u001b[0;36mvisitDefault\u001b[0;34m(self, node)\u001b[0m\n\u001b[1;32m    392\u001b[0m \u001b[0;34m\u001b[0m\u001b[0m\n\u001b[1;32m    393\u001b[0m                 \u001b[0;32mtry\u001b[0m\u001b[0;34m:\u001b[0m\u001b[0;34m\u001b[0m\u001b[0m\n\u001b[0;32m--> 394\u001b[0;31m                     \u001b[0mtype_repr\u001b[0m \u001b[0;34m=\u001b[0m \u001b[0mstr_type\u001b[0m\u001b[0;34m(\u001b[0m\u001b[0mnode\u001b[0m\u001b[0;34m.\u001b[0m\u001b[0mctype\u001b[0m\u001b[0;34m,\u001b[0m \u001b[0mself\u001b[0m\u001b[0;34m.\u001b[0m\u001b[0mdefined_types\u001b[0m\u001b[0;34m)\u001b[0m\u001b[0;34m\u001b[0m\u001b[0m\n\u001b[0m\u001b[1;32m    395\u001b[0m                 \u001b[0;32mexcept\u001b[0m \u001b[0mKeyError\u001b[0m\u001b[0;34m:\u001b[0m\u001b[0;34m\u001b[0m\u001b[0m\n\u001b[1;32m    396\u001b[0m                     \u001b[0;32mif\u001b[0m \u001b[0misinstance\u001b[0m\u001b[0;34m(\u001b[0m\u001b[0mnode\u001b[0m\u001b[0;34m.\u001b[0m\u001b[0mctype\u001b[0m\u001b[0;34m,\u001b[0m \u001b[0mcl\u001b[0m\u001b[0;34m.\u001b[0m\u001b[0mcontextual_memory\u001b[0m\u001b[0;34m)\u001b[0m\u001b[0;34m:\u001b[0m\u001b[0;34m\u001b[0m\u001b[0m\n",
        "\u001b[0;32m/Users/flyranch/Library/Enthought/Canopy_64bit/User/lib/python2.7/site-packages/Clyther-0.4b0-py2.7.egg/clyther/rttt.pyc\u001b[0m in \u001b[0;36mstr_type\u001b[0;34m(ctype, defined_types)\u001b[0m\n\u001b[1;32m    352\u001b[0m         \u001b[0;32mreturn\u001b[0m \u001b[0mctype\u001b[0m\u001b[0;34m\u001b[0m\u001b[0m\n\u001b[1;32m    353\u001b[0m     \u001b[0;32melse\u001b[0m\u001b[0;34m:\u001b[0m\u001b[0;34m\u001b[0m\u001b[0m\n\u001b[0;32m--> 354\u001b[0;31m         \u001b[0mformat\u001b[0m \u001b[0;34m=\u001b[0m \u001b[0mtype_format\u001b[0m\u001b[0;34m(\u001b[0m\u001b[0mctype\u001b[0m\u001b[0;34m)\u001b[0m\u001b[0;34m\u001b[0m\u001b[0m\n\u001b[0m\u001b[1;32m    355\u001b[0m         \u001b[0;32mreturn\u001b[0m \u001b[0mcdefn\u001b[0m\u001b[0;34m(\u001b[0m\u001b[0mformat\u001b[0m\u001b[0;34m)\u001b[0m\u001b[0;34m\u001b[0m\u001b[0m\n\u001b[1;32m    356\u001b[0m \u001b[0;34m\u001b[0m\u001b[0m\n",
        "\u001b[0;32m/Users/flyranch/Library/Enthought/Canopy_64bit/User/lib/python2.7/site-packages/opencl_for_python-0.5.2-py2.7-macosx-10.6-x86_64.egg/opencl/type_formats.so\u001b[0m in \u001b[0;36mopencl.type_formats.type_format (opencl/type_formats.c:2008)\u001b[0;34m()\u001b[0m\n",
        "\u001b[0;31mTypeError\u001b[0m: object <module 'math' from '/Applications/Canopy.app/appdata/canopy-1.5.1.2730.macosx-x86_64/Canopy.app/Contents/lib/python2.7/lib-dynload/math.so'> is not a class"
       ]
      }
     ],
     "prompt_number": 80
    },
    {
     "cell_type": "code",
     "collapsed": false,
     "input": [
      "import pylab as plb"
     ],
     "language": "python",
     "metadata": {},
     "outputs": [],
     "prompt_number": 15
    },
    {
     "cell_type": "code",
     "collapsed": false,
     "input": [
      "with a.map(queue) as view:\n",
      "    x = np.asarray(view)"
     ],
     "language": "python",
     "metadata": {},
     "outputs": [],
     "prompt_number": 26
    },
    {
     "cell_type": "code",
     "collapsed": false,
     "input": [
      "plb.plot(x);plb.show()"
     ],
     "language": "python",
     "metadata": {},
     "outputs": [],
     "prompt_number": 28
    },
    {
     "cell_type": "code",
     "collapsed": false,
     "input": [
      "3.3-(3.3%3)"
     ],
     "language": "python",
     "metadata": {},
     "outputs": [
      {
       "metadata": {},
       "output_type": "pyout",
       "prompt_number": 69,
       "text": [
        "3.0"
       ]
      }
     ],
     "prompt_number": 69
    },
    {
     "cell_type": "code",
     "collapsed": false,
     "input": [
      "import numpy as np\n",
      "import pyopencl as cl\n",
      "\n",
      "#a_np = np.random.rand(50000).astype(np.float32)\n",
      "#b_np = np.random.rand(50000).astype(np.float32)\n",
      "a_np = np.linspace(0,10,50000).astype(np.float32)\n",
      "b_np = np.linspace(0,10,50000).astype(np.float32)\n",
      "ctx = cl.create_some_context()\n",
      "queue = cl.CommandQueue(ctx)\n",
      "\n",
      "mf = cl.mem_flags\n",
      "a_g = cl.Buffer(ctx, mf.READ_ONLY | mf.COPY_HOST_PTR, hostbuf=a_np)\n",
      "b_g = cl.Buffer(ctx, mf.READ_ONLY | mf.COPY_HOST_PTR, hostbuf=b_np)\n",
      "\n",
      "prg = cl.Program(ctx, \"\"\"\n",
      "__kernel void sum(__global const float *a_g, __global const float *b_g, __global float *res_g) {\n",
      "  int gid = get_global_id(0);\n",
      "  res_g[gid] = trunc(sin(a_g[gid]));\n",
      "}\n",
      "\"\"\").build()\n",
      "\n",
      "res_g = cl.Buffer(ctx, mf.WRITE_ONLY, a_np.nbytes)\n",
      "prg.sum(queue, a_np.shape, None, a_g, b_g, res_g)\n",
      "\n",
      "res_np = np.empty_like(a_np)\n",
      "cl.enqueue_copy(queue, res_np, res_g)\n",
      "\n",
      "# Check on CPU with Numpy:\n",
      "plb.plot(res_np)\n",
      "#(np.linalg.norm(res_np - (a_np + b_np)))"
     ],
     "language": "python",
     "metadata": {},
     "outputs": [
      {
       "metadata": {},
       "output_type": "pyout",
       "prompt_number": 105,
       "text": [
        "[<matplotlib.lines.Line2D at 0x116d743d0>]"
       ]
      }
     ],
     "prompt_number": 105
    },
    {
     "cell_type": "code",
     "collapsed": false,
     "input": [
      "plb.plot(res_np);plb.show()"
     ],
     "language": "python",
     "metadata": {},
     "outputs": [],
     "prompt_number": 106
    },
    {
     "cell_type": "code",
     "collapsed": false,
     "input": [],
     "language": "python",
     "metadata": {},
     "outputs": [
      {
       "metadata": {},
       "output_type": "pyout",
       "prompt_number": 87,
       "text": [
        "array([  0.00000000e+00,   2.00004000e-05,   4.00008000e-05, ...,\n",
        "         9.99959999e-01,   9.99980000e-01,   1.00000000e+00])"
       ]
      }
     ],
     "prompt_number": 87
    },
    {
     "cell_type": "code",
     "collapsed": false,
     "input": [
      "import cPickle\n",
      "test_group = [308,309,310,311,312,313,314]\n",
      "swarm = flylib.Squadron(fly_db,test_group)\n",
      "for fly in swarm.flies:\n",
      "    f = open(fly.fly_path + 'img_stats.cpkl','rb')\n",
      "    stats = cPickle.load(f)\n",
      "    f.close()\n",
      "    figure()\n",
      "    imshow(stats['rwing']['corr_img'].reshape(130,174),cmap = cm.gray)"
     ],
     "language": "python",
     "metadata": {},
     "outputs": [],
     "prompt_number": 4
    },
    {
     "cell_type": "code",
     "collapsed": false,
     "input": [
      "import cPickle\n",
      "qui_ranges = dict()\n",
      "qui_ranges[308] = slice(400,600)\n",
      "qui_ranges[309] = slice(300,400)\n",
      "qui_ranges[310] = slice(500,600)\n",
      "qui_ranges[311] = slice(320,380)\n",
      "qui_ranges[312] = slice(500,600)\n",
      "qui_ranges[313] = slice(550,600)\n",
      "\n",
      "qui_ranges[314] = slice(1,300)\n",
      "qui_ranges[315] = slice(200,400)\n",
      "qui_ranges[316] = slice(400,600)\n",
      "qui_ranges[317] = slice(300,500)\n",
      "\n",
      "def calc_fly(fly):\n",
      "    pkname = fly.fly_path + '/basis_fits.cpkl'\n",
      "    f = open(pkname);img_data = cPickle.load(f);f.close()\n",
      "    test_basis = Basis()\n",
      "    #print data.keys()\n",
      "    for key in ['A','p','a1','a2']:\n",
      "        test_basis[key] = img_data[key]\n",
      "    \n",
      "    musc = GeometricModel(muscles,confocal_basis)\n",
      "    mv = ModelView(musc)\n",
      "\n",
      "    imgs = np.array(fly.experiments.values()[0].exp_record['tiff_data']['images'])\n",
      "    masks = mv.get_masks(test_basis)\n",
      "\n",
      "    #create the model and project it onto the data\n",
      "    mproject = sum([np.array(m).reshape(174,130).astype(float) for m in masks.values()],axis = 0)\n",
      "    img_prime = imgs.T.reshape(174*130,-1)\n",
      "\n",
      "    W = np.array([m.astype(float) for m in masks.values()]).T\n",
      "    W_inv = np.linalg.pinv(W)\n",
      "\n",
      "    sigs = dot(W_inv,img_prime)\n",
      "\n",
      "    qui_range =qui_ranges[fly.fly_num]\n",
      "    F = mean(sigs[:,qui_range],axis = 1)\n",
      "    DF_F = (sigs-F[:,np.newaxis])/F[:,np.newaxis]\n",
      "    DF_F_dict = dict()\n",
      "    for i,mkey in enumerate(masks.keys()):\n",
      "        DF_F_dict[mkey] = DF_F[i,:]\n",
      "    f = open('f_' + str(fly.fly_num) + '_sig_dict.cpkl','wb')\n",
      "    cPickle.dump(DF_F_dict,f)\n",
      "    f.close()\n",
      "    \n",
      "for fly in swarm.flies:\n",
      "    calc_fly(fly)"
     ],
     "language": "python",
     "metadata": {},
     "outputs": [],
     "prompt_number": 13
    },
    {
     "cell_type": "code",
     "collapsed": false,
     "input": [],
     "language": "python",
     "metadata": {},
     "outputs": []
    },
    {
     "cell_type": "code",
     "collapsed": false,
     "input": [],
     "language": "python",
     "metadata": {},
     "outputs": [
      {
       "ename": "ImportError",
       "evalue": "cannot import name mpi4py",
       "output_type": "pyerr",
       "traceback": [
        "\u001b[0;31m---------------------------------------------------------------------------\u001b[0m\n\u001b[0;31mImportError\u001b[0m                               Traceback (most recent call last)",
        "\u001b[0;32m<ipython-input-6-2bad26f05208>\u001b[0m in \u001b[0;36m<module>\u001b[0;34m()\u001b[0m\n\u001b[0;32m----> 1\u001b[0;31m \u001b[0;32mfrom\u001b[0m \u001b[0mscipy\u001b[0m \u001b[0;32mimport\u001b[0m \u001b[0mmpi4py\u001b[0m\u001b[0;34m\u001b[0m\u001b[0m\n\u001b[0m",
        "\u001b[0;31mImportError\u001b[0m: cannot import name mpi4py"
       ]
      }
     ],
     "prompt_number": 6
    },
    {
     "cell_type": "code",
     "collapsed": false,
     "input": [],
     "language": "python",
     "metadata": {},
     "outputs": [],
     "prompt_number": 9
    },
    {
     "cell_type": "code",
     "collapsed": false,
     "input": [],
     "language": "python",
     "metadata": {},
     "outputs": [],
     "prompt_number": 2
    },
    {
     "cell_type": "code",
     "collapsed": false,
     "input": [],
     "language": "python",
     "metadata": {},
     "outputs": [],
     "prompt_number": 3
    },
    {
     "cell_type": "code",
     "collapsed": false,
     "input": [],
     "language": "python",
     "metadata": {},
     "outputs": [],
     "prompt_number": 4
    },
    {
     "cell_type": "code",
     "collapsed": false,
     "input": [
      "from mpi4py import MPI"
     ],
     "language": "python",
     "metadata": {},
     "outputs": [
      {
       "ename": "ImportError",
       "evalue": "No module named mpi4py",
       "output_type": "pyerr",
       "traceback": [
        "\u001b[0;31m---------------------------------------------------------------------------\u001b[0m\n\u001b[0;31mImportError\u001b[0m                               Traceback (most recent call last)",
        "\u001b[0;32m<ipython-input-4-fc57324fa516>\u001b[0m in \u001b[0;36m<module>\u001b[0;34m()\u001b[0m\n\u001b[0;32m----> 1\u001b[0;31m \u001b[0;32mfrom\u001b[0m \u001b[0mmpi4py\u001b[0m \u001b[0;32mimport\u001b[0m \u001b[0mMPI\u001b[0m\u001b[0;34m\u001b[0m\u001b[0m\n\u001b[0m",
        "\u001b[0;31mImportError\u001b[0m: No module named mpi4py"
       ]
      }
     ],
     "prompt_number": 4
    },
    {
     "cell_type": "code",
     "collapsed": false,
     "input": [],
     "language": "python",
     "metadata": {},
     "outputs": [],
     "prompt_number": 2
    },
    {
     "cell_type": "code",
     "collapsed": false,
     "input": [
      "sum_images = wing_correlations(wbf[mask],imgs[mask])"
     ],
     "language": "python",
     "metadata": {},
     "outputs": [],
     "prompt_number": 110
    },
    {
     "cell_type": "code",
     "collapsed": false,
     "input": [],
     "language": "python",
     "metadata": {},
     "outputs": [
      {
       "metadata": {},
       "output_type": "pyout",
       "prompt_number": 111,
       "text": [
        "<matplotlib.image.AxesImage at 0xda2b0d0>"
       ]
      }
     ],
     "prompt_number": 111
    },
    {
     "cell_type": "code",
     "collapsed": false,
     "input": [
      "close('all')"
     ],
     "language": "python",
     "metadata": {},
     "outputs": [],
     "prompt_number": 139
    },
    {
     "cell_type": "code",
     "collapsed": false,
     "input": [],
     "language": "python",
     "metadata": {},
     "outputs": []
    },
    {
     "cell_type": "code",
     "collapsed": false,
     "input": [],
     "language": "python",
     "metadata": {},
     "outputs": [],
     "prompt_number": 69
    },
    {
     "cell_type": "code",
     "collapsed": false,
     "input": [],
     "language": "python",
     "metadata": {},
     "outputs": [],
     "prompt_number": 69
    },
    {
     "cell_type": "code",
     "collapsed": false,
     "input": [],
     "language": "python",
     "metadata": {},
     "outputs": [],
     "prompt_number": 69
    },
    {
     "cell_type": "code",
     "collapsed": false,
     "input": [
      "musc = GeometricModel(muscles,confocal_basis)"
     ],
     "language": "python",
     "metadata": {},
     "outputs": [],
     "prompt_number": 39
    },
    {
     "cell_type": "code",
     "collapsed": false,
     "input": [
      "mv = ModelView(musc)"
     ],
     "language": "python",
     "metadata": {},
     "outputs": [],
     "prompt_number": 41
    },
    {
     "cell_type": "code",
     "collapsed": false,
     "input": [
      "plot(musc.lines['iii3'][0],musc.lines['iii3'][1])"
     ],
     "language": "python",
     "metadata": {},
     "outputs": [
      {
       "metadata": {},
       "output_type": "pyout",
       "prompt_number": 67,
       "text": [
        "[<matplotlib.lines.Line2D at 0xd25a550>]"
       ]
      }
     ],
     "prompt_number": 67
    },
    {
     "cell_type": "code",
     "collapsed": false,
     "input": [
      "msks = mv.get_masks(confocal_basis)"
     ],
     "language": "python",
     "metadata": {},
     "outputs": [],
     "prompt_number": 48
    },
    {
     "cell_type": "code",
     "collapsed": false,
     "input": [
      "imshow(msks['b2'].reshape(174,130))"
     ],
     "language": "python",
     "metadata": {},
     "outputs": [
      {
       "metadata": {},
       "output_type": "pyout",
       "prompt_number": 59,
       "text": [
        "<matplotlib.image.AxesImage at 0xbe18650>"
       ]
      }
     ],
     "prompt_number": 59
    },
    {
     "cell_type": "code",
     "collapsed": false,
     "input": [
      "sqrt(shape(msks['iii24']))"
     ],
     "language": "python",
     "metadata": {},
     "outputs": [
      {
       "metadata": {},
       "output_type": "pyout",
       "prompt_number": 54,
       "text": [
        "array([ 150.39946808])"
       ]
      }
     ],
     "prompt_number": 54
    },
    {
     "cell_type": "code",
     "collapsed": false,
     "input": [
      "import cPickle\n",
      "fly = swarm.flies[2]\n",
      "pkname = fly.fly_path + '/basis_fits.cpkl'\n",
      "f = open(pkname);img_data = cPickle.load(f);f.close()\n",
      "test_basis = Basis()\n",
      "#print data.keys()\n",
      "for key in ['A','p','a1','a2']:\n",
      "    test_basis[key] = img_data[key]\n",
      "imgs = np.array(fly.experiments.values()[0].exp_record['tiff_data']['images'])\n",
      "masks = mv.get_masks(test_basis)"
     ],
     "language": "python",
     "metadata": {},
     "outputs": [],
     "prompt_number": 33
    },
    {
     "cell_type": "code",
     "collapsed": false,
     "input": [
      "imshow(imgs[5000].T,cmap = cm.gray)\n",
      "mv.plot(test_basis)"
     ],
     "language": "python",
     "metadata": {},
     "outputs": [],
     "prompt_number": 34
    },
    {
     "cell_type": "code",
     "collapsed": false,
     "input": [
      "#create the model and project it onto the data\n",
      "mproject = sum([np.array(m).reshape(174,130).astype(float) for m in masks.values()],axis = 0)\n",
      "img_prime = imgs.T.reshape(174*130,-1)"
     ],
     "language": "python",
     "metadata": {},
     "outputs": [],
     "prompt_number": 35
    },
    {
     "cell_type": "code",
     "collapsed": false,
     "input": [
      "W = np.array([m.astype(float) for m in masks.values()]).T\n",
      "W_inv = np.linalg.pinv(W)"
     ],
     "language": "python",
     "metadata": {},
     "outputs": [],
     "prompt_number": 36
    },
    {
     "cell_type": "code",
     "collapsed": false,
     "input": [
      "sigs = dot(W_inv,img_prime)"
     ],
     "language": "python",
     "metadata": {},
     "outputs": [],
     "prompt_number": 37
    },
    {
     "cell_type": "code",
     "collapsed": false,
     "input": [
      "plot(sigs.T)"
     ],
     "language": "python",
     "metadata": {},
     "outputs": [
      {
       "metadata": {},
       "output_type": "pyout",
       "prompt_number": 38,
       "text": [
        "[<matplotlib.lines.Line2D at 0x11bcd3f10>,\n",
        " <matplotlib.lines.Line2D at 0x11bcd71d0>,\n",
        " <matplotlib.lines.Line2D at 0x11bcd7410>,\n",
        " <matplotlib.lines.Line2D at 0x11bcd75d0>,\n",
        " <matplotlib.lines.Line2D at 0x11bcd7790>,\n",
        " <matplotlib.lines.Line2D at 0x11bcd7950>,\n",
        " <matplotlib.lines.Line2D at 0x11bcd7b10>,\n",
        " <matplotlib.lines.Line2D at 0x11bcef3d0>,\n",
        " <matplotlib.lines.Line2D at 0x11bcd7e90>,\n",
        " <matplotlib.lines.Line2D at 0x11bcca090>,\n",
        " <matplotlib.lines.Line2D at 0x11bcca250>,\n",
        " <matplotlib.lines.Line2D at 0x11bcca410>,\n",
        " <matplotlib.lines.Line2D at 0x11bcca5d0>,\n",
        " <matplotlib.lines.Line2D at 0x11bcca790>,\n",
        " <matplotlib.lines.Line2D at 0x11bcd7cd0>,\n",
        " <matplotlib.lines.Line2D at 0x11bccab10>]"
       ]
      }
     ],
     "prompt_number": 38
    },
    {
     "cell_type": "code",
     "collapsed": false,
     "input": [
      "#plot(mproject.T.ravel())\n",
      "#figure()\n",
      "#plot(imgs[0].ravel())\n",
      "#figure()\n",
      "#plot(img_prime[:,30])\n",
      "#imshow(imgs[0]*mproject[::-1,::-1])"
     ],
     "language": "python",
     "metadata": {},
     "outputs": [],
     "prompt_number": 97
    },
    {
     "cell_type": "code",
     "collapsed": false,
     "input": [],
     "language": "python",
     "metadata": {},
     "outputs": [],
     "prompt_number": 41
    },
    {
     "cell_type": "code",
     "collapsed": false,
     "input": [
      "plot(DF_F_dict['iii24'])"
     ],
     "language": "python",
     "metadata": {},
     "outputs": [
      {
       "ename": "NameError",
       "evalue": "name 'DF_F_dict' is not defined",
       "output_type": "pyerr",
       "traceback": [
        "\u001b[1;31m---------------------------------------------------------------------------\u001b[0m\n\u001b[1;31mNameError\u001b[0m                                 Traceback (most recent call last)",
        "\u001b[1;32m<ipython-input-38-de1acecefb65>\u001b[0m in \u001b[0;36m<module>\u001b[1;34m()\u001b[0m\n\u001b[1;32m----> 1\u001b[1;33m \u001b[0mplot\u001b[0m\u001b[1;33m(\u001b[0m\u001b[0mDF_F_dict\u001b[0m\u001b[1;33m[\u001b[0m\u001b[1;34m'iii24'\u001b[0m\u001b[1;33m]\u001b[0m\u001b[1;33m)\u001b[0m\u001b[1;33m\u001b[0m\u001b[0m\n\u001b[0m",
        "\u001b[1;31mNameError\u001b[0m: name 'DF_F_dict' is not defined"
       ]
      }
     ],
     "prompt_number": 38
    },
    {
     "cell_type": "code",
     "collapsed": false,
     "input": [
      "fly.fly_num"
     ],
     "language": "python",
     "metadata": {},
     "outputs": [
      {
       "metadata": {},
       "output_type": "pyout",
       "prompt_number": 39,
       "text": [
        "309"
       ]
      }
     ],
     "prompt_number": 39
    },
    {
     "cell_type": "code",
     "collapsed": false,
     "input": [],
     "language": "python",
     "metadata": {},
     "outputs": [],
     "prompt_number": 47
    },
    {
     "cell_type": "code",
     "collapsed": false,
     "input": [],
     "language": "python",
     "metadata": {},
     "outputs": [],
     "prompt_number": 44
    },
    {
     "cell_type": "code",
     "collapsed": false,
     "input": [],
     "language": "python",
     "metadata": {},
     "outputs": [],
     "prompt_number": 44
    },
    {
     "cell_type": "code",
     "collapsed": false,
     "input": [],
     "language": "python",
     "metadata": {},
     "outputs": [],
     "prompt_number": 44
    },
    {
     "cell_type": "code",
     "collapsed": false,
     "input": [],
     "language": "python",
     "metadata": {},
     "outputs": [],
     "prompt_number": 44
    },
    {
     "cell_type": "code",
     "collapsed": false,
     "input": [],
     "language": "python",
     "metadata": {},
     "outputs": [],
     "prompt_number": 44
    },
    {
     "cell_type": "code",
     "collapsed": false,
     "input": [],
     "language": "python",
     "metadata": {},
     "outputs": [],
     "prompt_number": 44
    },
    {
     "cell_type": "code",
     "collapsed": false,
     "input": [],
     "language": "python",
     "metadata": {},
     "outputs": [],
     "prompt_number": 44
    },
    {
     "cell_type": "code",
     "collapsed": false,
     "input": [],
     "language": "python",
     "metadata": {},
     "outputs": []
    },
    {
     "cell_type": "code",
     "collapsed": false,
     "input": [
      "import cPickle\n",
      "import cv2"
     ],
     "language": "python",
     "metadata": {},
     "outputs": [],
     "prompt_number": 7
    },
    {
     "cell_type": "code",
     "collapsed": false,
     "input": [
      "#this block will load the metadata and warp the images/movies into a common reference frame.\n",
      "def warp_fly_movie(fly):\n",
      "    #fname = fly.fly_path + 'meta_data.cpkl'\n",
      "    #f = open(fname,'rb');data = cPickle.load(f);f.close()\n",
      "    pkname = fly.fly_path + '/basis_fits.cpkl'\n",
      "    f = open(pkname);img_data = cPickle.load(f);f.close()\n",
      "    test_basis = Basis()\n",
      "    #print data.keys()\n",
      "    for key in ['A','p','a1','a2']:\n",
      "        test_basis[key] = img_data[key]\n",
      "    src_p0 = test_basis['a1'] + test_basis['p']\n",
      "    src_p1 = test_basis['p']\n",
      "    src_p2 = test_basis['a2'] + test_basis['p']\n",
      "    dst_p0 = confocal_basis['a1'] + confocal_basis['p']\n",
      "    dst_p1 = confocal_basis['p']\n",
      "    dst_p2 = confocal_basis['a2'] + confocal_basis['p']\n",
      "    A = cv2.getAffineTransform(np.float32([src_p0,src_p1,src_p2]),np.float32([dst_p0,dst_p1,dst_p2]))\n",
      "    #compose back to Ca image size\n",
      "    A = vstack((A,[0,0,1]))\n",
      "    S = np.array([[0.25,0,0],[0,0.25,0],[0,0,1]])\n",
      "    Ap = dot(S,A)[:2,:3]\n",
      "    testmovie = np.array(fly.fly_record['experiments'].values()[0]['tiff_data']['images'])\n",
      "    n = shape(testmovie)[0]\n",
      "    X_warped = [cv2.warpAffine(testmovie[frame].T,Ap,(256,256)).ravel() for frame in range(n)]\n",
      "    X_warped = np.array(X_warped)\n",
      "    import h5py\n",
      "    f = h5py.File(fly.fly_path + \"warped_imgs.hdf5\", \"w\")\n",
      "    #f.create_group(\"warped_imgs\")\n",
      "    f['warped_imgs'] = X_warped\n",
      "    f.flush()\n",
      "    f.close()\n",
      "    import tifffile\n",
      "    tifffile.imsave(fly.fly_path + \"warped_movie.tiff\",X_warped.reshape(shape(X_warped)[0],256,256))"
     ],
     "language": "python",
     "metadata": {},
     "outputs": [],
     "prompt_number": 8
    },
    {
     "cell_type": "code",
     "collapsed": false,
     "input": [
      "fly = swarm.flies[-4]"
     ],
     "language": "python",
     "metadata": {},
     "outputs": [],
     "prompt_number": 15
    },
    {
     "cell_type": "code",
     "collapsed": false,
     "input": [
      "warp_fly_movie(fly)"
     ],
     "language": "python",
     "metadata": {},
     "outputs": [],
     "prompt_number": 16
    },
    {
     "cell_type": "code",
     "collapsed": false,
     "input": [],
     "language": "python",
     "metadata": {},
     "outputs": [],
     "prompt_number": 1
    },
    {
     "cell_type": "code",
     "collapsed": false,
     "input": [],
     "language": "python",
     "metadata": {},
     "outputs": [],
     "prompt_number": 11
    },
    {
     "cell_type": "code",
     "collapsed": false,
     "input": [],
     "language": "python",
     "metadata": {},
     "outputs": [],
     "prompt_number": 77
    },
    {
     "cell_type": "code",
     "collapsed": false,
     "input": [],
     "language": "python",
     "metadata": {},
     "outputs": [],
     "prompt_number": 13
    },
    {
     "cell_type": "code",
     "collapsed": false,
     "input": [],
     "language": "python",
     "metadata": {},
     "outputs": [],
     "prompt_number": 19
    }
   ],
   "metadata": {}
  }
 ]
}