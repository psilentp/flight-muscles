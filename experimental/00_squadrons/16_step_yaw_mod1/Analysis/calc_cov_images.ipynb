{
 "cells": [
  {
   "cell_type": "markdown",
   "metadata": {},
   "source": [
    "### Calculate variance and variance images for stripe fixation data"
   ]
  },
  {
   "cell_type": "code",
   "execution_count": 1,
   "metadata": {
    "collapsed": false
   },
   "outputs": [
    {
     "name": "stdout",
     "output_type": "stream",
     "text": [
      "Populating the interactive namespace from numpy and matplotlib\n"
     ]
    }
   ],
   "source": [
    "%pylab inline\n",
    "%config InlineBackend.figure_format = 'svg'"
   ]
  },
  {
   "cell_type": "code",
   "execution_count": 2,
   "metadata": {
    "collapsed": true
   },
   "outputs": [],
   "source": [
    "import group_data as gd"
   ]
  },
  {
   "cell_type": "code",
   "execution_count": 3,
   "metadata": {
    "collapsed": true
   },
   "outputs": [],
   "source": [
    "def calc_and_save_img_stats(fly):\n",
    "    import numpy as np\n",
    "    import cPickle\n",
    "    def wing_correlations_df(sig,imgs,fly = None):\n",
    "        #calculate some summary images including the correlation image\n",
    "        include = np.isfinite(sig)\n",
    "        sig = sig[include]\n",
    "        imgs = imgs[include]\n",
    "        #now calculate stats\n",
    "        mean_img = np.mean(imgs,axis=0)\n",
    "        zeroed_img = imgs - mean_img\n",
    "\n",
    "        max_img = np.max(imgs,axis = 0)\n",
    "        norm_img = np.linalg.norm(zeroed_img,axis = 0)\n",
    "        norm_sig = np.linalg.norm(sig-np.mean(sig))\n",
    "        dot_img = np.sum(zeroed_img*(sig[:,np.newaxis,np.newaxis]-np.mean(sig)),axis = 0)\n",
    "        corr_img = dot_img/(norm_img*norm_sig)\n",
    "        return {'mean_img':mean_img,\n",
    "            'max_img':max_img,\n",
    "            'norm_img':norm_img,\n",
    "            'dot_img':dot_img,\n",
    "            'corr_img':corr_img}\n",
    "\n",
    "    def imgs_stats_df(fly = None):\n",
    "        #get signals from fly\n",
    "        expmnt = fly.get_expmnt('step_yaw_mod1')\n",
    "        rwing = np.array(expmnt['tiff_data']['axon_framebase']['Ph1'])\n",
    "        lwing = np.array(expmnt['tiff_data']['axon_framebase']['Ph0'])\n",
    "        wbf = np.array(expmnt['tiff_data']['axon_framebase']['wb_frequency'])\n",
    "        StimCond = np.array(expmnt['tiff_data']['axon_framebase']['StimCond'])\n",
    "        images = np.array(expmnt['tiff_data']['images'])\n",
    "        mask = ((StimCond<0) & (wbf >150))[:np.shape(images)[0]]\n",
    "        #load baseline data\n",
    "        fi = open(fly.fly_path + 'epoch_data.cpkl')\n",
    "        \n",
    "        baseline_range = cPickle.load(fi)['baseline_F']\n",
    "        fi.close()\n",
    "        F = np.mean(images[baseline_range],axis = 0)\n",
    "        #calculate dF/F\n",
    "        imgs = (images[mask]-F)/F\n",
    "        #print sum(mask)\n",
    "        fly.close_fly()\n",
    "        return {'lwing':wing_correlations_df(lwing[mask],imgs),\n",
    "                'rwing':wing_correlations_df(rwing[mask],imgs),\n",
    "                'freq':wing_correlations_df(wbf[mask],imgs)}\n",
    "\n",
    "    try:\n",
    "        stats = imgs_stats_df(fly = fly)\n",
    "        fi = open(fly.fly_path + 'sf_cov_images.cpkl','wb')\n",
    "        cPickle.dump(stats,fi)\n",
    "        fi.close()\n",
    "    except IOError:\n",
    "        print fly.fly_num"
   ]
  },
  {
   "cell_type": "code",
   "execution_count": 4,
   "metadata": {
    "collapsed": false
   },
   "outputs": [
    {
     "name": "stdout",
     "output_type": "stream",
     "text": [
      "[0, 1, 2, 3, 4, 5, 6, 7]\n"
     ]
    }
   ],
   "source": [
    "#get the ipython clients\n",
    "from IPython.parallel import Client\n",
    "clients = Client() \n",
    "clients.block = True\n",
    "print clients.ids\n",
    "v = clients[:]"
   ]
  },
  {
   "cell_type": "code",
   "execution_count": 5,
   "metadata": {
    "collapsed": false
   },
   "outputs": [
    {
     "ename": "CompositeError",
     "evalue": "one or more exceptions from call to method: calc_and_save_img_stats\n[Engine Exception]EngineError: Engine 0 died while running task '24cc0e07-980a-40ca-8844-5ff4a55a1df4'\n[3:apply]: MemoryError: ",
     "output_type": "error",
     "traceback": [
      "[Engine Exception]",
      "Traceback (most recent call last):",
      "  File \"/home/psilentp/anaconda/lib/python2.7/site-packages/IPython/parallel/client/client.py\", line 727, in _handle_stranded_msgs",
      "    raise error.EngineError(\"Engine %r died while running task %r\"%(eid, msg_id))",
      "EngineError: Engine 0 died while running task '24cc0e07-980a-40ca-8844-5ff4a55a1df4'",
      "",
      "[3:apply]: ",
      "\u001b[1;31m---------------------------------------------------------------------------\u001b[0m\u001b[1;31mMemoryError\u001b[0m                               Traceback (most recent call last)\u001b[1;32m<string>\u001b[0m in \u001b[0;36m<module>\u001b[1;34m()\u001b[0m",
      "\u001b[1;32m<ipython-input-3-dc5d7c423583>\u001b[0m in \u001b[0;36mcalc_and_save_img_stats\u001b[1;34m(fly)\u001b[0m",
      "\u001b[1;32m<ipython-input-3-dc5d7c423583>\u001b[0m in \u001b[0;36mimgs_stats_df\u001b[1;34m(fly)\u001b[0m",
      "\u001b[1;32m<ipython-input-3-dc5d7c423583>\u001b[0m in \u001b[0;36mwing_correlations_df\u001b[1;34m(sig, imgs, fly)\u001b[0m",
      "\u001b[1;31mMemoryError\u001b[0m: ",
      ""
     ]
    }
   ],
   "source": [
    "import cPickle\n",
    "for swarm_name,swarm in gd.swarms.items():\n",
    "       v.map(calc_and_save_img_stats,swarm.flies)"
   ]
  },
  {
   "cell_type": "code",
   "execution_count": null,
   "metadata": {
    "collapsed": false
   },
   "outputs": [],
   "source": []
  },
  {
   "cell_type": "code",
   "execution_count": null,
   "metadata": {
    "collapsed": true
   },
   "outputs": [],
   "source": []
  }
 ],
 "metadata": {
  "kernelspec": {
   "display_name": "Python 2",
   "language": "python",
   "name": "python2"
  },
  "language_info": {
   "codemirror_mode": {
    "name": "ipython",
    "version": 2
   },
   "file_extension": ".py",
   "mimetype": "text/x-python",
   "name": "python",
   "nbconvert_exporter": "python",
   "pygments_lexer": "ipython2",
   "version": "2.7.9"
  }
 },
 "nbformat": 4,
 "nbformat_minor": 0
}
