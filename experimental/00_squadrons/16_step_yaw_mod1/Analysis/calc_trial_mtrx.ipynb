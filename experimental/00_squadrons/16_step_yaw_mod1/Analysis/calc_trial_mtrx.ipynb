{
 "cells": [
  {
   "cell_type": "code",
   "execution_count": 1,
   "metadata": {
    "collapsed": true
   },
   "outputs": [],
   "source": [
    "import group_data as gd\n",
    "import flylib\n",
    "import numpy as np"
   ]
  },
  {
   "cell_type": "code",
   "execution_count": 2,
   "metadata": {
    "collapsed": false
   },
   "outputs": [
    {
     "name": "stdout",
     "output_type": "stream",
     "text": [
      "Populating the interactive namespace from numpy and matplotlib\n"
     ]
    }
   ],
   "source": [
    "%pylab inline\n",
    "%config InlineBackend.figure_format = 'svg'"
   ]
  },
  {
   "cell_type": "markdown",
   "metadata": {},
   "source": [
    "### Stripe fixation "
   ]
  },
  {
   "cell_type": "code",
   "execution_count": 5,
   "metadata": {
    "collapsed": false
   },
   "outputs": [
    {
     "name": "stdout",
     "output_type": "stream",
     "text": [
      "no input file\n"
     ]
    }
   ],
   "source": [
    "#### construct an interpolated matrix of cross correlation data\n",
    "xcor = list()\n",
    "flynums = list()\n",
    "sig_types = list()\n",
    "muscle_names = list()\n",
    "swarm_names = list()\n",
    "\n",
    "for swarm_name,swarm in gd.swarms.items():\n",
    "    for fly in swarm.flies:\n",
    "        try:\n",
    "            pkldata = fly.get_pkl_data('nnls_fits_no_bk_dF_F_corr_data.cpkl')\n",
    "            x = pkldata['times']\n",
    "            for sig_type_key in ['amp', 'freq', 'auto']:\n",
    "                for mkey in pkldata[sig_type_key].keys():\n",
    "                    y = pkldata[sig_type_key][mkey]\n",
    "                    from scipy import interpolate\n",
    "                    tck = interpolate.splrep(x, y, s=0)\n",
    "                    xnew = np.arange(-100,100,0.01)\n",
    "                    ynew = interpolate.splev(xnew, tck, der=0)\n",
    "                    xcor.append(ynew)\n",
    "                    muscle_names.append(mkey)\n",
    "                    sig_types.append(sig_type_key)\n",
    "                    swarm_names.append(swarm_name)\n",
    "                    flynums.append(fly.fly_num)\n",
    "        except IOError:\n",
    "            print 'no input file'\n",
    "\n",
    "xcor = np.array(xcor)\n",
    "flynums = np.array(flynums)\n",
    "sig_types = np.array(sig_types)\n",
    "muscle_names = np.array(muscle_names)\n",
    "swarm_names = np.array(swarm_names)"
   ]
  },
  {
   "cell_type": "code",
   "execution_count": 9,
   "metadata": {
    "collapsed": true
   },
   "outputs": [],
   "source": [
    "import os\n",
    "os.remove('extracted_signal_correlations.hdf5')\n",
    "import h5py\n",
    "sig_cor = h5py.File('extracted_signal_correlations.hdf5')\n",
    "sig_cor['xcor'] = xcor\n",
    "sig_cor['fly_nums'] = flynums\n",
    "sig_cor['sig_types'] = sig_types\n",
    "sig_cor['muscle_names'] = muscle_names\n",
    "sig_cor['swarm_names'] = swarm_names\n",
    "sig_cor.flush()\n",
    "sig_cor.close()"
   ]
  },
  {
   "cell_type": "markdown",
   "metadata": {},
   "source": [
    "### Motion stimuli trial matrix"
   ]
  },
  {
   "cell_type": "code",
   "execution_count": 3,
   "metadata": {
    "collapsed": false
   },
   "outputs": [
    {
     "name": "stdout",
     "output_type": "stream",
     "text": [
      "eof error313\n"
     ]
    }
   ],
   "source": [
    "trial_numbers = list()\n",
    "trial_names = list()\n",
    "fly_numbers = list()\n",
    "signal_units = list()\n",
    "signal_data = list()\n",
    "signal_names = list()\n",
    "swarm_names = list()\n",
    "for swarm_name,swarm in gd.swarms.items():\n",
    "    for fly in swarm.flies:\n",
    "        try:\n",
    "            sigs = fly.get_pkl_data('nnls_fits_no_bk_dF_F_sig_mtrx.cpkl')\n",
    "            for i,trial in enumerate(sigs['StimCond']):\n",
    "                for key in ['StimCond','wb_frequency',\n",
    "                            'Ph1','Ph2','Xpos','Ypos',\n",
    "                            'b1','b2','b3',\n",
    "                            'i1','i2',\n",
    "                            'iii1','iii3','iii24',\n",
    "                            'hg1','hg2','hg3','hg4',\n",
    "                            'tpd','tpv','ttm']:\n",
    "                    try:\n",
    "                        signal_data.append(np.array(sigs[key][i]))\n",
    "                        trial_names.append(gd.decode[np.around(np.mean(trial[trial>0.1]))])\n",
    "                        trial_numbers.append(i)\n",
    "                        fly_numbers.append(fly.fly_num)\n",
    "                        signal_names.append(key)\n",
    "                        swarm_names.append(swarm_name)\n",
    "                    except KeyError:\n",
    "                        pass\n",
    "        except IOError:\n",
    "            print fly.fly_num\n",
    "            print swarm_name\n",
    "            print 'missing file'\n",
    "                #print 'missing: %s'%key\n",
    "        except EOFError:\n",
    "            print 'eof error' + str(fly.fly_num)\n",
    "            \n",
    "trial_numbers = np.array(trial_numbers)\n",
    "trial_names = np.array(trial_names)\n",
    "fly_numbers = np.array(fly_numbers)\n",
    "signal_units = np.array(signal_units)\n",
    "signal_data = np.array(signal_data)\n",
    "signal_names = np.array(signal_names)\n",
    "swarm_names = np.array(swarm_names)"
   ]
  },
  {
   "cell_type": "code",
   "execution_count": 4,
   "metadata": {
    "collapsed": false
   },
   "outputs": [],
   "source": [
    "import os\n",
    "try:\n",
    "    os.remove('extracted_step_trans_yaw.hdf5')\n",
    "except OSError as err:\n",
    "    print err \n",
    "import h5py\n",
    "sig_file = h5py.File('extracted_step_trans_yaw.hdf5')\n",
    "sig_file['trial_numbers'] = trial_numbers\n",
    "sig_file['trial_names'] = trial_names\n",
    "sig_file['fly_numbers'] = fly_numbers\n",
    "sig_file['signal_units'] = signal_units\n",
    "sig_file['signal_data'] = signal_data\n",
    "sig_file['signal_names'] = signal_names\n",
    "sig_file['swarm_names'] = swarm_names"
   ]
  },
  {
   "cell_type": "code",
   "execution_count": 5,
   "metadata": {
    "collapsed": true
   },
   "outputs": [],
   "source": [
    "sig_file.flush()\n",
    "sig_file.close()"
   ]
  },
  {
   "cell_type": "code",
   "execution_count": null,
   "metadata": {
    "collapsed": true
   },
   "outputs": [],
   "source": []
  }
 ],
 "metadata": {
  "kernelspec": {
   "display_name": "Python 2",
   "language": "python",
   "name": "python2"
  },
  "language_info": {
   "codemirror_mode": {
    "name": "ipython",
    "version": 2
   },
   "file_extension": ".py",
   "mimetype": "text/x-python",
   "name": "python",
   "nbconvert_exporter": "python",
   "pygments_lexer": "ipython2",
   "version": "2.7.9"
  }
 },
 "nbformat": 4,
 "nbformat_minor": 0
}
