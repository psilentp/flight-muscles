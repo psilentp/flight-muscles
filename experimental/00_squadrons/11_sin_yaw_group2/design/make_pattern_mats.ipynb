{
 "metadata": {
  "name": "",
  "signature": "sha256:3cd03abb111d4630dcc75f4c04a17840af0e682136d0eecbeba1793cd958656b"
 },
 "nbformat": 3,
 "nbformat_minor": 0,
 "worksheets": [
  {
   "cells": [
    {
     "cell_type": "code",
     "collapsed": false,
     "input": [
      "import os\n",
      "import sys\n",
      "if os.name != 'posix':\n",
      "    sys.path.append('E:\\\\flight-muscles\\\\src')\n",
      "    sys.path.append('E:\\\\flight-muscles\\\\packages')\n",
      "import arenaclouds as acld"
     ],
     "language": "python",
     "metadata": {},
     "outputs": [],
     "prompt_number": 2
    },
    {
     "cell_type": "code",
     "collapsed": false,
     "input": [
      "from scipy import io\n",
      "frame_rate = 60.0 \n",
      "acld.display_shape = (96,32)\n",
      "deg_per_pix = 360/acld.display_shape[0]\n",
      "translation_velocity = 0.3 #2.25*frame_rate\n",
      "#equator_pole = deg2rad(90)\n",
      "forward_trans_pole = deg2rad(90)\n",
      "backward_trans_pole = deg2rad(270)\n",
      "upward_trans_pole = deg2rad(90)\n",
      "downward_trans_pole = deg2rad(270)\n",
      "bit_depth = 3\n",
      "epoch_duration = 2.25\n",
      "angular_velocity = (2*np.pi)/epoch_duration\n",
      "\n",
      "def add_stripe(img_mat):\n",
      "    nx = shape(img_mat)[2]\n",
      "    for xidx in range(nx-4):\n",
      "        img_mat[:,xidx:xidx+4,xidx,0] = 0\n",
      "    for xidx in range(0,4):\n",
      "        img_mat[:,-1-xidx:,95-xidx,0] = 0\n",
      "        img_mat[:,0:3-xidx,95-xidx,0] = 0\n",
      "    return img_mat\n",
      "\n",
      "##################yaw\n",
      "for i in range(10):\n",
      "    yaw_imgs_90 = acld.make_spin_pattern_coromeridian(pi/2,\n",
      "                                    angular_velocity,\n",
      "                                    frame_rate,\n",
      "                                    max_sensory_radius = 3.0,\n",
      "                                    star_density = 8)\n",
      "    yaw_imgs_90 = acld.adjust_depth(yaw_imgs_90)\n",
      "    acld.play_pattern(yaw_imgs_90)\n",
      "\n",
      "    static_test_yaw_90 = np.zeros(hstack([shape(yaw_imgs_90),137]))\n",
      "\n",
      "    static_test_yaw_90[:,:,:,0] = yaw_imgs_90[:,:,0,np.newaxis]\n",
      "    static_test_yaw_90[:,:,:,1:] = transpose(yaw_imgs_90[:,:,:,np.newaxis],axes = (0,1,3,2))\n",
      "\n",
      "    stripe_test_yaw_90 = add_stripe(static_test_yaw_90)\n",
      "    io.savemat('./stimulus_data/stripe_test_yaw_90_%s'%(i),{'imgs':stripe_test_yaw_90})"
     ],
     "language": "python",
     "metadata": {},
     "outputs": [],
     "prompt_number": 3
    },
    {
     "cell_type": "code",
     "collapsed": false,
     "input": [
      "#imshow(yaw_imgs_90[:,:,0])\n",
      "freq = np.fft.fft2(yaw_imgs_90[:,:,0])\n",
      "#imshow(abs(log(freq)))\n",
      "hist(np.log(freq).ravel(), bins=100)"
     ],
     "language": "python",
     "metadata": {},
     "outputs": [
      {
       "output_type": "stream",
       "stream": "stderr",
       "text": [
        "/home/flyranch/Enthought/Canopy_64bit/User/lib/python2.7/site-packages/matplotlib/transforms.py:838: ComplexWarning: Casting complex values to real discards the imaginary part\n",
        "  points = np.array(args, dtype=np.float_).reshape(2, 2)\n",
        "/home/flyranch/Enthought/Canopy_64bit/User/lib/python2.7/site-packages/matplotlib/transforms.py:1854: ComplexWarning: Casting complex values to real discards the imaginary part\n",
        "  np.float_)\n"
       ]
      },
      {
       "metadata": {},
       "output_type": "pyout",
       "prompt_number": 19,
       "text": [
        "(array([   2.,    2.,    0.,    2.,    2.,    0.,    0.,    0.,    0.,\n",
        "           4.,    0.,    4.,    4.,    4.,   10.,    4.,    4.,   10.,\n",
        "           0.,   22.,   10.,    2.,   18.,   18.,   20.,   32.,   38.,\n",
        "          42.,   42.,   44.,   30.,   64.,   68.,   50.,   70.,   76.,\n",
        "          99.,  101.,   90.,  120.,  115.,  116.,  126.,  102.,  130.,\n",
        "          90.,  134.,  100.,  100.,  102.,   78.,   86.,   70.,   56.,\n",
        "          64.,   74.,   58.,   76.,   56.,   42.,   50.,   42.,   40.,\n",
        "          18.,   12.,    6.,    6.,    4.,    4.,    2.,    2.,    0.,\n",
        "           0.,    0.,    0.,    0.,    2.,    0.,    0.,    0.,    0.,\n",
        "           0.,    0.,    0.,    0.,    0.,    0.,    0.,    0.,    0.,\n",
        "           0.,    0.,    0.,    0.,    0.,    0.,    0.,    0.,    0.,    1.]),\n",
        " array([ 0.72603595+2.82807924j,  0.80810036+2.79979845j,\n",
        "         0.89016476+2.77151766j,  0.97222917+2.74323687j,\n",
        "         1.05429358+2.71495607j,  1.13635798+2.68667528j,\n",
        "         1.21842239+2.65839449j,  1.30048680+2.6301137j ,\n",
        "         1.38255120+2.6018329j ,  1.46461561+2.57355211j,\n",
        "         1.54668002+2.54527132j,  1.62874442+2.51699053j,\n",
        "         1.71080883+2.48870973j,  1.79287324+2.46042894j,\n",
        "         1.87493764+2.43214815j,  1.95700205+2.40386736j,\n",
        "         2.03906645+2.37558656j,  2.12113086+2.34730577j,\n",
        "         2.20319527+2.31902498j,  2.28525967+2.29074419j,\n",
        "         2.36732408+2.26246339j,  2.44938849+2.2341826j ,\n",
        "         2.53145289+2.20590181j,  2.61351730+2.17762102j,\n",
        "         2.69558171+2.14934023j,  2.77764611+2.12105943j,\n",
        "         2.85971052+2.09277864j,  2.94177493+2.06449785j,\n",
        "         3.02383933+2.03621706j,  3.10590374+2.00793626j,\n",
        "         3.18796815+1.97965547j,  3.27003255+1.95137468j,\n",
        "         3.35209696+1.92309389j,  3.43416137+1.89481309j,\n",
        "         3.51622577+1.8665323j ,  3.59829018+1.83825151j,\n",
        "         3.68035459+1.80997072j,  3.76241899+1.78168992j,\n",
        "         3.84448340+1.75340913j,  3.92654781+1.72512834j,\n",
        "         4.00861221+1.69684755j,  4.09067662+1.66856675j,\n",
        "         4.17274103+1.64028596j,  4.25480543+1.61200517j,\n",
        "         4.33686984+1.58372438j,  4.41893425+1.55544358j,\n",
        "         4.50099865+1.52716279j,  4.58306306+1.498882j  ,\n",
        "         4.66512747+1.47060121j,  4.74719187+1.44232041j,\n",
        "         4.82925628+1.41403962j,  4.91132069+1.38575883j,\n",
        "         4.99338509+1.35747804j,  5.07544950+1.32919724j,\n",
        "         5.15751391+1.30091645j,  5.23957831+1.27263566j,\n",
        "         5.32164272+1.24435487j,  5.40370713+1.21607407j,\n",
        "         5.48577153+1.18779328j,  5.56783594+1.15951249j,\n",
        "         5.64990034+1.1312317j ,  5.73196475+1.1029509j ,\n",
        "         5.81402916+1.07467011j,  5.89609356+1.04638932j,\n",
        "         5.97815797+1.01810853j,  6.06022238+0.98982774j,\n",
        "         6.14228678+0.96154694j,  6.22435119+0.93326615j,\n",
        "         6.30641560+0.90498536j,  6.38848000+0.87670457j,\n",
        "         6.47054441+0.84842377j,  6.55260882+0.82014298j,\n",
        "         6.63467322+0.79186219j,  6.71673763+0.7635814j ,\n",
        "         6.79880204+0.7353006j ,  6.88086644+0.70701981j,\n",
        "         6.96293085+0.67873902j,  7.04499526+0.65045823j,\n",
        "         7.12705966+0.62217743j,  7.20912407+0.59389664j,\n",
        "         7.29118848+0.56561585j,  7.37325288+0.53733506j,\n",
        "         7.45531729+0.50905426j,  7.53738170+0.48077347j,\n",
        "         7.61944610+0.45249268j,  7.70151051+0.42421189j,\n",
        "         7.78357492+0.39593109j,  7.86563932+0.3676503j ,\n",
        "         7.94770373+0.33936951j,  8.02976814+0.31108872j,\n",
        "         8.11183254+0.28280792j,  8.19389695+0.25452713j,\n",
        "         8.27596136+0.22624634j,  8.35802576+0.19796555j,\n",
        "         8.44009017+0.16968475j,  8.52215458+0.14140396j,\n",
        "         8.60421898+0.11312317j,  8.68628339+0.08484238j,\n",
        "         8.76834780+0.05656158j,  8.85041220+0.02828079j,  8.93247661+0.j        ]),\n",
        " <a list of 100 Patch objects>)"
       ]
      }
     ],
     "prompt_number": 19
    },
    {
     "cell_type": "code",
     "collapsed": false,
     "input": [
      "import os"
     ],
     "language": "python",
     "metadata": {},
     "outputs": [],
     "prompt_number": 1
    },
    {
     "cell_type": "code",
     "collapsed": false,
     "input": [
      "if np.sum(['.abf' in x for x in os.listdir('E:\\\\FlyDB\\\\' + os.listdir('E:\\\\FlyDB')[-1])]):\n",
      "    newdir = 'Fly%04d'%(int(os.listdir('E:\\\\FlyDB')[-1].split('Fly')[-1])+1)\n",
      "    print 'making:' + newdir\n",
      "    os.mkdir('E:\\\\FlyDB\\\\'+newdir)"
     ],
     "language": "python",
     "metadata": {},
     "outputs": [],
     "prompt_number": 25
    },
    {
     "cell_type": "code",
     "collapsed": false,
     "input": [
      "reload(acld)"
     ],
     "language": "python",
     "metadata": {},
     "outputs": [
      {
       "metadata": {},
       "output_type": "pyout",
       "prompt_number": 3,
       "text": [
        "<module 'arenaclouds' from 'E:\\flight-muscles\\src\\arenaclouds.pyc'>"
       ]
      }
     ],
     "prompt_number": 3
    },
    {
     "cell_type": "code",
     "collapsed": false,
     "input": [
      "acld.play_pattern(roll_imgs_90)"
     ],
     "language": "python",
     "metadata": {},
     "outputs": [],
     "prompt_number": 23
    },
    {
     "cell_type": "code",
     "collapsed": false,
     "input": [
      "pattern_names = ['Pattern_scld_stripe_test_yaw_90_0',\n",
      "                 'Pattern_scld_stripe_test_yaw_90_1',\n",
      "                 'Pattern_scld_stripe_test_yaw_90_2',\n",
      "                 'Pattern_scld_stripe_test_yaw_90_3',\n",
      "                 'Pattern_scld_stripe_test_yaw_90_4',\n",
      "                 'Pattern_scld_stripe_test_yaw_90_5',\n",
      "                 'Pattern_scld_stripe_test_yaw_90_6',\n",
      "                 'Pattern_scld_stripe_test_yaw_90_7',\n",
      "                 'Pattern_scld_stripe_test_yaw_90_8',\n",
      "                 'Pattern_scld_stripe_test_yaw_90_9']"
     ],
     "language": "python",
     "metadata": {},
     "outputs": [],
     "prompt_number": 26
    },
    {
     "cell_type": "code",
     "collapsed": false,
     "input": [
      "condition_list = np.random.permutation([2,3,4,5,6,7,8,9,10,11])"
     ],
     "language": "python",
     "metadata": {},
     "outputs": [],
     "prompt_number": 27
    },
    {
     "cell_type": "code",
     "collapsed": false,
     "input": [
      "f = open('E:\\\\FlyDB\\\\'+newdir + '\\\\run_data.txt','wt')\n",
      "f.writelines([pattern_names[condition_number-2] + '\\n' for condition_number in condition_list])\n",
      "f.close()"
     ],
     "language": "python",
     "metadata": {},
     "outputs": [],
     "prompt_number": 33
    },
    {
     "cell_type": "code",
     "collapsed": false,
     "input": [
      "f.writelines()"
     ],
     "language": "python",
     "metadata": {},
     "outputs": [],
     "prompt_number": 7
    },
    {
     "cell_type": "code",
     "collapsed": false,
     "input": [],
     "language": "python",
     "metadata": {},
     "outputs": [],
     "prompt_number": 13
    },
    {
     "cell_type": "code",
     "collapsed": false,
     "input": [],
     "language": "python",
     "metadata": {},
     "outputs": [],
     "prompt_number": 13
    },
    {
     "cell_type": "code",
     "collapsed": false,
     "input": [],
     "language": "python",
     "metadata": {},
     "outputs": [],
     "prompt_number": 13
    },
    {
     "cell_type": "code",
     "collapsed": false,
     "input": [],
     "language": "python",
     "metadata": {},
     "outputs": [],
     "prompt_number": 13
    },
    {
     "cell_type": "code",
     "collapsed": false,
     "input": [],
     "language": "python",
     "metadata": {},
     "outputs": [],
     "prompt_number": 13
    },
    {
     "cell_type": "code",
     "collapsed": false,
     "input": [],
     "language": "python",
     "metadata": {},
     "outputs": [],
     "prompt_number": 13
    },
    {
     "cell_type": "code",
     "collapsed": false,
     "input": [],
     "language": "python",
     "metadata": {},
     "outputs": [],
     "prompt_number": 13
    },
    {
     "cell_type": "code",
     "collapsed": false,
     "input": [],
     "language": "python",
     "metadata": {},
     "outputs": [],
     "prompt_number": 13
    },
    {
     "cell_type": "code",
     "collapsed": false,
     "input": [],
     "language": "python",
     "metadata": {},
     "outputs": [],
     "prompt_number": 13
    },
    {
     "cell_type": "code",
     "collapsed": false,
     "input": [],
     "language": "python",
     "metadata": {},
     "outputs": [],
     "prompt_number": 13
    },
    {
     "cell_type": "code",
     "collapsed": false,
     "input": [],
     "language": "python",
     "metadata": {},
     "outputs": [],
     "prompt_number": 13
    },
    {
     "cell_type": "code",
     "collapsed": false,
     "input": [],
     "language": "python",
     "metadata": {},
     "outputs": [],
     "prompt_number": 13
    },
    {
     "cell_type": "code",
     "collapsed": false,
     "input": [],
     "language": "python",
     "metadata": {},
     "outputs": [],
     "prompt_number": 13
    },
    {
     "cell_type": "code",
     "collapsed": false,
     "input": [],
     "language": "python",
     "metadata": {},
     "outputs": [],
     "prompt_number": 13
    },
    {
     "cell_type": "code",
     "collapsed": false,
     "input": [],
     "language": "python",
     "metadata": {},
     "outputs": [],
     "prompt_number": 13
    },
    {
     "cell_type": "code",
     "collapsed": false,
     "input": [],
     "language": "python",
     "metadata": {},
     "outputs": [],
     "prompt_number": 13
    },
    {
     "cell_type": "code",
     "collapsed": false,
     "input": [],
     "language": "python",
     "metadata": {},
     "outputs": [],
     "prompt_number": 13
    },
    {
     "cell_type": "code",
     "collapsed": false,
     "input": [],
     "language": "python",
     "metadata": {},
     "outputs": [],
     "prompt_number": 13
    },
    {
     "cell_type": "code",
     "collapsed": false,
     "input": [],
     "language": "python",
     "metadata": {},
     "outputs": [],
     "prompt_number": 13
    },
    {
     "cell_type": "code",
     "collapsed": false,
     "input": [],
     "language": "python",
     "metadata": {},
     "outputs": [],
     "prompt_number": 13
    },
    {
     "cell_type": "code",
     "collapsed": false,
     "input": [],
     "language": "python",
     "metadata": {},
     "outputs": [],
     "prompt_number": 13
    },
    {
     "cell_type": "code",
     "collapsed": false,
     "input": [],
     "language": "python",
     "metadata": {},
     "outputs": [],
     "prompt_number": 13
    },
    {
     "cell_type": "code",
     "collapsed": false,
     "input": [],
     "language": "python",
     "metadata": {},
     "outputs": [],
     "prompt_number": 13
    },
    {
     "cell_type": "code",
     "collapsed": false,
     "input": [],
     "language": "python",
     "metadata": {},
     "outputs": [],
     "prompt_number": 13
    },
    {
     "cell_type": "code",
     "collapsed": false,
     "input": [],
     "language": "python",
     "metadata": {},
     "outputs": [],
     "prompt_number": 13
    },
    {
     "cell_type": "code",
     "collapsed": false,
     "input": [],
     "language": "python",
     "metadata": {},
     "outputs": [],
     "prompt_number": 13
    },
    {
     "cell_type": "code",
     "collapsed": false,
     "input": [],
     "language": "python",
     "metadata": {},
     "outputs": [],
     "prompt_number": 13
    },
    {
     "cell_type": "code",
     "collapsed": false,
     "input": [],
     "language": "python",
     "metadata": {},
     "outputs": [],
     "prompt_number": 13
    },
    {
     "cell_type": "code",
     "collapsed": false,
     "input": [],
     "language": "python",
     "metadata": {},
     "outputs": [],
     "prompt_number": 13
    },
    {
     "cell_type": "code",
     "collapsed": false,
     "input": [],
     "language": "python",
     "metadata": {},
     "outputs": []
    }
   ],
   "metadata": {}
  }
 ]
}