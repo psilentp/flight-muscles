{
 "metadata": {
  "name": "",
  "signature": "sha256:4b7101fccab8e26afeb35902863b9296a7501cec502671262d060386fca60b1b"
 },
 "nbformat": 3,
 "nbformat_minor": 0,
 "worksheets": [
  {
   "cells": [
    {
     "cell_type": "markdown",
     "metadata": {},
     "source": [
      "Preliminary analysis performed on 3 flies (302,303,304) u56(Gcamp6f)XR22H05 to see if stimulus protocol yields interpritable results - it seemed as though more reps at a the same angular velocilty would be a more efficient manner of probing the system. Will try 10 reps for each direction for next set of flies. "
     ]
    },
    {
     "cell_type": "code",
     "collapsed": false,
     "input": [
      "%pylab"
     ],
     "language": "python",
     "metadata": {},
     "outputs": [
      {
       "output_type": "stream",
       "stream": "stdout",
       "text": [
        "Using matplotlib backend: WXAgg\n",
        "Populating the interactive namespace from numpy and matplotlib\n"
       ]
      }
     ],
     "prompt_number": 1
    },
    {
     "cell_type": "code",
     "collapsed": false,
     "input": [
      "import neo\n",
      "from neo.io.axonio import AxonIO"
     ],
     "language": "python",
     "metadata": {},
     "outputs": [],
     "prompt_number": 2
    },
    {
     "cell_type": "code",
     "collapsed": false,
     "input": [
      "filename = '/media/FlyDataB/FlyDB/Fly0303/T2_trial1_led_test_14d30005.abf'\n",
      "#filename = '/media/FlyDataB/FlyDB/Fly0303/T2_trial1_led_test_14d30005.abf'\n",
      "reader = AxonIO(filename=filename)\n",
      "blocks = reader.read()"
     ],
     "language": "python",
     "metadata": {},
     "outputs": [],
     "prompt_number": 4
    },
    {
     "cell_type": "code",
     "collapsed": false,
     "input": [
      "header = reader.read_header()"
     ],
     "language": "python",
     "metadata": {},
     "outputs": [],
     "prompt_number": 5
    },
    {
     "cell_type": "code",
     "collapsed": false,
     "input": [
      "channel_names = [info['ADCChNames'] for info in header['listADCInfo']]\n",
      "channel_units = [info['ADCChUnits'] for info in header['listADCInfo']]"
     ],
     "language": "python",
     "metadata": {},
     "outputs": [],
     "prompt_number": 6
    },
    {
     "cell_type": "code",
     "collapsed": false,
     "input": [
      "times = blocks[0].segments[0].analogsignals[0].times"
     ],
     "language": "python",
     "metadata": {},
     "outputs": [],
     "prompt_number": 7
    },
    {
     "cell_type": "code",
     "collapsed": false,
     "input": [
      "sampling_period = blocks[0].segments[0].analogsignals[0].sampling_period"
     ],
     "language": "python",
     "metadata": {},
     "outputs": [],
     "prompt_number": 8
    },
    {
     "cell_type": "code",
     "collapsed": false,
     "input": [
      "times.units = 's'\n",
      "sampling_period.units = 's'\n",
      "times = np.array(times)\n",
      "sampling_period = np.float64(sampling_period)\n",
      "signals = [np.array(x) for x in blocks[0].segments[0].analogsignals]\n",
      "signals = dict(zip(channel_names,signals))\n",
      "signals['times'] = times"
     ],
     "language": "python",
     "metadata": {},
     "outputs": [],
     "prompt_number": 9
    },
    {
     "cell_type": "code",
     "collapsed": false,
     "input": [
      "signals.keys()"
     ],
     "language": "python",
     "metadata": {},
     "outputs": [
      {
       "metadata": {},
       "output_type": "pyout",
       "prompt_number": 10,
       "text": [
        "['Xpos',\n",
        " 'CamSync',\n",
        " 'WBSync',\n",
        " 'Photostim',\n",
        " 'Ypos',\n",
        " 'AMsysCh1',\n",
        " 'CamTrig',\n",
        " 'Ph1',\n",
        " 'LeftWing',\n",
        " 'StimCond',\n",
        " 'Ph3',\n",
        " 'Ph2',\n",
        " 'RightWing',\n",
        " 'Ph0',\n",
        " 'DAC2',\n",
        " 'times']"
       ]
      }
     ],
     "prompt_number": 10
    },
    {
     "cell_type": "code",
     "collapsed": false,
     "input": [],
     "language": "python",
     "metadata": {},
     "outputs": [],
     "prompt_number": 9
    },
    {
     "cell_type": "code",
     "collapsed": false,
     "input": [
      "num_cond = (2+2+2*5)"
     ],
     "language": "python",
     "metadata": {},
     "outputs": [],
     "prompt_number": 10
    },
    {
     "cell_type": "code",
     "collapsed": false,
     "input": [
      "num_cond"
     ],
     "language": "python",
     "metadata": {},
     "outputs": [
      {
       "metadata": {},
       "output_type": "pyout",
       "prompt_number": 11,
       "text": [
        "14"
       ]
      }
     ],
     "prompt_number": 11
    },
    {
     "cell_type": "code",
     "collapsed": false,
     "input": [
      "vel_range_yaw = [10,1,4,7]\n",
      "vel_range_trans = [1]\n",
      "dir_range = ['trans_back','trans_down','trans_for','trans_up','yaw_270','yaw_90']\n",
      "rep_range = range(5)"
     ],
     "language": "python",
     "metadata": {},
     "outputs": [],
     "prompt_number": 11
    },
    {
     "cell_type": "code",
     "collapsed": false,
     "input": [
      "pattern_data = dict()\n",
      "count = 2 #pattern_names[0] is fixation\n",
      "for direction in dir_range:\n",
      "    if 'trans' in direction:\n",
      "        vel_range = vel_range_trans\n",
      "    else:\n",
      "        vel_range = vel_range_yaw\n",
      "    for vel in vel_range:\n",
      "        for rep in rep_range:\n",
      "            pattern_data['step_%s_v%s_rep%s'%(direction,vel,rep)] = dict()\n",
      "            pattern_data['step_%s_v%s_rep%s'%(direction,vel,rep)]['condition_tuple'] = (direction,\n",
      "                                                                                            vel,\n",
      "                                                                                            rep)\n",
      "            pattern_data['step_%s_v%s_rep%s'%(direction,vel,rep)]['pattern_index'] = count\n",
      "            #pattern_data['step_%s_v%s_rep%s'%(direction,vel,rep)]['condition_voltage'] = encode_condition(count)\n",
      "            count += 1\n",
      "\n",
      "def encode_condition(idx):\n",
      "    ntrials = len(pattern_data.keys())#len(vel_range)*len(dir_range)*len(rep_range)\n",
      "    return ((idx)/float(ntrials+1)*10)\n",
      "\n",
      "for trial in pattern_data.values():\n",
      "    trial['condition_voltage'] = encode_condition(trial['pattern_index'])"
     ],
     "language": "python",
     "metadata": {},
     "outputs": [],
     "prompt_number": 12
    },
    {
     "cell_type": "code",
     "collapsed": false,
     "input": [
      "from scipy.signal import medfilt\n",
      "fcond = medfilt(signals['StimCond'],11)"
     ],
     "language": "python",
     "metadata": {},
     "outputs": [],
     "prompt_number": 15
    },
    {
     "cell_type": "code",
     "collapsed": false,
     "input": [
      "def decode_condition(condition_voltage):\n",
      "    ntrials = len(pattern_data.keys())\n",
      "    return around(condition_voltage*ntrials/10)\n",
      "\n",
      "#csig = decode_condition(signals['StimCond'])\n",
      "csig = decode_condition(fcond)\n",
      "def get_idx(key):\n",
      "    cvoltage = decode_condition(pattern_data[key]['condition_voltage'])\n",
      "    return np.where(cvoltage == csig)"
     ],
     "language": "python",
     "metadata": {},
     "outputs": [],
     "prompt_number": 16
    },
    {
     "cell_type": "code",
     "collapsed": false,
     "input": [],
     "language": "python",
     "metadata": {},
     "outputs": [],
     "prompt_number": 16
    },
    {
     "cell_type": "code",
     "collapsed": false,
     "input": [
      "step_yaw_90_v1 = [x for x in pattern_data.keys() if 'step_yaw_90_v1' in x]\n",
      "step_yaw_90_v4 = [x for x in pattern_data.keys() if 'step_yaw_90_v4' in x]\n",
      "step_yaw_90_v7 = [x for x in pattern_data.keys() if 'step_yaw_90_v7' in x]\n",
      "\n",
      "step_yaw_270_v1 = [x for x in pattern_data.keys() if 'step_yaw_270_v1' in x]\n",
      "step_yaw_270_v4 = [x for x in pattern_data.keys() if 'step_yaw_270_v4' in x]\n",
      "step_yaw_270_v7 = [x for x in pattern_data.keys() if 'step_yaw_270_v7' in x]"
     ],
     "language": "python",
     "metadata": {},
     "outputs": [],
     "prompt_number": 17
    },
    {
     "cell_type": "code",
     "collapsed": false,
     "input": [
      "step_yaw_90_v1_idx = [get_idx(x) for x in step_yaw_90_v1]\n",
      "step_yaw_90_v4_idx = [get_idx(x) for x in step_yaw_90_v4]\n",
      "step_yaw_90_v7_idx = [get_idx(x) for x in step_yaw_90_v7]\n",
      "\n",
      "step_yaw_270_v1_idx = [get_idx(x) for x in step_yaw_270_v1]\n",
      "step_yaw_270_v4_idx = [get_idx(x) for x in step_yaw_270_v4]\n",
      "step_yaw_270_v7_idx = [get_idx(x) for x in step_yaw_270_v7]"
     ],
     "language": "python",
     "metadata": {},
     "outputs": [],
     "prompt_number": 18
    },
    {
     "cell_type": "code",
     "collapsed": false,
     "input": [
      "[plot(signals['Xpos'][x]) for x in step_yaw_90_v1_idx]"
     ],
     "language": "python",
     "metadata": {},
     "outputs": [
      {
       "metadata": {},
       "output_type": "pyout",
       "prompt_number": 19,
       "text": [
        "[[<matplotlib.lines.Line2D at 0x61f8b50>],\n",
        " [<matplotlib.lines.Line2D at 0x60453d0>],\n",
        " [<matplotlib.lines.Line2D at 0x603ee10>],\n",
        " [<matplotlib.lines.Line2D at 0x620d990>],\n",
        " [<matplotlib.lines.Line2D at 0x62103d0>],\n",
        " [<matplotlib.lines.Line2D at 0x6210650>],\n",
        " [<matplotlib.lines.Line2D at 0x6210c90>],\n",
        " [<matplotlib.lines.Line2D at 0x6045e90>],\n",
        " [<matplotlib.lines.Line2D at 0x6215950>],\n",
        " [<matplotlib.lines.Line2D at 0x6215f90>]]"
       ]
      }
     ],
     "prompt_number": 19
    },
    {
     "cell_type": "code",
     "collapsed": false,
     "input": [
      "[plot(signals['Ph0'][x],color = 'k') for x in step_yaw_270_v1_idx]\n",
      "[plot(signals['Ph0'][x],color = 'k') for x in step_yaw_270_v4_idx]\n",
      "[plot(signals['Ph0'][x],color = 'k') for x in step_yaw_270_v7_idx]\n",
      "\n",
      "[plot(signals['Ph0'][x],color = 'r') for x in step_yaw_90_v1_idx]\n",
      "[plot(signals['Ph0'][x],color = 'r') for x in step_yaw_90_v4_idx]\n",
      "[plot(signals['Ph0'][x],color = 'r') for x in step_yaw_90_v7_idx]"
     ],
     "language": "python",
     "metadata": {},
     "outputs": [
      {
       "metadata": {},
       "output_type": "pyout",
       "prompt_number": 30,
       "text": [
        "[[<matplotlib.lines.Line2D at 0x1ecf6b10>],\n",
        " [<matplotlib.lines.Line2D at 0x1ecfa190>],\n",
        " [<matplotlib.lines.Line2D at 0x1ecfa7d0>],\n",
        " [<matplotlib.lines.Line2D at 0x1ecfae10>],\n",
        " [<matplotlib.lines.Line2D at 0x1ecfd490>]]"
       ]
      }
     ],
     "prompt_number": 30
    },
    {
     "cell_type": "code",
     "collapsed": false,
     "input": [
      "[plot(times[x],fcond[x],'-o') for x  in step_yaw_90_v1_idx]"
     ],
     "language": "python",
     "metadata": {},
     "outputs": [
      {
       "metadata": {},
       "output_type": "pyout",
       "prompt_number": 28,
       "text": [
        "[[<matplotlib.lines.Line2D at 0x11e7b1d0>],\n",
        " [<matplotlib.lines.Line2D at 0x11e7b850>],\n",
        " [<matplotlib.lines.Line2D at 0x11e7be50>],\n",
        " [<matplotlib.lines.Line2D at 0x11e80490>],\n",
        " [<matplotlib.lines.Line2D at 0x11e80a90>],\n",
        " [<matplotlib.lines.Line2D at 0x11e80cd0>],\n",
        " [<matplotlib.lines.Line2D at 0x11e81310>],\n",
        " [<matplotlib.lines.Line2D at 0x14f17490>],\n",
        " [<matplotlib.lines.Line2D at 0x11e81f10>],\n",
        " [<matplotlib.lines.Line2D at 0x11e86550>]]"
       ]
      }
     ],
     "prompt_number": 28
    },
    {
     "cell_type": "code",
     "collapsed": false,
     "input": [
      "from scipy.signal import medfilt"
     ],
     "language": "python",
     "metadata": {},
     "outputs": [],
     "prompt_number": 97
    },
    {
     "cell_type": "code",
     "collapsed": false,
     "input": [
      "plot(signals['Ph0'][::100])\n",
      "plot(signals['Xpos'][::100])"
     ],
     "language": "python",
     "metadata": {},
     "outputs": [
      {
       "metadata": {},
       "output_type": "pyout",
       "prompt_number": 26,
       "text": [
        "[<matplotlib.lines.Line2D at 0xdd28610>]"
       ]
      }
     ],
     "prompt_number": 26
    },
    {
     "cell_type": "code",
     "collapsed": false,
     "input": [
      "plot(signals['StimCond'][:10000000])\n",
      "plot(fcond[:10000000])"
     ],
     "language": "python",
     "metadata": {},
     "outputs": [
      {
       "metadata": {},
       "output_type": "pyout",
       "prompt_number": 116,
       "text": [
        "[<matplotlib.lines.Line2D at 0x503b3c10>]"
       ]
      }
     ],
     "prompt_number": 116
    },
    {
     "cell_type": "code",
     "collapsed": false,
     "input": [],
     "language": "python",
     "metadata": {},
     "outputs": []
    }
   ],
   "metadata": {}
  }
 ]
}