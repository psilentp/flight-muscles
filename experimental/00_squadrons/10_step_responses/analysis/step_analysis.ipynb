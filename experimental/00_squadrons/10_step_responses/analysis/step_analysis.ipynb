{
 "metadata": {
  "name": "",
  "signature": "sha256:4c74571b0a3701ca2bae1c45c3d1b7c3d626ae486849c2c2678cfec1017805e8"
 },
 "nbformat": 3,
 "nbformat_minor": 0,
 "worksheets": [
  {
   "cells": [
    {
     "cell_type": "code",
     "collapsed": false,
     "input": [
      "import flylib\n",
      "import db_access as dba\n",
      "fly_db = dba.get_db()\n",
      "import numpy as np\n",
      "import pylab as plb"
     ],
     "language": "python",
     "metadata": {},
     "outputs": [],
     "prompt_number": 11
    },
    {
     "cell_type": "code",
     "collapsed": false,
     "input": [],
     "language": "python",
     "metadata": {},
     "outputs": [],
     "prompt_number": 14
    },
    {
     "cell_type": "code",
     "collapsed": false,
     "input": [
      "test_group = [234,235,236]\n",
      "swarm = flylib.Squadron(fly_db,test_group)\n",
      "fly = swarm.flies[2]\n",
      "expmnt = fly.experiments.values()[0]"
     ],
     "language": "python",
     "metadata": {},
     "outputs": [],
     "prompt_number": 2
    },
    {
     "cell_type": "code",
     "collapsed": false,
     "input": [
      "roifile = fly.fly_path + 'step_responses_roi.cpkl'\n",
      "expmnt = fly.experiments.values()[0]\n",
      "f = open(roifile)\n",
      "import cPickle\n",
      "roidata = cPickle.load(f)\n",
      "f.close()"
     ],
     "language": "python",
     "metadata": {},
     "outputs": [],
     "prompt_number": 3
    },
    {
     "cell_type": "code",
     "collapsed": false,
     "input": [
      "stim_cond = np.array(expmnt.exp_record['tiff_data']['axon_framebase']['DAC2'])\n",
      "lwing = np.array(expmnt.exp_record['tiff_data']['axon_framebase']['Ph0'])\n",
      "rwing = np.array(expmnt.exp_record['tiff_data']['axon_framebase']['Ph1'])\n",
      "lmr = np.array(expmnt.exp_record['tiff_data']['axon_framebase']['Ph2'])\n",
      "aux = np.array(expmnt.exp_record['tiff_data']['axon_framebase']['Ph3'])\n",
      "xpos = np.array(expmnt.exp_record['tiff_data']['axon_framebase']['Xpos'])\n",
      "ypos = np.array(expmnt.exp_record['tiff_data']['axon_framebase']['Ypos'])\n",
      "times = np.array(expmnt.exp_record['tiff_data']['axon_framebase']['times'])\n",
      "\n",
      "trials = flylib.idx_by_thresh(stim_cond>0)\n",
      "trial_vals = [np.around(np.mean(stim_cond[idx])) for idx in trials]\n",
      "sorted_trials = [trials[x] for x in np.argsort(np.array(trial_vals))]\n",
      "trial_map = {0:'position_function_neg_0.00s',\n",
      "              1:'position_function_neg_0.25s',\n",
      "              2:'position_function_neg_0.50s',\n",
      "              3:'position_function_neg_1.00s',\n",
      "              4:'position_function_pos_0.00s',\n",
      "              5:'position_function_pos_0.25s',\n",
      "              6:'position_function_pos_0.50s',\n",
      "              7:'position_function_pos_1.00s'}"
     ],
     "language": "python",
     "metadata": {},
     "outputs": [],
     "prompt_number": 6
    },
    {
     "cell_type": "code",
     "collapsed": false,
     "input": [
      "from pylab import *\n",
      "import scipy.interpolate\n",
      "fun = scipy.interpolate.griddata\n",
      "figure()\n",
      "ax0 = subplot2grid((2,1),(0,0))\n",
      "ax1 = subplot2grid((2,1),(1,0))\n",
      "for i,selected_val in enumerate(trial_map.keys()[:4]):\n",
      "    sig = roidata['iii234']\n",
      "    axes(ax0)\n",
      "    selected_trials = [trial for trial_val,trial in zip(trial_vals,trials) if trial_val == selected_val]\n",
      "    time_resamp = linspace(0,3.0,60*3.)\n",
      "    trial_data = [sig[idx] for idx in selected_trials]\n",
      "    trial_times = [times[idx]-times[idx][0] for idx in selected_trials]\n",
      "    data_resamp = np.array([fun(t,d,time_resamp) for t,d in zip(trial_times,trial_data)])\n",
      "    data_median = median(data_resamp,axis = 0)\n",
      "   \n",
      "    u_perc = percentile(data_resamp,75,axis = 0)\n",
      "    l_perc = percentile(data_resamp,25,axis = 0)\n",
      "    \n",
      "    data_mean = mean(data_resamp,axis = 0)\n",
      "    data_std = std(data_resamp,axis = 0)\n",
      "    \n",
      "    lns = plot(time_resamp,data_median,c = cm.jet(i/7.0),alpha = 1)\n",
      "    lns = fill_between(time_resamp,u_perc,l_perc,facecolor = cm.jet(i/7.0),alpha = 0.2)\n",
      "    \n",
      "    #lns = plot(time_resamp,data_mean,c = cm.jet(i/7.0),alpha = 1)\n",
      "    #lns = fill_between(time_resamp,data_mean+data_std,data_mean-data_std,facecolor = cm.jet(i/7.0),alpha = 0.2)\n",
      "    #gca().set_ybound(-5,2)\n",
      "    \n",
      "    axes(ax1)\n",
      "    \n",
      "    selected_trials = [trial for trial_val,trial in zip(trial_vals,trials) if trial_val == selected_val]\n",
      "    time_resamp = linspace(0,3.0,60*3.)\n",
      "    trial_data = [xpos[idx]-mean(xpos[idx][0:20]) for idx in selected_trials]\n",
      "    trial_times = [times[idx]-times[idx][0] for idx in selected_trials]\n",
      "    data_resamp = np.array([fun(t,d,time_resamp) for t,d in zip(trial_times,trial_data)])\n",
      "    data_mean = nanmean(data_resamp,axis = 0)\n",
      "    #u_perc = percentile(data_resamp,75,axis = 0)\n",
      "    #l_perc = percentile(data_resamp,25,axis = 0)\n",
      "    lns = plot(time_resamp,data_mean,c = cm.jet(i/7.0),alpha = 1)\n",
      "    #lns = fill_between(time_resamp,u_perc,l_perc,color = 'k',alpha = 0.2)\n",
      "show()"
     ],
     "language": "python",
     "metadata": {},
     "outputs": [],
     "prompt_number": 10
    },
    {
     "cell_type": "code",
     "collapsed": false,
     "input": [
      "roidata.keys()"
     ],
     "language": "python",
     "metadata": {},
     "outputs": [
      {
       "metadata": {},
       "output_type": "pyout",
       "prompt_number": 14,
       "text": [
        "['i2', 'iii1', 'i1', 'hg234', 'hg1', 'iii234', 'b1', 'b2', 'b3']"
       ]
      }
     ],
     "prompt_number": 14
    },
    {
     "cell_type": "code",
     "collapsed": false,
     "input": [
      "fly_db.close()"
     ],
     "language": "python",
     "metadata": {},
     "outputs": [
      {
       "output_type": "stream",
       "stream": "stdout",
       "text": [
        "<Closed HDF5 file>\n",
        "<Closed HDF5 file>\n",
        "<Closed HDF5 file>\n",
        "<Closed HDF5 file>\n",
        "<Closed HDF5 file>\n",
        "<Closed HDF5 file>\n",
        "<Closed HDF5 file>\n",
        "<Closed HDF5 file>\n",
        "<Closed HDF5 file>\n",
        "<Closed HDF5 file>\n",
        "<Closed HDF5 file>\n",
        "<Closed HDF5 file>\n",
        "<Closed HDF5 file>\n",
        "<Closed HDF5 file>\n",
        "<Closed HDF5 file>\n",
        "<Closed HDF5 file>\n",
        "<Closed HDF5 file>\n",
        "<Closed HDF5 file>\n",
        "<Closed HDF5 file>\n",
        "<Closed HDF5 file>\n",
        "<Closed HDF5 file>\n",
        "<Closed HDF5 file>\n",
        "<Closed HDF5 file>\n",
        "<Closed HDF5 file>\n",
        "<Closed HDF5 file>\n",
        "<Closed HDF5 file>\n",
        "<Closed HDF5 file>\n",
        "<Closed HDF5 file>\n",
        "<Closed HDF5 file>\n",
        "<Closed HDF5 file>\n",
        "<Closed HDF5 file>\n",
        "<Closed HDF5 file>\n",
        "<Closed HDF5 file>\n",
        "<Closed HDF5 file>\n",
        "<Closed HDF5 file>\n",
        "<Closed HDF5 file>\n",
        "<Closed HDF5 file>\n",
        "<Closed HDF5 file>\n",
        "<Closed HDF5 file>\n",
        "<Closed HDF5 file>\n",
        "<Closed HDF5 file>\n",
        "<Closed HDF5 file>\n",
        "<Closed HDF5 file>\n",
        "<Closed HDF5 file>\n",
        "<Closed HDF5 file>\n",
        "<Closed HDF5 file>\n",
        "<Closed HDF5 file>\n",
        "<Closed HDF5 file>\n",
        "<Closed HDF5 file>\n",
        "<Closed HDF5 file>\n",
        "<Closed HDF5 file>\n",
        "<Closed HDF5 file>\n",
        "<Closed HDF5 file>\n",
        "<Closed HDF5 file>\n",
        "<Closed HDF5 file>\n",
        "<Closed HDF5 file>\n",
        "<Closed HDF5 file>\n",
        "<Closed HDF5 file>\n",
        "<Closed HDF5 file>\n",
        "<Closed HDF5 file>\n",
        "<Closed HDF5 file>\n",
        "<Closed HDF5 file>\n",
        "<Closed HDF5 file>\n",
        "<Closed HDF5 file>\n",
        "<Closed HDF5 file>\n",
        "<Closed HDF5 file>\n",
        "<Closed HDF5 file>\n",
        "<Closed HDF5 file>\n",
        "<Closed HDF5 file>\n",
        "<Closed HDF5 file>\n",
        "<Closed HDF5 file>\n",
        "<Closed HDF5 file>\n",
        "<Closed HDF5 file>\n",
        "<Closed HDF5 file>\n",
        "<Closed HDF5 file>\n",
        "<Closed HDF5 file>\n",
        "<Closed HDF5 file>\n",
        "<Closed HDF5 file>\n",
        "<Closed HDF5 file>\n",
        "<Closed HDF5 file>\n",
        "<Closed HDF5 file>\n",
        "<Closed HDF5 file>\n",
        "<Closed HDF5 file>\n",
        "<Closed HDF5 file>\n",
        "<Closed HDF5 file>\n",
        "<Closed HDF5 file>\n",
        "<Closed HDF5 file>\n",
        "<Closed HDF5 file>\n",
        "<Closed HDF5 file>\n",
        "<Closed HDF5 file>\n",
        "<Closed HDF5 file>\n"
       ]
      }
     ],
     "prompt_number": 13
    },
    {
     "cell_type": "code",
     "collapsed": false,
     "input": [
      "close('all')"
     ],
     "language": "python",
     "metadata": {},
     "outputs": [],
     "prompt_number": 14
    },
    {
     "cell_type": "code",
     "collapsed": false,
     "input": [],
     "language": "python",
     "metadata": {},
     "outputs": [],
     "prompt_number": 191
    },
    {
     "cell_type": "code",
     "collapsed": false,
     "input": [],
     "language": "python",
     "metadata": {},
     "outputs": [],
     "prompt_number": 192
    },
    {
     "cell_type": "code",
     "collapsed": false,
     "input": [],
     "language": "python",
     "metadata": {},
     "outputs": [],
     "prompt_number": 194
    },
    {
     "cell_type": "code",
     "collapsed": false,
     "input": [],
     "language": "python",
     "metadata": {},
     "outputs": [],
     "prompt_number": 195
    },
    {
     "cell_type": "code",
     "collapsed": false,
     "input": [],
     "language": "python",
     "metadata": {},
     "outputs": [],
     "prompt_number": 196
    },
    {
     "cell_type": "code",
     "collapsed": false,
     "input": [],
     "language": "python",
     "metadata": {},
     "outputs": [],
     "prompt_number": 197
    },
    {
     "cell_type": "code",
     "collapsed": false,
     "input": [],
     "language": "python",
     "metadata": {},
     "outputs": [],
     "prompt_number": 117
    },
    {
     "cell_type": "code",
     "collapsed": false,
     "input": [],
     "language": "python",
     "metadata": {},
     "outputs": []
    }
   ],
   "metadata": {}
  }
 ]
}