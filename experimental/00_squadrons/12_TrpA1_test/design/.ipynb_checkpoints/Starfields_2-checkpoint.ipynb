{
 "metadata": {
  "name": "",
  "signature": "sha256:a3986f9e0c8416a33fdcdec014f327686a7d4b669bc80b3a38978c151ec8df93"
 },
 "nbformat": 3,
 "nbformat_minor": 0,
 "worksheets": [
  {
   "cells": [
    {
     "cell_type": "code",
     "collapsed": false,
     "input": [
      "import transformations as tran"
     ],
     "language": "python",
     "metadata": {},
     "outputs": [
      {
       "output_type": "stream",
       "stream": "stderr",
       "text": [
        "transformations.py:1888: UserWarning: failed to import module _transformations\n",
        "  warnings.warn(\"failed to import module %s\" % name)\n"
       ]
      }
     ],
     "prompt_number": 1
    },
    {
     "cell_type": "code",
     "collapsed": false,
     "input": [
      "def make_universe(max_sensory_radius = 2,\n",
      "                  star_density = 125):\n",
      "    universe_size = max_sensory_radius*2.1\n",
      "    num_stars = (universe_size**3)*star_density\n",
      "    ux = (random.ranf(size = num_stars)-0.5)*universe_size\n",
      "    uy = (random.ranf(size = num_stars)-0.5)*universe_size\n",
      "    uz = (random.ranf(size = num_stars)-0.5)*universe_size\n",
      "    uxyz = vstack((ux,uy,uz))\n",
      "    distances = linalg.norm(uxyz,axis = 0)\n",
      "    mask = (distances > max_sensory_radius)\n",
      "    xyz = uxyz[:,~mask]\n",
      "    return xyz"
     ],
     "language": "python",
     "metadata": {},
     "outputs": [],
     "prompt_number": 2
    },
    {
     "cell_type": "code",
     "collapsed": false,
     "input": [
      "def arena_project(xyz,arena_rad = 0.122/2,arena_elevation = 0.128):\n",
      "    x = xyz[0,:]\n",
      "    y = xyz[1,:]\n",
      "    z = xyz[2,:]\n",
      "    distances = linalg.norm(xyz,axis = 0)\n",
      "    longitude = arctan2(x,y) + pi\n",
      "    r = squeeze(linalg.norm([[x],[y]],axis = 0))\n",
      "    elevation = (z/r)*arena_rad\n",
      "    mask = (r<arena_rad)| (elevation > (arena_elevation/2)) | (elevation < (arena_elevation/-2))\n",
      "    return (longitude[~mask],elevation[~mask],distances[~mask])"
     ],
     "language": "python",
     "metadata": {},
     "outputs": [],
     "prompt_number": 3
    },
    {
     "cell_type": "code",
     "collapsed": false,
     "input": [
      "def digitize_points(longitude,\n",
      "                    elevation,\n",
      "                    distance,\n",
      "                    arena_rad = 0.122/2,\n",
      "                    arena_elevation = 0.128,\n",
      "                    display_shape = (96,32)):\n",
      "    elev_bins = linspace(-0.5*arena_elevation,0.5*arena_elevation,(display_shape[1]+1)*16)\n",
      "    long_bins = linspace(0,2*pi,(display_shape[0]+1)*16)\n",
      "    weights = 1/distance**2\n",
      "    #weights = ones_like(distance)\n",
      "    img_mtrx = histogramdd([longitude,elevation],bins =(long_bins,elev_bins),weights = weights,normed = False)[0].T\n",
      "    norm_weight = diff(arctan(elev_bins/arena_rad))\n",
      "    img_mtrx /= norm_weight[:,newaxis]\n",
      "    import cv2\n",
      "    img_mtrx = cv2.pyrDown(img_mtrx)\n",
      "    img_mtrx = cv2.pyrDown(img_mtrx)\n",
      "    img_mtrx = cv2.pyrDown(img_mtrx)\n",
      "    img_mtrx = cv2.pyrDown(img_mtrx,dstsize = display_shape)\n",
      "    return img_mtrx"
     ],
     "language": "python",
     "metadata": {},
     "outputs": [],
     "prompt_number": 4
    },
    {
     "cell_type": "code",
     "collapsed": false,
     "input": [
      "def integrate_frame(pts,\n",
      "                    rotation_vect = np.array([1.0,1.0,0.0]),\n",
      "                    translation_vect = np.array([0.0,0.0,0.0]),\n",
      "                    frame_period = 0.1):\n",
      "    rotational_velocity = linalg.norm(rotation_vect)\n",
      "    rotational_direction = rotation_vect/rotational_velocity\n",
      "    dt = frame_period/100.0\n",
      "    dtheta = rotational_velocity*dt \n",
      "    drot = tran.rotation_matrix(dtheta,rotational_direction)\n",
      "    dtrans = tran.translation_matrix(translation_vect*dt)\n",
      "    dA = np.dot(dtrans,drot)\n",
      "    for x in range(int(frame_period/dt)):\n",
      "        pts_H = vstack([pts,ones(shape(pts)[1])])\n",
      "        pts = np.dot(dA,pts_H)[:-1,:]\n",
      "    return pts"
     ],
     "language": "python",
     "metadata": {},
     "outputs": [],
     "prompt_number": 5
    },
    {
     "cell_type": "code",
     "collapsed": false,
     "input": [
      "def crop_universe(xyzp,max_sensory_radius):\n",
      "    distances = linalg.norm(xyzp,axis = 0)\n",
      "    mask = (distances > max_sensory_radius)\n",
      "    xyzp = xyzp[:,~mask]\n",
      "    return xyzp\n",
      "    \n",
      "def refill_universe(xyzp,star_density,max_sensory_radius,frame_distance):\n",
      "    xyz = make_universe(star_density = star_density,max_sensory_radius = max_sensory_radius+frame_distance*1.2)\n",
      "    distances = linalg.norm(xyz,axis = 0)\n",
      "    mask = (distances > max_sensory_radius)\n",
      "    xyzp = hstack((xyz[:,mask],xyzp))\n",
      "    return xyzp\n",
      "    \n",
      "def make_translation_pattern(equator_pole,\n",
      "                             translation_velocity,\n",
      "                             frame_rate,\n",
      "                             epoch_duration=2.25,\n",
      "                             max_sensory_radius = 2,\n",
      "                             star_density = 50):\n",
      "    #translate in a direction on the equator.\n",
      "    from scipy.misc import imresize\n",
      "    frame_period = 1/frame_rate\n",
      "    frame_distance = frame_period*translation_velocity\n",
      "    frames_per_cycle = around(epoch_duration*frame_rate).astype(int)\n",
      "    ####################\n",
      "    xyz = make_universe(star_density = star_density,max_sensory_radius = max_sensory_radius+frame_distance)\n",
      "    ###align the orientation vector with arena coordinates\n",
      "    unit_vector = np.array([0.,1.,0.])\n",
      "    zp_offset = (2*pi)/96*4\n",
      "    orientation_vector = dot(tran.rotation_matrix(equator_pole+zp_offset,[0,0,1])[:3,:3],unit_vector)*translation_velocity\n",
      "    xyzp = integrate_frame(xyz,\n",
      "                       rotation_vect = np.array([0.1,0.1,0.1]),\n",
      "                       translation_vect = orientation_vector,\n",
      "                       frame_period = 1/frame_rate)\n",
      "    ###crop to max_sensory_radius\n",
      "    xyzp = crop_universe(xyzp,max_sensory_radius)\n",
      "    proj = arena_project(xyzp)\n",
      "    imgs = digitize_points(*proj,display_shape = display_shape)\n",
      "    imgs = imgs[:,:,newaxis]\n",
      "    xyzp = refill_universe(xyzp,star_density,max_sensory_radius,frame_distance)\n",
      "    #####################\n",
      "    for i in range(frames_per_cycle):\n",
      "        xyzp = integrate_frame(xyzp,\n",
      "                       rotation_vect = np.array([1e-10,1e-10,1e-10]),\n",
      "                       translation_vect = orientation_vector,\n",
      "                       frame_period = 1/frame_rate)\n",
      "        xyzp = crop_universe(xyzp,max_sensory_radius)\n",
      "        proj = arena_project(xyzp)\n",
      "        img = digitize_points(*proj,display_shape = display_shape)\n",
      "        imgs = concatenate((imgs, img[:,:,newaxis]),axis = 2)\n",
      "        xyzp = refill_universe(xyzp,star_density,max_sensory_radius,frame_distance)\n",
      "    from scipy import io\n",
      "    return imgs\n",
      "    #io.savemat('equator_%03d'%(around(rad2deg(equator_pole))),{'imgs':imgs})\n",
      "\n",
      "def make_translation_pattern_coromeridian(coromeridian_pole,\n",
      "                                          translation_velocity,\n",
      "                                          frame_rate,\n",
      "                                          epoch_duration=2.25,\n",
      "                                          max_sensory_radius = 2,\n",
      "                                          star_density = 50):\n",
      "    #translate in a direction on the equator.\n",
      "    from scipy.misc import imresize\n",
      "    frame_period = 1/frame_rate\n",
      "    frame_distance = frame_period*translation_velocity\n",
      "    frames_per_cycle = around(epoch_duration*frame_rate).astype(int)\n",
      "    ####################\n",
      "    xyz = make_universe(star_density = star_density,max_sensory_radius = max_sensory_radius+frame_distance)\n",
      "    ###align the orientation vector with arena coordinates\n",
      "    \n",
      "    unit_vector = np.array([0.,1.,0.])\n",
      "    zp_offset = (2*pi)/96*4\n",
      "    orientation_vector = dot(tran.rotation_matrix(coromeridian_pole,array([1,0,0]))[:3,:3],unit_vector)\n",
      "    orientation_vector = dot(tran.rotation_matrix(zp_offset,array([0,0,1]))[:3,:3],orientation_vector)*translation_velocity\n",
      "    \n",
      "    xyzp = integrate_frame(xyz,\n",
      "                       rotation_vect = np.array([0.1,0.1,0.1]),\n",
      "                       translation_vect = orientation_vector,\n",
      "                       frame_period = 1/frame_rate)\n",
      "    ###crop to max_sensory_radius\n",
      "    xyzp = crop_universe(xyzp,max_sensory_radius)\n",
      "    proj = arena_project(xyzp)\n",
      "    imgs = digitize_points(*proj,display_shape = display_shape)\n",
      "    imgs = imgs[:,:,newaxis]\n",
      "    xyzp = refill_universe(xyzp,star_density,max_sensory_radius,frame_distance)\n",
      "    #####################\n",
      "    for i in range(frames_per_cycle):\n",
      "        xyzp = integrate_frame(xyzp,\n",
      "                       rotation_vect = np.array([1e-10,1e-10,1e-10]),\n",
      "                       translation_vect = orientation_vector,\n",
      "                       frame_period = 1/frame_rate)\n",
      "        xyzp = crop_universe(xyzp,max_sensory_radius)\n",
      "        proj = arena_project(xyzp)\n",
      "        img = digitize_points(*proj,display_shape = display_shape)\n",
      "        imgs = concatenate((imgs, img[:,:,newaxis]),axis = 2)\n",
      "        xyzp = refill_universe(xyzp,star_density,max_sensory_radius,frame_distance)\n",
      "    from scipy import io\n",
      "    return imgs\n",
      "    #io.savemat('equator_%03d'%(around(rad2deg(equator_pole))),{'imgs':imgs})\n",
      "    \n",
      "    \n",
      "def make_spin_pattern_equator(equator_pole,\n",
      "                              angular_velocity,\n",
      "                              frame_rate,\n",
      "                              max_sensory_radius = 2,\n",
      "                              star_density = 50):\n",
      "    #Spin the world around a equatorial pole\n",
      "    from scipy.misc import imresize\n",
      "    unit_vector = np.array([0.,1.,0.])\n",
      "    zp_offset = (2*pi)/96*4\n",
      "    orientation_vector = dot(tran.rotation_matrix(equator_pole+zp_offset,[0,0,1])[:3,:3],unit_vector)*angular_velocity\n",
      "    xyz = make_universe(star_density = star_density,max_sensory_radius = max_sensory_radius)\n",
      "    xyzp = integrate_frame(xyz,\n",
      "                       rotation_vect = orientation_vector,\n",
      "                       translation_vect = np.array([0,0,0]),\n",
      "                       frame_period = 1/frame_rate)\n",
      "    proj = arena_project(xyzp)\n",
      "    imgs = digitize_points(*proj,display_shape = display_shape)\n",
      "    imgs = imgs[:,:,newaxis]\n",
      "    frames_per_cycle = int(((2*pi)/angular_velocity)*frame_rate)\n",
      "    for i in range(frames_per_cycle):\n",
      "        xyzp = integrate_frame(xyzp,\n",
      "                           rotation_vect = orientation_vector,\n",
      "                           translation_vect = np.array([0,0,0]),\n",
      "                           frame_period = 1/frame_rate)\n",
      "        proj = arena_project(xyzp)\n",
      "        img = digitize_points(*proj,display_shape = display_shape)\n",
      "        imgs = concatenate((imgs, img[:,:,newaxis]),axis = 2)\n",
      "    from scipy import io\n",
      "    return imgs\n",
      "\n",
      "def make_spin_pattern_coromeridian(coromeridian_pole,\n",
      "                                   angular_velocity,\n",
      "                                   frame_rate,\n",
      "                                   max_sensory_radius = 2,\n",
      "                                   star_density = 50):\n",
      "    #Spin the world around a pole around a coronal maridian pole\n",
      "    from scipy.misc import imresize\n",
      "    unit_vector = np.array([0.,1.,0.])\n",
      "    zp_offset = (2*pi)/96*4\n",
      "    orientation_vector = dot(tran.rotation_matrix(coromeridian_pole,array([1,0,0]))[:3,:3],unit_vector)\n",
      "    orientation_vector = dot(tran.rotation_matrix(zp_offset,array([0,0,1]))[:3,:3],orientation_vector)*angular_velocity\n",
      "    xyz = make_universe(star_density = star_density,max_sensory_radius = max_sensory_radius)\n",
      "    xyzp = integrate_frame(xyz,\n",
      "                       rotation_vect = orientation_vector,\n",
      "                       translation_vect = np.array([0,0,0]),\n",
      "                       frame_period = 1/frame_rate)\n",
      "    proj = arena_project(xyzp)\n",
      "    imgs = digitize_points(*proj,display_shape = display_shape)\n",
      "    imgs = imgs[:,:,newaxis]\n",
      "    frames_per_cycle = int(((2*pi)/angular_velocity)*frame_rate)\n",
      "    for i in range(frames_per_cycle):\n",
      "        xyzp = integrate_frame(xyzp,\n",
      "                           rotation_vect = orientation_vector,\n",
      "                           translation_vect = np.array([0,0,0]),\n",
      "                           frame_period = 1/frame_rate)\n",
      "        proj = arena_project(xyzp)\n",
      "        img = digitize_points(*proj,display_shape = display_shape)\n",
      "        imgs = concatenate((imgs, img[:,:,newaxis]),axis = 2)\n",
      "    from scipy import io\n",
      "    return imgs\n",
      "    \n",
      "def make_spin_pattern_sagimeridian(sagimeridian_pole,angular_velocity,frame_rate):\n",
      "    #spin the world around a pole on the mid-sagital meridian.\n",
      "    from scipy.misc import imresize\n",
      "    unit_vector = np.array([1.,0.,0.])\n",
      "    zp_offset = (2*pi)/96*4\n",
      "    orientation_vector = dot(tran.rotation_matrix(sagimeridian_pole,array([0,1,0]))[:3,:3],unit_vector)\n",
      "    orientation_vector = dot(tran.rotation_matrix(zp_offset,array([0,0,1]))[:3,:3],orientation_vector)*angular_velocity\n",
      "    xyzp = integrate_frame(xyz,\n",
      "                       rotation_vect = orientation_vector,\n",
      "                       translation_vect = np.array([0,0,0]),\n",
      "                       frame_period = 1/frame_rate)\n",
      "    proj = arena_project(xyzp)\n",
      "    imgs = digitize_points(*proj,display_shape = display_shape)\n",
      "    imgs = imgs[:,:,newaxis]\n",
      "    frames_per_cycle = int(((2*pi)/angular_velocity)*frame_rate)\n",
      "    for i in range(frames_per_cycle):\n",
      "        xyzp = integrate_frame(xyzp,\n",
      "                           rotation_vect = orientation_vector,\n",
      "                           translation_vect = np.array([0,0,0]),\n",
      "                           frame_period = 1/frame_rate)\n",
      "        proj = arena_project(xyzp)\n",
      "        img = digitize_points(*proj,display_shape = display_shape)\n",
      "        imgs = concatenate((imgs, img[:,:,newaxis]),axis = 2)\n",
      "    from scipy import io\n",
      "    io.savemat('sagimeridian_%03d'%(around(rad2deg(sagimeridian_pole))),{'imgs':imgs})"
     ],
     "language": "python",
     "metadata": {},
     "outputs": [],
     "prompt_number": 6
    },
    {
     "cell_type": "code",
     "collapsed": false,
     "input": [
      "def adjust_depth(imgs,bit_depth=3):\n",
      "    maxbit = (2**bit_depth)-1\n",
      "    scaling = (maxbit*0.5)/mean(imgs.flatten())\n",
      "    imgs *= scaling\n",
      "    imgs = around(imgs)\n",
      "    imgs[imgs>maxbit] = maxbit\n",
      "    return(imgs)\n",
      "\n",
      "def play_pattern(imgs):\n",
      "    img = imshow(imgs[:,:,0],cmap = cm.gray,vmin=0,vmax = 7)\n",
      "    import time\n",
      "    for i in range(shape(imgs)[-1]):\n",
      "        time.sleep(0.001)\n",
      "        img.set_data(imgs[:,:,i])\n",
      "        draw()"
     ],
     "language": "python",
     "metadata": {},
     "outputs": [],
     "prompt_number": 7
    },
    {
     "cell_type": "code",
     "collapsed": false,
     "input": [
      "from scipy import io\n",
      "frame_rate = 60.0 \n",
      "display_shape = (96,32)\n",
      "deg_per_pix = 360/display_shape[0]\n",
      "translation_velocity = 0.3 #2.25*frame_rate\n",
      "#equator_pole = deg2rad(90)\n",
      "forward_trans_pole = deg2rad(90)\n",
      "backward_trans_pole = deg2rad(270)\n",
      "upward_trans_pole = deg2rad(90)\n",
      "downward_trans_pole = deg2rad(270)\n",
      "bit_depth = 3\n",
      "epoch_duration = 2.25\n",
      "angular_velocity = (2*np.pi)/epoch_duration\n",
      "\n",
      "imgs_90 = make_spin_pattern_equator(forward_trans_pole,\n",
      "                                angular_velocity,\n",
      "                                frame_rate,\n",
      "                                max_sensory_radius = 3.0,\n",
      "                                star_density = 8)\n",
      "imgs_90 = adjust_depth(imgs_90)\n",
      "#print 'translate_forward'\n",
      "#play_pattern(imgs_90)\n",
      "\n",
      "imgs_270 = make_spin_pattern_equator(backward_trans_pole,\n",
      "                                angular_velocity,\n",
      "                                frame_rate,\n",
      "                                max_sensory_radius = 3.0,\n",
      "                                star_density = 8)\n",
      "imgs_270 = adjust_depth(imgs_270)\n",
      "#print 'translate_forward'\n",
      "#play_pattern(imgs_270)\n",
      "\n",
      "### yaw for optimotor\n",
      "for pole in [3*(pi/2)]:\n",
      "    opti_yaw = make_spin_pattern_coromeridian(pole,\n",
      "                                 angular_velocity,\n",
      "                                 frame_rate,\n",
      "                                 max_sensory_radius = 3.0,\n",
      "                                 star_density = 8)\n",
      "    opti_yaw = adjust_depth(opti_yaw)\n",
      "    #print 'spin_yaw_%03d'%(around(rad2deg(pole)))\n",
      "    #play_pattern(opti_yaw)\n",
      "#io.savemat('translate_forward',{'imgs':imgs})\n",
      "\n",
      "stripe_test_90 = np.zeros(hstack([shape(imgs),137]))\n",
      "static_test_90 = np.zeros(hstack([shape(imgs),137]))\n",
      "opti_test_90 = np.zeros(hstack([shape(imgs),137]))\n",
      "\n",
      "stripe_test_270 = np.zeros(hstack([shape(imgs),137]))\n",
      "static_test_270 = np.zeros(hstack([shape(imgs),137]))\n",
      "opti_test_270 = np.zeros(hstack([shape(imgs),137]))\n",
      "\n",
      "def add_stripe(img_mat):\n",
      "    nx = shape(img_mat)[2]\n",
      "    for xidx in range(nx-4):\n",
      "        img_mat[:,xidx:xidx+4,xidx,0] = 0\n",
      "    for xidx in range(0,4):\n",
      "        img_mat[:,-1-xidx:,95-xidx,0] = 0\n",
      "        img_mat[:,0:3-xidx,95-xidx,0] = 0\n",
      "    return img_mat\n",
      "\n",
      "###\n",
      "stripe_test_90[:,:,:,0] = imgs_90[:,:,0,np.newaxis]\n",
      "stripe_test_90[:,:,:,1:] = transpose(imgs_90[:,:,:,np.newaxis],axes = (0,1,3,2))\n",
      "newshape = hstack([shape(imgs),137])\n",
      "newshape[2] = 96\n",
      "tmp = np.zeros(newshape)\n",
      "tmp = stripe_test_90[:,:,:96,:]\n",
      "stripe_test_90 = add_stripe(tmp)\n",
      "\n",
      "static_test_90[:,:,:,0] = imgs_90[:,:,0,np.newaxis]\n",
      "static_test_90[:,:,:,1:] = transpose(imgs_90[:,:,:,np.newaxis],axes = (0,1,3,2))\n",
      "\n",
      "opti_test_90[:,:,:,0] = opti_yaw[:,:,:]\n",
      "opti_test_90[:,:,:,1:] = transpose(imgs_90[:,:,:,np.newaxis],axes = (0,1,3,2))\n",
      "\n",
      "###\n",
      "stripe_test_270[:,:,:,0] = imgs_270[:,:,0,np.newaxis]\n",
      "stripe_test_270[:,:,:,1:] = transpose(imgs_270[:,:,:,np.newaxis],axes = (0,1,3,2))\n",
      "stripe_test_270 = add_stripe(stripe_test_270)\n",
      "tmp = stripe_test_270[:,:,:96,:]\n",
      "stripe_test_270 = add_stripe(tmp)\n",
      "\n",
      "\n",
      "static_test_270[:,:,:,0] = imgs_270[:,:,0,np.newaxis]\n",
      "static_test_270[:,:,:,1:] = transpose(imgs_270[:,:,:,np.newaxis],axes = (0,1,3,2))\n",
      "\n",
      "opti_test_270[:,:,:,0] = opti_yaw[:,:,:]\n",
      "opti_test_270[:,:,:,1:] = transpose(imgs_270[:,:,:,np.newaxis],axes = (0,1,3,2))\n",
      "\n",
      "io.savemat('stripe_test_90',{'imgs':stripe_test_90})\n",
      "io.savemat('static_test_90',{'imgs':static_test_90})\n",
      "io.savemat('opti_test_90',{'imgs':opti_test_90})\n",
      "io.savemat('stripe_test_270',{'imgs':stripe_test_270})\n",
      "io.savemat('static_test_270',{'imgs':static_test_270})\n",
      "io.savemat('opti_test_270',{'imgs':opti_test_270})"
     ],
     "language": "python",
     "metadata": {},
     "outputs": [],
     "prompt_number": 247
    },
    {
     "cell_type": "code",
     "collapsed": false,
     "input": [
      "stripe_test_90[:,94:-1,94,0] = 0"
     ],
     "language": "python",
     "metadata": {},
     "outputs": [],
     "prompt_number": 148
    },
    {
     "cell_type": "code",
     "collapsed": false,
     "input": [],
     "language": "python",
     "metadata": {},
     "outputs": [],
     "prompt_number": 257
    },
    {
     "cell_type": "code",
     "collapsed": false,
     "input": [
      "pcolor(stripe_test_90[:,:,0,0],cmap = cm.gray)"
     ],
     "language": "python",
     "metadata": {},
     "outputs": [
      {
       "metadata": {},
       "output_type": "pyout",
       "prompt_number": 246,
       "text": [
        "<matplotlib.collections.PolyCollection at 0x1817f410>"
       ]
      }
     ],
     "prompt_number": 246
    },
    {
     "cell_type": "code",
     "collapsed": false,
     "input": [
      "stripe_test_90[:,94:-0,94,0]"
     ],
     "language": "python",
     "metadata": {},
     "outputs": [
      {
       "metadata": {},
       "output_type": "pyout",
       "prompt_number": 153,
       "text": [
        "array([], shape=(32, 0), dtype=float64)"
       ]
      }
     ],
     "prompt_number": 153
    },
    {
     "cell_type": "code",
     "collapsed": false,
     "input": [
      "from scipy import io\n",
      "frame_rate = 60.0 \n",
      "display_shape = (96,32)\n",
      "deg_per_pix = 360/display_shape[0]\n",
      "translation_velocity = 0.3#2.25*frame_rate\n",
      "#equator_pole = deg2rad(90)\n",
      "forward_trans_pole = deg2rad(90)\n",
      "backward_trans_pole = deg2rad(270)\n",
      "upward_trans_pole = deg2rad(90)\n",
      "downward_trans_pole = deg2rad(270)\n",
      "\n",
      "bit_depth = 3\n",
      "epoch_duration = 2.25\n",
      "angular_velocity = (2*np.pi)/epoch_duration\n",
      "#######################\n",
      "##make foward and backward translation\n",
      "imgs = make_translation_pattern(forward_trans_pole,\n",
      "                                translation_velocity,\n",
      "                                frame_rate,\n",
      "                                epoch_duration = epoch_duration,\n",
      "                                max_sensory_radius = 3.0,\n",
      "                                star_density = 8)\n",
      "imgs = adjust_depth(imgs)\n",
      "print 'translate_forward'\n",
      "play_pattern(imgs)\n",
      "io.savemat('translate_forward',{'imgs':imgs})\n",
      "\n",
      "imgs = make_translation_pattern(backward_trans_pole,\n",
      "                                translation_velocity,\n",
      "                                frame_rate,\n",
      "                                epoch_duration = epoch_duration,\n",
      "                                max_sensory_radius = 3.0,\n",
      "                                star_density = 8)\n",
      "imgs = adjust_depth(imgs)\n",
      "print 'translate_backward'\n",
      "play_pattern(imgs)\n",
      "io.savemat('translate_backward',{'imgs':imgs})\n",
      "#######################\n",
      "##make upward and downward translation\n",
      "imgs = make_translation_pattern_coromeridian(upward_trans_pole,\n",
      "                                         translation_velocity,\n",
      "                                         frame_rate,\n",
      "                                         epoch_duration = epoch_duration,\n",
      "                                         max_sensory_radius = 3.0,\n",
      "                                         star_density = 8)\n",
      "imgs = adjust_depth(imgs)\n",
      "print 'translate_up'\n",
      "play_pattern(imgs)\n",
      "io.savemat('translate_up',{'imgs':imgs})\n",
      "\n",
      "imgs = make_translation_pattern_coromeridian(downward_trans_pole,\n",
      "                                         translation_velocity,\n",
      "                                         frame_rate,\n",
      "                                         epoch_duration = epoch_duration,\n",
      "                                         max_sensory_radius = 3.0,\n",
      "                                         star_density = 8)\n",
      "imgs = adjust_depth(imgs)\n",
      "print 'translate_down'\n",
      "play_pattern(imgs)\n",
      "io.savemat('translate_down',{'imgs':imgs})\n",
      "\n",
      "#######################\n",
      "##make rotation patterns\n",
      "for equator_pole in linspace(0,2*pi,37):\n",
      "    imgs = make_spin_pattern_equator(equator_pole,\n",
      "                                 angular_velocity,\n",
      "                                 frame_rate,\n",
      "                                 max_sensory_radius = 3.0,\n",
      "                                 star_density = 8)\n",
      "    imgs = adjust_depth(imgs)\n",
      "    print 'spin_equator_%03d'%(around(rad2deg(equator_pole)))\n",
      "    play_pattern(imgs)\n",
      "    io.savemat('spin_equator_%03d'%(around(rad2deg(equator_pole))),{'imgs':imgs})\n",
      "    \n",
      "\n",
      "#######################\n",
      "##make yaw patterns\n",
      "for pole in [pi/2,3*(pi/2)]:\n",
      "    imgs = make_spin_pattern_coromeridian(pole,\n",
      "                                 angular_velocity,\n",
      "                                 frame_rate,\n",
      "                                 max_sensory_radius = 3.0,\n",
      "                                 star_density = 8)\n",
      "    imgs = adjust_depth(imgs)\n",
      "    print 'spin_yaw_%03d'%(around(rad2deg(pole)))\n",
      "    play_pattern(imgs)\n",
      "    io.savemat('spin_yaw_%03d'%(around(rad2deg(pole))),{'imgs':imgs})"
     ],
     "language": "python",
     "metadata": {},
     "outputs": [
      {
       "output_type": "stream",
       "stream": "stdout",
       "text": [
        "translate_forward\n",
        "translate_backward"
       ]
      },
      {
       "output_type": "stream",
       "stream": "stdout",
       "text": [
        "\n",
        "translate_up"
       ]
      },
      {
       "output_type": "stream",
       "stream": "stdout",
       "text": [
        "\n",
        "translate_down"
       ]
      },
      {
       "output_type": "stream",
       "stream": "stdout",
       "text": [
        "\n",
        "spin_equator_000"
       ]
      },
      {
       "output_type": "stream",
       "stream": "stdout",
       "text": [
        "\n",
        "spin_equator_010"
       ]
      },
      {
       "output_type": "stream",
       "stream": "stdout",
       "text": [
        "\n",
        "spin_equator_020"
       ]
      },
      {
       "output_type": "stream",
       "stream": "stdout",
       "text": [
        "\n",
        "spin_equator_030"
       ]
      },
      {
       "output_type": "stream",
       "stream": "stdout",
       "text": [
        "\n",
        "spin_equator_040"
       ]
      },
      {
       "output_type": "stream",
       "stream": "stdout",
       "text": [
        "\n",
        "spin_equator_050"
       ]
      },
      {
       "output_type": "stream",
       "stream": "stdout",
       "text": [
        "\n",
        "spin_equator_060"
       ]
      },
      {
       "output_type": "stream",
       "stream": "stdout",
       "text": [
        "\n",
        "spin_equator_070"
       ]
      },
      {
       "output_type": "stream",
       "stream": "stdout",
       "text": [
        "\n",
        "spin_equator_080"
       ]
      },
      {
       "output_type": "stream",
       "stream": "stdout",
       "text": [
        "\n",
        "spin_equator_090"
       ]
      },
      {
       "output_type": "stream",
       "stream": "stdout",
       "text": [
        "\n",
        "spin_equator_100"
       ]
      },
      {
       "output_type": "stream",
       "stream": "stdout",
       "text": [
        "\n",
        "spin_equator_110"
       ]
      },
      {
       "output_type": "stream",
       "stream": "stdout",
       "text": [
        "\n",
        "spin_equator_120"
       ]
      },
      {
       "output_type": "stream",
       "stream": "stdout",
       "text": [
        "\n",
        "spin_equator_130"
       ]
      },
      {
       "output_type": "stream",
       "stream": "stdout",
       "text": [
        "\n",
        "spin_equator_140"
       ]
      },
      {
       "output_type": "stream",
       "stream": "stdout",
       "text": [
        "\n",
        "spin_equator_150"
       ]
      },
      {
       "output_type": "stream",
       "stream": "stdout",
       "text": [
        "\n",
        "spin_equator_160"
       ]
      },
      {
       "output_type": "stream",
       "stream": "stdout",
       "text": [
        "\n",
        "spin_equator_170"
       ]
      },
      {
       "output_type": "stream",
       "stream": "stdout",
       "text": [
        "\n",
        "spin_equator_180"
       ]
      },
      {
       "output_type": "stream",
       "stream": "stdout",
       "text": [
        "\n",
        "spin_equator_190"
       ]
      },
      {
       "output_type": "stream",
       "stream": "stdout",
       "text": [
        "\n",
        "spin_equator_200"
       ]
      },
      {
       "output_type": "stream",
       "stream": "stdout",
       "text": [
        "\n",
        "spin_equator_210"
       ]
      },
      {
       "output_type": "stream",
       "stream": "stdout",
       "text": [
        "\n",
        "spin_equator_220"
       ]
      },
      {
       "output_type": "stream",
       "stream": "stdout",
       "text": [
        "\n",
        "spin_equator_230"
       ]
      },
      {
       "output_type": "stream",
       "stream": "stdout",
       "text": [
        "\n",
        "spin_equator_240"
       ]
      },
      {
       "output_type": "stream",
       "stream": "stdout",
       "text": [
        "\n",
        "spin_equator_250"
       ]
      },
      {
       "output_type": "stream",
       "stream": "stdout",
       "text": [
        "\n",
        "spin_equator_260"
       ]
      },
      {
       "output_type": "stream",
       "stream": "stdout",
       "text": [
        "\n",
        "spin_equator_270"
       ]
      },
      {
       "output_type": "stream",
       "stream": "stdout",
       "text": [
        "\n",
        "spin_equator_280"
       ]
      },
      {
       "output_type": "stream",
       "stream": "stdout",
       "text": [
        "\n",
        "spin_equator_290"
       ]
      },
      {
       "output_type": "stream",
       "stream": "stdout",
       "text": [
        "\n",
        "spin_equator_300"
       ]
      },
      {
       "output_type": "stream",
       "stream": "stdout",
       "text": [
        "\n",
        "spin_equator_310"
       ]
      },
      {
       "output_type": "stream",
       "stream": "stdout",
       "text": [
        "\n",
        "spin_equator_320"
       ]
      },
      {
       "output_type": "stream",
       "stream": "stdout",
       "text": [
        "\n",
        "spin_equator_330"
       ]
      },
      {
       "output_type": "stream",
       "stream": "stdout",
       "text": [
        "\n",
        "spin_equator_340"
       ]
      },
      {
       "output_type": "stream",
       "stream": "stdout",
       "text": [
        "\n",
        "spin_equator_350"
       ]
      },
      {
       "output_type": "stream",
       "stream": "stdout",
       "text": [
        "\n",
        "spin_equator_360"
       ]
      },
      {
       "output_type": "stream",
       "stream": "stdout",
       "text": [
        "\n",
        "spin_yaw_090"
       ]
      },
      {
       "output_type": "stream",
       "stream": "stdout",
       "text": [
        "\n",
        "spin_yaw_270"
       ]
      },
      {
       "output_type": "stream",
       "stream": "stdout",
       "text": [
        "\n"
       ]
      }
     ],
     "prompt_number": 31
    },
    {
     "cell_type": "code",
     "collapsed": false,
     "input": [
      "for pole in [pi/2,3*(pi/2)]:\n",
      "    imgs = make_spin_pattern_coromeridian(pole,\n",
      "                                 angular_velocity,\n",
      "                                 frame_rate,\n",
      "                                 max_sensory_radius = 3.0,\n",
      "                                 star_density = 8)\n",
      "    imgs = adjust_depth(imgs)\n",
      "    print 'spin_yaw_%03d'%(around(rad2deg(pole)))\n",
      "    play_pattern(imgs)\n",
      "    io.savemat('spin_yaw_%03d'%(around(rad2deg(pole))),{'imgs':imgs})"
     ],
     "language": "python",
     "metadata": {},
     "outputs": [
      {
       "output_type": "stream",
       "stream": "stdout",
       "text": [
        "spin_yaw_090\n",
        "spin_yaw_270"
       ]
      },
      {
       "output_type": "stream",
       "stream": "stdout",
       "text": [
        "\n"
       ]
      }
     ],
     "prompt_number": 24
    },
    {
     "cell_type": "code",
     "collapsed": false,
     "input": [
      "rad2deg(linspace(0,2*pi,37))"
     ],
     "language": "python",
     "metadata": {},
     "outputs": [
      {
       "metadata": {},
       "output_type": "pyout",
       "prompt_number": 30,
       "text": [
        "array([   0.,   10.,   20.,   30.,   40.,   50.,   60.,   70.,   80.,\n",
        "         90.,  100.,  110.,  120.,  130.,  140.,  150.,  160.,  170.,\n",
        "        180.,  190.,  200.,  210.,  220.,  230.,  240.,  250.,  260.,\n",
        "        270.,  280.,  290.,  300.,  310.,  320.,  330.,  340.,  350.,  360.])"
       ]
      }
     ],
     "prompt_number": 30
    },
    {
     "cell_type": "code",
     "collapsed": false,
     "input": [
      "imshow(imgs[:,:,0],cmap = cm.gray)"
     ],
     "language": "python",
     "metadata": {},
     "outputs": [
      {
       "metadata": {},
       "output_type": "pyout",
       "prompt_number": 206,
       "text": [
        "<matplotlib.image.AxesImage at 0x11c01cb90>"
       ]
      }
     ],
     "prompt_number": 206
    },
    {
     "cell_type": "code",
     "collapsed": false,
     "input": [
      "360/2.25"
     ],
     "language": "python",
     "metadata": {},
     "outputs": [
      {
       "metadata": {},
       "output_type": "pyout",
       "prompt_number": 18,
       "text": [
        "160.0"
       ]
      }
     ],
     "prompt_number": 18
    },
    {
     "cell_type": "code",
     "collapsed": false,
     "input": [
      "print 'making equators'  \n",
      "for equator_pole in linspace(0,2*pi,13):\n",
      "    #xyz = make_universe(star_density = 50,max_sensory_radius = 2)\n",
      "    frame_rate = 60.0 \n",
      "    display_shape = (96,32)\n",
      "    deg_per_pix = 360/display_shape[0]\n",
      "    angular_velocity = deg2rad(2.25*frame_rate)\n",
      "    make_spin_pattern_equator(equator_pole,angular_velocity,frame_rate)\n",
      "\n",
      "print 'making sagimeridian'\n",
      "for sagimeridian_pole in linspace(0,2*pi,13):\n",
      "    xyz = make_universe(star_density = 50,max_sensory_radius = 2)\n",
      "    frame_rate = 60.0 \n",
      "    display_shape = (96,32)\n",
      "    deg_per_pix = 360/display_shape[0]\n",
      "    angular_velocity = deg2rad(2.25*frame_rate)\n",
      "    make_spin_pattern_sagimeridian(sagimeridian_pole,angular_velocity,frame_rate)\n",
      "print 'making coromeridian'\n",
      "for coromeridian_pole in linspace(0,2*pi,13):\n",
      "    xyz = make_universe(star_density = 50,max_sensory_radius = 2)\n",
      "    frame_rate = 60.0 \n",
      "    display_shape = (96,32)\n",
      "    deg_per_pix = 360/display_shape[0]\n",
      "    angular_velocity = deg2rad(2.25*frame_rate)\n",
      "    make_spin_pattern_coromeridian(coromeridian_pole,angular_velocity,frame_rate)"
     ],
     "language": "python",
     "metadata": {},
     "outputs": [
      {
       "ename": "NameError",
       "evalue": "global name 'xyz' is not defined",
       "output_type": "pyerr",
       "traceback": [
        "\u001b[0;31m---------------------------------------------------------------------------\u001b[0m\n\u001b[0;31mNameError\u001b[0m                                 Traceback (most recent call last)",
        "\u001b[0;32m<ipython-input-162-c6c54e709964>\u001b[0m in \u001b[0;36m<module>\u001b[0;34m()\u001b[0m\n\u001b[1;32m      6\u001b[0m     \u001b[0mdeg_per_pix\u001b[0m \u001b[0;34m=\u001b[0m \u001b[0;36m360\u001b[0m\u001b[0;34m/\u001b[0m\u001b[0mdisplay_shape\u001b[0m\u001b[0;34m[\u001b[0m\u001b[0;36m0\u001b[0m\u001b[0;34m]\u001b[0m\u001b[0;34m\u001b[0m\u001b[0m\n\u001b[1;32m      7\u001b[0m     \u001b[0mangular_velocity\u001b[0m \u001b[0;34m=\u001b[0m \u001b[0mdeg2rad\u001b[0m\u001b[0;34m(\u001b[0m\u001b[0;36m2.25\u001b[0m\u001b[0;34m*\u001b[0m\u001b[0mframe_rate\u001b[0m\u001b[0;34m)\u001b[0m\u001b[0;34m\u001b[0m\u001b[0m\n\u001b[0;32m----> 8\u001b[0;31m     \u001b[0mmake_spin_pattern_equator\u001b[0m\u001b[0;34m(\u001b[0m\u001b[0mequator_pole\u001b[0m\u001b[0;34m,\u001b[0m\u001b[0mangular_velocity\u001b[0m\u001b[0;34m,\u001b[0m\u001b[0mframe_rate\u001b[0m\u001b[0;34m)\u001b[0m\u001b[0;34m\u001b[0m\u001b[0m\n\u001b[0m\u001b[1;32m      9\u001b[0m \u001b[0;34m\u001b[0m\u001b[0m\n\u001b[1;32m     10\u001b[0m \u001b[0;32mprint\u001b[0m \u001b[0;34m'making sagimeridian'\u001b[0m\u001b[0;34m\u001b[0m\u001b[0m\n",
        "\u001b[0;32m<ipython-input-160-69c61ee6b21b>\u001b[0m in \u001b[0;36mmake_spin_pattern_equator\u001b[0;34m(equator_pole, angular_velocity, frame_rate)\u001b[0m\n\u001b[1;32m     60\u001b[0m     \u001b[0mzp_offset\u001b[0m \u001b[0;34m=\u001b[0m \u001b[0;34m(\u001b[0m\u001b[0;36m2\u001b[0m\u001b[0;34m*\u001b[0m\u001b[0mpi\u001b[0m\u001b[0;34m)\u001b[0m\u001b[0;34m/\u001b[0m\u001b[0;36m96\u001b[0m\u001b[0;34m*\u001b[0m\u001b[0;36m4\u001b[0m\u001b[0;34m\u001b[0m\u001b[0m\n\u001b[1;32m     61\u001b[0m     \u001b[0morientation_vector\u001b[0m \u001b[0;34m=\u001b[0m \u001b[0mdot\u001b[0m\u001b[0;34m(\u001b[0m\u001b[0mtran\u001b[0m\u001b[0;34m.\u001b[0m\u001b[0mrotation_matrix\u001b[0m\u001b[0;34m(\u001b[0m\u001b[0mequator_pole\u001b[0m\u001b[0;34m+\u001b[0m\u001b[0mzp_offset\u001b[0m\u001b[0;34m,\u001b[0m\u001b[0;34m[\u001b[0m\u001b[0;36m0\u001b[0m\u001b[0;34m,\u001b[0m\u001b[0;36m0\u001b[0m\u001b[0;34m,\u001b[0m\u001b[0;36m1\u001b[0m\u001b[0;34m]\u001b[0m\u001b[0;34m)\u001b[0m\u001b[0;34m[\u001b[0m\u001b[0;34m:\u001b[0m\u001b[0;36m3\u001b[0m\u001b[0;34m,\u001b[0m\u001b[0;34m:\u001b[0m\u001b[0;36m3\u001b[0m\u001b[0;34m]\u001b[0m\u001b[0;34m,\u001b[0m\u001b[0munit_vector\u001b[0m\u001b[0;34m)\u001b[0m\u001b[0;34m*\u001b[0m\u001b[0mangular_velocity\u001b[0m\u001b[0;34m\u001b[0m\u001b[0m\n\u001b[0;32m---> 62\u001b[0;31m     xyzp = integrate_frame(xyz,\n\u001b[0m\u001b[1;32m     63\u001b[0m                        \u001b[0mrotation_vect\u001b[0m \u001b[0;34m=\u001b[0m \u001b[0morientation_vector\u001b[0m\u001b[0;34m,\u001b[0m\u001b[0;34m\u001b[0m\u001b[0m\n\u001b[1;32m     64\u001b[0m                        \u001b[0mtranslation_vect\u001b[0m \u001b[0;34m=\u001b[0m \u001b[0mnp\u001b[0m\u001b[0;34m.\u001b[0m\u001b[0marray\u001b[0m\u001b[0;34m(\u001b[0m\u001b[0;34m[\u001b[0m\u001b[0;36m0\u001b[0m\u001b[0;34m,\u001b[0m\u001b[0;36m0\u001b[0m\u001b[0;34m,\u001b[0m\u001b[0;36m0\u001b[0m\u001b[0;34m]\u001b[0m\u001b[0;34m)\u001b[0m\u001b[0;34m,\u001b[0m\u001b[0;34m\u001b[0m\u001b[0m\n",
        "\u001b[0;31mNameError\u001b[0m: global name 'xyz' is not defined"
       ]
      },
      {
       "output_type": "stream",
       "stream": "stdout",
       "text": [
        "making equators\n"
       ]
      }
     ],
     "prompt_number": 162
    },
    {
     "cell_type": "code",
     "collapsed": false,
     "input": [
      "from IPython.display import display, clear_output\n",
      "f, ax = subplots()\n",
      "img = ax.imshow(imgs[:,:,0],cmap = cm.gray)\n",
      "for i in range(shape(imgs)[-1]):\n",
      "    img.set_data(imgs[:,:,i])\n",
      "    display(f)\n",
      "    clear_output()"
     ],
     "language": "python",
     "metadata": {},
     "outputs": []
    },
    {
     "cell_type": "code",
     "collapsed": false,
     "input": [
      "zp_offset = (2*pi)/96*4\n",
      "unit_vector = np.array([1.,0.,0.])\n",
      "orientation_vector = dot(tran.rotation_matrix(30,[0,1,0])[:3,:3],unit_vector)\n",
      "print orientation_vector\n",
      "orientation_vector = dot(tran.rotation_matrix(zp_offset,[0,0,1])[:3,:3],orientation_vector)\n",
      "print orientation_vector"
     ],
     "language": "python",
     "metadata": {},
     "outputs": [
      {
       "output_type": "stream",
       "stream": "stdout",
       "text": [
        "[ 0.15425145  0.          0.98803162]\n",
        "[ 0.14899546  0.03992321  0.98803162]\n"
       ]
      }
     ],
     "prompt_number": 115
    },
    {
     "cell_type": "code",
     "collapsed": false,
     "input": [
      "zp_offset = (2*pi)/96*4\n",
      "unit_vector = np.array([0.,1.,0.])\n",
      "orientation_vector = dot(tran.rotation_matrix(30,[1,0,0])[:3,:3],unit_vector)\n",
      "print orientation_vector\n",
      "orientation_vector = dot(tran.rotation_matrix(zp_offset,[0,0,1])[:3,:3],orientation_vector)\n",
      "print orientation_vector"
     ],
     "language": "python",
     "metadata": {},
     "outputs": [
      {
       "output_type": "stream",
       "stream": "stdout",
       "text": [
        "[ 0.          0.15425145 -0.98803162]\n",
        "[-0.03992321  0.14899546 -0.98803162]\n"
       ]
      }
     ],
     "prompt_number": 114
    },
    {
     "cell_type": "code",
     "collapsed": false,
     "input": [
      "2*pi/12*4"
     ],
     "language": "python",
     "metadata": {},
     "outputs": [
      {
       "metadata": {},
       "output_type": "pyout",
       "prompt_number": 91,
       "text": [
        "2.0943951023931953"
       ]
      }
     ],
     "prompt_number": 91
    },
    {
     "cell_type": "code",
     "collapsed": false,
     "input": [
      "210/60"
     ],
     "language": "python",
     "metadata": {},
     "outputs": [
      {
       "metadata": {},
       "output_type": "pyout",
       "prompt_number": 15,
       "text": [
        "3"
       ]
      }
     ],
     "prompt_number": 15
    },
    {
     "cell_type": "code",
     "collapsed": false,
     "input": [
      "220*70"
     ],
     "language": "python",
     "metadata": {},
     "outputs": [
      {
       "metadata": {},
       "output_type": "pyout",
       "prompt_number": 17,
       "text": [
        "14700"
       ]
      }
     ],
     "prompt_number": 17
    },
    {
     "cell_type": "code",
     "collapsed": false,
     "input": [],
     "language": "python",
     "metadata": {},
     "outputs": [],
     "prompt_number": 86
    },
    {
     "cell_type": "code",
     "collapsed": false,
     "input": [],
     "language": "python",
     "metadata": {},
     "outputs": [],
     "prompt_number": 86
    },
    {
     "cell_type": "code",
     "collapsed": false,
     "input": [
      "rmat = tran.rotation_matrix(pi/20,[0,0,1])"
     ],
     "language": "python",
     "metadata": {},
     "outputs": [],
     "prompt_number": 15
    },
    {
     "cell_type": "code",
     "collapsed": false,
     "input": [
      "xyz_prime = dot(rmat[:3,:3],xyz)"
     ],
     "language": "python",
     "metadata": {},
     "outputs": [],
     "prompt_number": 24
    },
    {
     "cell_type": "code",
     "collapsed": false,
     "input": [
      "shape(rmat[:3,:3])"
     ],
     "language": "python",
     "metadata": {},
     "outputs": [
      {
       "metadata": {},
       "output_type": "pyout",
       "prompt_number": 20,
       "text": [
        "(3, 3)"
       ]
      }
     ],
     "prompt_number": 20
    },
    {
     "cell_type": "code",
     "collapsed": false,
     "input": [
      "import matplotlib.pyplot as plt\n",
      "from mpl_toolkits.mplot3d import Axes3D\n",
      "fig = plt.figure()\n",
      "ax = fig.add_subplot(111, projection='3d')"
     ],
     "language": "python",
     "metadata": {},
     "outputs": [],
     "prompt_number": 368
    },
    {
     "cell_type": "code",
     "collapsed": false,
     "input": [
      "ax.scatter3D(xyzp[0,:],xyzp[1,:],xyzp[2,:])"
     ],
     "language": "python",
     "metadata": {},
     "outputs": [
      {
       "metadata": {},
       "output_type": "pyout",
       "prompt_number": 344,
       "text": [
        "<mpl_toolkits.mplot3d.art3d.Patch3DCollection at 0x115848ed0>"
       ]
      }
     ],
     "prompt_number": 344
    },
    {
     "cell_type": "code",
     "collapsed": false,
     "input": [
      "distances = linalg.norm(xyzp,axis = 0)\n",
      "mask = distances<6.0"
     ],
     "language": "python",
     "metadata": {},
     "outputs": [],
     "prompt_number": 370
    },
    {
     "cell_type": "code",
     "collapsed": false,
     "input": [
      "ax.scatter3D(xyzp[0,:][mask],xyzp[1,:][mask],xyzp[2,:][mask])\n",
      "ax.scatter3D(xyzp[0,:][~mask],xyzp[1,:][~mask],xyzp[2,:][~mask])"
     ],
     "language": "python",
     "metadata": {},
     "outputs": [
      {
       "metadata": {},
       "output_type": "pyout",
       "prompt_number": 371,
       "text": [
        "<mpl_toolkits.mplot3d.art3d.Patch3DCollection at 0x11945b290>"
       ]
      }
     ],
     "prompt_number": 371
    },
    {
     "cell_type": "code",
     "collapsed": false,
     "input": [],
     "language": "python",
     "metadata": {},
     "outputs": []
    }
   ],
   "metadata": {}
  }
 ]
}