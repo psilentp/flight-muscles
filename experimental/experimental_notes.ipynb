{
 "cells": [
  {
   "cell_type": "markdown",
   "metadata": {},
   "source": [
    "##### 9/22/2014\n",
    "* power meter recordings\n",
    "    * nd32 = '100uW'\n",
    "    * nd16 = '240uw'\n",
    "    * nd08 = '0.530mW'\n",
    "    * nd04 = '1.115mW'\n",
    "    * nd02 = '2.26mW'\n",
    "    *nd01 = '4.63mW'"
   ]
  },
  {
   "cell_type": "markdown",
   "metadata": {},
   "source": [
    "##### 9/29/2014\n",
    "* results from cross: \n",
    "    * U82 X J149 - +\n",
    "    * U82 X J100 - +\n",
    "    * U82 X J23 - ++\n",
    "    * U82 X J18 - +\n",
    "* imaging setup:\n",
    "    * 2,000 frame zoom in and out to collect reference frame for imaging"
   ]
  },
  {
   "cell_type": "markdown",
   "metadata": {},
   "source": [
    "##### 9/29/2014\n",
    "Nice reference for thorax anatomy:\n",
    "http://www.giand.it/diptera/morph/?id=5&lang=en"
   ]
  },
  {
   "cell_type": "markdown",
   "metadata": {},
   "source": [
    "Imaging progress:\n",
    "* Done: \n",
    "    * U82 X J121 n=6 [271,272,273,274,275,276]\n",
    "    * U82 X J18 n=6 [265,266,267,268,269,270]\n",
    "    * U82 X J100 n=6 [259,260,261,262,263,264]\n",
    "    * U82 X J22 n=4 [255,256,257,258]\n",
    "    * U82 X J23 n=6 [277,278,279,280,281,282]\n",
    "* To Do:\n",
    "    * J160\n",
    "    * J146\n",
    "    * J149\n",
    "    * J22 (n=3)"
   ]
  },
  {
   "cell_type": "markdown",
   "metadata": {},
   "source": [
    "##### 12/2/2014\n",
    "nd on intensilight set to 4\n",
    "\n",
    "Optical power measured @ 560nm using Cube#3 (chroma # 49008)\n",
    "power = 3.5 mW\n",
    "\n",
    "optical power measured @ 480nm using Cube#2 (chroma # 49011)\n",
    "power = 2.2 mW\n"
   ]
  },
  {
   "cell_type": "markdown",
   "metadata": {},
   "source": [
    "##### 1/6/2015\n",
    "optical power measured @ 480nm using Cube#2 (chroma # 49011)\n",
    "\n",
    "* Measurements made from LED using tri-pulse protocol: 147uW\n",
    "\n",
    "* Power from led under constant illumination: 4.0 mW"
   ]
  },
  {
   "cell_type": "markdown",
   "metadata": {
    "collapsed": false
   },
   "source": [
    "##### 3/25/2015\n",
    "39 fly_record.hdf5 files compressed and copied to GCE using a micro instance on the server side. The operation took 8.5 hrs."
   ]
  },
  {
   "cell_type": "markdown",
   "metadata": {},
   "source": [
    "##### 6/12/2015\n",
    "Filter sets in Nikon FN1 located at Caltech.\n",
    "\n",
    "All 'Semrock' brand\n",
    "* 2: FITC - 3540B - NTE\n",
    "* 3: TXRED - 4040B - NTE\n",
    "* 4: LF488/LP - A - NTE\n",
    "* 5: Custom 80/20 NIR C120714"
   ]
  },
  {
   "cell_type": "markdown",
   "metadata": {
    "collapsed": false
   },
   "source": [
    "##### 7/7/2015\n",
    "Updated filter sets in Nikon FN1 located at Caltech.\n",
    "\n",
    "* 1: Chroma 49008\n",
    "* 2: Semrock FITC - 3540B - NTE\n",
    "* 3: Semrock TXRED - 4040B - NTE\n",
    "* 4: Semrock LF488/LP - A - NTE\n",
    "* 5: Semrock Custom 80/20 NIR C120714\n",
    "* 6: Chroma 49001"
   ]
  },
  {
   "cell_type": "markdown",
   "metadata": {
    "collapsed": false
   },
   "source": [
    "##### 7/27/2015\n",
    "\n",
    "Procedure for segmenting muscle tissue:\n",
    "\n",
    "* Import an 8bit tiff stack of a single channel into gimp: choose \"Select All\" and \"Open pages as Layers\" in the dialog box.\n",
    "\n",
    "* convert to RGB (image>mode>RGB)\n",
    "\n",
    "* Rename the background image as \"Page 0\"\n",
    "\n",
    "* Save the imported stack as an .xcf (native gimp format) to use as a template.\n",
    "\n",
    "* open a python console within gimp: filters>python-fu>Console\n",
    "\n",
    "* get a reference to the image object:\n",
    "\n",
    "```\n",
    ">>> img = gimp.image_list()[0]\n",
    "```\n",
    "\n",
    "\n",
    "* add a blank layer in-between each existing layer\n",
    "\n",
    "```\n",
    "g = gimp.pdb\n",
    "w = g.gimp_image_width(img)\n",
    "h = g.gimp_image_height(img)\n",
    "for lnum,layer in enumerate(reversed(img.layers)):\n",
    "    g.gimp_image_set_active_layer(img,layer)\n",
    "    new_layer = g.gimp_layer_new(img, w, h, RGBA_IMAGE, \"lr%s\"%(lnum), 1, NORMAL_MODE)\n",
    "    img.add_layer(new_layer)\n",
    "```\n",
    "\n",
    "* hide all the layers:\n",
    "\n",
    "```\n",
    "for layer in img.layers:\n",
    "    layer.visible = False\n",
    "```\n",
    "\n",
    "* starting from page 0 make the layers visible until you have reached the deepest slice of tissue you want to segment.\n",
    "\n",
    "* Change the opacity of the transparent layers so you can see what you are segmenting\n",
    "\n",
    "```\n",
    "for layer in img.layers:\n",
    "    if not('Page' in layer.name):\n",
    "        layer.opacity = 0.2\n",
    "```\n",
    "\n",
    "* once you have completed the segmentation you can create a tiff stack with just the segmentation masks\n",
    "\n",
    "* To delete the layers with the confocal data first make all layers visible: \n",
    "\n",
    "```\n",
    "for layer in img.layers:\n",
    "    layer.visible = True\n",
    "```\n",
    "\n",
    "* then hide layers not containing the string 'Page'\n",
    "\n",
    "```\n",
    "for layer in img.layers:\n",
    "    if not('Page' in layer.name):\n",
    "        layer.visible = False\n",
    "```\n",
    "\n",
    "* Merge the visible layers (Image>Merge Visible Layers)\n",
    "\n",
    "* Delete the merged layer\n"
   ]
  },
  {
   "cell_type": "markdown",
   "metadata": {},
   "source": [
    "##### 12/1/2015\n",
    "\n",
    "Installed the pyfnnd library to test out Joshua Vogelstein's deconvolution method. First needed to install a shared lapack library using:\n",
    "\n",
    "```\n",
    "sudo apt-get install liblapack3.\n",
    "```\n",
    "\n",
    "Turns out that this method is not much more usefull than a high pass filter. It might work better for high-speed voltage imaging. Part of the problem is likely due to the fact that we have multiple spikes per frame"
   ]
  },
  {
   "cell_type": "markdown",
   "metadata": {},
   "source": [
    "##### 12/1/2015\n",
    "Calculation of solid angle obscured by objective (61°)"
   ]
  },
  {
   "cell_type": "code",
   "execution_count": 4,
   "metadata": {
    "collapsed": false
   },
   "outputs": [
    {
     "data": {
      "text/plain": [
       "3.2370366244684861"
      ]
     },
     "execution_count": 4,
     "metadata": {},
     "output_type": "execute_result"
    }
   ],
   "source": [
    "import numpy as np\n",
    "2*np.pi*(1-np.cos(np.deg2rad(61)))"
   ]
  },
  {
   "cell_type": "code",
   "execution_count": null,
   "metadata": {
    "collapsed": false
   },
   "outputs": [],
   "source": []
  },
  {
   "cell_type": "code",
   "execution_count": null,
   "metadata": {
    "collapsed": true
   },
   "outputs": [],
   "source": []
  }
 ],
 "metadata": {
  "kernelspec": {
   "display_name": "Python 2",
   "language": "python",
   "name": "python2"
  },
  "language_info": {
   "codemirror_mode": {
    "name": "ipython",
    "version": 2
   },
   "file_extension": ".py",
   "mimetype": "text/x-python",
   "name": "python",
   "nbconvert_exporter": "python",
   "pygments_lexer": "ipython2",
   "version": "2.7.9"
  }
 },
 "nbformat": 4,
 "nbformat_minor": 0
}
