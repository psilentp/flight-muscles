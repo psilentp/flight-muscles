{
 "metadata": {
  "name": "",
  "signature": "sha256:6979035c317811d798c34dabb2dcaf655f6c9e48e74f27f1aebcb860e0bbd113"
 },
 "nbformat": 3,
 "nbformat_minor": 0,
 "worksheets": [
  {
   "cells": [
    {
     "cell_type": "code",
     "collapsed": false,
     "input": [
      "#power meter recordings made 9/22/14\n",
      "nd32 = '100uW'\n",
      "nd16 = '240uw'\n",
      "nd08 = '0.530mW'\n",
      "nd04 = '1.115mW'\n",
      "nd02 = '2.26mW'\n",
      "nd01 = '4.63mW'"
     ],
     "language": "python",
     "metadata": {},
     "outputs": [],
     "prompt_number": 2
    },
    {
     "cell_type": "markdown",
     "metadata": {},
     "source": [
      "##### 9/29/2014\n",
      "* results from cross: \n",
      "    * U82 X J149 - +\n",
      "    * U82 X J100 - +\n",
      "    * U82 X J23 - ++\n",
      "    * U82 X J18 - +\n",
      "* imaging setup:\n",
      "    * 2,000 frame zoom in and out to collect reference frame for imaging"
     ]
    },
    {
     "cell_type": "markdown",
     "metadata": {},
     "source": [
      "Very good reference for thorax anatomy:\n",
      "http://www.giand.it/diptera/morph/?id=5&lang=en"
     ]
    },
    {
     "cell_type": "code",
     "collapsed": false,
     "input": [],
     "language": "python",
     "metadata": {},
     "outputs": []
    }
   ],
   "metadata": {}
  }
 ]
}