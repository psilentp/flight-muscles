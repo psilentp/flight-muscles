{
 "cells": [
  {
   "cell_type": "code",
   "execution_count": 1,
   "metadata": {
    "collapsed": true
   },
   "outputs": [],
   "source": [
    "import group_data as gd"
   ]
  },
  {
   "cell_type": "code",
   "execution_count": 2,
   "metadata": {
    "collapsed": false,
    "scrolled": false
   },
   "outputs": [
    {
     "data": {
      "text/plain": [
       "['GMR40D04_pr',\n",
       " 'GMR22H05_GFP',\n",
       " 'GMR31E10',\n",
       " 'GMR22H05_yr',\n",
       " 'GMR75B06_GFP',\n",
       " 'GMR22H05',\n",
       " 'GMR40D04_ca',\n",
       " 'GMR29E05_GFP',\n",
       " 'GMR39E01',\n",
       " 'GMR22H05_prc',\n",
       " 'GMR31E10_GFP',\n",
       " 'GMR22H05_pr',\n",
       " 'GMR10A12',\n",
       " 'GMR74F03_GFP',\n",
       " 'GMR39E01_GFP',\n",
       " 'GMR75B06',\n",
       " 'GMR40D04_yr',\n",
       " 'GMR74F03',\n",
       " 'GMR40D04_ca_mod1',\n",
       " 'GMR10A12_GFP',\n",
       " 'GMR29E05']"
      ]
     },
     "execution_count": 2,
     "metadata": {},
     "output_type": "execute_result"
    }
   ],
   "source": [
    "gd.swarms.keys()"
   ]
  },
  {
   "cell_type": "code",
   "execution_count": 3,
   "metadata": {
    "collapsed": false
   },
   "outputs": [
    {
     "data": {
      "text/plain": [
       "[656, 657, 658, 659, 660, 661, 662]"
      ]
     },
     "execution_count": 3,
     "metadata": {},
     "output_type": "execute_result"
    }
   ],
   "source": [
    "[fl.fly_num for fl in gd.swarms['GMR22H05_yr'].flies]"
   ]
  },
  {
   "cell_type": "code",
   "execution_count": 4,
   "metadata": {
    "collapsed": false
   },
   "outputs": [],
   "source": [
    "for fly in gd.swarms['GMR22H05_yr'].flies:\n",
    "    genotype_str = '+;P{20XUAS-IVS-GCaMP6f}attP40/+;P{y[+t7.7] w[+mC]=%s-GAL4}attP2/+'%('GMR22H05')\n",
    "    #gmrstr_GFP = '+;10XUAS-EGFP/+;P{y[+t7.7] w[+mC]=%s-GAL4}attP2/+'%('GMR39E01')\n",
    "    f = open(fly.fly_path + 'genotype.txt','wt')\n",
    "    f.write(genotype_str)\n",
    "    f.close()\n",
    "#gmrstr_GFP = '+;10XUAS-EGFP/+;P{y[+t7.7] w[+mC]=%s-GAL4}attP2/+'%('GMR22H05')"
   ]
  },
  {
   "cell_type": "code",
   "execution_count": 10,
   "metadata": {
    "collapsed": true
   },
   "outputs": [],
   "source": [
    "for fly in gd.swarms['GMR40D04_pr'].flies:\n",
    "    genotype_str = '+;P{20XUAS-IVS-GCaMP6f}attP40;P{y[+t7.7] w[+mC]=%s-GAL4}attP2'%('GMR40D04')\n",
    "    #gmrstr_GFP = '+;10XUAS-EGFP/+;P{y[+t7.7] w[+mC]=%s-GAL4}attP2/+'%('GMR39E01')\n",
    "    f = open(fly.fly_path + 'genotype.txt','wt')\n",
    "    f.write(genotype_str)\n",
    "    f.close()\n",
    "#gmrstr_GFP = '+;10XUAS-EGFP/+;P{y[+t7.7] w[+mC]=%s-GAL4}attP2/+'%('GMR22H05')"
   ]
  },
  {
   "cell_type": "code",
   "execution_count": null,
   "metadata": {
    "collapsed": false
   },
   "outputs": [],
   "source": []
  },
  {
   "cell_type": "code",
   "execution_count": null,
   "metadata": {
    "collapsed": true
   },
   "outputs": [],
   "source": []
  },
  {
   "cell_type": "code",
   "execution_count": null,
   "metadata": {
    "collapsed": true
   },
   "outputs": [],
   "source": []
  },
  {
   "cell_type": "code",
   "execution_count": null,
   "metadata": {
    "collapsed": true
   },
   "outputs": [],
   "source": []
  },
  {
   "cell_type": "code",
   "execution_count": 34,
   "metadata": {
    "collapsed": false
   },
   "outputs": [],
   "source": [
    "genotype_nickname_map = dict()"
   ]
  },
  {
   "cell_type": "code",
   "execution_count": 44,
   "metadata": {
    "collapsed": false
   },
   "outputs": [],
   "source": [
    "gmrstr_gcamp = '+;P{20XUAS-IVS-GCaMP6f}attP40/+;P{y[+t7.7] w[+mC]=%s-GAL4}attP2/+'%('GMR22H05')\n",
    "genotype_nickname_map['GMR22H05'] = gmrstr_gcamp\n",
    "gmrstr_gcamp = '+;P{20XUAS-IVS-GCaMP6f}attP40/+;P{y[+t7.7] w[+mC]=%s-GAL4}attP2/+'%('GMR39E01')\n",
    "genotype_nickname_map['GMR39E01'] = gmrstr_gcamp\n",
    "gmrstr_gcamp = '+;P{20XUAS-IVS-GCaMP6f}attP40/+;P{y[+t7.7] w[+mC]=%s-GAL4}attP2/+'%('GMR75B06')\n",
    "genotype_nickname_map['GMR75B06'] = gmrstr_gcamp\n",
    "gmrstr_gcamp = '+;P{20XUAS-IVS-GCaMP6f}attP40/+;P{y[+t7.7] w[+mC]=%s-GAL4}attP2/+'%('GMR74F03')\n",
    "genotype_nickname_map['GMR74F03'] = gmrstr_gcamp\n",
    "gmrstr_gcamp = '+;P{20XUAS-IVS-GCaMP6f}attP40/+;P{y[+t7.7] w[+mC]=%s-GAL4}attP2/+'%('GMR31E10')\n",
    "genotype_nickname_map['GMR31E10'] = gmrstr_gcamp\n",
    "gmrstr_gcamp = '+;P{20XUAS-IVS-GCaMP6f}attP40/+;P{y[+t7.7] w[+mC]=%s-GAL4}attP2/+'%('GMR10A12')\n",
    "genotype_nickname_map['GMR10A12'] = gmrstr_gcamp\n",
    "gmrstr_gcamp = '+;P{20XUAS-IVS-GCaMP6f}attP40/+;P{y[+t7.7] w[+mC]=%s-GAL4}attP2/+'%('GMR29E05')\n",
    "genotype_nickname_map['GMR29E05'] = gmrstr_gcamp\n",
    "\n",
    "gmrstr_GFP = '+;10XUAS-EGFP/+;P{y[+t7.7] w[+mC]=%s-GAL4}attP2/+'%('GMR22H05')\n",
    "genotype_nickname_map['GMR22H05_GFP'] = gmrstr_GFP\n",
    "\n",
    "gmrstr_GFP = '+;10XUAS-EGFP/+;P{y[+t7.7] w[+mC]=%s-GAL4}attP2/+'%('GMR39E01')\n",
    "genotype_nickname_map['GMR39E01_GFP'] = gmrstr_GFP\n",
    "\n",
    "gmrstr_GFP = '+;10XUAS-EGFP/+;P{y[+t7.7] w[+mC]=%s-GAL4}attP2/+'%('GMR75B06')\n",
    "genotype_nickname_map['GMR75B06_GFP'] = gmrstr_GFP\n",
    "\n",
    "gmrstr_GFP = '+;10XUAS-EGFP/+;P{y[+t7.7] w[+mC]=%s-GAL4}attP2/+'%('GMR31E10')\n",
    "genotype_nickname_map['GMR31E10_GFP'] = gmrstr_GFP\n",
    "\n",
    "gmrstr_GFP = '+;10XUAS-EGFP/+;P{y[+t7.7] w[+mC]=%s-GAL4}attP2/+'%('GMR10A12')\n",
    "genotype_nickname_map['GMR10A12_GFP'] = gmrstr_GFP\n",
    "\n",
    "gmrstr_GFP = '+;10XUAS-EGFP/+;P{y[+t7.7] w[+mC]=%s-GAL4}attP2/+'%('GMR29E05')\n",
    "genotype_nickname_map['GMR29E05_GFP'] = gmrstr_GFP\n"
   ]
  },
  {
   "cell_type": "code",
   "execution_count": 46,
   "metadata": {
    "collapsed": false
   },
   "outputs": [
    {
     "data": {
      "text/plain": [
       "{'GMR10A12': '+;P{20XUAS-IVS-GCaMP6f}attP40/+;P{y[+t7.7] w[+mC]=GMR10A12-GAL4}attP2/+',\n",
       " 'GMR10A12_GFP': '+;10XUAS-EGFP/+;P{y[+t7.7] w[+mC]=GMR10A12-GAL4}attP2/+',\n",
       " 'GMR22H05': '+;P{20XUAS-IVS-GCaMP6f}attP40/+;P{y[+t7.7] w[+mC]=GMR22H05-GAL4}attP2/+',\n",
       " 'GMR22H05_GFP': '+;10XUAS-EGFP/+;P{y[+t7.7] w[+mC]=GMR22H05-GAL4}attP2/+',\n",
       " 'GMR29E05': '+;P{20XUAS-IVS-GCaMP6f}attP40/+;P{y[+t7.7] w[+mC]=GMR29E05-GAL4}attP2/+',\n",
       " 'GMR29E05_GFP': '+;10XUAS-EGFP/+;P{y[+t7.7] w[+mC]=GMR29E05-GAL4}attP2/+',\n",
       " 'GMR31E10': '+;P{20XUAS-IVS-GCaMP6f}attP40/+;P{y[+t7.7] w[+mC]=GMR31E10-GAL4}attP2/+',\n",
       " 'GMR31E10_GFP': '+;10XUAS-EGFP/+;P{y[+t7.7] w[+mC]=GMR31E10-GAL4}attP2/+',\n",
       " 'GMR39E01': '+;P{20XUAS-IVS-GCaMP6f}attP40/+;P{y[+t7.7] w[+mC]=GMR39E01-GAL4}attP2/+',\n",
       " 'GMR39E01_GFP': '+;10XUAS-EGFP/+;P{y[+t7.7] w[+mC]=GMR39E01-GAL4}attP2/+',\n",
       " 'GMR74F03': '+;P{20XUAS-IVS-GCaMP6f}attP40/+;P{y[+t7.7] w[+mC]=GMR74F03-GAL4}attP2/+',\n",
       " 'GMR75B06': '+;P{20XUAS-IVS-GCaMP6f}attP40/+;P{y[+t7.7] w[+mC]=GMR75B06-GAL4}attP2/+',\n",
       " 'GMR75B06_GFP': '+;10XUAS-EGFP/+;P{y[+t7.7] w[+mC]=GMR75B06-GAL4}attP2/+'}"
      ]
     },
     "execution_count": 46,
     "metadata": {},
     "output_type": "execute_result"
    }
   ],
   "source": [
    "genotype_nickname_map"
   ]
  },
  {
   "cell_type": "code",
   "execution_count": null,
   "metadata": {
    "collapsed": true
   },
   "outputs": [],
   "source": []
  }
 ],
 "metadata": {
  "kernelspec": {
   "display_name": "Python 2",
   "language": "python",
   "name": "python2"
  },
  "language_info": {
   "codemirror_mode": {
    "name": "ipython",
    "version": 2
   },
   "file_extension": ".py",
   "mimetype": "text/x-python",
   "name": "python",
   "nbconvert_exporter": "python",
   "pygments_lexer": "ipython2",
   "version": "2.7.11"
  }
 },
 "nbformat": 4,
 "nbformat_minor": 0
}
