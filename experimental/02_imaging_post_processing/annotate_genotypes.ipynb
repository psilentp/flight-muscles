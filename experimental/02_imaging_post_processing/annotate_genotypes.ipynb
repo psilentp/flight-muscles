{
 "cells": [
  {
   "cell_type": "code",
   "execution_count": 2,
   "metadata": {
    "collapsed": false
   },
   "outputs": [],
   "source": [
    "import group_data as gd"
   ]
  },
  {
   "cell_type": "code",
   "execution_count": 3,
   "metadata": {
    "collapsed": false,
    "scrolled": false
   },
   "outputs": [
    {
     "data": {
      "text/plain": [
       "['GMR22H05',\n",
       " 'GMR39E01',\n",
       " 'GMR74F03_GFP',\n",
       " 'GMR75B06',\n",
       " 'GMR40D04_yr',\n",
       " 'GMR74F03',\n",
       " 'GMR31E10',\n",
       " 'GMR29E05_GFP',\n",
       " 'GMR22H05_prc',\n",
       " 'GMR39E01_pr',\n",
       " 'GMR29E05',\n",
       " 'GMR22H05_GFP',\n",
       " 'GMR75B06_GFP',\n",
       " 'GMR40D04_ca',\n",
       " 'GMR22H05_pr',\n",
       " 'GMR31E10_GFP',\n",
       " 'GMR40D04_ca_mod1',\n",
       " 'GMR40D04_pr',\n",
       " 'GMR39E01_yr',\n",
       " 'GMR39E01_GFP',\n",
       " 'GMR10A12',\n",
       " 'GMR22H05_yr',\n",
       " 'GMR10A12_GFP']"
      ]
     },
     "execution_count": 3,
     "metadata": {},
     "output_type": "execute_result"
    }
   ],
   "source": [
    "gd.swarms.keys()"
   ]
  },
  {
   "cell_type": "code",
   "execution_count": 4,
   "metadata": {
    "collapsed": false
   },
   "outputs": [
    {
     "data": {
      "text/plain": [
       "[1007, 1008, 1009, 1010, 1011, 1012, 1013, 1014, 1015, 1016, 1017, 1018]"
      ]
     },
     "execution_count": 4,
     "metadata": {},
     "output_type": "execute_result"
    }
   ],
   "source": [
    "[fl.fly_num for fl in gd.swarms['GMR39E01_yr'].flies]"
   ]
  },
  {
   "cell_type": "code",
   "execution_count": 5,
   "metadata": {
    "collapsed": false
   },
   "outputs": [],
   "source": [
    "for fly in gd.swarms['GMR39E01_yr'].flies:\n",
    "    genotype_str = '+;P{20XUAS-IVS-GCaMP6f}attP40/+;P{y[+t7.7] w[+mC]=%s-GAL4}attP2/+'%('GMR39E01')\n",
    "    #gmrstr_GFP = '+;10XUAS-EGFP/+;P{y[+t7.7] w[+mC]=%s-GAL4}attP2/+'%('GMR39E01')\n",
    "    f = open(fly.fly_path + 'genotype.txt','wt')\n",
    "    f.write(genotype_str)\n",
    "    f.close()\n",
    "#gmrstr_GFP = '+;10XUAS-EGFP/+;P{y[+t7.7] w[+mC]=%s-GAL4}attP2/+'%('GMR22H05')"
   ]
  },
  {
   "cell_type": "code",
   "execution_count": 1,
   "metadata": {
    "collapsed": false
   },
   "outputs": [
    {
     "name": "stdout",
     "output_type": "stream",
     "text": [
      "Filesystem      1K-blocks      Used Available Use% Mounted on\r\n",
      "/dev/sda1        10287416   5025424   4721384  52% /\r\n",
      "none                    4         0         4   0% /sys/fs/cgroup\r\n",
      "udev              6659124         8   6659116   1% /dev\r\n",
      "tmpfs             1333772       352   1333420   1% /run\r\n",
      "none                 5120         0      5120   0% /run/lock\r\n",
      "none              6668852         0   6668852   0% /run/shm\r\n",
      "none               102400        32    102368   1% /run/user\r\n",
      "/dev/sdc       1031992064 984769304         4 100% /media/FlyDataC\r\n",
      "/dev/sdb         20511356  18075572   1370824  93% /media/analysis-code\r\n"
     ]
    }
   ],
   "source": [
    "!df"
   ]
  },
  {
   "cell_type": "code",
   "execution_count": null,
   "metadata": {
    "collapsed": true
   },
   "outputs": [],
   "source": []
  },
  {
   "cell_type": "code",
   "execution_count": 10,
   "metadata": {
    "collapsed": true
   },
   "outputs": [],
   "source": [
    "for fly in gd.swarms['GMR40D04_pr'].flies:\n",
    "    genotype_str = '+;P{20XUAS-IVS-GCaMP6f}attP40;P{y[+t7.7] w[+mC]=%s-GAL4}attP2'%('GMR40D04')\n",
    "    #gmrstr_GFP = '+;10XUAS-EGFP/+;P{y[+t7.7] w[+mC]=%s-GAL4}attP2/+'%('GMR39E01')\n",
    "    f = open(fly.fly_path + 'genotype.txt','wt')\n",
    "    f.write(genotype_str)\n",
    "    f.close()\n",
    "#gmrstr_GFP = '+;10XUAS-EGFP/+;P{y[+t7.7] w[+mC]=%s-GAL4}attP2/+'%('GMR22H05')"
   ]
  },
  {
   "cell_type": "code",
   "execution_count": null,
   "metadata": {
    "collapsed": false
   },
   "outputs": [],
   "source": []
  },
  {
   "cell_type": "code",
   "execution_count": null,
   "metadata": {
    "collapsed": true
   },
   "outputs": [],
   "source": []
  },
  {
   "cell_type": "code",
   "execution_count": null,
   "metadata": {
    "collapsed": true
   },
   "outputs": [],
   "source": []
  },
  {
   "cell_type": "code",
   "execution_count": null,
   "metadata": {
    "collapsed": true
   },
   "outputs": [],
   "source": []
  },
  {
   "cell_type": "code",
   "execution_count": 34,
   "metadata": {
    "collapsed": false
   },
   "outputs": [],
   "source": [
    "genotype_nickname_map = dict()"
   ]
  },
  {
   "cell_type": "code",
   "execution_count": 44,
   "metadata": {
    "collapsed": false
   },
   "outputs": [],
   "source": [
    "gmrstr_gcamp = '+;P{20XUAS-IVS-GCaMP6f}attP40/+;P{y[+t7.7] w[+mC]=%s-GAL4}attP2/+'%('GMR22H05')\n",
    "genotype_nickname_map['GMR22H05'] = gmrstr_gcamp\n",
    "gmrstr_gcamp = '+;P{20XUAS-IVS-GCaMP6f}attP40/+;P{y[+t7.7] w[+mC]=%s-GAL4}attP2/+'%('GMR39E01')\n",
    "genotype_nickname_map['GMR39E01'] = gmrstr_gcamp\n",
    "gmrstr_gcamp = '+;P{20XUAS-IVS-GCaMP6f}attP40/+;P{y[+t7.7] w[+mC]=%s-GAL4}attP2/+'%('GMR75B06')\n",
    "genotype_nickname_map['GMR75B06'] = gmrstr_gcamp\n",
    "gmrstr_gcamp = '+;P{20XUAS-IVS-GCaMP6f}attP40/+;P{y[+t7.7] w[+mC]=%s-GAL4}attP2/+'%('GMR74F03')\n",
    "genotype_nickname_map['GMR74F03'] = gmrstr_gcamp\n",
    "gmrstr_gcamp = '+;P{20XUAS-IVS-GCaMP6f}attP40/+;P{y[+t7.7] w[+mC]=%s-GAL4}attP2/+'%('GMR31E10')\n",
    "genotype_nickname_map['GMR31E10'] = gmrstr_gcamp\n",
    "gmrstr_gcamp = '+;P{20XUAS-IVS-GCaMP6f}attP40/+;P{y[+t7.7] w[+mC]=%s-GAL4}attP2/+'%('GMR10A12')\n",
    "genotype_nickname_map['GMR10A12'] = gmrstr_gcamp\n",
    "gmrstr_gcamp = '+;P{20XUAS-IVS-GCaMP6f}attP40/+;P{y[+t7.7] w[+mC]=%s-GAL4}attP2/+'%('GMR29E05')\n",
    "genotype_nickname_map['GMR29E05'] = gmrstr_gcamp\n",
    "\n",
    "gmrstr_GFP = '+;10XUAS-EGFP/+;P{y[+t7.7] w[+mC]=%s-GAL4}attP2/+'%('GMR22H05')\n",
    "genotype_nickname_map['GMR22H05_GFP'] = gmrstr_GFP\n",
    "\n",
    "gmrstr_GFP = '+;10XUAS-EGFP/+;P{y[+t7.7] w[+mC]=%s-GAL4}attP2/+'%('GMR39E01')\n",
    "genotype_nickname_map['GMR39E01_GFP'] = gmrstr_GFP\n",
    "\n",
    "gmrstr_GFP = '+;10XUAS-EGFP/+;P{y[+t7.7] w[+mC]=%s-GAL4}attP2/+'%('GMR75B06')\n",
    "genotype_nickname_map['GMR75B06_GFP'] = gmrstr_GFP\n",
    "\n",
    "gmrstr_GFP = '+;10XUAS-EGFP/+;P{y[+t7.7] w[+mC]=%s-GAL4}attP2/+'%('GMR31E10')\n",
    "genotype_nickname_map['GMR31E10_GFP'] = gmrstr_GFP\n",
    "\n",
    "gmrstr_GFP = '+;10XUAS-EGFP/+;P{y[+t7.7] w[+mC]=%s-GAL4}attP2/+'%('GMR10A12')\n",
    "genotype_nickname_map['GMR10A12_GFP'] = gmrstr_GFP\n",
    "\n",
    "gmrstr_GFP = '+;10XUAS-EGFP/+;P{y[+t7.7] w[+mC]=%s-GAL4}attP2/+'%('GMR29E05')\n",
    "genotype_nickname_map['GMR29E05_GFP'] = gmrstr_GFP\n"
   ]
  },
  {
   "cell_type": "code",
   "execution_count": 46,
   "metadata": {
    "collapsed": false
   },
   "outputs": [
    {
     "data": {
      "text/plain": [
       "{'GMR10A12': '+;P{20XUAS-IVS-GCaMP6f}attP40/+;P{y[+t7.7] w[+mC]=GMR10A12-GAL4}attP2/+',\n",
       " 'GMR10A12_GFP': '+;10XUAS-EGFP/+;P{y[+t7.7] w[+mC]=GMR10A12-GAL4}attP2/+',\n",
       " 'GMR22H05': '+;P{20XUAS-IVS-GCaMP6f}attP40/+;P{y[+t7.7] w[+mC]=GMR22H05-GAL4}attP2/+',\n",
       " 'GMR22H05_GFP': '+;10XUAS-EGFP/+;P{y[+t7.7] w[+mC]=GMR22H05-GAL4}attP2/+',\n",
       " 'GMR29E05': '+;P{20XUAS-IVS-GCaMP6f}attP40/+;P{y[+t7.7] w[+mC]=GMR29E05-GAL4}attP2/+',\n",
       " 'GMR29E05_GFP': '+;10XUAS-EGFP/+;P{y[+t7.7] w[+mC]=GMR29E05-GAL4}attP2/+',\n",
       " 'GMR31E10': '+;P{20XUAS-IVS-GCaMP6f}attP40/+;P{y[+t7.7] w[+mC]=GMR31E10-GAL4}attP2/+',\n",
       " 'GMR31E10_GFP': '+;10XUAS-EGFP/+;P{y[+t7.7] w[+mC]=GMR31E10-GAL4}attP2/+',\n",
       " 'GMR39E01': '+;P{20XUAS-IVS-GCaMP6f}attP40/+;P{y[+t7.7] w[+mC]=GMR39E01-GAL4}attP2/+',\n",
       " 'GMR39E01_GFP': '+;10XUAS-EGFP/+;P{y[+t7.7] w[+mC]=GMR39E01-GAL4}attP2/+',\n",
       " 'GMR74F03': '+;P{20XUAS-IVS-GCaMP6f}attP40/+;P{y[+t7.7] w[+mC]=GMR74F03-GAL4}attP2/+',\n",
       " 'GMR75B06': '+;P{20XUAS-IVS-GCaMP6f}attP40/+;P{y[+t7.7] w[+mC]=GMR75B06-GAL4}attP2/+',\n",
       " 'GMR75B06_GFP': '+;10XUAS-EGFP/+;P{y[+t7.7] w[+mC]=GMR75B06-GAL4}attP2/+'}"
      ]
     },
     "execution_count": 46,
     "metadata": {},
     "output_type": "execute_result"
    }
   ],
   "source": [
    "genotype_nickname_map"
   ]
  },
  {
   "cell_type": "code",
   "execution_count": null,
   "metadata": {
    "collapsed": true
   },
   "outputs": [],
   "source": []
  }
 ],
 "metadata": {
  "kernelspec": {
   "display_name": "Python 2",
   "language": "python",
   "name": "python2"
  },
  "language_info": {
   "codemirror_mode": {
    "name": "ipython",
    "version": 2
   },
   "file_extension": ".py",
   "mimetype": "text/x-python",
   "name": "python",
   "nbconvert_exporter": "python",
   "pygments_lexer": "ipython2",
   "version": "2.7.11"
  },
  "nav_menu": {},
  "toc": {
   "navigate_menu": true,
   "number_sections": true,
   "sideBar": true,
   "threshold": 6,
   "toc_cell": false,
   "toc_section_display": "block",
   "toc_window_display": false
  }
 },
 "nbformat": 4,
 "nbformat_minor": 0
}
