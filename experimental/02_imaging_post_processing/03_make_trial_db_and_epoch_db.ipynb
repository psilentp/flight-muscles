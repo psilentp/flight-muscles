{
 "cells": [
  {
   "cell_type": "code",
   "execution_count": 1,
   "metadata": {
    "collapsed": false
   },
   "outputs": [
    {
     "name": "stdout",
     "output_type": "stream",
     "text": [
      "Populating the interactive namespace from numpy and matplotlib\n"
     ]
    }
   ],
   "source": [
    "import group_data as gd\n",
    "import flylib\n",
    "import numpy as np\n",
    "%pylab inline\n",
    "%config InlineBackend.figure_format = 'svg'\n",
    "import pylab as plb\n",
    "plb.rcParams['pdf.fonttype'] = 42"
   ]
  },
  {
   "cell_type": "code",
   "execution_count": 2,
   "metadata": {
    "collapsed": false
   },
   "outputs": [
    {
     "name": "stdout",
     "output_type": "stream",
     "text": [
      "here\n"
     ]
    }
   ],
   "source": [
    "print 'here'"
   ]
  },
  {
   "cell_type": "markdown",
   "metadata": {},
   "source": [
    "# EpochDB\n",
    "stack all epochs and signals into single table, use vectors to describe each signal type and trial type. (epoch db)"
   ]
  },
  {
   "cell_type": "code",
   "execution_count": 3,
   "metadata": {
    "collapsed": false,
    "scrolled": true
   },
   "outputs": [
    {
     "name": "stdout",
     "output_type": "stream",
     "text": [
      "648\n",
      "370\n",
      "631\n"
     ]
    },
    {
     "name": "stderr",
     "output_type": "stream",
     "text": [
      "/home/psilentp/anaconda/lib/python2.7/site-packages/ipykernel/__main__.py:39: RuntimeWarning: invalid value encountered in greater\n"
     ]
    }
   ],
   "source": [
    "######\n",
    "#blurred background subtracted data\n",
    "######\n",
    "\n",
    "trial_numbers = list()\n",
    "trial_names = list()\n",
    "fly_numbers = list()\n",
    "signal_units = list()\n",
    "signal_data = list()\n",
    "signal_names = list()\n",
    "swarm_names = list()\n",
    "trial_times = list()\n",
    "exp_names = list()\n",
    "genotypes = list()\n",
    "flt_samples = list()\n",
    "\n",
    "for swarm_name,swarm in gd.swarms.items():\n",
    "    for fly in swarm.flies:\n",
    "        try:\n",
    "            sigs = fly.get_pkl_data('nnls_fits_bk_sub_F_sig_mtrx.cpkl')\n",
    "            for i,trial in enumerate(sigs['StimCond']):\n",
    "                for key in ['StimCond','wb_frequency',\n",
    "                            'Ph0','Ph1','Ph2','Xpos','Ypos',\n",
    "                            'b1','b2','b3',\n",
    "                            'i1','i2',\n",
    "                            'iii1','iii3','iii24',\n",
    "                            'hg1','hg2','hg3','hg4',\n",
    "                            'tpd','tpv','ttm','pr','nm']:\n",
    "                    try:\n",
    "                        sd = np.array(sigs[key][i])\n",
    "                        tna = sigs['trial_cond'][i]\n",
    "                        tnum = i\n",
    "                        fnum = fly.fly_num\n",
    "                        snam = key\n",
    "                        swna = swarm_name\n",
    "                        trti = sigs['trial_time'][i]\n",
    "                        expna = str(fly.list_expmnts()[0])\n",
    "                        geno = fly.get_genotype()\n",
    "                        fsmp = np.nansum(sigs['wb_frequency'][i] > 50)\n",
    "                        \n",
    "                        trial_names.append(tna)\n",
    "                        trial_numbers.append(tnum)\n",
    "                        fly_numbers.append(fnum)\n",
    "                        signal_names.append(snam)\n",
    "                        swarm_names.append(swna)\n",
    "                        trial_times.append(trti)\n",
    "                        exp_names.append(expna)\n",
    "                        signal_data.append(sd)\n",
    "                        genotypes.append(geno)\n",
    "                        flt_samples.append(fsmp)\n",
    "                        \n",
    "                    except KeyError as err:\n",
    "                        pass\n",
    "                        #print err\n",
    "                        #print 'key error'\n",
    "        except IOError:\n",
    "            print fly.fly_num\n",
    "            #print swarm_name\n",
    "            #print 'missing file'\n",
    "                #print 'missing: %s'%key\n",
    "        except EOFError:\n",
    "            print 'eof error' + str(fly.fly_num)\n",
    "            \n",
    "trial_numbers = np.array(trial_numbers)\n",
    "trial_names = np.array(trial_names)\n",
    "fly_numbers = np.array(fly_numbers)\n",
    "signal_units = np.array(signal_units)\n",
    "signal_data = np.array(signal_data)\n",
    "signal_names = np.array(signal_names)\n",
    "swarm_names = np.array(swarm_names)\n",
    "trial_times = np.array(trial_times)\n",
    "exp_names = np.array(exp_names)\n",
    "genotypes = np.array(genotypes)\n",
    "flt_samples = np.array(flt_samples)\n",
    "import os\n",
    "os.remove('epoch_db_nnls_fits_bk_sub_F.hdf5')\n",
    "import h5py\n",
    "epoch_db = h5py.File('epoch_db_nnls_fits_bk_sub_F.hdf5','a')\n",
    "epoch_db.create_dataset('trial_numbers',data = trial_numbers,  compression=\"gzip\",compression_opts=5)\n",
    "epoch_db.create_dataset('trial_names',  data = trial_names,    compression=\"gzip\",compression_opts=5)\n",
    "epoch_db.create_dataset('fly_numbers',  data = fly_numbers,    compression=\"gzip\",compression_opts=5)\n",
    "epoch_db.create_dataset('signal_data',  data = signal_data,    compression=\"gzip\",compression_opts=5)\n",
    "epoch_db.create_dataset('signal_names', data = signal_names,    compression=\"gzip\",compression_opts=5)\n",
    "epoch_db.create_dataset('swarm_names',  data = swarm_names,    compression=\"gzip\",compression_opts=5)\n",
    "epoch_db.create_dataset('trial_times',  data = trial_times,    compression=\"gzip\",compression_opts=5)\n",
    "epoch_db.create_dataset('exp_names',    data = exp_names,    compression=\"gzip\",compression_opts=5)\n",
    "epoch_db.create_dataset('genotypes',    data = genotypes,    compression=\"gzip\",compression_opts=5)\n",
    "epoch_db.create_dataset('flt_samples',  data = flt_samples,  compression=\"gzip\",compression_opts=5)\n",
    "epoch_db.flush()\n",
    "epoch_db.close()"
   ]
  },
  {
   "cell_type": "markdown",
   "metadata": {
    "collapsed": true
   },
   "source": [
    "# TrialDB\n",
    "Create a series of tables for each signal type. Use vectors to indicate fly num, trial time, trial type ect.. (trial db)"
   ]
  },
  {
   "cell_type": "code",
   "execution_count": null,
   "metadata": {
    "collapsed": true
   },
   "outputs": [],
   "source": [
    "data_dict = dict()\n",
    "#collumns of data\n",
    "for key in ['StimCond','wb_frequency',\n",
    "            'Ph0','Ph1','Ph2','Xpos','Ypos',\n",
    "            'b1','b2','b3',\n",
    "            'i1','i2',\n",
    "            'iii1','iii3','iii24',\n",
    "            'hg1','hg2','hg3','hg4',\n",
    "            'tpd','tpv','ttm','nm','pr']:\n",
    "    data_dict[key] = list()\n",
    "\n",
    "data_dict['trial_numbers'] = list()\n",
    "data_dict['trial_names'] = list()\n",
    "data_dict['fly_numbers'] = list()\n",
    "data_dict['signal_units'] = list()\n",
    "#signal_names = list()\n",
    "data_dict['swarm_names'] = list()\n",
    "data_dict['trial_times'] = list()\n",
    "data_dict['exp_names'] = list()\n",
    "data_dict['genotypes'] = list()\n",
    "#data_dict['flt_samples = list()"
   ]
  },
  {
   "cell_type": "code",
   "execution_count": null,
   "metadata": {
    "collapsed": false
   },
   "outputs": [],
   "source": [
    "#epoch_db_nnls_fits_bk_sub_F\n",
    "lidx = 0\n",
    "import ipywidgets as widgets\n",
    "from IPython.display import display\n",
    "\n",
    "nflies = 0\n",
    "for swarm_name,swarm in gd.swarms.items():\n",
    "    lidx +=1 \n",
    "    for fly in swarm.flies:\n",
    "        nflies +=1\n",
    "        \n",
    "pbar = widgets.FloatProgress(\n",
    "    value=0,\n",
    "    min=0.0,\n",
    "    max=nflies,\n",
    "    step=1,\n",
    "    description='fitting:')\n",
    "\n",
    "display(pbar)\n",
    "\n",
    "xi = np.linspace(0,23,1150)\n",
    "for swarm_name,swarm in gd.swarms.items():\n",
    "    lidx +=1\n",
    "    pbar.value = lidx\n",
    "    for fly in swarm.flies:\n",
    "        try:\n",
    "            sigs = fly.get_pkl_data('nnls_fits_bk_sub_F_sig_mtrx.cpkl')\n",
    "            #sigs = fly.get_pkl_data('nnls_fits_no_bk_dF_F_sig_mtrx.cpkl')\n",
    "            for i,trial in enumerate(sigs['StimCond']):\n",
    "                for key in ['StimCond','wb_frequency',\n",
    "                            'Ph0','Ph1','Ph2','Xpos','Ypos',\n",
    "                            'b1','b2','b3',\n",
    "                            'i1','i2',\n",
    "                            'iii1','iii3','iii24',\n",
    "                            'hg1','hg2','hg3','hg4',\n",
    "                            'tpd','tpv','ttm','pr','nm']:\n",
    "                    try:\n",
    "                        signal = np.array(sigs[key][i])\n",
    "                    except KeyError:\n",
    "                        signal = np.empty_like(xi)\n",
    "                        signal[:] = np.NAN\n",
    "                    data_dict[key].append(signal)\n",
    "                try:\n",
    "                    tna = sigs['trial_cond'][i]\n",
    "                except KeyError:\n",
    "                    tna = 'nan'\n",
    "                try:\n",
    "                    trti = sigs['trial_time'][i]\n",
    "                except KeyError:\n",
    "                    trti = np.NAN\n",
    "                tnum = i\n",
    "                fnum = fly.fly_num\n",
    "                swna = swarm_name\n",
    "\n",
    "                expna = str(fly.list_expmnts()[0])\n",
    "                try:\n",
    "                    geno = fly.get_genotype()\n",
    "                except Exception as er:\n",
    "                    #print er\n",
    "                    geno = 'nan'\n",
    "                data_dict['trial_numbers'].append(tnum)\n",
    "                data_dict['trial_names'].append(tna)\n",
    "                data_dict['fly_numbers'].append(fnum)\n",
    "                data_dict['swarm_names'].append(swarm_name)\n",
    "                data_dict['trial_times'].append(tna)\n",
    "                data_dict['exp_names'].append(expna)\n",
    "                data_dict['genotypes'].append(geno)\n",
    "        except IOError:\n",
    "            print fly.fly_num\n",
    "            print swarm_name\n",
    "            print 'missing file'\n",
    "                #print 'missing: %s'%key\n",
    "        except EOFError:\n",
    "            print 'eof error' + str(fly.fly_num)"
   ]
  },
  {
   "cell_type": "code",
   "execution_count": null,
   "metadata": {
    "collapsed": false
   },
   "outputs": [],
   "source": [
    "import os\n",
    "#os.listdir('./')\n",
    "os.remove('trial_db.hdf5')\n",
    "import h5py\n",
    "trial_db = h5py.File('trial_db.hdf5','a')\n",
    "for key in data_dict:\n",
    "    trial_db.create_dataset(key,data = np.array(data_dict[key]),  compression=\"gzip\",compression_opts=5)\n",
    "trial_db.flush()"
   ]
  },
  {
   "cell_type": "code",
   "execution_count": 9,
   "metadata": {
    "collapsed": false
   },
   "outputs": [
    {
     "name": "stdout",
     "output_type": "stream",
     "text": [
      "here\n"
     ]
    }
   ],
   "source": [
    "print 'here'"
   ]
  },
  {
   "cell_type": "code",
   "execution_count": null,
   "metadata": {
    "collapsed": true
   },
   "outputs": [],
   "source": []
  }
 ],
 "metadata": {
  "anaconda-cloud": {},
  "kernelspec": {
   "display_name": "Python 2",
   "language": "python",
   "name": "python2"
  },
  "language_info": {
   "codemirror_mode": {
    "name": "ipython",
    "version": 2
   },
   "file_extension": ".py",
   "mimetype": "text/x-python",
   "name": "python",
   "nbconvert_exporter": "python",
   "pygments_lexer": "ipython2",
   "version": "2.7.11"
  },
  "nav_menu": {},
  "toc": {
   "navigate_menu": true,
   "number_sections": true,
   "sideBar": true,
   "threshold": 6,
   "toc_cell": false,
   "toc_section_display": "block",
   "toc_window_display": true
  }
 },
 "nbformat": 4,
 "nbformat_minor": 0
}
