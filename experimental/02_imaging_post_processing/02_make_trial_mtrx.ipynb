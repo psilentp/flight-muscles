{
 "cells": [
  {
   "cell_type": "code",
   "execution_count": 1,
   "metadata": {
    "collapsed": false
   },
   "outputs": [],
   "source": [
    "def make_sig_mtrx(fly,parallel = True):\n",
    "    def get_line_database():\n",
    "        #print line_name\n",
    "        import cPickle\n",
    "        f = open('../mn_expression_matrix_plot/line_database.cpkl','rb')\n",
    "        line_database = cPickle.load(f)\n",
    "        f.close()\n",
    "        return line_database\n",
    "\n",
    "    def parse_GMR_genotype(genotype):\n",
    "        \"\"\"get the GMR and UAS keys in a given genotype\"\"\"\n",
    "        print genotype\n",
    "        gcamp_idx =  genotype.find('GCaMP6f')\n",
    "        GFP_idx = genotype.find('GFP')\n",
    "        gmr_idx = genotype.find('GMR')\n",
    "        gmr_str = genotype[gmr_idx+3:gmr_idx+8]\n",
    "        if gcamp_idx > 0:\n",
    "            return {'uas':'GCaMP6f','gal4':gmr_str}\n",
    "        elif GFP_idx > 0:\n",
    "            return {'uas':'eGFP','gal4':gmr_str}\n",
    "\n",
    "    def get_signal_dict(fly):\n",
    "        \"\"\"merge the signals from the nnls fits and the fly_record file into a single dictionary\"\"\"\n",
    "        import h5py\n",
    "        import cPickle\n",
    "        import numpy as np\n",
    "        fly_path = fly.fly_path\n",
    "        muscle_data_file = fly_path+ 'nnls_fits_bk_sub_F.cpkl'\n",
    "        #muscle_data_file = fly_path+'nnls_fits_no_bk_dF_F.cpkl'\n",
    "        fly_record_file = fly_path+'fly_record.hdf5'\n",
    "        signal_dict = dict()\n",
    "        fi = open(muscle_data_file,'rb')\n",
    "        muscle_data = cPickle.load(fi)\n",
    "        fi.close()\n",
    "        for mu,sig in zip(muscle_data['muscles'],muscle_data['fits']):\n",
    "            signal_dict[mu] = sig\n",
    "        hf = h5py.File(fly_record_file,'r')\n",
    "        exp_record = hf['experiments'].values()[0]\n",
    "        for key in exp_record['tiff_data']['axon_framebase'].keys():\n",
    "            signal_dict[key] = np.array(exp_record['tiff_data']['axon_framebase'][key])\n",
    "        hf.close()\n",
    "        return signal_dict\n",
    "    \n",
    "    #try:\n",
    "    import group_data as gd\n",
    "    from scipy.interpolate import griddata\n",
    "    import numpy as np\n",
    "    import flylib\n",
    "\n",
    "    line_profile = get_line_database()[parse_GMR_genotype(flylist[0].get_genotype())['gal4']]\n",
    "    muscles_in_line = [key for key,item in line_profile.items() if (item  > 0)]\n",
    "    muscles_in_line = [m for m in muscles_in_line if not(m == 'ps')]\n",
    "    #print muscles_in_line\n",
    "\n",
    "    sigs = get_signal_dict(fly)#fly_dict['sigs']\n",
    "    fly_path = fly.fly_path#fly_dict['fly_path']\n",
    "    trials = flylib.idx_by_thresh(sigs['StimCond'],0.0)\n",
    "    exp_name = fly.list_expmnts()[0]\n",
    "    signal_mtrxs = dict()\n",
    "\n",
    "    xi = np.linspace(0,23,1150)\n",
    "\n",
    "    ##########\n",
    "    ##### Motion stim\n",
    "    ##########\n",
    "    for key in sigs:\n",
    "        signal_mtrxs[key] = list()\n",
    "\n",
    "    signal_mtrxs['trial_cond'] = list()\n",
    "    signal_mtrxs['fly_num'] = list()\n",
    "    signal_mtrxs['exp_names'] = list()\n",
    "    signal_mtrxs['trial_time'] = list()\n",
    "\n",
    "    for trial in trials:\n",
    "        try:\n",
    "            cond = gd.decode_map[exp_name](sigs['StimCond'][trial])\n",
    "            t0 = sigs['times'][trial][0]\n",
    "            tn = sigs['times'][trial][-1]\n",
    "\n",
    "            signal_mtrxs['trial_time'].append(np.array([t0,tn]))\n",
    "\n",
    "            times = sigs['times'][trial] - sigs['times'][trial[0]]\n",
    "\n",
    "            #signal_mtrxs['fly_num'].append(fly.fly_num)\n",
    "            signal_mtrxs['trial_cond'].append(cond)\n",
    "            signal_mtrxs['fly_num'].append(fly.fly_num)\n",
    "            signal_mtrxs['exp_names'].append(exp_name)\n",
    "            for skey in sigs.keys():#['wb_period','wb_frequency','strobe_time','Ph0','Ph1','Ph2','Ph3','StimCond']:\n",
    "                #print trial\n",
    "                #print shape(trial)\n",
    "                #print shape(times)\n",
    "                resamp = griddata(times,np.array(sigs[skey])[trial],xi,method = 'linear')\n",
    "                signal_mtrxs[skey].append(resamp)\n",
    "        except ValueError:\n",
    "            print 'ValueError'\n",
    "    ##########\n",
    "    ##### Stripe fixation\n",
    "    ##########\n",
    "    stfix = flylib.idx_by_thresh(sigs['StimCond']*-1,0.5)[0]\n",
    "    t0 = sigs['times'][stfix][0]\n",
    "    tn = sigs['times'][stfix][-1]\n",
    "    while ((t0+23.5) < tn):\n",
    "        trial = np.squeeze(np.where((sigs['times'] > t0) & (sigs['times'] < (t0+23))))\n",
    "        try:\n",
    "            cond = 'stripe_fix'\n",
    "            times = sigs['times'][trial] - sigs['times'][trial[0]]\n",
    "            #signal_mtrxs['fly_num'].append(fly.fly_num)\n",
    "            signal_mtrxs['trial_cond'].append(cond)\n",
    "            signal_mtrxs['fly_num'].append(fly.fly_num)\n",
    "            signal_mtrxs['exp_names'].append(exp_name)\n",
    "            signal_mtrxs['trial_time'].append(np.array([t0,t0+23]))\n",
    "            for skey in sigs.keys():\n",
    "                resamp = griddata(times,np.array(sigs[skey])[trial],xi,method = 'linear')\n",
    "                signal_mtrxs[skey].append(resamp)\n",
    "            t0 += 23\n",
    "        except ValueError:\n",
    "            print 'ValueError'\n",
    "    ##########\n",
    "    ##### Flight starts\n",
    "    ##########\n",
    "    fsig = np.array(sigs['wb_frequency'])\n",
    "    #fsig = hstack((fsig,[0,0]))\n",
    "    epoch_times = [(sigs['times'][ep[0]]-5,\n",
    "                    sigs['times'][ep[0]]+18) for ep in flylib.idx_by_thresh(fsig,50) if np.shape(ep)[0]>500]\n",
    "\n",
    "    trials = [np.squeeze(np.where((sigs['times'] > ep[0]) & (sigs['times'] < ep[1]))) for ep in epoch_times]\n",
    "    ### need to find a better way to extract the #frames\n",
    "    #print sigs\n",
    "    trials = [ep for ep in trials if (ep[-1] < len(sigs[muscles_in_line[0]]))]\n",
    "    xi = np.linspace(0,23,1150)\n",
    "    for trial in trials:\n",
    "        try:\n",
    "            cond = 'flight_starts'\n",
    "            t0 = sigs['times'][trial][0]\n",
    "            tn = sigs['times'][trial][-1]\n",
    "\n",
    "            times = sigs['times'][trial] - sigs['times'][trial[0]]\n",
    "            signal_mtrxs['trial_time'].append(np.array([t0,tn]))\n",
    "\n",
    "            signal_mtrxs['trial_cond'].append(cond)\n",
    "            signal_mtrxs['fly_num'].append(fly.fly_num)\n",
    "            signal_mtrxs['exp_names'].append(exp_name)\n",
    "            for skey in sigs.keys():\n",
    "                resamp = griddata(times,np.array(sigs[skey])[trial],xi,method = 'linear')\n",
    "                signal_mtrxs[skey].append(resamp)\n",
    "        except ValueError:\n",
    "            print 'ValueError'\n",
    "\n",
    "    ##########\n",
    "    ##### Flight stops\n",
    "    ##########        \n",
    "    epoch_times = [(sigs['times'][ep[-1]]-5,\n",
    "                    sigs['times'][ep[-1]]+18) for ep in flylib.idx_by_thresh(fsig,50) if np.shape(ep)[0]>500]\n",
    "\n",
    "    trials = [np.squeeze(np.where((sigs['times'] > ep[0]) & (sigs['times'] < ep[1]))) for ep in epoch_times]\n",
    "    trials = [ep for ep in trials if (ep[-1] < len(sigs[muscles_in_line[0]]))]\n",
    "    xi = np.linspace(0,23,1150)\n",
    "    for trial in trials:\n",
    "        try:\n",
    "            cond = 'flight_stops'\n",
    "            t0 = sigs['times'][trial][0]\n",
    "            tn = sigs['times'][trial][-1]\n",
    "            #print trial\n",
    "            times = sigs['times'][trial] - sigs['times'][trial[0]]\n",
    "            signal_mtrxs['trial_time'].append(np.array([t0,tn]))\n",
    "\n",
    "            signal_mtrxs['trial_cond'].append(cond)\n",
    "            signal_mtrxs['fly_num'].append(fly.fly_num)\n",
    "            signal_mtrxs['exp_names'].append(exp_name)\n",
    "            for skey in sigs.keys():\n",
    "                resamp = griddata(times,np.array(sigs[skey])[trial],xi,method = 'linear')\n",
    "                signal_mtrxs[skey].append(resamp)\n",
    "        except ValueError:\n",
    "            print 'ValueError' \n",
    "\n",
    "    for key in signal_mtrxs:\n",
    "        signal_mtrxs[key] = np.array(signal_mtrxs[key])\n",
    "\n",
    "    if parallel:\n",
    "        import cPickle\n",
    "        #f = open(fly.fly_path + 'nnls_fits_no_bk_dF_F_sig_mtrx.cpkl','wb')\n",
    "        f = open(fly.fly_path + 'nnls_fits_bk_sub_F_sig_mtrx.cpkl','wb')\n",
    "        cPickle.dump(signal_mtrxs,f)\n",
    "        f.close()\n",
    "    else:\n",
    "        return signal_mtrxs\n",
    "    #except Exception, err: # catch *all* exceptions\n",
    "    #    return err"
   ]
  },
  {
   "cell_type": "code",
   "execution_count": 2,
   "metadata": {
    "collapsed": false
   },
   "outputs": [
    {
     "name": "stdout",
     "output_type": "stream",
     "text": [
      "Populating the interactive namespace from numpy and matplotlib\n"
     ]
    }
   ],
   "source": [
    "%pylab inline\n",
    "%config InlineBackend.figure_format = 'svg'\n",
    "import pylab as plb\n",
    "plb.rcParams['pdf.fonttype'] = 42"
   ]
  },
  {
   "cell_type": "code",
   "execution_count": 3,
   "metadata": {
    "collapsed": false
   },
   "outputs": [],
   "source": [
    "def sanity_check(fly):\n",
    "    \"\"\"make sure the list of decoded trials matches \n",
    "    those saved in the trial_data.cpkl file should return 0\"\"\"\n",
    "    import flylib as flb\n",
    "    import group_data as gd\n",
    "    import re\n",
    "    reload(gd)\n",
    "    fly.open_fly_record()\n",
    "    expmnt = fly.get_expmnt(fly.list_expmnts()[0])\n",
    "    try:\n",
    "        trial_data = fly.get_pkl_data('trial_data.cpkl')\n",
    "        sconds = np.array(expmnt['tiff_data']['axon_framebase']['StimCond'])\n",
    "        epochs = flb.idx_by_thresh(sconds,0.0)\n",
    "        pat_names = [gd.decode_cond_roll_yaw(sconds[ep]) for ep in epochs]\n",
    "        parse = lambda pname:re.sub(r'Pattern_','',re.sub(r'_v._rep..mat','',pname))\n",
    "        #print [parse(td['pattern_name']) == pname for td,pname in zip(trial_data,pat_names)]\n",
    "        return len(trial_data) - sum([parse(td['pattern_name']) == pname for td,pname in zip(trial_data,pat_names)])\n",
    "    except IOError:\n",
    "        return 'no trial data'"
   ]
  },
  {
   "cell_type": "code",
   "execution_count": 4,
   "metadata": {
    "collapsed": false
   },
   "outputs": [],
   "source": [
    "import group_data as gd\n",
    "reload(gd)\n",
    "#file_name = 'nnls_fits_no_bk_dF_F_sig_mtrx.cpkl',\n",
    "#flylist = [gd.GMR22H05_pr_swarm.flies+gd.GMR22H05_prc_swarm.flies+ gd.GMR22H05_swarm.flies][0]\n",
    "#flylist = gd.get_update_list(swarms = [gd.GMR22H05_pr_swarm,gd.GMR22H05_prc_swarm, gd.GMR22H05_swarm],\n",
    "#                             file_name = 'nnls_fits_bk_sub_F_sig_mtrx.cpkl',\n",
    "#                             replace = True)\n",
    "flylist = gd.swarms['GMR22H05_yr'].flies"
   ]
  },
  {
   "cell_type": "code",
   "execution_count": 5,
   "metadata": {
    "collapsed": false
   },
   "outputs": [
    {
     "data": {
      "text/plain": [
       "[0, 0, 0]"
      ]
     },
     "execution_count": 5,
     "metadata": {},
     "output_type": "execute_result"
    }
   ],
   "source": [
    "[sanity_check(fly) for fly in flylist]"
   ]
  },
  {
   "cell_type": "code",
   "execution_count": 6,
   "metadata": {
    "collapsed": false
   },
   "outputs": [
    {
     "name": "stdout",
     "output_type": "stream",
     "text": [
      "Populating the interactive namespace from numpy and matplotlib\n"
     ]
    }
   ],
   "source": [
    "%pylab inline\n",
    "%config InlineBackend.figure_format = 'svg'"
   ]
  },
  {
   "cell_type": "code",
   "execution_count": 7,
   "metadata": {
    "collapsed": false
   },
   "outputs": [
    {
     "data": {
      "text/plain": [
       "[656, 657, 658]"
      ]
     },
     "execution_count": 7,
     "metadata": {},
     "output_type": "execute_result"
    }
   ],
   "source": [
    "[fl.fly_num for fl in flylist]"
   ]
  },
  {
   "cell_type": "code",
   "execution_count": 8,
   "metadata": {
    "collapsed": false
   },
   "outputs": [
    {
     "name": "stdout",
     "output_type": "stream",
     "text": [
      "[0, 1, 2, 3]\n"
     ]
    },
    {
     "name": "stderr",
     "output_type": "stream",
     "text": [
      "/home/psilentp/anaconda/lib/python2.7/site-packages/IPython/parallel.py:13: ShimWarning: The `IPython.parallel` package has been deprecated. You should import from ipyparallel instead.\n",
      "  \"You should import from ipyparallel instead.\", ShimWarning)\n"
     ]
    }
   ],
   "source": [
    "#parallize accross flies\n",
    "from IPython.parallel import Client\n",
    "clients = Client() \n",
    "clients.block = True\n",
    "print clients.ids\n",
    "v = clients[:]"
   ]
  },
  {
   "cell_type": "code",
   "execution_count": 9,
   "metadata": {
    "collapsed": false
   },
   "outputs": [],
   "source": [
    "#v.map(make_sig_mtrx,flylist)"
   ]
  },
  {
   "cell_type": "code",
   "execution_count": 9,
   "metadata": {
    "collapsed": false
   },
   "outputs": [
    {
     "name": "stdout",
     "output_type": "stream",
     "text": [
      "+;P{20XUAS-IVS-GCaMP6f}attP40/+;P{y[+t7.7] w[+mC]=GMR22H05-GAL4}attP2/+\n",
      "+;P{20XUAS-IVS-GCaMP6f}attP40/+;P{y[+t7.7] w[+mC]=GMR22H05-GAL4}attP2/+\n",
      "+;P{20XUAS-IVS-GCaMP6f}attP40/+;P{y[+t7.7] w[+mC]=GMR22H05-GAL4}attP2/+\n"
     ]
    },
    {
     "name": "stderr",
     "output_type": "stream",
     "text": [
      "/home/psilentp/anaconda/lib/python2.7/site-packages/scipy/interpolate/interpolate.py:445: RuntimeWarning: invalid value encountered in subtract\n",
      "  slope = (y_hi - y_lo) / (x_hi - x_lo)[:, None]\n"
     ]
    },
    {
     "data": {
      "text/plain": [
       "[None, None, None]"
      ]
     },
     "execution_count": 9,
     "metadata": {},
     "output_type": "execute_result"
    }
   ],
   "source": [
    "[make_sig_mtrx(fl) for fl in flylist]"
   ]
  },
  {
   "cell_type": "code",
   "execution_count": null,
   "metadata": {
    "collapsed": false
   },
   "outputs": [],
   "source": []
  },
  {
   "cell_type": "code",
   "execution_count": null,
   "metadata": {
    "collapsed": true
   },
   "outputs": [],
   "source": []
  }
 ],
 "metadata": {
  "kernelspec": {
   "display_name": "Python 2",
   "language": "python",
   "name": "python2"
  },
  "language_info": {
   "codemirror_mode": {
    "name": "ipython",
    "version": 2
   },
   "file_extension": ".py",
   "mimetype": "text/x-python",
   "name": "python",
   "nbconvert_exporter": "python",
   "pygments_lexer": "ipython2",
   "version": "2.7.11"
  }
 },
 "nbformat": 4,
 "nbformat_minor": 0
}
