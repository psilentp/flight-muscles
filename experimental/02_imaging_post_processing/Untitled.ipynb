{
 "cells": [
  {
   "cell_type": "code",
   "execution_count": null,
   "metadata": {
    "collapsed": false
   },
   "outputs": [
    {
     "name": "stdout",
     "output_type": "stream",
     "text": [
      "2016-03-14 04:35:24.586 [IPClusterStart] Starting ipcluster with [daemon=False]\n",
      "2016-03-14 04:35:24.586 [IPClusterStart] Creating pid file: /home/psilentp/.ipython/profile_default/pid/ipcluster.pid\n",
      "2016-03-14 04:35:24.586 [IPClusterStart] Starting Controller with LocalControllerLauncher\n",
      "2016-03-14 04:35:25.590 [IPClusterStart] Starting 4 Engines with LocalEngineSetLauncher\n",
      "2016-03-14 04:35:55.917 [IPClusterStart] Engines appear to have started successfully\n"
     ]
    }
   ],
   "source": [
    "!ipcluster start -n 4"
   ]
  },
  {
   "cell_type": "code",
   "execution_count": null,
   "metadata": {
    "collapsed": true
   },
   "outputs": [],
   "source": []
  }
 ],
 "metadata": {
  "kernelspec": {
   "display_name": "Python 2",
   "language": "python",
   "name": "python2"
  },
  "language_info": {
   "codemirror_mode": {
    "name": "ipython",
    "version": 2
   },
   "file_extension": ".py",
   "mimetype": "text/x-python",
   "name": "python",
   "nbconvert_exporter": "python",
   "pygments_lexer": "ipython2",
   "version": "2.7.11"
  }
 },
 "nbformat": 4,
 "nbformat_minor": 0
}
