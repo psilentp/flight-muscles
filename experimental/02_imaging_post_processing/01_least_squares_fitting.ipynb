{
 "cells": [
  {
   "cell_type": "code",
   "execution_count": 1,
   "metadata": {
    "collapsed": true
   },
   "outputs": [],
   "source": [
    "import group_data as gd"
   ]
  },
  {
   "cell_type": "code",
   "execution_count": 2,
   "metadata": {
    "collapsed": true
   },
   "outputs": [],
   "source": [
    "def parse_GMR_genotype(genotype):\n",
    "    \"\"\"get the GMR and UAS keys in a given genotype\"\"\"\n",
    "    print genotype\n",
    "    gcamp_idx =  genotype.find('GCaMP6f')\n",
    "    GFP_idx = genotype.find('GFP')\n",
    "    gmr_idx = genotype.find('GMR')\n",
    "    gmr_str = genotype[gmr_idx+3:gmr_idx+8]\n",
    "    if gcamp_idx > 0:\n",
    "        return {'uas':'GCaMP6f','gal4':gmr_str}\n",
    "    elif GFP_idx > 0:\n",
    "        return {'uas':'eGFP','gal4':gmr_str}"
   ]
  },
  {
   "cell_type": "code",
   "execution_count": 3,
   "metadata": {
    "collapsed": true
   },
   "outputs": [],
   "source": [
    "def get_line_database():\n",
    "    #print line_name\n",
    "    import cPickle\n",
    "    f = open('../mn_expression_matrix_plot/line_database.cpkl','rb')\n",
    "    line_database = cPickle.load(f)\n",
    "    f.close()\n",
    "    return line_database\n",
    "\n",
    "def get_muscle_list(line_name):\n",
    "    line_database = get_line_database()\n",
    "    muscle_names = list()\n",
    "    for key in line_database[line_name].keys():\n",
    "        if line_database[line_name][key] > 0:\n",
    "            muscle_names.append(key)\n",
    "    muscle_names = sorted(muscle_names)\n",
    "    #muscle_names = sorted(get_muscle_list(line_name))\n",
    "    return muscle_names"
   ]
  },
  {
   "cell_type": "code",
   "execution_count": 4,
   "metadata": {
    "collapsed": false
   },
   "outputs": [],
   "source": [
    "def get_update_list(file_name ='nnls_fits_no_bk_dF_F.cpkl', \n",
    "                     swarms = gd.swarms,\n",
    "                     replace = False):\n",
    "    \"\"\" if replace is False this will scan the database to \n",
    "    create a 'pathlist' containing just flies that don't have \n",
    "    a file with file_name, otherwise all the flies in swarms will be used\"\"\"\n",
    "    import os\n",
    "    update_flylist = list()\n",
    "    for swarm_name,swarm in swarms.items():\n",
    "        print swarm_name\n",
    "        for fly in swarm.flies:\n",
    "            try:\n",
    "                if not(replace):\n",
    "                    if os.path.exists(fly.fly_path + 'nnls_fits_no_bk_dF_F.cpkl'):\n",
    "                        pass\n",
    "                        #print str(fly.fly_num) + ' exists'\n",
    "                    else:\n",
    "                        update_flylist.append((fly.fly_path,'GMR22H05'))\n",
    "                else:\n",
    "                    update_flylist.append(fly)\n",
    "            except Exception as er:\n",
    "                print er\n",
    "    return update_flylist"
   ]
  },
  {
   "cell_type": "code",
   "execution_count": 5,
   "metadata": {
    "collapsed": false
   },
   "outputs": [],
   "source": [
    "#flylist = gd.GMR22H05_pr_swarm.flies + gd.GMR22H05_prc_swarm.flies + gd.GMR22H05_swarm.flies\n",
    "#flylist = gd.get_update_list(file_name = 'nnls_fits_bk_sub_F.cpkl',swarms = gd.swarms)\n",
    "#fly_paths.append((fly.fly_path,key.split('_')[0]))\n",
    "import flylib\n",
    "reload(gd)\n",
    "flylist = gd.swarms['GMR39E01_yr'].flies #reload\n",
    "#flylist = flylib.NetSquadron(flylist).flies"
   ]
  },
  {
   "cell_type": "code",
   "execution_count": 6,
   "metadata": {
    "collapsed": false
   },
   "outputs": [
    {
     "name": "stdout",
     "output_type": "stream",
     "text": [
      "[0, 1, 2, 3]\n"
     ]
    }
   ],
   "source": [
    "#fit to each fly in serial (block) but break up the data to run in parallel within a fly.\n",
    "#from IPython.parallel import Client\n",
    "from ipyparallel import Client\n",
    "clients = Client() \n",
    "clients.block = True\n",
    "print clients.ids\n",
    "v = clients[:]"
   ]
  },
  {
   "cell_type": "code",
   "execution_count": 7,
   "metadata": {
    "collapsed": false
   },
   "outputs": [],
   "source": [
    "def fit_to_model(imchunk,model, mode = 'pinv',fit_pix_mask = None,baseline = None):\n",
    "    import numpy as np\n",
    "    #im_array = (imchunk-baseline)#/baseline\n",
    "    im_array = imchunk-baseline#/baseline\n",
    "    imshape = np.shape(im_array[0])\n",
    "    im_array = im_array.reshape((-1,imshape[0]*imshape[1]))\n",
    "    if mode == 'nnls':\n",
    "        fits = np.empty((np.shape(model)[0],np.shape(im_array)[0]))\n",
    "        for i,im2 in enumerate(im_array):\n",
    "            im = im2.copy()\n",
    "            im[~np.isfinite(im)] = 0\n",
    "            from scipy.optimize import nnls\n",
    "            if not(fit_pix_mask is None):\n",
    "                fits[:,i] = nnls(model[:,fit_pix_mask].T,im[fit_pix_mask])[0]\n",
    "            else:\n",
    "                fits[:,i] = nnls(model.T,im)[0]\n",
    "    else:\n",
    "        im = im_array\n",
    "        print np.shape(im_array)\n",
    "        from numpy.linalg import pinv\n",
    "        if not(fit_pix_mask is None):\n",
    "            fits = np.dot(pinv(model[:,fit_pix_mask]).T,im[:,fit_pix_mask].T)\n",
    "        else:\n",
    "            fits = np.dot(pinv(model).T,im)\n",
    "    return fits\n",
    "\n",
    "#extract the data give the fly_path and 'line_name'\n",
    "def extract_signals(fly):\n",
    "    import muscle_model as mm\n",
    "    import numpy as np\n",
    "    import h5py\n",
    "    import cv2\n",
    "    model_type = 'volumetric'\n",
    "    #model_type = 'masks'\n",
    "    #load the reference frame of the cofocal data and that of the imaged fly\n",
    "    confocal_model = mm.GeometricModel(filepath = gd.muscle_anatomy_dir + 'confocal_outline_model.cpkl')\n",
    "    confocal_view = mm.ModelViewMPL(confocal_model)\n",
    "    pkname = fly.fly_path + '/basis_fits.cpkl'\n",
    "    fly_frame = mm.Frame();fly_frame.load(pkname)\n",
    "    #get the transformation matrix A and compose with a scaling using a scaling of s\n",
    "    #to construct a transformation for homogenious vectors\n",
    "    s = 1 #scale\n",
    "    A = fly_frame.get_transform(confocal_model.frame)\n",
    "    Ap = np.dot([[s,0.0,0],[0,s,0],[0,0,1]],A)\n",
    "    #parse the GMR genotype to get the line name\n",
    "    line_name = parse_GMR_genotype(fly.get_genotype())['gal4']\n",
    "    #get the list of muscles for a given line\n",
    "    muscles = get_muscle_list(line_name)\n",
    "    muscles = [m for m in muscles if not('DVM' in m) and not('DLM' in m) and not('ps' in m)]\n",
    "    #get a reference to the image data\n",
    "    fly_record = h5py.File(fly.fly_path + 'fly_record.hdf5','r')\n",
    "    exp_record = fly_record['experiments'].values()[0]\n",
    "    imgs = exp_record['tiff_data']['images']\n",
    "    #the output shape of the warped model\n",
    "    output_shape = np.shape(imgs[0])\n",
    "    if model_type == 'masks':\n",
    "        #get the mask of all the muscles for fit\n",
    "        masks = confocal_model.get_masks(fly_frame,np.shape(imgs[0]))\n",
    "        #create the model using only the muscles that express in a given line\n",
    "        model = np.vstack([masks[mask_key].T.ravel().astype(float) for mask_key in muscles])\n",
    "        #construct a mask do reduce the projection to just the data within the model\n",
    "        fit_pix_mask = np.sum(model,axis=0) > 0\n",
    "    if model_type == 'volumetric':\n",
    "        model_data = h5py.File(gd.muscle_anatomy_dir + 'flatened_model.hdf5','r')\n",
    "        model_muscles = [np.array(model_data[muscle]) for muscle in muscles]\n",
    "        output_shapes = [output_shape for muscle in muscles]\n",
    "        transforms = [Ap[:-1,:] for muscle in muscles]\n",
    "        model = v.map(cv2.warpAffine,model_muscles,transforms,output_shapes)\n",
    "        model = np.vstack([muscle.T.ravel() for muscle in model])\n",
    "        #model = np.vstack([cv2.warpAffine(np.array(model_data[muscle]), \\\n",
    "        #                               Ap[:-1,:],output_shape).T.ravel() \\\n",
    "        #                for muscle in muscles])\n",
    "        fit_pix_mask = np.ones_like(model[0]) > 0\n",
    "\n",
    "    f = open(fly.fly_path + 'epoch_data.cpkl')\n",
    "    import cPickle\n",
    "    baseline_range = cPickle.load(f)['baseline_F']\n",
    "    f.close()\n",
    "    baseln = np.mean(imgs[baseline_range],axis = 0)\n",
    "    \n",
    "    chnk_sz = 2000\n",
    "    num_samps = np.shape(imgs)[0]\n",
    "    chunks = [slice(x,x+chnk_sz if x+chnk_sz < num_samps else num_samps) for x in range(0,num_samps,chnk_sz)]\n",
    "    \n",
    "    img_chunks = [np.array(imgs[chunk]) for chunk in chunks]\n",
    "    models = [model for chunk in chunks]\n",
    "    modes = ['nnls' for chunk in chunks]\n",
    "    fit_pix_masks = [fit_pix_mask for chunk in chunks]\n",
    "    baselines = [baseln for chunk in chunks]\n",
    "    \n",
    "    fits = v.map(fit_to_model,img_chunks,models,modes,fit_pix_masks,baselines)\n",
    "    #fit = fit_to_model(imchunk,model,mode = 'nnls',fit_pix_mask = fit_pix_mask)\n",
    "    return np.hstack(fits),muscles"
   ]
  },
  {
   "cell_type": "code",
   "execution_count": 18,
   "metadata": {
    "collapsed": false
   },
   "outputs": [
    {
     "data": {
      "text/plain": [
       "[1009, 1010, 1011, 1012]"
      ]
     },
     "execution_count": 18,
     "metadata": {},
     "output_type": "execute_result"
    }
   ],
   "source": [
    "[fly.fly_num for fly in flylist[-10:-6]]"
   ]
  },
  {
   "cell_type": "code",
   "execution_count": 19,
   "metadata": {
    "collapsed": false
   },
   "outputs": [
    {
     "name": "stdout",
     "output_type": "stream",
     "text": [
      "/media/FlyDataC/FlyDB/Fly1009/\n",
      "+;P{20XUAS-IVS-GCaMP6f}attP40/+;P{y[+t7.7] w[+mC]=GMR39E01-GAL4}attP2/+\n",
      "/media/FlyDataC/FlyDB/Fly1010/\n",
      "+;P{20XUAS-IVS-GCaMP6f}attP40/+;P{y[+t7.7] w[+mC]=GMR39E01-GAL4}attP2/+\n",
      "/media/FlyDataC/FlyDB/Fly1011/\n",
      "+;P{20XUAS-IVS-GCaMP6f}attP40/+;P{y[+t7.7] w[+mC]=GMR39E01-GAL4}attP2/+\n",
      "/media/FlyDataC/FlyDB/Fly1012/\n",
      "+;P{20XUAS-IVS-GCaMP6f}attP40/+;P{y[+t7.7] w[+mC]=GMR39E01-GAL4}attP2/+\n"
     ]
    }
   ],
   "source": [
    "import numpy as np\n",
    "fly_fails = list()\n",
    "for fly in flylist[-10:-6]:\n",
    "    print fly.fly_path\n",
    "    try:\n",
    "        fits,muscles = extract_signals(fly)\n",
    "        f = open(fly.fly_path + 'nnls_fits_bk_sub_F.cpkl','wb')\n",
    "        import cPickle as cpkl\n",
    "        cpkl.dump({'fits':fits,'muscles':muscles},f)\n",
    "        f.close()\n",
    "    except IOError as err:\n",
    "        fly_fails.append((fly.fly_num,err))\n",
    "        print err "
   ]
  },
  {
   "cell_type": "code",
   "execution_count": 17,
   "metadata": {
    "collapsed": false
   },
   "outputs": [
    {
     "name": "stdout",
     "output_type": "stream",
     "text": [
      "1007\n",
      "['nnls_fits_bk_sub_F_sig_mtrx.cpkl', 'epoch_data.cpkl', 'genotype.txt', 'basis_fits.cpkl', 'nnls_fits_bk_sub_F.cpkl', 'note.txt', 'fly_record.hdf5']\n",
      "1008\n",
      "['nnls_fits_bk_sub_F_sig_mtrx.cpkl', 'epoch_data.cpkl', 'genotype.txt', 'basis_fits.cpkl', 'nnls_fits_bk_sub_F.cpkl', 'note.txt', 'fly_record.hdf5']\n",
      "1009\n",
      "['epoch_data.cpkl', 'experiment_script.cpkl', 'genotype.txt', 'basis_fits.cpkl', 'trial_data.cpkl', 'note.txt', 'fly_record.hdf5']\n",
      "1010\n",
      "['epoch_data.cpkl', 'experiment_script.cpkl', 'genotype.txt', 'basis_fits.cpkl', 'trial_data.cpkl', 'note.txt', 'fly_record.hdf5']\n",
      "1011\n",
      "['epoch_data.cpkl', 'experiment_script.cpkl', 'genotype.txt', 'basis_fits.cpkl', 'nnls_fits_bk_sub_F.cpkl', 'trial_data.cpkl', 'note.txt', 'fly_record.hdf5']\n",
      "1012\n",
      "['epoch_data.cpkl', 'experiment_script.cpkl', 'genotype.txt', 'basis_fits.cpkl', 'nnls_fits_bk_sub_F.cpkl', 'trial_data.cpkl', 'note.txt', 'fly_record.hdf5']\n",
      "1013\n",
      "['nnls_fits_bk_sub_F_sig_mtrx.cpkl', 'epoch_data.cpkl', 'experiment_script.cpkl', 'genotype.txt', 'basis_fits.cpkl', 'nnls_fits_bk_sub_F.cpkl', 'trial_data.cpkl', 'note.txt', 'fly_record.hdf5']\n",
      "1014\n",
      "['nnls_fits_bk_sub_F_sig_mtrx.cpkl', 'epoch_data.cpkl', 'experiment_script.cpkl', 'genotype.txt', 'basis_fits.cpkl', 'nnls_fits_bk_sub_F.cpkl', 'trial_data.cpkl', 'note.txt', 'fly_record.hdf5']\n",
      "1015\n",
      "['nnls_fits_bk_sub_F_sig_mtrx.cpkl', 'epoch_data.cpkl', 'experiment_script.cpkl', 'genotype.txt', 'basis_fits.cpkl', 'nnls_fits_bk_sub_F.cpkl', 'trial_data.cpkl', 'note.txt', 'fly_record.hdf5']\n",
      "1016\n",
      "['nnls_fits_bk_sub_F_sig_mtrx.cpkl', 'epoch_data.cpkl', 'experiment_script.cpkl', 'genotype.txt', 'basis_fits.cpkl', 'nnls_fits_bk_sub_F.cpkl', 'trial_data.cpkl', 'note.txt', 'fly_record.hdf5']\n",
      "1017\n",
      "['nnls_fits_bk_sub_F_sig_mtrx.cpkl', 'epoch_data.cpkl', 'experiment_script.cpkl', 'genotype.txt', 'basis_fits.cpkl', 'nnls_fits_bk_sub_F.cpkl', 'trial_data.cpkl', 'note.txt', 'fly_record.hdf5']\n",
      "1018\n",
      "['nnls_fits_bk_sub_F_sig_mtrx.cpkl', 'epoch_data.cpkl', 'experiment_script.cpkl', 'genotype.txt', 'basis_fits.cpkl', 'nnls_fits_bk_sub_F.cpkl', 'trial_data.cpkl', 'note.txt', 'fly_record.hdf5']\n"
     ]
    }
   ],
   "source": [
    "import os\n",
    "for fly in flylist:\n",
    "    print fly.fly_num\n",
    "    print os.listdir(fly.fly_path)"
   ]
  },
  {
   "cell_type": "code",
   "execution_count": 14,
   "metadata": {
    "collapsed": false
   },
   "outputs": [
    {
     "name": "stdout",
     "output_type": "stream",
     "text": [
      "Populating the interactive namespace from numpy and matplotlib\n"
     ]
    },
    {
     "name": "stderr",
     "output_type": "stream",
     "text": [
      "WARNING: pylab import has clobbered these variables: ['f']\n",
      "`%matplotlib` prevents importing * from pylab and numpy\n"
     ]
    }
   ],
   "source": [
    "%pylab inline\n",
    "%config InlineBackend.figure_format = 'svg'\n",
    "import pylab as plb\n",
    "plb.rcParams['pdf.fonttype'] = 42 #allows text in saved .pdf files to be edited in illustrator"
   ]
  },
  {
   "cell_type": "code",
   "execution_count": 24,
   "metadata": {
    "collapsed": false
   },
   "outputs": [],
   "source": [
    "pkldata = flylist[2].get_pkl_data('nnls_fits_bk_sub_F.cpkl')"
   ]
  },
  {
   "cell_type": "code",
   "execution_count": null,
   "metadata": {
    "collapsed": false
   },
   "outputs": [],
   "source": []
  },
  {
   "cell_type": "code",
   "execution_count": null,
   "metadata": {
    "collapsed": false
   },
   "outputs": [],
   "source": []
  },
  {
   "cell_type": "code",
   "execution_count": null,
   "metadata": {
    "collapsed": true
   },
   "outputs": [],
   "source": []
  },
  {
   "cell_type": "code",
   "execution_count": null,
   "metadata": {
    "collapsed": true
   },
   "outputs": [],
   "source": []
  },
  {
   "cell_type": "code",
   "execution_count": null,
   "metadata": {
    "collapsed": true
   },
   "outputs": [],
   "source": []
  },
  {
   "cell_type": "code",
   "execution_count": 13,
   "metadata": {
    "collapsed": false
   },
   "outputs": [],
   "source": [
    "from IPython.display import display, Math, Latex "
   ]
  },
  {
   "cell_type": "code",
   "execution_count": 97,
   "metadata": {
    "collapsed": false
   },
   "outputs": [
    {
     "data": {
      "text/latex": [
       "\\begin{align}\n",
       "\\mathbf{X} \\boldsymbol{\\beta} = {\\mathbf{{Y}}}\\\\\n",
       "\\mathbf{X} \\mathbf{B} = {\\mathbf{\\hat{Y}} + \\mathbf{E}}\\\\\n",
       "\\mathbf{X} = \\begin{bmatrix} \n",
       "             \\mathbf{m_{1}} \\ldots \\mathbf{m_{n}}\n",
       "             \\end{bmatrix}\\\\\n",
       "\\end{align}"
      ],
      "text/plain": [
       "<IPython.core.display.Latex object>"
      ]
     },
     "metadata": {},
     "output_type": "display_data"
    }
   ],
   "source": [
    "%%latex\n",
    "\\begin{align}\n",
    "\\mathbf{X} \\boldsymbol{\\beta} = {\\mathbf{{Y}}}\\\\\n",
    "\\mathbf{X} \\mathbf{B} = {\\mathbf{\\hat{Y}} + \\mathbf{E}}\\\\\n",
    "\\mathbf{X} = \\begin{bmatrix} \n",
    "             \\mathbf{m_{1}} \\ldots \\mathbf{m_{n}}\n",
    "             \\end{bmatrix}\\\\\n",
    "\\end{align}"
   ]
  },
  {
   "cell_type": "code",
   "execution_count": 84,
   "metadata": {
    "collapsed": false
   },
   "outputs": [
    {
     "data": {
      "text/latex": [
       "\\begin{align}\n",
       "\\mathbf{X} \\mathbf{B} = {\\mathbf{{Y}}}\\\\\n",
       "\\end{align}"
      ],
      "text/plain": [
       "<IPython.core.display.Latex object>"
      ]
     },
     "metadata": {},
     "output_type": "display_data"
    }
   ],
   "source": [
    "%%latex\n",
    "\\begin{align}\n",
    "\\mathbf{X} \\mathbf{B} = {\\mathbf{{Y}}}\\\\\n",
    "\\end{align}"
   ]
  },
  {
   "cell_type": "code",
   "execution_count": 86,
   "metadata": {
    "collapsed": false
   },
   "outputs": [
    {
     "data": {
      "text/latex": [
       "\\begin{align}\n",
       "\\mathbf{X} \\mathbf{B} = {\\mathbf{\\hat{Y}} + \\mathbf{E}}\\\\\n",
       "\\end{align}"
      ],
      "text/plain": [
       "<IPython.core.display.Latex object>"
      ]
     },
     "metadata": {},
     "output_type": "display_data"
    }
   ],
   "source": [
    "%%latex\n",
    "\\begin{align}\n",
    "\\mathbf{X} \\mathbf{B} = {\\mathbf{\\hat{Y}} + \\mathbf{E}}\\\\\n",
    "\\end{align}"
   ]
  },
  {
   "cell_type": "code",
   "execution_count": 125,
   "metadata": {
    "collapsed": false
   },
   "outputs": [
    {
     "data": {
      "text/latex": [
       "\\begin{align}\n",
       "\\mathbf{X} = \\begin{bmatrix} \n",
       "             \\mathbf{m_{1}} \\ldots \\mathbf{m_{j}}\n",
       "             \\end{bmatrix}\\\\\n",
       "\\end{align}"
      ],
      "text/plain": [
       "<IPython.core.display.Latex object>"
      ]
     },
     "metadata": {},
     "output_type": "display_data"
    }
   ],
   "source": [
    "%%latex\n",
    "\\begin{align}\n",
    "\\mathbf{X} = \\begin{bmatrix} \n",
    "             \\mathbf{m_{1}} \\ldots \\mathbf{m_{j}}\n",
    "             \\end{bmatrix}\\\\\n",
    "\\end{align}"
   ]
  },
  {
   "cell_type": "code",
   "execution_count": 124,
   "metadata": {
    "collapsed": false
   },
   "outputs": [
    {
     "data": {
      "text/latex": [
       "\\begin{align}\n",
       "&\\mathbf{G}^*(i,z) =  \\mathbf{C}(z)* \\mathbf{S_{i,z}}\\\\\n",
       "&\\mathbf{x_{i}} = vec(\\sum_{z=1}^{230}{{\\mathbf{G}^*(i,z) \\frac{\\sum\\mathbf{G}^*(z,i)}{\\sum\\mathbf{C}(z)}}} )\\\\\n",
       "\\end{align}"
      ],
      "text/plain": [
       "<IPython.core.display.Latex object>"
      ]
     },
     "metadata": {},
     "output_type": "display_data"
    }
   ],
   "source": [
    "%%latex\n",
    "\\begin{align}\n",
    "&\\mathbf{G}^*(i,z) =  \\mathbf{C}(z)* \\mathbf{S_{i,z}}\\\\\n",
    "&\\mathbf{x_{i}} = vec(\\sum_{z=1}^{230}{{\\mathbf{G}^*(i,z) \\frac{\\sum\\mathbf{G}^*(z,i)}{\\sum\\mathbf{C}(z)}}} )\\\\\n",
    "\\end{align}"
   ]
  },
  {
   "cell_type": "code",
   "execution_count": 102,
   "metadata": {
    "collapsed": false
   },
   "outputs": [
    {
     "data": {
      "text/latex": [
       "\\begin{align}\n",
       "d(z)= 2 \\cdot f \\cdot NA \\frac{\\mid{p_{z}(z_{i} - l_{o})}\\mid}{p_{z}z_{i}} + w\\\\\n",
       "\\end{align}"
      ],
      "text/plain": [
       "<IPython.core.display.Latex object>"
      ]
     },
     "metadata": {},
     "output_type": "display_data"
    }
   ],
   "source": [
    "%%latex\n",
    "\\begin{align}\n",
    "d(z)= 2 \\cdot f \\cdot NA \\frac{\\mid{p_{z}(z_{i} - l_{o})}\\mid}{p_{z}z_{i}} + w\\\\\n",
    "\\end{align}"
   ]
  },
  {
   "cell_type": "code",
   "execution_count": null,
   "metadata": {
    "collapsed": false
   },
   "outputs": [],
   "source": [
    "obj_mag = 10.0 #10x objective\n",
    "tube_fl = 200.0 #mm tube lens focal length\n",
    "obj_fl = tube_fl/obj_mag #mm objective focal length\n",
    "obj_NA = 0.45 #objective NA\n",
    "obj_entrance_pupil = 2*obj_fl*obj_NA\n",
    "voxel_ptch = (0.76/1000.0,0.76/1000.0,2.98/1000.0) #mm\n",
    "fslice = 25 #focal slice - the slice in the confocal stack that is at the center of focus point in the reconstructed model \n",
    "working_distance = 4.0 #mm, not used in the calculation\n",
    "wavelength = 530.0/(1000*1000) #mm\n",
    "#airy_disk = 2*(0.61*wavelength)/obj_NA\n",
    "airy_disk = wavelength/(2*obj_NA) #diffraction limit\n",
    "#The airy disk should be around the confocal-image voxel pitch \n",
    "#depending on the NA of the objectve used to collect the confocal stack \n",
    "airy_disk = airy_disk*10 #the model seems to do much better fort the actual\n",
    "#focal slice than what we collect - possibly due to motion\n",
    "slice_delta = (slice_idx-fslice+0.5)*voxel_ptch[2]"
   ]
  },
  {
   "cell_type": "code",
   "execution_count": 129,
   "metadata": {
    "collapsed": false
   },
   "outputs": [
    {
     "data": {
      "text/latex": [
       "solid angle of objective\n",
       "\\begin{align}\n",
       "2\\pi(1-cos\\theta)\n",
       "\\end{align}"
      ],
      "text/plain": [
       "<IPython.core.display.Latex object>"
      ]
     },
     "metadata": {},
     "output_type": "display_data"
    }
   ],
   "source": [
    "%%latex\n",
    "solid angle of objective\n",
    "\\begin{align}\n",
    "2\\pi(1-cos\\theta)\n",
    "\\end{align}"
   ]
  },
  {
   "cell_type": "code",
   "execution_count": 138,
   "metadata": {
    "collapsed": false
   },
   "outputs": [
    {
     "name": "stdout",
     "output_type": "stream",
     "text": [
      "3.23703662447\n",
      "0.515190379754\n"
     ]
    }
   ],
   "source": [
    "import numpy as np\n",
    "sr = 2*np.pi*(1-np.cos(np.deg2rad(61.0)))\n",
    "print sr\n",
    "print sr/(2*np.pi)"
   ]
  },
  {
   "cell_type": "code",
   "execution_count": null,
   "metadata": {
    "collapsed": true
   },
   "outputs": [],
   "source": []
  }
 ],
 "metadata": {
  "kernelspec": {
   "display_name": "Python 2",
   "language": "python",
   "name": "python2"
  },
  "language_info": {
   "codemirror_mode": {
    "name": "ipython",
    "version": 2
   },
   "file_extension": ".py",
   "mimetype": "text/x-python",
   "name": "python",
   "nbconvert_exporter": "python",
   "pygments_lexer": "ipython2",
   "version": "2.7.11"
  },
  "nav_menu": {},
  "toc": {
   "navigate_menu": true,
   "number_sections": true,
   "sideBar": true,
   "threshold": 6,
   "toc_cell": false,
   "toc_section_display": "block",
   "toc_window_display": false
  }
 },
 "nbformat": 4,
 "nbformat_minor": 0
}
