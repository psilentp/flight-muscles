{
 "metadata": {
  "name": "",
  "signature": "sha256:a0a2079a967f31244e280a74c160840b2ce485ee3e8beb2af76702743e7744f5"
 },
 "nbformat": 3,
 "nbformat_minor": 0,
 "worksheets": [
  {
   "cells": [
    {
     "cell_type": "code",
     "collapsed": false,
     "input": [
      "import db_access as dba\n",
      "import flylib\n",
      "reload(dba)\n",
      "fly_db = dba.get_db()"
     ],
     "language": "python",
     "metadata": {},
     "outputs": [],
     "prompt_number": 1
    },
    {
     "cell_type": "code",
     "collapsed": false,
     "input": [
      "#ephys_group = [111,112,114,115,116,117,118,122,123,124,125,130]\n",
      "ephys_group = [111,112,114,123,125]\n",
      "ephys_group = \n",
      "swarm = flylib.Squadron(fly_db,ephys_group)"
     ],
     "language": "python",
     "metadata": {},
     "outputs": [],
     "prompt_number": 2
    },
    {
     "cell_type": "code",
     "collapsed": false,
     "input": [
      "close('all')"
     ],
     "language": "python",
     "metadata": {},
     "outputs": [],
     "prompt_number": 110
    },
    {
     "cell_type": "code",
     "collapsed": false,
     "input": [
      "import cPickle\n",
      "for fly in swarm.flies:\n",
      "    figure()\n",
      "    print fly.fly_num\n",
      "    lrb = fly.experiments['lr_blob_expansion']\n",
      "    ### get the spike time data\n",
      "    f = open(fly.fly_path + 'spike_mask.cpkl');spike_mask = cPickle.load(f);f.close()\n",
      "    f = open(fly.fly_path + 'spike_pool.cpkl');spike_pool = cPickle.load(f);f.close()\n",
      "    for seq_key in lrb.sequences.keys():\n",
      "        seq = lrb.sequences[seq_key]\n",
      "        b1_spikes = spike_pool[spike_mask]\n",
      "        phases = get_seq_phases(seq,b1_spikes)\n",
      "        dev = mean(np.array(seq.seq_record['wb_mtrx']['theta_R'])[:,500:525],axis = 1)\n",
      "        amp = mean(np.array(seq.seq_record['wb_mtrx']['phi_R'])[:,500:525],axis = 1)\n",
      "        idx = ~isnan(phases)\n",
      "        scatter(rad2deg(amp[idx]),rad2deg(dev[idx]),c = cm.cool(phases[idx]/(2*pi)))\n",
      "        gca().set_ybound(-50,10)\n",
      "        gca().set_xbound(10,-50)"
     ],
     "language": "python",
     "metadata": {},
     "outputs": [
      {
       "output_type": "stream",
       "stream": "stdout",
       "text": [
        "111\n",
        "112"
       ]
      },
      {
       "output_type": "stream",
       "stream": "stdout",
       "text": [
        "\n",
        "114"
       ]
      },
      {
       "output_type": "stream",
       "stream": "stdout",
       "text": [
        "\n",
        "123"
       ]
      },
      {
       "output_type": "stream",
       "stream": "stdout",
       "text": [
        "\n",
        "125"
       ]
      },
      {
       "output_type": "stream",
       "stream": "stdout",
       "text": [
        "\n"
       ]
      }
     ],
     "prompt_number": 30
    },
    {
     "cell_type": "code",
     "collapsed": false,
     "input": [
      "#idx = ~isnan(np.array(seq.seq_record['wb_mtrx']['axon_sample_times'])[0])\n",
      "def get_seq_phases(seq,b1_spikes):\n",
      "    spike_idxs = []\n",
      "    for wb in seq.seq_record['wb_mtrx']['axon_sample_times']:\n",
      "        wb = array(wb)\n",
      "        wb_times = wb[250:750]\n",
      "        wb_times = wb_times[~isnan(wb_times)]\n",
      "        try:\n",
      "            spike_time = b1_spikes[argwhere((b1_spikes > wb_times[0]) & (b1_spikes < wb_times[-1]))[0][0]]\n",
      "            spike_idx = argwhere(spike_time < wb_times)[0]\n",
      "            spike_idxs.append(spike_idx)\n",
      "        except IndexError:\n",
      "            spike_idxs.append(np.nan)\n",
      "    return np.squeeze(np.array(spike_idxs)*(2*pi/500)).astype(float)"
     ],
     "language": "python",
     "metadata": {},
     "outputs": [],
     "prompt_number": 4
    },
    {
     "cell_type": "code",
     "collapsed": false,
     "input": [
      "plot(lrb.exp_record['axon_data']['times'],lrb.exp_record['axon_data']['AMsysCh1'])\n",
      "plot(b1_spikes[:1000],ones_like(b1_spikes[:1000]),'o')"
     ],
     "language": "python",
     "metadata": {},
     "outputs": [
      {
       "metadata": {},
       "output_type": "pyout",
       "prompt_number": 133,
       "text": [
        "[<matplotlib.lines.Line2D at 0x11379ecd0>]"
       ]
      }
     ],
     "prompt_number": 133
    },
    {
     "cell_type": "code",
     "collapsed": false,
     "input": [
      "fly = swarm.flies[1]\n",
      "lrb = fly.experiments['lr_blob_expansion']\n",
      "seq_key = lrb.sequences.keys()[0]\n",
      "seq = lrb.sequences[seq_key+0]\n",
      "dev_mtrx = np.array(seq.seq_record['wb_mtrx']['theta_R'])\n",
      "str_mtrx = np.array(seq.seq_record['wb_mtrx']['phi_R'])\n",
      "rot_mtrx = np.array(seq.seq_record['wb_mtrx']['eta_R'])\n",
      "print seq.seq_record[]"
     ],
     "language": "python",
     "metadata": {},
     "outputs": [],
     "prompt_number": 175
    },
    {
     "cell_type": "code",
     "collapsed": false,
     "input": [
      "phases = np.linspace(0,2*np.pi,500)\n",
      "p_dev_tether = flylib.fit_fourier(dev_mtrx[:20,500:1000],p_dev)\n",
      "p_str_tether = flylib.fit_fourier(str_mtrx[:20,500:1000],p_str)\n",
      "p_rot_tether = flylib.fit_fourier(rot_mtrx[:20,500:1000],p_rot)\n",
      "\n",
      "steadywb_dev = flylib.fourier(phases,p_dev_tether)\n",
      "steadywb_str = flylib.fourier(phases,p_str_tether)\n",
      "steadywb_rot = flylib.fourier(phases,p_rot_tether)\n",
      "\n",
      "diff_dev = (steadywb_dev[:,newaxis] - rad2deg(dev_mtrx[:,500:1000]).T).T\n",
      "diff_str = (steadywb_str[:,newaxis] - rad2deg(str_mtrx[:,500:1000]).T).T\n",
      "diff_rot = (steadywb_rot[:,newaxis] - rad2deg(rot_mtrx[:,500:1000]).T).T\n",
      "subplot(3,1,1)\n",
      "plot(mean(diff_dev,axis= 1))\n",
      "subplot(3,1,2)\n",
      "plot(mean(diff_str,axis= 1))\n",
      "subplot(3,1,3)\n",
      "plot(mean(diff_rot,axis= 1))"
     ],
     "language": "python",
     "metadata": {},
     "outputs": [
      {
       "metadata": {},
       "output_type": "pyout",
       "prompt_number": 176,
       "text": [
        "[<matplotlib.lines.Line2D at 0x1291a3e10>]"
       ]
      }
     ],
     "prompt_number": 176
    },
    {
     "cell_type": "code",
     "collapsed": false,
     "input": [
      "stro_R = 'phi_R'\n",
      "stro_L = 'phi_L'\n",
      "dev_R = 'theta_R'\n",
      "dev_L = 'theta_L'\n",
      "rot_R = 'eta_R'\n",
      "rot_L = 'eta_L'\n",
      "\n",
      "sorted_amp = dict()\n",
      "sorted_dev = dict()\n",
      "sorted_rot = dict()\n",
      "sorted_phys = dict()\n",
      "\n",
      "ephys_group = [115,114,112]\n",
      "swarm = flylib.Squadron(fly_db,ephys_group)\n",
      "    \n",
      "for kin_dict,keys in zip([sorted_amp,sorted_dev,sorted_rot],\n",
      "                   [[stro_L, stro_R],\n",
      "                    [dev_L,  dev_R],\n",
      "                    [rot_L,   rot_R]]):\n",
      "    kin_dict['L_wing_R_exp'] = list()\n",
      "    kin_dict['R_wing_R_exp'] = list()\n",
      "    kin_dict['L_wing_L_exp'] = list()\n",
      "    kin_dict['R_wing_L_exp'] = list()\n",
      "\n",
      "    for fly in swarm.flies:#,111]:# fly_db.keys():\n",
      "        lrb = fly.experiments['lr_blob_expansion']\n",
      "        seqs = [lrb.sequences[k] for k in lrb.sequences.keys()]\n",
      "        #seqs = fly_db[key]['experiments']['lr_blob_expansion']['wbkin_sequences']\n",
      "        for seq in seqs:\n",
      "            if seq.seq_record['expan_pol'].value == 90.0:\n",
      "                kin_dict['L_wing_R_exp'].append(np.array(seq.seq_record['wb_mtrx'][keys[0]]))\n",
      "                kin_dict['R_wing_R_exp'].append(np.array(seq.seq_record['wb_mtrx'][keys[1]]))\n",
      "            if seq.seq_record['expan_pol'].value == 270.0:\n",
      "                kin_dict['L_wing_L_exp'].append(np.array(seq.seq_record['wb_mtrx'][keys[0]]))\n",
      "                kin_dict['R_wing_L_exp'].append(np.array(seq.seq_record['wb_mtrx'][keys[1]]))\n",
      "\n",
      "sorted_phys['L_wing_R_exp'] = list()\n",
      "sorted_phys['L_wing_L_exp'] = list()\n",
      "for fly in swarm.flies:#fly_db.keys(): \n",
      "    lrb = fly.experiments['lr_blob_expansion']\n",
      "    seqs = [lrb.sequences[k] for k in lrb.sequences.keys()]\n",
      "    #seqs = fly_db[key]['experiments']['lr_blob_expansion']['wbkin_sequences']\n",
      "    for seq in seqs:\n",
      "        #print seq.seq_record['expan_pol'].value == 90.0\n",
      "        if seq.seq_record['expan_pol'].value == 90.0:\n",
      "            sorted_phys['L_wing_R_exp'].append(np.array(seq.seq_record['wb_mtrx']['AMsysCh1']))\n",
      "        if seq.seq_record['expan_pol'].value == 270.0:\n",
      "            sorted_phys['L_wing_L_exp'].append(np.array(seq.seq_record['wb_mtrx']['AMsysCh1']))"
     ],
     "language": "python",
     "metadata": {},
     "outputs": [],
     "prompt_number": 202
    },
    {
     "cell_type": "code",
     "collapsed": false,
     "input": [],
     "language": "python",
     "metadata": {},
     "outputs": []
    },
    {
     "cell_type": "code",
     "collapsed": false,
     "input": [
      "#Plot the correlation between kine params and spike phase\n",
      "import matplotlib.pyplot as plt\n",
      "from mpl_toolkits.mplot3d import Axes3D\n",
      "phases = np.linspace(0,2*np.pi,500)\n",
      "\n",
      "str_mtrx = vstack(sorted_amp['L_wing_L_exp'])\n",
      "dev_mtrx = vstack(sorted_dev['L_wing_L_exp'])\n",
      "rot_mtrx = vstack(sorted_rot['L_wing_L_exp'])\n",
      "\n",
      "p_dev_tether = flylib.fit_fourier(dev_mtrx[:20,500:1000],p_dev)\n",
      "p_str_tether = flylib.fit_fourier(str_mtrx[:20,500:1000],p_str)\n",
      "p_rot_tether = flylib.fit_fourier(rot_mtrx[:20,500:1000],p_rot)\n",
      "\n",
      "steadywb_dev = flylib.fourier(phases,p_dev_tether)\n",
      "steadywb_amp = flylib.fourier(phases,p_str_tether)\n",
      "steadywb_rot = flylib.fourier(phases,p_rot_tether)\n",
      "\n",
      "amp_residual_sum = None\n",
      "dev_residual_sum = None\n",
      "rot_residual_sum = None\n",
      "spike_phases = None\n",
      "\n",
      "for amp_sequence,dev_sequence,rot_sequence,phys_sequence in zip(sorted_amp['L_wing_L_exp'],\n",
      "                                                   sorted_dev['L_wing_L_exp'],\n",
      "                                                   sorted_rot['L_wing_L_exp'],\n",
      "                                                   sorted_phys['L_wing_L_exp']):\n",
      "    \n",
      "    #amp_sequence = amp_sequence[:,500:1000]\n",
      "    #dev_sequence = dev_sequence[:,500:1000]\n",
      "    #rot_sequence = rot_sequence[:,500:1000]\n",
      "    \n",
      "    amp_sequence = amp_sequence[:,500:1000]\n",
      "    dev_sequence = dev_sequence[:,500:1000]\n",
      "    rot_sequence = rot_sequence[:,500:1000]\n",
      "    \n",
      "    phys_sequence = phys_sequence[:,500:1000]\n",
      "\n",
      "    amp_residuals = rad2deg(amp_sequence)-steadywb_amp[0:500]\n",
      "    dev_residuals = rad2deg(dev_sequence)-steadywb_dev[0:500]\n",
      "    rot_residuals = rad2deg(rot_sequence)-steadywb_rot[0:500]\n",
      "    \n",
      "    if spike_phases is None:\n",
      "        spike_phases = phases[argmax(phys_sequence,axis = 1)]\n",
      "    else:\n",
      "        spike_phases = hstack((spike_phases,phases[argmax(phys_sequence,axis = 1)]))\n",
      "    \n",
      "    if amp_residual_sum is None:\n",
      "        amp_residual_sum = nanmean(amp_residuals, axis = 1)\n",
      "    else:\n",
      "        amp_residual_sum = hstack((amp_residual_sum, nanmean(amp_residuals, axis = 1)))\n",
      "    \n",
      "    if dev_residual_sum is None:\n",
      "        dev_residual_sum = nanmean(dev_residuals, axis = 1)\n",
      "    else:\n",
      "        dev_residual_sum = hstack((dev_residual_sum, nanmean(dev_residuals, axis = 1)))\n",
      "    \n",
      "    if rot_residual_sum is None:\n",
      "        rot_residual_sum = nanmean(rot_residuals, axis = 1)\n",
      "    else:\n",
      "        rot_residual_sum = hstack((rot_residual_sum, nanmean(rot_residuals, axis = 1)))\n",
      "#amp_residual_sum /= std(amp_residual_sum)\n",
      "#dev_residual_sum /= std(dev_residual_sum)\n",
      "#rot_residual_sum /= std(rot_residual_sum)\n",
      "ax0 = subplot(3,1,1)\n",
      "cmap = cm.spectral\n",
      "scatter(amp_residual_sum,dev_residual_sum,c = spike_phases,norm=Normalize(0,2*pi),cmap = cmap)\n",
      "#ax0.axis('equal')\n",
      "ax1 = subplot(3,1,2,sharex = ax0,sharey = ax0)\n",
      "scatter(amp_residual_sum,rot_residual_sum,c = spike_phases,norm=Normalize(0,2*pi),cmap = cmap)\n",
      "#ax1.axis('equal')\n",
      "ax2 = subplot(3,1,3,sharex = ax0,sharey = ax0)\n",
      "scatter(dev_residual_sum,rot_residual_sum,c = spike_phases,norm=Normalize(0,2*pi),cmap = cmap)\n",
      "#ax2.axis('equal')\n",
      "cax = gcf().add_axes([0.9, 0.1, 0.03, 0.8])\n",
      "colorbar(cax=cax)\n"
     ],
     "language": "python",
     "metadata": {},
     "outputs": [
      {
       "metadata": {},
       "output_type": "pyout",
       "prompt_number": 248,
       "text": [
        "<matplotlib.colorbar.Colorbar instance at 0x139c9ddd0>"
       ]
      }
     ],
     "prompt_number": 248
    },
    {
     "cell_type": "code",
     "collapsed": false,
     "input": [
      "imshow(phases[:,newaxis],cmap = cmap,aspect ='auto')\n",
      "ax = gca()"
     ],
     "language": "python",
     "metadata": {},
     "outputs": [],
     "prompt_number": 262
    },
    {
     "cell_type": "code",
     "collapsed": false,
     "input": [
      "ax.set_yticks(linspace(0,500,5))\n",
      "#ax.set_yticklabels(linspace(0,2*pi,5))\n",
      "draw()"
     ],
     "language": "python",
     "metadata": {},
     "outputs": [],
     "prompt_number": 263
    },
    {
     "cell_type": "code",
     "collapsed": false,
     "input": [
      "figure(figsize = (8,10))\n",
      "\n",
      "######################\n",
      "######################\n",
      "#######################\n",
      "fly = swarm.flies[1]\n",
      "lrb = fly.experiments['lr_blob_expansion']\n",
      "skey = lrb.sequences.keys()[1]\n",
      "cam_times = np.array(lrb.sequences[skey].seq_record['wbkin']['photron_sample_times'])\n",
      "phi_R = rad2deg(np.array(lrb.sequences[skey].seq_record['wbkin']['phi_R']))\n",
      "phi_L = rad2deg(np.array(lrb.sequences[skey].seq_record['wbkin']['phi_L']))\n",
      "eta_R = rad2deg(np.array(lrb.sequences[skey].seq_record['wbkin']['eta_R'])-pi/2)\n",
      "eta_L = rad2deg(np.array(lrb.sequences[skey].seq_record['wbkin']['eta_L'])-pi/2)\n",
      "theta_R = rad2deg(np.array(lrb.sequences[skey].seq_record['wbkin']['theta_R']))\n",
      "theta_L = rad2deg(np.array(lrb.sequences[skey].seq_record['wbkin']['theta_L']))\n",
      "\n",
      "import sys\n",
      "import os\n",
      "import cPickle\n",
      "f = open(fly.fly_path + 'spike_mask.cpkl')\n",
      "spike_mask = cPickle.load(f)\n",
      "f.close()\n",
      "f = open(fly.fly_path + 'spike_pool.cpkl')\n",
      "spike_pool = cPickle.load(f)\n",
      "f.close()\n",
      "\n",
      "seq = lrb.sequences[skey]\n",
      "axon_epoch = np.array(seq.seq_record['wbkin']['axon_epoch']).astype(int)\n",
      "ephys = np.array(lrb.exp_record['axon_data']['AMsysCh1'])[axon_epoch]\n",
      "stim = np.array(lrb.exp_record['axon_data']['Xpos'])[axon_epoch]\n",
      "phys_times = np.array(lrb.exp_record['axon_data']['times'])[axon_epoch]\n",
      "b1_spikes = spike_pool[spike_mask]\n",
      "b1_spikes = b1_spikes[(b1_spikes>phys_times[0]) & (b1_spikes<phys_times[-1])]\n",
      "\n",
      "spike_frames = digitize(b1_spikes,cam_times)\n",
      "\n",
      "ax0 = subplot(10,1,1)\n",
      "plot(phys_times-phys_times[0],stim,color = 'k')\n",
      "     \n",
      "subplot(10,1,2,sharex = ax0)\n",
      "plot(phys_times-phys_times[0],ephys,color = 'b')\n",
      "\n",
      "subplot(10,1,3,sharex = ax0)\n",
      "plot(cam_times-cam_times[0],phi_R,'r')\n",
      "plot(cam_times-cam_times[0],phi_L,'b')\n",
      "plot(cam_times[spike_frames]-cam_times[0],phi_L[spike_frames],'o',color = 'b')\n",
      "gca().set_ybound(-120,120)\n",
      "\n",
      "subplot(10,1,4,sharex = ax0)\n",
      "plot(cam_times-cam_times[0],eta_L,'r')\n",
      "plot(cam_times-cam_times[0],eta_R,'b')\n",
      "gca().set_ybound(-120,120)\n",
      "\n",
      "subplot(10,1,5,sharex = ax0)\n",
      "plot(cam_times-cam_times[0],theta_R,'r')\n",
      "plot(cam_times-cam_times[0],theta_L,'b')\n",
      "gca().set_ybound(-60,60)\n",
      "gca().set_xbound(0.05,0.225)\n",
      "\n",
      "fly = swarm.flies[11]\n",
      "lrb = fly.experiments['lr_blob_expansion']\n",
      "skey = lrb.sequences.keys()[0]\n",
      "cam_times = np.array(lrb.sequences[skey].seq_record['wbkin']['photron_sample_times'])\n",
      "phi_R = rad2deg(np.array(lrb.sequences[skey].seq_record['wbkin']['phi_R']))\n",
      "phi_L = rad2deg(np.array(lrb.sequences[skey].seq_record['wbkin']['phi_L']))\n",
      "eta_R = rad2deg(np.array(lrb.sequences[skey].seq_record['wbkin']['eta_R'])-pi/2)\n",
      "eta_L = rad2deg(np.array(lrb.sequences[skey].seq_record['wbkin']['eta_L'])-pi/2)\n",
      "theta_R = rad2deg(np.array(lrb.sequences[skey].seq_record['wbkin']['theta_R']))\n",
      "theta_L = rad2deg(np.array(lrb.sequences[skey].seq_record['wbkin']['theta_L']))\n",
      "\n",
      "##################\n",
      "##################\n",
      "##################\n",
      "\n",
      "f = open(fly.fly_path + 'spike_mask.cpkl')\n",
      "spike_mask = cPickle.load(f)\n",
      "f.close()\n",
      "f = open(fly.fly_path + 'spike_pool.cpkl')\n",
      "spike_pool = cPickle.load(f)\n",
      "f.close()\n",
      "\n",
      "seq = lrb.sequences[skey]\n",
      "axon_epoch = np.array(seq.seq_record['wbkin']['axon_epoch']).astype(int)\n",
      "ephys = np.array(lrb.exp_record['axon_data']['AMsysCh1'])[axon_epoch]\n",
      "stim = np.array(lrb.exp_record['axon_data']['Xpos'])[axon_epoch]\n",
      "phys_times = np.array(lrb.exp_record['axon_data']['times'])[axon_epoch]\n",
      "b1_spikes = spike_pool[spike_mask]\n",
      "b1_spikes = b1_spikes[(b1_spikes>phys_times[0]) & (b1_spikes<phys_times[-1])]\n",
      "\n",
      "spike_frames = digitize(b1_spikes,cam_times)\n",
      "\n",
      "subplot(10,1,6)\n",
      "plot(phys_times-phys_times[0],stim,color = 'k')\n",
      "     \n",
      "subplot(10,1,7,sharex = ax0)\n",
      "plot(phys_times-phys_times[0],ephys*-1,color = 'b')\n",
      "\n",
      "subplot(10,1,8,sharex = ax0)\n",
      "plot(cam_times-cam_times[0],phi_R,'r')\n",
      "plot(cam_times-cam_times[0],phi_L,'b')\n",
      "plot(cam_times[spike_frames]-cam_times[0],phi_L[spike_frames],'o',color = 'b')\n",
      "gca().set_ybound(-120,120)\n",
      "\n",
      "subplot(10,1,9,sharex = ax0)\n",
      "plot(cam_times-cam_times[0],eta_L,'r')\n",
      "plot(cam_times-cam_times[0],eta_R,'b')\n",
      "gca().set_ybound(-120,120)\n",
      "\n",
      "subplot(10,1,10,sharex = ax0)\n",
      "plot(cam_times-cam_times[0],theta_R,'r')\n",
      "plot(cam_times-cam_times[0],theta_L,'b')\n",
      "gca().set_ybound(-60,60)\n",
      "gca().set_xbound(0.05,0.225)\n"
     ],
     "language": "python",
     "metadata": {},
     "outputs": [
      {
       "ename": "IndexError",
       "evalue": "list index out of range",
       "output_type": "pyerr",
       "traceback": [
        "\u001b[0;31m---------------------------------------------------------------------------\u001b[0m\n\u001b[0;31mIndexError\u001b[0m                                Traceback (most recent call last)",
        "\u001b[0;32m<ipython-input-91-a44ea29956fd>\u001b[0m in \u001b[0;36m<module>\u001b[0;34m()\u001b[0m\n\u001b[1;32m     58\u001b[0m \u001b[0mgca\u001b[0m\u001b[0;34m(\u001b[0m\u001b[0;34m)\u001b[0m\u001b[0;34m.\u001b[0m\u001b[0mset_xbound\u001b[0m\u001b[0;34m(\u001b[0m\u001b[0;36m0.05\u001b[0m\u001b[0;34m,\u001b[0m\u001b[0;36m0.225\u001b[0m\u001b[0;34m)\u001b[0m\u001b[0;34m\u001b[0m\u001b[0m\n\u001b[1;32m     59\u001b[0m \u001b[0;34m\u001b[0m\u001b[0m\n\u001b[0;32m---> 60\u001b[0;31m \u001b[0mfly\u001b[0m \u001b[0;34m=\u001b[0m \u001b[0mswarm\u001b[0m\u001b[0;34m.\u001b[0m\u001b[0mflies\u001b[0m\u001b[0;34m[\u001b[0m\u001b[0;36m11\u001b[0m\u001b[0;34m]\u001b[0m\u001b[0;34m\u001b[0m\u001b[0m\n\u001b[0m\u001b[1;32m     61\u001b[0m \u001b[0mlrb\u001b[0m \u001b[0;34m=\u001b[0m \u001b[0mfly\u001b[0m\u001b[0;34m.\u001b[0m\u001b[0mexperiments\u001b[0m\u001b[0;34m[\u001b[0m\u001b[0;34m'lr_blob_expansion'\u001b[0m\u001b[0;34m]\u001b[0m\u001b[0;34m\u001b[0m\u001b[0m\n\u001b[1;32m     62\u001b[0m \u001b[0mskey\u001b[0m \u001b[0;34m=\u001b[0m \u001b[0mlrb\u001b[0m\u001b[0;34m.\u001b[0m\u001b[0msequences\u001b[0m\u001b[0;34m.\u001b[0m\u001b[0mkeys\u001b[0m\u001b[0;34m(\u001b[0m\u001b[0;34m)\u001b[0m\u001b[0;34m[\u001b[0m\u001b[0;36m0\u001b[0m\u001b[0;34m]\u001b[0m\u001b[0;34m\u001b[0m\u001b[0m\n",
        "\u001b[0;31mIndexError\u001b[0m: list index out of range"
       ]
      }
     ],
     "prompt_number": 91
    },
    {
     "cell_type": "code",
     "collapsed": false,
     "input": [
      "for fly in [swarm.flies[1]]:\n",
      "    lrb = fly.experiments['lr_blob_expansion']\n",
      "    #lrb.import_sequence_data()\n",
      "    lrb.sync_sequences()\n",
      "    fly_db.flush()"
     ],
     "language": "python",
     "metadata": {},
     "outputs": [
      {
       "ename": "RuntimeError",
       "evalue": "unable to create link (Links: Unable to initialize object)",
       "output_type": "pyerr",
       "traceback": [
        "\u001b[0;31m---------------------------------------------------------------------------\u001b[0m\n\u001b[0;31mRuntimeError\u001b[0m                              Traceback (most recent call last)",
        "\u001b[0;32m<ipython-input-6-acaf65974876>\u001b[0m in \u001b[0;36m<module>\u001b[0;34m()\u001b[0m\n\u001b[1;32m      2\u001b[0m     \u001b[0mlrb\u001b[0m \u001b[0;34m=\u001b[0m \u001b[0mfly\u001b[0m\u001b[0;34m.\u001b[0m\u001b[0mexperiments\u001b[0m\u001b[0;34m[\u001b[0m\u001b[0;34m'lr_blob_expansion'\u001b[0m\u001b[0;34m]\u001b[0m\u001b[0;34m\u001b[0m\u001b[0m\n\u001b[1;32m      3\u001b[0m     \u001b[0;31m#lrb.import_sequence_data()\u001b[0m\u001b[0;34m\u001b[0m\u001b[0;34m\u001b[0m\u001b[0m\n\u001b[0;32m----> 4\u001b[0;31m     \u001b[0mlrb\u001b[0m\u001b[0;34m.\u001b[0m\u001b[0msync_sequences\u001b[0m\u001b[0;34m(\u001b[0m\u001b[0;34m)\u001b[0m\u001b[0;34m\u001b[0m\u001b[0m\n\u001b[0m\u001b[1;32m      5\u001b[0m     \u001b[0mfly_db\u001b[0m\u001b[0;34m.\u001b[0m\u001b[0mflush\u001b[0m\u001b[0;34m(\u001b[0m\u001b[0;34m)\u001b[0m\u001b[0;34m\u001b[0m\u001b[0m\n",
        "\u001b[0;32m/Users/psilentp/Documents/Projects/flycity/flytracker_tethered/muscle_analysis/flylib.pyc\u001b[0m in \u001b[0;36msync_sequences\u001b[0;34m(self)\u001b[0m\n\u001b[1;32m    254\u001b[0m             \u001b[0;32mif\u001b[0m \u001b[0;32mnot\u001b[0m\u001b[0;34m(\u001b[0m\u001b[0;34m'axon'\u001b[0m \u001b[0;32min\u001b[0m \u001b[0msequence\u001b[0m\u001b[0;34m.\u001b[0m\u001b[0mseq_record\u001b[0m\u001b[0;34m.\u001b[0m\u001b[0mkeys\u001b[0m\u001b[0;34m(\u001b[0m\u001b[0;34m)\u001b[0m\u001b[0;34m)\u001b[0m\u001b[0;34m:\u001b[0m\u001b[0;34m\u001b[0m\u001b[0m\n\u001b[1;32m    255\u001b[0m                 \u001b[0msequence\u001b[0m\u001b[0;34m.\u001b[0m\u001b[0mseq_record\u001b[0m\u001b[0;34m.\u001b[0m\u001b[0mcreate_group\u001b[0m\u001b[0;34m(\u001b[0m\u001b[0;34m'axon'\u001b[0m\u001b[0;34m)\u001b[0m\u001b[0;34m\u001b[0m\u001b[0m\n\u001b[0;32m--> 256\u001b[0;31m             \u001b[0msequence\u001b[0m\u001b[0;34m.\u001b[0m\u001b[0mseq_record\u001b[0m\u001b[0;34m[\u001b[0m\u001b[0;34m'wbkin'\u001b[0m\u001b[0;34m]\u001b[0m\u001b[0;34m[\u001b[0m\u001b[0;34m'axon_epoch'\u001b[0m\u001b[0;34m]\u001b[0m \u001b[0;34m=\u001b[0m \u001b[0mepoch\u001b[0m\u001b[0;34m\u001b[0m\u001b[0m\n\u001b[0m\u001b[1;32m    257\u001b[0m             \u001b[0msequence\u001b[0m\u001b[0;34m.\u001b[0m\u001b[0mseq_record\u001b[0m\u001b[0;34m[\u001b[0m\u001b[0;34m'wbkin'\u001b[0m\u001b[0;34m]\u001b[0m\u001b[0;34m[\u001b[0m\u001b[0;34m'axon_idxs'\u001b[0m\u001b[0;34m]\u001b[0m \u001b[0;34m=\u001b[0m \u001b[0mframe_idxs\u001b[0m\u001b[0;34m\u001b[0m\u001b[0m\n\u001b[1;32m    258\u001b[0m             \u001b[0msequence\u001b[0m\u001b[0;34m.\u001b[0m\u001b[0mseq_record\u001b[0m\u001b[0;34m[\u001b[0m\u001b[0;34m'wbkin'\u001b[0m\u001b[0;34m]\u001b[0m\u001b[0;34m[\u001b[0m\u001b[0;34m'photron_sample_times'\u001b[0m\u001b[0;34m]\u001b[0m \u001b[0;34m=\u001b[0m \u001b[0mtimes\u001b[0m\u001b[0;34m[\u001b[0m\u001b[0mframe_idxs\u001b[0m\u001b[0;34m]\u001b[0m\u001b[0;34m\u001b[0m\u001b[0m\n",
        "\u001b[0;32m/Users/psilentp/Library/Enthought/Canopy_64bit/User/lib/python2.7/site-packages/h5py/_hl/group.pyc\u001b[0m in \u001b[0;36m__setitem__\u001b[0;34m(self, name, obj)\u001b[0m\n\u001b[1;32m    269\u001b[0m         \u001b[0;32melse\u001b[0m\u001b[0;34m:\u001b[0m\u001b[0;34m\u001b[0m\u001b[0m\n\u001b[1;32m    270\u001b[0m             \u001b[0mds\u001b[0m \u001b[0;34m=\u001b[0m \u001b[0mself\u001b[0m\u001b[0;34m.\u001b[0m\u001b[0mcreate_dataset\u001b[0m\u001b[0;34m(\u001b[0m\u001b[0mNone\u001b[0m\u001b[0;34m,\u001b[0m \u001b[0mdata\u001b[0m\u001b[0;34m=\u001b[0m\u001b[0mobj\u001b[0m\u001b[0;34m,\u001b[0m \u001b[0mdtype\u001b[0m\u001b[0;34m=\u001b[0m\u001b[0mbase\u001b[0m\u001b[0;34m.\u001b[0m\u001b[0mguess_dtype\u001b[0m\u001b[0;34m(\u001b[0m\u001b[0mobj\u001b[0m\u001b[0;34m)\u001b[0m\u001b[0;34m)\u001b[0m\u001b[0;34m\u001b[0m\u001b[0m\n\u001b[0;32m--> 271\u001b[0;31m             \u001b[0mh5o\u001b[0m\u001b[0;34m.\u001b[0m\u001b[0mlink\u001b[0m\u001b[0;34m(\u001b[0m\u001b[0mds\u001b[0m\u001b[0;34m.\u001b[0m\u001b[0mid\u001b[0m\u001b[0;34m,\u001b[0m \u001b[0mself\u001b[0m\u001b[0;34m.\u001b[0m\u001b[0mid\u001b[0m\u001b[0;34m,\u001b[0m \u001b[0mname\u001b[0m\u001b[0;34m,\u001b[0m \u001b[0mlcpl\u001b[0m\u001b[0;34m=\u001b[0m\u001b[0mlcpl\u001b[0m\u001b[0;34m)\u001b[0m\u001b[0;34m\u001b[0m\u001b[0m\n\u001b[0m\u001b[1;32m    272\u001b[0m \u001b[0;34m\u001b[0m\u001b[0m\n\u001b[1;32m    273\u001b[0m     \u001b[0;32mdef\u001b[0m \u001b[0m__delitem__\u001b[0m\u001b[0;34m(\u001b[0m\u001b[0mself\u001b[0m\u001b[0;34m,\u001b[0m \u001b[0mname\u001b[0m\u001b[0;34m)\u001b[0m\u001b[0;34m:\u001b[0m\u001b[0;34m\u001b[0m\u001b[0m\n",
        "\u001b[0;32m/Users/psilentp/Library/Enthought/Canopy_64bit/User/lib/python2.7/site-packages/h5py/h5o.so\u001b[0m in \u001b[0;36mh5py.h5o.link (h5py/h5o.c:3286)\u001b[0;34m()\u001b[0m\n",
        "\u001b[0;31mRuntimeError\u001b[0m: unable to create link (Links: Unable to initialize object)"
       ]
      }
     ],
     "prompt_number": 6
    },
    {
     "cell_type": "code",
     "collapsed": false,
     "input": [
      "fly_db.close()"
     ],
     "language": "python",
     "metadata": {},
     "outputs": [
      {
       "output_type": "stream",
       "stream": "stdout",
       "text": [
        "<Closed HDF5 file>\n",
        "<Closed HDF5 file>\n",
        "<Closed HDF5 file>\n",
        "<Closed HDF5 file>\n",
        "<Closed HDF5 file>\n",
        "<Closed HDF5 file>\n",
        "<Closed HDF5 file>\n",
        "<Closed HDF5 file>\n",
        "<Closed HDF5 file>\n",
        "<Closed HDF5 file>\n",
        "<Closed HDF5 file>\n",
        "<Closed HDF5 file>\n",
        "<Closed HDF5 file>\n",
        "<Closed HDF5 file>\n",
        "<Closed HDF5 file>\n",
        "<Closed HDF5 file>\n",
        "<Closed HDF5 file>\n",
        "<Closed HDF5 file>\n",
        "<Closed HDF5 file>\n",
        "<Closed HDF5 file>\n",
        "<Closed HDF5 file>\n",
        "<Closed HDF5 file>\n",
        "<Closed HDF5 file>\n",
        "<Closed HDF5 file>\n",
        "<Closed HDF5 file>\n",
        "<Closed HDF5 file>\n",
        "<Closed HDF5 file>\n",
        "<Closed HDF5 file>\n",
        "<Closed HDF5 file>\n",
        "<Closed HDF5 file>\n",
        "<Closed HDF5 file>\n",
        "<Closed HDF5 file>\n",
        "<Closed HDF5 file>"
       ]
      },
      {
       "output_type": "stream",
       "stream": "stdout",
       "text": [
        "\n",
        "<Closed HDF5 file>\n",
        "<Closed HDF5 file>\n",
        "<Closed HDF5 file>\n",
        "<Closed HDF5 file>\n",
        "<Closed HDF5 file>\n",
        "<Closed HDF5 file>\n",
        "<Closed HDF5 file>\n",
        "<Closed HDF5 file>\n",
        "<Closed HDF5 file>\n"
       ]
      }
     ],
     "prompt_number": 39
    },
    {
     "cell_type": "code",
     "collapsed": false,
     "input": [
      "cdict = {'red':  ((0.0,0.0,0.0),(1.0,0.1,0.1)),\n",
      "         'blue': ((0.0,0.0,0.0),(1.0,1.0,1.0)),\n",
      "         'green':((0.0,0.0,0.0),(1.0,0.1,0.1)),}\n",
      "my_cmap = matplotlib.colors.LinearSegmentedColormap('my_colormap',cdict,256)\n",
      "\n",
      "for snum in [0,4]:\n",
      "    figure(figsize = (8,10))\n",
      "    fly = swarm.flies[1]\n",
      "    lrb = fly.experiments['lr_blob_expansion']\n",
      "    skey = lrb.sequences.keys()[snum]\n",
      "    seq = lrb.sequences[skey]\n",
      "    eta_L = np.rad2deg(np.array(seq.seq_record['wb_mtrx']['eta_L']))\n",
      "    theta_L = np.rad2deg(np.array(seq.seq_record['wb_mtrx']['theta_L']))\n",
      "    phi_L = np.rad2deg(np.array(seq.seq_record['wb_mtrx']['phi_L']))\n",
      "    ephys = np.array(seq.seq_record['wb_mtrx']['AMsysCh1'])\n",
      "    numstrks = shape(eta_L)[0]\n",
      "    cbar = arange(numstrks)[:,newaxis]\n",
      "    pcolor(cbar,cmap = my_cmap,edgecolors='w')\n",
      "    alpha = 1.0\n",
      "    phases = np.linspace(-2*pi,4*pi,1500)\n",
      "    for strk in range(numstrks)[::2]:\n",
      "        c = my_cmap((strk/(float(numstrks))))\n",
      "        ax0 = subplot(4,1,1)\n",
      "        plot(phases,phi_L[strk,:],color = c,alpha = alpha)\n",
      "        gca().set_ybound(-100,100)\n",
      "        gca().set_yticks(linspace(-100,100,5))\n",
      "        subplot(4,1,2,sharex = ax0)\n",
      "        plot(phases,theta_L[strk,:],color = c,alpha = alpha)\n",
      "        gca().set_ybound(-100,100)\n",
      "        gca().set_yticks(linspace(-40,40,5))\n",
      "        subplot(4,1,3,sharex = ax0)\n",
      "        plot(phases,eta_L[strk,:],color = c,alpha = alpha)\n",
      "        gca().set_ybound(-100,100)\n",
      "        gca().set_yticks(linspace(-100,100,5))\n",
      "        subplot(4,1,4,sharex = ax0)\n",
      "        plot(phases,ephys[strk,:],color = c,alpha = alpha)\n",
      "        gca().set_ybound(-100,100)\n",
      "        gca().set_yticks(linspace(-100,100,5))\n",
      "    gca().set_xticks([-2*pi,-1*pi,0,pi,2*pi,3*pi,4*pi])\n",
      "    gca().set_xbound([-2*pi,4*pi])"
     ],
     "language": "python",
     "metadata": {},
     "outputs": [],
     "prompt_number": 37
    },
    {
     "cell_type": "code",
     "collapsed": false,
     "input": [
      "seq = lrb.sequences[12]"
     ],
     "language": "python",
     "metadata": {},
     "outputs": [],
     "prompt_number": 34
    },
    {
     "cell_type": "code",
     "collapsed": false,
     "input": [
      "seq.calc_kine_phases()"
     ],
     "language": "python",
     "metadata": {},
     "outputs": [],
     "prompt_number": 35
    },
    {
     "cell_type": "code",
     "collapsed": false,
     "input": [
      "seq.calc_wb_mtrx()"
     ],
     "language": "python",
     "metadata": {},
     "outputs": [],
     "prompt_number": 36
    },
    {
     "cell_type": "code",
     "collapsed": false,
     "input": [
      "cdict = {'blue':  ((0.0,0.1,0.0),(1.0,0.0,0.0)),\n",
      "         'red':   ((0.0,1.0,1.0),(1.0,0.0,0.0)),\n",
      "         'green': ((0.0,0.1,0.0),(1.0,0.0,0.0)),}\n",
      "#cdict = {'red':  ((1.0,0.1,0.1),(0.0,0.0,0.0)),\n",
      "#         'blue': ((1.0,1.0,1.0),(0.0,0.0,0.0)),\n",
      "#         'green':((1.0,0.1,0.1),(0.0,0.0,0.0)),}\n",
      "\n",
      "#pcolor(cbar,cmap = my_cmap,edgecolors='w')\n",
      "alpha = 0.5\n",
      "for snum in [1,4]:\n",
      "    figure(figsize = (8,10))\n",
      "    fly = swarm.flies[1]\n",
      "    lrb = fly.experiments['lr_blob_expansion']\n",
      "    skey = lrb.sequences.keys()[snum]\n",
      "    seq = lrb.sequences[skey]\n",
      "    eta_L = np.rad2deg(np.array(seq.seq_record['wb_mtrx']['eta_L']))\n",
      "    theta_L = np.rad2deg(np.array(seq.seq_record['wb_mtrx']['theta_L']))\n",
      "    phi_L = np.rad2deg(np.array(seq.seq_record['wb_mtrx']['phi_L']))\n",
      "    ephys = np.array(seq.seq_record['wb_mtrx']['AMsysCh1'])\n",
      "    numstrks = shape(eta_L)[0]\n",
      "    my_cmap = matplotlib.colors.LinearSegmentedColormap('my_colormap',cdict,256)\n",
      "    cbar = arange(numstrks)[:,newaxis]\n",
      "    phases = np.linspace(-2*pi,4*pi,1500)\n",
      "    for strk in range(numstrks)[:46]:\n",
      "        c = my_cmap((strk/(float(numstrks))))\n",
      "        ax0 = subplot(2,1,1)\n",
      "        plot(phi_L[strk,500:1000],theta_L[strk,500:1000],color = c,alpha = alpha)\n",
      "        gca().set_ybound(-50,50)\n",
      "        gca().set_yticks(linspace(-100,100,5))\n",
      "        gca().set_xbound(-50,50)\n",
      "        gca().set_xticks(linspace(-100,100,5))\n",
      "        subplot(2,1,2)\n",
      "        plot(phases,ephys[strk,:],color = c,alpha = alpha)\n",
      "        gca().set_ybound(-100,100)\n",
      "        gca().set_yticks(linspace(-100,100,5))\n",
      "    gca().set_xticks([-2*pi,-1*pi,0,pi,2*pi,3*pi,4*pi])\n",
      "    gca().set_xbound([-2*pi,4*pi])"
     ],
     "language": "python",
     "metadata": {},
     "outputs": [],
     "prompt_number": 63
    },
    {
     "cell_type": "code",
     "collapsed": false,
     "input": [
      "my_cmap(0.5)"
     ],
     "language": "python",
     "metadata": {},
     "outputs": [
      {
       "ename": "ValueError",
       "evalue": "data mapping points must start with x=0. and end with x=1",
       "output_type": "pyerr",
       "traceback": [
        "\u001b[1;31m---------------------------------------------------------------------------\u001b[0m\n\u001b[1;31mValueError\u001b[0m                                Traceback (most recent call last)",
        "\u001b[1;32m<ipython-input-53-022cdfd06df6>\u001b[0m in \u001b[0;36m<module>\u001b[1;34m()\u001b[0m\n\u001b[1;32m----> 1\u001b[1;33m \u001b[0mmy_cmap\u001b[0m\u001b[1;33m(\u001b[0m\u001b[1;36m0.5\u001b[0m\u001b[1;33m)\u001b[0m\u001b[1;33m\u001b[0m\u001b[0m\n\u001b[0m",
        "\u001b[1;32m/home/matt/Enthought/Canopy_32bit/User/lib/python2.7/site-packages/matplotlib/colors.pyc\u001b[0m in \u001b[0;36m__call__\u001b[1;34m(self, X, alpha, bytes)\u001b[0m\n\u001b[0;32m    540\u001b[0m         \u001b[1;31m# See class docstring for arg/kwarg documentation.\u001b[0m\u001b[1;33m\u001b[0m\u001b[1;33m\u001b[0m\u001b[0m\n\u001b[0;32m    541\u001b[0m         \u001b[1;32mif\u001b[0m \u001b[1;32mnot\u001b[0m \u001b[0mself\u001b[0m\u001b[1;33m.\u001b[0m\u001b[0m_isinit\u001b[0m\u001b[1;33m:\u001b[0m\u001b[1;33m\u001b[0m\u001b[0m\n\u001b[1;32m--> 542\u001b[1;33m             \u001b[0mself\u001b[0m\u001b[1;33m.\u001b[0m\u001b[0m_init\u001b[0m\u001b[1;33m(\u001b[0m\u001b[1;33m)\u001b[0m\u001b[1;33m\u001b[0m\u001b[0m\n\u001b[0m\u001b[0;32m    543\u001b[0m         \u001b[0mmask_bad\u001b[0m \u001b[1;33m=\u001b[0m \u001b[0mNone\u001b[0m\u001b[1;33m\u001b[0m\u001b[0m\n\u001b[0;32m    544\u001b[0m         \u001b[1;32mif\u001b[0m \u001b[1;32mnot\u001b[0m \u001b[0mcbook\u001b[0m\u001b[1;33m.\u001b[0m\u001b[0miterable\u001b[0m\u001b[1;33m(\u001b[0m\u001b[0mX\u001b[0m\u001b[1;33m)\u001b[0m\u001b[1;33m:\u001b[0m\u001b[1;33m\u001b[0m\u001b[0m\n",
        "\u001b[1;32m/home/matt/Enthought/Canopy_32bit/User/lib/python2.7/site-packages/matplotlib/colors.pyc\u001b[0m in \u001b[0;36m_init\u001b[1;34m(self)\u001b[0m\n\u001b[0;32m    722\u001b[0m         \u001b[0mself\u001b[0m\u001b[1;33m.\u001b[0m\u001b[0m_lut\u001b[0m \u001b[1;33m=\u001b[0m \u001b[0mnp\u001b[0m\u001b[1;33m.\u001b[0m\u001b[0mones\u001b[0m\u001b[1;33m(\u001b[0m\u001b[1;33m(\u001b[0m\u001b[0mself\u001b[0m\u001b[1;33m.\u001b[0m\u001b[0mN\u001b[0m \u001b[1;33m+\u001b[0m \u001b[1;36m3\u001b[0m\u001b[1;33m,\u001b[0m \u001b[1;36m4\u001b[0m\u001b[1;33m)\u001b[0m\u001b[1;33m,\u001b[0m \u001b[0mnp\u001b[0m\u001b[1;33m.\u001b[0m\u001b[0mfloat\u001b[0m\u001b[1;33m)\u001b[0m\u001b[1;33m\u001b[0m\u001b[0m\n\u001b[0;32m    723\u001b[0m         self._lut[:-3, 0] = makeMappingArray(\n\u001b[1;32m--> 724\u001b[1;33m             self.N, self._segmentdata['red'], self._gamma)\n\u001b[0m\u001b[0;32m    725\u001b[0m         self._lut[:-3, 1] = makeMappingArray(\n\u001b[0;32m    726\u001b[0m             self.N, self._segmentdata['green'], self._gamma)\n",
        "\u001b[1;32m/home/matt/Enthought/Canopy_32bit/User/lib/python2.7/site-packages/matplotlib/colors.pyc\u001b[0m in \u001b[0;36mmakeMappingArray\u001b[1;34m(N, data, gamma)\u001b[0m\n\u001b[0;32m    456\u001b[0m     \u001b[1;32mif\u001b[0m \u001b[0mx\u001b[0m\u001b[1;33m[\u001b[0m\u001b[1;36m0\u001b[0m\u001b[1;33m]\u001b[0m \u001b[1;33m!=\u001b[0m \u001b[1;36m0.\u001b[0m \u001b[1;32mor\u001b[0m \u001b[0mx\u001b[0m\u001b[1;33m[\u001b[0m\u001b[1;33m-\u001b[0m\u001b[1;36m1\u001b[0m\u001b[1;33m]\u001b[0m \u001b[1;33m!=\u001b[0m \u001b[1;36m1.0\u001b[0m\u001b[1;33m:\u001b[0m\u001b[1;33m\u001b[0m\u001b[0m\n\u001b[0;32m    457\u001b[0m         raise ValueError(\n\u001b[1;32m--> 458\u001b[1;33m             \"data mapping points must start with x=0. and end with x=1\")\n\u001b[0m\u001b[0;32m    459\u001b[0m     \u001b[1;32mif\u001b[0m \u001b[0mnp\u001b[0m\u001b[1;33m.\u001b[0m\u001b[0msometrue\u001b[0m\u001b[1;33m(\u001b[0m\u001b[0mnp\u001b[0m\u001b[1;33m.\u001b[0m\u001b[0msort\u001b[0m\u001b[1;33m(\u001b[0m\u001b[0mx\u001b[0m\u001b[1;33m)\u001b[0m \u001b[1;33m-\u001b[0m \u001b[0mx\u001b[0m\u001b[1;33m)\u001b[0m\u001b[1;33m:\u001b[0m\u001b[1;33m\u001b[0m\u001b[0m\n\u001b[0;32m    460\u001b[0m         raise ValueError(\n",
        "\u001b[1;31mValueError\u001b[0m: data mapping points must start with x=0. and end with x=1"
       ]
      }
     ],
     "prompt_number": 53
    },
    {
     "cell_type": "code",
     "collapsed": false,
     "input": [
      "fly_db.close()"
     ],
     "language": "python",
     "metadata": {},
     "outputs": [
      {
       "output_type": "stream",
       "stream": "stdout",
       "text": [
        "<Closed HDF5 file>\n",
        "<Closed HDF5 file>\n",
        "<Closed HDF5 file>\n",
        "<Closed HDF5 file>\n",
        "<Closed HDF5 file>\n",
        "<Closed HDF5 file>\n",
        "<Closed HDF5 file>\n",
        "<Closed HDF5 file>\n",
        "<Closed HDF5 file>\n",
        "<Closed HDF5 file>\n",
        "<Closed HDF5 file>\n",
        "<Closed HDF5 file>\n",
        "<Closed HDF5 file>\n",
        "<Closed HDF5 file>\n",
        "<Closed HDF5 file>\n",
        "<Closed HDF5 file>\n",
        "<Closed HDF5 file>\n",
        "<Closed HDF5 file>\n",
        "<Closed HDF5 file>\n",
        "<Closed HDF5 file>\n",
        "<Closed HDF5 file>\n",
        "<Closed HDF5 file>\n",
        "<Closed HDF5 file>\n",
        "<Closed HDF5 file>\n",
        "<Closed HDF5 file>\n",
        "<Closed HDF5 file>\n",
        "<Closed HDF5 file>\n",
        "<Closed HDF5 file>\n",
        "<Closed HDF5 file>\n",
        "<Closed HDF5 file>\n",
        "<Closed HDF5 file>\n",
        "<Closed HDF5 file>\n",
        "<Closed HDF5 file>"
       ]
      },
      {
       "output_type": "stream",
       "stream": "stdout",
       "text": [
        "\n",
        "<Closed HDF5 file>\n",
        "<Closed HDF5 file>"
       ]
      },
      {
       "output_type": "stream",
       "stream": "stdout",
       "text": [
        "\n",
        "<Closed HDF5 file>\n",
        "<Closed HDF5 file>"
       ]
      },
      {
       "output_type": "stream",
       "stream": "stdout",
       "text": [
        "\n",
        "<Closed HDF5 file>\n",
        "<Closed HDF5 file>"
       ]
      },
      {
       "output_type": "stream",
       "stream": "stdout",
       "text": [
        "\n",
        "<Closed HDF5 file>\n",
        "<Closed HDF5 file>"
       ]
      },
      {
       "output_type": "stream",
       "stream": "stdout",
       "text": [
        "\n",
        "<Closed HDF5 file>\n"
       ]
      }
     ],
     "prompt_number": 5
    },
    {
     "cell_type": "code",
     "collapsed": false,
     "input": [
      "b1_spikes>phys_times[0]"
     ],
     "language": "python",
     "metadata": {},
     "outputs": [
      {
       "metadata": {},
       "output_type": "pyout",
       "prompt_number": 198,
       "text": [
        "array([False, False, False, ...,  True,  True,  True], dtype=bool)"
       ]
      }
     ],
     "prompt_number": 198
    },
    {
     "cell_type": "code",
     "collapsed": false,
     "input": [],
     "language": "python",
     "metadata": {},
     "outputs": [
      {
       "ename": "KeyError",
       "evalue": "\"unable to open object (Symbol table: Can't open object)\"",
       "output_type": "pyerr",
       "traceback": [
        "\u001b[0;31m---------------------------------------------------------------------------\u001b[0m\n\u001b[0;31mKeyError\u001b[0m                                  Traceback (most recent call last)",
        "\u001b[0;32m<ipython-input-59-048ebf2e90cc>\u001b[0m in \u001b[0;36m<module>\u001b[0;34m()\u001b[0m\n\u001b[0;32m----> 1\u001b[0;31m \u001b[0mseq\u001b[0m\u001b[0;34m.\u001b[0m\u001b[0mseq_record\u001b[0m\u001b[0;34m[\u001b[0m\u001b[0;34m'wb_matrx'\u001b[0m\u001b[0;34m]\u001b[0m\u001b[0;34m.\u001b[0m\u001b[0mkeys\u001b[0m\u001b[0;34m(\u001b[0m\u001b[0;34m)\u001b[0m\u001b[0;34m\u001b[0m\u001b[0m\n\u001b[0m",
        "\u001b[0;32m/Users/psilentp/Library/Enthought/Canopy_64bit/User/lib/python2.7/site-packages/h5py/_hl/group.pyc\u001b[0m in \u001b[0;36m__getitem__\u001b[0;34m(self, name)\u001b[0m\n\u001b[1;32m    151\u001b[0m                 \u001b[0;32mraise\u001b[0m \u001b[0mValueError\u001b[0m\u001b[0;34m(\u001b[0m\u001b[0;34m\"Invalid HDF5 object reference\"\u001b[0m\u001b[0;34m)\u001b[0m\u001b[0;34m\u001b[0m\u001b[0m\n\u001b[1;32m    152\u001b[0m         \u001b[0;32melse\u001b[0m\u001b[0;34m:\u001b[0m\u001b[0;34m\u001b[0m\u001b[0m\n\u001b[0;32m--> 153\u001b[0;31m             \u001b[0moid\u001b[0m \u001b[0;34m=\u001b[0m \u001b[0mh5o\u001b[0m\u001b[0;34m.\u001b[0m\u001b[0mopen\u001b[0m\u001b[0;34m(\u001b[0m\u001b[0mself\u001b[0m\u001b[0;34m.\u001b[0m\u001b[0mid\u001b[0m\u001b[0;34m,\u001b[0m \u001b[0mself\u001b[0m\u001b[0;34m.\u001b[0m\u001b[0m_e\u001b[0m\u001b[0;34m(\u001b[0m\u001b[0mname\u001b[0m\u001b[0;34m)\u001b[0m\u001b[0;34m,\u001b[0m \u001b[0mlapl\u001b[0m\u001b[0;34m=\u001b[0m\u001b[0mself\u001b[0m\u001b[0;34m.\u001b[0m\u001b[0m_lapl\u001b[0m\u001b[0;34m)\u001b[0m\u001b[0;34m\u001b[0m\u001b[0m\n\u001b[0m\u001b[1;32m    154\u001b[0m \u001b[0;34m\u001b[0m\u001b[0m\n\u001b[1;32m    155\u001b[0m         \u001b[0motype\u001b[0m \u001b[0;34m=\u001b[0m \u001b[0mh5i\u001b[0m\u001b[0;34m.\u001b[0m\u001b[0mget_type\u001b[0m\u001b[0;34m(\u001b[0m\u001b[0moid\u001b[0m\u001b[0;34m)\u001b[0m\u001b[0;34m\u001b[0m\u001b[0m\n",
        "\u001b[0;32m/Users/psilentp/Library/Enthought/Canopy_64bit/User/lib/python2.7/site-packages/h5py/h5o.so\u001b[0m in \u001b[0;36mh5py.h5o.open (h5py/h5o.c:3135)\u001b[0;34m()\u001b[0m\n",
        "\u001b[0;31mKeyError\u001b[0m: \"unable to open object (Symbol table: Can't open object)\""
       ]
      }
     ],
     "prompt_number": 59
    },
    {
     "cell_type": "code",
     "collapsed": false,
     "input": [
      "#block to plot the data fit to the forier time series\n",
      "ipsi_group = list()\n",
      "contra_group = list()\n",
      "for fly in swarm.flies[:10]:\n",
      "    lrb = fly.experiments['lr_blob_expansion']\n",
      "    side = lrb.exp_record['AMsysCh1_side'].value\n",
      "    for skey in lrb.sequences.keys():\n",
      "        seq = lrb.sequences[skey]\n",
      "        if seq.seq_record['expan_pol'].value == 270.0:\n",
      "            if side == 'r':\n",
      "                ipsi_group.append(seq.seq_record['wb_mtrx'])\n",
      "            if side == 'l':\n",
      "                contra_group.append(seq.seq_record['wb_mtrx'])\n",
      "        if seq.seq_record['expan_pol'].value == 90:\n",
      "                contra_group.append(seq.seq_record['wb_mtrx'])\n",
      "            if side = 'l':\n",
      "                ipsi_group.append(seq.seq_record['wb_mtrx']\n",
      "ax0 = subplot(3,1,1)\n",
      "#############################\n",
      "stroke_mtrx_r = [list() for x in range(45)]\n",
      "stroke_mtrx_l = [list() for x in range(45)]\n",
      "for nseq in ipsi_group:\n",
      "    for i,stroke in enumerate(nseq['phi_L'][:45]):\n",
      "        stroke_mtrx_r[i].append(rad2deg(stroke[500:1000]))\n",
      "    for i,stroke in enumerate(nseq['phi_R'][:45]):\n",
      "        stroke_mtrx_l[i].append(rad2deg(stroke[500:1000]))\n",
      "for i,stroke_stack in enumerate(stroke_mtrx_r):\n",
      "    phases = linspace(0,2.0*pi,500)+2*pi*i\n",
      "    stroke_stack = rad2deg(stroke_stack)\n",
      "    p = flylib.fit_fourier(stroke_stack,p_amp)\n",
      "    plot(phases,flylib.fourier(phases,p),color = 'r')\n",
      "for i,stroke_stack in enumerate(stroke_mtrx_l):\n",
      "    phases = linspace(0,2.1*pi,500)+2*pi*i\n",
      "    stroke_stack = rad2deg(stroke_stack)\n",
      "    p = flylib.fit_fourier(stroke_stack,p_amp)\n",
      "    plot(phases,flylib.fourier(phases,p),color = 'b')\n",
      "############################\n",
      "subplot(3,1,2,sharex = ax0)\n",
      "stroke_mtrx_r = [list() for x in range(45)]\n",
      "stroke_mtrx_l = [list() for x in range(45)]\n",
      "for nseq in ipsi_group:\n",
      "    for i,stroke in enumerate(nseq['theta_L'][:45]):\n",
      "        stroke_mtrx_r[i].append(rad2deg(stroke[500:1000]))\n",
      "    for i,stroke in enumerate(nseq['theta_R'][:45]):\n",
      "        stroke_mtrx_l[i].append(rad2deg(stroke[500:1000]))\n",
      "for i,stroke_stack in enumerate(stroke_mtrx_r):\n",
      "    phases = linspace(0,2.0*pi,500)+2*pi*i\n",
      "    stroke_stack = rad2deg(stroke_stack)\n",
      "    p = flylib.fit_fourier(stroke_stack,p_dev)\n",
      "    plot(phases,flylib.fourier(phases,p),color = 'r')\n",
      "for i,stroke_stack in enumerate(stroke_mtrx_l):\n",
      "    phases = linspace(0,2.0*pi,500)+2*pi*i\n",
      "    stroke_stack = rad2deg(stroke_stack)\n",
      "    p = flylib.fit_fourier(stroke_stack,p_dev)\n",
      "    plot(phases,flylib.fourier(phases,p),color = 'b')\n",
      "#############################\n",
      "subplot(3,1,3,sharex = ax0)\n",
      "stroke_mtrx_r = [list() for x in range(45)]\n",
      "stroke_mtrx_l = [list() for x in range(45)]\n",
      "for nseq in ipsi_group:\n",
      "    for i,stroke in enumerate(nseq['eta_L'][:45]):\n",
      "        stroke_mtrx_r[i].append(rad2deg(stroke[500:1000]))\n",
      "    for i,stroke in enumerate(nseq['eta_R'][:45]):\n",
      "        stroke_mtrx_l[i].append(rad2deg(stroke[500:1000]))\n",
      "for i,stroke_stack in enumerate(stroke_mtrx_r):\n",
      "    phases = linspace(0,2.0*pi,500)+2*pi*i\n",
      "    stroke_stack = rad2deg(stroke_stack)\n",
      "    p = flylib.fit_fourier(stroke_stack,p_rot)\n",
      "    plot(phases,flylib.fourier(phases,p),color = 'r')\n",
      "for i,stroke_stack in enumerate(stroke_mtrx_l):\n",
      "    phases = linspace(0,2.0*pi,500)+2*pi*i\n",
      "    stroke_stack = rad2deg(stroke_stack)\n",
      "    p = flylib.fit_fourier(stroke_stack,p_rot)\n",
      "    plot(phases,flylib.fourier(phases,p),color = 'b')"
     ],
     "language": "python",
     "metadata": {},
     "outputs": [
      {
       "ename": "IndentationError",
       "evalue": "unindent does not match any outer indentation level (<ipython-input-60-23c11f6a5fff>, line 16)",
       "output_type": "pyerr",
       "traceback": [
        "\u001b[0;36m  File \u001b[0;32m\"<ipython-input-60-23c11f6a5fff>\"\u001b[0;36m, line \u001b[0;32m16\u001b[0m\n\u001b[0;31m    if side = 'l':\u001b[0m\n\u001b[0m                  ^\u001b[0m\n\u001b[0;31mIndentationError\u001b[0m\u001b[0;31m:\u001b[0m unindent does not match any outer indentation level\n"
       ]
      }
     ],
     "prompt_number": 60
    },
    {
     "cell_type": "code",
     "collapsed": false,
     "input": [
      "p_str = [3.9,\n",
      "         65.0445,4.2642,\n",
      "         3.5806,-2.9492,\n",
      "         0.1319,0.3639,\n",
      "         0.7844,0.2098]\n",
      "p_rot = [4.2936,\n",
      "     1.8536,59.6529,\n",
      "     5.1852,1.6095,\n",
      "     -8.4569,9.8057,\n",
      "     3.9562,5.8064,\n",
      "     -3.0337,-2.8749,\n",
      "     -2.8771,0.6686,\n",
      "     0.8649,-0.6137,\n",
      "     0.0771,-1.0007]\n",
      "\n",
      "p_dev = [-6.173,\n",
      "         6.5682,   3.7788,\n",
      "         6.1335,   0.8717,\n",
      "         -0.352,   -0.6606,\n",
      "         0.0447,   1.2816,\n",
      "         0.5257,   0.3556,\n",
      "         -0.3202,  -0.2039,\n",
      "         -0.2993,  0.1891,\n",
      "         0.0221,   0.0379]"
     ],
     "language": "python",
     "metadata": {},
     "outputs": [],
     "prompt_number": 152
    },
    {
     "cell_type": "code",
     "collapsed": false,
     "input": [
      "lrb.exp_record['AMsysCh1_side'].value"
     ],
     "language": "python",
     "metadata": {},
     "outputs": [
      {
       "metadata": {},
       "output_type": "pyout",
       "prompt_number": 16,
       "text": [
        "'r'"
       ]
      }
     ],
     "prompt_number": 16
    },
    {
     "cell_type": "code",
     "collapsed": false,
     "input": [
      "#block to plot the data fit to the forier time series\n",
      "right_ipsi_group = list()\n",
      "left_ipsi_group = list()\n",
      "\n",
      "for fly in swarm.flies[:4]:\n",
      "    lrb = fly.experiments['lr_blob_expansion']\n",
      "    side = lrb.exp_record['AMsysCh1_side'].value\n",
      "    if side == 'r':\n",
      "        for skey in lrb.sequences.keys():\n",
      "            seq = lrb.sequences[skey]\n",
      "            if seq.seq_record['expan_pol'].value == 270.0:\n",
      "                right_ipsi_group.append(seq.seq_record['wb_mtrx'])\n",
      "    if side == 'l':\n",
      "        for skey in lrb.sequences.keys():\n",
      "            seq = lrb.sequences[skey]\n",
      "            if seq.seq_record['expan_pol'].value == 90.0:\n",
      "                left_ipsi_group.append(seq.seq_record['wb_mtrx'])\n",
      "            \n",
      "ax0 = subplot(3,1,1)\n",
      "#############################\n",
      "stroke_mtrx = [list() for x in range(45)]\n",
      "for nseq in right_ipsi_group:\n",
      "    for i,stroke in enumerate(nseq['phi_R'][:45]):\n",
      "        stroke_mtrx[i].append(rad2deg(stroke[0:1500]))\n",
      "\n",
      "for nseq in left_ipsi_group:\n",
      "    for i,stroke in enumerate(nseq['phi_L'][:45]):\n",
      "        stroke_mtrx[i].append(rad2deg(stroke[0:1500]))\n",
      "    \n",
      "    \n",
      "#for i,stroke_stack in enumerate(stroke_mtrx):\n",
      "#    phases = linspace(0,4.0*pi,500)\n",
      "#    stroke_stack = rad2deg(stroke_stack)\n",
      "#    p = flylib.fit_fourier(stroke_stack,p_amp)\n",
      "#    plot(phases,flylib.fourier(phases,p),color = cm.jet_r(i/45.0))\n",
      "\"\"\"\n",
      "############################\n",
      "subplot(3,1,2,sharex = ax0)\n",
      "stroke_mtrx_r = [list() for x in range(45)]\n",
      "stroke_mtrx_l = [list() for x in range(45)]\n",
      "for nseq in ipsi_group:\n",
      "    for i,stroke in enumerate(nseq['theta_L'][:45]):\n",
      "        stroke_mtrx_r[i].append(rad2deg(stroke[500:1000]))\n",
      "    for i,stroke in enumerate(nseq['theta_R'][:45]):\n",
      "        stroke_mtrx_l[i].append(rad2deg(stroke[500:1000]))\n",
      "for i,stroke_stack in enumerate(stroke_mtrx_r):\n",
      "    phases = linspace(0,2.0*pi,500)+2*pi*i\n",
      "    stroke_stack = rad2deg(stroke_stack)\n",
      "    p = flylib.fit_fourier(stroke_stack,p_dev)\n",
      "    plot(phases,flylib.fourier(phases,p),color = 'r')\n",
      "for i,stroke_stack in enumerate(stroke_mtrx_l):\n",
      "    phases = linspace(0,2.0*pi,500)+2*pi*i\n",
      "    stroke_stack = rad2deg(stroke_stack)\n",
      "    p = flylib.fit_fourier(stroke_stack,p_dev)\n",
      "    plot(phases,flylib.fourier(phases,p),color = 'b')\n",
      "#############################\n",
      "subplot(3,1,3,sharex = ax0)\n",
      "stroke_mtrx_r = [list() for x in range(45)]\n",
      "stroke_mtrx_l = [list() for x in range(45)]\n",
      "for nseq in ipsi_group:\n",
      "    for i,stroke in enumerate(nseq['eta_L'][:45]):\n",
      "        stroke_mtrx_r[i].append(rad2deg(stroke[500:1000]))\n",
      "    for i,stroke in enumerate(nseq['eta_R'][:45]):\n",
      "        stroke_mtrx_l[i].append(rad2deg(stroke[500:1000]))\n",
      "for i,stroke_stack in enumerate(stroke_mtrx_r):\n",
      "    phases = linspace(0,2.0*pi,500)+2*pi*i\n",
      "    stroke_stack = rad2deg(stroke_stack)\n",
      "    p = flylib.fit_fourier(stroke_stack,p_rot)\n",
      "    plot(phases,flylib.fourier(phases,p),color = 'r')\n",
      "for i,stroke_stack in enumerate(stroke_mtrx_l):\n",
      "    phases = linspace(0,2.0*pi,500)+2*pi*i\n",
      "    stroke_stack = rad2deg(stroke_stack)\n",
      "    p = flylib.fit_fourier(stroke_stack,p_rot)\n",
      "    plot(phases,flylib.fourier(phases,p),color = 'b')\n",
      "\"\"\""
     ],
     "language": "python",
     "metadata": {},
     "outputs": [
      {
       "metadata": {},
       "output_type": "pyout",
       "prompt_number": 61,
       "text": [
        "\"\\n############################\\nsubplot(3,1,2,sharex = ax0)\\nstroke_mtrx_r = [list() for x in range(45)]\\nstroke_mtrx_l = [list() for x in range(45)]\\nfor nseq in ipsi_group:\\n    for i,stroke in enumerate(nseq['theta_L'][:45]):\\n        stroke_mtrx_r[i].append(rad2deg(stroke[500:1000]))\\n    for i,stroke in enumerate(nseq['theta_R'][:45]):\\n        stroke_mtrx_l[i].append(rad2deg(stroke[500:1000]))\\nfor i,stroke_stack in enumerate(stroke_mtrx_r):\\n    phases = linspace(0,2.0*pi,500)+2*pi*i\\n    stroke_stack = rad2deg(stroke_stack)\\n    p = flylib.fit_fourier(stroke_stack,p_dev)\\n    plot(phases,flylib.fourier(phases,p),color = 'r')\\nfor i,stroke_stack in enumerate(stroke_mtrx_l):\\n    phases = linspace(0,2.0*pi,500)+2*pi*i\\n    stroke_stack = rad2deg(stroke_stack)\\n    p = flylib.fit_fourier(stroke_stack,p_dev)\\n    plot(phases,flylib.fourier(phases,p),color = 'b')\\n#############################\\nsubplot(3,1,3,sharex = ax0)\\nstroke_mtrx_r = [list() for x in range(45)]\\nstroke_mtrx_l = [list() for x in range(45)]\\nfor nseq in ipsi_group:\\n    for i,stroke in enumerate(nseq['eta_L'][:45]):\\n        stroke_mtrx_r[i].append(rad2deg(stroke[500:1000]))\\n    for i,stroke in enumerate(nseq['eta_R'][:45]):\\n        stroke_mtrx_l[i].append(rad2deg(stroke[500:1000]))\\nfor i,stroke_stack in enumerate(stroke_mtrx_r):\\n    phases = linspace(0,2.0*pi,500)+2*pi*i\\n    stroke_stack = rad2deg(stroke_stack)\\n    p = flylib.fit_fourier(stroke_stack,p_rot)\\n    plot(phases,flylib.fourier(phases,p),color = 'r')\\nfor i,stroke_stack in enumerate(stroke_mtrx_l):\\n    phases = linspace(0,2.0*pi,500)+2*pi*i\\n    stroke_stack = rad2deg(stroke_stack)\\n    p = flylib.fit_fourier(stroke_stack,p_rot)\\n    plot(phases,flylib.fourier(phases,p),color = 'b')\\n\""
       ]
      }
     ],
     "prompt_number": 61
    },
    {
     "cell_type": "code",
     "collapsed": false,
     "input": [
      "for i,mtrx in enumerate(stroke_mtrx):\n",
      "    plot(np.mean(np.array(mtrx),axis = 0),color = cm.jet(i/45.))"
     ],
     "language": "python",
     "metadata": {},
     "outputs": [],
     "prompt_number": 38
    },
    {
     "cell_type": "code",
     "collapsed": false,
     "input": [
      "seq.seq_record['wb_mtrx'].keys()"
     ],
     "language": "python",
     "metadata": {},
     "outputs": [
      {
       "metadata": {},
       "output_type": "pyout",
       "prompt_number": 72,
       "text": [
        "[u'AMsysCh1',\n",
        " u'CamSync',\n",
        " u'LeftWing',\n",
        " u'Ph0',\n",
        " u'Ph1',\n",
        " u'Ph2',\n",
        " u'Photostim',\n",
        " u'RightWing',\n",
        " u'WBSync',\n",
        " u'Xpos',\n",
        " u'Ypos',\n",
        " u'axon_sample_times',\n",
        " u'eta_L',\n",
        " u'eta_R',\n",
        " u'phi_L',\n",
        " u'phi_R',\n",
        " u'photron_sample_times',\n",
        " u'stim_frame_times',\n",
        " u'theta_L',\n",
        " u'theta_R']"
       ]
      }
     ],
     "prompt_number": 72
    },
    {
     "cell_type": "code",
     "collapsed": false,
     "input": [],
     "language": "python",
     "metadata": {},
     "outputs": []
    },
    {
     "cell_type": "code",
     "collapsed": false,
     "input": [],
     "language": "python",
     "metadata": {},
     "outputs": []
    },
    {
     "cell_type": "code",
     "collapsed": false,
     "input": [
      "ephys_group = [111,112,114,115,116,117,118,122,123,124,125]\n",
      "swarm = flylib.Squadron(fly_db,ephys_group)\n",
      "global_wbmtrx = list()\n",
      "for fly in swarm.flies:\n",
      "    lrb = fly.experiments['lr_blob_expansion']\n",
      "    for seq_key in lrb.sequences.keys():\n",
      "        seq = lrb.sequences[seq_key]\n",
      "        global_wbmtrx.append(seq.seq_record['wb_mtrx'])"
     ],
     "language": "python",
     "metadata": {},
     "outputs": [],
     "prompt_number": 5
    },
    {
     "cell_type": "code",
     "collapsed": false,
     "input": [
      "exp = swarm.flies[5].experiments['lr_blob_expansion']"
     ],
     "language": "python",
     "metadata": {},
     "outputs": [],
     "prompt_number": 110
    },
    {
     "cell_type": "code",
     "collapsed": false,
     "input": [
      "stroke"
     ],
     "language": "python",
     "metadata": {},
     "outputs": [
      {
       "metadata": {},
       "output_type": "pyout",
       "prompt_number": 128,
       "text": [
        "u'AMsysCh1'"
       ]
      }
     ],
     "prompt_number": 128
    },
    {
     "cell_type": "code",
     "collapsed": false,
     "input": [
      "ipsi_group[0].keys()"
     ],
     "language": "python",
     "metadata": {},
     "outputs": [
      {
       "metadata": {},
       "output_type": "pyout",
       "prompt_number": 124,
       "text": [
        "[u'AMsysCh1',\n",
        " u'CamSync',\n",
        " u'LeftWing',\n",
        " u'Ph0',\n",
        " u'Ph1',\n",
        " u'Ph2',\n",
        " u'Photostim',\n",
        " u'RightWing',\n",
        " u'WBSync',\n",
        " u'Xpos',\n",
        " u'Ypos',\n",
        " u'axon_sample_times',\n",
        " u'eta_L',\n",
        " u'eta_R',\n",
        " u'phi_L',\n",
        " u'phi_R',\n",
        " u'photron_sample_times',\n",
        " u'stim_frame_times',\n",
        " u'theta_L',\n",
        " u'theta_R']"
       ]
      }
     ],
     "prompt_number": 124
    },
    {
     "cell_type": "code",
     "collapsed": false,
     "input": [
      "stroke_bins = np.linspace(-0.2,0,50)"
     ],
     "language": "python",
     "metadata": {},
     "outputs": [],
     "prompt_number": 52
    },
    {
     "cell_type": "code",
     "collapsed": false,
     "input": [
      "stimes = [np.array(mtrx['stim_frame_times']) for mtrx in global_wbmtrx]"
     ],
     "language": "python",
     "metadata": {},
     "outputs": [],
     "prompt_number": 75
    },
    {
     "cell_type": "code",
     "collapsed": false,
     "input": [
      "mean_times = nanmean(vstack(stimes),axis = 1)"
     ],
     "language": "python",
     "metadata": {},
     "outputs": [],
     "prompt_number": 78
    },
    {
     "cell_type": "code",
     "collapsed": false,
     "input": [
      "hist(mean_times,bins = 50)"
     ],
     "language": "python",
     "metadata": {},
     "outputs": [
      {
       "metadata": {},
       "output_type": "pyout",
       "prompt_number": 82,
       "text": [
        "(array([ 36.,  64.,  65.,  64.,  65.,  67.,  61.,  67.,  63.,  66.,  64.,\n",
        "        64.,  69.,  66.,  64.,  62.,  67.,  62.,  66.,  61.,  68.,  67.,\n",
        "        62.,  64.,  62.,  66.,  66.,  68.,  64.,  66.,  62.,  66.,  64.,\n",
        "        66.,  64.,  64.,  67.,  67.,  64.,  63.,  66.,  65.,  64.,  64.,\n",
        "        64.,  53.,  13.,   3.,   1.,   2.]),\n",
        " array([-0.19885315, -0.19456805, -0.19028294, -0.18599784, -0.18171273,\n",
        "       -0.17742763, -0.17314252, -0.16885742, -0.16457231, -0.16028721,\n",
        "       -0.1560021 , -0.151717  , -0.14743189, -0.14314679, -0.13886168,\n",
        "       -0.13457658, -0.13029147, -0.12600637, -0.12172126, -0.11743616,\n",
        "       -0.11315105, -0.10886595, -0.10458084, -0.10029574, -0.09601063,\n",
        "       -0.09172553, -0.08744042, -0.08315532, -0.07887021, -0.07458511,\n",
        "       -0.0703    , -0.0660149 , -0.06172979, -0.05744469, -0.05315958,\n",
        "       -0.04887448, -0.04458937, -0.04030427, -0.03601916, -0.03173406,\n",
        "       -0.02744895, -0.02316385, -0.01887874, -0.01459364, -0.01030853,\n",
        "       -0.00602343, -0.00173833,  0.00254678,  0.00683188,  0.01111699,\n",
        "        0.01540209]),\n",
        " <a list of 50 Patch objects>)"
       ]
      }
     ],
     "prompt_number": 82
    },
    {
     "cell_type": "code",
     "collapsed": false,
     "input": [],
     "language": "python",
     "metadata": {},
     "outputs": []
    }
   ],
   "metadata": {}
  }
 ]
}