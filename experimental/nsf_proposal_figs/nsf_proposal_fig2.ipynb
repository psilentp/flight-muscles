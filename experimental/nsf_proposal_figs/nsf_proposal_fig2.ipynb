{
 "metadata": {
  "name": "",
  "signature": "sha256:c9bfc3b0608afe14db2fb594f448d47d22c3b0b19271f46bad994690f0386e03"
 },
 "nbformat": 3,
 "nbformat_minor": 0,
 "worksheets": [
  {
   "cells": [
    {
     "cell_type": "code",
     "collapsed": false,
     "input": [
      "#this notebook is for plotting the data in figure 2 of the full nsf proposal"
     ],
     "language": "python",
     "metadata": {},
     "outputs": []
    },
    {
     "cell_type": "code",
     "collapsed": false,
     "input": [
      "############\n",
      "############\n",
      "#closed loop\n",
      "############\n",
      "############"
     ],
     "language": "python",
     "metadata": {},
     "outputs": []
    },
    {
     "cell_type": "code",
     "collapsed": false,
     "input": [
      "import db_access as dba\n",
      "import flylib\n",
      "#reload(dba)\n",
      "fly_db = dba.get_db()"
     ],
     "language": "python",
     "metadata": {},
     "outputs": [],
     "prompt_number": 1
    },
    {
     "cell_type": "code",
     "collapsed": false,
     "input": [
      "#search for good cl trace\n",
      "imaging_group = range(156,175)"
     ],
     "language": "python",
     "metadata": {},
     "outputs": [],
     "prompt_number": 2
    },
    {
     "cell_type": "code",
     "collapsed": false,
     "input": [
      "swarm = flylib.Squadron(fly_db,imaging_group)"
     ],
     "language": "python",
     "metadata": {},
     "outputs": [],
     "prompt_number": 3
    },
    {
     "cell_type": "code",
     "collapsed": false,
     "input": [
      "#load the data for the fly\n",
      "expmnt = swarm.flies[3].experiments['img_starfield_t2_rep1']\n",
      "sigs = expmnt.exp_record['tiff_data']['axon_framebase']"
     ],
     "language": "python",
     "metadata": {},
     "outputs": [],
     "prompt_number": 38
    },
    {
     "cell_type": "code",
     "collapsed": false,
     "input": [
      "#plot the cl data\n",
      "sl = slice(20000,32000)\n",
      "times = np.array(sigs['times'])[sl]\n",
      "times -= times[0]\n",
      "roi_data = expmnt.exp_record['roi_data']\n",
      "ax0 = subplot(11,1,1)\n",
      "xpos = deg2rad((np.array(sigs['Xpos'])[sl]*9.6)*3.75)-pi/2\n",
      "xpos = mod(np.unwrap(xpos),2*pi)\n",
      "plot(times,xpos,color = 'k')\n",
      "subplot(11,1,2,sharex = ax0)\n",
      "plot(times,rad2deg(np.array(sigs['Ph1'])[sl]/5),color = 'k' )\n",
      "for i,key in enumerate(['b1', 'b2', 'b3', 'i1', 'i2', 'iii1', 'iii234', 'hg1', 'hg234']):\n",
      "        sig = np.array(roi_data[key])[sl]\n",
      "        sig = flylib.butter_lowpass_filter(sig,20,times[1]-times[0],order = 1)\n",
      "        subplot(11,1,3+i,sharex = ax0)\n",
      "        plot(times,sig/np.mean(roi_data[key]),color = 'k')\n",
      "        gca().set_ybound(0.8,2.8)\n",
      "        gca().set_ylabel(key)\n",
      "print expmnt.fly_record['flynum'].value"
     ],
     "language": "python",
     "metadata": {},
     "outputs": [],
     "prompt_number": 47
    },
    {
     "cell_type": "code",
     "collapsed": false,
     "input": [],
     "language": "python",
     "metadata": {},
     "outputs": [],
     "prompt_number": 48
    },
    {
     "cell_type": "code",
     "collapsed": false,
     "input": [
      "############\n",
      "############\n",
      "#open loop\n",
      "############\n",
      "############"
     ],
     "language": "python",
     "metadata": {},
     "outputs": [],
     "prompt_number": 48
    },
    {
     "cell_type": "code",
     "collapsed": false,
     "input": [
      "#plot an example open loop experiment (expansion avoidance)\n",
      "import db_access as dba\n",
      "import flylib\n",
      "from imaging_viewer import ImagingViewer\n",
      "fly_db = dba.get_db()\n",
      "imaging_group = range(156,175)\n",
      "swarm = flylib.Squadron(fly_db,imaging_group)\n",
      "expmnt = swarm.flies[-4].experiments['img_nsf_pilot_t2_rep1']\n",
      "viewer = ImagingViewer(expmnt)\n",
      "viewer.run()"
     ],
     "language": "python",
     "metadata": {},
     "outputs": [],
     "prompt_number": 19
    },
    {
     "cell_type": "code",
     "collapsed": false,
     "input": [
      "#save the roi data\n",
      "import cPickle\n",
      "f = open('/Users/theodorelindsay/Desktop/roi_data2.cpkl','wb')\n",
      "cPickle.dump(viewer.muscle_data,f)\n",
      "f.close()\n",
      "fly_db.close()"
     ],
     "language": "python",
     "metadata": {},
     "outputs": [],
     "prompt_number": 20
    },
    {
     "cell_type": "code",
     "collapsed": false,
     "input": [
      "#plot the roi data\n",
      "import db_access as dba\n",
      "import flylib\n",
      "from imaging_viewer import ImagingViewer\n",
      "fly_db = dba.get_db()\n",
      "imaging_group = range(156,175)\n",
      "swarm = flylib.Squadron(fly_db,imaging_group)\n",
      "expmnt = swarm.flies[-4].experiments['img_nsf_pilot_t2_rep1']\n",
      "import cPickle\n",
      "f = open('/Users/theodorelindsay/Desktop/roi_data2.cpkl','rb')\n",
      "roi_data = cPickle.load(f)\n",
      "f.close()"
     ],
     "language": "python",
     "metadata": {},
     "outputs": [],
     "prompt_number": 25
    },
    {
     "cell_type": "code",
     "collapsed": false,
     "input": [
      "sigs = expmnt.exp_record['tiff_data']['axon_framebase']\n",
      "epochs = flylib.idx_by_thresh(10-np.array(sigs['Ypos']),0.1)"
     ],
     "language": "python",
     "metadata": {},
     "outputs": [],
     "prompt_number": 26
    },
    {
     "cell_type": "code",
     "collapsed": false,
     "input": [
      "#load the roi data for each trial into a dictionary\n",
      "sig_stacks = {'l':[],'lmr':[],'b1':[],'b2':[],'b3':[],'i1':[],'i2':[],'iii1':[],'iii234':[],'hg1':[],'hg234':[]}\n",
      "for ep in epochs:\n",
      "    ep = ep[-129:]\n",
      "    #print shape(ep)\n",
      "    times = np.array(sigs['times'])[ep]\n",
      "    times -= times[0]\n",
      "    sig_stacks['lmr'].append(np.array(sigs['Ph2'])[ep])\n",
      "    sig_stacks['l'].append(np.array(sigs['Ph1'])[ep])\n",
      "    for i,key in enumerate(['b1', 'b2', 'b3', 'i1', 'i2', 'iii1', 'iii234', 'hg1', 'hg234']):\n",
      "        sig = np.array(roi_data[key])\n",
      "        sig_stacks[key].append(sig[ep]/np.mean(sig[ep[:100]]))"
     ],
     "language": "python",
     "metadata": {},
     "outputs": [
      {
       "output_type": "stream",
       "stream": "stdout",
       "text": [
        "(129,)\n",
        "(129,)\n",
        "(129,)\n",
        "(129,)\n",
        "(129,)\n",
        "(129,)\n",
        "(129,)\n",
        "(129,)\n",
        "(129,)\n",
        "(129,)\n"
       ]
      }
     ],
     "prompt_number": 34
    },
    {
     "cell_type": "code",
     "collapsed": false,
     "input": [
      "#plot the within-fly stats of the open-loop roi data.\n",
      "def plot_semtrace(times,sstack):\n",
      "    smean = np.mean(sstack,axis = 0)\n",
      "    sdev = np.std(sstack,axis = 0)\n",
      "    sem = sdev/shape(sstack)[0]\n",
      "    plot(times,smean,color = 'k')\n",
      "    fill_between(times,smean+sdev,smean-sdev,color = 'k',alpha = 0.2)\n",
      "    gca().set_ybound(0.8,2.8)\n",
      "\n",
      "end_idx = -80\n",
      "times = np.array(sigs['times'])[ep]\n",
      "ax0 = subplot(11,1,1)\n",
      "plot(times[end_idx:],np.array(sigs['Xpos'])[ep][end_idx:],color = 'k')\n",
      "subplot(11,1,2,sharex = ax0)\n",
      "sstack = rad2deg(vstack(np.array(sig_stacks['l']))/5)\n",
      "plot_semtrace(times[end_idx:],sstack[:,end_idx:])\n",
      "gca().set_ybound(-15,60)\n",
      "for i,key in enumerate(['b1', 'b2', 'b3', 'i1', 'i2', 'iii1', 'iii234', 'hg1', 'hg234']):\n",
      "    subplot(11,1,3+i,sharex = ax0)\n",
      "    sstack = vstack(np.array(sig_stacks[key]))\n",
      "    plot_semtrace(times[end_idx:],sstack[:,end_idx:])\n",
      "    gca().set_ybound(0.5,2.8)\n",
      "    gca().set_ylabel(key)"
     ],
     "language": "python",
     "metadata": {},
     "outputs": [],
     "prompt_number": 35
    },
    {
     "cell_type": "code",
     "collapsed": false,
     "input": [
      "expmnt.fly_record['flynum'].value"
     ],
     "language": "python",
     "metadata": {},
     "outputs": [
      {
       "metadata": {},
       "output_type": "pyout",
       "prompt_number": 22,
       "text": [
        "'171'"
       ]
      }
     ],
     "prompt_number": 22
    },
    {
     "cell_type": "code",
     "collapsed": false,
     "input": [],
     "language": "python",
     "metadata": {},
     "outputs": [],
     "prompt_number": 48
    },
    {
     "cell_type": "code",
     "collapsed": false,
     "input": [],
     "language": "python",
     "metadata": {},
     "outputs": [],
     "prompt_number": 48
    },
    {
     "cell_type": "code",
     "collapsed": false,
     "input": [],
     "language": "python",
     "metadata": {},
     "outputs": [],
     "prompt_number": 48
    },
    {
     "cell_type": "code",
     "collapsed": false,
     "input": [],
     "language": "python",
     "metadata": {},
     "outputs": [],
     "prompt_number": 48
    },
    {
     "cell_type": "code",
     "collapsed": false,
     "input": [],
     "language": "python",
     "metadata": {},
     "outputs": [],
     "prompt_number": 48
    },
    {
     "cell_type": "code",
     "collapsed": false,
     "input": [],
     "language": "python",
     "metadata": {},
     "outputs": [],
     "prompt_number": 48
    },
    {
     "cell_type": "code",
     "collapsed": false,
     "input": [],
     "language": "python",
     "metadata": {},
     "outputs": []
    },
    {
     "cell_type": "code",
     "collapsed": false,
     "input": [],
     "language": "python",
     "metadata": {},
     "outputs": []
    },
    {
     "cell_type": "code",
     "collapsed": false,
     "input": [],
     "language": "python",
     "metadata": {},
     "outputs": [],
     "prompt_number": 20
    },
    {
     "cell_type": "code",
     "collapsed": false,
     "input": [],
     "language": "python",
     "metadata": {},
     "outputs": [],
     "prompt_number": 48
    },
    {
     "cell_type": "code",
     "collapsed": false,
     "input": [],
     "language": "python",
     "metadata": {},
     "outputs": [],
     "prompt_number": 34
    },
    {
     "cell_type": "code",
     "collapsed": false,
     "input": [],
     "language": "python",
     "metadata": {},
     "outputs": [],
     "prompt_number": 48
    },
    {
     "cell_type": "code",
     "collapsed": false,
     "input": [],
     "language": "python",
     "metadata": {},
     "outputs": [],
     "prompt_number": 48
    },
    {
     "cell_type": "code",
     "collapsed": false,
     "input": [],
     "language": "python",
     "metadata": {},
     "outputs": [],
     "prompt_number": 48
    },
    {
     "cell_type": "code",
     "collapsed": false,
     "input": [],
     "language": "python",
     "metadata": {},
     "outputs": [],
     "prompt_number": 48
    },
    {
     "cell_type": "code",
     "collapsed": false,
     "input": [],
     "language": "python",
     "metadata": {},
     "outputs": [],
     "prompt_number": 48
    },
    {
     "cell_type": "code",
     "collapsed": false,
     "input": [],
     "language": "python",
     "metadata": {},
     "outputs": [],
     "prompt_number": 48
    },
    {
     "cell_type": "code",
     "collapsed": false,
     "input": [],
     "language": "python",
     "metadata": {},
     "outputs": [],
     "prompt_number": 48
    },
    {
     "cell_type": "code",
     "collapsed": false,
     "input": [],
     "language": "python",
     "metadata": {},
     "outputs": []
    },
    {
     "cell_type": "code",
     "collapsed": false,
     "input": [],
     "language": "python",
     "metadata": {},
     "outputs": [],
     "prompt_number": 4
    },
    {
     "cell_type": "code",
     "collapsed": false,
     "input": [],
     "language": "python",
     "metadata": {},
     "outputs": [],
     "prompt_number": 5
    },
    {
     "cell_type": "code",
     "collapsed": false,
     "input": [],
     "language": "python",
     "metadata": {},
     "outputs": [],
     "prompt_number": 6
    },
    {
     "cell_type": "code",
     "collapsed": false,
     "input": [],
     "language": "python",
     "metadata": {},
     "outputs": [],
     "prompt_number": 7
    },
    {
     "cell_type": "code",
     "collapsed": false,
     "input": [],
     "language": "python",
     "metadata": {},
     "outputs": [],
     "prompt_number": 20
    },
    {
     "cell_type": "code",
     "collapsed": false,
     "input": [],
     "language": "python",
     "metadata": {},
     "outputs": [],
     "prompt_number": 9
    },
    {
     "cell_type": "code",
     "collapsed": false,
     "input": [],
     "language": "python",
     "metadata": {},
     "outputs": [],
     "prompt_number": 10
    },
    {
     "cell_type": "code",
     "collapsed": false,
     "input": [],
     "language": "python",
     "metadata": {},
     "outputs": [],
     "prompt_number": 11
    },
    {
     "cell_type": "code",
     "collapsed": false,
     "input": [],
     "language": "python",
     "metadata": {},
     "outputs": [],
     "prompt_number": 12
    },
    {
     "cell_type": "code",
     "collapsed": false,
     "input": [],
     "language": "python",
     "metadata": {},
     "outputs": [],
     "prompt_number": 13
    },
    {
     "cell_type": "code",
     "collapsed": true,
     "input": [],
     "language": "python",
     "metadata": {},
     "outputs": [
      {
       "metadata": {},
       "output_type": "pyout",
       "prompt_number": 18,
       "text": [
        "array([ 43.32432432,  40.94594595,  39.13513514, ...,  33.02702703,\n",
        "        33.08108108,  32.86486486])"
       ]
      }
     ],
     "prompt_number": 18
    },
    {
     "cell_type": "code",
     "collapsed": false,
     "input": [],
     "language": "python",
     "metadata": {},
     "outputs": [
      {
       "metadata": {},
       "output_type": "pyout",
       "prompt_number": 10,
       "text": [
        "dict"
       ]
      }
     ],
     "prompt_number": 10
    },
    {
     "cell_type": "code",
     "collapsed": false,
     "input": [],
     "language": "python",
     "metadata": {},
     "outputs": []
    }
   ],
   "metadata": {}
  }
 ]
}