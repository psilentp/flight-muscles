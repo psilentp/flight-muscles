{
 "cells": [
  {
   "cell_type": "code",
   "execution_count": 1,
   "metadata": {
    "collapsed": true
   },
   "outputs": [],
   "source": [
    "%matplotlib inline\n",
    "%config InlineBackend.figure_format = 'svg' #svg\n",
    "import pylab as plb # this notebook is for plotting\n",
    "import numpy as np\n",
    "import scipy as sp\n",
    "import flylib as flb\n",
    "import group_data as gd\n",
    "plb.rcParams['pdf.fonttype'] = 42 #allows text in saved .pdf files to be edited in illustrator\n",
    "plb.rcParams['font.size'] = 7 #\n",
    "plb.rcParams['font.stretch'] =  0\n",
    "plb.rcParams['image.interpolation'] = 'Nearest'\n",
    "plb.rcParams['image.cmap'] = 'BrBG'\n",
    "import warnings\n",
    "warnings.filterwarnings('ignore')"
   ]
  },
  {
   "cell_type": "code",
   "execution_count": 2,
   "metadata": {
    "collapsed": true
   },
   "outputs": [],
   "source": [
    "def filter_mtrx_linear(lmr_mtrx,lc,hc):\n",
    "    \"\"\"fiter left-right data using a bandpass filter\"\"\"\n",
    "    return np.apply_along_axis(flb.butter_bandpass_filter,1,lmr_mtrx,lc,hc,0.021)\n",
    "\n",
    "def filter_mtrx_nonlinear(lmr_mtrx,kernel_size=12,mysize=21):\n",
    "    \"\"\"filter using a median filter followed by wiener filter\"\"\"\n",
    "    from scipy import signal\n",
    "    trenddata = np.apply_along_axis(signal.medfilt,1,lmr_mtrx,kernel_size = kernel_size)\n",
    "    detrend = lmr_mtrx-trenddata\n",
    "    detrend[np.isnan(detrend)] = 0\n",
    "    return np.apply_along_axis(signal.wiener,1,detrend,mysize =mysize)\n",
    "    \n",
    "def detect_saccades(lmr_mtrx,p0=0.5,p1=2,thresh=0.2,linear = True):\n",
    "    \"\"\"filter data then detect saccades over some threshold\"\"\"\n",
    "    if linear:\n",
    "        sac_band = filter_mtrx_linear(lmr_mtrx,p0,p1)\n",
    "    else:\n",
    "        sac_band = filter_mtrx_nonlinear(lmr_mtrx,p0,p1)\n",
    "    event_lists = [flb.idx_by_thresh(sweep,thresh) for sweep in abs(sac_band)]\n",
    "    event_lists = [[event for event in event_list if \n",
    "                    (len(event)>0) and not(event is None)] for event_list in event_lists if event_list]\n",
    "    return event_lists,sac_band\n",
    "\n",
    "def convert_events_to_mtrx(event_lists,output_shape,scalings = 1):\n",
    "    \"\"\"loop through the detected events to create a matrix of binary\n",
    "    classified samples - output shape should match the dimensions matrix\n",
    "    of wingstroke data that was input to the detect_saccades function\"\"\"\n",
    "    event_mtrx = np.zeros(output_shape)\n",
    "    if type(scalings) is list:\n",
    "        for i,(elist,slist) in enumerate(zip(event_lists,scalings)):\n",
    "            for event,scailing in zip(elist,slist):\n",
    "                event_mtrx[i,event] = scailing\n",
    "        return event_mtrx\n",
    "    for i,elist in enumerate(event_lists):\n",
    "        for event in elist:\n",
    "            event_mtrx[i,event] = scalings\n",
    "    return (event_mtrx > 0)\n",
    "\n",
    "def get_putative_saccade_mtrx(p0,p1,thresh,linear = True):\n",
    "    \"\"\"apply detect_saccades and then convert to matrix use to evaluate true positive\n",
    "    and false positive rates\"\"\"\n",
    "    putative_saccades = detect_saccades(ground_truth_lmr,p0,p1,thresh,linear)\n",
    "    putative_saccade_mtrx = convert_events_to_mtrx(putative_saccades[0],np.shape(ground_truth_lmr))\n",
    "    return (putative_saccade_mtrx > 0)"
   ]
  },
  {
   "cell_type": "code",
   "execution_count": 3,
   "metadata": {
    "collapsed": false
   },
   "outputs": [
    {
     "ename": "IOError",
     "evalue": "[Errno 2] No such file or directory: 'chosen_filter_settings.cpkl'",
     "output_type": "error",
     "traceback": [
      "\u001b[1;31m---------------------------------------------------------------------------\u001b[0m",
      "\u001b[1;31mIOError\u001b[0m                                   Traceback (most recent call last)",
      "\u001b[1;32m<ipython-input-3-2afda4cbb703>\u001b[0m in \u001b[0;36m<module>\u001b[1;34m()\u001b[0m\n\u001b[0;32m      3\u001b[0m \u001b[1;31m#with open('chosen_fiter_settings.cpkl','wb') as f:\u001b[0m\u001b[1;33m\u001b[0m\u001b[1;33m\u001b[0m\u001b[0m\n\u001b[0;32m      4\u001b[0m \u001b[1;31m#    cPickle.dump(chosen_settings,f)\u001b[0m\u001b[1;33m\u001b[0m\u001b[1;33m\u001b[0m\u001b[0m\n\u001b[1;32m----> 5\u001b[1;33m \u001b[1;32mwith\u001b[0m \u001b[0mopen\u001b[0m\u001b[1;33m(\u001b[0m\u001b[1;34m'chosen_filter_settings.cpkl'\u001b[0m\u001b[1;33m,\u001b[0m\u001b[1;34m'rb'\u001b[0m\u001b[1;33m)\u001b[0m \u001b[1;32mas\u001b[0m \u001b[0mf\u001b[0m\u001b[1;33m:\u001b[0m\u001b[1;33m\u001b[0m\u001b[0m\n\u001b[0m\u001b[0;32m      6\u001b[0m     \u001b[0mchosen_settings\u001b[0m \u001b[1;33m=\u001b[0m \u001b[0mcPickle\u001b[0m\u001b[1;33m.\u001b[0m\u001b[0mload\u001b[0m\u001b[1;33m(\u001b[0m\u001b[0mf\u001b[0m\u001b[1;33m)\u001b[0m\u001b[1;33m\u001b[0m\u001b[0m\n",
      "\u001b[1;31mIOError\u001b[0m: [Errno 2] No such file or directory: 'chosen_filter_settings.cpkl'"
     ]
    }
   ],
   "source": [
    "#store the selected filter setting in a dictionary. Pickle for later use\n",
    "import cPickle\n",
    "#with open('chosen_fiter_settings.cpkl','wb') as f:\n",
    "#    cPickle.dump(chosen_settings,f)\n",
    "with open('chosen_filter_settings.cpkl','rb') as f:\n",
    "    chosen_settings = cPickle.load(f)"
   ]
  },
  {
   "cell_type": "code",
   "execution_count": null,
   "metadata": {
    "collapsed": true
   },
   "outputs": [],
   "source": []
  }
 ],
 "metadata": {
  "kernelspec": {
   "display_name": "Python 2",
   "language": "python",
   "name": "python2"
  },
  "language_info": {
   "codemirror_mode": {
    "name": "ipython",
    "version": 2
   },
   "file_extension": ".py",
   "mimetype": "text/x-python",
   "name": "python",
   "nbconvert_exporter": "python",
   "pygments_lexer": "ipython2",
   "version": "2.7.11"
  }
 },
 "nbformat": 4,
 "nbformat_minor": 0
}
