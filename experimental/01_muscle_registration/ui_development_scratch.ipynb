{
 "metadata": {
  "name": "",
  "signature": "sha256:f4d58ae4073a91b5f2244cb26b4da489666ae1ce600d7b550c70250ba1200fa7"
 },
 "nbformat": 3,
 "nbformat_minor": 0,
 "worksheets": [
  {
   "cells": [
    {
     "cell_type": "code",
     "collapsed": false,
     "input": [
      "import db_access as dba"
     ],
     "language": "python",
     "metadata": {},
     "outputs": [],
     "prompt_number": 1
    },
    {
     "cell_type": "code",
     "collapsed": false,
     "input": [
      "dba.root_dir"
     ],
     "language": "python",
     "metadata": {},
     "outputs": [
      {
       "metadata": {},
       "output_type": "pyout",
       "prompt_number": 2,
       "text": [
        "'/media/FlyDataB/FlyDB/'"
       ]
      }
     ],
     "prompt_number": 2
    },
    {
     "cell_type": "code",
     "collapsed": false,
     "input": [
      "'%04d'%(188)"
     ],
     "language": "python",
     "metadata": {},
     "outputs": [
      {
       "metadata": {},
       "output_type": "pyout",
       "prompt_number": 4,
       "text": [
        "'0188'"
       ]
      }
     ],
     "prompt_number": 4
    },
    {
     "cell_type": "code",
     "collapsed": false,
     "input": [
      "fly_db = dba.get_db()"
     ],
     "language": "python",
     "metadata": {},
     "outputs": [],
     "prompt_number": 2
    },
    {
     "cell_type": "code",
     "collapsed": false,
     "input": [
      "item_dict = list()\n",
      "\n",
      "for key,fly in zip(fly_db.keys(),fly_db.values()):\n",
      "    try:\n",
      "        exp1 = fly['experiments'].values()[0]\n",
      "        exptype = fly['experiments'].keys()[0]\n",
      "        if 'tiff_data' in exp1.keys():\n",
      "            #item_list.append('fly%s'%key)\n",
      "            item = QtGui.QTreeWidgetItem(None,['fly%s'%key])\n",
      "            for img_key in ['images','refstack']:\n",
      "                try:\n",
      "                    data_ref = exp1['tiff_data'][img_key]\n",
      "                    child = QtGui.QTreeWidgetItem(None,['fly%s'%key])\n",
      "                    child.setData(0,32,data_ref)\n",
      "                    item.insertChild(0,child)\n",
      "                    \n",
      "                    #print (img_key,np.shape(exp1['tiff_data'][img_key]))\n",
      "                except KeyError:\n",
      "                    print img_key\n",
      "    except KeyError:\n",
      "        print key"
     ],
     "language": "python",
     "metadata": {},
     "outputs": [
      {
       "output_type": "stream",
       "stream": "stdout",
       "text": [
        "('images', (20000, 130, 174))\n",
        "refstack\n",
        "('images', (20000, 130, 174))\n",
        "refstack\n",
        "('images', (20000, 130, 174))\n",
        "refstack\n",
        "('images', (20000, 130, 174))\n",
        "refstack\n",
        "('images', (20000, 130, 174))\n",
        "refstack\n",
        "('images', (37000, 130, 174))\n",
        "refstack\n",
        "('images', (37000, 130, 174))\n",
        "refstack\n",
        "('images', (37000, 130, 174))\n",
        "refstack\n",
        "('images', (37000, 130, 174))\n",
        "refstack\n",
        "('images', (37000, 130, 174))\n",
        "refstack\n",
        "('images', (37000, 130, 174))\n",
        "refstack\n",
        "('images', (37000, 130, 174))\n",
        "refstack\n",
        "('images', (37000, 130, 174))\n",
        "refstack\n",
        "('images', (37000, 130, 174))\n",
        "refstack\n",
        "('images', (37000, 130, 174))\n",
        "refstack\n",
        "('images', (37000, 130, 174))\n",
        "refstack\n",
        "('images', (37000, 130, 174))\n",
        "refstack\n",
        "('images', (37000, 130, 174))\n",
        "refstack\n",
        "('images', (36000, 130, 174))\n",
        "refstack\n",
        "('images', (36000, 130, 174))\n",
        "refstack\n",
        "('images', (36000, 130, 174))\n",
        "refstack\n",
        "('images', (36000, 130, 174))\n",
        "refstack\n",
        "('images', (36000, 130, 174))\n",
        "refstack\n",
        "('images', (36000, 130, 174))\n",
        "refstack\n",
        "('images', (55000, 130, 174))\n",
        "refstack\n",
        "('images', (55000, 130, 174))\n",
        "refstack\n",
        "('images', (55000, 130, 174))\n",
        "refstack\n",
        "('images', (55000, 130, 174))\n",
        "refstack\n",
        "('images', (55000, 130, 174))\n",
        "refstack\n",
        "('images', (55000, 130, 174))\n",
        "refstack\n",
        "('images', (10000, 130, 174))\n",
        "refstack\n",
        "('images', (10000, 130, 174))\n",
        "refstack\n",
        "('images', (10000, 130, 174))\n",
        "refstack\n",
        "('images', (10000, 130, 174))\n",
        "refstack\n",
        "('images', (30143, 130, 174))\n",
        "refstack\n",
        "('images', (30000, 130, 174))\n",
        "refstack\n",
        "218\n",
        "('images', (30144, 130, 174))\n",
        "refstack\n",
        "('images', (30000, 130, 174))\n",
        "refstack\n",
        "('images', (30000, 130, 174))\n",
        "refstack\n",
        "('images', (30000, 130, 174))\n",
        "refstack\n",
        "('images', (30000, 130, 174))\n",
        "refstack\n",
        "('images', (30000, 130, 174))\n",
        "refstack\n",
        "('images', (30000, 130, 174))\n",
        "refstack\n",
        "('images', (30000, 130, 174))\n",
        "refstack\n",
        "('images', (30000, 130, 174))\n",
        "refstack\n",
        "('images', (30000, 130, 174))\n",
        "refstack\n",
        "('images', (30000, 130, 174))\n",
        "refstack\n",
        "('images', (30000, 130, 174))\n",
        "refstack\n",
        "('images', (30000, 130, 174))\n",
        "refstack\n",
        "('images', (30000, 130, 174))\n",
        "refstack\n",
        "('images', (55000, 130, 174))\n",
        "refstack\n",
        "('images', (70000, 130, 174))\n",
        "refstack\n",
        "('images', (70000, 130, 174))\n",
        "refstack\n",
        "('images', (75000, 130, 174))\n",
        "refstack\n",
        "('images', (35000, 130, 174))\n",
        "refstack\n",
        "('images', (35000, 130, 174))\n",
        "refstack\n",
        "('images', (35000, 130, 174))\n",
        "refstack\n",
        "('images', (35000, 130, 174))\n",
        "refstack\n",
        "('images', (30000, 130, 174))\n",
        "refstack\n",
        "('images', (30000, 130, 174))\n",
        "refstack\n",
        "('images', (30000, 130, 174))\n",
        "refstack\n",
        "('images', (30000, 130, 174))\n",
        "refstack\n"
       ]
      }
     ],
     "prompt_number": 25
    },
    {
     "cell_type": "code",
     "collapsed": false,
     "input": [
      "from pyqtgraph.Qt import QtCore, QtGui"
     ],
     "language": "python",
     "metadata": {},
     "outputs": [],
     "prompt_number": 27
    },
    {
     "cell_type": "code",
     "collapsed": false,
     "input": [
      "import pyqtgraph.Qt"
     ],
     "language": "python",
     "metadata": {},
     "outputs": [],
     "prompt_number": 28
    },
    {
     "cell_type": "code",
     "collapsed": false,
     "input": [],
     "language": "python",
     "metadata": {},
     "outputs": [
      {
       "metadata": {},
       "output_type": "pyout",
       "prompt_number": 45,
       "text": [
        "32"
       ]
      }
     ],
     "prompt_number": 45
    },
    {
     "cell_type": "code",
     "collapsed": false,
     "input": [
      "ir = QtCore.Qt.ItemDataRole"
     ],
     "language": "python",
     "metadata": {},
     "outputs": [],
     "prompt_number": 40
    },
    {
     "cell_type": "code",
     "collapsed": false,
     "input": [
      "ir.UserRole"
     ],
     "language": "python",
     "metadata": {},
     "outputs": [
      {
       "ename": "AttributeError",
       "evalue": "type object 'ItemDataRole' has no attribute 'UserRole'",
       "output_type": "pyerr",
       "traceback": [
        "\u001b[1;31m---------------------------------------------------------------------------\u001b[0m\n\u001b[1;31mAttributeError\u001b[0m                            Traceback (most recent call last)",
        "\u001b[1;32m<ipython-input-43-1e6e24e1ce98>\u001b[0m in \u001b[0;36m<module>\u001b[1;34m()\u001b[0m\n\u001b[1;32m----> 1\u001b[1;33m \u001b[0mir\u001b[0m\u001b[1;33m.\u001b[0m\u001b[0mUserRole\u001b[0m\u001b[1;33m\u001b[0m\u001b[0m\n\u001b[0m",
        "\u001b[1;31mAttributeError\u001b[0m: type object 'ItemDataRole' has no attribute 'UserRole'"
       ]
      }
     ],
     "prompt_number": 43
    },
    {
     "cell_type": "code",
     "collapsed": false,
     "input": [],
     "language": "python",
     "metadata": {},
     "outputs": []
    }
   ],
   "metadata": {}
  }
 ]
}